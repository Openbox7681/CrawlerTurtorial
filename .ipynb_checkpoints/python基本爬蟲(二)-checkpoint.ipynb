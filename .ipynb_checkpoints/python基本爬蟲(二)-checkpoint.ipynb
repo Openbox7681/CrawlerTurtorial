{
 "cells": [
  {
   "cell_type": "markdown",
   "metadata": {},
   "source": [
    "### 爬蟲初探\n",
    "\n",
    "如何透過程式，取出[範例網頁](https://jimmy15923.github.io/example_page)中的大標題「Python 爬蟲實戰」?\n",
    "\n",
    "請打開[範例網頁: https://jimmy15923.github.io/example_page](https://jimmy15923.github.io/example_page)，並在「Python 爬蟲實戰」的文字上按右鍵 → 檢查，可以看到這段文字被包在 h1 的標籤中"
   ]
  },
  {
   "cell_type": "code",
   "execution_count": 3,
   "metadata": {
    "collapsed": false
   },
   "outputs": [],
   "source": [
    "# import 套件\n",
    "import requests\n",
    "from bs4 import BeautifulSoup\n",
    "\n"
   ]
  },
  {
   "cell_type": "code",
   "execution_count": 4,
   "metadata": {
    "collapsed": true
   },
   "outputs": [],
   "source": [
    "r = requests.get('https://api.github.com/events')\n"
   ]
  },
  {
   "cell_type": "code",
   "execution_count": 6,
   "metadata": {
    "collapsed": false
   },
   "outputs": [
    {
     "data": {
      "text/plain": [
       "'https://api.github.com/events'"
      ]
     },
     "execution_count": 6,
     "metadata": {},
     "output_type": "execute_result"
    }
   ],
   "source": [
    "r.url\n",
    "r.status_code\n",
    "r.text\n",
    "r.json()"
   ]
  },
  {
   "cell_type": "markdown",
   "metadata": {},
   "source": [
    "取得 'avatar_url': 'https://avatars.githubusercontent.com/u/1036482?'\n",
    "json長度多少？"
   ]
  },
  {
   "cell_type": "code",
   "execution_count": 19,
   "metadata": {
    "collapsed": false
   },
   "outputs": [
    {
     "data": {
      "text/plain": [
       "'https://avatars.githubusercontent.com/u/39837528?'"
      ]
     },
     "execution_count": 19,
     "metadata": {},
     "output_type": "execute_result"
    }
   ],
   "source": [
    "r.json()[0]['actor']['avatar_url']"
   ]
  },
  {
   "cell_type": "code",
   "execution_count": 20,
   "metadata": {
    "collapsed": false
   },
   "outputs": [
    {
     "data": {
      "text/plain": [
       "30"
      ]
     },
     "execution_count": 20,
     "metadata": {},
     "output_type": "execute_result"
    }
   ],
   "source": [
    "len(r.json())"
   ]
  },
  {
   "cell_type": "code",
   "execution_count": 33,
   "metadata": {
    "collapsed": true
   },
   "outputs": [],
   "source": [
    "# import 套件\n",
    "import requests\n",
    "\n",
    "\n",
    "from bs4 import BeautifulSoup"
   ]
  },
  {
   "cell_type": "code",
   "execution_count": 21,
   "metadata": {
    "collapsed": false
   },
   "outputs": [
    {
     "data": {
      "text/plain": [
       "<Response [200]>"
      ]
     },
     "execution_count": 21,
     "metadata": {},
     "output_type": "execute_result"
    }
   ],
   "source": [
    "response = requests.get(\"https://jimmy15923.github.io/example_page\")\n",
    "\n",
    "response\n",
    "\n"
   ]
  },
  {
   "cell_type": "code",
   "execution_count": 28,
   "metadata": {
    "collapsed": false
   },
   "outputs": [],
   "source": [
    "# 用 BS4 解析 HTML 並把結果回傳 soup (lxml 是 BeautifulSoup 的解析器，預設是使用 html.parser，但是 lxml 的速度及性能較佳)\n",
    "soup = BeautifulSoup(response.text, \"lxml\")"
   ]
  },
  {
   "cell_type": "code",
   "execution_count": 57,
   "metadata": {
    "collapsed": false
   },
   "outputs": [
    {
     "data": {
      "text/plain": [
       "<a href=\"http://foundation.datasci.tw/python-crawling-170813/\" id=\"hyperlink\"> 列3 欄3 (資料協會-python 爬蟲實戰)</a>"
      ]
     },
     "execution_count": 57,
     "metadata": {},
     "output_type": "execute_result"
    }
   ],
   "source": [
    "# soup.find_all(\"table\")[0].find_all(\"td\")[6].find_all(\"a\")[0]\n",
    "soup.find_all(\"table\")[0].find_all(\"td\")[6].find(\"a\")"
   ]
  },
  {
   "cell_type": "code",
   "execution_count": 58,
   "metadata": {
    "collapsed": false
   },
   "outputs": [
    {
     "name": "stdout",
     "output_type": "stream",
     "text": [
      " 列3 欄3 (資料協會-python 爬蟲實戰)\n",
      "http://foundation.datasci.tw/python-crawling-170813/\n"
     ]
    }
   ],
   "source": [
    "print(soup.find_all(\"table\")[0].find_all(\"td\")[6].find(\"a\").getText())\n",
    "print(soup.find_all(\"table\")[0].find_all(\"td\")[6].find(\"a\").get('href'))\n",
    "\n",
    "\n",
    "\n"
   ]
  },
  {
   "cell_type": "markdown",
   "metadata": {},
   "source": [
    "### 練習\n",
    "#### 取出 yahoo的網址 與資料"
   ]
  },
  {
   "cell_type": "code",
   "execution_count": 70,
   "metadata": {
    "collapsed": false
   },
   "outputs": [],
   "source": [
    "result = soup.find_all(\"table\")[0].find_all(\"tr\")[1].find_all(\"td\")[2].find(\"a\")"
   ]
  },
  {
   "cell_type": "code",
   "execution_count": 71,
   "metadata": {
    "collapsed": false
   },
   "outputs": [
    {
     "name": "stdout",
     "output_type": "stream",
     "text": [
      "http://www.yahoo.com.tw\n"
     ]
    }
   ],
   "source": [
    "print(result.get(\"href\"))"
   ]
  },
  {
   "cell_type": "code",
   "execution_count": 73,
   "metadata": {
    "collapsed": false
   },
   "outputs": [
    {
     "name": "stdout",
     "output_type": "stream",
     "text": [
      "列2 欄3 (我是 a 標籤，屬性 href=網址) \n"
     ]
    }
   ],
   "source": [
    "print(result.text)"
   ]
  },
  {
   "cell_type": "code",
   "execution_count": null,
   "metadata": {
    "collapsed": true
   },
   "outputs": [],
   "source": []
  },
  {
   "cell_type": "code",
   "execution_count": 91,
   "metadata": {
    "collapsed": false
   },
   "outputs": [],
   "source": [
    "\n",
    "\n",
    "\n",
    "response2 = requests.get(url)"
   ]
  },
  {
   "cell_type": "code",
   "execution_count": 92,
   "metadata": {
    "collapsed": false
   },
   "outputs": [
    {
     "data": {
      "text/plain": [
       "200"
      ]
     },
     "execution_count": 92,
     "metadata": {},
     "output_type": "execute_result"
    }
   ],
   "source": [
    "response2.status_code\n"
   ]
  },
  {
   "cell_type": "code",
   "execution_count": 93,
   "metadata": {
    "collapsed": false
   },
   "outputs": [
    {
     "data": {
      "text/plain": [
       "'<!DOCTYPE html><html lang=\"zh-TW\"><head> <script>(function(i,s,o,g,r,a,m){i[\\'GoogleAnalyticsObject\\']=r;i[r]=i[r]||function(){\\n(i[r].q=i[r].q||[]).push(arguments)},i[r].l=1*new Date();a=s.createElement(o),\\nm=s.getElementsByTagName(o)[0];a.async=1;a.src=g;m.parentNode.insertBefore(a,m)\\n})(window,document,\\'script\\',\\'https://www.google-analytics.com/analytics.js\\',\\'ga\\');\\nga(\\'create\\', \\'UA-50828306-5\\', \\'auto\\');\\nga(\\'send\\', \\'pageview\\');   var _paq = _paq || [];\\n  _paq.push([\\'trackPageView\\']);\\n  _paq.push([\\'enableLinkTracking\\']);\\n  (function() {\\n    var u=\"//foundation.datasci.tw/piwik/\";\\n    _paq.push([\\'setTrackerUrl\\', u+\\'piwik.php\\']);\\n    _paq.push([\\'setSiteId\\', \\'1\\']);\\n    var d=document, g=d.createElement(\\'script\\'), s=d.getElementsByTagName(\\'script\\')[0];\\n    g.type=\\'text/javascript\\'; g.async=true; g.defer=true; g.src=u+\\'piwik.js\\'; s.parentNode.insertBefore(g,s);\\n  })();</script> <meta charset=\"UTF-8\" /><title>首頁 - 台灣資料科學協會</title><meta name=\"viewport\" content=\"width=device-width,initial-scale=1,user-scalable=no\"><link rel=\"profile\" href=\"http://gmpg.org/xfn/11\" /><link rel=\"pingback\" href=\"http://foundation.datasci.tw/xmlrpc.php\" /> <script>R=1690;Q=500;C=5;</script> <link rel=\"shortcut icon\" type=\"image/x-icon\" href=\"http://tdsf.iis.sinica.edu.tw/wp-content/uploads/2016/10/favicon-20160909103531866.ico\"><link rel=\"apple-touch-icon\" href=\"http://tdsf.iis.sinica.edu.tw/wp-content/uploads/2016/10/favicon-20160909103531866.ico\"/><link href=\\'//fonts.googleapis.com/css?family=Raleway:100,200,300,400,500,600,700,800,900,300italic,400italic\\' rel=\\'stylesheet\\' type=\\'text/css\\'><meta name=\"description\" content=\"本協會旨在推廣資料科學的認知、技術及應用，期待能透過演講、資料分析上手教學課程、心得分享、資料交流等各種形式，將我們對於資料科學的熱情傳達給大眾，幫助與會聽眾瞭解資料科學的魅力，進入資料科學的領域，進而一起探索與開發資料科學的潛力，更重要是能促使將資料科學引入每個人的專業領域之中，帶來新的創新及價值。\"/><link rel=\"canonical\" href=\"http://foundation.datasci.tw/\" /> <script type=\\'application/ld+json\\'>{\"@context\":\"http:\\\\/\\\\/schema.org\",\"@type\":\"WebSite\",\"@id\":\"#website\",\"url\":\"http:\\\\/\\\\/foundation.datasci.tw\\\\/\",\"name\":\"\\\\u53f0\\\\u7063\\\\u8cc7\\\\u6599\\\\u79d1\\\\u5b78\\\\u5354\\\\u6703\",\"potentialAction\":{\"@type\":\"SearchAction\",\"target\":\"http:\\\\/\\\\/foundation.datasci.tw\\\\/?s={search_term_string}\",\"query-input\":\"required name=search_term_string\"}}</script> <script type=\\'application/ld+json\\'>{\"@context\":\"http:\\\\/\\\\/schema.org\",\"@type\":\"Organization\",\"url\":\"http:\\\\/\\\\/foundation.datasci.tw\\\\/\",\"sameAs\":[\"https:\\\\/\\\\/www.facebook.com\\\\/twdsconf\\\\/\"],\"@id\":\"#organization\",\"name\":\"\\\\u53f0\\\\u7063\\\\u8cc7\\\\u6599\\\\u79d1\\\\u5b78\\\\u5354\\\\u6703\",\"logo\":\"http:\\\\/\\\\/foundation.datasci.tw\\\\/wp-content\\\\/uploads\\\\/2017\\\\/07\\\\/foundation_logo.png\"}</script> <link rel=\"alternate\" type=\"application/rss+xml\" title=\"訂閱 台灣資料科學協會 &raquo;\" href=\"http://foundation.datasci.tw/feed/\" /><link rel=\"alternate\" type=\"application/rss+xml\" title=\"訂閱 台灣資料科學協會 &raquo; 迴響\" href=\"http://foundation.datasci.tw/comments/feed/\" /><link rel=\\'stylesheet\\' id=\\'fvm-header-0-css\\'  href=\\'//foundation.datasci.tw/wp-content/uploads/fvm/cache/header-d3555449-1511058200.min.css?v=8\\' type=\\'text/css\\' media=\\'all\\' /> <script type=\\'text/javascript\\' src=\\'//foundation.datasci.tw/wp-content/uploads/fvm/cache/header-cb050ccd-1511058200.min.js?v=8\\'></script> <link rel=\\'https://api.w.org/\\' href=\\'http://foundation.datasci.tw/wp-json/\\' /><link rel=\"EditURI\" type=\"application/rsd+xml\" title=\"RSD\" href=\"http://foundation.datasci.tw/xmlrpc.php?rsd\" /><link rel=\"wlwmanifest\" type=\"application/wlwmanifest+xml\" href=\"http://foundation.datasci.tw/wp-includes/wlwmanifest.xml\" /><link rel=\\'shortlink\\' href=\\'http://foundation.datasci.tw/\\' /><link rel=\"alternate\" type=\"application/json+oembed\" href=\"http://foundation.datasci.tw/wp-json/oembed/1.0/embed?url=http%3A%2F%2Ffoundation.datasci.tw%2F\" /><link rel=\"alternate\" type=\"text/xml+oembed\" href=\"http://foundation.datasci.tw/wp-json/oembed/1.0/embed?url=http%3A%2F%2Ffoundation.datasci.tw%2F&#038;format=xml\" /><style type=\"text/css\">.recentcomments a{display:inline !important;padding:0 !important;margin:0 !important;}</style><!--[if lte IE 9]><link rel=\"stylesheet\" type=\"text/css\" href=\"http://foundation.datasci.tw/wp-content/plugins/js_composer/assets/css/vc_lte_ie9.min.css\" media=\"screen\"><![endif]--><!--[if IE  8]><link rel=\"stylesheet\" type=\"text/css\" href=\"http://foundation.datasci.tw/wp-content/plugins/js_composer/assets/css/vc-ie8.min.css\" media=\"screen\"><![endif]--><style type=\"text/css\">.broken_link, a.broken_link { text-decoration: line-through; }</style><noscript><style type=\"text/css\">.wpb_animate_when_almost_visible { opacity: 1; }</style></noscript><link rel=\"stylesheet\" href=\"/c/font_setup.css\" type=\"text/css\" media=\"all\"></head><body class=\"home page-template-default page page-id-1194  qode-theme-ver-10.0 wpb-js-composer js-comp-ver-4.12.1 vc_responsive\" itemscope itemtype=\"http://schema.org/WebPage\"><div class=\"wrapper\"><div class=\"wrapper_inner\"><header class=\" scroll_header_top_area  fixed scrolled_not_transparent with_hover_bg_color header_style_on_scroll page_header\"><div class=\"header_inner clearfix\"><form role=\"search\" action=\"http://foundation.datasci.tw/\" class=\"qode_search_form_3\" method=\"get\"><div class=\"container\"><div class=\"container_inner clearfix\"><div class=\"form_holder_outer\"><div class=\"form_holder\"> <input type=\"text\" placeholder=\"Search\" name=\"s\" class=\"qode_search_field\" autocomplete=\"off\" /><div class=\"qode_search_close\"> <a href=\"#\"> <i class=\"qode_icon_font_awesome fa fa-times \" ></i> </a></div></div></div></div></div></form><div class=\"header_top_bottom_holder\"><div class=\"header_bottom clearfix\" style=\\'\\' ><div class=\"container\"><div class=\"container_inner clearfix\"><div class=\"header_inner_left\"><div class=\"mobile_menu_button\"> <span> <i class=\"qode_icon_font_awesome fa fa-bars \" ></i> </span></div><div class=\"logo_wrapper\"><div class=\"q_logo\"> <a itemprop=\"url\" href=\"http://foundation.datasci.tw/\"> <img itemprop=\"image\" class=\"normal\" src=\"http://tdsf.iis.sinica.edu.tw/wp-content/uploads/2016/10/logo-500x152.png\" alt=\"Logo\"/> <img itemprop=\"image\" class=\"light\" src=\"http://tdsf.iis.sinica.edu.tw/wp-content/uploads/2016/10/logo-500x152.png\" alt=\"Logo\"/> <img itemprop=\"image\" class=\"dark\" src=\"http://tdsf.iis.sinica.edu.tw/wp-content/uploads/2016/10/logo-500x152.png\" alt=\"Logo\"/> <img itemprop=\"image\" class=\"sticky\" src=\"http://foundation.datasci.tw/wp-content/themes/bridge/img/logo_black.png\" alt=\"Logo\"/> <img itemprop=\"image\" class=\"mobile\" src=\"http://tdsf.iis.sinica.edu.tw/wp-content/uploads/2016/10/logo-500x152.png\" alt=\"Logo\"/> </a></div></div></div><div class=\"header_inner_right\"><div class=\"side_menu_button_wrapper right\"><div class=\"side_menu_button\"> <a class=\"search_button search_covers_header normal\" href=\"javascript:void(0)\"> <i class=\"qode_icon_font_awesome fa fa-search \" ></i> </a></div></div></div> <nav class=\"main_menu drop_down right\"><ul id=\"menu-tdsf_menu\" class=\"\"><li id=\"nav-menu-item-33\" class=\"menu-item menu-item-type-post_type menu-item-object-page menu-item-has-children  has_sub narrow\"><a href=\"http://foundation.datasci.tw/about/\" class=\" no_link\" style=\"cursor: default;\" onclick=\"JavaScript: return false;\"><i class=\"menu_icon blank fa\"></i><span>關於我們</span><span class=\"plus\"></span></a><div class=\"second\"><div class=\"inner\"><ul><li id=\"nav-menu-item-537\" class=\"menu-item menu-item-type-post_type menu-item-object-page \"><a href=\"http://foundation.datasci.tw/about/aboutus/\" class=\"\"><i class=\"menu_icon blank fa\"></i><span>關於協會</span><span class=\"plus\"></span></a></li><li id=\"nav-menu-item-1128\" class=\"menu-item menu-item-type-post_type menu-item-object-page \"><a href=\"http://foundation.datasci.tw/articles-of-association/\" class=\"\"><i class=\"menu_icon blank fa\"></i><span>組織章程</span><span class=\"plus\"></span></a></li><li id=\"nav-menu-item-535\" class=\"menu-item menu-item-type-post_type menu-item-object-page \"><a href=\"http://foundation.datasci.tw/about/organization/\" class=\"\"><i class=\"menu_icon blank fa\"></i><span>組織架構</span><span class=\"plus\"></span></a></li><li id=\"nav-menu-item-536\" class=\"menu-item menu-item-type-post_type menu-item-object-page \"></li></ul></div></div></li><li id=\"nav-menu-item-1152\" class=\"menu-item menu-item-type-custom menu-item-object-custom menu-item-has-children  has_sub narrow\"><a href=\"#\" class=\"\"><i class=\"menu_icon blank fa\"></i><span>課程資訊</span><span class=\"plus\"></span></a><div class=\"second\"><div class=\"inner\"><ul><li id=\"nav-menu-item-1150\" class=\"menu-item menu-item-type-post_type menu-item-object-page \"><a href=\"http://foundation.datasci.tw/learning-map/\" class=\"\"><i class=\"menu_icon blank fa\"></i><span>學習地圖</span><span class=\"plus\"></span></a></li><li id=\"nav-menu-item-1006\" class=\"menu-item menu-item-type-taxonomy menu-item-object-category \"><a href=\"http://foundation.datasci.tw/category/courses/\" class=\"\"><i class=\"menu_icon blank fa\"></i><span>課程列表</span><span class=\"plus\"></span></a></li><li id=\"nav-menu-item-766\" class=\"menu-item menu-item-type-post_type menu-item-object-page \"><a href=\"http://foundation.datasci.tw/contact/cooperation/\" class=\"\"><i class=\"menu_icon blank fa\"></i><span>合作專案</span><span class=\"plus\"></span></a></li></ul></div></div></li><li id=\"nav-menu-item-36\" class=\"menu-item menu-item-type-custom menu-item-object-custom menu-item-has-children  has_sub narrow\"><a href=\"#\" class=\"\"><i class=\"menu_icon blank fa\"></i><span>推廣活動</span><span class=\"plus\"></span></a><div class=\"second\"><div class=\"inner\"><ul><li id=\"nav-menu-item-37\" class=\"menu-item menu-item-type-custom menu-item-object-custom menu-item-has-children sub\"><a href=\"#\" class=\"\"><i class=\"menu_icon blank fa\"></i><span>年會</span><span class=\"plus\"></span><i class=\"q_menu_arrow fa fa-angle-right\"></i></a><ul><li id=\"nav-menu-item-38\" class=\"menu-item menu-item-type-custom menu-item-object-custom \"><a target=\"_blank\" href=\"http://datasci.tw/2016/\" class=\"\"><i class=\"menu_icon blank fa\"></i><span>2016年會</span><span class=\"plus\"></span></a></li><li id=\"nav-menu-item-39\" class=\"menu-item menu-item-type-custom menu-item-object-custom \"><a target=\"_blank\" href=\"http://datasci.tw/2015/\" class=\"\"><i class=\"menu_icon blank fa\"></i><span>2015年會</span><span class=\"plus\"></span></a></li><li id=\"nav-menu-item-40\" class=\"menu-item menu-item-type-custom menu-item-object-custom \"><a target=\"_blank\" href=\"http://datasci.tw/2014/\" class=\"\"><i class=\"menu_icon blank fa\"></i><span>2014年會</span><span class=\"plus\"></span></a></li></ul></li><li id=\"nav-menu-item-35\" class=\"menu-item menu-item-type-post_type menu-item-object-page \"><a href=\"http://foundation.datasci.tw/dinner/\" class=\"\"><i class=\"menu_icon blank fa\"></i><span>資料同好來晚餐</span><span class=\"plus\"></span></a></li><li id=\"nav-menu-item-647\" class=\"menu-item menu-item-type-post_type menu-item-object-page \"><a href=\"http://foundation.datasci.tw/album/\" class=\"\"><i class=\"menu_icon blank fa\"></i><span>活動相簿</span><span class=\"plus\"></span></a></li><li id=\"nav-menu-item-409\" class=\"menu-item menu-item-type-taxonomy menu-item-object-category \"></li></ul></div></div></li><li id=\"nav-menu-item-561\" class=\"menu-item menu-item-type-custom menu-item-object-custom menu-item-has-children  has_sub narrow\"><a href=\"#\" class=\"\"><i class=\"menu_icon blank fa\"></i><span>人才媒合</span><span class=\"plus\"></span></a><div class=\"second\"><div class=\"inner\"><ul><li id=\"nav-menu-item-1098\" class=\"menu-item menu-item-type-custom menu-item-object-custom \"><a target=\"_blank\" href=\"http://jobs.datasci.tw\" class=\"\"><i class=\"menu_icon blank fa\"></i><span>資料科學 JOBS</span><span class=\"plus\"></span></a></li><li id=\"nav-menu-item-568\" class=\"menu-item menu-item-type-post_type menu-item-object-page \"><a href=\"http://foundation.datasci.tw/data-science-speakers/\" class=\"\"><i class=\"menu_icon blank fa\"></i><span>業師大調查</span><span class=\"plus\"></span></a></li><li id=\"nav-menu-item-44\" class=\"menu-item menu-item-type-taxonomy menu-item-object-category \"></li></ul></div></div></li><li id=\"nav-menu-item-46\" class=\"menu-item menu-item-type-custom menu-item-object-custom menu-item-has-children  has_sub narrow\"><a href=\"#\" class=\"\"><i class=\"menu_icon blank fa\"></i><span>學習資源</span><span class=\"plus\"></span></a><div class=\"second\"><div class=\"inner\"><ul><li id=\"nav-menu-item-183\" class=\"menu-item menu-item-type-post_type menu-item-object-page \"><a href=\"http://foundation.datasci.tw/academy_tw/\" class=\"\"><i class=\"menu_icon blank fa\"></i><span>國內資料科學學程</span><span class=\"plus\"></span></a></li><li id=\"nav-menu-item-232\" class=\"menu-item menu-item-type-post_type menu-item-object-page \"><a href=\"http://foundation.datasci.tw/academy_global/\" class=\"\"><i class=\"menu_icon blank fa\"></i><span>國外資料科學學程</span><span class=\"plus\"></span></a></li><li id=\"nav-menu-item-47\" class=\"menu-item menu-item-type-custom menu-item-object-custom \"><a target=\"_blank\" href=\"http://www.slideshare.net/tw_dsconf\" class=\"\"><i class=\"menu_icon blank fa\"></i><span>開放教材</span><span class=\"plus\"></span></a></li><li id=\"nav-menu-item-554\" class=\"menu-item menu-item-type-post_type menu-item-object-page \"><a href=\"http://foundation.datasci.tw/forum/\" class=\"\"><i class=\"menu_icon blank fa\"></i><span>討論區</span><span class=\"plus\"></span></a></li></ul></div></div></li><li id=\"nav-menu-item-49\" class=\"menu-item menu-item-type-custom menu-item-object-custom menu-item-has-children  has_sub narrow\"><div class=\"second\"><div class=\"inner\"><ul><li id=\"nav-menu-item-50\" class=\"menu-item menu-item-type-custom menu-item-object-custom \"><a href=\"#\" class=\"\"><i class=\"menu_icon blank fa\"></i><span>會員權益</span><span class=\"plus\"></span></a></li><li id=\"nav-menu-item-51\" class=\"menu-item menu-item-type-custom menu-item-object-custom \"><a href=\"#\" class=\"\"><i class=\"menu_icon blank fa\"></i><span>加入會員</span><span class=\"plus\"></span></a></li></ul></div></div></li><li id=\"nav-menu-item-562\" class=\"menu-item menu-item-type-custom menu-item-object-custom menu-item-has-children  has_sub narrow\"><a href=\"#\" class=\"\"><i class=\"menu_icon blank fa\"></i><span>參與我們</span><span class=\"plus\"></span></a><div class=\"second\"><div class=\"inner\"><ul><li id=\"nav-menu-item-519\" class=\"menu-item menu-item-type-post_type menu-item-object-page \"><a href=\"http://foundation.datasci.tw/donation-and-sponsorship/\" class=\"\"><i class=\"menu_icon blank fa\"></i><span>捐款贊助</span><span class=\"plus\"></span></a></li><li id=\"nav-menu-item-34\" class=\"menu-item menu-item-type-post_type menu-item-object-page \"><a href=\"http://foundation.datasci.tw/contact/\" class=\"\"><i class=\"menu_icon blank fa\"></i><span>聯絡資訊</span><span class=\"plus\"></span></a></li></ul></div></div></li><li id=\"nav-menu-item-202\" class=\"menu-item menu-item-type-custom menu-item-object-custom  narrow\"></li><li id=\"nav-menu-item-203\" class=\"menu-item menu-item-type-custom menu-item-object-custom  narrow\"><a target=\"_blank\" href=\"https://www.facebook.com/twdsconf/\" class=\"\"><i class=\"menu_icon fa-facebook-square fa\"></i><span>fb</span><span class=\"plus\"></span></a></li></ul> </nav> <nav class=\"mobile_menu\"><ul id=\"menu-tdsf_menu-1\" class=\"\"><li id=\"mobile-menu-item-33\" class=\"menu-item menu-item-type-post_type menu-item-object-page menu-item-has-children  has_sub\"><h3><span>關於我們</span></h3><span class=\"mobile_arrow\"><i class=\"fa fa-angle-right\"></i><i class=\"fa fa-angle-down\"></i></span><ul class=\"sub_menu\"><li id=\"mobile-menu-item-537\" class=\"menu-item menu-item-type-post_type menu-item-object-page \"><a href=\"http://foundation.datasci.tw/about/aboutus/\" class=\"\"><span>關於協會</span></a><span class=\"mobile_arrow\"><i class=\"fa fa-angle-right\"></i><i class=\"fa fa-angle-down\"></i></span></li><li id=\"mobile-menu-item-1128\" class=\"menu-item menu-item-type-post_type menu-item-object-page \"><a href=\"http://foundation.datasci.tw/articles-of-association/\" class=\"\"><span>組織章程</span></a><span class=\"mobile_arrow\"><i class=\"fa fa-angle-right\"></i><i class=\"fa fa-angle-down\"></i></span></li><li id=\"mobile-menu-item-535\" class=\"menu-item menu-item-type-post_type menu-item-object-page \"><a href=\"http://foundation.datasci.tw/about/organization/\" class=\"\"><span>組織架構</span></a><span class=\"mobile_arrow\"><i class=\"fa fa-angle-right\"></i><i class=\"fa fa-angle-down\"></i></span></li><li id=\"mobile-menu-item-536\" class=\"menu-item menu-item-type-post_type menu-item-object-page \"></li></ul></li><li id=\"mobile-menu-item-1152\" class=\"menu-item menu-item-type-custom menu-item-object-custom menu-item-has-children  has_sub\"><a href=\"#\" class=\"\"><span>課程資訊</span></a><span class=\"mobile_arrow\"><i class=\"fa fa-angle-right\"></i><i class=\"fa fa-angle-down\"></i></span><ul class=\"sub_menu\"><li id=\"mobile-menu-item-1150\" class=\"menu-item menu-item-type-post_type menu-item-object-page \"><a href=\"http://foundation.datasci.tw/learning-map/\" class=\"\"><span>學習地圖</span></a><span class=\"mobile_arrow\"><i class=\"fa fa-angle-right\"></i><i class=\"fa fa-angle-down\"></i></span></li><li id=\"mobile-menu-item-1006\" class=\"menu-item menu-item-type-taxonomy menu-item-object-category \"><a href=\"http://foundation.datasci.tw/category/courses/\" class=\"\"><span>課程列表</span></a><span class=\"mobile_arrow\"><i class=\"fa fa-angle-right\"></i><i class=\"fa fa-angle-down\"></i></span></li><li id=\"mobile-menu-item-766\" class=\"menu-item menu-item-type-post_type menu-item-object-page \"><a href=\"http://foundation.datasci.tw/contact/cooperation/\" class=\"\"><span>合作專案</span></a><span class=\"mobile_arrow\"><i class=\"fa fa-angle-right\"></i><i class=\"fa fa-angle-down\"></i></span></li></ul></li><li id=\"mobile-menu-item-36\" class=\"menu-item menu-item-type-custom menu-item-object-custom menu-item-has-children  has_sub\"><a href=\"#\" class=\"\"><span>推廣活動</span></a><span class=\"mobile_arrow\"><i class=\"fa fa-angle-right\"></i><i class=\"fa fa-angle-down\"></i></span><ul class=\"sub_menu\"><li id=\"mobile-menu-item-37\" class=\"menu-item menu-item-type-custom menu-item-object-custom menu-item-has-children  has_sub\"><a href=\"#\" class=\"\"><span>年會</span></a><span class=\"mobile_arrow\"><i class=\"fa fa-angle-right\"></i><i class=\"fa fa-angle-down\"></i></span><ul class=\"sub_menu\"><li id=\"mobile-menu-item-38\" class=\"menu-item menu-item-type-custom menu-item-object-custom \"><a target=\"_blank\" href=\"http://datasci.tw/2016/\" class=\"\"><span>2016年會</span></a><span class=\"mobile_arrow\"><i class=\"fa fa-angle-right\"></i><i class=\"fa fa-angle-down\"></i></span></li><li id=\"mobile-menu-item-39\" class=\"menu-item menu-item-type-custom menu-item-object-custom \"><a target=\"_blank\" href=\"http://datasci.tw/2015/\" class=\"\"><span>2015年會</span></a><span class=\"mobile_arrow\"><i class=\"fa fa-angle-right\"></i><i class=\"fa fa-angle-down\"></i></span></li><li id=\"mobile-menu-item-40\" class=\"menu-item menu-item-type-custom menu-item-object-custom \"><a target=\"_blank\" href=\"http://datasci.tw/2014/\" class=\"\"><span>2014年會</span></a><span class=\"mobile_arrow\"><i class=\"fa fa-angle-right\"></i><i class=\"fa fa-angle-down\"></i></span></li></ul></li><li id=\"mobile-menu-item-35\" class=\"menu-item menu-item-type-post_type menu-item-object-page \"><a href=\"http://foundation.datasci.tw/dinner/\" class=\"\"><span>資料同好來晚餐</span></a><span class=\"mobile_arrow\"><i class=\"fa fa-angle-right\"></i><i class=\"fa fa-angle-down\"></i></span></li><li id=\"mobile-menu-item-647\" class=\"menu-item menu-item-type-post_type menu-item-object-page \"><a href=\"http://foundation.datasci.tw/album/\" class=\"\"><span>活動相簿</span></a><span class=\"mobile_arrow\"><i class=\"fa fa-angle-right\"></i><i class=\"fa fa-angle-down\"></i></span></li><li id=\"mobile-menu-item-409\" class=\"menu-item menu-item-type-taxonomy menu-item-object-category \"></li></ul></li><li id=\"mobile-menu-item-561\" class=\"menu-item menu-item-type-custom menu-item-object-custom menu-item-has-children  has_sub\"><a href=\"#\" class=\"\"><span>人才媒合</span></a><span class=\"mobile_arrow\"><i class=\"fa fa-angle-right\"></i><i class=\"fa fa-angle-down\"></i></span><ul class=\"sub_menu\"><li id=\"mobile-menu-item-1098\" class=\"menu-item menu-item-type-custom menu-item-object-custom \"><a target=\"_blank\" href=\"http://jobs.datasci.tw\" class=\"\"><span>資料科學 JOBS</span></a><span class=\"mobile_arrow\"><i class=\"fa fa-angle-right\"></i><i class=\"fa fa-angle-down\"></i></span></li><li id=\"mobile-menu-item-568\" class=\"menu-item menu-item-type-post_type menu-item-object-page \"><a href=\"http://foundation.datasci.tw/data-science-speakers/\" class=\"\"><span>業師大調查</span></a><span class=\"mobile_arrow\"><i class=\"fa fa-angle-right\"></i><i class=\"fa fa-angle-down\"></i></span></li><li id=\"mobile-menu-item-44\" class=\"menu-item menu-item-type-taxonomy menu-item-object-category \"></li></ul></li><li id=\"mobile-menu-item-46\" class=\"menu-item menu-item-type-custom menu-item-object-custom menu-item-has-children  has_sub\"><a href=\"#\" class=\"\"><span>學習資源</span></a><span class=\"mobile_arrow\"><i class=\"fa fa-angle-right\"></i><i class=\"fa fa-angle-down\"></i></span><ul class=\"sub_menu\"><li id=\"mobile-menu-item-183\" class=\"menu-item menu-item-type-post_type menu-item-object-page \"><a href=\"http://foundation.datasci.tw/academy_tw/\" class=\"\"><span>國內資料科學學程</span></a><span class=\"mobile_arrow\"><i class=\"fa fa-angle-right\"></i><i class=\"fa fa-angle-down\"></i></span></li><li id=\"mobile-menu-item-232\" class=\"menu-item menu-item-type-post_type menu-item-object-page \"><a href=\"http://foundation.datasci.tw/academy_global/\" class=\"\"><span>國外資料科學學程</span></a><span class=\"mobile_arrow\"><i class=\"fa fa-angle-right\"></i><i class=\"fa fa-angle-down\"></i></span></li><li id=\"mobile-menu-item-47\" class=\"menu-item menu-item-type-custom menu-item-object-custom \"><a target=\"_blank\" href=\"http://www.slideshare.net/tw_dsconf\" class=\"\"><span>開放教材</span></a><span class=\"mobile_arrow\"><i class=\"fa fa-angle-right\"></i><i class=\"fa fa-angle-down\"></i></span></li><li id=\"mobile-menu-item-554\" class=\"menu-item menu-item-type-post_type menu-item-object-page \"><a href=\"http://foundation.datasci.tw/forum/\" class=\"\"><span>討論區</span></a><span class=\"mobile_arrow\"><i class=\"fa fa-angle-right\"></i><i class=\"fa fa-angle-down\"></i></span></li></ul></li><li id=\"mobile-menu-item-49\" class=\"menu-item menu-item-type-custom menu-item-object-custom menu-item-has-children  has_sub\"><ul class=\"sub_menu\"><li id=\"mobile-menu-item-50\" class=\"menu-item menu-item-type-custom menu-item-object-custom \"><a href=\"#\" class=\"\"><span>會員權益</span></a><span class=\"mobile_arrow\"><i class=\"fa fa-angle-right\"></i><i class=\"fa fa-angle-down\"></i></span></li><li id=\"mobile-menu-item-51\" class=\"menu-item menu-item-type-custom menu-item-object-custom \"><a href=\"#\" class=\"\"><span>加入會員</span></a><span class=\"mobile_arrow\"><i class=\"fa fa-angle-right\"></i><i class=\"fa fa-angle-down\"></i></span></li></ul></li><li id=\"mobile-menu-item-562\" class=\"menu-item menu-item-type-custom menu-item-object-custom menu-item-has-children  has_sub\"><a href=\"#\" class=\"\"><span>參與我們</span></a><span class=\"mobile_arrow\"><i class=\"fa fa-angle-right\"></i><i class=\"fa fa-angle-down\"></i></span><ul class=\"sub_menu\"><li id=\"mobile-menu-item-519\" class=\"menu-item menu-item-type-post_type menu-item-object-page \"><a href=\"http://foundation.datasci.tw/donation-and-sponsorship/\" class=\"\"><span>捐款贊助</span></a><span class=\"mobile_arrow\"><i class=\"fa fa-angle-right\"></i><i class=\"fa fa-angle-down\"></i></span></li><li id=\"mobile-menu-item-34\" class=\"menu-item menu-item-type-post_type menu-item-object-page \"><a href=\"http://foundation.datasci.tw/contact/\" class=\"\"><span>聯絡資訊</span></a><span class=\"mobile_arrow\"><i class=\"fa fa-angle-right\"></i><i class=\"fa fa-angle-down\"></i></span></li></ul></li><li id=\"mobile-menu-item-202\" class=\"menu-item menu-item-type-custom menu-item-object-custom \"></li><li id=\"mobile-menu-item-203\" class=\"menu-item menu-item-type-custom menu-item-object-custom \"><a target=\"_blank\" href=\"https://www.facebook.com/twdsconf/\" class=\"\"><span>fb</span></a><span class=\"mobile_arrow\"><i class=\"fa fa-angle-right\"></i><i class=\"fa fa-angle-down\"></i></span></li></ul> </nav></div></div></div></div></div></header><a id=\\'back_to_top\\' href=\\'#\\'> <span class=\"fa-stack\"> <i class=\"fa fa-arrow-up\" style=\"\"></i> </span> </a><div class=\"content \"><div class=\"content_inner  \"><style>#banner_wrap{ min-width:600px; } #banner .slide_in{max-width:1690px;max-height:500px}#banner,#banner .in{max-height:500px}</style><div id=banner_top style=height:100px></div><div id=banner_wrap><div id=banner style=\"height:476px\"><div class=in><div class=slide style=\"background:url() repeat-x 0 100%\"><div class=slide_in> <a href=\"http://aiacademy.tw\" target=_blank><noscript><img src=\"http://foundation.datasci.tw/wp-content/uploads/2017/04/aiabn1690.jpg\" width=100% alt=\"slide1\" /></noscript><img data-original=\"http://foundation.datasci.tw/wp-content/uploads/2017/04/aiabn1690.jpg\" width=100% alt=\"slide1\" /></a></div></div><div class=slide style=\"background:url() repeat-x 0 100%\"><div class=slide_in> <a href=\"http://datasci.tw/?conf=AI\" target=_blank><noscript><img src=\"http://foundation.datasci.tw/wp-content/uploads/2017/04/homebanner-ai-1690x500.png\" width=100% alt=\"slide2\" /></noscript><img data-original=\"http://foundation.datasci.tw/wp-content/uploads/2017/04/homebanner-ai-1690x500.png\" width=100% alt=\"slide2\" /></a></div></div><div class=slide style=\"background:url() repeat-x 0 100%\"><div class=slide_in> <a href=\"http://datasci.tw/?conf=DS\" target=_blank><noscript><img src=\"http://foundation.datasci.tw/wp-content/uploads/2017/04/tdsf-home-banner-dsc2017-3-1.png\" width=100% alt=\"slide3\" /></noscript><img data-original=\"http://foundation.datasci.tw/wp-content/uploads/2017/04/tdsf-home-banner-dsc2017-3-1.png\" width=100% alt=\"slide3\" /></a></div></div><div class=slide style=\"background:url() repeat-x 0 100%\"><div class=slide_in> <a href=\"http://jobs.datasci.tw\" target=_blank><noscript><img src=\"http://foundation.datasci.tw/wp-content/uploads/2017/05/tdsf-homebanner-jobs-1.png\" width=100% alt=\"slide4\" /></noscript><img data-original=\"http://foundation.datasci.tw/wp-content/uploads/2017/05/tdsf-homebanner-jobs-1.png\" width=100% alt=\"slide4\" /></a></div></div><div class=slide style=\"background:url() repeat-x 0 100%\"><div class=slide_in> <a href=\"/learning-map/\"><noscript><img src=\"http://foundation.datasci.tw/wp-content/uploads/2017/05/tdsf-home-banner-learningmap.png\" width=100% alt=\"slide5\" /></noscript><img data-original=\"http://foundation.datasci.tw/wp-content/uploads/2017/05/tdsf-home-banner-learningmap.png\" width=100% alt=\"slide5\" /></a></div></div></div><ul id=\"banner_nav\"><li class=cur><a href=\"#1\">&nbsp;</a></li><li><a href=\"#2\">&nbsp;</a></li><li><a href=\"#3\">&nbsp;</a></li><li><a href=\"#4\">&nbsp;</a></li><li><a href=\"#5\">&nbsp;</a></li></ul></div></div><div class=\"container\" id=\"home-container\"><div class=\"container_inner\"><div class=\"row\"><div class=\"col-md-12\"><p style=\"background:#ffc;border:2px solid #f90;border-radius:8px;padding:20px;font-size:16px;text-align:center\">2018資料科學年會<a href=\"/announcement/\">停辦公告</a></p><h2>最新課程</h2> <a href=\"/category/courses/\">所有課程</a><ul id=\"lst\"><li class=\"li-close\"><time><i class=\"fa fa-calendar\"></i> 2017/12/17</time><h3 class=\"course_title\"><a href=\"http://foundation.datasci.tw/gan-171217/\" title=\"探索及應用生成對抗網路\">探索及應用生成對抗網路</a></h3><div class=\"photo\"><span class=\"status\">已額滿</span><a href=\"http://foundation.datasci.tw/gan-171217/\" title=\"探索及應用生成對抗網路\"><img src=\"http://foundation.datasci.tw/wp-content/uploads/2017/10/gan-500x500.png\" alt=\"探索及應用生成對抗網路\" /></a></div></li><li class=\"li-close\"><time><i class=\"fa fa-calendar\"></i> 2017/12/17</time><h3 class=\"course_title\"><a href=\"http://foundation.datasci.tw/python-crawling-171217/\" title=\"Python 爬蟲實戰\">Python 爬蟲實戰</a></h3><div class=\"photo\"><span class=\"status\">已額滿</span><a href=\"http://foundation.datasci.tw/python-crawling-171217/\" title=\"Python 爬蟲實戰\"><img src=\"http://foundation.datasci.tw/wp-content/uploads/2017/06/python_crawling-500x500.png\" alt=\"Python 爬蟲實戰\" /></a></div></li><li class=\"li-close\"><time><i class=\"fa fa-calendar\"></i> 2017/12/17</time><h3 class=\"course_title\"><a href=\"http://foundation.datasci.tw/py3-data-analysis-171217/\" title=\"手把手打開 Python 資料分析大門\">手把手打開 Python 資料分析大門</a></h3><div class=\"photo\"><span class=\"status\">已額滿</span><a href=\"http://foundation.datasci.tw/py3-data-analysis-171217/\" title=\"手把手打開 Python 資料分析大門\"><img src=\"http://foundation.datasci.tw/wp-content/uploads/2017/10/python-datascience-500x500.png\" alt=\"手把手打開 Python 資料分析大門\" /></a></div></li><li class=\"li-close\"><time><i class=\"fa fa-calendar\"></i> 2017/12/16</time><h3 class=\"course_title\"><a href=\"http://foundation.datasci.tw/reinforcement-learning-171216/\" title=\"增強學習初探以及最新發展趨勢\">增強學習初探以及最新發展趨勢</a></h3><div class=\"photo\"><span class=\"status\">已額滿</span><a href=\"http://foundation.datasci.tw/reinforcement-learning-171216/\" title=\"增強學習初探以及最新發展趨勢\"><img src=\"http://foundation.datasci.tw/wp-content/uploads/2017/10/Reinforcement-Learning-500x500.png\" alt=\"增強學習初探以及最新發展趨勢\" /></a></div></li><li class=\"li-close\"><time><i class=\"fa fa-calendar\"></i> 2017/12/16</time><h3 class=\"course_title\"><a href=\"http://foundation.datasci.tw/emotion-ai-171216/\" title=\"Emotion-AI: 運用人工智慧實現情緒辨識\">Emotion-AI: 運用人工智慧實現情緒辨識</a></h3><div class=\"photo\"><span class=\"status\">已額滿</span><a href=\"http://foundation.datasci.tw/emotion-ai-171216/\" title=\"Emotion-AI: 運用人工智慧實現情緒辨識\"><img src=\"http://foundation.datasci.tw/wp-content/uploads/2017/10/emotion-ai-500x500.png\" alt=\"Emotion-AI: 運用人工智慧實現情緒辨識\" /></a></div></li><li class=\"li-close\"><time><i class=\"fa fa-calendar\"></i> 2017/12/16</time><h3 class=\"course_title\"><a href=\"http://foundation.datasci.tw/step-by-step-dl-171216/\" title=\"手把手的深度學習實務\">手把手的深度學習實務</a></h3><div class=\"photo\"><span class=\"status\">已額滿</span><a href=\"http://foundation.datasci.tw/step-by-step-dl-171216/\" title=\"手把手的深度學習實務\"><img src=\"http://foundation.datasci.tw/wp-content/uploads/2017/10/sbs-deeplearning-500x500.png\" alt=\"手把手的深度學習實務\" /></a></div></li><li class=\"li-close\"><time><i class=\"fa fa-calendar\"></i> 2017/11/22</time><h3 class=\"course_title\"><a href=\"http://foundation.datasci.tw/deep-learning-171122/\" title=\"What’s happening in deep learning\">What’s happening in deep learning</a></h3><div class=\"photo\"><span class=\"status\">已額滿</span><a href=\"http://foundation.datasci.tw/deep-learning-171122/\" title=\"What’s happening in deep learning\"><img src=\"http://foundation.datasci.tw/wp-content/uploads/2017/10/deeplearning-500x500.png\" alt=\"What’s happening in deep learning\" /></a></div></li><li class=\"li-close\"><time><i class=\"fa fa-calendar\"></i> 2017/09/03</time><h3 class=\"course_title\"><a href=\"http://foundation.datasci.tw/nlp-tutorial-170903/\" title=\"無所不在的自然語言處理—基礎概念、技術與工具介紹\">無所不在的自然語言處理—基礎概念、技術與工具介紹</a></h3><div class=\"photo\"><span class=\"status\">已額滿</span><a href=\"http://foundation.datasci.tw/nlp-tutorial-170903/\" title=\"無所不在的自然語言處理—基礎概念、技術與工具介紹\"><img src=\"http://foundation.datasci.tw/wp-content/uploads/2017/07/nlp-170903-shop-500x500.png\" alt=\"無所不在的自然語言處理—基礎概念、技術與工具介紹\" /></a></div></li></ul></div></div><div class=\"row\" id=\"row_jobs\"><div class=\"col-md-12\"><h2>最新資料科學職缺</h2> <a href=\"http://jobs.aiacademy.tw/\" target=_blank style=\"padding-left:20px\">所有職缺</a> <a href=\"http://jobs.aiacademy.tw/\" target=_blank><noscript><img src=\"/img/datasci-job-img.png\" alt=\"DataScience Job Logo\" /></noscript><img data-original=\"/img/datasci-job-img.png\" alt=\"DataScience Job Logo\" /></a><ul><li><a target=_blank href=\"http://jobs.aiacademy.tw/jobs/322\">宏遠興業股份有限公司 數位服務中心 自動化工程師</a></li><li><a target=_blank href=\"http://jobs.aiacademy.tw/jobs/225\">台灣人壽保險股份有限公司 深度學習應用專案經理</a></li><li><a target=_blank href=\"http://jobs.aiacademy.tw/jobs/222\">台灣人壽保險股份有限公司 深度學習應用系統工程師</a></li><li><a target=_blank href=\"http://jobs.aiacademy.tw/jobs/352\">沐恩生醫光電股份有限公司 研發部門 資深軟體設計工程師</a></li><li><a target=_blank href=\"http://jobs.aiacademy.tw/jobs/353\">沐恩生醫光電股份有限公司 研發部門 軟體設計工程師</a></li><li><a target=_blank href=\"http://jobs.aiacademy.tw/jobs/305\">開必拓數據 深度學習工程師 - AI 影像識別</a></li><li><a target=_blank href=\"http://jobs.aiacademy.tw/jobs/239\">創惟科技(Genesys Logic) AI 軟體韌體與FPGA開發資深工程師</a></li><li><a target=_blank href=\"http://jobs.aiacademy.tw/jobs/236\">創惟科技(Genesys Logic) AI 資深ASIC設計工程師</a></li><li><a target=_blank href=\"http://jobs.aiacademy.tw/jobs/135\">友達光電股份有限公司 資料科學家 (台中)</a></li><li><a target=_blank href=\"http://jobs.aiacademy.tw/jobs/134\">友達光電股份有限公司 AI應用系統開發設計師 (台中)</a></li></ul></div></div><div class=\"at_home row\" id=\"activity-album\"><div class=\"col-md-12\"><h2>活動相簿</h2> <a href=https://www.flickr.com/photos/dsconf/albums class=all_album_link target=_blank>所有相簿</a><ul><li style=\"background-image:url(//c1.staticflickr.com/3/2877/33103017194_ca73fc8625.jpg)\"><a href=\"https://www.flickr.com/photos/dsconf/albums/72157682317305926\\r\" target=_blank><span>年會系列活動 - 2017年03月26日 (53 張相片)</span></a></li><li style=\"background-image:url(//c1.staticflickr.com/4/3953/33816162551_489300d90b.jpg)\"><a href=\"https://www.flickr.com/photos/dsconf/albums/72157680402322651\\r\" target=_blank><span>年會系列活動 - 2017年03月25日 (47 張相片)</span></a></li><li style=\"background-image:url(//c1.staticflickr.com/3/2807/32597146683_11ea51877f.jpg)\"><a href=\"https://www.flickr.com/photos/dsconf/albums/72157677968839663\\r\" target=_blank><span>年會系列活動 - 2017年03月11日 (100 張相片)</span></a></li><li style=\"background-image:url(//c1.staticflickr.com/1/597/33255330762_8f051e590e.jpg)\"><a href=\"https://www.flickr.com/photos/dsconf/albums/72157679672484450\\r\" target=_blank><span>年會系列活動 - 2017年02月12日 (96 張相片)</span></a></li><li style=\"background-image:url(//c1.staticflickr.com/4/3820/33369875906_06528c0905.jpg)\"><a href=\"https://www.flickr.com/photos/dsconf/albums/72157681257591826\\r\" target=_blank><span>年會系列活動 - 2017年02月11日 (89 張相片)</span></a></li><li style=\"background-image:url(//c1.staticflickr.com/3/2804/32114641883_ea3f1126ff.jpg)\"><a href=\"https://www.flickr.com/photos/dsconf/albums/72157676796868904\\r\" target=_blank><span>年會系列活動 - 2017年01月15日 (138 張相片)</span></a></li><li style=\"background-image:url(//c1.staticflickr.com/4/3939/32548620770_4dfc2d0076.jpg)\"><a href=\"https://www.flickr.com/photos/dsconf/albums/72157678808233120\\r\" target=_blank><span>年會系列活動 - 2017年01月14日 (91 張相片)</span></a></li><li style=\"background-image:url(//c1.staticflickr.com/3/2448/32820252071_b3160235d4.jpg)\"><a href=\"https://www.flickr.com/photos/dsconf/albums/72157680427942745\\r\" target=_blank><span>年會免費系列活動 - 2017年01月05日 電腦視覺一二三 (16 張相片)</span></a></li><li style=\"background-image:url(//c1.staticflickr.com/4/3922/32903729336_aba9cf1404.jpg)\"><a href=\"https://www.flickr.com/photos/dsconf/albums/72157676830861184\\r\" target=_blank><span>年會免費系列活動 - 2016年12月21日 Data Exploration with Modern R (20 張相片)</span></a></li><li style=\"background-image:url(//c1.staticflickr.com/1/262/31762965421_dea61909ef.jpg)\"><a href=\"https://www.flickr.com/photos/dsconf/albums/72157676653201311\\r\" target=_blank><span>年會系列活動 - 2016年12月18日 (94 張相片)</span></a></li><li style=\"background-image:url(//c1.staticflickr.com/1/347/30947310973_d155115298.jpg)\"><a href=\"https://www.flickr.com/photos/dsconf/albums/72157674146654554\\r\" target=_blank><span>2016 台灣資料科學年會 x TAAI - Day 2 11/26 (49 張相片)</span></a></li><li style=\"background-image:url(//c1.staticflickr.com/6/5581/31640770971_79994a518a.jpg)\"><a href=\"https://www.flickr.com/photos/dsconf/albums/72157678057724525\\r\" target=_blank><span>2016 台灣資料科學年會 x TAAI - Day 1 11/25 (111 張相片)</span></a></li><li style=\"background-image:url(//c1.staticflickr.com/6/5469/30794839082_5d5763e65e_z.jpg)\"><a href=\"https://www.flickr.com/photos/dsconf/albums/72157676318668666\\r\" target=_blank><span>年會系列活動 - 2016年10月30日 (121 張相片)</span></a></li><li style=\"background-image:url(//c1.staticflickr.com/9/8395/30000060091_cb08388d03.jpg)\"><a href=\"https://www.flickr.com/photos/dsconf/albums/72157673471675011\\r\" target=_blank><span>年會系列活動 - 2016年09月24日 (98 張相片)</span></a></li><li style=\"background-image:url(//c1.staticflickr.com/6/5632/30290107781_7be91d4993.jpg)\"><a href=\"https://www.flickr.com/photos/dsconf/albums/72157671278863554\" target=_blank><span>年會系列活動 - 2016年09月04日 (61 張相片)</span></a></li></ul></div></div><div class=\"row\" id=\"row_contact\"><div class=\"col-lg-7 col-md-6 col-sm-12\"><h2>聯絡我們</h2><p>服務時間: 週一至週五 09:00~18:00</p><p>聯絡電話: (02) 2783-9427</p><p>聯絡信箱: <a href=\"mailto:secretary@datasci.tw\">secretary@datasci.tw</a></p><p>統編: 42385718</p><p>地址: <a target=_blank href=\"https://www.google.com.tw/maps/place/115%E5%8F%B0%E5%8C%97%E5%B8%82%E5%8D%97%E6%B8%AF%E5%8D%80%E7%A0%94%E7%A9%B6%E9%99%A2%E8%B7%AF%E4%BA%8C%E6%AE%B5128%E8%99%9F/@25.042259,121.6139671\">台北市南港區研究院路二段128號</a> 資訊所</p></div><div class=\"col-lg-5 col-md-6 col-sm-12\"><div id=contact_fb><div id=\"fb-root\"></div> <script>(function(d, s, id) {\\n        var js, fjs = d.getElementsByTagName(s)[0];\\n        if (d.getElementById(id)) return;\\n        js = d.createElement(s); js.id = id;\\n        js.src = \"//connect.facebook.net/zh_TW/sdk.js#xfbml=1&version=v2.9\";\\n        fjs.parentNode.insertBefore(js, fjs);\\n      }(document, \\'script\\', \\'facebook-jssdk\\'));</script> <div class=\"fb-page\" data-href=\"https://www.facebook.com/twdsconf/\" data-tabs=\"timeline\" data-width=\"450\" data-height=\"280\" data-small-header=\"false\" data-adapt-container-width=\"true\" data-hide-cover=\"false\" data-show-facepile=\"true\"><blockquote cite=\"https://www.facebook.com/twdsconf/\" class=\"fb-xfbml-parse-ignore\"><a href=\"https://www.facebook.com/twdsconf/\">台灣資料科學年會</a></blockquote></div></div></div></div></div></div></div></div><footer ><div class=\"footer_inner clearfix\"><div class=\"footer_bottom_holder\"><div class=\"footer_bottom\"><div class=\"textwidget\"><a href=\"https://datasci.tw/\" target=\"_blank\">台灣資料科學年會</a> ｜ <a href=\"http://jobs.datasci.tw/\" target=\"_blank\">資料科學JOBS</a> ｜ <a href=\"http://www.smartdonor.tw/\" target=\"_blank\">聰明公益資訊平台</a> ｜ <a href=\"https://www.facebook.com/twdsconf/\" target=\"_blank\">FB 粉絲頁</a> ｜ <a href=\"https://www.facebook.com/groups/datasci.tw/\" target=\"_blank\">台灣資料科學交流區</a> ｜ <a href=\"https://www.facebook.com/groups/datasci.dinner/\" target=\"_blank\">資料同好來晚餐</a> ｜ 2016 © Copyright 台灣資料科學協會  版權所有</div></div></div></div> </footer></div></div><link rel=\\'stylesheet\\' id=\\'ZZZ-c-base_css-css\\'  href=\\'http://foundation.datasci.tw/c/base.css?8&#038;v=8\\' type=\\'text/css\\' media=\\'all\\' /><link rel=\\'stylesheet\\' id=\\'ZZZ-assets-bootstrap-css-bootstrap_min_css-css\\'  href=\\'http://foundation.datasci.tw/assets/bootstrap/css/bootstrap.min.css?v=8\\' type=\\'text/css\\' media=\\'all\\' /><link rel=\\'stylesheet\\' id=\\'ZZZ-assets-bootstrap-css-bootstrap-theme_min_css-css\\'  href=\\'http://foundation.datasci.tw/assets/bootstrap/css/bootstrap-theme.min.css?v=8\\' type=\\'text/css\\' media=\\'all\\' /><link rel=\\'stylesheet\\' id=\\'ZZZ-c-banner_css-css\\'  href=\\'http://foundation.datasci.tw/c/banner.css?v=8\\' type=\\'text/css\\' media=\\'all\\' /><link rel=\\'stylesheet\\' id=\\'ZZZ-c-home_css-css\\'  href=\\'http://foundation.datasci.tw/c/home.css?8&#038;v=8\\' type=\\'text/css\\' media=\\'all\\' /> <script type=\\'text/javascript\\' src=\\'//foundation.datasci.tw/wp-content/uploads/fvm/cache/footer-24a81d42-1511058200.min.js?v=8\\'></script> <script type=\\'text/javascript\\' src=\\'http://foundation.datasci.tw/assets/bootstrap/js/bootstrap.min.js?v=8\\'></script> <script type=\\'text/javascript\\' src=\\'http://foundation.datasci.tw/j/banner.js?v=8\\'></script> <script type=\\'text/javascript\\' src=\\'http://foundation.datasci.tw/j/lazyload.js?v=8\\'></script> <script type=\\'text/javascript\\' src=\\'http://foundation.datasci.tw/j/home.js?8&#038;v=8\\'></script> <div class=fb-quote></div>'"
      ]
     },
     "execution_count": 93,
     "metadata": {},
     "output_type": "execute_result"
    }
   ],
   "source": [
    "response2.text"
   ]
  },
  {
   "cell_type": "markdown",
   "metadata": {},
   "source": [
    "### ettoday 範例網站 爬蟲實務\n",
    "\n",
    "聯合報 url  \"https://udn.com/news/archive/0/0/2019/09/17\"\n"
   ]
  },
  {
   "cell_type": "code",
   "execution_count": 128,
   "metadata": {
    "collapsed": false
   },
   "outputs": [],
   "source": [
    "# import 套件\n",
    "import requests\n",
    "from bs4 import BeautifulSoup\n",
    "\n",
    "response = requests.get(\"https://www.ettoday.net/news/focus/生活/\")\n",
    "soup = BeautifulSoup(response.text, \"lxml\")\n"
   ]
  },
  {
   "cell_type": "code",
   "execution_count": null,
   "metadata": {
    "collapsed": true
   },
   "outputs": [],
   "source": []
  },
  {
   "cell_type": "code",
   "execution_count": 129,
   "metadata": {
    "collapsed": true
   },
   "outputs": [],
   "source": [
    "def get_detail(url):\n",
    "    response = requests.get(url)\n",
    "    soup = BeautifulSoup(response.text , \"lxml\")\n",
    "    description = \"\"\n",
    "    for item in soup.find_all(\"p\"):\n",
    "        description += item.getText()\n",
    "    return description"
   ]
  },
  {
   "cell_type": "code",
   "execution_count": 130,
   "metadata": {
    "collapsed": false
   },
   "outputs": [],
   "source": [
    "title_soup = soup.find_all(\"div\" , {\"class\" : \"part_list_5 sidebar-hot-news clearfix\"})[0]\n",
    "url = \"https://www.ettoday.net\"\n",
    "result_list = list()\n",
    "for item in title_soup.find_all(\"h3\"):\n",
    "    result = dict()\n",
    "    if item.find(\"a\") is not None :\n",
    "        result[\"title\"] = item.find(\"a\").getText()\n",
    "        result[\"url\"] = url +item.find(\"a\").get(\"href\")\n",
    "        result[\"description\"] = get_detail(result[\"url\"])\n",
    "        result_list.append(result)\n",
    "    \n",
    "\n",
    "\n",
    "\n",
    "\n",
    "\n"
   ]
  },
  {
   "cell_type": "code",
   "execution_count": 131,
   "metadata": {
    "collapsed": false
   },
   "outputs": [
    {
     "name": "stdout",
     "output_type": "stream",
     "text": [
      "[{'title': '產檢全過關卻生罕病兒！48歲女星「揭穿醫生恐怖陰謀」', 'url': 'https://www.ettoday.net/news/20190919/1538537.htm?ercamp=hot_news', 'description': '記者田暐瑋／綜合報導女星李宇柔是《戲說台灣》班底，49歲的她和老公育有一子一女，辛苦臥床9個月，明明產檢都一切正常，但兒子一出生卻罹患罕見疾病AADC，發作時會眼睛上吊長達12小時、全身癱軟反折如大法師，10年來她飽受精神壓力，數度割腕輕生，但其實兒子會變成這樣，全是當年的醫生計畫很久的「陰謀」。警察給《信號》殺人魔的話曝光！\\u3000含恨20年…只敢躲車上看《殺人回憶》痛哭流產10次生出腦溢血寶寶！\\u3000女星「線綁死子宮」堅持要救…老公下跪哭：拜託放他走李宇柔求子過程艱辛，第一胎因為子宮頸閉鎖不全，導致羊水不斷流出，她忍痛不打麻藥，讓醫生進行麥當勞手術，拿粗線把子宮頸紮緊，痛到她咬爛嘴唇，連指甲都斷裂，為了至少保住寶寶到24周，她躺在床上不敢走動，每天灌大量的水和吃肉補充養分，拼死就是要留住孩子，無奈寶寶生出後腦溢血，不得已只好放棄急救。▲李宇柔。（圖／翻攝自YouTube／高點TV）\\n隔2年，李宇柔順利懷上第二胎，9個月一周產檢一次，每次醫生都告訴她沒問題，沒想到小孩生出來不哭不鬧，她覺得怪怪，卻也說不出個所以然，檢查也說沒問題，等到3個月大，偶然之下發現孩子和AADC罕病兒的眼神一樣，再一次拜託醫生檢查，等到聽結果那天，她一進診間，護士就拿了包衛生紙放在她面前。人妻婚後不敢放屁！老公聽到屁聲狠酸：妳好髒\\u3000「變態家規」逼瘋她離婚\\xa0哈孝遠虧過頭！ 男主持走心「停機錄不下去」…女星嚇到躲廁所哭醫生一看到李宇柔，確定孩子罹患AADC（胺基酸類脫羧基酵素缺乏症），她崩潰大哭，但醫生卻露出開心表情，面帶興奮拍手說：「好啦，我們現在開始開藥，我知道要開什麼藥，我來開這個藥給你們試試看！」還叫出美國案例，一副看好戲地說：「最多的案例在我們台灣，台灣人的圖片是最可怕的，所以你就這2、3年好好跟他過。」▲醫生藏了產檢指數。（圖／翻攝自YouTube／高點TV）\\n後來才知道，這位醫生正在進行AADC的相關研究，而李宇柔的兒子剛好就得了這個病，就成了醫生的白老鼠，一開始檢查會沒問題，全是因為他把能夠判別AADC的3個關鍵指數藏了起來，卻害慘了李宇柔一生。▲醫生藏了產檢指數。（圖／翻攝自YouTube／高點TV）\\n李宇柔哽咽說，AADC的罕病兒一生都軟趴趴，4至5天就會發作，發作時全身凹折如大法師，眼睛還會上吊10幾個小時，最後只有2種死法，一種是睡夢中血糖迅速降到零而死亡，另一種則是口水一直分泌，吃東西被噎死，一般只能活到3歲，雖然兒子已經10歲，但她痛訴過得很辛苦，罹患憂鬱症和老公婚姻也破裂，數度割腕輕生，更決絕表示：「我已經想好了，兒子走我就跟著走，我活得好累。」▲醫生藏了產檢指數。（圖／翻攝自YouTube／高點TV）● 《ETtoday新聞雲》提醒您，請給自己機會：\\r\\n自殺防治諮詢安心專線：0800-788995；生命線協談專線：1995\\n►華城連環「10血案細節」曝！ 性侵塞桃、原子筆殺9女…13歲女童到71歲嬤都不放過►馬妞「長9cm棒球子宮瘤」痛休克！\\u3000老公冷眼嗆「妳不乾淨才長東西」…反胃拒同房►媽媽比女兒還正！全靠「超強神器」辦到※本文版權所有，非經授權，不得轉載。[ETtoday]※決戰0111，未來自己做主！ETtoday與你一起掌握最新選舉脈動每周六21-22點鎖定《ETtoday新聞雲》，全新節目《慧眼看天下》帶您掌握國際!不論是校園鬼話、職人撞鬼、邪門小物、民間魔神仔，還是懸疑的心裡有鬼，都來投稿！天天登入新聞雲App，完成任務集T點，換購物金等好禮！即時房產新聞、最新建案採訪、各類收納秘訣、買屋租屋故事，讓您快速掌握房產脈動'}, {'title': '《信號》殺人魔找到了\\u3000消失33年…「下體塞桃」5年內殺9人', 'url': 'https://www.ettoday.net/news/20190918/1538315.htm?ercamp=hot_news', 'description': '記者吳睿慈／綜合報導南韓鼎鼎有名未結連續殺人案件「華城連環殺人案」發生於1986年到1991年，犯人在5年內姦殺10位女性，在女性下體塞桃，手法殘忍，只有1位僥倖逃出，警方卻對於犯人的真貌一無所獲，成為南韓10大兇殺案之一，電影《殺人回憶》、戲劇《信號》等都是改編自該案件，沒想到，犯案33年過去，韓媒18日晚間速報，目前找到一位李男與嫌犯的DNA一致，埋藏33年的案件終於有了結果，震驚全韓。更多【華城連環殺人案】相關報導請點此「華城連環殺人」4韓劇2電影都翻拍！\\u3000神片《殺人回憶》揭密藏12年驚悚細節抓到華城連環兇手！\\u3000《信號》台詞神預言「現代醫學給被害人的禮物」…網爆雞皮▲《信號》原型殺人魔找到了，警方18日證實「DNA一致」，但早已過了公訴期。（圖／翻攝自韓網)▲華城連環殺人案件的頭號嫌犯姓李，1994年又犯下另一起性侵殺人案被捕，現在已在監獄裡服刑超過20年。（圖／翻攝自KBS)\\n根據韓媒報導，警方在1個月前重新翻找「華城連環殺人案」被害者所留下的證據時，衣服上卻出現了第三者的DNA，交給國立科學搜查研究院後，經過比對結果，京畿南部地方警察廳18日宣布，該DNA與正在監獄裡收押的一名50多歲李男一致，李男在1994年又犯下另一起殺人案，現遭求無期徒刑，而該位男性已被鎖定為頭號嫌犯，經過33年再度出現的線索，令全韓陷入震撼。▲▼《信號》、《殺人回憶》都是改編自華城連環殺人案件。（圖／翻攝自韓網)\\n然而，「華城連環殺人案」最後一個殺人案發生在1991年，由於公訴期只有15年，也就是說公訴期早在2006年截止，若要向犯人以「華城連環殺人案」的名義再求刑恐有困難，警方目前暫未對外透露詳細內容，京畿南部地方警察廳19日上午9點半將會召開記者會說明。「華城連環殺人案」第一起案件發生於1986年，一名70歲的婦人被發現雙手反綁倒臥在田地裡，爾後又接連多起發生年輕女性遭性侵殘殺，下體遭塞入9塊桃子、原子筆、襪子等異物，且死因皆是勒死，直到1991年4月犯下最後一起案件，從此消失在人間。不少專家認為，殺人犯不可能停止殺人，因此可能是死亡或者早已被關入監獄，事隔33年，警方找到與兇手一致的DNA，立刻引起國際關注。►《信號》嫌犯1994年又殺人！「跟妻子吵架」性侵20歲小姨子…鐵鎚砸頭棄屍►每次都錯愛渣男！女孩們你少了「這一步」※本文版權所有，非經授權，不得轉載。[ETtoday]※決戰0111，未來自己做主！ETtoday與你一起掌握最新選舉脈動每周六21-22點鎖定《ETtoday新聞雲》，全新節目《慧眼看天下》帶您掌握國際!不論是校園鬼話、職人撞鬼、邪門小物、民間魔神仔，還是懸疑的心裡有鬼，都來投稿！天天登入新聞雲App，完成任務集T點，換購物金等好禮！即時房產新聞、最新建案採訪、各類收納秘訣、買屋租屋故事，讓您快速掌握房產脈動'}, {'title': '少女放學回家蹲廁所竟離奇暴斃', 'url': 'https://www.ettoday.net/news/20190918/1538085.htm?ercamp=hot_news', 'description': '記者邱茀濱／綜合報導大陸一名黃姓少女先前放學回家，表示自己尿急就匆忙跑進廁所，但是過了10分鐘卻遲遲不出來，母親覺得可疑便開門查看，才意外發現女兒已經沒有氣息了，且嘴唇還發黑，嚇得緊急將她送醫治療，但仍回天乏術。事後，父親回到家中後，在樓梯間聞到奇怪的臭雞蛋味，才揪出可能是殺害女兒的兇手。▲黃姓少女蹲完廁所後竟離奇暴斃。（圖／翻攝youku影片截圖，下同）\\n綜合陸媒報導，黃姓少女的母親受訪時指出，女兒9月1日開學日提早放學回家後，開門直接衝進廁所，沒想到10分鐘過去後，卻一直不見她出來，於是就推門一看，竟看到她已經側身倒地，「我當時不知道，因為我女兒身體好健康，我去試了一下她的鼻息，就發現她沒氣了，且嘴唇還發黑。」母親隨即打電話叫救護車，但經過醫生的搶救後，仍無效死亡。▲工人在管線內倒入「硫化氫」，導致少女慘死。而醫院的死亡證明則顯示，黃姓少女的死因寫著「猝死原因待查」。之後全家人帶著滿腹的疑問回到了家中，卻意外在樓梯間聞到極度刺鼻的臭雞蛋味，後來才判斷這是「硫化氫」，便請警方到場檢查。且不只在樓梯間有硫化氫，就連家中的廁所也是滿滿的化學氣味，據安監局局長趙斌表示，當時檢測廁所的硫化氫濃度後，才發現超過國家規定的2倍多。黃姓少女的母親表示，由於近日與樓下鄰居有管線問題，事發當天早上，請了工人來疏通管道，且看到對方往管道倒入不明液體，便問了「你那個倒什麼呀」，工人只對她說要她「走開一點，不要濺到身上了」。後來經警方調查後發現，工人倒的液體為電瓶水，裡面的成分是「稀硫酸」。據悉，原來「稀硫酸」倒入生鏽的鐵製下水管道後，會產生大量的「硫化氫」。後來，經檢測，黃姓少女心血及肺組織均檢測出硫化氫，含量為每毫升0.3微克，證實她是因硫化氫中毒身亡，才讓真相大白。觀看影片請點此►不再眷戀青春，因為我持續擁有►驚悚畫面曝光！貨車連撞8車釀1死4傷 10歲男童「雙腳遭夾」命危\\n\\n►《信號》殺人魔找到了：DNA一致！ 消失33年…「下體塞桃」5年內殺9人※本文版權所有，非經授權，不得轉載。[ ETtoday著作權聲明 ]※台北市一名徐姓女子和柯姓男友赴友人劉女住處開毒趴，不料，徐女混用多種毒品後，翌日凌晨先出現打滾、胡言亂語等失序行為，隔日上午又出現手腳冰冷等異狀。柯男與劉女2人直到下午才察覺徐女四肢僵硬、身上出現不明斑點，驚覺事態不妙才報警，但徐女已因多重藥物中毒身亡。高等法院審理後，法官認定柯男、劉女2人延誤就醫和徐女死亡有因果關係，判處2人應賠償徐女父親66萬多元確定。決戰0111，未來自己做主！ETtoday與你一起掌握最新選舉脈動每周六21-22點鎖定《ETtoday新聞雲》，全新節目《慧眼看天下》帶您掌握國際!不論是校園鬼話、職人撞鬼、邪門小物、民間魔神仔，還是懸疑的心裡有鬼，都來投稿！天天登入新聞雲App，完成任務集T點，換購物金等好禮！即時房產新聞、最新建案採訪、各類收納秘訣、買屋租屋故事，讓您快速掌握房產脈動'}, {'title': '賴品妤泳照曝光\\u3000黑色比基尼辣哭網友', 'url': 'https://www.ettoday.net/news/20190919/1538378.htm?ercamp=hot_news', 'description': '記者柯振中／綜合報導「太陽花女戰神」賴品妤18日出席記者會時，因為90度鞠躬，導致講台的麥克風卡在頭髮上，讓她一夕之間爆紅。隨後，立刻有網友起底，賴品妤不但顏值高，身材也相當火辣，更有人挖出「太陽花女神」穿比基尼的辣照，讓眾人看呆驚呼「汐止選民全力支持」。▲賴品妤的「頭卡麥克風」讓她瞬間爆紅。（合成圖／翻攝自賴品妤臉書、記者黃國霖攝）\\n民進黨18日召開中執會，確認新北市汐止區的立委由「太陽花女戰神」賴品妤出征；賴本人也在記者會上致詞鞠躬。不過，由於鞠躬時動作過大，賴品妤的頭卡在講台的麥克風，隨後頭髮也被麥克風分開，成為「蟑螂鬚」髮型，讓外界笑歪。▼賴品妤的麥克風照與比基尼照形成相當大的反差。（合成圖／翻攝自賴品妤臉書、記者黃國霖攝）\\n事件發生後，許多網友製作梗圖，到賴品妤的臉書留言。賴品妤本人也發文致意，「謝謝大家排山倒海的梗圖，各位鄉親的意見我聽到了。」值得一提的是，林昶佐看到後，也在下方惡搞回應，「妳是不是故意的」，讓眾人笑歪按讚。隨後，賴品妤的舊照也被網友起底。她早前時常在臉書曬「Cosplay照」與比基尼照，大方秀出好身材，讓眾人看完大讚，「汐止選民全力支持！」此外，賴品妤更新臉書粉專的照片後，還是有許多網友在下面回應，「確定不放頭插著麥克風那張嗎」、「講得非常感動！但後面硬戳壞麥克風」。▼賴品妤的比基尼舊照讓網友嗨翻。（圖／翻攝自賴品妤臉書）\\n※本文版權所有，非經授權，不得轉載。[ ETtoday著作權聲明 ]※民進黨徵召「太陽花學運女神」賴品妤參選新北市汐止區，而醞釀已久要說參選聲明，卻因為最後90度大鞠躬把頭插入麥克風，在網路上引起討論，不少網友揶揄這是「頭入參選」。決戰0111，未來自己做主！ETtoday與你一起掌握最新選舉脈動每周六21-22點鎖定《ETtoday新聞雲》，全新節目《慧眼看天下》帶您掌握國際!不論是校園鬼話、職人撞鬼、邪門小物、民間魔神仔，還是懸疑的心裡有鬼，都來投稿！天天登入新聞雲App，完成任務集T點，換購物金等好禮！即時房產新聞、最新建案採訪、各類收納秘訣、買屋租屋故事，讓您快速掌握房產脈動'}, {'title': '女生「尿尿不要用擦的」！醫：難怪下體飄臭', 'url': 'https://www.ettoday.net/news/20190918/1537736.htm?ercamp=hot_news', 'description': '記者李佳蓉／綜合報導根據統計，女生一生中約有80%機率會有至少一次的陰道或尿道感染，其中50%的人會再度感染，為了避免私密處生病，需保持乾淨與衛生，女生每每小便完後，都會用衛生紙擦拭尿道，但你知道「擦拭方向」該由前往後、或由後往前嗎？77老大估計有90%的女網友都是由前往後擦，但其實都做錯了，並傳授「正確擦法」，避免私密處成為細菌溫床的同時，還能保持芳香。過去曾任中醫師的77老大Youtube最新力作，剖析女生大小便後「應該怎麼擦」才能預防感染。他指出，女性生理結構由前至後分別為尿道口、陰道口及肛門，前兩者距離約1公分、後兩者距離約5公分，可能因個人體型、高矮胖瘦而有誤差，若以台灣地圖比例看來，大約是台北、新竹及高雄的距離。\\r\\n\\xa0\\r\\n無論是尿道或陰道感染，都與自身清潔有關。77老大提醒，平時除了內褲的材質要通風且勤更換外，夏天也要天天洗澡，多攝取益生菌以恢復陰道內的菌叢平衡，勤換衛生棉或護墊等都可幫助女性們遠離感染。除此之外，日常中的小習慣「上完大小號後」應該怎麼擦，也影響你是否會染病。首先，先談談大號，77老大說，肛門是糞便排出之處，也是細菌最多的地方，為怕排便後肛門口的細菌被往前帶而引發私密處感染，因此上完大號後一定是「由前往後擦」，他建議盡量瞄準、擦拭範圍小，不要來回撸。並提醒別以為從肛門一路擦到陰道口才會感染，「你有可能把細菌往前帶，從高雄帶到台中、彰化，所以縮短了到新竹的距離。」一旦沒擦乾淨，糞便沾到內褲上，或坐或站內褲與身體摩擦，細菌極可能跑到陰道周圍。至於上完小號該怎麼擦？77老大預估有90%的網友都是「由前往後」，但在2～3前日本NHK新聞曾訪問日本婦科女醫師中田真木，看完她的建議後，答案竟是「不要用擦的」！網友們擔心肛門細菌、汙垢被帶往陰道及尿道口，而選擇由前往後擦，「為何你不怕尿道口的尿液被帶往陰道口？」尿液無菌僅止於排出體內之前，一旦排出體外，由前往後擦所經之處沾上尿液，經時間分解會變臭。中田真木也提醒，這是造成女性下體不好聞的原因之一，且尿液造成的潮濕環境，也容易使陰道周圍成為細菌溫床。77老大轉述中田真木醫師的看法指出，無論由前往後，或由後往前擦都不太妥當，她提出「不要用擦的！而是要將衛生紙對摺後，輕輕按壓尿道口5～10秒以吸取尿液。」如此一來不會讓紙屑殘留於下體，也能避免將肛門的細菌往前帶，更不會把尿液往後帶，還能減少發炎、發臭的機率。振興醫院婦產部醫師李偉浩受訪時指出，一般女性如廁後無論是「原地輕點」或是由前往後擦都可以，「不過我對於『輕拍法』的部分更建議有發炎症狀時的人可以使用。」由於門診中常碰到患者上完廁所後擦拭太用力，導致正處發炎狀態、表皮較弱的私密處因擦拭造成紅腫破皮，而引發更嚴重的感染，但事實上，兩者都是可以的。►腦公！你不可以賴帳喔※本文版權所有，非經授權，不得轉載。[ETtoday著作權聲明]※決戰0111，未來自己做主！ETtoday與你一起掌握最新選舉脈動每周六21-22點鎖定《ETtoday新聞雲》，全新節目《慧眼看天下》帶您掌握國際!不論是校園鬼話、職人撞鬼、邪門小物、民間魔神仔，還是懸疑的心裡有鬼，都來投稿！天天登入新聞雲App，完成任務集T點，換購物金等好禮！即時房產新聞、最新建案採訪、各類收納秘訣、買屋租屋故事，讓您快速掌握房產脈動東森新媒體控股股份有限公司 版權所有，非經授權，不許轉載本網站內容 © ETtoday.net All Rights Reserved.\\r\\n\\t\\t\\t\\t\\t電話：+886-2-5555-6366'}, {'title': '咖啡被打翻！高鐵白T帥哥超暖\\u3000她PO兩張照…網神到人', 'url': 'https://www.ettoday.net/news/20190917/1536890.htm?ercamp=hot_news', 'description': '記者陳俊宏／綜合報導一名女子搭高鐵，不小心打翻旁邊一名男乘客的咖啡，結果對方的舉動讓她直呼，「下次遇見你，換我請你喝咖啡！」許多網友起鬨「在一起」，還有人神到男方臉書，「暖男快來！」▲原PO拍下暖男的照片PO網，要感謝對方。（圖／翻攝「爆料公社公開版」臉書社團）有網友今天（17日）幫當事人在「爆料公社公開版」臉書社團發文，「謝謝這位暖男先生，當天坐高鐵不小心打翻他咖啡，灑了出來。他第一句『沒關係，沒灑到妳身上就好』，也沒不耐煩，默默清理我打翻的咖啡，還問我的行李要不要放上面的置物（架）。」當事人寫道，「因為你的舉動，我知道貼心的人不多了，下次遇見你，換我請你喝咖啡。」她也貼出拍下暖男的兩張照片，只見他穿著白T，戴耳機坐在位子上睡覺，另一張則是他走進車廂的畫面。▼當事人對暖男喊話，「下次遇見你，換我請你喝咖啡。」（圖／翻攝「爆料公社公開版」臉書社團）對此，許多網友留言，「人正真好」、「在一起、在一起」、「收編當男友了啦」、「我覺得妳分明是在對這位帥哥告白」、「如果是男的打翻，故事又會不一樣了」、「如果版主是男的，我看可能要問候媽媽了」、「以下開放團購咖啡，瓶身越會倒越好」、「下次我坐高鐵，桌上也要擺滿一堆咖啡」。不少人稱讚白T暖男、「重點還長得帥」、「人帥心也帥」、「很帥！好貼心的一番話」、「帥翻！so sweet」、「帥哥又暖男」。還有人認出照片中的男子是自己的朋友，並tag他的臉書，「哇！OO欸，暖男快來。」►他奶奶的美麗小秘訣▼當事人分享在高鐵上發生的事，引起熱烈討論。（圖／資料照／記者李毓康攝）►吃一餐2700萬！\\u3000店員「金額打成統編」稅金要繳137萬…網笑：老闆跑路了►車禍重傷男搶救40分鐘不治！清潔員：我看他走出急診室\\u3000護理師聽完好毛※本文版權所有，非經授權，不得轉載。[ ETtoday著作權聲明 ]※台灣高鐵2019「中秋節假期疏運」昨（16）日順利完成，自9月12日至16日，共加開154班次列車（南下72班、北上82班），總計5天提供874班次列車的旅運服務，載運超過117萬6千餘人次旅客。其中，中秋收假日9月15日旅運達31萬8千餘人次，創2007年通車營運以來單日最高紀錄。決戰0111，未來自己做主！ETtoday與你一起掌握最新選舉脈動每周六21-22點鎖定《ETtoday新聞雲》，全新節目《慧眼看天下》帶您掌握國際!不論是校園鬼話、職人撞鬼、邪門小物、民間魔神仔，還是懸疑的心裡有鬼，都來投稿！天天登入新聞雲App，完成任務集T點，換購物金等好禮！即時房產新聞、最新建案採訪、各類收納秘訣、買屋租屋故事，讓您快速掌握房產脈動'}, {'title': '《信號》嫌犯1994年又殺人！「跟妻子吵架」性侵20歲小姨子', 'url': 'https://www.ettoday.net/news/20190918/1538374.htm?ercamp=hot_news', 'description': '記者吳睿慈／綜合報導埋藏了33年的南韓「華城連續殺人案件」18日正式被警方破獲，由於嫌犯的DNA與受害者衣物留下DNA一致，這位消失了數年的嫌犯終於浮出水面，他就是1994年犯下殺人案的一名李男（現在已50多歲），有韓媒推測出他當年犯下的慘案，應就是殘忍姦殺年僅20歲小姨子（妻子的妹妹）的「清州殺人案」。更多【華城連環殺人案】相關報導請點此「華城連環殺人」4韓劇2電影都翻拍！\\u3000神片《殺人回憶》揭密藏12年驚悚細節抓到華城連環兇手！\\u3000《信號》台詞神預言「現代醫學給被害人的禮物」…網爆雞皮▲▼華城案件殺人犯疑似就是1994年犯下姦殺小姨子的犯人。（圖／翻攝自韓網）\\n華城案件殺人犯在18日浮出水面，事件雖已過了公訴期，但李姓嫌犯早在1994年因另一起殺人案被關入監獄，對此，韓媒進一步挖出他1994年犯下的案件，疑似就是當年1月犯下姦殺年僅20歲的小姨子（妻子的妹妹）的「清州殺人案」，該嫌犯也姓李、當時30歲左右，他將加入安眠藥的水拿給小姨子喝，迷倒女方後性侵得逞。▲南韓警方18日公佈「華城連續殺人案件」真兇找到了。（圖／翻攝自KBS）\\n小姨子清醒過後發現自己遭性侵，失控地狂哭，李男因害怕惡行曝光，拿起鐵鎚砸向女方的頭，一共砸了4次，最後殘忍將其勒死，接著，他騎著機車將屍體遺棄在距離家裡1公里遠的倉庫。據李男當年向警方自白內容，妻子在1993年12月18日與他吵架憤而離家出走，小姨子卻突然找上門把他罵了一頓，因為氣不過才將其殺害。▲▼《殺人回憶》、《信號》的原型殺人犯就是「華城連續殺人案」。（圖／翻攝自韓網)\\n由於清州殺人案與華城案件殺人犯皆姓李，且年齡條件符合，外界皆在猜測是同一人所為，但警方並未給予正面答案，而關於「華城案件殺人犯」詳細調查結果，19日上午9點半（台灣時間8點半）將召開記者會說明。►每次都錯愛渣男！女孩們你少了「這一步」※本文版權所有，非經授權，不得轉載。[ETtoday]※決戰0111，未來自己做主！ETtoday與你一起掌握最新選舉脈動每周六21-22點鎖定《ETtoday新聞雲》，全新節目《慧眼看天下》帶您掌握國際!不論是校園鬼話、職人撞鬼、邪門小物、民間魔神仔，還是懸疑的心裡有鬼，都來投稿！天天登入新聞雲App，完成任務集T點，換購物金等好禮！即時房產新聞、最新建案採訪、各類收納秘訣、買屋租屋故事，讓您快速掌握房產脈動'}, {'title': '胖老爹走下神壇？內行人推2家超猛炸雞店', 'url': 'https://www.ettoday.net/news/20190919/1538409.htm?ercamp=hot_news', 'description': '網搜小組／柯沛辰報導台灣速食市場競爭激烈，北部群雄並起，南有丹丹獨霸。近年來，炸雞界「胖老爹」以黑馬之姿崛起，征服許多人的味蕾。不過，近日有人在PTT發文詢問，「有沒有推薦能屌打胖老爹炸雞的店？」引發熱烈討論，最終網友一致公認有2家店能與之匹敵。▲炸雞界競爭激烈，究竟誰是炸雞王？在網上率先引發論戰。（圖／記者姚南宏攝）原PO以「請推薦真能屌打胖老爹的炸雞店」為題，在PTT八卦版發文請益。他說，身為一位炸雞愛好者，他從胖老爹還未爆紅時就是常客，後來胖老爹主打現炸，靠著炸雞熱熱燙燙、多汁的特點一夕走紅，開始變得常常要排隊，所以近期退燒，對他而言不是壞事。原PO表示，雖然好不好吃非常主觀，但迄今為止「我還真的沒找到有哪一家是能滿足我這種現炸控的，拜託請認真推薦，真的能屌打胖老爹的（非現炸就免了）。」▲原PO在PTT發問，請網友解答能打贏胖老爹的現炸店家。（圖／翻攝自PTT）文章一出，不少胖老爹的粉絲紛紛浮出水面，「胖老爹我吃過的幾間，真的都不錯」、「胖老爹是真的不錯，很良心」，但也有人忍不住抱怨「胖老爹現在也變得跟某些速食店一樣了，我家這就是」、「胖老爹的肉根本沒醃，超沒味道」。至於能匹敵「胖老爹」炸雞店，網上大致分為兩派。許多人一面倒推薦拿坡里披薩，「拿坡里阿」、「拿坡里，但記得要內用」、「拿坡里的炸雞才是」、「愛吃辣就拿坡里，不愛辣就胖爹爹」。另一派則大推「昌平炸雞王」、「巷口昌平啦」、「當然是昌平炸雞」、「昌平不錯，推薦」、「昌平屌打」、「昌平+1」、「昌平啦，雞柳條很讚」。不過，也有人認為，「昌平吃完覺得差不多耶，真的要看各分店不同」、「昌平不錯，但輸胖老爹，我推拿坡里和平店」、「昌平在哪阿？天龍人沒聽過」、「昌平是啥？連鎖？」意外掀起論戰。▲有一派網友推薦拿坡里。（圖／翻攝自PTT）▲另一派則力推昌平炸雞王。（圖／翻攝自PTT）►不再眷戀青春，因為我持續擁有※本文版權所有，非經授權，不得轉載。[ ETtoday著作權聲明 ]※高雄速食霸主「丹丹漢堡」一直是北部人南下朝聖的店之一，高CP值被不少人大力推崇，不過就有網友久聞美名、造訪後卻失望了，他認為餐點口味雖然不錯，但似乎沒有到大家說的這麼好，好奇究竟是過譽了還是自己沒有點到精髓。決戰0111，未來自己做主！ETtoday與你一起掌握最新選舉脈動每周六21-22點鎖定《ETtoday新聞雲》，全新節目《慧眼看天下》帶您掌握國際!不論是校園鬼話、職人撞鬼、邪門小物、民間魔神仔，還是懸疑的心裡有鬼，都來投稿！天天登入新聞雲App，完成任務集T點，換購物金等好禮！即時房產新聞、最新建案採訪、各類收納秘訣、買屋租屋故事，讓您快速掌握房產脈動'}, {'title': '工程師10年存250萬\\u3000妻子4年內全部捐掉', 'url': 'https://www.ettoday.net/news/20190919/1538391.htm?ercamp=hot_news', 'description': '▲蘇姓男子辛苦存下243萬元，被妻子全部捐光了。（圖／取自免費圖庫Pakutaso）\\n大陸中心／柯振中報導「錢都沒了！」安徽合肥33歲的蘇姓男子2009年大學畢業後，投入工程師行業，10年來辛苦存下人民幣55萬元（約新台幣243萬元），患有抑鬱症的妻子竟在4年內捐出2萬多筆愛心捐款，把蘇男的存款全部捐光，直到蘇男的岳父生病需要錢開刀，事情才被發現。綜合陸媒報導，33歲的蘇男在合肥一家私人企業做資訊科技工作，由於經常加班、出差，10年內存下了約55萬元（人民幣，以下同）的存款。他2014年與妻子相識，2人結婚後，2017年5月有了小孩。蘇男的妻子早前擔任會計工作，但任職時常常說出「單位有人要害我」等話語，隨後辭職在家，專心帶小孩。蘇男為了讓妻子安心，將所有薪水、存款都交給對方保管。蘇男的岳父2019年的元宵節因為心臟病住院，當時蘇男向妻子提議「替岳父支付一些手術費」；沒想到妻子卻回，「錢都沒了！」▲妻子把蘇男賺到的錢全部捐出。（圖／取自免費圖庫pixabay）\\n蘇男聽到相當震驚，不斷追問，才發現妻子從2015年開始就透過微信、支付寶等平台向公益募捐項目捐款，款項從一開始零星的幾毛錢，到了後來6000、8000元的大筆支出，4年來捐出20,031筆，把丈夫存下的55萬元全部捐了。蘇男表示，妻子平時生活節儉，連夏天都捨不得開冷氣，也不會買新衣服，他早前想買一台熱水器給老家的父母使用，還被妻子給拒絕。事情發生後，他將妻子帶到醫院做檢查，妻子被確診出中度抑鬱症。蘇男認為，妻子是因為抑鬱症，所以無法控制自己，才把存款全部捐出，希望受贈的基金會能夠理解，退回捐款；不過雖然提出要求，但大部分的捐款已經執行，蘇男最後只能拿到約2萬元的退款。►夜深了...千萬別讓腦公看到▼影片取自Youtube，如遭移除敬請見諒。\\n※本文版權所有，非經授權，不得轉載。[ ETtoday著作權聲明 ]※來自英國馬格斯菲特（Macclesfield）的安琪拉（Angela Miah）看見女兒莎賓娜（Shabina Miah）在臉書上分享馬戲團影片，想要按讚，iPad卻出了問題，反而傳送出一連串「憤怒」表情符號。她試圖解釋，2人卻大吵一架，隔天再到女兒家中查看時，莎賓娜已因鬱血性心臟衰竭（Congestive Cardiac Failure）死亡。決戰0111，未來自己做主！ETtoday與你一起掌握最新選舉脈動每周六21-22點鎖定《ETtoday新聞雲》，全新節目《慧眼看天下》帶您掌握國際!不論是校園鬼話、職人撞鬼、邪門小物、民間魔神仔，還是懸疑的心裡有鬼，都來投稿！天天登入新聞雲App，完成任務集T點，換購物金等好禮！即時房產新聞、最新建案採訪、各類收納秘訣、買屋租屋故事，讓您快速掌握房產脈動'}, {'title': '最怕自備環保杯！飲料員：會升天\\u3000', 'url': 'https://www.ettoday.net/news/20190914/1535448.htm?ercamp=hot_news', 'description': '網搜小組／劉維榛報導為了環保愛地球，不少人會自備環保杯裝飲料！一名女網友抱怨，某次打開瓶蓋，發現內裡裝有N天前的豆漿，臭到她差點升天，誇張的是客人不願意清洗，讓人隔著螢幕彷彿都能嗅到腐臭味。文章貼出後，掀起一大票飲料店員狂曝工作辛酸史。▲環保杯若沒洗乾淨，陳年茶垢很可怕！（圖／記者劉維榛攝）一名女網友在臉書《爆怨公社》分享上班崩潰經驗，她透露，在某一家連鎖飲料工作，店內有「瓶裝回購」的活動，不少客人重複利用兼環保，便帶著瓶子來裝茶飲，乖寶寶的舉動本該值得稱讚，無奈原PO直言好噁心，「真的遇到很多，杯子打開，裡面已經不知道累積了多少茶垢，或是打開就有股難聞的氣息！」原PO舉出奇葩案例，曾看見客人拿著泛黃的瓶子，本該是透明瓶身，疑似沒有固定刷洗，「已經不能再黃的那種」；另一次是一位女客人，似乎捨不得丟掉塑膠吸管，原PO一看好錯愕，「妳的吸管真的被你咬到爛到不行，也整根變黃了，還不換呀？」最令原PO印象深刻的是，曾有客人拿著放瓶子，裝著N天前的發臭豆漿，打開瓶蓋那一瞬間，那一股驚天氣味撲鼻，「我真的差點看到我阿公！」更傻眼的是，對方堅持不洗杯子，原PO秒噴綠光，「這樣你真的喝得下去？！」►想看溫馨、搞笑、趣味滿滿的新聞，歡迎加入官方Line「ET酷搜」▲店員很打開環保杯，就怕惡臭撲鼻！（圖／翻攝臉書爆怨公社）無奈基於專業與尊重，原PO只能強忍微笑，接著迅速憋氣處理「特殊調味」的瓶子們，「但我真的覺得有一天會死在客人的杯子下！」文章曝光後，掀起大批網友不自覺作嘔，「現代版孟婆湯啦」、「我的天，是什麼抵抗力免疫力訓練嗎」、「好可怕，為了環保那些人都忘了衛生了，我沒辦法，我自己會聞杯子，連有上一種飲料的味道我都不行」、「他們都不會挫屎嗎」、「那是他養很久的瓶子，不能洗掉」、「這樣真的很危險，哪天食物中毒又要被告」。畫面感十足的故事，令不少飲料店店員發抖直呼，「我拿過杯子裡面打開都是螞蟻的，嚇死我」、「我真的看過有人拿去飲料店的瓶子沒洗，要求店員幫他沖沖就好，瓶子看起來超噁心的」、「 以前做的飲料店，不提供杯子只提供環保瓶，透明的還好，其他不透光的瓶子，每次打開前都要深呼吸然後憋氣」、「我有遇過朋友的杯子的味道像臭酸的母奶味道，真的聞了會升天」、「認同！有的真的打開會倒彈3步…酸臭味重得很可怕」。►韓國直送！買二盒送二片保濕面膜組，特惠價699元※本文版權所有，非經授權，不得轉載。[ ETtoday著作權聲明 ]※中秋連假家家戶戶傳出烤肉香，但口渴想喝飲料時仍會使用手機使用外送服務。一名Uber eats外送員表示，他中秋連假沒休息都在工作，正在苦惱沒有過到中秋節時，一名客人竟送了他一盒月餅，讓他當下拼命道謝，眼眶都紅了。\\r\\n\\r\\n決戰0111，未來自己做主！ETtoday與你一起掌握最新選舉脈動每周六21-22點鎖定《ETtoday新聞雲》，全新節目《慧眼看天下》帶您掌握國際!不論是校園鬼話、職人撞鬼、邪門小物、民間魔神仔，還是懸疑的心裡有鬼，都來投稿！天天登入新聞雲App，完成任務集T點，換購物金等好禮！即時房產新聞、最新建案採訪、各類收納秘訣、買屋租屋故事，讓您快速掌握房產脈動'}, {'title': '哈孝遠虧過頭！男星停機錄不下去', 'url': 'https://www.ettoday.net/news/20190919/1538601.htm?ercamp=hot_news', 'description': '記者潘慧中／綜合報導哈孝遠轉戰演藝圈表現亮眼，但過程中難免受悶虧，他透露曾主持過一個外景節目，可能不是熱門時段的關係，所以沒有維持太久，錄最後一集的時候，乖乖聽製作人的指示狂虧男主持人，怎料對方最後走心了，「他就真的翻臉了，就停機先不錄。」警察給《信號》殺人魔的話曝光！\\u3000含恨20年…只敢躲車上看《殺人回憶》痛哭人妻婚後不敢放屁！老公聽到屁聲狠酸：妳好髒\\u3000「變態家規」逼瘋她離婚▲製作人指示哈孝遠一行人狂虧男主持人。（圖／翻攝自YouTube／麻辣天后傳）\\n哈孝遠上《麻辣天后傳》透露當時分2隊比賽，他這隊狂贏到一路爽吃高級美食，另一隊的男主持人只能乾瞪眼，對方好不容易吃到東西卻無法好好地形容口感，「說真的他講口感的功力並不是那麼細膩。」他和同隊女生忍不住小虧了對方。▲▼哈孝遠一行人一開始只是小虧男主持人。（圖／翻攝自YouTube／麻辣天后傳）\\n為了節目效果，製作人見狀馬上要求哈孝遠繼續虧下去，正當男主持人準備拿白酒配牛排一起吃時，哈孝遠和其他3人異口同聲地說：「牛排要配紅酒啦！」結果對方真的抓狂了：「有需要這樣一直虧嗎？奇怪欸，從頭虧到尾這樣！」對方更氣的是同一隊的女主持人也開玩笑說：「吼唷跟你一隊真的很衰耶！」▲▼男主持人最後真的走心了。（圖／翻攝自YouTube／麻辣天后傳）\\n哈孝遠坦言大家的確虧得有點過火了，「但是因為製作人叫我們虧啊！」一度停機錄不下去，女主持人也嚇到躲在廁所哭，他們一行人只好過去道歉，照理說製作人應該要出來打圓場，怎料男製作人不但反過來指責女主持人：「妳應該哭啊！好笑嗎妳告訴我」，還怪他不該虧過頭，「人家好好的主持人是這樣被你們這種人虧的嗎？」他不願揹黑鍋也當場回擊：「你在講什麼東西啊！虧也是你叫我們虧的啊！」▲▼製作人翻臉不認人。（圖／翻攝自YouTube／麻辣天后傳）\\n▲約從08：38分開始。（影／取自YouTube／麻辣天后傳）\\n►就算爬到樹上！妳還是很美►產檢過關卻生罕病兒！\\u3000醫生拍手狂喜…「才知一切全是陰謀」48歲女星跌地痛哭\\n►交往瑤瑤2年「出門要看別人臉色」\\u3000南韓男友受夠她狂踩3地雷：真的很傻眼※本文版權所有，非經授權，不得轉載。[ETtoday]※決戰0111，未來自己做主！ETtoday與你一起掌握最新選舉脈動每周六21-22點鎖定《ETtoday新聞雲》，全新節目《慧眼看天下》帶您掌握國際!不論是校園鬼話、職人撞鬼、邪門小物、民間魔神仔，還是懸疑的心裡有鬼，都來投稿！天天登入新聞雲App，完成任務集T點，換購物金等好禮！即時房產新聞、最新建案採訪、各類收納秘訣、買屋租屋故事，讓您快速掌握房產脈動'}, {'title': '華城連環「10血案細節」曝！ 性侵塞桃、原子筆殺9女', 'url': 'https://www.ettoday.net/news/20190919/1538363.htm?ercamp=hot_news', 'description': '記者阮巧雯／綜合報導南韓33年超懸疑「華城連續殺人案」18日犯人找到了！南韓警察在獄中發現一名50多歲受刑人，DNA居然與這起慘案的連環殺人犯100%完全吻合，讓這起重大懸案透出一絲曙光，同時震驚南韓人民，而且燒腦神劇《信號》、《岬童夷》和電影《殺人回憶》皆是改編自此宗連續殺人慘案。更多【華城連環殺人案】相關報導請點此▲▼《殺人回憶》和《信號》都改編自「華城連續殺人案」。（圖／翻攝自電影劇照、tvN)根據韓媒報導，警方重新翻找「華城連環殺人案」被害者所留下的證據時，在衣服上發現第三者DNA，交給國立科學搜查研究院經比對後，才得出此案最新驚人進展。 「華城連環殺人案」最後一起發生在1991年，雖已過公訴期15年，恐難以用「華城連環殺人案」名義再訴犯人，對此，京畿南部地方警察廳將會於19日上午9點半將會召開記者會說明。▲33年懸案「華城連環殺人案」，南韓警方終於在18日找到犯人。（圖／翻攝自KBS)講起「華城連環殺人案」著實讓當時居民人心惶惶，更是南韓警察的夢魘，第一起殺人案發生於1986年9月14日，一位71歲老太太在返家途中遭勒死，被發現時手腳被「X字捆綁」，下半身全裸趴在田裡。自此，8起相同手法連續殺人案件，接連發生。同年10月，一名25歲女子在前往公車站途中遭性侵後勒死，胸口有4處由螺絲起子造成傷口。接下來2起都分別發生在11月，24歲權姓女子和21歲李姓女子皆在搭公車返家途中，先遭性侵後勒死，最終陳屍田野。▲南韓警方18日找到犯人，不但震驚南韓人民，同樣也引起國際關注。（圖／翻攝自KBS)時隔1年，1987年第5起殺人案發不幸發生於一名18歲女學生洪真英，她晚上8點多下課獨自搭公車卻失蹤，遭兇手用圍巾勒斃，隔天陳屍田埂中。她被發現時，身上蓋著衣服但全裸，雙手反綁，嘴巴還被塞入襪子。1987年5月2日第6起殺人案發生，30歲主婦朴恩珠晚上約11點拿著雨傘接送丈夫，途中卻遭兇手用內衣勒死，屍體被發現時是上半身赤裸。1988年9月7日，第7位受害女性同樣也在晚間遇害，是一名52歲主婦，不但慘遭勒死，雙手遭內衣反，屍體更驚見陰道被塞入「9塊水蜜桃」，嘴巴被塞入襪子和手帕。1988年9月16日兇手竟下手年僅13歲未成年少女朴相熙，晚間前往教會途中遭嫌犯強拖到田埂間，衣服被脫下後雙手被衣物綁在身後，嘴巴被內褲塞住，頭部則被短褲套住。她接著慘遭嫌犯性侵，但趁嫌犯搜刮財物時馬上逃到對面村莊，成為唯一倖存者！自此，兇手2年內未再犯案，但就在1990年第8起殺人案再次發生。一名14歲少女在放學返家途中遭勒死，胸口發現2道刀傷，屍體被發現時不但雙手雙腳遭反綁，陰道更被插入叉子、湯匙和原子筆。前面數起變態殺人手法，令警方研判和華城連續殺人案為同一犯人！最後一起連續殺人案發生在1991年4月3日，69歲婦人於大約晚間9點返家在途中，遭兇手用長襪勒斃，最後陳屍家中附近樹林，被發現時陰道內發現襪子。據悉，這名變態殺人魔5年內總共加害10人，其中一名受害者幸運逃脫。南韓警方為破解這宗連續殺人案，共動用了205萬名警員和軍隊，搜查嫌犯人數高達2萬多個，更鑑定了40116枚指紋、180根毛髮和570組DNA。但由於當時科學調查技術欠佳，就算握有犯人在場血液、精液和毛髮等等，最終只能找出其血型為B型線索。時隔33年終於有了重大突破，不但震驚整個南韓，更引起國際關注。►《信號》殺人魔找到了：DNA一致！\\u3000消失33年…「下體塞桃」5年內殺9人\\n ►《信號》嫌犯1994年又殺人！「跟妻子吵架」性侵20歲小姨子…鐵鎚砸頭棄屍\\n►他奶奶的美麗小秘訣！►媽媽比女兒還正！全靠「超強神器」辦到※本文版權所有，非經授權，不得轉載。[ETtoday]※決戰0111，未來自己做主！ETtoday與你一起掌握最新選舉脈動每周六21-22點鎖定《ETtoday新聞雲》，全新節目《慧眼看天下》帶您掌握國際!不論是校園鬼話、職人撞鬼、邪門小物、民間魔神仔，還是懸疑的心裡有鬼，都來投稿！天天登入新聞雲App，完成任務集T點，換購物金等好禮！即時房產新聞、最新建案採訪、各類收納秘訣、買屋租屋故事，讓您快速掌握房產脈動'}, {'title': '開箱YouTube訂閱破億「紅鑽石獎牌」', 'url': 'https://www.ettoday.net/news/20190913/1534817.htm?ercamp=hot_news', 'description': '記者張筱涵／綜合報導YouTuber訂閱人數破10萬就會收到YouTube官方送的「白銀創作者獎」的銀牌，破百萬訂閱人數就會收到「黃金創作者獎」的金牌，到這邊都還算是很常見的獎牌，許多台灣YouTuber也都有拿到後開箱給大家看，但觀眾們知道如果破「億」訂閱人數的話，所屬經營者會收到什麼樣的獎牌嗎？▲YouTube鼓勵每個人都來創作影片。（圖／翻攝自YouTube）PewDiePie頻道訂閱人數有1.01億，連帶其他社群平台也都是破千萬的追蹤人數，10日時他上傳一段影片分享YouTube送來的訂閱破億紀念獎牌，可以看見他拿起一個畫有YouTube LOGO的皮箱，從拿的姿勢可知重量並不輕，他一打開發現不同於金、銀獎牌，而是整個LOGO被打造成水晶樣式，中間的播放符號還特別設計成紅色的看起來相當有氣勢，沒想到一看官方IG才知道材質相當驚人。▲PewDiePie收到破億訂閱獎牌。（圖／翻攝自PewDiePie YouTube）其實原本YouTube官方發佈的創作者獎只有規劃到破千萬訂閱，破千萬訂閱者可以獲得「鑽石創作者獎」，獎牌可見都是白色調為主，中間播放符號可能有一些鑽石元素，但因為這個紀錄已經被破億訂閱者PewDiePie打破，官方7日也在Instagram宣布破億訂閱得獎牌將獲得「紅鑽石創作者獎」，按照前面案例雖然不會全是金、銀或鑽石材質，但還是會有一點成分，這次想必也是一樣。▲YouTube原本只設定獎牌最高到破千萬訂閱獲得鑽石創作者獎。（圖／翻攝自YouTube）▲YouTube為了破億訂閱者再創新獎項。（圖／翻攝自YouTube官方IG）瑞典人PewDiePie剛開始經營頻道時，主要拍攝遊戲實玩和評論類別，後來主要都在拍攝網路謠言、網路迷因等影片，2013年訂閱人數突然暴增到1200萬人次，當年8月成為在YouTube上訂閱人數最多的頻道，後來雖然一度被超越，但積極創新甚至還挑戰出單曲後，一直到2019年8月25日成為第一個個人頻道破億訂閱的YouTuber。►韓國直送！超保濕面膜買3盒送3片～小資女孩買起來▼Unboxing 100 MIL YouTubeAWARD！（影片／取自PewDiePie YouTube，如遭刪除請見諒）※本文版權所有，非經授權，不得轉載。[ETtoday]※決戰0111，未來自己做主！ETtoday與你一起掌握最新選舉脈動每周六21-22點鎖定《ETtoday新聞雲》，全新節目《慧眼看天下》帶您掌握國際!不論是校園鬼話、職人撞鬼、邪門小物、民間魔神仔，還是懸疑的心裡有鬼，都來投稿！天天登入新聞雲App，完成任務集T點，換購物金等好禮！即時房產新聞、最新建案採訪、各類收納秘訣、買屋租屋故事，讓您快速掌握房產脈動'}, {'title': '南韓男友受夠瑤瑤狂踩3地雷', 'url': 'https://www.ettoday.net/news/20190919/1538503.htm?ercamp=hot_news', 'description': '記者潘慧中／綜合報導瑤瑤（黃喬歆）跟韓籍男友李振遠（Andy）交往快2年，直到4月才公開認愛，小倆口越愛越大方，開始拍片跟粉絲分享交往細節，在最新影片談起與藝人交往的缺點，男友數度暴走大喊：「妳不能先跟我講嗎…這樣不行嗎？這樣很困難嗎？」▲▼瑤瑤和男友交往快2年了。（圖／翻攝自Instagram／qiaoxinhuang）\\n李振遠透露牽手、擁抱和親吻明明都是情侶間很正常的互動，但自從和瑤瑤交往後，出門在外「都要看別人的臉色」，女友常以「這邊人太多」拒絕自己，他真的覺得很傻眼。雖然瑤瑤認為這和藝人身份無關，「不能回家的時候再牽手嗎？為什麼一定要外面親親抱抱？」她最後仍向男友保證會改進。▲▼李振遠無法理解瑤瑤在外面不和他牽手的原因。（圖／翻攝自YouTube／振遠喬歆）\\n此外，舉凡小倆口出國旅行一定會遇到台灣人，瑤瑤八成會被認出且被要求合照，李振遠也能理解，但路人都直接把手機塞給他、一句拜託的話都沒說，「我不是空氣好不好！」女友卻無法理解：「你幫忙拍一下會死啊！」更誇張的是，路人看完照片還會跟他說：「後面的背景可以幫我拍多留一下嗎？」氣得他直呼需求太多。▲李振遠抱怨和藝人交往的3大地雷。（圖／翻攝自YouTube／振遠喬歆）\\n最後考慮到藝人隱私，瑤瑤常常用李振遠的電話號碼訂位、買網拍，「難不成你希望我一天到晚接到一些不敢接的電話？！」對此，他可以理解這一點，但他在意的點是女友不事先說一聲，「這樣不行嗎？這樣很困難嗎？那我在韓國也可以亂用妳的電話號碼、妳的名字嗎？」▲李振遠和瑤瑤越吵越甜蜜。（圖／翻攝自YouTube／振遠喬歆）\\n►偷偷分享少女秘密！※本文版權所有，非經授權，不得轉載。[ETtoday]※決戰0111，未來自己做主！ETtoday與你一起掌握最新選舉脈動每周六21-22點鎖定《ETtoday新聞雲》，全新節目《慧眼看天下》帶您掌握國際!不論是校園鬼話、職人撞鬼、邪門小物、民間魔神仔，還是懸疑的心裡有鬼，都來投稿！天天登入新聞雲App，完成任務集T點，換購物金等好禮！即時房產新聞、最新建案採訪、各類收納秘訣、買屋租屋故事，讓您快速掌握房產脈動'}, {'title': '姊爬上老公床！王瞳心死削髮為尼', 'url': 'https://www.ettoday.net/news/20190918/1537880.htm?ercamp=hot_news', 'description': '記者林奕如／台北報導王瞳在民視《大時代》飾演伍家媚，和煥然（馬俊麟 飾）原本情深，但煥然假死消失3年，她答應和初戀志開（韓宜邦 飾）結婚，沒想到婚後志開不斷猜疑，最後出軌她的親姊姊若蘭（楚宣 飾），王瞳備受打擊哭到崩潰，最新一集中，她決定削髮為尼，劇情高潮不斷。▲▼《大時代》劇情飆高潮。（圖／民視戲劇館）王瞳劇中角色家媚感情坎坷，原本和初戀志開論及婚嫁，最後被拆散，身旁「大仁哥」煥然溫柔守護，兩人互許終身，但無奈受到考驗，煥然墜樓假死，她哭到崩潰心死，3年後煥然失明回歸，但她已經要嫁給初戀，這段三角戀，讓不少網友直呼超虐心。▲▼王瞳決心削髮為尼。（圖／民視戲劇館）新八點檔《多情城市》即將接檔，該劇最後收尾下猛藥，江祖平回歸劇組，王瞳劇中這段婚姻也問題不斷，志開不斷猜疑她心裡有煥然，最後和她的親姊姊若蘭愈走越近，陷入不倫戀，而若蘭跟志開說自己懷孕，最後傳到大家都知道，王瞳哭到崩潰，姐妹徹底斷情。▲▼王瞳被煥然阻擋。（圖／民視戲劇館）劇情放大絕，17日4歲以上平均收視率5.03，最高一分鐘收視人口 130萬人搶看。18日最新劇情，王瞳跑到廟裡，不想再困在命運當中，拿起剪刀決定削髮為尼，最後被重見光明的煥然所救，兩人在河堤看夕陽，王瞳聽到煥然一番話振作，微笑向志前提出離婚。劇情也引起PTT一片討論，許多人表示這段婚姻一開始就有問題，家媚心中還有人，就因為恩情嫁給志開，志開也是猜疑不斷，若蘭也是不斷情緒勒索，最後幸美（江祖平 飾）回歸，但只叫家媚退讓、偏心若蘭也是怪，角色每一個人都要反省檢討。▲▼王瞳微笑向志開提出離婚。（圖／民視戲劇館）►修圖修到厭世！這款CP值很可以\\n※本文版權所有，非經授權，不得轉載。[ETtoday]※決戰0111，未來自己做主！ETtoday與你一起掌握最新選舉脈動每周六21-22點鎖定《ETtoday新聞雲》，全新節目《慧眼看天下》帶您掌握國際!不論是校園鬼話、職人撞鬼、邪門小物、民間魔神仔，還是懸疑的心裡有鬼，都來投稿！天天登入新聞雲App，完成任務集T點，換購物金等好禮！即時房產新聞、最新建案採訪、各類收納秘訣、買屋租屋故事，讓您快速掌握房產脈動'}]\n"
     ]
    }
   ],
   "source": [
    "print(result_list)\n",
    "  \n"
   ]
  },
  {
   "cell_type": "code",
   "execution_count": null,
   "metadata": {
    "collapsed": true
   },
   "outputs": [],
   "source": []
  },
  {
   "cell_type": "code",
   "execution_count": 116,
   "metadata": {
    "collapsed": false
   },
   "outputs": [
    {
     "data": {
      "text/plain": [
       "[{'title': '產檢全過關卻生罕病兒！48歲女星「揭穿醫生恐怖陰謀」',\n",
       "  'url': 'https://www.ettoday.net/news/20190919/1538537.htm?ercamp=hot_news'},\n",
       " {'title': '《信號》殺人魔找到了\\u3000消失33年…「下體塞桃」5年內殺9人',\n",
       "  'url': 'https://www.ettoday.net/news/20190918/1538315.htm?ercamp=hot_news'},\n",
       " {'title': '少女放學回家蹲廁所竟離奇暴斃',\n",
       "  'url': 'https://www.ettoday.net/news/20190918/1538085.htm?ercamp=hot_news'},\n",
       " {'title': '賴品妤泳照曝光\\u3000黑色比基尼辣哭網友',\n",
       "  'url': 'https://www.ettoday.net/news/20190919/1538378.htm?ercamp=hot_news'},\n",
       " {'title': '女生「尿尿不要用擦的」！醫：難怪下體飄臭',\n",
       "  'url': 'https://www.ettoday.net/news/20190918/1537736.htm?ercamp=hot_news'},\n",
       " {'title': '咖啡被打翻！高鐵白T帥哥超暖\\u3000她PO兩張照…網神到人',\n",
       "  'url': 'https://www.ettoday.net/news/20190917/1536890.htm?ercamp=hot_news'},\n",
       " {'title': '《信號》嫌犯1994年又殺人！「跟妻子吵架」性侵20歲小姨子',\n",
       "  'url': 'https://www.ettoday.net/news/20190918/1538374.htm?ercamp=hot_news'},\n",
       " {'title': '胖老爹走下神壇？內行人推2家超猛炸雞店',\n",
       "  'url': 'https://www.ettoday.net/news/20190919/1538409.htm?ercamp=hot_news'},\n",
       " {'title': '工程師10年存250萬\\u3000妻子4年內全部捐掉',\n",
       "  'url': 'https://www.ettoday.net/news/20190919/1538391.htm?ercamp=hot_news'},\n",
       " {'title': '最怕自備環保杯！飲料員：會升天\\u3000',\n",
       "  'url': 'https://www.ettoday.net/news/20190914/1535448.htm?ercamp=hot_news'},\n",
       " {'title': '哈孝遠虧過頭！男星停機錄不下去',\n",
       "  'url': 'https://www.ettoday.net/news/20190919/1538601.htm?ercamp=hot_news'},\n",
       " {'title': '華城連環「10血案細節」曝！ 性侵塞桃、原子筆殺9女',\n",
       "  'url': 'https://www.ettoday.net/news/20190919/1538363.htm?ercamp=hot_news'},\n",
       " {'title': '開箱YouTube訂閱破億「紅鑽石獎牌」',\n",
       "  'url': 'https://www.ettoday.net/news/20190913/1534817.htm?ercamp=hot_news'},\n",
       " {'title': '南韓男友受夠瑤瑤狂踩3地雷',\n",
       "  'url': 'https://www.ettoday.net/news/20190919/1538503.htm?ercamp=hot_news'},\n",
       " {'title': '姊爬上老公床！王瞳心死削髮為尼',\n",
       "  'url': 'https://www.ettoday.net/news/20190918/1537880.htm?ercamp=hot_news'}]"
      ]
     },
     "execution_count": 116,
     "metadata": {},
     "output_type": "execute_result"
    }
   ],
   "source": [
    "result_list"
   ]
  },
  {
   "cell_type": "code",
   "execution_count": null,
   "metadata": {
    "collapsed": true
   },
   "outputs": [],
   "source": []
  },
  {
   "cell_type": "code",
   "execution_count": null,
   "metadata": {
    "collapsed": true
   },
   "outputs": [],
   "source": []
  },
  {
   "cell_type": "code",
   "execution_count": 76,
   "metadata": {
    "collapsed": false
   },
   "outputs": [
    {
     "name": "stdout",
     "output_type": "stream",
     "text": [
      "《信號》殺人魔找到了　消失33年…「下體塞桃」5年內殺9人\n",
      "https://www.ettoday.net/news/20190918/1538315.htm?ercamp=hot_news\n",
      "少女放學回家蹲廁所竟離奇暴斃\n",
      "https://www.ettoday.net/news/20190918/1538085.htm?ercamp=hot_news\n",
      "賴品妤泳照曝光　黑色比基尼辣哭網友\n",
      "https://www.ettoday.net/news/20190919/1538378.htm?ercamp=hot_news\n",
      "產檢全過關卻生罕病兒！48歲女星「揭穿醫生恐怖陰謀」\n",
      "https://www.ettoday.net/news/20190919/1538537.htm?ercamp=hot_news\n",
      "女生「尿尿不要用擦的」！醫：難怪下體飄臭\n",
      "https://www.ettoday.net/news/20190918/1537736.htm?ercamp=hot_news\n",
      "《信號》嫌犯1994年又殺人！「跟妻子吵架」性侵20歲小姨子\n",
      "https://www.ettoday.net/news/20190918/1538374.htm?ercamp=hot_news\n",
      "工程師10年存250萬　妻子4年內全部捐掉\n",
      "https://www.ettoday.net/news/20190919/1538391.htm?ercamp=hot_news\n",
      "咖啡被打翻！高鐵白T帥哥超暖　她PO兩張照…網神到人\n",
      "https://www.ettoday.net/news/20190917/1536890.htm?ercamp=hot_news\n",
      "胖老爹走下神壇？內行人推2家超猛炸雞店\n",
      "https://www.ettoday.net/news/20190919/1538409.htm?ercamp=hot_news\n",
      "華城連環「10血案細節」曝！ 性侵塞桃、原子筆殺9女\n",
      "https://www.ettoday.net/news/20190919/1538363.htm?ercamp=hot_news\n",
      "最怕自備環保杯！飲料員：會升天　\n",
      "https://www.ettoday.net/news/20190914/1535448.htm?ercamp=hot_news\n",
      "開箱YouTube訂閱破億「紅鑽石獎牌」\n",
      "https://www.ettoday.net/news/20190913/1534817.htm?ercamp=hot_news\n",
      "姊爬上老公床！王瞳心死削髮為尼\n",
      "https://www.ettoday.net/news/20190918/1537880.htm?ercamp=hot_news\n",
      "台南女騎士斷兩截慘死　女同事目睹嚇哭\n",
      "https://www.ettoday.net/news/20190919/1538392.htm?ercamp=hot_news\n",
      "南韓男友受夠瑤瑤狂踩3地雷\n",
      "https://www.ettoday.net/news/20190919/1538503.htm?ercamp=hot_news\n"
     ]
    }
   ],
   "source": [
    "soup = BeautifulSoup(response.text, \"lxml\")\n",
    "\n",
    "\n",
    "table = soup.find_all(\"div\" , {\"class\" : \"part_list_5 sidebar-hot-news clearfix\"})\n",
    "\n",
    "url = \"https://www.ettoday.net\"\n",
    "table_h3 = table[0].find_all(\"h3\")\n",
    "result = dict()\n",
    "for item in table_h3:    \n",
    "    if item.find(\"a\") is not None:\n",
    "        result[\"title\"]item.find(\"a\").getText())\n",
    "        print(url + item.find(\"a\").get(\"href\"))"
   ]
  },
  {
   "cell_type": "code",
   "execution_count": 74,
   "metadata": {
    "collapsed": true
   },
   "outputs": [],
   "source": [
    "def get_detail(url):\n",
    "    detail_response = requests.get(url)\n",
    "    soup_detail = BeautifulSoup(detail_response.text, \"lxml\")\n",
    "    content = soup_detail.find_all(\"p\")\n",
    "    description = \"\"\n",
    "    for item in content:\n",
    "        description = description + item.getText()\n",
    "    return description"
   ]
  },
  {
   "cell_type": "code",
   "execution_count": 76,
   "metadata": {
    "collapsed": false
   },
   "outputs": [],
   "source": [
    "url = \"https://www.ettoday.net\"\n",
    "result_list = list()\n",
    "for item in table_h3:\n",
    "    result = dict()\n",
    "    if item.find(\"a\") is not None:\n",
    "        result[\"title\"]= item.find(\"a\").getText()\n",
    "        result[\"url\"] = url + item.find(\"a\").get(\"href\") \n",
    "        des = get_detail(\"https://www.ettoday.net/news/20190910/1532221.htm?ercamp=hot_news\")\n",
    "        result[\"description\"] = des\n",
    "        result_list.append(result)"
   ]
  },
  {
   "cell_type": "code",
   "execution_count": 77,
   "metadata": {
    "collapsed": false
   },
   "outputs": [
    {
     "data": {
      "text/plain": [
       "[{'title': '9月20日開賣！iPhone 11系列價格曝',\n",
       "  'url': 'https://www.ettoday.net/news/20190910/1532221.htm?ercamp=hot_news',\n",
       "  'description': '記者錢玉紘／綜合報導蘋果秋季發表會將在台灣時間9月11日凌晨1點登場，網路上有曝光價格與開賣時間等資訊。據了解，新款iPhone包含iPhone 11 Pro Max、iPhone 11 Pro與iPhone 11，台灣將於9月20日開賣，iPhone 11 Pro系列最低容量從128GB開始，因此iPhone 11 Pro Max最低價從價格從41,500起跳。▲網傳iPhone 11的新色。（圖／翻攝自MacRumors）\\r\\niPhone 11 Pro系列螢幕分別為6.5吋與5.8吋，外型最大改變就是3鏡頭設計，還加入了120度超廣角鏡頭，支援使用Apple Pencil，且最低容量直接加倍，變為128、256、512GB三種選擇。至於價格方面，iPhone 11 Pro Max預計的售價分別是41,500 / 45,500 / 52,900；iPhone 11 Pro預計的售價則是35,900 / 41,500 / 45,500元，若最後真的是這個價格，等於比目前iPhone XS定價更便宜一點。\\n\\r\\niPhone 11則用6.1吋LCD螢幕以及1200萬畫素雙鏡頭，容量選擇有64、128、256GB三種，還有黑、白、紅、黃、綠、薰衣草紫等6色可選擇，預計售價為26,900 / 28,900 / 32,500元，並且會延續iPhone XR去年的策略，比其他兩款稍晚一點開賣。這三款新機皆支援雙向無線充電，iPhone 11系列將採用最新的A13處理器，性能更強，耗能卻更低。而在iOS系統升級後，A13處理器和iOS 13系統將能配合順暢，使iPhone 11系列操作更流暢。市場預期今年發表會也將推出Apple Watch Series 5，新一代的蘋果手錶採用鈦合金與陶瓷材質，另外Apple Watch 5可能會搭載官方所開發的睡眠追蹤功能，而這也意味著新手錶將會擁有更強的電池續航力，才能應付使用者的需求。►iPhone 11系列「台灣全售價流出」\\u3000買11 Pro 512GB最划算！現賺3400元►iPhone發表前反轉！郭明錤新7大預測：不支援筆、沒雙向充電※本文版權所有，非經授權，不得轉載。[ ETtoday著作權聲明 ]※蘋果秋季發表會將於明天（11）凌晨登場，但卻未激勵蘋概股走揚，反倒成為拖累盤勢因素，台股今（10）日開低走低，並一度跌破5日均線約10,750點。終場收在10,753點、下跌47點或0.44%，成交量1,197.8億元。投票給你最愛的選手，讓他擁有百萬宣傳機會！快快投票，讓你支持的選手紅起來！每周六21-22點鎖定《ETtoday新聞雲》，全新節目《慧眼看天下》帶您掌握國際!不論是校園鬼話、職人撞鬼、邪門小物、民間魔神仔，還是懸疑的心裡有鬼，都來投稿！天天登入新聞雲App，完成任務集T點，換購物金等好禮！即時房產新聞、最新建案採訪、各類收納秘訣、買屋租屋故事，讓您快速掌握房產脈動'},\n",
       " {'title': '姐姐妳好臭！20歲女「房裡全是衛生紙」…真相母心疼',\n",
       "  'url': 'https://www.ettoday.net/news/20190910/1532425.htm?ercamp=hot_news',\n",
       "  'description': '記者錢玉紘／綜合報導蘋果秋季發表會將在台灣時間9月11日凌晨1點登場，網路上有曝光價格與開賣時間等資訊。據了解，新款iPhone包含iPhone 11 Pro Max、iPhone 11 Pro與iPhone 11，台灣將於9月20日開賣，iPhone 11 Pro系列最低容量從128GB開始，因此iPhone 11 Pro Max最低價從價格從41,500起跳。▲網傳iPhone 11的新色。（圖／翻攝自MacRumors）\\r\\niPhone 11 Pro系列螢幕分別為6.5吋與5.8吋，外型最大改變就是3鏡頭設計，還加入了120度超廣角鏡頭，支援使用Apple Pencil，且最低容量直接加倍，變為128、256、512GB三種選擇。至於價格方面，iPhone 11 Pro Max預計的售價分別是41,500 / 45,500 / 52,900；iPhone 11 Pro預計的售價則是35,900 / 41,500 / 45,500元，若最後真的是這個價格，等於比目前iPhone XS定價更便宜一點。\\n\\r\\niPhone 11則用6.1吋LCD螢幕以及1200萬畫素雙鏡頭，容量選擇有64、128、256GB三種，還有黑、白、紅、黃、綠、薰衣草紫等6色可選擇，預計售價為26,900 / 28,900 / 32,500元，並且會延續iPhone XR去年的策略，比其他兩款稍晚一點開賣。這三款新機皆支援雙向無線充電，iPhone 11系列將採用最新的A13處理器，性能更強，耗能卻更低。而在iOS系統升級後，A13處理器和iOS 13系統將能配合順暢，使iPhone 11系列操作更流暢。市場預期今年發表會也將推出Apple Watch Series 5，新一代的蘋果手錶採用鈦合金與陶瓷材質，另外Apple Watch 5可能會搭載官方所開發的睡眠追蹤功能，而這也意味著新手錶將會擁有更強的電池續航力，才能應付使用者的需求。►iPhone 11系列「台灣全售價流出」\\u3000買11 Pro 512GB最划算！現賺3400元►iPhone發表前反轉！郭明錤新7大預測：不支援筆、沒雙向充電※本文版權所有，非經授權，不得轉載。[ ETtoday著作權聲明 ]※蘋果秋季發表會將於明天（11）凌晨登場，但卻未激勵蘋概股走揚，反倒成為拖累盤勢因素，台股今（10）日開低走低，並一度跌破5日均線約10,750點。終場收在10,753點、下跌47點或0.44%，成交量1,197.8億元。投票給你最愛的選手，讓他擁有百萬宣傳機會！快快投票，讓你支持的選手紅起來！每周六21-22點鎖定《ETtoday新聞雲》，全新節目《慧眼看天下》帶您掌握國際!不論是校園鬼話、職人撞鬼、邪門小物、民間魔神仔，還是懸疑的心裡有鬼，都來投稿！天天登入新聞雲App，完成任務集T點，換購物金等好禮！即時房產新聞、最新建案採訪、各類收納秘訣、買屋租屋故事，讓您快速掌握房產脈動'},\n",
       " {'title': '6縣市豪大雨特報！雙颱可能接力生成\\u3000中秋連假變天',\n",
       "  'url': 'https://www.ettoday.net/news/20190910/1532217.htm?ercamp=hot_news',\n",
       "  'description': '記者錢玉紘／綜合報導蘋果秋季發表會將在台灣時間9月11日凌晨1點登場，網路上有曝光價格與開賣時間等資訊。據了解，新款iPhone包含iPhone 11 Pro Max、iPhone 11 Pro與iPhone 11，台灣將於9月20日開賣，iPhone 11 Pro系列最低容量從128GB開始，因此iPhone 11 Pro Max最低價從價格從41,500起跳。▲網傳iPhone 11的新色。（圖／翻攝自MacRumors）\\r\\niPhone 11 Pro系列螢幕分別為6.5吋與5.8吋，外型最大改變就是3鏡頭設計，還加入了120度超廣角鏡頭，支援使用Apple Pencil，且最低容量直接加倍，變為128、256、512GB三種選擇。至於價格方面，iPhone 11 Pro Max預計的售價分別是41,500 / 45,500 / 52,900；iPhone 11 Pro預計的售價則是35,900 / 41,500 / 45,500元，若最後真的是這個價格，等於比目前iPhone XS定價更便宜一點。\\n\\r\\niPhone 11則用6.1吋LCD螢幕以及1200萬畫素雙鏡頭，容量選擇有64、128、256GB三種，還有黑、白、紅、黃、綠、薰衣草紫等6色可選擇，預計售價為26,900 / 28,900 / 32,500元，並且會延續iPhone XR去年的策略，比其他兩款稍晚一點開賣。這三款新機皆支援雙向無線充電，iPhone 11系列將採用最新的A13處理器，性能更強，耗能卻更低。而在iOS系統升級後，A13處理器和iOS 13系統將能配合順暢，使iPhone 11系列操作更流暢。市場預期今年發表會也將推出Apple Watch Series 5，新一代的蘋果手錶採用鈦合金與陶瓷材質，另外Apple Watch 5可能會搭載官方所開發的睡眠追蹤功能，而這也意味著新手錶將會擁有更強的電池續航力，才能應付使用者的需求。►iPhone 11系列「台灣全售價流出」\\u3000買11 Pro 512GB最划算！現賺3400元►iPhone發表前反轉！郭明錤新7大預測：不支援筆、沒雙向充電※本文版權所有，非經授權，不得轉載。[ ETtoday著作權聲明 ]※蘋果秋季發表會將於明天（11）凌晨登場，但卻未激勵蘋概股走揚，反倒成為拖累盤勢因素，台股今（10）日開低走低，並一度跌破5日均線約10,750點。終場收在10,753點、下跌47點或0.44%，成交量1,197.8億元。投票給你最愛的選手，讓他擁有百萬宣傳機會！快快投票，讓你支持的選手紅起來！每周六21-22點鎖定《ETtoday新聞雲》，全新節目《慧眼看天下》帶您掌握國際!不論是校園鬼話、職人撞鬼、邪門小物、民間魔神仔，還是懸疑的心裡有鬼，都來投稿！天天登入新聞雲App，完成任務集T點，換購物金等好禮！即時房產新聞、最新建案採訪、各類收納秘訣、買屋租屋故事，讓您快速掌握房產脈動'},\n",
       " {'title': '素食妹解放16隻兔子竟害死更多隻',\n",
       "  'url': 'https://www.ettoday.net/news/20190909/1531820.htm?ercamp=hot_news',\n",
       "  'description': '記者錢玉紘／綜合報導蘋果秋季發表會將在台灣時間9月11日凌晨1點登場，網路上有曝光價格與開賣時間等資訊。據了解，新款iPhone包含iPhone 11 Pro Max、iPhone 11 Pro與iPhone 11，台灣將於9月20日開賣，iPhone 11 Pro系列最低容量從128GB開始，因此iPhone 11 Pro Max最低價從價格從41,500起跳。▲網傳iPhone 11的新色。（圖／翻攝自MacRumors）\\r\\niPhone 11 Pro系列螢幕分別為6.5吋與5.8吋，外型最大改變就是3鏡頭設計，還加入了120度超廣角鏡頭，支援使用Apple Pencil，且最低容量直接加倍，變為128、256、512GB三種選擇。至於價格方面，iPhone 11 Pro Max預計的售價分別是41,500 / 45,500 / 52,900；iPhone 11 Pro預計的售價則是35,900 / 41,500 / 45,500元，若最後真的是這個價格，等於比目前iPhone XS定價更便宜一點。\\n\\r\\niPhone 11則用6.1吋LCD螢幕以及1200萬畫素雙鏡頭，容量選擇有64、128、256GB三種，還有黑、白、紅、黃、綠、薰衣草紫等6色可選擇，預計售價為26,900 / 28,900 / 32,500元，並且會延續iPhone XR去年的策略，比其他兩款稍晚一點開賣。這三款新機皆支援雙向無線充電，iPhone 11系列將採用最新的A13處理器，性能更強，耗能卻更低。而在iOS系統升級後，A13處理器和iOS 13系統將能配合順暢，使iPhone 11系列操作更流暢。市場預期今年發表會也將推出Apple Watch Series 5，新一代的蘋果手錶採用鈦合金與陶瓷材質，另外Apple Watch 5可能會搭載官方所開發的睡眠追蹤功能，而這也意味著新手錶將會擁有更強的電池續航力，才能應付使用者的需求。►iPhone 11系列「台灣全售價流出」\\u3000買11 Pro 512GB最划算！現賺3400元►iPhone發表前反轉！郭明錤新7大預測：不支援筆、沒雙向充電※本文版權所有，非經授權，不得轉載。[ ETtoday著作權聲明 ]※蘋果秋季發表會將於明天（11）凌晨登場，但卻未激勵蘋概股走揚，反倒成為拖累盤勢因素，台股今（10）日開低走低，並一度跌破5日均線約10,750點。終場收在10,753點、下跌47點或0.44%，成交量1,197.8億元。投票給你最愛的選手，讓他擁有百萬宣傳機會！快快投票，讓你支持的選手紅起來！每周六21-22點鎖定《ETtoday新聞雲》，全新節目《慧眼看天下》帶您掌握國際!不論是校園鬼話、職人撞鬼、邪門小物、民間魔神仔，還是懸疑的心裡有鬼，都來投稿！天天登入新聞雲App，完成任務集T點，換購物金等好禮！即時房產新聞、最新建案採訪、各類收納秘訣、買屋租屋故事，讓您快速掌握房產脈動'},\n",
       " {'title': '身分證815中兩碼紅蝦鮮蚵吃到飽',\n",
       "  'url': 'https://www.ettoday.net/news/20190910/1532392.htm?ercamp=hot_news',\n",
       "  'description': '記者錢玉紘／綜合報導蘋果秋季發表會將在台灣時間9月11日凌晨1點登場，網路上有曝光價格與開賣時間等資訊。據了解，新款iPhone包含iPhone 11 Pro Max、iPhone 11 Pro與iPhone 11，台灣將於9月20日開賣，iPhone 11 Pro系列最低容量從128GB開始，因此iPhone 11 Pro Max最低價從價格從41,500起跳。▲網傳iPhone 11的新色。（圖／翻攝自MacRumors）\\r\\niPhone 11 Pro系列螢幕分別為6.5吋與5.8吋，外型最大改變就是3鏡頭設計，還加入了120度超廣角鏡頭，支援使用Apple Pencil，且最低容量直接加倍，變為128、256、512GB三種選擇。至於價格方面，iPhone 11 Pro Max預計的售價分別是41,500 / 45,500 / 52,900；iPhone 11 Pro預計的售價則是35,900 / 41,500 / 45,500元，若最後真的是這個價格，等於比目前iPhone XS定價更便宜一點。\\n\\r\\niPhone 11則用6.1吋LCD螢幕以及1200萬畫素雙鏡頭，容量選擇有64、128、256GB三種，還有黑、白、紅、黃、綠、薰衣草紫等6色可選擇，預計售價為26,900 / 28,900 / 32,500元，並且會延續iPhone XR去年的策略，比其他兩款稍晚一點開賣。這三款新機皆支援雙向無線充電，iPhone 11系列將採用最新的A13處理器，性能更強，耗能卻更低。而在iOS系統升級後，A13處理器和iOS 13系統將能配合順暢，使iPhone 11系列操作更流暢。市場預期今年發表會也將推出Apple Watch Series 5，新一代的蘋果手錶採用鈦合金與陶瓷材質，另外Apple Watch 5可能會搭載官方所開發的睡眠追蹤功能，而這也意味著新手錶將會擁有更強的電池續航力，才能應付使用者的需求。►iPhone 11系列「台灣全售價流出」\\u3000買11 Pro 512GB最划算！現賺3400元►iPhone發表前反轉！郭明錤新7大預測：不支援筆、沒雙向充電※本文版權所有，非經授權，不得轉載。[ ETtoday著作權聲明 ]※蘋果秋季發表會將於明天（11）凌晨登場，但卻未激勵蘋概股走揚，反倒成為拖累盤勢因素，台股今（10）日開低走低，並一度跌破5日均線約10,750點。終場收在10,753點、下跌47點或0.44%，成交量1,197.8億元。投票給你最愛的選手，讓他擁有百萬宣傳機會！快快投票，讓你支持的選手紅起來！每周六21-22點鎖定《ETtoday新聞雲》，全新節目《慧眼看天下》帶您掌握國際!不論是校園鬼話、職人撞鬼、邪門小物、民間魔神仔，還是懸疑的心裡有鬼，都來投稿！天天登入新聞雲App，完成任務集T點，換購物金等好禮！即時房產新聞、最新建案採訪、各類收納秘訣、買屋租屋故事，讓您快速掌握房產脈動'},\n",
       " {'title': '中橫2鐵桶屍\\u3000「肛門人格」驚現殘暴手法',\n",
       "  'url': 'https://www.ettoday.net/news/20190909/1531986.htm?ercamp=hot_news',\n",
       "  'description': '記者錢玉紘／綜合報導蘋果秋季發表會將在台灣時間9月11日凌晨1點登場，網路上有曝光價格與開賣時間等資訊。據了解，新款iPhone包含iPhone 11 Pro Max、iPhone 11 Pro與iPhone 11，台灣將於9月20日開賣，iPhone 11 Pro系列最低容量從128GB開始，因此iPhone 11 Pro Max最低價從價格從41,500起跳。▲網傳iPhone 11的新色。（圖／翻攝自MacRumors）\\r\\niPhone 11 Pro系列螢幕分別為6.5吋與5.8吋，外型最大改變就是3鏡頭設計，還加入了120度超廣角鏡頭，支援使用Apple Pencil，且最低容量直接加倍，變為128、256、512GB三種選擇。至於價格方面，iPhone 11 Pro Max預計的售價分別是41,500 / 45,500 / 52,900；iPhone 11 Pro預計的售價則是35,900 / 41,500 / 45,500元，若最後真的是這個價格，等於比目前iPhone XS定價更便宜一點。\\n\\r\\niPhone 11則用6.1吋LCD螢幕以及1200萬畫素雙鏡頭，容量選擇有64、128、256GB三種，還有黑、白、紅、黃、綠、薰衣草紫等6色可選擇，預計售價為26,900 / 28,900 / 32,500元，並且會延續iPhone XR去年的策略，比其他兩款稍晚一點開賣。這三款新機皆支援雙向無線充電，iPhone 11系列將採用最新的A13處理器，性能更強，耗能卻更低。而在iOS系統升級後，A13處理器和iOS 13系統將能配合順暢，使iPhone 11系列操作更流暢。市場預期今年發表會也將推出Apple Watch Series 5，新一代的蘋果手錶採用鈦合金與陶瓷材質，另外Apple Watch 5可能會搭載官方所開發的睡眠追蹤功能，而這也意味著新手錶將會擁有更強的電池續航力，才能應付使用者的需求。►iPhone 11系列「台灣全售價流出」\\u3000買11 Pro 512GB最划算！現賺3400元►iPhone發表前反轉！郭明錤新7大預測：不支援筆、沒雙向充電※本文版權所有，非經授權，不得轉載。[ ETtoday著作權聲明 ]※蘋果秋季發表會將於明天（11）凌晨登場，但卻未激勵蘋概股走揚，反倒成為拖累盤勢因素，台股今（10）日開低走低，並一度跌破5日均線約10,750點。終場收在10,753點、下跌47點或0.44%，成交量1,197.8億元。投票給你最愛的選手，讓他擁有百萬宣傳機會！快快投票，讓你支持的選手紅起來！每周六21-22點鎖定《ETtoday新聞雲》，全新節目《慧眼看天下》帶您掌握國際!不論是校園鬼話、職人撞鬼、邪門小物、民間魔神仔，還是懸疑的心裡有鬼，都來投稿！天天登入新聞雲App，完成任務集T點，換購物金等好禮！即時房產新聞、最新建案採訪、各類收納秘訣、買屋租屋故事，讓您快速掌握房產脈動'},\n",
       " {'title': '棄單5千元早餐\\u3000客人出面道歉了',\n",
       "  'url': 'https://www.ettoday.net/news/20190909/1531427.htm?ercamp=hot_news',\n",
       "  'description': '記者錢玉紘／綜合報導蘋果秋季發表會將在台灣時間9月11日凌晨1點登場，網路上有曝光價格與開賣時間等資訊。據了解，新款iPhone包含iPhone 11 Pro Max、iPhone 11 Pro與iPhone 11，台灣將於9月20日開賣，iPhone 11 Pro系列最低容量從128GB開始，因此iPhone 11 Pro Max最低價從價格從41,500起跳。▲網傳iPhone 11的新色。（圖／翻攝自MacRumors）\\r\\niPhone 11 Pro系列螢幕分別為6.5吋與5.8吋，外型最大改變就是3鏡頭設計，還加入了120度超廣角鏡頭，支援使用Apple Pencil，且最低容量直接加倍，變為128、256、512GB三種選擇。至於價格方面，iPhone 11 Pro Max預計的售價分別是41,500 / 45,500 / 52,900；iPhone 11 Pro預計的售價則是35,900 / 41,500 / 45,500元，若最後真的是這個價格，等於比目前iPhone XS定價更便宜一點。\\n\\r\\niPhone 11則用6.1吋LCD螢幕以及1200萬畫素雙鏡頭，容量選擇有64、128、256GB三種，還有黑、白、紅、黃、綠、薰衣草紫等6色可選擇，預計售價為26,900 / 28,900 / 32,500元，並且會延續iPhone XR去年的策略，比其他兩款稍晚一點開賣。這三款新機皆支援雙向無線充電，iPhone 11系列將採用最新的A13處理器，性能更強，耗能卻更低。而在iOS系統升級後，A13處理器和iOS 13系統將能配合順暢，使iPhone 11系列操作更流暢。市場預期今年發表會也將推出Apple Watch Series 5，新一代的蘋果手錶採用鈦合金與陶瓷材質，另外Apple Watch 5可能會搭載官方所開發的睡眠追蹤功能，而這也意味著新手錶將會擁有更強的電池續航力，才能應付使用者的需求。►iPhone 11系列「台灣全售價流出」\\u3000買11 Pro 512GB最划算！現賺3400元►iPhone發表前反轉！郭明錤新7大預測：不支援筆、沒雙向充電※本文版權所有，非經授權，不得轉載。[ ETtoday著作權聲明 ]※蘋果秋季發表會將於明天（11）凌晨登場，但卻未激勵蘋概股走揚，反倒成為拖累盤勢因素，台股今（10）日開低走低，並一度跌破5日均線約10,750點。終場收在10,753點、下跌47點或0.44%，成交量1,197.8億元。投票給你最愛的選手，讓他擁有百萬宣傳機會！快快投票，讓你支持的選手紅起來！每周六21-22點鎖定《ETtoday新聞雲》，全新節目《慧眼看天下》帶您掌握國際!不論是校園鬼話、職人撞鬼、邪門小物、民間魔神仔，還是懸疑的心裡有鬼，都來投稿！天天登入新聞雲App，完成任務集T點，換購物金等好禮！即時房產新聞、最新建案採訪、各類收納秘訣、買屋租屋故事，讓您快速掌握房產脈動'},\n",
       " {'title': '她工作50年求400萬退休金\\u3000姊夫失智「全沒了」',\n",
       "  'url': 'https://www.ettoday.net/news/20190909/1532098.htm?ercamp=hot_news',\n",
       "  'description': '記者錢玉紘／綜合報導蘋果秋季發表會將在台灣時間9月11日凌晨1點登場，網路上有曝光價格與開賣時間等資訊。據了解，新款iPhone包含iPhone 11 Pro Max、iPhone 11 Pro與iPhone 11，台灣將於9月20日開賣，iPhone 11 Pro系列最低容量從128GB開始，因此iPhone 11 Pro Max最低價從價格從41,500起跳。▲網傳iPhone 11的新色。（圖／翻攝自MacRumors）\\r\\niPhone 11 Pro系列螢幕分別為6.5吋與5.8吋，外型最大改變就是3鏡頭設計，還加入了120度超廣角鏡頭，支援使用Apple Pencil，且最低容量直接加倍，變為128、256、512GB三種選擇。至於價格方面，iPhone 11 Pro Max預計的售價分別是41,500 / 45,500 / 52,900；iPhone 11 Pro預計的售價則是35,900 / 41,500 / 45,500元，若最後真的是這個價格，等於比目前iPhone XS定價更便宜一點。\\n\\r\\niPhone 11則用6.1吋LCD螢幕以及1200萬畫素雙鏡頭，容量選擇有64、128、256GB三種，還有黑、白、紅、黃、綠、薰衣草紫等6色可選擇，預計售價為26,900 / 28,900 / 32,500元，並且會延續iPhone XR去年的策略，比其他兩款稍晚一點開賣。這三款新機皆支援雙向無線充電，iPhone 11系列將採用最新的A13處理器，性能更強，耗能卻更低。而在iOS系統升級後，A13處理器和iOS 13系統將能配合順暢，使iPhone 11系列操作更流暢。市場預期今年發表會也將推出Apple Watch Series 5，新一代的蘋果手錶採用鈦合金與陶瓷材質，另外Apple Watch 5可能會搭載官方所開發的睡眠追蹤功能，而這也意味著新手錶將會擁有更強的電池續航力，才能應付使用者的需求。►iPhone 11系列「台灣全售價流出」\\u3000買11 Pro 512GB最划算！現賺3400元►iPhone發表前反轉！郭明錤新7大預測：不支援筆、沒雙向充電※本文版權所有，非經授權，不得轉載。[ ETtoday著作權聲明 ]※蘋果秋季發表會將於明天（11）凌晨登場，但卻未激勵蘋概股走揚，反倒成為拖累盤勢因素，台股今（10）日開低走低，並一度跌破5日均線約10,750點。終場收在10,753點、下跌47點或0.44%，成交量1,197.8億元。投票給你最愛的選手，讓他擁有百萬宣傳機會！快快投票，讓你支持的選手紅起來！每周六21-22點鎖定《ETtoday新聞雲》，全新節目《慧眼看天下》帶您掌握國際!不論是校園鬼話、職人撞鬼、邪門小物、民間魔神仔，還是懸疑的心裡有鬼，都來投稿！天天登入新聞雲App，完成任務集T點，換購物金等好禮！即時房產新聞、最新建案採訪、各類收納秘訣、買屋租屋故事，讓您快速掌握房產脈動'},\n",
       " {'title': '9/9限時必搶\\u3000夏普水波爐萬元有找',\n",
       "  'url': 'https://www.ettoday.net/news/20190909/1531639.htm?ercamp=hot_news',\n",
       "  'description': '記者錢玉紘／綜合報導蘋果秋季發表會將在台灣時間9月11日凌晨1點登場，網路上有曝光價格與開賣時間等資訊。據了解，新款iPhone包含iPhone 11 Pro Max、iPhone 11 Pro與iPhone 11，台灣將於9月20日開賣，iPhone 11 Pro系列最低容量從128GB開始，因此iPhone 11 Pro Max最低價從價格從41,500起跳。▲網傳iPhone 11的新色。（圖／翻攝自MacRumors）\\r\\niPhone 11 Pro系列螢幕分別為6.5吋與5.8吋，外型最大改變就是3鏡頭設計，還加入了120度超廣角鏡頭，支援使用Apple Pencil，且最低容量直接加倍，變為128、256、512GB三種選擇。至於價格方面，iPhone 11 Pro Max預計的售價分別是41,500 / 45,500 / 52,900；iPhone 11 Pro預計的售價則是35,900 / 41,500 / 45,500元，若最後真的是這個價格，等於比目前iPhone XS定價更便宜一點。\\n\\r\\niPhone 11則用6.1吋LCD螢幕以及1200萬畫素雙鏡頭，容量選擇有64、128、256GB三種，還有黑、白、紅、黃、綠、薰衣草紫等6色可選擇，預計售價為26,900 / 28,900 / 32,500元，並且會延續iPhone XR去年的策略，比其他兩款稍晚一點開賣。這三款新機皆支援雙向無線充電，iPhone 11系列將採用最新的A13處理器，性能更強，耗能卻更低。而在iOS系統升級後，A13處理器和iOS 13系統將能配合順暢，使iPhone 11系列操作更流暢。市場預期今年發表會也將推出Apple Watch Series 5，新一代的蘋果手錶採用鈦合金與陶瓷材質，另外Apple Watch 5可能會搭載官方所開發的睡眠追蹤功能，而這也意味著新手錶將會擁有更強的電池續航力，才能應付使用者的需求。►iPhone 11系列「台灣全售價流出」\\u3000買11 Pro 512GB最划算！現賺3400元►iPhone發表前反轉！郭明錤新7大預測：不支援筆、沒雙向充電※本文版權所有，非經授權，不得轉載。[ ETtoday著作權聲明 ]※蘋果秋季發表會將於明天（11）凌晨登場，但卻未激勵蘋概股走揚，反倒成為拖累盤勢因素，台股今（10）日開低走低，並一度跌破5日均線約10,750點。終場收在10,753點、下跌47點或0.44%，成交量1,197.8億元。投票給你最愛的選手，讓他擁有百萬宣傳機會！快快投票，讓你支持的選手紅起來！每周六21-22點鎖定《ETtoday新聞雲》，全新節目《慧眼看天下》帶您掌握國際!不論是校園鬼話、職人撞鬼、邪門小物、民間魔神仔，還是懸疑的心裡有鬼，都來投稿！天天登入新聞雲App，完成任務集T點，換購物金等好禮！即時房產新聞、最新建案採訪、各類收納秘訣、買屋租屋故事，讓您快速掌握房產脈動'},\n",
       " {'title': '2高富帥為情決鬥！前任慘死街頭',\n",
       "  'url': 'https://www.ettoday.net/news/20190909/1532007.htm?ercamp=hot_news',\n",
       "  'description': '記者錢玉紘／綜合報導蘋果秋季發表會將在台灣時間9月11日凌晨1點登場，網路上有曝光價格與開賣時間等資訊。據了解，新款iPhone包含iPhone 11 Pro Max、iPhone 11 Pro與iPhone 11，台灣將於9月20日開賣，iPhone 11 Pro系列最低容量從128GB開始，因此iPhone 11 Pro Max最低價從價格從41,500起跳。▲網傳iPhone 11的新色。（圖／翻攝自MacRumors）\\r\\niPhone 11 Pro系列螢幕分別為6.5吋與5.8吋，外型最大改變就是3鏡頭設計，還加入了120度超廣角鏡頭，支援使用Apple Pencil，且最低容量直接加倍，變為128、256、512GB三種選擇。至於價格方面，iPhone 11 Pro Max預計的售價分別是41,500 / 45,500 / 52,900；iPhone 11 Pro預計的售價則是35,900 / 41,500 / 45,500元，若最後真的是這個價格，等於比目前iPhone XS定價更便宜一點。\\n\\r\\niPhone 11則用6.1吋LCD螢幕以及1200萬畫素雙鏡頭，容量選擇有64、128、256GB三種，還有黑、白、紅、黃、綠、薰衣草紫等6色可選擇，預計售價為26,900 / 28,900 / 32,500元，並且會延續iPhone XR去年的策略，比其他兩款稍晚一點開賣。這三款新機皆支援雙向無線充電，iPhone 11系列將採用最新的A13處理器，性能更強，耗能卻更低。而在iOS系統升級後，A13處理器和iOS 13系統將能配合順暢，使iPhone 11系列操作更流暢。市場預期今年發表會也將推出Apple Watch Series 5，新一代的蘋果手錶採用鈦合金與陶瓷材質，另外Apple Watch 5可能會搭載官方所開發的睡眠追蹤功能，而這也意味著新手錶將會擁有更強的電池續航力，才能應付使用者的需求。►iPhone 11系列「台灣全售價流出」\\u3000買11 Pro 512GB最划算！現賺3400元►iPhone發表前反轉！郭明錤新7大預測：不支援筆、沒雙向充電※本文版權所有，非經授權，不得轉載。[ ETtoday著作權聲明 ]※蘋果秋季發表會將於明天（11）凌晨登場，但卻未激勵蘋概股走揚，反倒成為拖累盤勢因素，台股今（10）日開低走低，並一度跌破5日均線約10,750點。終場收在10,753點、下跌47點或0.44%，成交量1,197.8億元。投票給你最愛的選手，讓他擁有百萬宣傳機會！快快投票，讓你支持的選手紅起來！每周六21-22點鎖定《ETtoday新聞雲》，全新節目《慧眼看天下》帶您掌握國際!不論是校園鬼話、職人撞鬼、邪門小物、民間魔神仔，還是懸疑的心裡有鬼，都來投稿！天天登入新聞雲App，完成任務集T點，換購物金等好禮！即時房產新聞、最新建案採訪、各類收納秘訣、買屋租屋故事，讓您快速掌握房產脈動'},\n",
       " {'title': '8歲女童買「威而鋼」！母親哽咽曝真相',\n",
       "  'url': 'https://www.ettoday.net/news/20190907/1530743.htm?ercamp=hot_news',\n",
       "  'description': '記者錢玉紘／綜合報導蘋果秋季發表會將在台灣時間9月11日凌晨1點登場，網路上有曝光價格與開賣時間等資訊。據了解，新款iPhone包含iPhone 11 Pro Max、iPhone 11 Pro與iPhone 11，台灣將於9月20日開賣，iPhone 11 Pro系列最低容量從128GB開始，因此iPhone 11 Pro Max最低價從價格從41,500起跳。▲網傳iPhone 11的新色。（圖／翻攝自MacRumors）\\r\\niPhone 11 Pro系列螢幕分別為6.5吋與5.8吋，外型最大改變就是3鏡頭設計，還加入了120度超廣角鏡頭，支援使用Apple Pencil，且最低容量直接加倍，變為128、256、512GB三種選擇。至於價格方面，iPhone 11 Pro Max預計的售價分別是41,500 / 45,500 / 52,900；iPhone 11 Pro預計的售價則是35,900 / 41,500 / 45,500元，若最後真的是這個價格，等於比目前iPhone XS定價更便宜一點。\\n\\r\\niPhone 11則用6.1吋LCD螢幕以及1200萬畫素雙鏡頭，容量選擇有64、128、256GB三種，還有黑、白、紅、黃、綠、薰衣草紫等6色可選擇，預計售價為26,900 / 28,900 / 32,500元，並且會延續iPhone XR去年的策略，比其他兩款稍晚一點開賣。這三款新機皆支援雙向無線充電，iPhone 11系列將採用最新的A13處理器，性能更強，耗能卻更低。而在iOS系統升級後，A13處理器和iOS 13系統將能配合順暢，使iPhone 11系列操作更流暢。市場預期今年發表會也將推出Apple Watch Series 5，新一代的蘋果手錶採用鈦合金與陶瓷材質，另外Apple Watch 5可能會搭載官方所開發的睡眠追蹤功能，而這也意味著新手錶將會擁有更強的電池續航力，才能應付使用者的需求。►iPhone 11系列「台灣全售價流出」\\u3000買11 Pro 512GB最划算！現賺3400元►iPhone發表前反轉！郭明錤新7大預測：不支援筆、沒雙向充電※本文版權所有，非經授權，不得轉載。[ ETtoday著作權聲明 ]※蘋果秋季發表會將於明天（11）凌晨登場，但卻未激勵蘋概股走揚，反倒成為拖累盤勢因素，台股今（10）日開低走低，並一度跌破5日均線約10,750點。終場收在10,753點、下跌47點或0.44%，成交量1,197.8億元。投票給你最愛的選手，讓他擁有百萬宣傳機會！快快投票，讓你支持的選手紅起來！每周六21-22點鎖定《ETtoday新聞雲》，全新節目《慧眼看天下》帶您掌握國際!不論是校園鬼話、職人撞鬼、邪門小物、民間魔神仔，還是懸疑的心裡有鬼，都來投稿！天天登入新聞雲App，完成任務集T點，換購物金等好禮！即時房產新聞、最新建案採訪、各類收納秘訣、買屋租屋故事，讓您快速掌握房產脈動'},\n",
       " {'title': '情侶溺斃蘭潭\\u3000爸悲：才交往3個月',\n",
       "  'url': 'https://www.ettoday.net/news/20190910/1532398.htm?ercamp=hot_news',\n",
       "  'description': '記者錢玉紘／綜合報導蘋果秋季發表會將在台灣時間9月11日凌晨1點登場，網路上有曝光價格與開賣時間等資訊。據了解，新款iPhone包含iPhone 11 Pro Max、iPhone 11 Pro與iPhone 11，台灣將於9月20日開賣，iPhone 11 Pro系列最低容量從128GB開始，因此iPhone 11 Pro Max最低價從價格從41,500起跳。▲網傳iPhone 11的新色。（圖／翻攝自MacRumors）\\r\\niPhone 11 Pro系列螢幕分別為6.5吋與5.8吋，外型最大改變就是3鏡頭設計，還加入了120度超廣角鏡頭，支援使用Apple Pencil，且最低容量直接加倍，變為128、256、512GB三種選擇。至於價格方面，iPhone 11 Pro Max預計的售價分別是41,500 / 45,500 / 52,900；iPhone 11 Pro預計的售價則是35,900 / 41,500 / 45,500元，若最後真的是這個價格，等於比目前iPhone XS定價更便宜一點。\\n\\r\\niPhone 11則用6.1吋LCD螢幕以及1200萬畫素雙鏡頭，容量選擇有64、128、256GB三種，還有黑、白、紅、黃、綠、薰衣草紫等6色可選擇，預計售價為26,900 / 28,900 / 32,500元，並且會延續iPhone XR去年的策略，比其他兩款稍晚一點開賣。這三款新機皆支援雙向無線充電，iPhone 11系列將採用最新的A13處理器，性能更強，耗能卻更低。而在iOS系統升級後，A13處理器和iOS 13系統將能配合順暢，使iPhone 11系列操作更流暢。市場預期今年發表會也將推出Apple Watch Series 5，新一代的蘋果手錶採用鈦合金與陶瓷材質，另外Apple Watch 5可能會搭載官方所開發的睡眠追蹤功能，而這也意味著新手錶將會擁有更強的電池續航力，才能應付使用者的需求。►iPhone 11系列「台灣全售價流出」\\u3000買11 Pro 512GB最划算！現賺3400元►iPhone發表前反轉！郭明錤新7大預測：不支援筆、沒雙向充電※本文版權所有，非經授權，不得轉載。[ ETtoday著作權聲明 ]※蘋果秋季發表會將於明天（11）凌晨登場，但卻未激勵蘋概股走揚，反倒成為拖累盤勢因素，台股今（10）日開低走低，並一度跌破5日均線約10,750點。終場收在10,753點、下跌47點或0.44%，成交量1,197.8億元。投票給你最愛的選手，讓他擁有百萬宣傳機會！快快投票，讓你支持的選手紅起來！每周六21-22點鎖定《ETtoday新聞雲》，全新節目《慧眼看天下》帶您掌握國際!不論是校園鬼話、職人撞鬼、邪門小物、民間魔神仔，還是懸疑的心裡有鬼，都來投稿！天天登入新聞雲App，完成任務集T點，換購物金等好禮！即時房產新聞、最新建案採訪、各類收納秘訣、買屋租屋故事，讓您快速掌握房產脈動'},\n",
       " {'title': '元元被酸「不露奶會死」\\u3000爆節目黑料',\n",
       "  'url': 'https://www.ettoday.net/news/20190909/1532133.htm?ercamp=hot_news',\n",
       "  'description': '記者錢玉紘／綜合報導蘋果秋季發表會將在台灣時間9月11日凌晨1點登場，網路上有曝光價格與開賣時間等資訊。據了解，新款iPhone包含iPhone 11 Pro Max、iPhone 11 Pro與iPhone 11，台灣將於9月20日開賣，iPhone 11 Pro系列最低容量從128GB開始，因此iPhone 11 Pro Max最低價從價格從41,500起跳。▲網傳iPhone 11的新色。（圖／翻攝自MacRumors）\\r\\niPhone 11 Pro系列螢幕分別為6.5吋與5.8吋，外型最大改變就是3鏡頭設計，還加入了120度超廣角鏡頭，支援使用Apple Pencil，且最低容量直接加倍，變為128、256、512GB三種選擇。至於價格方面，iPhone 11 Pro Max預計的售價分別是41,500 / 45,500 / 52,900；iPhone 11 Pro預計的售價則是35,900 / 41,500 / 45,500元，若最後真的是這個價格，等於比目前iPhone XS定價更便宜一點。\\n\\r\\niPhone 11則用6.1吋LCD螢幕以及1200萬畫素雙鏡頭，容量選擇有64、128、256GB三種，還有黑、白、紅、黃、綠、薰衣草紫等6色可選擇，預計售價為26,900 / 28,900 / 32,500元，並且會延續iPhone XR去年的策略，比其他兩款稍晚一點開賣。這三款新機皆支援雙向無線充電，iPhone 11系列將採用最新的A13處理器，性能更強，耗能卻更低。而在iOS系統升級後，A13處理器和iOS 13系統將能配合順暢，使iPhone 11系列操作更流暢。市場預期今年發表會也將推出Apple Watch Series 5，新一代的蘋果手錶採用鈦合金與陶瓷材質，另外Apple Watch 5可能會搭載官方所開發的睡眠追蹤功能，而這也意味著新手錶將會擁有更強的電池續航力，才能應付使用者的需求。►iPhone 11系列「台灣全售價流出」\\u3000買11 Pro 512GB最划算！現賺3400元►iPhone發表前反轉！郭明錤新7大預測：不支援筆、沒雙向充電※本文版權所有，非經授權，不得轉載。[ ETtoday著作權聲明 ]※蘋果秋季發表會將於明天（11）凌晨登場，但卻未激勵蘋概股走揚，反倒成為拖累盤勢因素，台股今（10）日開低走低，並一度跌破5日均線約10,750點。終場收在10,753點、下跌47點或0.44%，成交量1,197.8億元。投票給你最愛的選手，讓他擁有百萬宣傳機會！快快投票，讓你支持的選手紅起來！每周六21-22點鎖定《ETtoday新聞雲》，全新節目《慧眼看天下》帶您掌握國際!不論是校園鬼話、職人撞鬼、邪門小物、民間魔神仔，還是懸疑的心裡有鬼，都來投稿！天天登入新聞雲App，完成任務集T點，換購物金等好禮！即時房產新聞、最新建案採訪、各類收納秘訣、買屋租屋故事，讓您快速掌握房產脈動'},\n",
       " {'title': '安宰賢打官司心軟了！律師：對具惠善的照顧',\n",
       "  'url': 'https://www.ettoday.net/news/20190905/1529534.htm?ercamp=hot_news',\n",
       "  'description': '記者錢玉紘／綜合報導蘋果秋季發表會將在台灣時間9月11日凌晨1點登場，網路上有曝光價格與開賣時間等資訊。據了解，新款iPhone包含iPhone 11 Pro Max、iPhone 11 Pro與iPhone 11，台灣將於9月20日開賣，iPhone 11 Pro系列最低容量從128GB開始，因此iPhone 11 Pro Max最低價從價格從41,500起跳。▲網傳iPhone 11的新色。（圖／翻攝自MacRumors）\\r\\niPhone 11 Pro系列螢幕分別為6.5吋與5.8吋，外型最大改變就是3鏡頭設計，還加入了120度超廣角鏡頭，支援使用Apple Pencil，且最低容量直接加倍，變為128、256、512GB三種選擇。至於價格方面，iPhone 11 Pro Max預計的售價分別是41,500 / 45,500 / 52,900；iPhone 11 Pro預計的售價則是35,900 / 41,500 / 45,500元，若最後真的是這個價格，等於比目前iPhone XS定價更便宜一點。\\n\\r\\niPhone 11則用6.1吋LCD螢幕以及1200萬畫素雙鏡頭，容量選擇有64、128、256GB三種，還有黑、白、紅、黃、綠、薰衣草紫等6色可選擇，預計售價為26,900 / 28,900 / 32,500元，並且會延續iPhone XR去年的策略，比其他兩款稍晚一點開賣。這三款新機皆支援雙向無線充電，iPhone 11系列將採用最新的A13處理器，性能更強，耗能卻更低。而在iOS系統升級後，A13處理器和iOS 13系統將能配合順暢，使iPhone 11系列操作更流暢。市場預期今年發表會也將推出Apple Watch Series 5，新一代的蘋果手錶採用鈦合金與陶瓷材質，另外Apple Watch 5可能會搭載官方所開發的睡眠追蹤功能，而這也意味著新手錶將會擁有更強的電池續航力，才能應付使用者的需求。►iPhone 11系列「台灣全售價流出」\\u3000買11 Pro 512GB最划算！現賺3400元►iPhone發表前反轉！郭明錤新7大預測：不支援筆、沒雙向充電※本文版權所有，非經授權，不得轉載。[ ETtoday著作權聲明 ]※蘋果秋季發表會將於明天（11）凌晨登場，但卻未激勵蘋概股走揚，反倒成為拖累盤勢因素，台股今（10）日開低走低，並一度跌破5日均線約10,750點。終場收在10,753點、下跌47點或0.44%，成交量1,197.8億元。投票給你最愛的選手，讓他擁有百萬宣傳機會！快快投票，讓你支持的選手紅起來！每周六21-22點鎖定《ETtoday新聞雲》，全新節目《慧眼看天下》帶您掌握國際!不論是校園鬼話、職人撞鬼、邪門小物、民間魔神仔，還是懸疑的心裡有鬼，都來投稿！天天登入新聞雲App，完成任務集T點，換購物金等好禮！即時房產新聞、最新建案採訪、各類收納秘訣、買屋租屋故事，讓您快速掌握房產脈動'},\n",
       " {'title': '女自備便當盒打包好市多碎洋蔥\\u3000被拍公審惹議',\n",
       "  'url': 'https://www.ettoday.net/news/20190907/1530559.htm?ercamp=hot_news',\n",
       "  'description': '記者錢玉紘／綜合報導蘋果秋季發表會將在台灣時間9月11日凌晨1點登場，網路上有曝光價格與開賣時間等資訊。據了解，新款iPhone包含iPhone 11 Pro Max、iPhone 11 Pro與iPhone 11，台灣將於9月20日開賣，iPhone 11 Pro系列最低容量從128GB開始，因此iPhone 11 Pro Max最低價從價格從41,500起跳。▲網傳iPhone 11的新色。（圖／翻攝自MacRumors）\\r\\niPhone 11 Pro系列螢幕分別為6.5吋與5.8吋，外型最大改變就是3鏡頭設計，還加入了120度超廣角鏡頭，支援使用Apple Pencil，且最低容量直接加倍，變為128、256、512GB三種選擇。至於價格方面，iPhone 11 Pro Max預計的售價分別是41,500 / 45,500 / 52,900；iPhone 11 Pro預計的售價則是35,900 / 41,500 / 45,500元，若最後真的是這個價格，等於比目前iPhone XS定價更便宜一點。\\n\\r\\niPhone 11則用6.1吋LCD螢幕以及1200萬畫素雙鏡頭，容量選擇有64、128、256GB三種，還有黑、白、紅、黃、綠、薰衣草紫等6色可選擇，預計售價為26,900 / 28,900 / 32,500元，並且會延續iPhone XR去年的策略，比其他兩款稍晚一點開賣。這三款新機皆支援雙向無線充電，iPhone 11系列將採用最新的A13處理器，性能更強，耗能卻更低。而在iOS系統升級後，A13處理器和iOS 13系統將能配合順暢，使iPhone 11系列操作更流暢。市場預期今年發表會也將推出Apple Watch Series 5，新一代的蘋果手錶採用鈦合金與陶瓷材質，另外Apple Watch 5可能會搭載官方所開發的睡眠追蹤功能，而這也意味著新手錶將會擁有更強的電池續航力，才能應付使用者的需求。►iPhone 11系列「台灣全售價流出」\\u3000買11 Pro 512GB最划算！現賺3400元►iPhone發表前反轉！郭明錤新7大預測：不支援筆、沒雙向充電※本文版權所有，非經授權，不得轉載。[ ETtoday著作權聲明 ]※蘋果秋季發表會將於明天（11）凌晨登場，但卻未激勵蘋概股走揚，反倒成為拖累盤勢因素，台股今（10）日開低走低，並一度跌破5日均線約10,750點。終場收在10,753點、下跌47點或0.44%，成交量1,197.8億元。投票給你最愛的選手，讓他擁有百萬宣傳機會！快快投票，讓你支持的選手紅起來！每周六21-22點鎖定《ETtoday新聞雲》，全新節目《慧眼看天下》帶您掌握國際!不論是校園鬼話、職人撞鬼、邪門小物、民間魔神仔，還是懸疑的心裡有鬼，都來投稿！天天登入新聞雲App，完成任務集T點，換購物金等好禮！即時房產新聞、最新建案採訪、各類收納秘訣、買屋租屋故事，讓您快速掌握房產脈動'}]"
      ]
     },
     "execution_count": 77,
     "metadata": {},
     "output_type": "execute_result"
    }
   ],
   "source": [
    "result_list"
   ]
  },
  {
   "cell_type": "code",
   "execution_count": 72,
   "metadata": {
    "collapsed": false
   },
   "outputs": [],
   "source": [
    "def get_detail(url):\n",
    "    detail_response = requests.get(url)\n",
    "    soup_detail = BeautifulSoup(detail_response.text, \"lxml\")\n",
    "    content = soup_detail.find_all(\"p\")\n",
    "    description = \"\"\n",
    "    for item in content:\n",
    "        description = description + item.getText()\n",
    "    return description"
   ]
  },
  {
   "cell_type": "code",
   "execution_count": 73,
   "metadata": {
    "collapsed": false
   },
   "outputs": [
    {
     "name": "stdout",
     "output_type": "stream",
     "text": [
      "記者錢玉紘／綜合報導蘋果秋季發表會將在台灣時間9月11日凌晨1點登場，網路上有曝光價格與開賣時間等資訊。據了解，新款iPhone包含iPhone 11 Pro Max、iPhone 11 Pro與iPhone 11，台灣將於9月20日開賣，iPhone 11 Pro系列最低容量從128GB開始，因此iPhone 11 Pro Max最低價從價格從41,500起跳。▲網傳iPhone 11的新色。（圖／翻攝自MacRumors）\r\n",
      "iPhone 11 Pro系列螢幕分別為6.5吋與5.8吋，外型最大改變就是3鏡頭設計，還加入了120度超廣角鏡頭，支援使用Apple Pencil，且最低容量直接加倍，變為128、256、512GB三種選擇。至於價格方面，iPhone 11 Pro Max預計的售價分別是41,500 / 45,500 / 52,900；iPhone 11 Pro預計的售價則是35,900 / 41,500 / 45,500元，若最後真的是這個價格，等於比目前iPhone XS定價更便宜一點。\n",
      "\r\n",
      "iPhone 11則用6.1吋LCD螢幕以及1200萬畫素雙鏡頭，容量選擇有64、128、256GB三種，還有黑、白、紅、黃、綠、薰衣草紫等6色可選擇，預計售價為26,900 / 28,900 / 32,500元，並且會延續iPhone XR去年的策略，比其他兩款稍晚一點開賣。這三款新機皆支援雙向無線充電，iPhone 11系列將採用最新的A13處理器，性能更強，耗能卻更低。而在iOS系統升級後，A13處理器和iOS 13系統將能配合順暢，使iPhone 11系列操作更流暢。市場預期今年發表會也將推出Apple Watch Series 5，新一代的蘋果手錶採用鈦合金與陶瓷材質，另外Apple Watch 5可能會搭載官方所開發的睡眠追蹤功能，而這也意味著新手錶將會擁有更強的電池續航力，才能應付使用者的需求。►iPhone 11系列「台灣全售價流出」　買11 Pro 512GB最划算！現賺3400元►iPhone發表前反轉！郭明錤新7大預測：不支援筆、沒雙向充電※本文版權所有，非經授權，不得轉載。[ ETtoday著作權聲明 ]※蘋果秋季發表會將於明天（11）凌晨登場，但卻未激勵蘋概股走揚，反倒成為拖累盤勢因素，台股今（10）日開低走低，並一度跌破5日均線約10,750點。終場收在10,753點、下跌47點或0.44%，成交量1,197.8億元。投票給你最愛的選手，讓他擁有百萬宣傳機會！快快投票，讓你支持的選手紅起來！每周六21-22點鎖定《ETtoday新聞雲》，全新節目《慧眼看天下》帶您掌握國際!不論是校園鬼話、職人撞鬼、邪門小物、民間魔神仔，還是懸疑的心裡有鬼，都來投稿！天天登入新聞雲App，完成任務集T點，換購物金等好禮！即時房產新聞、最新建案採訪、各類收納秘訣、買屋租屋故事，讓您快速掌握房產脈動\n"
     ]
    }
   ],
   "source": [
    "des = get_detail(\"https://www.ettoday.net/news/20190910/1532221.htm?ercamp=hot_news\")\n",
    "print(des)"
   ]
  },
  {
   "cell_type": "code",
   "execution_count": null,
   "metadata": {
    "collapsed": true
   },
   "outputs": [],
   "source": [
    "def get_detail(url):\n",
    "    detail_response = requests.get(url)\n",
    "    soup_detail = BeautifulSoup(detail_response.text, \"lxml\")\n",
    "    content = soup_detail.find_all(\"p\")\n",
    "    for item in content:\n",
    "        print(item.getText())"
   ]
  },
  {
   "cell_type": "code",
   "execution_count": null,
   "metadata": {
    "collapsed": true
   },
   "outputs": [],
   "source": []
  },
  {
   "cell_type": "code",
   "execution_count": null,
   "metadata": {
    "collapsed": true
   },
   "outputs": [],
   "source": []
  },
  {
   "cell_type": "code",
   "execution_count": 141,
   "metadata": {
    "collapsed": false
   },
   "outputs": [
    {
     "name": "stdout",
     "output_type": "stream",
     "text": [
      "9月20日開賣！iPhone 11系列價格曝\n",
      "6縣市豪大雨特報！雙颱可能接力生成　中秋連假變天\n",
      "素食妹解放16隻兔子竟害死更多隻\n",
      "中橫2鐵桶屍　「肛門人格」驚現殘暴手法\n",
      "棄單5千元早餐　客人出面道歉了\n",
      "2高富帥為情決鬥！前任慘死街頭\n",
      "她工作50年求400萬退休金　姊夫失智「全沒了」\n",
      "9/9限時必搶　夏普水波爐萬元有找\n",
      "元元被酸「不露奶會死」　爆節目黑料\n",
      "8歲女童買「威而鋼」！母親哽咽曝真相\n",
      "快訊／殉職勇警薛定岳妻深夜陳情蔡英文\n",
      "他忙工作8年　妻來電：兒子死了\n",
      "OL設局房東分手砲　嗆鬧到正宮離職\n",
      "真理褲妹遭砍「斷3指」…英勇騎士飛踢救人\n",
      "1天1杯「平凡飲料」得肝癌！肝變超噁長滿白顆粒\n"
     ]
    }
   ],
   "source": [
    "for item in table[0].find_all(\"h3\"):\n",
    "    if item.find(\"a\") is not None:\n",
    "        print(item.find(\"a\").getText())\n"
   ]
  },
  {
   "cell_type": "code",
   "execution_count": null,
   "metadata": {
    "collapsed": true
   },
   "outputs": [],
   "source": []
  },
  {
   "cell_type": "markdown",
   "metadata": {},
   "source": [
    "# 聯合報\n",
    "https://udn.com/news/archive/0/0/2019/09/17"
   ]
  },
  {
   "cell_type": "code",
   "execution_count": 89,
   "metadata": {
    "collapsed": false
   },
   "outputs": [],
   "source": [
    "url = \"https://udn.com/news/archive/0/0/2019/09/17\"\n",
    "\n"
   ]
  },
  {
   "cell_type": "code",
   "execution_count": 133,
   "metadata": {
    "collapsed": false
   },
   "outputs": [],
   "source": [
    "#your code\n",
    "url = \"https://udn.com/news/archive/0/0/2019/09/17\"\n",
    "\n",
    "response = requests.get(url)"
   ]
  },
  {
   "cell_type": "code",
   "execution_count": 134,
   "metadata": {
    "collapsed": true
   },
   "outputs": [],
   "source": [
    "def get_detail(url):\n",
    "    response = requests.get(url)\n",
    "    soup = BeautifulSoup(response.text , \"lxml\")\n",
    "    description = \"\"\n",
    "    for item in soup.find_all(\"p\"):\n",
    "        description += item.getText()\n",
    "    return description"
   ]
  },
  {
   "cell_type": "code",
   "execution_count": null,
   "metadata": {
    "collapsed": false
   },
   "outputs": [
    {
     "name": "stdout",
     "output_type": "stream",
     "text": [
      "{'title': '恐有兩颱風今明天生成 氣象局：對台灣影響下周較明朗', 'url': 'https://udn.com/news/story/7266/4022069', 'class': '生活', 'date': '09-01 09:01', 'description': '今、明兩天恐有兩個颱風接力生成。中央氣象局說，目前南海已生成一個熱帶性低氣壓，菲律賓東方也有一個準熱帶性低氣壓，有機會在這兩天接力增強為第13號颱風「玲玲」和第14號颱風「劍魚」。氣象預報員陳伊秀說，目前在海面上有兩團雲，一團在南海，一團在菲律賓東方，南海上的已在昨天晚間8時生成熱帶性低氣壓，而菲律賓東方的雲團，日本氣象廳也已發布預警，是準熱帶性低氣壓。陳伊秀說，這兩團雲都有機會發展成颱風，只是先後順序仍不確定，今、明兩天有機會接力生成，目前看來是輕度颱風的趨勢。陳伊秀說，南海上的熱帶性低氣壓路徑較為單純，往海南島前進，預估會是輕度颱風，至於菲律賓東方的準熱帶性低氣壓則因為緯度較低，上來時間較久，預計強度會比南海強一些。陳伊秀說，屆時若生成颱風，南海的因為路徑大致確定往海南島前進，對台灣較無直接影響，主要是會為南部帶來降雨；菲律賓東方若生成颱風，大致上路徑偏北，對台灣的影響下周較為明朗，不過如果路徑往北偏，帶來的影響會比較大。至於今天天氣，陳伊秀說周二前台東跟恆春半島會有局部短暫雨，若水氣稍多，範圍會到花蓮，西半部則是留意午後雷陣雨，不過範圍以山區跟近山區平地為主。氣溫方面，陳伊秀說各地多雲到晴，北部高溫35度，中南部33到34度，東部32度。陳伊秀說，周三到周六受到低壓帶影響，水氣稍增多轉為花東、恆春半島和南部地區有局部短陣雨，若有颱風生成，天氣上會再不穩定些。今、明兩天恐有兩個颱風接力生成。本報資料照片 分享   facebook     太平洋地區有一個熱帶性低氣壓(T.D.)。圖／氣象局提供 分享   facebook     '}\n",
      "{'title': '獨／全國首例！ 成大資工特殊選才 考8小時「寫程式」', 'url': 'https://udn.com/news/story/6928/4022074', 'class': '文教', 'date': '09-01 09:20', 'description': '大學「特殊選才」10月將陸續起跑。109學年度，教育部核定校數47校458系、共招收1214個名額，都比去年略增；成功大學資訊工程系，今年破天荒改為八小時「現場寫程式」，希望「攻破」坊間補習班惡補招數，更是全國首例。該系上老師說，過去特殊選才管道進來的學生，書審資料「很好看」，入學後才發現根本不會寫程式，「就算曾組隊參加比賽，可能只負責買雞排。」教育部104學年度推動大學辦理特殊選才招生試辦計畫，鼓勵部分學校採單獨招生方式，小規模招收具有特殊才能或不同教育資歷的學生，如境外台生、新住民子女、實驗教育學生等，只要學校校系有需求，都可以申請特殊選才管道。招生名額上限都維持在學生總量的1%。107學年正式成為大學多元入學的招生管道之一，並逐年、小幅增加名額，108學年起提高限定名額上限為整體招生總名額的1.5%，109學年度的名額上限也維持1.5%。教育部高教司表示，109學年大學特殊選才名額，共有47所大學招收1214個名額，國立大學提供755個名額、私立大學提供459個名額，與108年相較國立大學招生名額增加150名、私立大學增加50名，合計增加200名。大學校系可就工作成就、高中在學表現、競賽表現、證照訓練或其他特殊學習歷程等自訂招生條件。大學提出構想計畫，經教育部審查通過後辦理。因為不看學測成績，被視為多元入學的具體指標。有高中生靠著研究捕蠅草獲獎連連，錄取台大園藝系；經營自媒體、擁近百萬訂閱戶的舞蹈冠軍雙胞胎姐妹花，去年透過「拾穗計畫」進入清華大學。教育部高教司長朱俊彰表示，109學年特殊選才已於8月12日核定發函予各參與特殊選才學校辦理修正計畫書等相關事宜。學校正回報招生資訊以利後續更新多元入學網，預計9月中旬將招生資訊函轉各高中。各校約10月上旬公告簡章；10月底至11月底報名；11月底至12月中審查、面試；12月至隔年1月放榜。坊間不少針對特殊選才開設的收費輔導班，要價不菲，一套課程就要約3萬元，輔導內容包括備審教作與批改三次、口面試演練兩次，甚至強調採「一對一」個別指導方式練習，並量身打造個人特色的自我介紹、針對科系專業考題答題技巧教學等等。有感於過去書審和面試招到的學生未必真的喜愛或擅長資訊領域，同時「破解」坊間這些入學方法的招數，成功大學資訊工程系的特殊選才，今年改成「現場上機寫程式」，占總分80%，書審占20%，更是全國首例。主要是看學生的自學能力和能夠解決問題的深度。成大資工系教授蘇文鈺表示，今年特殊選才改以現場實作方式考試，會提前一周公布考試會使用的平台，把基礎的教學影片放上網，讓考生先自行「求援」，預先準備。考試當天會有半至一小時的教學，接下來就會「斷網」。題目只有一題，但題目「很大」，考生必須從系統和套件安裝開始，並且撰寫程式等等。為了避免有考生找人幫忙「猜題」，最後會有五分鐘的口試問答。考試時間至少八小時。「以前的特殊選才不靠譜。」蘇文鈺說，系上觀察到過去特殊選才管道進來的學生，不見得每一個真的都具有資訊能力、專長，或許是因為書審資料「很好看」，就算曾經組隊參加比賽，但可能只負責「買雞排」。面試只有短短幾分鐘，也沒有辦法問到很細。入學後才發現學生原來不會寫程式，甚至「程式設計」被當掉，可見坊間對付這些入學方法的招數不少。蘇文鈺說，希望藉由「實機測試」，更準確收到系上要的學生。他認為，經由特殊選才的方法進來的學生，「至少百分之百要會寫程式」。不然系上針對程度有落差的學生，都必須啟動輔導機制。成大教務長王育民表示，目前很多坊間補習班開設「大學程式設計先修檢測（APCS）」課程，考生只需「精熟」題庫，基本上就可達到一定水準，「但學生真的會寫程式嗎？」王育民說，目前全台大學的資工系和電機系課程，仍很重視知識學術領域，「有些資工系畢業的學生甚至不太會寫程式，是一件很奇怪的事情。」王育民表示，成大資工系希望從入學端就利用特殊選才找到會寫程式的學生，且不希望是透過傳統坊間的APCS來認證。最好的方法就是直接給學生一個題目，希望透過「上機考試」的方式選才。規畫分為兩階段，第一階段是「廣徵」，廣發「英雄帖」，用一個問題看全台灣誰最會「解」，再從中找到50至100人，到學校實際「上機考試」。大學「特殊選才」10月將陸續起跑。109學年度，教育部核定校數47校458系、共招收1214個名額，都比去年略增；成功大學資訊工程系，今年破天荒改為八小時「現場寫程式」，希望「攻破」坊間補習班惡補招數，更是全國首例。本報資料照片 分享   facebook     '}\n",
      "{'title': '高市清潔隊員招考 孕婦、美魔女、留美碩士都來了', 'url': 'https://udn.com/news/story/7327/4022338', 'class': '地方', 'date': '09-01 12:35', 'description': '高雄市環保局清潔隊員招考今在鹽埕區高雄國際會議中心舉行資源分類術科測驗，上午10點起場外排隊等候進場的考生人龍綿延近兩圈，到場報考者更是五花八門，除了高齡64歲考生和10幾歲高中生，連6個月孕婦也來報考，40多歲的美魔女許小姐原本是家庭主婦，但她已有大貨車司機駕照，此次也來報考清潔車駕駛碰運氣。環保局今年首度大規模舉辦清潔隊員甄試，昨天舉行筆試，總報考人數1萬2498人，有1萬1745人到考，競爭相當激烈，今天進入第二天術科測驗，因人數眾多，環保局預定要考到晚上8點多才能結束。環保局表示，術科測驗要求考生須在25秒內，將鐵罐、鋁罐、寶特瓶、鋁箔包及紙餐盒進行分類，投到正確的箱子中，答對1個得2分，答錯則要倒扣，等於要拿滿分，得在1秒內答對2個，不少考生感嘆「沒有想像中容易」，有人緊張到不斷把瓶子掉在地上。26歲考生曾凱琳小腹微凸，懷有6個月身孕的她原本從事網拍包裝工作，因希望孩子出生後能擁有一份穩定工作，看了簡章覺得自己符合考試資格，就想來碰運氣，老公也很支持，她靦腆笑說自己懷孕動作較慢，有點擔心考不好。40多歲的許禪淨有著美魔女外型，10多年前就考到大貨車駕照的她，因孩子大了想重回職場，也來報考清潔車駕駛。今年環保局因在考前一周取消臨時人員可加分的規定，引發勞工團體為臨時人員叫屈，今天到場應考的陳先生是臨時人員之一，他則認為考試要求公平性，因為是自己本業，考試情況還蠻順利的。陳先生說，清潔隊員工作真的很辛苦，每天回家時一身臭味，但相當有成就感。今年報考者年齡最低者為16歲，18歲以下有10多個，在學歷部分，具有研究所學歷的報名應考人也有193人，其中還不乏留美碩士。據了解，該名報考人也是位年輕女性，但不願受訪。40多歲美魔女許禪淨有大貨車駕照，當了20多年家庭主婦的她想重回職場，決定來報考清潔車駕駛。記者蔡容喬／攝影 分享   facebook     高雄市環保局清潔隊員甄試今上午起舉行術科測驗，考生得在25秒內全神貫注完成資源分類。記者蔡容喬／攝影 分享   facebook     高雄市環保局今舉行術科考試，共有萬名考生上場，場面壯觀；環保局預估要考到晚間8點多才能結束。記者蔡容喬／攝影 分享   facebook     高雄市環保局今舉行術科考試，共有萬名考生上場，場面壯觀；環保局預估要考到晚間8點多才能結束。記者蔡容喬／攝影 分享   facebook     26歲的曾凱琳已有6個月身孕，原本從事網拍工作的她來報考清潔隊員，希望寶貝出生後有份穩定工作。記者蔡容喬／攝影 分享   facebook     '}\n",
      "{'title': '孫大千：民進黨最會製造「芒果乾」恐嚇下一代', 'url': 'https://udn.com/news/story/6656/4022058', 'class': '要聞', 'date': '09-01 08:11', 'description': '民進黨副秘書長林飛帆表示，不是民進黨要販售亡國感，而是2021年中共建黨100年，以及2022年習近平尋求連任，對台灣非常關鍵。對此，前立委孫大千表示，林飛帆是把自己當成了習近平嗎？連「中國共產黨建黨100週年該做什麼事」，和「習近平要如何才能順利連任」都要管嗎？孫大千說，民進黨在過去這段期間，明明是在消費香港的「反送中運動」，三不五時地在灌輸「今日香港，明日台灣」的錯誤觀念，說穿了，只不過是為了要營造國內反中的氣氛，藉由「恐懼感」來為蔡英文增加年輕世代的選票。孫大千表示，民進黨既然投下了大筆的經費對美進行軍事採購，又一再地宣示中華民國國軍有足夠的能力和實力捍衛國家安全，那麼不管中國大陸內部發生什麼事情，台灣人民又有什麼好害怕的呢？拿中國共產黨建國100週年，或者是習近平是否能夠連任的話題，來恐嚇台灣的下一代，不覺得這樣的做法很不道德嗎？孫大千批評，民進黨根本就是「芒果乾（亡國感）」的製造工廠，卻還要把責任撇得一乾二淨，這樣的人不叫做政客，什麼才叫做政客呢？看起來，最熱愛中國大陸的應該是民進黨，如果沒有了中國大陸，民進黨又要拿什麼話題去源源不絕的來製造他們最引以為傲的產品：「芒果乾（亡國感）」呢。孫大千。 本報資料照 分享   facebook     '}\n",
      "{'title': '反送中最新／香港機場民眾示威集結與港警對峙中', 'url': 'https://udn.com/news/story/120538/4022444', 'class': '兩岸', 'date': '09-01 14:17', 'description': '香港「反送中」網民發起今天下午堵塞機場行動，據報導，中午以後，有市民響應，在機場公車總站聚集。反對修訂逃犯條例網民呼籲其他人於今天下午1時參加「機場交通壓力測試」行動，目的是堵塞往來機場的交通，包括機場鐵路和公車等。根據本地媒體的報導，下午1時起，一批人聚集在機場公車總站，他們高叫，「光復香港，時代革命」、「5大訴求，缺一不可」等口號。參與行動的人說，到機場是要向外國旅客及外地媒體表達訴求，雖然機管局申請了禁制令，但不會影響他們的決心，也不擔心違反禁制令內容。據報導，目前機場秩序大致良好，旅客排隊進入大樓，過程中需要出示登機證及旅遊證件等，而機場也有警員巡邏。中午左右，機場往來交通暫時沒有堵塞情況。據報導，機管局行政總裁林天褔等多名高層早上曾巡視機場，而機場外圍已放置了巨型水馬及鐵欄等。另外，鐵路公司表示，因應政府及機管局的要求，以及配合機場實施進出管制措施，往來市區香港站與機場博覽館站的列車服務改為單向，香港站前往博覽館站暫停服務，博覽館站前往香港站的服務維持每10分鐘一班。香港站及九龍站的市區預辦登機服務也暫停。上月中，機管局已成功取得法庭的臨時禁制令，禁止任何人影響機場的正常運作，包括不能堵塞往來交通。圖／香港01提供 分享   facebook     圖／香港01提供 分享   facebook     圖／香港01提供 分享   facebook     圖／香港01提供 分享   facebook     圖／香港01提供 分享   facebook     #HongKong Airport now... #antiELAB #China pic.twitter.com/3fepkk9i29'}\n",
      "{'title': '好市多中和店推「停車新制」 網讚爆：希望全台分店跟進', 'url': 'https://udn.com/news/story/7266/4022830', 'class': '生活', 'date': '09-01 19:35', 'description': '好市多中和店常因停車位不足，假日車潮大排長龍。報系資料照 分享   facebook     美式賣場好市多（Costco）日前在上海開店，湧入爆量民眾瘋狂搶購、車潮大排長龍的亂象令人印象深刻。然而在台灣，好市多停車場「一位難求」的現象也常讓民眾大傷腦筋，有網友在臉書社團貼出一張好市多中和店的公告，預告將從10月開始採購物消費折抵停車的新制度，消息一出，多數網友皆大聲叫好，認為「合理！早該如此」、「希望全台都跟進」。據了解，台灣好市多（Costco）北投店因腹地較小，也採取收費制度，目前多數分店仍是提供免費停車。而由於中和店人流本來就多，加上附近公司商辦眾多，常出現占位情況，為了提升會員的購物服務品質，才有此新制度推出。根據網友在臉書「爆廢公社」的貼文，好市多中和店「停車場將於108年10月1日起，實施購物消費折抵停車費的新制」，內容則是「停車計時收費每小時100元，消費滿500元（含）折抵3小時，每日最高以3小時計；停車未滿30分鐘免費，逾30分鐘以1個小時計算收費」。好市多中和店將推「消費折抵停車費」新制 。圖／翻攝自爆廢公社 分享   facebook     好市多賣場人潮洶湧，停車位常一位難求。報系資料照 分享   facebook     '}\n",
      "{'title': '9月新制一次看 秋冬遊補助、租屋補貼都來了', 'url': 'https://udn.com/news/story/7266/4022086', 'class': '生活', 'date': '09-01 09:41', 'description': '交通新措施：●北市自強隧道區間測速 超速逾20公里優先開罰自強隧道全長約900公尺，隧道中段道路較直，離峰或深夜時段時常接獲民眾反應有嚴重超速案件，北市交通警察大隊將在今年9月1日起實施區間平均速率，取締超速及違規變換車道的車輛。區間速率是以行駛全路段之車速平均值作為認定標準，故於監測路段間偶然不慎超速不致於立刻構成違規，後續再注意控制車速即可。依照台北市交工處目前公告自強隧道速限規定為40公里，交警將針對超速逾20公里以上之違規、即行車速度超過61公里以上者，優先取締。●預約機車考照 須先完成危險感知教育測驗為提升機車騎士行車安全，交通部公路總局建置機車危險感知教育平台( https://hpt.thb.gov.tw/ )，9月開始民眾須先完成教育測驗後，才可預約機車考照。公路總局表示，9月起線上預約機車考照會強制轉換至此教育平台，完成以後才能繼續預約手續。未來將再評估，是否須通過測試才能預約考照。●新北電動車位 停車開始收費新北市82處路外停車場設211個電動汽車、636個電動機車免費停車位，不過常有電動車久占充電專用停車位。新北市交通局表示，為讓公有資源共享及使用者付費，新北市公有停車場自9月1日起，電動車停車位將調整為停車收費、充電免費。●淡海輕軌下班尖峰增班 縮短到12分鐘一班新北捷運公司準備9月起，對淡海輕軌傍晚6點至8點下班通勤尖峰時段，增加班次，從原15分鐘一班縮短到12分一班。淡海輕軌自7月1日起縮短平日上午尖峰班距，最小班距六分鐘，通勤旅次成長近四成。因此決9月起在下班尖鋒時段，增加班次。●國道散落物收處理費 每車道每半小時3000元高公局表示，高速公路及快速公路交通管制規則已規定散落物所需處理費用將由汽車駕駛人或汽車所有人負擔，高公局針對處理散落物時間達30分鐘者，每車道每30分鐘收取3000元，9月16日實施。●台鐵機車托運走入歷史台鐵局自今年3月1日起試辦「停止機車託運業務」六個月，台鐵局表示，在各方考量之下，決定從9月起，正式停辦機車託運業務。福利補助：●租屋補貼一年 單身最高4000元、新婚育兒家庭最高5000元內政部推動單身青年與新婚育兒家庭租屋補助。以台北市為例，單身者最高每月可領4000元，新婚育兒家庭最高5000元，9月2日開始登記。新婚育兒家庭資格為：每人每月平均所得低於最低生活費2.5倍以下，且無自有住宅，兩年內新婚或育有未成年子女（含胎兒）的家庭就可申請。以雙北市為例，台北市單身青年或婚育家庭，每人每月平均所得低於4萬1450元、新北市月收入低於3萬6665元者就可申請。每戶每月最高補貼金額依地區分別為3000元、3200元、4000元、5000元等4個級距，補貼期間最長1年。以台北市為例，新婚育兒家庭每戶每月最高補貼5000元。單身青年租金補貼資格為：20歲至40歲單身青年（包括租屋處與戶籍不在同一縣市）、每月平均所得低於最低生活費2.5倍以下、且無自有住宅之未婚、離婚或喪偶者。每戶每月最高金額依地區分為2600元、3200元、4000元等三個級距，補貼期間最長一年。以台北市為例，單身青年租屋，最高每月可補助4000元。●二至三歲幼托補助 北市加碼教育部自今年8月1日起受理二至四歲育兒津貼申請，符合補助資格者，每人每月發2500元，第三名以上子女每人每月加發1000元。北市府加碼補助，二至三歲孩子若就讀私立幼兒園，可多享有每學期1萬3660元的補助；9月1日起，二至三歲孩子若選擇在公托、準公托或準公共保母，每月可多領取2500元至4000元補助，若選擇非準公共化托嬰中心與保母，則每月可領取2000元至3000元育兒補助。換言之，台北市二至三歲孩子送公托、準公托或準公共保母，每月共可領5000元至6500元補助；二至三歲孩子若送非準公共化托嬰中心與保母，每月共可領4500元至5500元補助。●北市敬老卡點數 也可在運動中心用北市敬老卡每月有480元點數，讓65歲以上長者搭公車、捷運、計程車或YouBike，市府9月起加碼擴大使用範圍至12區運動中心，讓長者透過新制度擬定健康計畫。項目包括游泳池、健身房，或租場地打桌球、羽球、撞球及壁球，也能報名單次課程，但單次扣點上限50點，剩餘須額外付費。●秋冬旅遊補助上路「國旅秋冬遊獎勵方案」有四大方案，第一是團體旅遊優惠，民眾參加旅行社團體小鎮旅遊，於台灣本島、離島（金馬澎）、長天數旅遊、入住星級旅館、參觀觀光工廠或休閒農場、60歲以上樂齡族或企業員工旅遊等，每人每日獎助500元或1000元。方案二是自由行旅客住宿優惠，周日至周五每房獎助1000元，每人優惠一次；另加碼到離島（金馬澎），不分平假日，每房獎助1000元，每人多優惠一次。方案三是觀光遊樂業入園優惠，自由行旅客12歲以下兒童不分平假日每人免費入園一次。方案四為公協會辦理觀光活動優惠，獎助旅行業、旅宿業、遊樂業或相關公協會辦理觀光優惠活動。實施期間為今年9月到12月。●雙北超商、咖啡連鎖店騎樓禁菸 9月開罰北市衛生局與連鎖便利超商、咖啡店合作，9月起全市1000處門市前騎樓列為禁菸區，違規吸菸者可依菸害防制法處2000元到1萬元罰鍰；新北市3月已有2600多處超商與連鎖咖啡店加入騎樓前列為禁菸區，一樣9月開罰。台北市衛生局表示，未來民眾可透過市民熱線1999及App等管道檢舉騎樓違規吸菸者，市府將加強檢舉地稽查。非騎樓店面的門口如果有吸菸者造成他人困擾，則由店家道德勸說。新北市3月試行勸導，共接獲民眾陳情75件、輔導店家共189件，前三名分別在板橋區、中和區、新莊區。為提升機車騎士行車安全，9月開始民眾需在交通部公路總局建置機車危險感知教育平台完成教育測驗後，才可預約機車考照。本報資料照片 分享   facebook     交通部觀光局秋冬遊補助9月上路。本報資料照片 分享   facebook     台鐵機車托運確定在9月走入歷史，永久停辦。圖／台鐵局提供 分享   facebook     '}\n",
      "{'title': '港鐵太子站暴力車廂 警揮棍出椒、口罩人舉手求饒', 'url': 'https://udn.com/news/story/120538/4021995', 'class': '兩岸', 'date': '09-01 01:10', 'description': '831遊行示威衝突，晚上11點，警方在太子站列車和月台內，拘捕示威者，期間在車廂內施放胡椒噴霧、揮動警棍，有便衣警員向車廂內懷疑示威者揮舞警棍。 （香港01 記者余俊亮攝） 分享   facebook     8.31網民自發遊行演變成多區衝突，防暴警員、速龍小隊四竄展拘捕行動，其間太子站內疑有市民與示威者發生爭執，大批速龍小隊成員及防暴警員突然衝入月台，直入車廂，向車廂內的手持雨傘的示威者揮舞警棍及噴胡椒噴劑。多名只戴口罩的白衣人被對准臉部「出椒」，他們含淚及舉起雙手求饒。現場多人受傷，有人頭破血流，警方拘捕多人。事發後，車廂一地雜物，相當混亂。831遊行示威衝突，晚上11點，警方在太子站列車和月台內，拘捕示威者，期間在車廂內施放胡椒噴霧、揮動警棍，有人流血受傷。 （香港01 記者余俊亮攝） 分享   facebook     現場消息指，晚上近11時，太子站內有多名反對示威者的男子與示威者糾纏，其間男子疑曾展示鎅刀及用雨傘與示威者打架，有示威者手臂受傷流血，傷口長約一吋，男子疑報警求助。其後，車廂內冒出無味白煙，懷疑有人噴射滅火筒。列車其後停下，車廂內乘客下車，而站內亦有廣播指因緊急事故，需要關閉太子站。不少乘客隨即離開月台，其間大批速龍小隊人員便衝入月台，直闖車廂，向示威者揮舞警棍及使用胡椒噴劑。有只戴口罩的白衣疑似示威者被射胡椒噴劑，他們舉起雙手求饒，其後與身邊人相擁痛哭。車廂內有示威者架起傘陣抵抗警方的攻勢。在場有其他市民高呼「黑社會」等字眼批評警方行動。警方要求市民離開月台，現場一片混亂。 （香港01 記者余俊亮攝） 分享   facebook     現場所見，警方拘捕多人，並將他們按地制服。有被捕人士頭破血流，亦有多人受傷。因應現場有大量傷者，在太子港鐵站B1出口、旺角警署外，有至少5至6輛救護車戒備，其中消防處出動流動指揮者。救護員準備以紅、黃、綠分流傷者。有救護員表示，分流措施是因應附近大量傷者才會出動。他們已等待至少25分鐘，至今仍未有傷者從站內出來接受治療，他們稱下一步行動需等待安排。現場消息指，速龍、防暴進入太子站月台後，闖入車廂揮警棍及出椒，其間列車無法離開月台。列車停留一段時間後，速龍等警員拘捕多人才離開列車。列車向油麻地方向駛去，其間不停旺角站。由於車內有多人受傷，急需治理，有市民協助召救護車及消防員。當列車駛抵油麻地後，再有為數約30名的防暴警員經由車站出入口進入大堂，並拘捕至少兩人。現場所見，涉案列車的車廂一片凌亂，第三卡列車有大量雜物，包括染血紗布、尿片等。記者抵達油麻地站後，目擊有20至30名防暴警員由站內衝入大堂，大批市民逃離車站，當中有人頭破血流。在場有警員向記者喝稱﹕「唔好作新聞！」記者反要求警員提供事實，對方未作回應。警方在油麻地站拘捕多人。 （香港01 記者蔡正邦攝） 分享   facebook     列車駛抵油麻地站，列車內一片凌亂。 （香港01 記者蔡正邦攝） 分享   facebook     現場遺下衣物、頭盔。 （香港01 記者陳蕾蕾攝） 分享   facebook     文章授權轉載自《香港01》 '}\n",
      "{'title': '搭陸航 未來可能吃不到飛機餐了', 'url': 'https://udn.com/news/story/7332/4021822', 'class': '兩岸', 'date': '09-01 00:49', 'description': '搭乘大陸航空公司的旅客要留意了，未來可能不會有飛機餐。圖為示意圖。 圖／取自新華網 分享   facebook     搭乘大陸航空公司的旅客要留意了，未來可能不會有飛機餐。大陸民航局目前正在修訂法令，擬刪除關於空中餐食的相關條款。由航空公司根據市場需求，自行決定是否在航班上提供餐食服務。據中青網報導，近期部分大陸航空公司相繼更改餐食服務。有大陸網友抱怨，乘坐上海虹橋飛往北京的國航航班，雖然是全價為五八一○元人民幣的公務艙，但提供的餐食僅為一份三明治。另有網友發文表示，自己乘坐東方航空從上海飛往昆明航班時，雖然是公務艙，僅獲得五片水果和兩塊點心。有網友還質疑，機票價格已包括餐食，既然縮減餐食，為何機票價格不隨之進行調整。不過，未來旅客可能連抱怨飛機餐的機會都沒有了。大陸民航局近日在網站上回應指出，空中餐食服務屬於航空公司自主經營範疇。目前，大陸民航局正在修訂「中國民用航空旅客、行李國內運輸規則」，擬刪除關於空中餐食的相關條款。航空公司可根據市場需求，自行決定是否在航班上提供餐食服務。'}\n",
      "{'title': '反送中最暗夜 臥底港警開槍與無差別襲擊全出籠', 'url': 'https://udn.com/news/story/120538/4021997', 'class': '兩岸', 'date': '09-01 02:28', 'description': '香港反送中運動延燒，示威者31日晚間轉進至灣仔警察總部南面軒尼詩道、鄰近修頓球場處，鎮暴警察也整隊到場強勢驅離。 中央社  分享   facebook     香港8月31日反送中行動堪稱迄今最暴力，現場除出現多枚汽油彈、水砲車首次噴灑藍色染劑，還有臥底黑衣警察被抓包開兩槍，以及速龍小隊闖地鐵車廂無差別毆打乘客，止暴制亂適得其反。昨日的反送中行動原訂由中環遊行至中聯辦大樓，然申請遭駁回，改由網民發起未經許可的「為香港罪人祈禱」遊行；外界原預測，昨中午1時許從灣仔修頓球場出發的遊行，中聯辦是首要目標，港警亦在周邊部署上千名警力。不過，最血腥場面是港鐵太子站。昨晚10時30分起，為攔截轉進的黑衣示威者，大批防暴警察與速龍小隊成員分別進入港鐵旺角、油麻地和太子等站，甚至衝到月台追捕示威者。最誇張的是，從港媒拍攝的畫面可看見，有一批防暴警察直接衝進太子站月台的列車內，進去就是用警棍、不分青紅皂白，朝著乘客頭部陣陣狂打，在車廂門外的員警，則是用胡椒噴劑往內狂射。畫面可見，現場遭「突襲」的市民乘客趕緊打開雨傘抵擋，一名白衣男子則擋在身旁女子與警方之間，不知所措的跪地求饒，另一名男子則已頭破血流；無差別襲擊速度之快、打完就閃，來不及尖叫、只剩驚恐的痛哭失聲。為此，昨晚鄰近午夜，港鐵宣布荃灣線、觀塘線、港島線、南港島線及將軍澳線，全線服務暫停。防暴警察分別進入港鐵旺角、油麻地和太子等站逮捕示威者後，在出入口處站崗。 美聯社 分享   facebook     至於昨天下午的抗爭焦點，反送中示威民眾將「目標」改鎖定金鐘一帶的政府總部、立法會與灣仔警察總署，此區域也成為汽油彈、催淚彈與水砲車的首波對峙交戰區。昨天下午，港警在政府總部發射催淚彈驅散時，示威者向防暴警察丟擲多枚汽油彈，警方防線數度起火，並趕緊調派一輛原鎮守中聯辦的水砲車支援，並首度以藍色染劑噴向示威者。另一新衝突是昨天傍晚6時30分左右，當防暴警察鎮守告士打道與軍器廠街路口時，有多名黑衣示威者溜到上方車行陸橋，往下投擲多枚汽油彈，頓時火光四起、催淚彈煙霧瀰漫，所幸無員警受傷。防暴警銅鑼灣連開多槍，示威者汽油彈火線還擊。取自星島網 分享   facebook     「臥底」喬裝黑衣人的員警被抓包，再引爆爭議。昨晚9時30分左右，維多利亞公園附近有多名身著黑衣、戴頭盔面罩，手臂有藍色反光標記的「黑衣人」，卻手持警棍和疑似胡椒彈槍的槍枝，制服多名示威者。無奈，臥底反串遭媒體發現，有記者上前追問他們是否為警員，竟遭惡言遮擋鏡頭；此後更有多名警察到場包圍記者，但始終未回答這些「黑衣人」的身分。更離譜的是「兩槍」。之後有示威者在維園外又遇上這群「假黑衣」，「臥底」遭追打退進維園；其後，有港媒在維園的地上撿到兩枚實彈彈殼。香港01引述消息證實，有「便裝」員警在混亂中感到生命受威脅，暗夜對空開了兩槍示警。由於衝入地鐵站事件引爆民憤，大批香港市民從昨晚起，聚集在港鐵太子站旁邊的旺角警署、抗議警方執法不公，直至今天凌晨2時，仍未散去。至於此前示威者在夏愨道陸橋丟汽油彈時，被法新社記者華勒斯（Anthony Wallace）拍到腰間配有一把疑似「克拉克19」（Glock 19）型手槍，一度被懷疑是警方臥底。但昨晚「反送中已核實資訊頻道」指，該槍枝為氣槍，並已獲在場人士及槍會確認。由於衝入地鐵站事件引爆民憤，民眾包圍旺角警署，防暴警架起隔網在門外戒備。 美聯社 分享   facebook      '}\n",
      "{'title': '港831遊行上演「屍速列車」血染車廂', 'url': 'https://udn.com/news/story/120538/4022088', 'class': '兩岸', 'date': '09-01 09:46', 'description': '警方在太子車站內拘捕示威者，在車廂內施放胡椒噴霧。圖／香港01 分享   facebook     香港831遊行戰火由港島蔓延至九龍，更血染港鐵列車。示威者由金鐘、灣仔退守銅鑼灣，遇警連番推進清場下，經由港鐵列車轉戰尖沙咀。一輪衝突過後，他們撤回尖沙咀站登車離開，卻在太子站遇速龍（特別戰術小隊）闖車廂揮棍出椒圍捕。急救員阿謙直擊事件，形容是「屍殺列車」，指列車上示威者沒有作挑釁及攻擊之舉，但速龍仍猛揮警棍，「這是無差別攻擊，有需要出動警棍？」速龍撤離車廂後，至少三名傷者後腦流血，有人傷口長四厘米，流血不止。香港01報導，重組事件起因，因有示威者跟反對他們的中年漢有爭拗，反對示威者的人士突然取出一把錘仔，向示威者揮舞。其後警察趕到，發生襲擊示威者及車廂內人士的事件。尖沙咀一輪警民衝突過後，急救員阿謙與同伴尾隨示威者離開尖沙咀，登上駛往太子的列車。列車駛抵太子站的時間是晚上10時50分，卻停在月台未有開出。列車內人士一頭霧水，開始鼓譟。翻查片段，一批全副裝備的示威者，在列車內，與數名中年男子發生爭執，有人高叫「冷靜」。有乘客嘗試勸和，稱「只係搭一個站啫」，並在列車抵站後著示威者離開車廂。其間，有示威者指責兩名中年男子向記者施襲，亦有男子不斷向示威者起飛腳作勢施襲。示威者情緒激動，雙方隔著打開的車門互罵，互掟水樽、雨傘等，後來一名藍衣中年漢突然取出一把錘仔，向示威者揮舞。場面一片混亂，車內一片凌亂，滿地染血紙巾、紗布。香港經濟日報報導，激進示威者在多區與警方對峙，向添馬政府總部、立法會大樓和警察總部以及在不同地方投擲多枚汽油彈，並以腐蝕性液體及磚頭等襲擊警務人員。對於激進示威者的違法及暴力行為持續升級，罔顧市民大眾的安全，特區政府予以嚴厲譴責，警方亦必定嚴正追究。香港民陣昨發起的831遊行爆發激烈衝突，醫管局統計至今（1）日上午7時，共接獲31宗受傷送院報告，25男6女傷者年齡在16至52歲。現時5名傷者情況嚴重，分別留醫明愛醫院、廣華醫院及瑪嘉烈醫院，另有8人情況穩定，其餘18名傷者已出院。香港特別戰術小隊、防暴衝入車廂過後，列車內一片凌亂，滿地染血紙巾、紗布，更有尿片。照片／香港01 分享   facebook     警方與民眾在地鐵站內發生衝突。圖／香港01 分享   facebook     '}\n",
      "{'title': '去幫郭台銘就開鍘？黃創夏：國民黨恐爆「少子化危機」', 'url': 'https://udn.com/news/story/6656/4022071', 'class': '要聞', 'date': '09-01 09:08', 'description': '媒體人黃創夏上午在臉書貼文，國民黨的「少子化」危機，只要去幫鴻海集團創辦人郭台銘就開鍘，這樣子，國民黨中央會不會突然發現，已經沒有年輕黨員了？黃創夏也酸高雄市長韓國瑜，除了創造Kuso話題，幾乎無任何值得期待的表現，真正的「相公」在這𥚃！「笨蛋，問題就在韓國瑜！」他指出，「得志貓兒勝過虎，落魄鳳凰不如雞。」國民黨繼續鄕愿丶護短，不敢面對真相，那麼就讓國民黨和韓國瑜一起被掃入歷史灰燼。黃創夏也酸說，以後談到韓國瑜，都該用「國家機器追蹤器」的「語法」：「疑似、可能、合理懷疑、情治友人嚴重警告‧‧‧」。「郭柯王聯盟」逐漸成形，鴻海集團創辦人郭台銘（中）的下一步，恐讓國民黨爆發分裂危機。本報系資料照片 分享   facebook     '}\n",
      "{'title': '孫亞夫：綠營策動港暴亂 蔡「製造槍砲」射擊大陸', 'url': 'https://udn.com/news/story/120538/4022094', 'class': '兩岸', 'date': '09-01 09:55', 'description': '大陸海協會副會長孫亞夫昨（31）日在第四屆兩岸關係天府論壇開幕式致辭時表示，民進黨及其當局策動和支持香港暴亂，然後利用香港混亂局面攻擊「一國兩制」。他稱，蔡英文不是「撿到槍、撿到炮」，而是「製造槍、製造炮」，向大陸射擊。中評社報導，天府論壇是由大陸國台辦指導、海峽兩岸關係研究中心等單位所主辦的。孫亞夫指出，民進黨及其當局實行所謂「抗中」策略，對大陸升高對抗，對島內實行綠色恐怖，對美國竭力配合、百般討好。孫亞夫說，他們還策動和支持香港暴亂，然後利用香港混亂局面攻擊「一國兩制」。蔡英文不是「撿到槍、撿到炮」，而是「製造槍、製造炮」，向大陸射擊。在台灣2020年大選方面，孫亞夫認為，選情錯綜複雜、撲朔迷離，國民黨失去了去年九合一選舉後曾有過的有利地位，2020年選舉是否發生新一次政黨輪替，前景不明。在美中台關係方面，孫亞夫表示，中美建交40年來，美國全面對大陸施壓到了從未有過的程度，美國對台灣當局的扶持、發展與台灣的關係到了從未有過的程度。美國的作為，給兩岸關係發展和台海穩定帶來最大的挑戰和風險，也使台海形勢發生40年來最大的變化。孫亞夫指出，如果台獨勢力膽敢發動台獨重大事變，大陸必然採取必要手段、包括非和平手段予以堅決打擊、徹底粉碎。海峽兩岸關係研究中心主任仇開明指出，當前的兩岸關係總體呈現出大陸對台影響放大期、島內政治主軸轉換期、美國強化對台干預期「三期疊加」的特徵。他認為，民進黨當局百般抵制抗拒大陸崛起，扭曲台灣政治價值認知，加劇台灣基本政治矛盾，將加速其衰敗覆滅的命運。中國現代國際關係研究院涉台事務研究中心主任謝郁也批評，蔡英文當局「倚美抗陸」充當美國馬前卒，攪動台海風雲，借香港事件操作「反中仇共」，升高兩岸緊張。與會的文化大學社會科學院院長趙建民認為，「九二共識」是兩岸交流70年來唯一找到的一把鑰匙。在沒有找到新的鑰匙之前，應該把舊的鑰匙撿起來，不然更加沒有辦法應對新的變化。大陸海協會副會長孫亞夫。中新社資料照片 分享   facebook     '}\n",
      "{'title': '在美留學陸生被拒入境遭遣返 搜身「脫到只剩一條內褲」', 'url': 'https://udn.com/news/story/6813/4022389', 'class': '全球', 'date': '09-01 14:03', 'description': '洛杉磯國際機場外站有美國海關及邊境保衛局人員，示意照片與新聞事件無關。歐新社 分享   facebook     美國大學開學之際，洛杉磯國際機場連續傳出十多名來自中國大陸的留學生被拒入境並原機遣返中國，五年學生簽證被取消；部分當事人表示在機場海關被扣留詢問長達十多小時至20多個小時，脫衣搜查，甚至「脫到只剩一條內褲」，感覺相當屈辱。洛杉磯移民律師華強表示，從8月11日至8月21日，她連續收到中國留學生的報告，這些中國留學生乘坐中國航班到達洛杉磯國際機場準備入關時，被聯邦海關人員扣留詢問後拒入境。其中一名北京男學生和其他11名從中國來美復學的學生，上星期進入洛杉磯國際機場上，不但被扣留在海關30多小時，還被勒令脫衣搜身，拿走I-20，簽證取消，最後全部遣返。其中一名男生乘坐的東航航班，8月11日晚8時許到達洛杉磯國際機場，該男生準備通關時，被一名亞裔海關官員扣留詢問，之後十多個小時中，又分別有兩波海關人員對其詢問各種問題。據當事人表示，多名海關人員首先問他什要轉學，學業是否有問題。該留學生回答因自己興趣，所以從較大的私立學校轉到較小的私立學校。海關人員又問他是否以教人打網球方式非法打工，教人打網球是否收費？該留學生表示網球是自己愛好，因打得好，平常一些朋友喜歡找他打球，並沒有收費，只是自願請他吃飯。當事人表示，海關人員還詢問他是否曾經幫人代考、是否曾經考試作弊、是否在網上上課等等。他回答沒有。海關人員又問他有沒有接受過任何軍事訓練，答案也是沒有。當事人表示，海關人員數度向他表示，「要回答問題，不講話馬上坐牢」。他表示，他最後被要求脫衣接受搜身，脫到最後只剩一條褲。該留學生表示，他最後承認曾因教人打網球獲得三次25元和50元的小費，總共100元。海關人員最後取消其學生簽證，五年不得入境。華強表示，不僅如此，海關人員最後告訴該中國留學生，他被拒絕進入美國需原機遣返，回程機票800美元需留學生自付。不久，有一個貌似航空公司的人拿到錢，該留學生次日返回中國。另一個中國留學生則是8月19日乘坐中國航班到達洛杉磯國際機場，準備入關回洛杉磯某學校時被拒絕入境。據該留學生父母表示，他們的孩子在洛杉磯海關被扣後，30多個小時與父母失去聯繫。該留學生兩天後被送回中國。據當事人表示，在洛杉磯國際機場被海關扣下詢問並送返中國，但海關人員讓他簽署一份文件，並表示他此次不能入關，但會保留其學生簽證，但等到他下飛機重新拿到護照時，發現自己的學生簽證已被取消。該留學生母親表示，自己的孩子回國已近十天，情緒非常低落不穩，躲著不肯見家人。華強表示，據她瞭解，兩名中國留學生都已在美留學一段時間，並非首次來美。兩人平時正常上學，並無逃學或學業不佳或作弊代考等情況。她質疑，「最令人不解的是，海關人員當時並沒有向留學生提出任何有關毒品的問題，但何要脫衣搜身？」記者31日試圖就相關問題聯絡洛杉磯國際機場海關，但未果。據一位不具名的海關人員表示，學生返校高峰期，對留學生返美入境檢查確實更花時間，根據聯邦移民和國籍法，共有60多項理由可以拒絕外國人入境，包括健康、犯罪、安全、公共指控、勞工證、非法入境、違反移民法和文件等，都是檢查重點。他強調，這些檢查不是針對來自中國的留學生，而是對所有的國際學生。海關人員表示，手機通訊記錄通常可以透露很多信息，包括是否非法打工、全職學習，比如，一個人的常住住址在離學校兩小時之外，基本可以質疑他是否在上學？'}\n",
      "{'title': '學者：若人大決定港進入緊急狀況 示威者被捕後恐送陸審判', 'url': 'https://udn.com/news/story/120538/4022810', 'class': '兩岸', 'date': '09-01 19:07', 'description': '高志凱認為，大陸可以成立「廣東警察志願部隊」，從深圳過去香港，穿上香港警察的制服，戴上「志願警察」的袖章，與香港警察一起執法。 視覺中國 分享   facebook     港府修訂《逃犯條例》引發的爭議和風波持續。有內地學者表示，如果香港進入「緊急狀況」，全國人大有權決定大陸的法律適用於香港，可能會派大陸警察進入本港執法，用大陸的法律來拘捕香港示威者。新加坡《聯合早報》引述中國與全球化智庫副主任高志凱表示，香港現在的一個問題是，被捕的人一會兒就被放。以後如果全國人大常務委員會決定香港出現緊急狀況，那就可以宣布大陸的部分或全部法律，在一定時間內適用於香港，意味著香港人被捕後可被送到大陸審判和關押。他指出，香港警察已出現「精疲力盡」的跡象，如果有需要，根據《基本法》，香港特區政府可要求中央政府介入，全國人大也可自行決定介入。至於介入的方式，他分析道，為對付現階段的暴亂，還沒有必要出動駐港部隊，也沒有必要動用大陸武警，廣東省的警察就足夠。高志凱認為，大陸可以成立「廣東警察志願部隊」，從深圳過去香港，穿上香港警察的制服，戴上「志願警察」的袖章，與香港警察一起執法。他又說，在尋求中央介入之前，香港政府現在也可授權香港警察使用更多必要的武力來處理局面。「香港政府現在太軟弱了……任何其他文明城市，都不可能允許大規模違法亂紀的事持續延燒。」值得一提的是，廣東警察、武警上月曾先後在深圳組織至少3次大規模的「練兵」行動，且每次都針對「暴亂」，其中包括出動水炮車驅趕「示威者」，又舉起帶有繁體字警告標語的旗幟等。延伸閱讀：【罷課罷工】教評會：學校倘捲政治紛爭不利校風 不應接納罷課不能讓暴力示威成為常態文章授權轉載自《香港01》'}\n",
      "{'title': '獨／不給養狗爆衝突？台中嫩妻酒後當夫面墜樓亡', 'url': 'https://udn.com/news/story/7315/4022414', 'class': '社會', 'date': '09-01 13:41', 'description': '台中市北屯區某大樓今天上午11時許傳出墜樓意外，一名年約25歲的女子倒臥在大樓的中庭，警消獲報到場時，女子已無呼吸心跳，送醫急救後仍宣告不治，女子丈夫當場在醫院崩潰，據查，兩人才新婚一年多，今天上午女子酒後返家後，與丈夫因要不要養狗而起口角，未料女子隨後就從9樓陽台墜落中庭身亡，全案交由檢警相驗，釐清死因。經查，今天上午11時許，李姓女子（25歲）從北屯區某大樓的9樓墜落中庭，消防隊獲報到場時，李女已倒臥在地面，頭、腿都有撕裂傷，已無生命跡象，送往中國醫藥大學附設醫院急救後，仍宣告不治，全案交由檢警相驗，釐清死因，案發地點的大樓保全不願對案情多談，面對記者詢問，直說「不清楚」。經查，李女待業中，與丈夫才結婚一年多，今天上午李女與朋友喝完酒後返家，因丈夫提及要把家裡養的狗送養，不讓李女養狗，兩人因此事起口角後，李女就從住處的9樓陽台墜落，李女丈夫在醫院得知妻子死訊後，情緒崩潰，無法接受警方詢問，詳細的案發經過，有待後續調查。 自殺，不能解決難題；求助，才是最好的路。求救請打1995 ( 要救救我 ) 台中市北屯區某大樓今天上午11時許傳出女子墜樓意外，女子送醫不治，全案由檢警相驗釐清死因。記者陳宏睿／攝影 分享   facebook     '}\n",
      "{'title': '反送中多個港鐵站被破壞 太子旺角九龍灣站今早續關閉', 'url': 'https://udn.com/news/story/120538/4022035', 'class': '兩岸', 'date': '09-01 08:09', 'description': '港鐵多個車廂被破壞。圖／港鐵 分享   facebook     昨日（8月31日）是人大就普選行政長官「831決定」五周年，加上修訂《逃犯條例》爭議示威衝突，多個港鐵站被破壞，包括深夜11時多，警方在太子站列車和月台內，拘捕示威者，期間在車廂內施放胡椒噴霧、揮動警棍，多人流血受傷。港鐵今日凌晨預告，個別車站未必可以在今日（9月1日）早上重開。港鐵今晨表示，修復工作仍在進行，當中太子、旺角及九龍灣站繼續關閉，即觀塘及荃灣兩線不停旺角站和太子站，觀塘線不停九龍灣站。因此需要在觀塘及荃灣兩線轉線乘客，須在油麻地站轉車。另外，九巴和新巴城巴表示，所有路線已恢復服務，並按照原有行車路線行駛。831太子站內警方拘捕時發生嚴重衝突。港鐵多個車廂被破壞。圖／港鐵 分享   facebook     港鐵多個車站內被破壞。圖／港鐵 分享   facebook     金鐘站支柱被破壞。圖／港鐵 分享   facebook     太子站線路被毀。圖／港鐵 分享   facebook     警方與民眾在地鐵站內發生衝突。圖／香港01 分享   facebook     有些人受傷、流血。圖／香港01 分享   facebook     警方在太子車站內拘捕示威者，在車廂內施放胡椒噴霧。圖／香港01 分享   facebook     延伸閱讀：【8.31遊行】太子暴力車廂最少十傷六嚴重\\u3000救護等30分鐘方能入站【831遊行】太子站外現紅黃綠「分流墊」\\u3000救護員：有大量傷者\\u3000文章授權轉載自《香港01》'}\n",
      "{'title': '暗酸郭台銘？韓國瑜：就算你存3億也改變不了政治', 'url': 'https://udn.com/news/story/12702/4022621', 'class': '要聞', 'date': '09-01 16:11', 'description': '國民黨總統參選人韓國瑜今天到彰化參訪8間廟，下午來到員林福寧宮，受到上百民支持者擁戴。韓國瑜致詞時表示，風調雨順靠老天爺，國泰民安靠自己，「就算銀行存3億都沒用，你改變不了政治」，只有選票可以讓台灣人民脫離貧窮和危險，這是唯一的機會。韓國瑜此段話跟即將獨立參選總統的郭台銘有互別苗頭的意味。韓國瑜說，到廟拜拜都會祈求8個字，「國泰民安、風調雨順」，風調雨順靠老天爺，老天爺下多少雨，來多少颱風誰也沒有辦法，但國泰民安靠自己努力，國家要安全，人民要有錢。老天爺決定天氣，人民可以用選票決定台灣自己的未來。「就算你銀行存30萬、3百萬、3千萬甚至3億都沒有用，你改變不了政治」韓國瑜說，只有一件事情可以讓台灣脫離貧窮和危險，就是靠手上這張選票，這是唯一的機會。要改變台灣的政治、未來和子孫的命運還有我們自己，要靠這張選票，所以2020年用選票讓表現這麼差的民進黨下台好不好。韓國瑜也呼籲，員林的立法委員選舉支持國民黨的立委候選人蕭景田，那總統大選支持誰？民眾群起大喊「韓國瑜」！韓接著說，他不會忘記世上苦人多媽祖在上、神佛在上他不敢亂講話，一定會全心全意為台灣人民打拚。國民黨總統參選人韓國瑜（右）。記者劉宛琳／攝影 分享   facebook     '}\n",
      "{'title': '台中「靜城」一個月開千單罰225萬 警方9月擴大辦理', 'url': 'https://udn.com/news/story/7315/4022095', 'class': '社會', 'date': '09-01 09:57', 'description': '台中市警局從8月開始執行為期一個月的「靜城專案」，每天深夜至凌晨加強取締違規超速的車輛，並針對噪音改裝車輛蒐證送交環保局通知檢驗，獲得市民認同，執行專案1個月期間已開罰1879件超速違規，並蒐證128輛噪音車，以每件超速最低1200元罰款計算，至少為公庫入帳225萬元，台中市警局表示，9月開始要擴大到全市14個分局辦理，呼籲市民守法，以免受罰。台中市警局交通大隊表示，統計8月份靜城專案執行成果，共1879件超速違規，並有蒐證到128部噪音車輛，涉案噪音車後續會由環保局再次審視蒐證影音資料後，通知車主到指定地點接受檢驗，若認定違規也將開罰。台中市警局交通大隊指出，目前台中市警局有6台「移動數位式雷達測速照相結合噪音偵測器設備」，9月開始將專案擴大由全市14個分局執行，沒有新設備的分局，將以一般測速照相搭配攝影機的方式取締。台中市警局交大表示，執行機動式測速照相是警方的例行勤務，台中市首創將噪音偵測設備附隨在測速照相機上方，使用「移動數位式雷達測速照相結合噪音偵測器設備」逐一偵測行經的車輛，如有噪音車輛就會拍照並錄影，再將這些蒐證到的噪音車輛交給環保局辦理檢驗，以進一步有效防制、取締製造高分貝噪音的改裝車。台中市警局長楊源明呼籲，根據110報案及1999話務中心案件分析，在多數民眾的觀念中會將噪音車與飆車畫上等號，實際上車速與音量並非絕對相關，且車輛出廠時都必須通過噪音檢測，會導致噪音的原因往往都是駕駛人刻意改裝，或是在道路上拉高引擎轉速所致；噪音改裝車嚴重影響民眾安寧，警察局將持續以高強度、高密度的方式執行「靜城專案」進行防制及取締，也呼籲民眾如有發現疑似噪音車輛在路上出沒，得在第一時間蒐證後向環保局檢舉，並盼改裝車輛製造噪音的車主或駕駛人，養成守法觀念，共同守護台中宜居環境。台中市警局交通大隊在8月結合新設備執行靜城專案，共取締1879件超速、128輛噪音車。圖／台中市警局交通大隊提供 分享   facebook     台中市警局交通大隊在8月結合新設備執行靜城專案，共取締1879件超速、128輛噪音車。圖／台中市警局交通大隊提供 分享   facebook     台中市警局交通大隊在8月結合新設備執行靜城專案，共取締1879件超速、128輛噪音車。圖／台中市警局交通大隊提供 分享   facebook     台中市警局交通大隊在8月結合新設備執行靜城專案，共取締1879件超速、128輛噪音車。圖／台中市警局交通大隊提供 分享   facebook     '}\n",
      "{'title': '影／男童上廁所不見人影 20分鐘上游溪邊尋獲送醫不治', 'url': 'https://udn.com/news/story/7315/4022701', 'class': '社會', 'date': '09-01 17:19', 'description': '宜蘭縣蘇澳鎮武荖坑風景區傳出男童溺水意外，一家5口在武荖坑溪畔遊玩時，男童獨自去上廁所，卻不見人影，20分鐘後家屬在上游200公尺溪邊尋獲男童，當場無心跳呼吸，送醫不治。今天下午3點40分，消防局接獲馬賽派出所通報，有一家5ロ前往蘇澳鎮武荖坑風景區遊玩，其中5歲林姓男童自行前往上廁所之後失蹤，經派遣蘇澳、馬賽分隊人車前往搜救。下午4點，根據馬賽分隊小隊長林韋宏回報，家屬在溪邊尋獲男童，已無生命徵象，消防人員實施CPR，送醫急救仍宣告不治。宜蘭武荖坑風景區傳出溺水意外，5歲林姓男童自行前往上廁所之後失蹤，家屬後來在溪邊尋獲男童，消防人員實施CPR，送醫急救仍宣告不治。 圖／消防局提供 分享   facebook     '}\n",
      "{'title': '殺破狼周運勢／白羊收入有增加趨勢 金牛桃花盛開的時期', 'url': 'https://udn.com/news/story/7268/4004192', 'class': '生活', 'date': '09-01 00:00', 'description': '殺破狼星座運勢。 圖／Shutterstock 分享   facebook     整體運勢：金錢運佳，在金錢宮位的天王星與太陽、水星、金星、火星有良好連結，在職場上會獲得額外的獎金或加給，同時加班費也增加不少，如果有兼職或是發展副業，收入有增加的趨勢。感情運方面，金星落在工作宮位與太陽、水星、火星合相，在職場會受到許多人傾慕，某些白羊座會陷入職場戀情。然而受到海王星與木星影響，你會分不出自己只是喜歡被愛慕的感覺，還是真的想投入這份感情。本週須注意的部分：工作運方面，太陽、水星、金星、火星齊聚工作宮位，職場有許多大大小小的問題需要你處理，甚至必須處理專業領域以外的事務，是公司不可或缺的重要角色，卻會厭惡自己被過度使用。健康運方面，太陽、水星、金星、火星齊聚健康宮位，當心刀火燙傷見血光，此時容易感染急性疾病，嚴重的話甚至需要動手術治療。心血管方面的疾病要注意，此時也會是感染感冒的高峰期。遠行運方面，在遠行宮位的木星受到太陽、水星、金星、火星，以及海王星影響，到外地容易生病，精神壓力大，認床、睡不好的問題也特別嚴重。遠行請把常備良藥帶好，以備不時之需。整體運勢：感情運方面，太陽、水星、金星、火星齊聚戀愛宮位，會是桃花盛開的時期，甚至同時會有兩個以上的曖昧對象，受到慾望宮位的木星影響，此時誘惑會很多，當心捲入桃色糾紛中。工作運方面，土星與冥王星齊聚在遠行宮位，與太陽、水星、金星、火星有良好連結，有很多出差與外派的機會，在工作之餘，也可以好好遊覽當地。某些金牛座會考慮在海外找適合自己專業的工作。本週須注意的部分：人際關係方面，在人際關係宮位的海王星受到戀愛宮位的太陽、水星、金星、火星影響，盡量避免讓朋友介入你的戀情問題，這些朋友不但不會幫你解決問題，還會替你製造情感的糾紛。金錢運方面，在財務宮位的木星受到玩樂宮位的太陽、水星、金星、火星影響，花太多錢在娛樂、追星、看演唱會上，累積許多卡債需要分期攤還，生活費用緊縮。某些金牛座的寵物與小孩身體狀況令你擔憂，醫療支出較多。整體運勢：家宅運方面，太陽、水星、金星、火星齊聚家宅宮位，此時可能正在籌備婚事，家庭會有新成員加入。沒有婚嫁煩惱的雙子座，則會因為工作的需求，必須要搬家或離家到外地去。金錢運方面，在財務宮位的土星、冥王星與家宅宮位的太陽、水星、金星、火星有良好連結，此時會需要搬家或購屋，家人會在經濟方面給予你幫助。某些雙子座會因為買賣房地產獲利，或是斡旋到較為優惠的價格。本週須注意的部分：工作運方面，在志業宮位的海王星受到太陽、水星、金星、火星，以及木星的影響，在職場上除了自己份內的工作之外，還得要幫許多同事收拾殘局。某些雙子座則會因為工作的調整，需要搬家或離家。感情運方面，在感情宮位的木星受到家宅宮位的太陽、水星、金星、火星影響，會有一些問題夾在情感對象與家人之間兩面不是人，雙方都有一些令你為難的要求，必須非常細心處理這些問題。整體運勢：工作運方面，太陽、水星、金星、火星齊聚面試宮位，想找新工作或是轉換領域的巨蟹座，此時面試較為討喜，錄取的機率很高，沒有求職困擾的巨蟹座，新技術的學習可以很快上手，工作越來越順心。旅遊運佳，太陽、水星、金星、火星齊聚旅遊宮位，此時出門旅行，行程十分緊湊，會很有效率地到想朝聖的景點打卡，食宿待遇十分高級，甚至因為特殊的身份獲得升等的禮遇。本週須注意的部分：感情運方面，土星與冥王星持續齊聚在情感宮位，情感關係中一旦有外在因素的干擾，對方就無法給你正面的回應，該是設下停損點的時候了，有很多現實面的問題需要理性思考。交通運方面，太陽、水星、金星、火星齊聚交通宮位，受到海王星與木星影響，駕駛車輛或騎車需特別注意交通安全，此時被開罰單的機率較高，同時容易與人發生行車糾紛，交通工具常常故障，需要進廠維修。整體運勢：金錢運方面，太陽、水星、金星、火星齊聚金錢宮位，手上有餘裕的金錢可以花在物質享受上，在吃喝玩樂上的花費較不節制，好不容易賺得的收益，會因為許多不必要的支出而浪費掉。工作運方面，在志業宮位的天王星與太陽、水星、金星、火星有良好連結，工作會比較平順，雖然依舊忙碌，但職場上的地位會穩定下來，做任何事情不再綁手綁腳，可大刀闊斧地展現才能。本週須注意的部分：感情運方面，在戀愛宮位的木星受到在金錢宮位的太陽、水星、金星、火星以及財務宮位的海王星影響，會砸下大筆的金錢，討戀愛對象歡心，但對方的反應似乎不如你預期。某些獅子座則會把錢大量花在小孩與寵物身上。健康運方面，土星與冥王星齊聚健康宮位，經年累月的操勞，一些慢性疾病的症狀浮現，注意泌尿系統的問題，筋骨、牙齒、皮膚有許多小毛病常常困擾你，睡眠狀況不佳，身心靈需要好好調理。整體運勢：遠行運佳，在遠行宮位的天王星與太陽、水星、金星、火星有良好連結，常常會有出遠門的機會，或是迷上了旅行，會到海外代購一些商品，賺賺外快，可能還會因此開發出新的副業。學業運方面，在學業宮位的天王星與太陽、水星、金星、火星有良好連結，會有許多學術交流的活動，以及各種競賽要參加，甚至會有機會到海外交換學生。某些處女座會計畫到海外留學、打工度假或是遊學。本週須注意的部分：感情運方面，在感情宮位的海王星受到命宮的太陽、水星、金星、火星影響，以及家宅宮位的木星影響，情感關係的問題會擴大到雙方家人身上，與對方的家人處不好，容易發生三方的爭執，有些處女座還在情傷當中，家人會對這段關係過份關注，使你感到煩悶。工作運方面，太陽、水星、金星、火星齊聚命宮，在職場上會是一個不可或缺的角色，有許多人仰賴著你，每天處在極度疲勞的狀態，體力耗損非常嚴重，雖然很想休息，一旦你不在工作崗位，整個工作團隊就會陷入混亂。健康運方面，太陽、水星、金星、火星齊聚命宮，依然要當心血光之災，容易有意外傷害，身體有過勞的傾向，體力耗損嚴重。心肺功能較不理想，有頭暈、目眩、心悸的症狀，要特別留意。感染感冒的機率也比較高。整體運勢：金錢運佳，在財務宮位的天王星與太陽、水星、金星、火星有良好連結，投資運佳，可選擇好的時間點獲利了結。沒有投資習慣的天秤座，財務壓力會逐漸降低，經營的副業也會有不錯的進帳。感情運方面，太陽、水星、金星、火星齊聚秘密宮位，暗戀的對象會發現你的心意，然而這段愛戀，會因為一些因素，只能在地下進行，無法公開讓週遭的人知道。本週須注意的部分：工作運方面，太陽、水星、金星、火星嚴重影響工作宮位的海王星，對工作感到嚴重倦怠，事務進行十分緩慢，太多情緒性的問題嚴重干擾著你，會讓你想丟下工作，一走了之。交通運方面，在交通宮位的木星受到太陽、水星、金星、火星以及海王星影響，此時注意交通安全，出遠門容易迷路，同時當心被開罰單，以及與人發生行車糾紛，交通工具有嚴重的故障，需要維修，出門會感覺較不方便。溝通運方面，在溝通宮位的木星受到太陽、水星、金星、火星以及海王星影響，一時嘴快，把內心的幹話說出來，引發軒然大波，在網路上被人攻擊或肉搜。此時要特別謹言慎行，容易惹上口舌是非。整體運勢：人際關係方面，太陽、水星、金星、火星齊聚人際關係宮位，交際應酬的邀約較多，有些朋友會想約你出來聚聚。此時會因為一些社交活動，認識新朋友，這些人會成為你的貴人，在各種事情上給予你幫助。感情運方面，在戀愛宮位的海王星受到太陽、水星、金星、火星影響，會在社交場合，認識有好感的對象，不過對方似乎只想和你搞搞曖昧。有對象的天蠍座，情感關係當心被第三者介入，或是有人想破壞你的情感關係。本週須注意的部分：金錢運方面，在金錢宮位的木星受到人際關係宮位的太陽、水星、金星、火星以影響，會被人慫恿做些投資，或買很多浪費錢的東西，但這些投資與物品其實你並不那麼需要，會有種被人欺騙的感覺。工作運方面，土星與冥王星持續影響溝通宮位，在職場上有許多口舌是非的困擾，與週遭的人溝通不良，雖然已經盡量不想惹麻煩，但工作領域會有許多針對你的言論攻擊，造成你執行工作的困擾。學習運方面，土星與冥王星持續影響學習宮位，開學之後，會感覺許多專業科目跟不上別人，對於學業感到較為灰心，課業壓力較大，考試成績也不理想，此時必須要思索在學習態度上需要改進的地方，否則將一直陷入惡性循環。整體運勢：工作運方面，太陽、水星、金星、火星齊聚志業宮位，會因為一些偶發的事件在工作領域成為眾人注目的焦點，業務量暴增，生活會被工作與事業所佔滿，在職場的地位會被提升。金錢運方面，在金錢宮位的土星與冥王星與志業宮位的太陽、水星、金星、火星有良好連結，會因為優異的工作表現被加薪，或是獲得額外的獎金鼓勵。經濟狀況會略有改善。本週須注意的部分：感情運方面，在命宮的木星與金星、海王星相位不良，在工作領域上會有許多傾慕者，某些人會大膽地向你表達好感，可能因此陷入職場戀情中。情感穩定下來的射手座生活非常忙碌，對於情感關係會有些忽略。健康運方面，在命宮的木星會受到志業宮位的太陽、水星、金星、火星影響，工作有過勞的傾向，每天都感覺十分勞累，體力消耗較為迅速。此時會發現自己嚴重發福，飲食要開始節制了。整體運勢：感情運佳，在戀愛宮位的天王星與太陽、水星、金星、火星有良好連結，單身的摩羯座，出遠門會有怦然心動的邂逅，甚至會有異國桃花來追求，有對象的摩羯座，與喜歡的人不妨規劃一個海外行程，情感關係會因此更為穩固。遠行運方面，在遠行宮位的太陽、水星、金星、火星與天王星有良好連結，會有一個遠行計畫，到海外看演唱會，或參加大型的娛樂活動。某些摩羯座會在旅行途中巧遇名人，感覺很驚喜。本週須注意的部分：工作運方面，在面試宮位的海王星受到太陽、水星、金星、火星的影響，面試新工作，會因為學歷問題受到刁難，感覺專業能力受到輕視。某些摩羯座此時會需要到外地出差，差旅待遇雖然很好，但被授與的任務非常棘手。學業運方面，在學業宮位的太陽、水星、金星、火星受到海王星影響，正面臨選修課程混亂的時期，對於進入的科系有嚴重的學習障礙，在學習環境中有些適應不良。整體運勢：感情運方面，太陽、水星、金星、火星齊聚慾望宮位，與喜歡的對象有許多肢體接觸的機會，甚至會以肉體關係確認彼此的心意。單身的水瓶座慾望需求較為強烈，可能會尋求一夜情排遣空虛與寂寞。家宅運方面，在家宅宮位的天王星與財務宮位的太陽、水星、金星、火星有良好連結，此時家人對你特別大方，會默默地幫你把一些帳單清償掉。某些水瓶座會繼承家中的一些資產，必須要花很多心思去處理一些稅務。本週須注意的部分：金錢運方面，太陽、水星、金星、火星齊聚財務宮位受到海王星與木星的影響，錢包要看緊，容易遺失貴重物品。信用卡會出現一些麻煩，必須重新辦理證件，在短期間內無法使用線上支付的系統，買東西十分不便。人際關係方面，在人際關係宮位的木星受到財務宮位的太陽、水星、金星、火星影響，當心與人發生財務糾紛，有些代墊的款項收不回來。某些水瓶座處理資產相關問題會與週遭的人發生不愉快，甚至因此與親朋好友撕破臉。整體運勢：旅遊運佳，在旅遊宮位的天王星與太陽、水星、金星、火星有良好連結，隨性決定了一趟旅程，會在旅途中結識合得來的旅伴，帶你遊覽新奇的景點。某些雙魚座與會與喜歡的人一起旅行，關係會因此更進一步。感情運方面，太陽、水星、金星、火星齊聚感情宮位，會是情感關係能否守得雲開見月明的關鍵期，某些雙魚座會在此時脫單。然而受到家宅宮位的木星影響，家人會過度關注你的情感狀況，令你感到困擾。本週須注意的部分：工作運方面，在志業宮位的木星受到夥伴宮位的太陽、水星、金星、火星影響，與合作的夥伴意見不合，需要妥協一些堅持，由於這些人不太受控，會成為拖累整個團隊的豬隊友，把事情搞砸，你還要負責收拾爛攤子。健康運方面，在命宮的海王星受到志業宮位的木星以及夥伴宮位的太陽、水星、金星、火星影響，工作有過勞的傾向，容易被伴侶或是朋友拖累，每天付出一堆心力幫助別人，自己卻有抑鬱的傾向。 ＊本篇文章為授權報導專欄，未經同意禁止轉載。【更多精采內容，詳見殺破狼占星手記Blog】 '}\n",
      "{'title': '反送中暴力車廂最少6人傷重 救護等30分鐘才能入站', 'url': 'https://udn.com/news/story/120538/4022073', 'class': '兩岸', 'date': '09-01 09:21', 'description': '警方拘捕許多人。香港01記者余俊亮／攝影 分享   facebook     8.31網民自發遊行演變成多區衝突，晚上於港鐵太子站列車發生恐怖車廂事件，有市民疑與示威者發生爭執及打架，大批速龍小隊成員及防暴警員突然衝入月台及車廂，向車廂內的手持雨傘的示威者揮舞警棍及噴胡椒噴劑，多人被制服拘捕，有人受傷頭破血流。事件中多名傷者被送院救治，有人頭部包紥，上衣仍染有血漬，有傷者需躺上擔架床。現場消息指，晚上近11時，太子站內有多名反對示威者的男子與示威者糾纏，其間男子疑曾展示鎅刀及用雨傘與示威者打架，有示威者手臂受傷流血，男子疑報警求助。其後，車廂內冒出無味白煙，懷疑有人噴射滅火筒。列車其後停下，車廂內乘客下車，而站內亦有廣播指因緊急事故需要關閉太子站。大批速龍小隊人員其間衝入太子站直闖車廂，向示威者揮舞警棍及使用胡椒噴劑。有戴口罩的白衣人士被噴胡椒噴劑，舉起雙手求饒，其後與身邊人相擁痛哭，有示威者架起傘陣抵抗。現場消息指其間列車無法離開月台，在場有其他市民高呼「黑社會」等字眼批評警方行動。在場警員拘捕多人，並將他們按地制服。有被捕人士頭破血流，亦有多人受傷。多人被捕後列車才離開，向油麻地方向駛去，其間不停旺角站，當列車駛抵油麻地後，再有為數約30名的防暴警員經由車站出入口進入大堂，並拘捕至少兩人。現場所見涉案列車的車廂一片凌亂，第三卡列車有大量雜物，包括染血紗布、尿片等。警員其後要求急救員和記者離開太子站B1出口，其後鎖上閘門。由於車內多人受傷，最少7輛消防車被派到現場，救護員於太子站出口以三色墊作分流，於站外等候最少30分鐘，警察才開閘容許救護員入內，但至晚上1時許，太子站內仍未有傷者於站內被救出。消防處於晚上11時05分接報太子站有多人受傷，初步指有10名傷者，據傷勢分類6人為紅色（傷勢嚴重）、2人黃色（傷勢不重）及2人綠色（輕傷）。現場消息指，傷者由港鐵先送往荔枝角站，再由白車送院，其中三名傷者被送往廣華醫院，三人均頭部需包紥，其中一人躺上擔架床，兩人坐上輪椅送院，一名男子衣領染有血漬。警方疑因有人報警到場調查，其間衝入車廂向示威者揮警棍。香港01記者余俊亮／攝影 分享   facebook     傷者被送往醫院。香港01記者黃桂桂／攝影 分享   facebook     傷者被送往醫院。香港01記者黃桂桂／攝影 分享   facebook     延伸閱讀：【831遊行】太子站外現紅黃綠「分流墊」\\u3000救護員：有大量傷者【8.31遊行】港鐵太子暴力車廂\\u3000速龍揮棍出椒\\u3000口罩人舉手文章授權轉載自《香港01》'}\n",
      "{'title': '影／他經商有成想挑戰第50座台灣百岳 喪命素密達斷崖', 'url': 'https://udn.com/news/story/7320/4022771', 'class': '社會', 'date': '09-01 18:22', 'description': '到大陸經商有成的62歲陳姓男子，回台後喜歡爬山，上月28日跟著登山隊伍攀登雪霸國家公園聖稜線，要挑戰自己的第50座台灣百岳，經過素密達山斷崖時不慎摔落200公尺深山谷死亡，遺體今天由直升機吊掛下山；他墜谷地點去年11月也有一名山友被落石擊中頭部死亡。台中市消防局和苗栗縣消防局、雪霸國家公園管理處和保七總隊共出動15人搜救，2名消防隊員救援過程因山路濕滑跌倒受傷，雙腳抽筋右腳扭傷；陳男遺體今由國軍直升機載到台中東勢河濱公園，其妻和2子女與殯葬人員在場等候，接回遺體，現場辦招魂儀式，其妻傷心說，丈夫長年在大陸經商，現在返台，喜歡爬山，他這次登山前很高興向家人說，這趟登山行程有多座台灣百岳，他要挑戰自己的第50座百岳。台中市消防局表示，陳男同行的12人登山隊伍要以5天時間完成雪霸國家公園內的聖稜線，其中會經過加利山、伊澤山、小霸尖山、大霸尖山、雪山北峰、雪山主峰和雪山東峰等7座台灣百岳，上月28日從大霸登山口入山，預計今天從雪山登山口下山，62歲陳姓男子要挑戰人生第50座台灣百岳，喪命素密達山斷崖。圖／台中市消防局提供 分享   facebook     '}\n",
      "{'title': 'MLB／王維中被老東家海盜簽下 重返40人名單', 'url': 'https://udn.com/news/story/6999/4022034', 'class': '運動', 'date': '09-01 07:36', 'description': '王維中遭運動家指定讓渡，有利於接受12強賽中華隊徵召。 路透 分享   facebook     旅美左投王維中8月30日才遭運動家放入指定讓渡名單（DFA），今天海盜隊就宣布將他簽下，回到六年前的老東家，預計9月4日與球隊會合，海盜隊將他放在3A出發。海盜隊今天將外野手波蘭柯（Gregory Polanco）從10天傷兵轉為60天傷兵，因此有空間將王維中放入40人名單，目前除了王維中外，還有布洛特（Steven Brault）、李瑞安諾（Francisco Liriano）、瓦茲奎茲（Felipe Vazquez）三名左投。海盜隊簽下在運動家指定讓渡名單的王維中，王維中睽違六年重返老東家。圖／取自海盜隊官網 分享   facebook     回到生涯起點，王維中也在個人Instagram的限時動態中放上「海賊王」的圖片，開心回到「海賊軍團」，並寫下：「好久沒回到船上了！出發新世界吧！」王維中去年在韓職投出成績，今年成功重返美職，加入運動家擔任牛棚投手，出賽20場拿下1勝0敗，防禦率3.33，27局送出16次三振、11次四壞保送，在3A的成績則是1勝1敗、防禦率4.78，26.1局，24次三振、8次四壞。上半季王維中表現亮眼，13場出賽防禦率僅1.50，不過明星賽後7場出賽，防禦率飆到7.00，加上運動家補進迪克曼（Jake Diekman）、從小聯盟拉上新秀帕克（A.J. Puk），左投戰力充足，因此被下放3A。運動家日前為了新秀內野手紐斯（Sheldon Neuse），將王維中指定讓渡，清出40人名單空間，前東家海盜決定將他簽下，王維中在2011年被海盜隊簽下，職棒生涯從美職出發，但沒在海盜隊待太久，2013年還在新人聯盟時，就因規則五選秀被釀酒人挑中。海盜隊簽下在運動家指定讓渡名單的王維中，王維中睽違六年重返老東家。圖／取自海盜隊官網 分享   facebook     '}\n",
      "{'title': '午後對流發展旺盛 12縣市大雨特報', 'url': 'https://udn.com/news/story/7266/4022550', 'class': '生活', 'date': '09-01 15:31', 'description': '中央氣象局今天下午針對12縣市發布大雨特報。聯合報系資料照片 分享   facebook     受到熱帶性低氣壓外圍雲系及午後對流發展旺盛影響，中央氣象局今天下午針對12縣市發布大雨特報，提醒民眾注意瞬間大雨。中央氣象局下午2時40分發出大雨特報，受到熱帶性低氣壓外圍雲系影響，易有短時強降雨，台東地區（含蘭嶼、綠島）及恆春半島有局部大雨發生的機率。午後對流發展旺盛，桃園以南至高雄山區及彰化、雲林、南投地區有局部大雨發生，注意雷擊及強陣風。大雨特報地區為桃園市、新竹縣、苗栗縣、台中市、彰化縣、南投縣、雲林縣、嘉義縣、台南市、高雄市、屏東縣及台東縣。'}\n",
      "{'title': '吳敦義派人密會郭台銘提「換瑜」？國民黨駁斥', 'url': 'https://udn.com/news/story/12702/4022864', 'class': '要聞', 'date': '09-01 20:05', 'description': '外傳國民黨主席吳敦義請人向鴻海創辦人郭台銘（左）表達，希望郭台銘當「備胎」。對此，國民黨今發表聲明駁斥該消息。 圖／聯合報系資料照片 分享   facebook     郭柯王結盟甚囂塵上，外傳國民黨主席吳敦義請人向鴻海創辦人郭台銘表達，國民黨總統參選人韓國瑜恐選不下去，希望郭台銘當「備胎」。對此，國民黨今發表聲明駁斥該消息，重申韓國瑜乃唯一代表國民黨參選的總統候選人，必定竭盡全黨之力全力輔選，打贏2020總統大選。上報報導指出，除了國民黨副主席郝龍斌在8月15日與郭台銘見面外，同一天吳敦義也另派陸委會前主委張顯耀私下拜會郭台銘，指出韓國瑜最後可能選不下去，希望郭台銘當國民黨的「備胎人選」。對此，郭台銘辦公室回應，目前對媒體報導所稱的相關內容一無所悉，並重申郭台銘對「換瑜」絕無想法。國民黨則表示，該篇報導內容純屬子虛烏有，先前大陸事務部主任周繼祥與張顯耀北京行，肇因於陸方自由行禁令與可能限縮團客，考量觀光旅遊業8大團體陸續前來陳情，吳敦義期望國民黨出面協調溝通，因此指派周、張二人赴北京，與國台辦進行相關事務協調。至於「吳郭會」之會面事宜，國民黨表示，是由副主席郝龍斌負責安排。國民黨重申，此次經公平、公正、公開的黨內總統初選程序，韓國瑜乃唯一代表國民黨參選的總統候選人，必定竭盡全黨之力全力輔選，打贏2020總統大選，重返執政、撥亂反正。'}\n",
      "{'title': '反送中示威持續：9月1日堵塞香港機場 航班將減少', 'url': 'https://udn.com/news/story/120538/4022152', 'class': '兩岸', 'date': '09-01 10:39', 'description': '有網友發起9月1日「和你飛 2.0」堵塞往機場交通，下午1時，駕車或乘搭公共交通，前往機場巴士總站集合。照片／香港01 分享   facebook     香港修訂「逃犯條例」爭議引發多次機場集會，有網友發起9月1日「和你飛 2.0」堵塞往機場交通，下午1時，駕車或乘搭公共交通，前往機場巴士總站集合，又呼籲乘車市民用「散銀徵費」及「數清數楚」，活動可能延續至翌日。明報指出，香港機管局回應，任何煽動他人堵塞往來機場交通的行為，或已違法庭禁制令，籲切勿以身試法，同時又呼籲旅客盡量預留充足時間前往機場。有消息指，機管局計畫屆時減少航班升降，必要時讓機場鐵路停駛。機管局不評論。消息表示，機管局前天與航空公司等開會商討應急措施，並決定有需要時減少當日航班升降，但不會取消航班，必要時更會安排機場快線停駛。香港機場地勤服務職工會主席李永富表示，收到機管局通知，當局將於今在港鐵東涌站安排接駁巴士，接載機場員工上下班，但機管局未交代相關安排原因。繼「824 機場和你塞」後，網民今發起在機場舉行「和你飛 2.0」集會，促請香港特區政府回應反送中五大訴求：撤回《逃犯條例》的修訂、無條件釋放被拘捕的示威者、成立獨立委員會調查警民衝突、取消以「暴動」定性6月12日的警民衝突，以及盡快普選立法會和行政長官（即「雙普選」）。並聲稱行動為「無限期」，為「和平理性，不衝禁區」。近日有旅客稱，攜帶貼有標語的行李過關被截，撕去標語才獲放行。他稱當時沒有呼口號，質疑香港言論自由進一步收窄。'}\n",
      "{'title': '韓國瑜對郭台銘喊話：國民黨只有二人拿到榮譽黨員證', 'url': 'https://udn.com/news/story/12702/4022227', 'class': '要聞', 'date': '09-01 11:32', 'description': '鴻海創辦人郭台銘即將宣布參選，國民黨總統參選人韓國瑜今出席參拜鹿港天后宮受訪表示，當然希望黨內能盡速整合，他對郭台銘喊話說，「我們還是一個大家庭，希望郭台銘與我一起並肩作戰。」今天韓國瑜彰化首站來到鹿港天后宮，現場擠滿上百名支持者，韓國瑜光進出就花了將近半小時，中間更不斷推擠到媒體一度無法採訪。被問到郭台銘將要獨立參選，韓國瑜原說現在不談這個問題。但媒體追問是否希望黨內儘速整合？韓國瑜說，當然希望，我們還是一個大家庭，希望郭台銘與他一起並肩作戰。現在傳除郭台銘副手將找新北市前市長侯友宜的二哥侯明鋒當副手，媒體詢問是要製造矛盾？韓國瑜說，國民黨內幾乎沒有人拿過榮譽黨員證，除了行政院前院長孫運璿之外，郭台銘既然拿到國民黨榮譽黨員，相信國民黨是大家庭，歡迎郭台銘繼續在團結陣容裡一起拚2020，讓台灣安全人民有錢。此外，昨天網路上傳出韓國瑜跳樓自殺消息，對此韓國瑜表示，2019年台灣最熱鬧、興旺、賺錢的產業不是電子業也不是服務業和農漁業，應該是「黑韓產業鍊」，昨天有人說他自殺，但他今天一尾活龍來到彰化鹿港，他呼籲黑韓產業適可而止，否則會激起全台民眾公憤、眾怒，「黑韓黑到這樣就沒有意思了。」韓國瑜表示，他今天來到台灣開台最古老的天后宮拜媽祖，他一直抱著虔誠的心拜公廟，全台人民都希望風調雨順，一切都很美好，希望政治上的紛紛擾擾，亂七八糟的現象可以適可而止，也希望台灣人民珍惜得來不易的民主自由，不要再造謠抹黑。國民黨總統參選人韓國瑜。記者劉宛琳/攝影 分享   facebook     '}\n",
      "{'title': '超誇張！這重量孩子站上幾米人偶拍照 網友罵恐龍家長', 'url': 'https://udn.com/news/story/7328/4022203', 'class': '地方', 'date': '09-01 11:17', 'description': '宜蘭幾米主題廣場被人發現，有個爸爸扶著大約90公斤重的男孩站上幾米人偶拍照，不管旁人異樣眼光，還拍不只一次。誇張行徑被其他遊客拍下貼臉書社群，掀起網民爆罵缺乏公德心、沒水準、家長的教育在哪裡？位於宜蘭市火車站附近的幾米主題廣場是座免費開放式公園，昨天下午1點多，一位桃園來的陳姓遊客親眼目睹有個爸爸扶著大約90公斤重的十幾歲孩子，讓孩子站上「向左走、向右走」幾米繪本的男偶身上拍照，雙腳踩在男偶的行李箱，還兩度讓孩子站上去，每次3到5分鐘，看了擔心行李箱會不會斷掉？無視周邊遊客投以異樣眼光，陳男在旁邊拍下誇張畫面，事後PO在「爆廢公社」，底下一堆網友留言，人偶快壞了誰要負責、胖子不可恥可恥是腦裝屎、恐龍家長沒水準、可惡、缺乏公德心、家教在哪裡？這重量…為幾米人偶默哀…。陳男說，誇張行徑的遊客一群人，應該是家庭旅遊，聽他們講話的口音像廣東話，是外地來的觀光客。宜蘭縣政府工旅處表示，昨下午透過監視器發現孩子站上人偶，以廣播提醒制止，通常都是外地遊客才會出現這種行為，一旦屢勸不聽，會依照公園管理自治條例開罰1200元到6000元。據了解，幾米繪本「向左走、向右走」的人偶造形是肩背著行李箱，依照行李箱高度，很容易讓遊客攀爬上上去拍照，去年也有家長扶小孩站上去拍照遭批評，幾米團隊每年都要費心維護重新上漆。有遊客扶著大約90公斤重的孩子站在幾米主題廣場人偶拍照，恐損壞公物，誇張行徑遭網友爆罵。 圖/擷自爆廢公社 分享   facebook     有遊客扶著大約90公斤重的孩子站在幾米主題廣場人偶拍照，恐損壞公物，誇張行徑遭網友爆罵。 圖/陳姓男子提供 分享   facebook     有遊客扶著大約90公斤重的孩子站在幾米主題廣場人偶拍照，恐損壞公物，誇張行徑遭網友爆罵。 圖/陳姓男子提供 分享   facebook     '}\n",
      "{'title': '反送中／831衝突影響未了 港鐵多站報警列刑毀', 'url': 'https://udn.com/news/story/120538/4022306', 'class': '兩岸', 'date': '09-01 12:51', 'description': '831警民衝突。圖／香港01提供 分享   facebook     香港「反送中」示威者昨晚在多個地區堵路及破壞地下鐵路，影響至今未了，今早地鐵旺角站、太子站和九龍灣站仍然停運。反對修訂逃犯條例的支持者昨天不理會警方的禁制，參與網民在港島發起的遊行，大批人其後在金鐘圍攻政府總部，向防守警察投擲汽油彈等。深夜後，示威活動蔓延至銅鑼灣及九龍尖沙咀、太子和黃大仙等地，期間示威者破壞多個地鐵站，打破候車平台的玻璃門並把雜物扔進路軌，令多個地鐵站停運。昨晚在地鐵太子站內，一批穿黑衣的示威者與車廂內另一批人互相指罵，其後有人在車廂內噴射滅火器，有人報警求助。大批防暴警察其後在太子站內逮捕了40名「反送中」黑衣示威者。今早10時左右，地鐵沿線不斷廣播，旺角站、太子站和九龍灣站遭人惡意破壞，需時修復，列車暫時不停站。另外，醫院管理局公布，在昨晚的示威衝突中，有21人受傷送院，當中5人情況嚴重，10人穩定，2人未知情況，其餘已經出院。多站港鐵遭到破壞。圖／香港01提供 分享   facebook     港鐵遭到破壞。圖／香港01提供 分享   facebook     港鐵停運。圖／香港01提供 分享   facebook     Warning: Police Violence.This video was taken earlier today.You may have seen footage of Hong Kong protests being less peaceful this weekend.It’s because the people of Hong Kong are immensely angry at the police and their horrific brutality. pic.twitter.com/CRIW2Byz7V'}\n",
      "{'title': '9月風暴強襲…韓國瑜3路反攻', 'url': 'https://udn.com/news/story/12702/4021861', 'class': '要聞', 'date': '09-01 00:05', 'description': '國民黨總統參選人韓國瑜陣營將與黨中央分進合擊，全面轉守為攻，與朱立倫團隊的整合也將展開。 圖／聯合報系資料照片 分享   facebook     國民黨總統參選人韓國瑜面對民進黨、郭柯王及「黑韓、換瑜」夾擊，將「轉守為攻」，韓團隊將與黨中央分進合擊，分三路出擊，韓今將走訪彰化，接下來與新北市前市長朱立倫團隊的整合也將正式展開。鴻海前董事長郭台銘宣布參選總統已箭在弦上，面對因郭柯王結盟而來的「九月風暴」，韓國瑜陣營之前為展現整合誠意，一直被動接招，但「黑韓」動作並未因此停止，反而加大。在郭柯王進逼下，韓國瑜陣營決定全面轉守為攻，韓的南部競辦將鎖定民進黨及高雄市前市長陳菊，主打陳菊市府團隊的執政弊案，南部競辦結合高雄市議會黨團連日來追打氣爆案善款流向，只是第一波，接下來還有慶富案等，競辦已備好議題及資料，從現在到十一月，將發動一波接一波的揭弊攻勢。北部競辦議題小組則鎖定台北市長柯文哲；國民黨中央和立法院黨團則以蔡英文總統的施政，將全面強力監督，由行政院前院長張善政主導的國政顧問團，每周端出政見牛肉。黨內人士表示，韓接下來與新北市前市長朱立倫團隊的整合也將正式展開。為了二○二○勝選，韓國瑜一定要與黨主席吳敦義、朱立倫、張善政及藍營大老合作，團結所有能團結的力量，才能面對未來的變局。黨中央也將協助韓在廿二縣市籌組競選團隊。據了解，目前除了新北市長侯友宜，其餘十四個執政縣市首長都已允諾會出任競選主委職務；另外，各縣市基層小組長、區黨部常委及區黨部主委的動員，九月三日晚上將從高雄市啟動，韓國瑜將親自出席，象徵國民黨基層的組織戰也將展開。'}\n",
      "{'title': '彰化造勢 韓國瑜：中部為何沒有可以停波音747的大機場', 'url': 'https://udn.com/news/story/120536/4022397', 'class': '要聞', 'date': '09-01 13:29', 'description': '國民黨總統參選人韓國瑜今天到彰化縣鹿港天后宮、伸港福安宮等8廟宇造勢，藍營大動員，現場熱情民眾推擠場面混亂，韓國瑜表示，中部為何沒有國際機場？彰化和台中等縣市未來應團結合作，形成中部區塊帶動地方發展。韓國瑜今天上午在彰化縣長王惠美、彰化縣議會議長謝典霖、立委柯呈枋、立委林麗蟬、立委參選人蕭景田等人陪同參訪鹿港天后宮、伸港福安宮，現場民眾揮舞國旗，高喊凍蒜。韓國瑜說，彰化縣和雲林縣很像，農業、漁業等特點很像，出外人也很多，彰化和雲林未來可以合作，彰化未來也應和台中等縣市團結合作，形成中部區塊發展，他常說，中部為何沒有國際機場，中部為何沒有可以停波音七四七的大機場，為何沒有自由經濟貿易區？「人是英雄，錢是膽」，現在地方現在遇到財政很大壓力，所以在地立委很重要，要去中央搶資源，爭取地方福利，解決地方財政困難，所以未來要中央總統、與立委、縣長配合起來，才能造福地方。參訪完福安宮後，韓國瑜也臨時增加行程，到伸港第一公墓向追緝嫌犯而撞上分隔島殉職員警薛定岳上香，不過因家屬很低調，韓國瑜也表示不受訪。韓國瑜今天行程包括鹿港天后宮、伸港福安宮、花壇虎山巖、員林福寧宮、社頭清水岩寺、溪州后天宮、二林仁和宮、溪湖福安宮宮廟參訪行程約到晚間7點。國民黨總統參選人韓國瑜今天在彰化縣長王惠美等人陪同下到彰化縣伸港福安宮參拜，藍營大動員，現場熱情民眾推擠場面混亂。記者林宛諭／攝影 分享   facebook     國民黨總統參選人韓國瑜今天在彰化縣長王惠美等人陪同下到彰化縣伸港福安宮參拜。記者林宛諭／攝影 分享   facebook     國民黨總統參選人韓國瑜今天到彰化縣伸港福安宮參拜，並和立委柯呈枋等人高喊凍蒜。記者林宛諭／攝影 分享   facebook     '}\n",
      "{'title': '孕產婦高齡化 每月平均至少1死', 'url': 'https://udn.com/news/story/7266/4021906', 'class': '生活', 'date': '09-01 00:05', 'description': '台灣每月平均至少一位婦女因生產而死亡，衛福部將提高產婦與胎兒死亡救濟金。 圖／聯合報系資料照片 分享   facebook     過去民間說「生有雞酒香，生無四塊板。」反映女性臨盆如鬼門關前走一遭，但令人難以想像的是，到現在台灣每個月仍有至少一位準媽媽因懷孕生產而失去性命。二○一六年六月「生產事故救濟作業辦法」上路後，才一年半孕產婦死亡申請案件就達到廿二件。醫界表示，死亡原因除了無法預期的羊水栓塞，可能也與孕產婦高齡化有關。為此，衛福部近日預告「生產事故救濟作業辦法」修正案，將產婦、胎兒死亡救濟金由最高兩百萬元提升至四百萬元，最快十月公告實施；另外，也將推動「高危險妊娠轉診計畫」，鼓勵診所醫師協助高危險妊娠孕婦轉診至大醫院。醫療雖進步，生產對女性仍是生死關頭的考驗。衛福部統計，二○一七年孕產婦死亡率為十萬分之九點八，有十九名孕產婦死亡，等於每個月至少有一位準媽媽因懷孕生產而失去性命。婦產科醫學會秘書長黃閔照指出，國內孕產婦死亡率與新加坡、南韓接近，在全球位居中段班；至於死亡原因，除了無法預期的羊水栓塞，可能也與孕產婦高齡化有關。 分享   facebook     二○一六年六月「生產事故救濟作業辦法」上路，統計至二○一七年底，孕產婦死亡申請案件廿二件，其中一件判定死亡與生產無因果關係，其餘廿一件均給予救濟。按生產年齡分析，多數是卅六歲至四十歲以上、生第一胎的媽媽，死因以羊水栓塞者最多、其次是產前或產後大出血，也有肺栓塞等案例。黃閔照指出，國內自二○一五年起，配合世界衛生組織建議，將孕產婦死亡定義與範圍擴大到產後四十二天，近年生產大出血案例減少，但難以預防的羊水栓塞無法避免，救濟案死因也以羊水栓塞最多。台灣女性懷第一胎年齡平均卅二歲，台北長庚婦產科系主任洪泰和指出，女性逾位懷孕即為高齡產婦，生產死亡風險較年輕女性高二至三倍。另外，衛福部提供孕婦免費產檢十次，國健署婦幼組簡技陳麗娟指出，定期產檢才能及早發現異常，提供治療處置建議，建議至少應接受八次產檢，但二成孕婦未達標，黃閔照表示，孕婦如有高危險妊娠風險因子，就應考慮到大醫院生產，有較充足的急救設備應變。婦產科醫學會今年與醫策會推行「高危險妊娠轉診計畫書」，若診所主動將高危險妊娠孕婦轉診至大醫院，可取得高危險妊娠共同照顧費。'}\n",
      "{'title': 'U18世青賽／非贏西班牙不可 中華餵球投手降速', 'url': 'https://udn.com/news/story/12960/4022628', 'class': '運動', 'date': '09-01 20:25', 'description': '中華隊林昱珉先發出戰西班牙。記者葉姵妤／攝影 分享   facebook     【賽前報導】U18世青賽，中華隊今天在台灣時間晚間5點對上西班牙隊，是「非贏不可」的比賽，兩隊都要力拚第2勝。中華隊推出狀況最佳的左投林昱珉先發，打線僅微調，林瑞鈞被排為先發指定打擊，首度出賽。中華隊在預賽前兩戰先以4：1擊敗巴拿馬隊，昨天以1：8不敵美國隊；西班牙則是首戰差點贏日本隊，昨天對上巴拿馬隊以12：3大勝。兩隊戰績都是1勝1敗，今天的交手也成攸關晉級的關鍵一戰。此戰中華隊為全力搶勝，推左投林昱珉先發，搭配捕手羅暐捷，牛棚則有兩名速球男余謙、潘文輝待命，狀況好的投手都有機會上場。打線方面，第5棒林子豪回到先發三壘手位置，林瑞鈞則被排為指定打擊，總教練周宗志表示：「瑞鈞這兩天打擊練習的狀況都不錯。」中華隊林瑞鈞擔任先發指定打擊。記者葉姵妤／攝影 分享   facebook     西班牙久違的在U18世界盃亮相，前兩戰表現讓人有些意外，陣中不少球員都來自中南美洲，有一定實力。周宗志指出，已經看過西班牙對日本、巴拿馬之戰的影片，「整體看起來，他們攻優於守，打擊能力真的不錯，投手則是速度不快，以變化球為主。」為了適應西班牙的球速，中華隊今天賽前練習時，特地要餵球投手把球速放慢，讓打擊者適應。至於中華隊昨天首度在人工草皮球場出賽，守備還未完全適應，今天比賽現場陰天且出現些微雨勢，周宗志表示：「勢必會有影響，球的彈跳一定會更快，就看球員在比賽中有沒有辦法適應。」'}\n",
      "{'title': '日月潭泳渡1泳客溺水獲救 老馬「游慢了」沒破紀錄', 'url': 'https://udn.com/news/story/7325/4022214', 'class': '地方', 'date': '09-01 11:23', 'description': '第37屆日月潭國際萬人泳渡活動今天登場，今年吸引36國1772隊共23428人參加，創歷年新高，潭面浮滿人潮，畫面超壯觀；前總統馬英九第7次報名，副總統吳敦義因此在開幕時大讚「勇腳馬」，馬隨後以2小時10分成績完成橫渡。縣府指出，日月潭泳渡起點仍從朝霧碼頭下水出發，終點在伊達邵碼頭，而今年吸引台、陸泳客外，還有美、英、日、法、南非、加拿大等達1742名外國泳客參與，其中更有118位身障泳士參與挑戰長泳，更挑戰自我。有別於去年萬人泳渡因山竹颱風影響，水域浮台、水道纜線損毀而延遲2小時下水，今年氣候舒適且艷陽高照，第一批身障組泳士上午6時40分許就開游，一般組於7時許陸續下水，馬、吳則巡往例未泳渡施放魚苗且鳴槍宣告活動展開。馬今年更第7度參加泳渡，開幕時建議南投縣府這樣的好活動應該春、秋季各辦1次，且開玩笑要大家只能跟著他游，否則比他快以超速論處，比他慢則以妨害交通開罰；吳敦義則大讚馬是「勇腳馬」，並提到泳渡是民國72年從他任內始辦。而馬英九今年在隨扈陪同下，花了2小時10分才抵達伊達邵碼頭，沒能成功打破去年1小時39分的紀錄，還慢了31分鐘；對此，他幽默的說，因去年有山竹颱風，風大游得快，今年天氣好且泳客很多，泳道擁擠，被踢也踢人就游慢了。此外，今上午8時許有一名男泳客溺水，經了解，該名50歲王姓男子有心臟病史，疑因下水後嗆水因此感到身體不適，在離起點約100公尺處被消防人員救上岸，並送往埔里基督教醫院救治，經診確認有肺水腫而留院觀察，但性命無礙。日月潭國際萬人泳渡活動今登場，吸引36國共23428人參加，創歷年新高，潭面浮滿人潮，畫面壯觀。記者賴香珊／攝影 分享   facebook     日月潭國際萬人泳渡活動今登場，吸引36國共23428人參加，創歷年新高，潭面浮滿人潮，畫面壯觀。記者賴香珊／攝影 分享   facebook     日月潭國際萬人泳渡活動今登場，吸引36國共23428人參加，創歷年新高，潭面浮滿人潮，畫面壯觀。記者賴香珊／攝影 分享   facebook     前總統馬英九今年第7次泳渡日月潭，但花了2小時10分，沒能成功打破去年1小時39分的紀錄，還慢了31分鐘記者賴香珊／攝影 分享   facebook     '}\n",
      "{'title': '影／不願出席韓國瑜新北造勢？ 侯友宜：我很忙', 'url': 'https://udn.com/news/story/12702/4022892', 'class': '要聞', 'date': '09-01 20:38', 'description': '高雄市長韓國瑜將於新北市舉辦首場造勢大會，拒接競總主委的新北市長侯友宜今被問到時表示，目前還未接到通知，「我很忙，大家都很忙」，先全力把自己份內事情做好，才是最重要。韓國瑜利用假日走訪高雄以外的縣市，下鄉行程固樁意味濃，預定9月7日基隆、宜蘭，9月8日前往新北，輔選人士指出，由於新北幅員廣大，將於晚間舉辦造勢活動。由於侯友宜目前依舊婉拒擔任韓國瑜聯合競選總部主委一職，在重啟核四議題也有歧見，韓侯是否同台備受矚目。對此，侯友宜表示，目前為止還未接到通知，一切以市政為最大優先，現在距離選舉還有一段時間，先把自己的工作做好才是最重要。傳聞新北市前市長朱立倫及前台北縣長周錫瑋皆出席晚會，媒體問到若白天行程結束，是否抽空參加晚會，侯則說，這段時間大家都可以看得到，「我很忙，大家都很忙」，好好把自己份內的事情先做好。高雄市長韓國瑜將於新北市辦首場造勢大會，對此新北市長侯友宜（圖）表示，還未接到通知，目前先把份內事情做好最重要。記者胡瑞玲／攝影 分享   facebook     '}\n",
      "{'title': '香港機場快線全停 警方將驅離示威者', 'url': 'https://udn.com/news/story/120538/4022685', 'class': '兩岸', 'date': '09-01 17:01', 'description': '反送中活動今（1）日號召「和你飛 2.0」活動，堵塞香港機場交通，由於有人闖入機場快線近機場站的路軌範圍，恐影響列車服務，因此機場快線全線暫停服務。警方表示，大批示威者仍然逗留在機場一帶，視情況將採取驅散行動，警告示威者立即停止違法行為。香港經濟日報報導，大批示威者聚集於機場路一帶，有人用水馬設路障，以拖延警察推進。示威者們高叫「光復香港，時代革命」、「五大訴求，缺一不可」等中英語口號，及後示威者在機場聚集，警方加派人手應付。有示威者稱，今日主要是做機場壓力測試，沒有打算死守。在機場內，防暴警察的防線向巴士總站方向推進，15時50分左右，機場示威者陸續撤出，往東涌方向前行。港鐵稱，東涌線列車服務調整至15分鐘一班車。估逾200人由東涌站步行往機場，當中包括離港留學生、機師及空姐等。有示威者在赤鱲角南路附近迴旋處設路障，有乘搭計程車的國泰機師一度被阻，他表示，要一個半小時後到達機場；有示威者溝通後放行，向該機師致歉，惟也有乘的士的國泰地勤人員沒被放行。港鐵稍早表示，考慮車站情況，為安全起見，機場快線博覽館站關閉。警方表示，大批示威者聚集機場客運大樓巴士站一帶，正參與未經批准的集結，又衝擊水馬，以雷射光線射向機管局職員，用行李車和鐵欄堵路，向警員及機管局職員投擲雜物。信報財經報導，有部分示威者已兵分多路逃去，除一邊向富豪機場酒店逃跑，另有大批人士沿暢連路離開機場範圍，但亦有部分示威者停留在一號停車場附近觀察。香港反送中運動持續，大批示威者聚集於機場路一帶，警方加派人手應付。照片／信報財經網 分享   facebook     '}\n",
      "{'title': '每日星座運勢／水瓶出門有好運靈感 有利拓展人脈', 'url': 'https://udn.com/news/story/7268/4009023', 'class': '生活', 'date': '09-01 00:00', 'description': '圖／ingimage 分享   facebook     社交活動頻繁，吃喝玩樂的機會多。整體運：★★★☆☆單身者有機會在朋友聚會中結識極具個性、眼光獨到的異性朋友，激情碰撞，讓你感受到愛情的火熱。雖然請客花掉一筆不小的錢財，但你的消息靈通，能從朋友不經意的言語中受到啟發，從中挖掘到商機。愛情運：★★★★☆單身者容易成為眾人矚目的對象，但真想戀愛還得耐心觀察，太快投入一段感情會後悔！事業運：★★★☆☆同事間關係良好，有機會獲得助力，但也容易因為對方的疏忽而讓你的名聲受損。財運：★★★★☆財運不錯，小部份的資金方可投入短線、高風險的範圍。貴人星座：雙子座幸運數字：1吉時吉色：06:00-08:00珠貝白開運方位：正北方向自信滿滿，活力四射。整體運：★★★☆☆異性都願意主動親近你，對方不俗的談吐也易激發你想要更深入交往的心情，主動付出真情就會有回報。有機會為自己添置新的行頭，得體的服飾更顯你的成熟魅力。也可以為家人買些小禮物，表現你的愛心。愛情運：★★★★☆單身者有許多戀愛的機會，愛苗順利滋長，好好享受愛情的喜悅與甜蜜吧！事業運：★★★☆☆多與同事互動，能幫上忙的就伸出援助之手，幫他們一把，這有助於往後的合作喔！財運：★★★☆☆積極進取者得財順利，搖擺不定者則容易為財所困。貴人星座：牡羊座幸運數字：4吉時吉色：21:00-23:00蜜瓜黃開運方位：正東方向得來的勞動果實有拱手相讓的危險。整體運：★★★☆☆今天伴侶特別能容忍你，但你也不要得寸進尺哦！小心因此埋下禍根還無從察覺；內心會有些苦悶，賺錢容易守財難，錢包還沒抓緊就縮水了不少；今天是你養精蓄銳的好時候，痛痛快快地玩就好。愛情運：★★★★☆單身者容易找到真心相愛的對象，好好珍惜，別錯過姻緣；已婚者能彼此感受甜蜜。事業運：★★★☆☆多留意他人的意見，你的思維將會得到更好的補充，很多事情的發展也會越來越好。財運：★★☆☆☆有投機不服輸的心態，越想翻本又不認賠，恐會使破洞越補越大！ 貴人星座：摩羯座幸運數字：3吉時吉色：10:00-12:00脆梅青開運方位：正北方向無懼無畏地生活，記住你就是生活的強者。整體運：★★★☆☆今天你顯得很膽小，讓朋友對你頗為失望，無懼無畏才會有收穫；今天財運一般，購置不動產會讓你的財產升值空間更大；單身者今天可出去活動放鬆，會與好桃花不期而遇。愛情運：★★★★☆有機會遇到讓你心動的對象，別太拘謹，大膽地靠近對方，讓對方認識你，慢慢瞭解你吧。事業運：★★★☆☆事情有停滯不前的狀況，別一昧地埋頭苦幹，多想想問題出在什麼地方，對症下藥。財運：★★☆☆☆消費上盡量的控制，非必要性商品就少買點囉。貴人星座：牡羊座幸運數字：8吉時吉色：14:00-15:00遠洋藍開運方位：正南方向愛美之心人皆有之。整體運：★★★★★財富的形勢大好，對投資信息的提前掌握能讓你搶佔先機，獲取的收益豐厚；戀愛中的人對於比戀人更有魅力的異性，會產生一些嚮往，但卻不會因此而變心；有時間陪家人去散散步吧，你會體會到安詳和安心。愛情運：★★★★☆單身者有機會接觸心儀已久的異性，大膽表達愛意，就能獲得夢寐以求的愛情喔！事業運：★★★★☆有機會在聚會中認識新朋友，讓你交友圈和眼界都更加開闊。財運：★★★★★福星高照的一天，中獎、得禮金、分紅的機會略勝他人一籌。幸運的你很讓人眼紅喔！貴人星座：巨蟹座幸運數字：0吉時吉色：19:00-21:00夕陽橙開運方位：正北方向成由節儉，敗由奢。整體運：★★★☆☆曖昧不明的關係終於在今天明朗，但是雙方的性格不是很合適，因而喜悅之中暗藏陰影；今天加班，像跑馬拉松一樣疲倦，不如回家好好休息；金錢運一般，雖然獎金頗為豐厚，但是不可太奢侈無度地生活哦。愛情運：★★★★☆與另一半的相處甜蜜，兩人的感情有了進一步發展；單身者有機會尋到合適的對象。事業運：★★★☆☆做事很有效率，容易找到有效而快捷的辦事方法，別忘了與大家一起分享喔！財運：★★★☆☆喜歡玩金錢遊戲的冒險一族變得有點猶豫，小心損失慘重。貴人星座：摩羯座幸運數字：7吉時吉色：14:00-15:00杜鵑粉開運方位：正東方向今天運勢旺盛，各方面表現都很不錯。整體運：★★★★☆桃花旺盛，有心儀的對象就趕快行動，膽大心細、臉皮厚是成功的關鍵。收益有明顯的增長，來自多方面的盈利讓人羨慕不已。精神緊張時喝杯咖啡，可以舒緩神經。愛情運：★★★★★今日機緣一級棒！戀愛中人快約心上人去郊外踏青賞月吧！單身者安排短程旅行，就有機會與情人邂逅喔！事業運：★★★☆☆多與人交往，交流想法，彼此瞭解，彼此互動，這樣對你會很有利。財運：★★★★☆經濟壓力減小，賺錢渠道多。貴人星座：獅子座幸運數字：8吉時吉色：06:00-08:00桐花白開運方位：正北方向處處隱藏商機，多用心去發現。整體運：★★★★☆今天財運頗優，因善於觀察、積極求財而發現投資契機，進財機會多。女性朋友是你的貴人，多與女性朋友接觸可獲得更多的好消息。單身者在熱鬧的場合結識異性朋友的機會多，有機會展開一段多彩的戀情。愛情運：★★★☆☆單身者可享受獨處的快樂；戀愛中的人多關心對方，噓寒問暖一番，對方大為感動。事業運：★★★☆☆運勢普通，無需急於向前衝，只要按照先前的計劃按部進行，就能看到新的契機！財運：★★★★☆能正確對待錢財者，財源廣進；花錢不節省者，要勒緊褲帶。貴人星座：巨蟹座幸運數字：0吉時吉色：15:00-17:00燻鮭紅開運方位：西北方向辭舊迎新。整體運：★★★★☆全家人宜聚在一起吃頓飯，更不能忘了為健康、生活、運勢祈福；今天的偏財運還是不錯的，閒得無聊時可和家人朋友打打麻將，旺旺手氣；同居的情侶窩在家裡看看電視，也能在平淡中體會到與以往不一樣的家的味道。愛情運：★★★★☆適合約會，在彼此的溝通、交流中感情進展快速，戀愛中人不妨多安排相處的時間。事業運：★★★☆☆思慮周全、處事謹慎，不易犯錯誤，但行動力不足，卻容易讓你失去一些好機會。財運：★★★★☆偏財運雖不錯，但不可過分投機。貴人星座：射手座幸運數字：7吉時吉色：13:00-15:00翡翠綠開運方位：西南方向好好休息，確保充足睡眠。整體運：★★★★☆思考力不足，若過度用腦會讓你分不清方向，今天好好休息比較妥當。閒來無事可以收拾收拾房間，乾淨、舒適的環境可為你帶來好心情。下午有機會與異性朋友喝下午茶或是閒聊、逛公園等，感覺愜意。愛情運：★★★★☆已婚者能獲得另一半的支持與鼓勵，內心有著滿滿的幸福感；單身者容易陷入多角戀。事業運：★★★☆☆悠閒愜意的一天，有機會與朋友相聚，在喝茶、享受美食中獲得滿足感。財運：★★★★☆財運好到讓人羨慕眼紅，適合投資理財的好日子，股票族有機會撈一筆哦！千萬別錯過今日的大好財運喔！貴人星座：處女座幸運數字：4吉時吉色：13:00-15:00秋葵綠開運方位：正南方向身心舒暢，有利拓展人脈。整體運：★★★★★出門會有好運，窩在家裡會錯過許多機會。今天多參加集體活動可交到許多朋友，而且身心放鬆後會讓你看到更多美好的事物，啟發靈感。異性緣佳，有戀愛機會，還能賺取不少異性財。愛情運：★★★★☆單身者有不少發展戀情的機會；戀愛中的人容易在戀人身上獲得驚喜，別忘了感恩。事業運：★★★★☆與夥伴合作默契十足，適合參加團體競賽、表演等，拿到好成績的機會大，獎金頗豐。財運：★★★★☆財運旺旺日，得財的方式包括中獎、分紅、收到禮物禮金等等。正財部分的收穫多寡則與先前的努力有關係。貴人星座：雙魚座幸運數字：2吉時吉色：08:00-09:00可可棕開運方位：東北方向渴望表現的一天。整體運：★★★☆☆今天特別希望受到重視，待人小心翼翼，但太過小心反而讓你變得緊張，影響正常水平的發揮。財運較弱，不應有比較心理，小心會花掉大筆的冤枉錢。感情方面，因願意與另一半分享心情，精神易獲得滿足。愛情運：★★☆☆☆愛情有些不順，對方一不小心說了你不愛聽的話，可千萬別惱怒，以免發生「戰爭」。事業運：★★★☆☆運勢不錯，工作和學業會出現新的可能，越有想法的人將越能擊中自己渴望的目標。財運：★★☆☆☆與人發生財務糾紛的可能性比較高，要小心。貴人星座：天蠍座幸運數字：5吉時吉色：18:00-20:00玉髓紅開運方位：東南方向【延伸閱讀】●上升星座看未來？星座命盤免費算●塔羅神占，你的戀情開花結果？【更多命理分析，請前往 科技紫微網 】'}\n",
      "{'title': '國民黨「9月風暴」來襲 整合面臨大挑戰', 'url': 'https://udn.com/news/story/12702/4021930', 'class': '要聞', 'date': '09-01 00:27', 'description': '國民黨主席吳敦義（左）昨天提到，總統選舉除了國、民兩黨提名人選外，如果出現原來是國民黨的黨員，「一方面是意外，一方面也實在令人不能夠不覺得煩惱」。 記者葉信菉／攝影 分享   facebook     時序進入九月，國民黨總統參選人韓國瑜選戰策略轉守為攻，但也更面臨詭譎的情勢變化及嚴峻挑戰，鴻海前董事長郭台銘宣布獨立參選總統箭在弦上，支持立法院前院長王金平參選的連署也已衝破廿八萬份，再加上台北市長柯文哲，「郭柯王」一旦正式結盟參選，將對國民黨大選整合及明年藍綠對決，掀起「九月風暴」。王金平昨天更進一步拋出結合兩大黨之外在野政黨的「民主大聯盟」，「九月風暴」衝擊會有多大，政壇高度關注。面對這一變局，國民黨主席吳敦義昨表示，總統選舉除了國民黨和民進黨提名的人選外，如果出現原來是國民黨的黨員，「一方面是意外，一方面也實在令人不能夠不覺得煩惱」，不管是脫黨、違紀或者單獨參選，都會觸犯黨的基本黨紀與黨規。媒體追問吳，郭、王是否為「壞分子」？吳敦義說，他不認為，希望他們繼續效忠國民黨、中華民國。王金平昨天指出，「現在外界認為，什麼柯啦、郭啦、王啦，好像都結盟了，稱此為第三勢力，但不是只有郭柯王」，凡是執政的民進黨和在野的國民黨兩大黨以外，絕大部分都可以容納進來，結合起來就是變成所謂的「中間的勢力」，這個第三勢力最主要是要捍衛中華民國，是「自由民主的一個大聯盟」。據了解，王金平拋出的「大聯盟」想法，是在郭台銘八月卅日返國前夕才有成熟且具體的腹案，而內容與郭獨立參選並不完全相斥，但後續能否進入實質討論，郭台銘的態度仍是最重要關鍵之一。根據這項腹案，第三勢力的重組，不只郭、柯、王，還有親民黨、新黨、國會政黨聯盟等兩大黨之外的在野政黨，這也讓外界之前一直關注的郭柯王三方結盟會談，有可能衍生成六方、甚至七方會談，但也將使第三勢力的整合更加複雜、詭譎，能否成局，挑戰更大。針對第三勢力的整合，王金平指出，「如果順利的話，第三勢力應該是滿大的」，「現在就是看看每個政黨的意願怎麼樣」。他還說，從選票結構分析，參與政黨的人數只占百分之四點五，這表示還有百分之九十五點五都是政黨以外的。郭台銘若九月宣布參選，郭柯王能否事前會談結盟，一直是焦點，但在王拋出「大聯盟」想法後，除了郭柯王會面，親民黨主席宋楚瑜和新黨主席郁慕明的動向也受關注；郭王是否與宋楚瑜會面，新黨是否也表態，都將影響「九月風暴」有多大。'}\n",
      "{'title': 'iPhone最安全？Google：早被惡意網站入侵多年', 'url': 'https://udn.com/news/story/11017/4022666', 'class': '數位', 'date': '09-01 17:00', 'description': 'Google資安研究員發現，不少惡意網站透過尚未公開的軟體漏洞悄悄入侵iPhone，有不知情受害者造訪這些惡意網站數千次，至少長達兩年。 歐新社資料照 分享   facebook     以為拿iPhone就不用擔心資安嗎？Google資安研究員發現，有不少惡意網站透過尚未公開的軟體漏洞悄悄入侵iPhone，目前已有不知情受害者造訪這些惡意網站數千次，時間至少長達兩年。根據TechCrunch報導，Google資安團隊Project Zero日前發佈一篇文章，指出駭客先入侵這些網站，之後當iPhone使用者造訪這些網站時，就會發送惡意軟體，甚至在手機裡植入監控程式。研究人員發現5個不同的漏洞利用鏈（exploit chain），從iOS 10到iOS 12版本都有，這些利用鏈涉及了12種不同的安全漏洞。其中，有7個安全漏洞與iPhone內建的網頁瀏覽器Safari有關。這5個攻擊鏈讓駭客擁有iPhone設備最高等級的「Root」權限，代表駭客可以在使用者不知情、甚至不同意的情況下，悄悄在手機裡安裝惡意程式，並監視使用者的手機行為。他們可以做什麼事呢？駭客可以竊取使用者手機裡的照片和訊息、跟蹤手機目前的即時定位資訊，甚至還能獲取使用者在手機上儲存的各個密碼。但果粉們也別擔心，Google資安團隊Project Zero早在2019年2月向蘋果報告此資安漏洞，蘋果也立刻緊急修復漏洞並發佈最新系統版本iOS 12.1.4，如果iPhone使用者有更新系統，就不需擔心資安問題。但需注意的是，當Project Zero告知蘋果安全漏洞問題時，僅給他們短短一週時間修復，代表這項資安漏洞十分嚴重，導致團隊不得不要求蘋果加快修復時程。而截至目前為止，蘋果發言人拒絕針對此事發表任何評論。《本文作者Heemie，原文刊登於合作媒體INSIDE，聯合新聞網獲授權轉載。》 圖／Shutterstock 分享   facebook     '}\n",
      "{'title': '朋友傳檔案害他被拒絕入境！美國連社群內容也不放過審查', 'url': 'https://udn.com/news/story/7086/4022857', 'class': '數位', 'date': '09-01 20:31', 'description': ' 情境示意圖。圖／Ingimage 分享   facebook     以後入境美國，是不是都要先把手機裡朋友傳來的「敏感」資訊刪光光？美國移民官開始要求入境美國的旅客必須為手機裡任何資料負責，就算不是自己儲存的檔案，而是親朋好友透過社群平台如Facebook、Twitter或WhatsApp傳送的訊息、照片或檔案，只要有下載到旅客手機裡，一旦被查出內容有疑慮，就可能被拒絕入境。根據科技媒體TechCrunch報導，17歲的 Ismail Ajjawi 剛成為美國哈佛大學新生，是住在黎巴嫩的巴勒斯坦人，日前在入境美國前被波士頓洛根國際機場（Boston Logan International Airport）時遭移民官搜查手機、電腦，並對其社群平台與其他朋友的互動內容提出質疑。後來，Ajjawi的簽證被取消，並被迫立即驅逐出境，導致他無法順利就學。Ajjawi認為，移民官是因為質疑他的信仰以及宗教相關活動，才會將他驅逐出境。評論認為，美國法律給予美國邊境移民官極大權力，無論是美國本地公民或是外國人，當他們入境美國時，都可能受到移民官的不合理搜查，甚至限制旅客的言論自由，移民官也能以任何原因拒絕旅客入境美國。然而，即便旅客自認受到不合理對待，也沒辦法獲得任何法律幫助。以平常日來算，美國海關及邊境保衛局（U.S. Customs and Border Protection；簡稱CBP）一天在海上邊境和陸地邊境經手約113萬名旅客，被拒絕入境的旅客約有 760 人。移民官拒絕旅客入境的理由千百種，有些是出於明確、合理因素，例如：旅客曾被刑事定罪，或需繳交的文件出差錯；但有時候，移民官拒絕旅客入境不一定會給出具體理由，在某些情況下，甚至連一個能上訴的理由都沒有。批評人士認為，CBP任意搜查旅客（包含美國公民）的私人手機，恐怕已經違憲。去年CBP 一共搜查 3 萬名旅客的隨身裝置，而川普上任後，更於今（2019）年6月要求申請美國簽證的外國旅客需繳交私人社群媒體帳號和相關檔案，估計有1,500萬申請人將受影響，使情況愈來愈嚴峻。而美國非營利人權組織美國筆會（PEN America）則發布聲明，表示此種與社群媒體「綁」在一起的移民政策將造成更大損害，搞得連入境旅客的朋友都可能得進行自我審查。而美國 - 阿拉伯反歧視委員會（American-Arab Anti-Discrimination Committee）則表示，由於美國政府對阿拉伯、穆斯林族群「差別待遇」，因此過去一年以來，阿拉伯、穆斯林學生在入境美國時，早就常常被移民官搜查私人手機等裝置，甚至已變成「新常態」。最常見情況，就是針對他們手機裡 WhatsApp 自動儲存的內容提出質疑。由於 WhatsApp 會將朋友傳送的訊息、照片、檔案自動下載到手機裡，因此之前就有一名持美國簽證、即將畢業的留學生，因為手機裡WhatsApp 自動儲存的檔案被移民官質疑，即便該名學生聲稱此為App自動下載、並非特意保留，且已經與傳送檔案的社群朋友無聯繫，仍然被美國移民官拒絕入境。不過，台灣旅客透過免簽赴美時申辦的「電子旅行授權許可（ESTA）」程序並不受影響。而截至目前為止，CBP 發言人並未針對此事做出任何回應。《本文作者Heemie，原文刊登於合作媒體INSIDE，聯合新聞網獲授權轉載。》'}\n",
      "{'title': '美售我F-16 C/D裸機1.217億美元 空軍：近3年最便宜', 'url': 'https://udn.com/news/story/10930/4022293', 'class': '要聞', 'date': '09-01 13:44', 'description': 'F-16 C/D BLK70裸機含兩個低阻力適型油箱。 圖／截自洛克希德馬丁官網 分享   facebook     美方出售66架F-16 C/D戰機要價80億美元，約2500億台幣。民進黨政府決定以特別預算支應，空軍派官員攜帶說帖，拜會立法院朝野黨團，爭取支持。空軍說，美國售我含適型油箱的F-16 C/D戰機單價1.217億美元，價格低於近三年來美方出售各國同型機價格。空軍司令部針對特別預算案，向立法院外交國防委員會召委蔡適應與王定宇等人簡報，行政院特別預算條例尚未送抵立法院，待完成行政程序後，國防部會有新一波遊說行動。國防部表示，採購戰機案必須依法定程序進行，國防部已完成說帖，上周由國防部長嚴德發率空軍司令等人拜會立法院，待本周特別條例由行政院院會通過送立法院後，將再由嚴德發率隊分別拜會各黨團。民進黨立委王定宇於臉書貼文披露F-16 C/D戰機價格比較表。圖／擷自王定宇臉書網頁 分享   facebook     王定宇曾在個人臉書公開採購F-16C/D戰機價格比較表，軍方指出，這個內容就是空軍說帖的一端。內容顯示，採購66架戰機，每架單價為1.217億美元。王定宇貼文表示，包括巴林、斯洛伐克、保加利亞、摩洛哥等國採購同型機，平均每架F-16的價格為1.49億美元，台灣取得價格1.217億美元，顯著低於市場價格。台灣曾投資F-16V研發，未來各國所有的軍售案或構改案，台灣將可分配獲利。王定宇說，有人會問台灣的戰略位置重要，美國為了自己的利益，所以可以便宜一點，但看看巴林，大家都知道巴林對美國在中東反恐的重要，他們採購單價也是1.49億美元。我方採購隨機彈藥，不在特別預算項目內，空軍表示，新購F-16 C/D戰機與現役F-16型戰機使用武器裝備共通，可將彈藥推陳使用，可避免同時屆壽期，以撙節預算，後續依敵情威脅，逐年檢討採購，以因應實需。'}\n",
      "{'title': '絕命連線！她被淹死前 報案電話接線生還在訓斥她', 'url': 'https://udn.com/news/story/6813/4022544', 'class': '全球', 'date': '09-01 15:14', 'description': '美國有線電視新聞網（CNN）報導，住在美國阿肯色州史密斯堡（Fort Smith）的47歲婦人黛博拉．史蒂文斯（Debra Stevens）8月24日清晨開著休旅車送報，路上突然淹水，她被困在車內，趕緊打911報案電話求救。當時為清晨4點38分，史蒂文斯向報案電話接線生苦苦哀求22分鐘，對方反應冷淡，不但說一些風涼話，還一再訓斥她，直到她被淹死。根據警方公布的電話錄音，史蒂文斯在電話中說：「我有緊急狀況，我出不去，我怕我會死，女士，你能幫幫我嗎？」她在電話中不停說水上漲得很快，她快要死了，並哭著問什麼時候才會有人來救她，她不會游泳，不知如何形容所在地點，她不想死。女接線生回答說：「你不會死，我不知道你為什麼被嚇成這樣，這麼激動於事無補，只會浪費你的氧氣，請冷靜一點。」史蒂文斯說，水已灌進她的車，她的新手機就要毀了。對方說：「你真的在乎你的新手機？你在那裡哭著求救，誰管你的手機？」史蒂文斯說，她沒看到路上有淹水，水突然漲上來，已來到她的胸部，她看到遠處有人在看她，可能在笑她。史蒂文斯又說她快吐了。對方說：「你在水裡，要吐就吐，沒關係。」史蒂文斯失控大哭，要對方與她一起禱告。對方說：「儘管禱告吧。」史蒂文斯說：「天父啊！請幫我從水裡出去。」她再度道歉，說她無意冒犯。對方說：「這次是教訓，下次不要把車開到水裡去。」史蒂文斯堅稱沒有看到淹水，她送報21年，從來沒有踫到這種事。對方說：「我不知道你為何沒看見，你必須開過去，水不會消失。」兩人通話15分鐘後，電話中聽到接線生去接另一通電話。警方表示，當天早上很多人報案說被水困住。電話中聽到接線生向一名消防員描述史蒂文斯被困的地點。她說：「我正在與她通話，她快瘋了。」通話第18分鐘，接線生問消防員能不能看到史蒂文斯。消防員說：「沒看到，她的地點有點混淆。」這時史蒂文斯失控大叫。接線生說：「黛比小姐，你必須閉嘴，你能按喇叭嗎？」史蒂文斯：「喇叭沒聲了。」這時水已高過車門，史蒂文斯大叫：「老天，我的車開始動了。」接線生要她不要掛電話，她還要接別的電話。史蒂文斯大叫，說她無法呼吸。接線生說：「你能呼吸，因為你正在對我大吼大叫。冷靜一點，我知道你害怕。」史蒂文斯沒有回答。接線生呼叫她：「黛比小姐？老天，聽起來她被水淹了。」電話在清晨5點結束。急救人員在58分鐘後找到史蒂文斯的車子，她已回天乏術。黛博拉．史蒂文斯8月24日清晨被洪水困在車內，趕緊打911報案電話求救。圖／取自YouTube 分享   facebook     '}\n",
      "{'title': '影／扯！草屯午後暴雨 水溝遭堵成湧泉淹住家車泡水', 'url': 'https://udn.com/news/story/7325/4022973', 'class': '地方', 'date': '09-01 21:14', 'description': '南投縣今天午後出現間歇性大雷雨，每次逢豪雨必淹的草屯鎮南埔地區果然又傳出淹水災情，因水深及膝不僅淹進周邊住家，就連停在家門前廣場的車也因水淹太高而泡水，但最令當地居民氣憤的是，淹水禍首疑為遭堵住猶如湧泉的排水溝。「大雨來，全里就『剉列等』。」住在南埔10多年的李姓居民說，每逢豪雨，家具、車輛全泡湯，傷荷包更因為清理住家耗費無數心力，上次520暴雨才淹得亂七八糟，今天午後豪大雨來得又快又急，淹水速度更快，所以又有住戶遭殃。而今天又以草屯鎮南埔里中正路254號超商附近，淹水狀況最嚴重，該地區因水淹及膝，水不僅從家門淹進家裡，甚至從廚房排水口湧水出來，還有住戶根本來不及移車，停在住家門埕是的2台車全泡水，民眾直指淹水元兇是家門前水溝。受害車主說，每次下雨這個水溝的水就會積起來，大多時候都是淹到輪胎邊，今天雨比較大，來不及開出去，水一下子就淹倒車裡面去了，現在想開也沒辦法；其親友也說，根本就是水溝堵塞，回堵下來，只要下強降雨就淹水。而疑因水溝堵塞，水不僅從馬路上的水溝淹出來，甚至從當地住家的排水孔溢出，受災住戶無奈又氣憤的說，只要這麼大的雨，那個水就從家裡排水口跑出來，當地民眾都盼公部門盡快改善淹水問題，別讓他們只要一下雨就膽顫心驚。南投縣草屯鎮南埔地區今午後暴雨又傳淹水災情，不僅淹進住家，車也泡水，居民直指水溝堵塞成湧泉害的。圖／讀者提供 分享   facebook     南投縣草屯鎮南埔地區今午後暴雨又傳淹水災情，不僅淹進住家，車也泡水，居民直指水溝堵塞成湧泉害的。圖／讀者提供 分享   facebook     南投縣草屯鎮南埔地區今午後暴雨又傳淹水災情，不僅淹進住家，車也泡水，居民直指水溝堵塞成湧泉害的。圖／讀者提供 分享   facebook     南投縣草屯鎮南埔地區今午後暴雨又傳淹水災情，不僅淹進住家，車也泡水，居民直指水溝堵塞成湧泉害的。圖／讀者提供 分享   facebook     '}\n",
      "{'title': '送蛇到消防局 徐國勇：一切合乎規定', 'url': 'https://udn.com/news/story/7314/4022627', 'class': '要聞', 'date': '09-01 16:13', 'description': '內政部長徐國勇。聯合報系資料照片／記者蔡容喬攝影 分享   facebook     內政部長徐國勇日前遭媒體爆料其夫人26日晚間抓到野生紅斑蛇，將蛇交給新店安康分隊時，值班隊員未收下。據了解，該名同仁恐因此被記小過。然而，根據消防署所整理「各地方政府捕蜂捉蛇分工進度」，新北市「捕蜂捉蛇」業務已全區由農政單位主政，並全天委託民間辦理，若民眾在新北市抓到蛇確實非屬當地消防局權責處理。有媒體日前爆料指出，徐國勇的妻子26日晚間8時許，將1尾小型紅斑蛇裝在塑膠罐裡，由徐國勇開車載她到新北市消防局第四大隊安康分隊，想請消防員代為處理轉交，不過值班的消防員表示，業務已回歸動保處，並要給對方動保處聯繫方式。據了解，徐妻聽完即返回車上詢問徐國勇，並請值班人員通知分隊幹部，幹部到場後表示，確實違反處理程序，並將蛇收下，通報勤務指揮中心及動保處做後續處置。據悉，值班消防員恐因此被記小過，而分隊幹部則可能被記兩申誡。雖然按照程序，值班人員應受理並請民眾填寫切結書，隨後接手動物並通知動保處，待動保處進行後續追蹤管理，但知情人士表示，現階段新北市相關業務已回歸農政單位管理，懷疑明明業務已經移轉，消防局是否還具備能力收容這些民眾帶來的動物。根據消防署日前整理的「各地方政府捕蜂捉蛇分工進度」，截至今年5月16日，已有19個直轄市、縣(市)由農政單位規劃委外辦理、1個市協調中，19個直轄市、縣(市)中有10個直轄市、縣，包括新北市、苗栗縣、彰化縣、雲林縣、臺中市、臺南市、南投縣、宜蘭縣、屏東縣及嘉義縣已完成委外招標程序。確定新北市捕蜂捉蛇業務已全區由農政單位主政，並全天全區委託民間辦理。對此，消防工作促進會也在昨天發出聲明表示，捕蜂捉蛇已正式回歸「行政院農業委員會」主責，在地方權責機關為動保處或農業處，然而各縣市因回歸能量、進度不一產生「夜間仍由消防協助」、「義消出勤仍須消防陪同」、「維持消防執行」等狀況，並質疑徐國勇此舉為不良示範，顯示連主政官員都有抓到蛇應送至消防單位的錯誤觀念，代表一般社會大眾更容易搞混，誤將蜂、蛇、各式小動物送至消防隊或警察局收容？消促會更質疑，消防局現行是否有能力收容民眾送來的各式小動物，並舉例，2016年4月新北市蘆洲分局成州派出所，曾發生過代收走失小狗結果狗自行掙脫，被飼主痛批警方失職，因而被記申誡處分的案例，後來台中市警局因此通令各派出所不得收容民眾交付的活體動物。消促會建議，各地業務已完成移轉的消防局是否應該比照辦理，以免增加消防人員的負擔。不過，徐國勇今天出席公開活動表示，雖然「捕蜂捉蛇」的工作在新北市已經交給動保處執行，但他知道消防隊還是要收，並解釋「如果碰到緊急狀況，像蜂可以慢慢來，蛇是不行的，所以緊急的時候他們（消防局）有時候會抓。」他並指出，新北市幅員遼擴，但動保處的點很少，所以抓到後不可能請人放在家裡，消防隊是要收的。他基於這兩點，才會請帶太太將蛇帶往消防分隊。徐表示，值班消防弟兄可能對規定不很清楚，因此拒收，但後來小隊長就收下了，他這樣做是合乎規定的。徐國勇也強調，他從頭到尾沒有下車，也沒有打任何一通電話給消防隊，更沒有打給消防局長，怎麼會說後來有懲處跟部長有關？'}\n",
      "{'title': '傳吳敦義盼郭台銘當備胎 國民黨：不可能換瑜', 'url': 'https://udn.com/news/story/12702/4022838', 'class': '要聞', 'date': '09-01 19:48', 'description': '左為郭台銘、右為韓國瑜。 圖／ 分享   facebook     傳國民黨主席吳敦義請人向鴻海創辦人郭台銘表達，國民黨總統參選人韓國瑜恐選不下去，希望郭台銘當「備胎」。國民黨今天表示，不可能「換瑜」；郭辦也指出，郭對「換瑜」絕無想法。就在郭台銘將在9月17日連署申請截止前說明是否獨立參選總統之際，有媒體報導指出，除國民黨副主席郝龍斌在8月15日與郭台銘見面外，當天吳敦義也另外派張顯耀私下拜會郭台銘，指韓國瑜最後可能選不下去，希望郭台銘當國民黨的「備胎人選」。國民黨文傳會代理主委程美華告訴中央社記者，媒體報導純屬子虛烏有之事，韓國瑜是經過國民黨總統初選選出的唯一總統參選人，吳敦義也再三宣示，要求國民黨全黨上下要盡全力輔選，讓韓國瑜在總統大選中獲勝，國民黨不可能換掉韓國瑜。郭台銘辦公室則表示，辦公室目前對媒體報導所稱的相關內容一無所悉，再次重申郭台銘對「換瑜」絕無想法。'}\n",
      "{'title': '星期透視／郭台銘參選攪了誰的局？', 'url': 'https://udn.com/news/story/7339/4021837', 'class': '評論', 'date': '09-01 00:48', 'description': '鴻海前董事長郭台銘（左）結束中東行程返台，提及國家經濟政策。 圖／聯合報系資料照片 分享   facebook     許多跡象顯示，二○二○年大選郭台銘應該不會缺席。綠營對此暗自雀躍，認為郭參選將會瓜分藍營選票；藍營則憂憤捶心，怨郭不識大體。郭與國民黨淵源本不深，若非黨自作多情，郭當初連參加初選資格都沒有，如今有意自立門戶，天要下雨娘要嫁人，就由他吧。中華民國並不是國民黨的專利，戴國旗帽的當然也不會只瓜分國民黨的票；至少就最近民調來看，國民黨實在不必太悲觀。媒體民調顯示，在蔡韓對決的格局下，蔡將以四十七％領先韓的四十二％。若郭加入戰局並得到柯王力挺，則三分天下局面變成卅三：卅一：廿九，蔡雖還是領先，但幅度縮小到誤差範圍內；郭參選顯然拿走蔡的選票較多。從交叉分析觀察，郭參選也不見得一面倒不利國民黨。郭參選將有十七％民進黨認同者、十九％國民黨認同者，會轉向支持郭，表面上對國民黨些微不利，但如果計入有卅四％的時力黨認同者與八十一％民眾黨認同者也會倒向郭，則郭參選對國民黨的傷害並不如想像中大；因為在只有蔡韓對決情況下，時力認同者有九十四％，民眾黨有六十一％會支持蔡。以上還是郭未正式宣布參選的數字，郭的選舉機器一旦啟動，藍綠板塊恐將受到不小衝擊。眾人皆知，郭缺乏基層組織但手上又饒富資源，故而選戰開打後應會以文宣為主攻，內容則集中郭擅長的產業財金議題。而這兩個方向，勢必重重踩到民進黨痛腳。目前廿九歲以下選民多數傾向支持民進黨，上述民調有六十九％支持蔡，僅廿三％支持韓。這個族群不乏政治新鮮人，政黨認同度低，網路資訊敏感度又高，十分容易受到文宣影響。一旦郭展開舖天蓋地文宣攻勢，蔡英文能否守住這個區塊將充滿變數。尤其，郭擅長的產業財金政策，將讓當家的民進黨尷尬以對。相對的，文宣戰對韓的困擾較少，韓粉死忠早就有目共睹；且支持者以五十歲以上族群為基礎，並不容易受到文宣左右。韓以「庶民」，郭以「首富」，運用得宜將對蔡陣營產生分進合擊的效果。國民黨當然擔心，郭坐大後是否可能威脅到韓當選機會。但郭的基本支持者乃以「知識選民」與「經濟選民」為主，這兩個族群共通性為理性思考的能力。重視理性算計，使這兩個族群難以接受意識形態治國，也容易在投票日選擇棄保。故而，除非韓的支持度在選前被郭超越，否則郭的支持者應該還是會棄郭保韓，因為另一位候選人的意識形態治國，已經領教了四年。經濟選民的代表區塊，主要在大台北、卅—四十九歲選民、大專以上學歷者。但就算有柯相挺，郭在大台北支持度還是低於韓；至於卅—四十九歲選民與大專以上學歷者，或因郭願賭不服輸，支持度也顯得有些鬆動。尤其讓郭失望的，兩周來與王金平頻頻互動，民調上似乎看不出任何效果；未來如果無法透過文宣扭轉，四個月後郭若還是居於老三地位，棄保便將難以遏止。選舉的有趣，便在詭譎多變，但就目前態勢觀察，郭參選應不會對國民黨形成根本性傷害。但國民黨或民進黨能否應變得宜，則非觀察者所能預見。'}\n",
      "{'title': 'MLB／本季最佳一役 陳偉殷中繼四局無失分', 'url': 'https://udn.com/news/story/6999/4022112', 'class': '運動', 'date': '09-01 10:14', 'description': '陳偉殷後援投出本季最佳表現，四局僅被敲出一安、無失分。 美聯社 分享   facebook     馬林魚旅美左投陳偉殷今天中繼登板，投出本季最佳表現，四局僅被敲出一安、無失分，防禦率擺脫7字頭，下降到6.89，球隊仍以0：7敗給國民，吞下客場14連敗。馬林魚先發投手洛培茲（Pablo Lopez）三局失六分，早早被打退場，陳偉殷從第四局開始接手，雖然一上場就被羅伯斯（Victor Robles）敲出二壘安打，卻也是今天唯一一安。在史特拉斯堡（Stephen Strasburg）犧牲推進將羅伯斯送上三壘後，陳偉殷用兩個滾地球出局守下失分危機，而且一路連續解決12人次，未再讓人上壘，並讓本季20轟的亞當斯（Matt Adams）以及投手史特拉斯堡吞下三振。陳偉殷在七局下投完退場，不僅投出四局的本季最長局數，總計僅用45球，30顆好球，用球數在個人本季是第六多，球速在90到92哩之間，三振掉亞當斯的一球來到最快的92.5哩，連兩場無失分，也讓殷仔防禦率在8月14日後再度回到6字頭。不過馬林魚對上史特拉斯堡就是沒轍，史特拉斯堡今天先發八局僅被敲出兩安，無失分，送出14次三振，不僅拿下本季第16勝，上一次對馬林魚吞下敗投已是2015年，目前對戰12連勝。國民瑞登（Anthony Rendon）單場雙響砲，第一局與索托（Juan Soto）攜手敲出「背靠背」全壘打，八局陳偉殷退場後再補上一轟，瑞登與索托在第一局的全壘打也是兩人本季第30轟，也是隊史2009年後，再度有兩名球員單季30轟。'}\n",
      "{'title': '世籃賽／大陸勝利等9年 郭艾倫：有點久', 'url': 'https://udn.com/news/story/7003/4022070', 'class': '運動', 'date': '09-01 09:04', 'description': '大陸男籃相隔9年終於在世界級大賽嘗到勝利滋味，主控郭艾倫表示等太久了。 美聯社 分享   facebook     世界盃男籃賽昨天在大陸點燃戰火，地主靠著易建聯、郭艾倫裡外連線，以70：55擊敗象牙海岸隊，相隔9年終於在世界級大賽嘗到勝利滋味，也讓拚到抽筋的郭艾倫有感而發說：「我們等這場勝利等的有點久。」大陸隊上度在世界級大賽奪勝，已要回溯到2010年8月，比賽是世界盃改制的前身世錦賽，當時以83：73奪勝，對手正好是和昨天相同的象牙海岸隊；這場勝利後，連同奧運在內，大陸隊在世界大賽吞下14連敗，超過3千天不知勝利滋味。首戰攻下19分的易建聯表示，賽前球隊做足準備，但到了賽場還是出現許多漏洞，「上半場我們比較緊張，可能沒有很放得開。」不過下半場就找到節奏，且沒出現嚴重失誤，接續會好好準備，準備迎接第2戰。除了易建聯發揮，大陸隊迎接9年來大賽首勝的主要功臣還有後衛郭艾倫，他除有17分貢獻，還傳出9助攻和3籃板、2抄截，且出賽全隊最高33分鐘但沒出現任何失誤，打出大賽代表作。昨天大爆發前，郭艾倫在個人在世錦賽單場最高得分僅是2分，單場9助攻也追平06年劉煒在世錦賽的9助攻紀錄。大陸成為亞洲率先奪勝的隊伍，第2戰將於明天晚上8點碰波蘭隊。'}\n",
      "{'title': 'Micro LED大躍進 概念股發光', 'url': 'https://udn.com/news/story/7251/4021845', 'class': '股市', 'date': '09-01 00:14', 'description': '友達董事長彭双浪、隆達董事長蘇峯正日前不約而同釋出Micro LED量產時程可望提前的樂觀看法，無異對面臨產業逆風的面板和LED產業，注入一股由新技術、新應用帶來的強心針，Micro LED概念股包括友達、群創、晶電、隆達、錸寶等都可望迎來轉機熱潮。經濟日報提供 分享   facebook     蘋果積極導入新世代Micro LED顯示器，台系面板及LED廠無不掌握此佳機，打破韓廠長期壟斷蘋果產品顯示器供應商的局面，希望一舉洗刷在量產OLED面板缺席的缺憾。台灣顯示器產業聯合總會（TDUA）副理事長梁茂生表示，面板雙虎友達和群創今年上半年均虧損，「慘」業又來了。 然而，Micro／Mini LED新技術為顯示器產業帶來轉機。這可從今年智慧顯示器展該專區攤位數今年大幅成長三倍（由48攤成長到今年150攤），包括日本Toray都首度參展，堪稱是全球最大陣容的展覽，看出新技術紅火熱況。彭双浪表示，友達Micro LED相關技術都已具備，量產時間可望提前，未來一到二年可望在大型顯示器、VR等消費性產品率先導入。另車載產品已有客戶合作開發工程技術平台，由於車用產品認證期長，希望五年內可以進入車載市場。蘇峯正指出，在Fine Pitch Display Wall（細間距電視牆顯示屏）需求帶動下，Micro LED應用將持續發酵，預計最快2020年相關產品就可望問世。》自營商進出明細&nbsp\\xa0》外資持股增減排行》即時選股找重點&nbsp\\xa0》漲跌幅即時排行'}\n",
      "{'title': '真搶手！這家衰爆信合社被搶5次 連警察也曾來搶', 'url': 'https://udn.com/news/story/7315/4022061', 'class': '社會', 'date': '09-01 08:17', 'description': '位在彰化市彰美路的彰化第六信用合作社總行8月27日發生搶案，據彰化警方統計，這是彰化六信歷年來第5次被搶，而且分屬不同分社，其中一次的搶匪當時還是保四總隊黃姓警員，案發後，引起社會極大震撼。彰化六信被搶的5案，依發生時間分述如下：\\u3000●彰化六信曉陽分社：民國84年4月28日上午10時30分， 被一名戴紅色安全帽的持槍男子闖入，喝令社內職員不要動，並用手槍比著櫃台兩名女職員，要，她們將抽屜裡的錢全部交出。搶走60萬9000多元後，跨上一輛無牌照機車逃逸，至今未偵破。●彰化六信華陽分社：保四總隊黃姓警員因涉足賭博電玩積欠債務，轉而向地下錢莊借貸，因對方催款40萬元甚急鋌而走險，８４年７月８日中午，頭戴安全帽 持玩具手槍搶劫彰化六信合作社華陽分社，一名合作社員工按警鈴，他落荒而逃，騎一輛未掛車牌的機車逃到一棟大廈地下停車場，被警方循線查獲。●彰化市辭修路彰化六信儲蓄部： ８７年１１月２５日下午１時２７分，遭分持手槍及開山刀的3名搶匪闖入，在喝令行內員工趴下後，大肆搜刮現鈔，卻在逃離時，被員工及客戶以椅子攻擊，趨前扭打、追逐，王姓及陳姓搶匪當場被制伏，追回二百多萬元現款，不過另一名綽號「阿六」嫌犯則帶走一袋253萬多元現鈔逃逸。●彰化六信和美分社：８５年２月７日上午10時五十分，一名男子戴全罩式安全帽進入大廳，持手槍朝天花板開一槍，用國語喊「搶劫！」隨即拿著黑色手提袋放在收稅款的櫃檯上，以槍指著行員將現金放入手提袋，還朝天花板開槍，搶走28萬9000元後逃逸。警方追緝這名搶匪無功，經過兩年，這名林姓搶匪在一件企業家族經營權之爭中，受雇充當殺手，被警方逮獲，進而查出他就是彰化六信和美分社搶案在逃搶匪。●彰化六信彰美路總行：今年８月２７日中午，陳姓男子持改造手槍闖入彰化市六信合作社，高喊搶劫，卻誤闖沒放現金的開戶專櫃，行員按警示鈴，沒等到錢卻等到員警馳抵；他聽到警車趕抵時，朝員警開了一槍，幸好沒打中，他邊逃邊丟槍、脫掉帽子口罩，逃了４００約公尺，但仍被員警圍捕到案，被依強盜罪嫌偵辦。一名警官指出，由於各金融機構落實防搶演練，櫃台高度提高並設置防搶玻璃，搶匪要想越過櫃台搶劫搜刮的難度提高，加上路口監視器普及 ，幾乎很難得手，就算搶到也很快就偵破，因此近年搶金融機構案件相對較少；有民眾甚至說，搶銀行風險高，搶金融也不高，判刑卻重，反而當詐騙集團的風險低、高所得、判刑又重，難怪詐騙集團猖獗，實在十分諷刺。今年8月27日中午，陳姓男子持改造手槍闖入彰化市六信合作社，高喊搶劫，卻誤闖沒放現金的開戶專櫃，行員紛紛躲在桌下，沒等到錢卻等到員警馳抵，落荒而逃。照片／翻攝自監視器 分享   facebook     今年8月27日中午，陳姓男子持改造手槍闖入彰化市六信合作社，高喊搶劫，卻誤闖沒放現金的開戶專櫃，行員紛紛躲在桌下，沒等到錢卻等到員警馳抵，落荒而逃。照片／翻攝自監視器 分享   facebook     今年8月27日中午，陳姓男子持改造手槍闖入彰化市六信合作社，高喊搶劫，卻誤闖沒放現金的開戶專櫃，行員紛紛躲在桌下，沒等到錢卻等到員警馳抵，落荒而逃。照片／翻攝自監視器 分享   facebook     '}\n",
      "{'title': '港示威者機場行動未成 轉而破壞港鐵東涌站', 'url': 'https://udn.com/news/story/120538/4022802', 'class': '兩岸', 'date': '09-01 19:15', 'description': '圖為網友發起9月1日「和你飛 2.0」堵塞往機場交通。照片／香港01 分享   facebook     香港大批示威者今天響應網民號召前往堵塞機場，但行動至今未成，期間一批人轉往機場附近的市中心東涌任意破壞，地鐵站成重災區。大批示威者於下午1時許在機場外圍的公車站聚集並進行破壞，又把雜物拋進機場鐵路，影響鐵路運作。警方其後預告將會驅散示威者，但截至晚上6時仍未採取行動。與此同時，大批示威者在距離機場不遠的東涌進行破壞，他們堵塞前往機場的道路並焚燒雜物，令車輛無法通過。另有示威者闖進地鐵東涌站破壞，打破玻璃設施、入閘口，以及闖進職員辦公室肆意毀壞，也有示威者毆打拍攝他們的民眾。晚上6時左右，地鐵東涌線已經關閉，而警方則於晚間近7時，至港鐵東湧站清場。'}\n",
      "{'title': '香港民眾揮美國國旗、唱美國國歌 求川普「解放香港」', 'url': 'https://udn.com/news/story/120538/4022223', 'class': '兩岸', 'date': '09-01 11:30', 'description': '一群香港民眾8月31日唱起美國國歌，並揮舞著美國國旗，敦促美國總統川普，從中國手中「解放」香港。歐新杜 分享   facebook     香港反送中示威者8月31日再度上街抗議，一群香港民眾唱起美國國歌，並揮舞著美國國旗，敦促美國總統川普，從中國手中「解放」香港。彭博資訊報導，成千上萬的示威者31日無視警方禁令，再度上街在香港市中心集會抗議，其中有十多名黑衣人戴著口罩，手拿美國國旗。中國指責美國煽動香港自6月起的的反送中運動，並將外界任何要求獨立的呼聲，視為合理化更嚴厲鎮壓的紅線。一名30歲的匿名示威者說，「我們希望川普能夠解放香港」。他還呼籲美國國會通過「香港人權和民主法案」，稱必須「給予我們自由，捍衛我們的憲法和經濟」。川普近幾周將香港抗議活動與與美中貿易談判綁在一起，他30日在白宮對記者說，美中兩國的貿易談判在給香港局勢降溫，中國知道暴力不利於達成協議。外界猜測香港政府可能會動用緊急命令或尋求中國解放軍的幫助，以遏制騷動。幾個月前，美國會兩黨議員提出「香港人權與民主法案」，要求美國國務院每年重新評估香港的自治狀態，並將制裁侵權官員。此舉可能讓香港失去依據美國法律所享有的特殊貿易地位，進而對香港經濟造成破壞性影響。另名27歲的示威者表示，「為什麼我們要揮舞美國旗？這是因為我們尊重美國精神」。當談到美國對抗英國的獨立戰爭時他說，「當時他們（美國）也是殖民地，他們沒有正當的權利、人權和民主，但他們為此而戰。現在美國憲法中，他們有權捍衛自己的民主」。一群香港民眾8月31日揮舞著美國國旗，敦促美國總統川普，從中國手中「解放」香港。歐新杜 分享   facebook     '}\n",
      "{'title': '素密達斷崖又山難 台中山友摔落致死今吊掛運抵東勢', 'url': 'https://udn.com/news/story/7320/4022529', 'class': '社會', 'date': '09-01 14:58', 'description': '台中市一支10幾人的登山隊，8月30日行經知名的素密達斷崖時，62歲陳姓隊員摔落150公尺的斷崖，林姓領隊下到男子摔落，確認死亡，並向外求助，消防救難人員15名昨趕往。今天中午12時39分搜救人員使用衛星電話通報，已將遺體搬至吊掛目標點，13時06分國防部軍用直升機(C-493)由松山機場起飛，今天直升機到達吊掛目標點，因直升機風壓大，消防署通知搜救人員須確保繩索，注意自身安全，13時40分吊掛成功，直升機10分鐘後到達東勢河濱公園，立即通報第二大隊及員警。台中市這支登山隊8月28日從台中市集合啟程，途經九九山莊至希瑪農莊，預計從梨山返回台中市，全程6天。第二天8月30日到素密達斷崖，陳姓山友掉落斷崖，台中市消防局第二大隊的搜救人員，昨天上午6點多，搭乘直升機降落在雪山東峰，再徒步到案發地點，確定陳男已死亡，救難人員合力準備搬運遺體到吊掛地點。素密達斷崖是往聖稜線重要地標，山友説,素密達山約3000公尺「不是好惹的」部分路段必須拉繩攀登，陡峭風大時曾發生多起事故。去年11月，素密達斷崖也發生山難，一名男子攀登時，突遭落石砸中，掉落斷崖。素密達山3517公尺。圖/取自雪霸國家公園管理處官網 分享   facebook     素密達山3517公尺，斷崖險峻。圖/取自雪霸國家公園管理處官網 分享   facebook     '}\n",
      "{'title': '當密使找郭台銘談換瑜？張顯耀：鬼話都出來了', 'url': 'https://udn.com/news/story/12702/4023006', 'class': '要聞', 'date': '09-01 21:56', 'description': '外傳國民黨主席吳敦義（左）請張顯耀（右）向郭台銘表達要他當「備胎」，國民黨駁斥傳言，張顯耀也回應這是天方夜譚。 圖／聯合報系資料照片 分享   facebook     外傳國民黨主席吳敦義請人向鴻海創辦人郭台銘表達，國民黨總統參選人韓國瑜恐選不下去，希望郭台銘當「備胎」。對此，國民黨今駁斥「備胎」說法；張顯耀也回應，這是天方夜譚、張飛打岳飛，報導中所提的時間和地點都不對。據上報報導指出，國民黨副主席郝龍斌8月15日曾與郭台銘見面，勸郭留在國民黨，同一天吳敦義也派前立委張顯耀私下拜會郭台銘，指出韓國瑜最後可能選不下去，盼郭台銘當國民黨的「備胎人選」，請他稍安勿躁。報導中也提到，張顯耀與國台辦主任劉結一見面時，曾帶一份機密民調指出，韓國瑜最後可能會選不下去。國民黨表示，該篇報導純屬子虛烏有，先前大陸事務部主任周繼祥與張顯耀北京行，肇因於陸方自由行禁令與可能限縮團客，考量觀光旅遊業八大團體陸續來陳情，吳敦義期望出面協調溝通，因此指派周、張二人赴北京，與大陸國台辦進行相關事務協調。張顯耀回應，他和周繼祥是在8月8日至9日赴北京，談的是陸客自由行相關事宜，10日就返台，他們是在吳敦義指示下與國台辦見面，一切正大光明，沒有不可告人的事，事後黨中央也曾對外發布新聞稿說明。張顯耀說，若說是曾永權或郝龍斌去找郭台銘還有可能，他現在在國民黨沒有角色，怎麼可能去見郭？都是胡亂揣測，且報導指的時間、地點都不對，是蓄意破壞黨團結、想裂解國民黨，「鬼月剛過，鬼話都跑出來了。」'}\n",
      "{'title': '國泰航空集團班機第三起氧氣瓶放氣事件 恐為內部人士所為', 'url': 'https://udn.com/news/story/7332/4022121', 'class': '兩岸', 'date': '09-01 10:25', 'description': '港龍航空一架從峇里島飛抵香港，隔天再飛往吉隆坡的班機，在香港機場起飛前被發現機上氧氣瓶遭放氣。這是國泰航空集團第三起氧氣瓶遭放氣事件。南華早報報導，註冊號B-LBI的空中巴士330飛機，在從峇里島飛抵香港後，工作人員檢查所有氧氣瓶皆為滿瓶。不過，在隔天（8月30日）早上要飛往吉隆坡前，空服員進行飛前例行檢查時，發現其中一瓶氧氣瓶遭放氣。當飛機發生緊急狀況造成艙內減壓時，機上氧氣瓶可讓機組人員在機艙內移動，協助需要幫助旅客。港龍航空已證實該飛機其中一瓶氧氣瓶被放氣。港龍航空發言人表示，已向香港民航局及警方報案，並著手進行內部調查。飛機起飛前，該氧氣瓶也已經由工程師重新罐氣並確保飛行中可以使用。這架飛機從峇里島抵達香港後，在機場原停機位停留一晚後繼續前往吉隆坡。該飛機上共有16個氧氣瓶，當中放置在左手邊第一個飛機門的氧氣瓶遭放氣。飛機停在停機坪，因此，嫌犯恐為熟悉飛機構造並且在機場內部有通行許可人士。國泰航空本月稍早也發生兩起氧氣瓶遭放氣事件。8月17日和18日有兩架從香港抵達多倫多的飛機，被發現共有13瓶氧氣瓶遭部分或全部放氣。國泰航空已著手調查。國泰航空捲入香港反送中事件，國泰航空先前也宣布對參與反送中抗議員工「零容忍」，自此航空公司內部緊張氣氛劇增。數名員工已遭革職或自行離職。港龍航空為國泰航空集團旗下公司，主要負責亞太區域航線。港龍航空一架飛往吉隆坡的班機，在起飛前被發現氧氣瓶遭放氣。歐新社 分享   facebook     '}\n",
      "{'title': '把握好天氣！周三至周六低壓帶影響 天氣轉趨不穩定', 'url': 'https://udn.com/news/story/7266/4022033', 'class': '生活', 'date': '09-01 07:23', 'description': '中央氣象局說，今天熱帶性低氣壓外圍雲系影響，東南部地區及恆春半島有短暫陣雨或雷雨，並有局部較大雨勢發生的機率，東部及東北部地區亦有局部短暫陣雨或雷雨，其他地區為多雲到晴的天氣，午後有局部短暫雷陣雨。明天、周二水氣減少，東部、東南部地區及恆春半島仍有局部短暫陣雨，其他地區為多雲到晴，午後有局部短暫雷陣雨。周三至周六低壓帶影響，天氣轉趨不穩定，東部、東南部及南部地區有局部短暫陣雨或雷雨，其他地區為多雲，午後有局部短暫雷陣雨。今明兩天適逢年度大潮，西南部地區在漲潮期間，潮位容易超過警戒值，沿海低窪地區注意海水倒灌、局部淹水等現象。9月8日至10日東南部及南部地區有局部短暫陣雨，其他地區午後有局部短暫雷陣雨。今天東南部地區及恆春半島有短暫陣雨或雷雨，東部及東北部地區亦有局部短暫陣雨或雷雨，其他地區為多雲到晴的天氣。本報資料照片 分享   facebook     '}\n",
      "{'title': '國中生撿籃球 虎頭蜂狂追螫五十多針', 'url': 'https://udn.com/news/story/7320/4022412', 'class': '社會', 'date': '09-01 13:41', 'description': '彰化縣3名國中生今天上午在線西公園撿籃球時，疑誤觸蜂窩被螫，其中黃姓國中生被虎頭蜂叮到五十多針，全身紅腫，已轉送彰化基督教醫院，幸無生命危險。3名國中生今天上午在線西公園打球時，為了撿籃球，疑誤觸蜂窩，被虎頭蜂狂追，3人都被螫到，其中黃姓學生比較嚴重轉送彰基診療。彰基副院長周志中醫師表示，黃姓少年（14歲）疑似被虎頭蜂螫到，遍布前胸、後背與大腿前側，目前意識清楚，可對話與行走，無生命危險，但需繼續觀察治療，以免後續因過敏引起生命危險，已經安排相關抽血檢查，施以臨床症狀治療。彰化縣黃姓國中生今天上午在線西公園撿籃球時，疑誤觸蜂窩，被虎頭蜂叮到近百針，全身紅腫，已轉送彰化基督教醫院，幸暫無生命危險。圖／民眾提供 分享   facebook     彰化縣黃姓國中生今天上午在線西公園撿籃球時，疑誤觸蜂窩，被虎頭蜂叮到近百針，全身紅腫，已轉送彰化基督教醫院，幸暫無生命危險。圖／民眾提供 分享   facebook     彰化縣黃姓國中生今天上午在線西公園撿籃球時，疑誤觸蜂窩，被虎頭蜂叮到近百針，全身紅腫，已轉送彰化基督教醫院，幸暫無生命危險。圖／民眾提供 分享   facebook     '}\n",
      "{'title': '反送中／香港01、法新社記者拍攝到擲燃燒彈者 有疑似手槍物', 'url': 'https://udn.com/news/story/120538/4022076', 'class': '兩岸', 'date': '09-01 09:44', 'description': '法新社記者Anthony Wallace，在金鐘近灣仔的天橋，拍到有投擲汽油彈，身上有一隻疑似手槍物體。法新社 分享   facebook     831遊行示威衝突，下午在金鐘有嚴重衝突，示威者投擲汽油彈，警方用水炮車驅散，發射水炮、顏色水，並多次施放催淚彈。法新社記者Anthony WALLACE，於下午在金鐘近灣仔的天橋，拍攝到有人投擲汽油彈，其手持火機，身上有一支疑似手槍物體。《香港01》記者亦在晚上約8點39分，於銅鑼灣攝得有投擲燃燒彈的人，身上有一支疑似手槍物，但未能確認是否與法新社的相片是否同一人。（凌晨3點40分更新）警方指相中並非警方使用槍械，相中人亦非警務人員。法新社記者Anthony Wallace，在金鐘近灣仔的天橋，拍到有投擲汽油彈，身上有一隻疑似手槍物體。法新社 分享   facebook     831示威衝突，警方在銅鑼灣驅散示威者，有示威者用燃燒彈還擊，其中一人身上有疑似手槍物體。香港01曾梓洋記者／攝影 分享   facebook     （凌晨3點40分更新）警方在凌晨記者會上澄清，相中的槍並非警隊使用的槍械，相中人並非警務人員，警務人員亦不會投擲汽油彈；在近日的示威中，亦看到有示威者帶有疑似氣槍。831示威衝突，灣仔總警附近有示威者燃燒雜物。香港01羅國輝記者／攝影 分享   facebook     831示威衝突，灣仔總警附近有示威者燃燒雜物。香港01蔡正邦記者／攝影 分享   facebook     延伸閱讀：【831遊行】太子站外現紅黃綠「分流墊」\\u3000救護員：有大量傷者\\u3000【8.31遊行】港鐵太子暴力車廂\\u3000速龍揮棍出椒\\u3000口罩人舉手文章授權轉載自《香港01》'}\n",
      "{'title': '搶人才！台積電祭2個月薪資 鼓勵在職者年底前報到', 'url': 'https://udn.com/news/story/7269/4022498', 'class': '生活', 'date': '09-01 14:34', 'description': '台積電今（1）日在新竹舉辦招募面試會，現場有近300 名求職者參與面談。台積電宣布，凡是目前在職者在收到聘書40天內，且在年底前報到加入營運與產品組織的工程師，台積電另會加發2個月薪資作為鼓勵。台積電今年7月宣布預計至今年底前，將招募逾3,000 名新血加入，職缺包括半導體設備工程師、製程工程師、製程整合工程師、研發工程師、IC 設計工程師等。台積電近舉辦三場招募面試會，8 月25 日已完成台中場的招募面試，9 月1 日舉辦新竹場，台南場次也將於9 月8 日登場，邀請優秀人才參與面談。台積電晶圓廠營運王建光資深副總經理表示，台積公司在面對AI 和5G 世代的來臨，持續積極投入各種先進及特殊製程的開發，以追求技術領先及卓越製造。面對世界級的競爭，台積全力以赴，相信只要勇於挑戰，認真做好每一件事，就有成功的機會。台積提供多元職涯發展的工作環境，歡迎各方好手，帶著開創與冒險的精神，加入台積，成為我們志同道合的夥伴。現場求職者表示，聽過很多在台積電任職的朋友分享，台積電給予員工的機會及舞台很大，也有很體貼照顧員工的福利措施。除了追求本業的成長之外，也是一家非常重視企業社會責任與永續經營的公司。為了追求更好的職涯發展，一直希望能夠有機會加入台積電，所以特別珍惜這次的面試機會。台積電今（1）日在新竹舉行工程人才招募面試會，吸引約300求職者參與面談。台積電／提供 分享   facebook     台積電今（1）日在新竹舉行工程人才招募面試會，吸引約300求職者參與面談。台積電／提供 分享   facebook     '}\n",
      "{'title': '氣象局宣布第13號颱風玲玲生成 明晚起外圍環流影響台灣', 'url': 'https://udn.com/news/story/7266/4023464', 'class': '生活', 'date': '09-02 09:47', 'description': '日本氣象廳指菲律賓東方海面的熱帶性低氣壓，已增強為今年第13號颱風「玲玲」。中央氣象局說，預計周三起影響台灣，路徑還要討論，預測分歧度有點大，有靠近台灣也有偏離台灣，但因為接近台灣的機率較高，恐沿著東部海面北上，甚至有機會撲台，預測周三起為東半部及南部帶來雨勢，接連影響後續警報情形，值得關注。氣象局預計10時發布。玲玲颱風路徑潛勢預報。圖／取自氣象局網站 分享   facebook     '}\n",
      "{'title': '媽媽忙約會11天 小孩吃屎尿困房內活活餓死', 'url': 'https://udn.com/news/story/6812/4023445', 'class': '全球', 'date': '09-02 09:52', 'description': '烏克蘭一位年輕媽媽將年幼子女留在房內11天，子女只靠吃屎尿和壁紙過活。圖擷自dailynews 分享   facebook     烏克蘭近期發生一起驚悚命案，一位23歲的年輕媽媽將自己的年幼子女關在房間，並獨自離開11天與男友約會，這位媽媽在離開時用毛巾堵住房門縫隙，企圖活活餓死子女，在這期間子女靠著啃食壁紙和自己的排泄物過活，直到阿嬤來拜訪時才發現他們的處境，但其中一位小男童已活活餓死，另一位女童雖沒餓死，卻有嚴重營養不良的現象。根據英國《每日郵報》報導，事發位在烏克蘭首都基輔，這位年輕媽媽名叫弗拉季拉瓦（Vladislava Trokhimchuk），她與前夫育有1男1女，事發當天她獨留1歲兒子丹尼爾（Danill）和3歲女兒安娜（Anna）在沒有水和食物的房間內，離開前還用毛巾堵住門縫防止他們逃出來，之後弗拉季拉瓦便與她的男友去約會，整整11天沒回到家中查看小孩狀況，在受困期間，丹尼爾和安娜只能靠著吃壁紙和自己的排泄物過活，他們曾試圖啃咬房門製造出坑洞，齒痕也深深地印在牆壁上，但他們仍舊無法逃出。直到他們的阿嬤來拜訪，她帶著玩具和雜物準備探視孫子們，但一進房就看見安娜在床上睡覺，她立刻抱起安娜並嘗試叫醒她，安娜的阿嬤表示「我給了她奶酪和一根香蕉，一切就像是一個可怕的夢......我不明白它是怎麼發生的。」，之後兩位孩童都被送往醫院急救，但丹尼爾已經沒有生命跡象，而安娜則是因為喝了花瓶裡的水逃過一劫，可是仍有營養不良的狀況。事後，法院經調查發現弗拉季拉瓦試圖讓小孩餓肚子，並在社交媒體上貼出圖片，謊稱其中1個或2個小孩身上都有長出危害生命的腫瘤，並試圖募集資金，但考慮到她羈押和被拘留的時間後，法院將讓弗拉季拉瓦在三年內獲得自由，而檢察官發言人對此則表示「我們將立即對判決提出上訴，並以最嚴格的方式對弗拉季拉瓦進行懲罰。」'}\n",
      "{'title': '買不起新iphone想買舊款機 這時入手價格暴跌30%', 'url': 'https://udn.com/news/story/11477/4023911', 'class': '數位', 'date': '09-02 13:57', 'description': '蘋果將在11日舉行年度發表會，許多人都相當關注新款iphone售價與外型。 圖／擷自蘋果官網 分享   facebook     蘋果iphone手機價格年年創新高，許多人想換新機，但看到新iphone的價格總是下不了手，於是轉而購買上一代或更之前的iphone，根據二手交易網站《Decluttr》的二手估價報告指出，當蘋果年度發表會過後，舊款iphone價格會暴跌30%，且前3個月跌幅最大。 蘋果公司宣布將在11日舉行最新一代iphone和相關產品的發表會，許多人都相當關注iphone新機的售價，準備將原本的手機淘汰，但每年iphone新機價格高昂，許多人紛紛轉而入手舊款手機，對此，二手交易網站《Decluttr》針對了iphone、三星、Google等手機做了研究，發現iphone比他款手機更不易折舊，更易保值。研究指出iphone手機在發表會後的第一個月內價格會下降至少40％，且舊款iphone在發表會當天一過價格就會暴跌30%，但在之後的幾個月價格則會趨於穩定，以每月1%的跌幅下探，因此民眾若是想購買舊款iphone，就必須把握發表會後的3個月，在這期間跌幅最大，且如果能夠搭配今年12月的促銷活動，應該能省下更多荷包。根據二手交易網站《Decluttr》的二手估價報告指出，iphone在發表會後的3個月內跌幅最大。圖擷自Decluttr 分享   facebook     另外Decluttr也針對去年機款的價格做估計，像是去年新推出的iPhone XR在過去的11個月中貶值了43％，目前轉售的價格為405美元（約1.27萬台幣），而iPhone XS則是在相同的時間內損失了近一半的價值，目前的轉售價格為512美元（約1.6萬台幣），相較於三星和Google等手機貶值速度較慢。Declutt表示Android手機的折舊速度比Apple設備快很多，三星S10手機在推出幾月內已經貶值了57％，S10 +手機則是已經損失了一半的價值，而Google的Pixel 3XL在發布後的六個月也貶值了58％，這兩家公司的手機都比iphone 失去更多價值。'}\n",
      "{'title': '上海好市多掀「退卡潮」 人潮爆多員工忙到沒吃飯', 'url': 'https://udn.com/news/story/7332/4024357', 'class': '兩岸', 'date': '09-02 16:48', 'description': '上海好市多開幕不到一週爆出「退卡潮」，許多民眾因優惠減少、商品缺貨而辦理退卡。圖擷自新浪網 分享   facebook     上海好市多（Costco）上月27日開幕，當天就吸引上萬人前來購物，並導致商場營業4小時後便宣布關店，但如今開幕不到一個禮拜好市多就爆出「退卡潮」，許多工作人員忙到沒有空吃飯休息，消費者紛紛退卡的主因也曝光，原來是因為人氣商品早已賣光、商品優惠不像開幕。根據「新浪網」報導，上海好市多剛開幕時對許多商品釋出優惠，這也導致消費者瘋狂湧入好市多，出現辦卡熱潮並將熱門銷售產品一掃而空，其中以要價1498元人民幣（約6580元台幣）的飛天茅台酒最受歡迎，不到3天許多人氣商品都被搶到缺貨，而商品價格的優惠也跟著取消，導致一些產品的售價提高，原本售價32.9人民幣（約145元台幣）的2罐冷藏牛奶也漲到53.9人民幣（約236元台幣）。對於人氣商品的漲價與缺貨，許多消費者頓時失去購賣的動力，根據報導指出，31日時許多消費者紛紛到櫃台辦理退卡手續，好市多的出口位置排滿了退卡的排隊人龍，工作人員為了處理這些手續，忙到下午2點多都還沒吃午飯，一位到好市多的阿姨表示「網路上說的那麼好，我過來花兩小時，排隊花一兩小時，一點都不划算」、「來回車費就花了十多塊錢，還不如在家門口的超市買東西」，而一對年輕夫婦也說「來逛Costco是覺得它檔次比較好的，結果擠來擠去，小孩一直哭，成本太高了，下次不會來了。」'}\n",
      "{'title': '大選前三個月 屏東縣警局長葉明潭驚傳中風', 'url': 'https://udn.com/news/story/7327/4024645', 'class': '地方', 'date': '09-02 19:20', 'description': '屏東縣警察局局長葉明潭今天上午在警察局職務宿舍突身體不適，左手左腳麻痺，緊急送醫檢查發現右腦血管栓塞；據了解，葉明潭目前無生命危險，但中風症狀須住院治療，距離總統大選只剩三個多月，對屏東地區的選舉維安恐造成影響。葉明潭是上午9點在屏東市北平路的職務宿舍內感到左手腳發麻，以電話聯繫辦公室警務員協助陪同到衛福部立屏東醫院急診就醫，醫生初步檢查為右腦血管栓塞，暫無生命危險。葉明潭現年61歲，警大46期畢業，去年7月16日從高雄警新興分局長調升屏東縣警局長，從警生涯 深受警政署長陳家欽器重；本月初才配合檢方執行2020總統大選前的緝毒掃黑專案，幾天前又偵破直播主遭打斷手腳案件，工作操勞。據了解，陳家欽已電話聯繫葉明潭關心狀況，葉意識清楚，病情回復尚良好，陳家欽要求葉先請假好好休養，視情況再回工作崗位。屏東縣警局長葉明潭上午傳中風住院，病情尚穩定。圖／警政署提供 分享   facebook     '}\n",
      "{'title': '有形成三個颱風的可能 彭啟明：一個不排除很接近台灣', 'url': 'https://udn.com/news/story/7266/4023383', 'class': '生活', 'date': '09-02 07:37', 'description': '天氣風險管理公司總經理彭啟明說，西太平洋熱鬧起來，共有三個熱帶系統都有可能發展成為颱風。要關注的是在菲律賓呂宋島東邊的熱帶性低氣壓，周三、四開始接近台灣東部海面，如果高壓維持目前強度，也不排除會相當接近台灣。彭啟明在臉書發文說，這一兩天台灣仍維持類似周末時，明顯夏季高溫，午後有局部雷陣雨。由於高壓勢力有減弱趨勢，午後熱對流發展將會增強，會有局部較大雨勢，甚至有很強的雷雨，有冰雹等現象發生，戶外工作者務必要提高警覺，暫停各種活動，能避就避。他表示，周三、四開始會有明顯轉變。西太平洋三個熱帶系統若成颱，被命名順序為玲玲、劍魚及法西，看誰最先到達標準。其中在台灣東南邊的熱帶性低氣壓，持續往西北前進，目前許多預測是通過台灣東方面的機會較高，不過還是要看太平洋高壓強度及和南海上的熱帶性低氣壓或演變成颱風的相互牽引。他說，目前天氣系統還不夠強，有待觀察。但提醒大家由於相當接近台灣，如果變成颱風，訊息或警報發布將會相當的快速，會讓人有措手不及的感覺。彭啟明說，兩個低壓系統接下來會帶動西南風，也就是周四開始，水氣將明顯增多，很容易有明顯雨勢，至少持續到這周末，和這幾天的天氣有些差別。中央氣象局說，今天各地大多為多雲到晴的天氣，僅花東地區及恆春半島有局部短暫的陣雨或雷雨，午後中南部地區及北部、宜蘭山區有局部短暫雷陣雨；溫度方面，西半部及東北部天氣炎熱，高溫約33至35度，其中桃園以北有36度左右高溫出現的機率，花東高溫約32度左右，注意防曬並多補充水分。氣象局指出，南海的熱帶性低氣壓，今天凌晨2時位於恆春鵝鑾鼻西南西方約970公里海面上，有發展為輕度颱風的機率，持續往西朝海南島方向移動，逐漸遠離台灣地區，未來對台灣天氣沒有影響；菲律賓東方海面也有一熱帶性低氣壓，距離恆春鵝鑾鼻東南方約1100公里的海面上，未來有發展為颱風的趨勢，預計周三（４日）之後將影響台灣的天氣，請留意此低壓系統的未來發展動態。天氣專家彭啟明說在台灣東南邊的熱帶性低氣壓，持續往西北前進，目前許多預測是通過台灣東方面的機會較高。圖／取自氣象局網站 分享   facebook     '}\n",
      "{'title': '國造潛艦戰鬥系統 改由美主導', 'url': 'https://udn.com/news/story/10930/4023190', 'class': '要聞', 'date': '09-02 00:50', 'description': '國艦國造未來會有美方加強參與，圖為今年五月潛艦廠房動土，現場展示的未來自製潛艦模型。 圖／聯合報系資料照片 分享   facebook     美國政府批准售台M1A2戰車、F-16C/D Blk70戰機後，對我方自製潛艦計畫（ＩＤＳ），也要加強參與。對此，參與其事的軍政高層官員昨天證實，隨著政治氣氛轉變，美方顧忌減少，對ＩＤＳ計畫的參與程度的確逐步增加，以保證潛艦能如期如質完成。近日業界傳出，先前美國政府允許廠商以「商售」模式（ＤＣＳ）協助潛艦戰鬥系統設計，如今將升格為美國政府居中保證的「軍售」（ＦＭＳ）模式。我軍政高層官員指出，沒有所謂「商售轉軍售」的情況。相較於當年發展ＩＤＦ經國號戰機時，美國通用動力（F-16生產者，現已併入洛克希德馬丁）扮演重要的技術指導角色，這次我方推動ＩＤＳ國造潛艦，缺乏類似的「總顧問」角色。外傳在載台（船身）設計方面，主要助力來自歐洲、日本的專家；至於潛艦「內裝」戰鬥系統，則由中科院負責，並向外尋求技術協力。去年四月，美國政府發給洛克希德馬丁與雷神兩家廠商「行銷核准證」（marketing license），允許他們參與台灣的潛艦建造計畫。先前就已承包現役劍龍級潛艦升級方案的洛馬，被我方選為ＩＤＳ戰鬥系統的主要合作夥伴。上月有消息傳出，洛馬對海軍表示，中科院選擇的一些艦上次系統，許多對於洛馬都屬陌生，是否可能造成系統相互干擾，洛馬無法保證能夠依合約，在二○二四年前完成三套潛艦戰系的交貨。主導本案的海軍司令黃曙光上將考慮後決定，讓洛馬依合約負全責。換言之，ＩＤＳ戰鬥系統的最後決定權，儼然已由中科院改到洛馬負責。對此消息，海軍回應「純屬臆測」，表示潛艦案由主合約商台船進行，中科院擔任戰系整合商，進度正常。是否有報導所提「洛馬意見壓過中科院」情況？軍方未正面回答。昨又有消息傳出，美方對ＩＤＳ技術支援，將由廠商層級的ＤＣＳ商售，轉為美國政府直接介入的ＦＭＳ軍售，預估年底即公告。消息人士說，如果轉成軍售，美國政府參與其間，會賺取作業費用，額度可能達兩成；但這也等於美國政府替國造潛艦的品質掛保證，也代表在戰車與戰機後，三軍對美軍購案都有重大突破。'}\n",
      "{'title': '月入90k木工師嘆薪資凍漲30年 網驚：10天抵我1個月', 'url': 'https://udn.com/news/story/7269/4023776', 'class': '生活', 'date': '09-02 12:29', 'description': '月入90k木工師，在社群PO文大嘆薪資凍漲30年。圖擷自「爆廢公社二館」 分享   facebook     日前政府宣布明年調漲基本工資，時薪將從一小時150元調漲到158元，多數勞工團體覺得調漲太少。一位網友馬上就在臉書po文抱怨自己雖然10天領一次薪水月入90多K，但從30年前就凍漲至今，讓他很感慨，「別人的薪水都漲，而我們卻只停留在原地」。網友看完PO文後驚說「10天是我一個月的薪水啊」。原PO在「爆廢公社二館」PO文表示自己是一名木工師傅，8月連續上工做滿31天，領了9萬多。他一天的工資是3100元，10天領一次，但也是永遠的3100元。他感慨的說，「30年前，木工薪水，也是3100，30年後也是一樣，看著別人薪水一直成長，而他們卻只停留在原地，總是領著微薄薪水，一天過一天」。 網友看完po文後留言吐槽說「電子廠每天工作12小時，中間休息兩小時，實際上只休20分吃個飯，繼續奮鬥到下班。下班還要被叩起來問產線的事情，然後又被嫌到流膿。這樣早班看有沒有實領30K，晚班3.5K有點拚」、「是出來被砲的」、「3100算很高了，南部還有在發2700的」，勸原po要知足。也有網友留言說「覺得羨慕..」、「辛苦了，加油」，更多網友鼓勵原PO「木工以現在的景氣還可以做滿31天，你的功夫一定很棒，不然就是你老闆很會做生意，很多工作可以做」、「去國外吧！美國木工很賺的！」'}\n",
      "{'title': '郭台銘是備胎？蔡沁瑜：換瑜也不會代表國民黨參選', 'url': 'https://udn.com/news/story/12702/4023673', 'class': '要聞', 'date': '09-02 11:37', 'description': '有媒體報導國民黨主席吳敦義派前陸委會副主委張顯耀見鴻海創辦人郭台銘，盼郭當「換瑜」備胎人選，引發關注，國民黨及張顯耀均否認，郭台銘發言人、永齡基金會副執行長蔡沁瑜上午表示，郭台銘若要參選，自始至終都一定獨立參選，「換瑜」是國民黨要傷腦筋的事情，不是郭台銘所能置喙。蔡沁瑜表示，郭台銘若要參選2020總統大選，一定是獨立參選，不會受到任何政黨遊說影響，和國台辦更是一點關係也沒有，郭台銘強調要為國家好、人民好，這是他一直念茲在茲的理念，所以大家才說他是中華民國最強外掛，最好的中華民國派。蔡沁瑜針對換瑜的說法回應表示，郭台銘對這件事情沒有任何期待，即便國民黨有任何變化，郭台銘也不會回到國民黨，代表國民黨參選。另外，新北市長侯友宜二哥侯明鋒稍早婉拒擔任郭台銘副手，蔡沁瑜表示遺憾，但尊重侯院長的決定，現在沒辦法合作，未來也是有機會。蔡沁瑜表示，郭台銘對這件事情沒有任何期待，即便國民黨有任何變化，郭台銘也不會回到國民黨，代表國民黨參選。圖／取自UDNTV畫面 分享   facebook     domready(function() {if ( !countDownStatus ) getCountdown();if ( !highChartsStatus ) getHighcharts();});domready(function() {var channelId = 2;var actArea = \"poll_at_story_0_v703\";var actCode = \"v703\";var actTemplate = \"bar2\";var elemDiv = document.createElement(\\'div\\');elemDiv.id = actArea;elemDiv.className =\\'vote_body area\\';var scr = document.getElementById(actArea+\\'_script\\');scr.parentNode.insertBefore(elemDiv, scr);$.getScript(\\'/funcap/actIndex.jsp?actCode=\\' + actCode + \\'&channelId=\\' + channelId , function() {actTemplate = eval(\\'objAct_\\' + actCode + \\'.d1.actTemplate\\');$.ajaxSetup({ cache: true });$.getScript(\\'/func/js/\\' + actTemplate + \\'_min.js?2019082101\\', function() {$.ajaxSetup({ cache: false });piepkg();loadTemplateJs(actTemplate);eval(actTemplate + \\'view(\"\\' + \\'#\\' + actArea + \\'\");\\')})});});'}\n",
      "{'title': '影／我們帶你回家！搜救人員下斷崖帶遺體驚險影片曝光', 'url': 'https://udn.com/news/story/7320/4023426', 'class': '社會', 'date': '09-02 09:07', 'description': '「我們帶你回家了！」62歲陳姓山友在攀登雪霸國家公園素密達山斷崖的時候，不慎摔落200公尺深的山谷死亡，搜救人員搭直升機到高山，昨天再徒步走到斷崖，走進山谷將遺體拉回山上，期間還不斷有落石，畫面驚險。陳姓山友和登山隊在攀登雪霸國家公園聖陵線的時候，4天前不慎在素密達山斷崖摔落山谷，台中市消防局、苗栗縣消防局、保七總隊和雪霸國家公園管理處等單位搜救人員，昨天利用繩索小心降下200公尺深的山谷，搜救人員綁緊遺體並確保繩索固定，緩慢爬上山谷。山谷地形險峻，能站立的空間有限，搜救人員輪流爬上，站在狹窄的定點，上方人員緩慢拉下方人員，確保遺體和自己的安全，在拉繩過程中，陡峭的山壁不斷的出現落石，畫面驚險，在帶回遺體的途中，搜救人員不斷對遺體喊著：「我們帶你回家了，不要擔心。」陳姓山友跌落200公尺深山谷死亡，搜救人員昨天驚險帶回遺體。圖/台中市消防局提供 分享   facebook     陳姓山友跌落200公尺深山谷死亡，搜救人員昨天驚險帶回遺體。圖/台中市消防局提供 分享   facebook     '}\n",
      "{'title': '管中閔被控違法兼職案 公懲會判申誡處分', 'url': 'https://udn.com/news/story/120604/4024147', 'class': '文教', 'date': '09-02 15:02', 'description': '台大校長管中閔1月8日上任，7日後遭監察院以擔任公職期間替壹週刊寫社論而彈劾，移送公務員懲戒委員會。監院指管違反公務員服務法「禁止兼職」規定，還曲解銓敘部函釋；管強調未「兼職」，指是政治迫害，諷監院不知「官箴」二字怎麼寫。公懲會今申誡。公懲會整理的爭點包括是否應參照銓敘部1987年2月23日(76)台銓華參字第82025號等函釋，公務員在「不妨礙其工作與本職之性質或尊嚴」或「不涉職務之事務」，得「偶一為之」、「非經常、固定」、「賺取薄利」投書媒體賺取稿費。管中閔在上月19日言詞辯論時解釋，自己不是壹週刊編制內的人員，「無薪無職」，既然沒有職位，何來兼職？他稱是受邀撰稿，沒簽契約，而且對方不只邀他，他也沒有投稿義務，壹週刊也沒義務一定要登他的文章，若文章沒被採用也就無稿費。他認為監院的調查不符合比例原則，究竟是基於什麼樣的「重大犯罪」而查他20年的報稅資料，還要所有的單位詳細交代和他的來往過程？監院為何可以在彈劾文間，隱匿對他有利的報告，有濫權之虞。管中閔的防禦策略是斬釘截鐵地說「沒有兼職」，並指沒有事先約定稿費，有時候一整個月也沒領到稿費，而他寫的文章與職務無涉，彈劾文卻隱匿事實。律師俞大衛表示，管案像是「不教而殺」，若依監察院聞所未聞的方式來懲戒，如同打開潘朵拉的盒子，是公務員的莫大災害。監院代理人賴建文數度批管與律師的辯詞「可笑」，指摘管三度不配合監院調查，卻反指監院說不出那些社論是他寫的，本案源自有人告發管在大陸兼職，因時效問題才查近20年的資料，強調監院不會「深文周納」。賴反擊，認為這樣還不算「兼職」才是打開潘朵拉盒，像有些財政部的官員自制，根本不敢書寫教人如何避稅的文章。監察院認為管中閔2012年2月6日至2015年2月3日任職政務人員期間，以匿名方式常態性為壹週刊寫社論，獲取年約65萬元的兼職報酬，違反公務員服務法公務員禁止兼職規定，嚴重損害公務紀律、敗壞官箴。台大校長管中閔（前）任政務官期間為媒體撰寫社論，遭監察院以違法兼職彈劾。圖／聯合報系資料照片 分享   facebook     domready(function() {if ( !countDownStatus ) getCountdown();if ( !highChartsStatus ) getHighcharts();});domready(function() {var channelId = 2;var actArea = \"poll_at_story_0_v704\";var actCode = \"v704\";var actTemplate = \"bar2\";var elemDiv = document.createElement(\\'div\\');elemDiv.id = actArea;elemDiv.className =\\'vote_body area\\';var scr = document.getElementById(actArea+\\'_script\\');scr.parentNode.insertBefore(elemDiv, scr);$.getScript(\\'/funcap/actIndex.jsp?actCode=\\' + actCode + \\'&channelId=\\' + channelId , function() {actTemplate = eval(\\'objAct_\\' + actCode + \\'.d1.actTemplate\\');$.ajaxSetup({ cache: true });$.getScript(\\'/func/js/\\' + actTemplate + \\'_min.js?2019082101\\', function() {$.ajaxSetup({ cache: false });piepkg();loadTemplateJs(actTemplate);eval(actTemplate + \\'view(\"\\' + \\'#\\' + actArea + \\'\");\\')})});});'}\n",
      "{'title': '海祭美背照網友瘋傳跪求正面 真相大白讓人驚了', 'url': 'https://udn.com/news/story/7323/4023602', 'class': '地方', 'date': '09-02 11:10', 'description': '新北市貢寮海洋音樂祭連續3天熱潮昨晚結束，10大樂團爭奪最高榮耀的海洋旗也產生新霸主，每天都有很多辣妹與猛男戲水，比基尼大秀好身材，逐退熱浪。但卻流傳了一張美背照，是一張不辨男女的「上空照」，引發網友議論，並有網友說跪求正面照，今天有網友提供這名美背者的正面照出來了，證實不是女的，是一名長了落鰓鬍的男帥哥，只是個美麗的誤會。有男網友說「崩潰了」，但也有女網友說「帥哥也不錯啊」，一張照各有解讀。海祭主辦單位新北市政府觀旅局在海祭第二天，攝影官拍到一張照片提供給媒體，這張照是一名只著泳褲的人，不知男女，但只看到後面有綁了兩條瓣子，引人遐想，造成多方揣測，網友紛紛求解，希望有人提供正面照。有參加海祭民眾在現場拍照，他有拍到這名美背客，比對泳褲一模一樣，加上身形特徵，證實是同一個人。這名拍到照片的網友說，剛開始也是先看到背面，但是後來有看到正面，其實是一名老外，一名很帥氣的年輕帥哥，滿臉的落鰓鬍 ，很帥氣啦。拍照民眾說，落鰓鬍的男子，因為有綁了兩條小瓣子，當時兩條小瓣子在背後，從後面看才會有點被誤以為是女的，其實是貨真價實的男性，跟他走在一起的，還有一名穿比基尼的女伴，因為是男的，當然只有穿下面的沙灘褲，沒有上面哪一件。網友還表示，不少老外男生也都有綁瓣子，在台灣比較少見。民眾得知真相後有人說「崩潰了，還有啤酒小肚肚」、「真相大白讓人不想接受」、「還是看背影就好」，但也有女網友說「帥哥也不賴」、「美背想像無限大」。一名網友說出原因，他表示，從後面看美背會引人遐想，因為沒有比基尼的上半身那條線，誤以為上空，才會讓人想入非非，其實這名男子就是穿一件沙灘褲而已，網友真的想多了。這張照只著泳褲，上半身沒穿，但有兩條長髮瓣子，是男是女引遐想，網友跪求正面照。圖／新北市政府提供 分享   facebook     今天有網友提供這名美背者的正面照出來了，證實不是女的，是一名長了落鰓鬍的男帥哥，只是個美麗的誤會。圖／讀者提供 分享   facebook     '}\n",
      "{'title': '禾馨婦產科A健保點數溢領千萬 名醫蘇怡寧繳50萬獲緩起訴', 'url': 'https://udn.com/news/story/7321/4023846', 'class': '社會', 'date': '09-02 12:37', 'description': '婦產科名醫蘇怡寧。 聯合報系資料照／記者黃義書攝影 分享   facebook     北市知名連鎖婦產科「禾馨婦產科」讓孕婦自費照高層次超音波，卻向健保署申報健保點數溢領1500萬元，執行長蘇怡寧遭移送詐欺罪、違反個資法。台北地檢署考量蘇坦承犯行且態度良好，給予緩起訴處分，期限1年，須支付公庫50萬元。個資法部分，罪嫌不足，獲不起訴。中央健保署調查，有一名孕婦到「禾馨婦產科」自費照高層次超音波，但櫃檯卻以疾病為由，要求刷健保卡，進而發現禾馨一手向孕婦收取費用，一手卻申報健保點數，簡直是「兩頭賺」。2018年2月間，健保署針對禾馨旗下的懷寧街的婦產科診所和內湖婦幼診所，施以停約1個月處分，並將蘇怡寧移送北檢偵辦。禾馨旗下5家診所，吐回2016年1月到2017年12月間，共1500萬元健保費。事後，另有孕婦認為禾馨違法使用個人就診資料，控告蘇違反個人資料保護法。據了解，蘇怡寧供稱，產婦自費照高層次超音波，而診所申報的健保點數屬於「醫師診療費」。檢方指出，禾馨確實申報健保點數，但禾馨將患者個人資料向上呈報給予健保署審查，是既有作業流程，不能因事後審查未通過而認定醫師濫用個資，此部分不起訴。當時，禾馨集團執行長、名醫蘇怡寧說：「我沒有任何的說法，謝謝，這個還在調查當中，這個我們一直有在申訴，我們有我們的看法。」據悉，經過雙方協商，最後繳回金額低於千萬元。'}\n",
      "{'title': '三颱接力生成？氣象局說這個最值得留意周三就接近', 'url': 'https://udn.com/news/story/7266/4023422', 'class': '生活', 'date': '09-02 09:02', 'description': '恐有三颱接力生成。中央氣象局說，目前在南海及菲律賓東方海面的熱帶性低氣壓，有機在今天白天生成輕颱，預計周三起影響台灣，另在遠洋亦有一低壓可能生成颱風，不過仍要觀察。氣象局預報員李孟軒說，目前在南海及菲律賓東方海面的熱帶性低氣壓，不排除在今天接力生成第13號颱風「玲玲」、第14號颱風「劍魚」，不過南海的不用太在意，生成颱風後會走海南島，然後繼續往東南半島，對台灣無直接影響。至於菲律賓東方海面的熱帶性低氣壓，李孟軒說雖然路徑還要討論，預測分歧度有點大，有靠近台灣也有偏離台灣，但因為接近台灣的機率較高，恐沿著東部海面北上，甚至有機會撲台，預測周三起為東半部及南部帶來雨勢，接連影響後續警報情形，值得關注。對於緊接著可能生成的第三個颱風，李孟軒表示遠洋的確有個低壓，有機會生成熱帶性低氣壓甚至是颱風，不過要五天左右才會明朗。李孟軒說，今、明兩天，花東、恆春半島留意短暫雨，其他地區多雲時晴，不過中部以南及各地山區要注意午後雷陣雨。溫度方面，李孟軒說全台高溫落在33到36度間，花東受到雲量多影響，高溫溫度略低，在32到33度間，其他地區比較熱，桃園以北已發布高溫資訊。李孟軒說，周三起受到低壓帶影響會變天，若菲律賓東方海面生成颱風，在周三接近，周四通過，除了會帶來雨勢，也會讓天氣更加不穩定，屆時除了東半部和南部有雨，颱風接近時雨量甚至會擴展到全台。中央氣象局說，目前太平洋地區有兩個熱帶性低氣壓。圖／中央氣象局提供 分享   facebook     '}\n",
      "{'title': '柯文哲曾批垃圾不分藍綠 孫大千：你有什麼不一樣？', 'url': 'https://udn.com/news/story/12702/4023756', 'class': '要聞', 'date': '09-02 12:00', 'description': '台北市長柯文哲。 記者許正宏／攝影 分享   facebook     「郭柯王」未來走向備受外界關注，台北市長柯文哲日前被問到三人將有何合作，他說，順其自然，找出台灣最需要的答案。對此，韓國瑜北部競選辦公室副執行長孫大千在臉書發文說，政治不是數學，3個1加起來不一定會等於3，搞不好還會小於3。孫大千表示，柯文哲現在如此熱衷的合縱連橫遊戲，這不正是過去他口中不屑一顧的「密室協商」嗎？難道用一句「找出台灣最需要的答案」，就可以混得過去？柯文哲每天緊抱著郭台銘董事長和王金平院長，難道他真的忘記了過去是如何評價郭王的嗎？孫大千質疑，柯文哲除了質問蔡英文的「台灣價值」之外，難道不需要向台灣人民說明一下，他現在拼命結盟拉攏的對象們的「台灣價值」又是什麼？大家的「台灣價值」是否都一致。孫大千批評，柯文哲現在為了壯大「台灣民眾黨」，四處「借將」、「借勢」、「借力」，甚至不惜「借牌」，這和過去他口中嗤之以鼻的「垃圾不分藍綠」又有什麼不一樣？當柯文哲已經大幅偏移了自己投身政治時在理想光譜上的定位之後，今日的柯文哲會不會讓昔日的柯文哲失望呢？'}\n",
      "{'title': '管中閔申誡處罰影響校長一職？ 公懲會這樣回答', 'url': 'https://udn.com/news/story/120604/4024373', 'class': '文教', 'date': '09-02 16:35', 'description': '台大校長管中閔遭監察院以擔任公職期間替壹週刊寫社論而彈劾，移送公務員懲戒委員會；公懲會今天下午3點宣判，判管中閔申誡。公懲會除認為管中閔嚴重損害政府信譽，也違反公務員服務法，因此有懲戒必要，另公懲會指出，記申誡是否會影響管中閔校長職務，此部分並非公懲會的權責。公懲會認為，管中閔自2014年1月15日起擔任行政院政務委員，並兼國家發展委員會主委，是政務人員卻經常、持續性為壹週刊撰寫文章，刊登於雜誌上，除了和本身職務性質相違背外，更有礙職務尊嚴，足以使民眾產生公務員不專心自身政務，公務紀律鬆散的不良觀感，已嚴重損害政府信譽，違反公務員服務法第14條第1項禁止業務的規定，因此有懲戒的必要。公懲會書記官長林玉苹受訪指出，管中閔從2014年1月15日開始在壹週刊投稿，每隔一週就刊登一篇，總共有27期，每一篇稿酬是2萬5000元；另就為何不是撤職處分，林玉苹說，這是合議庭就本案情節做考量後決定的結果。有媒體問及是否會影響校長職務？林玉苹表示，這並非公懲會的權責，另申誡處分對公務員而言是會影響考績。公懲會書記官長林玉苹。記者林孟潔／攝影 分享   facebook     公懲會判管中閔申誡。本報資料照片 分享   facebook     '}\n",
      "{'title': '周刊爆棄養公公還劈腿 「本土劇惡女」求償千萬及道歉', 'url': 'https://udn.com/news/story/7321/4023783', 'class': '社會', 'date': '09-02 12:15', 'description': '女演員陳小菁。圖翻攝自陳小菁臉書 分享   facebook     本土劇女演員陳小菁不滿被周刊王報導她棄養公公還劈腿，向李姓記者、鐘姓爆料者提告。刑事部分，2人被依誹謗罪判拘役50日，得易科罰金可上訴；民事部分，陳小菁求償1000萬元並要求登報道歉，台北地方法院今天開庭，陳的委任律師指出，若記者願意認罪，雙方有和解可能，鐘另涉恐嚇，因此沒有和解意願。陳小菁多次演出三立戲劇「戲說台灣」，有「戲說一姐」的封號，她近期演出三立戲劇「炮仔聲」中的壞女人，知名度大增。李姓記者2016年在周刊王以標題「承接鉅額家產拒付3000生活費」、「三立細說一姐陳曉菁被控棄養公公」等，報導陳小菁和丈夫分家產後棄養公公，另指陳小菁曾是丈夫二哥女友，還介入丈夫與前妻婚姻。陳小菁認為被有心人爆料，且記者未經查證報導不實，一狀告上法院。刑事判決指出，因鐘和陳的丈夫有金錢糾紛，想要施加壓力，才會向周刊記者爆料，但李身為記者有義務查證，卻為衝刺周刊銷售量，只憑鐘的片面陳述就撰寫報導，因此判鐘、李各拘役50日，案件仍在高院審理中。民事部分，陳小菁向鐘、李連帶求償1000萬元並要求登報道歉，台北地院今開庭，陳的律師指出，周刊報導已經嚴重傷害陳小菁的名譽權，但若李願意在刑事部分改口認罪，雙方有和解可能；鐘則另涉恐嚇罪嫌，因此沒有和解可能。'}\n",
      "{'title': '自閉兒搭機鬧 全機包容', 'url': 'https://udn.com/news/story/6813/4023369', 'class': '全球', 'date': '09-02 03:37', 'description': '左圖為布雷森躺在機艙走道，右圖為空姐留字條給布瑞爾打氣。（臉書照片） 分享   facebook     布雷森擋道，空服員不以為忤。（臉書照片） 分享   facebook     近年來聯合航空（UA）老是傳出負面消息，如今總算被一名德州婦人「扳回一城」。她們全家搭機從南加州飛回休士頓途中，有自閉症的四歲兒子鬧情緒全程不安分，包括踢椅子與躺在機艙走道。但機組人員發揮最大耐心照顧他，就連其他旅客也充分包容。婦人感動在心，回家後在臉書發表照片與感謝文，稱頌人間有溫暖。這件事情發生在8月6日，但媒體8月27日才廣泛報導。布瑞爾（Lori Gabriel）家住休士頓郊外絲柏（Cypress ）社區，前往加州度假。當天從聖地牙哥搭聯航飛返休士頓，一行人還包括男友、男友雙親、九歲女兒與兒子布雷森（Braysen）。布瑞爾說，兒子雖有自閉症，但很愛坐飛機，之前都沒出過大問題。然而當天上飛機前，布雷森就顯得坐立不安。他們優先上機，準備起飛時布雷森開始鬧情緒。他解開安全帶，堅持要坐在地上。布瑞爾與男友費九牛二虎之力，把布雷森拉回座位重新綁上安全帶。布瑞爾說，兒子這時拚命反抗，又踢又叫，還打媽媽並抓她頭髮。一名空姐過來警告，小孩不安靜飛機無法起飛。布瑞爾告訴她，兒子有自閉症，請多給她們一點時間。空姐走開後，帶另兩名空姐回來，問布瑞爾有什麼可幫忙的？大夥商量後，空姐允許布雷森在起飛期間坐在媽媽大腿上，由爸爸壓住布雷森。飛機升空後，安全帶燈熄滅。布雷森繼續大叫反抗，布瑞爾只好放他下來。空姐讓布雷森坐在走道，後來更讓他蓋著毛毯躺下。布瑞爾說，當布雷森興奮過度時，機艙地板的震動可安撫他的情緒，他還喜歡故意踢地板去感受震動。結果一不小心踢到隔走道一位婦人的腳，這位婦人表示沒關係，態度非常友好。布瑞爾當時不知道，其實這位婦人也是空姐，當時不在上班，只做旅客，而且她有自閉症的親友。布瑞爾說，布雷森在經濟艙玩夠，居然跑去頭等艙鬧。他在頭等艙玩得不亦樂乎，並猛踢一名男旅客的座椅。布瑞爾向男旅客道歉，他表示完全沒關係。他還向布雷森自我介紹，並與布雷森擊掌。頭等艙其他旅客也對布雷森很「奈斯」，問他叫什麼名字，向他秀手機照片，隨便他坐在哪裡。讓布瑞爾十分感動的是，空服員經常來問布瑞爾需要什麼。當他們推車送餐飲時，會配合布雷森的擋路繞道而行。當布瑞爾一行準備下機時，意外獲得那位便衣空姐擁抱，還塞給她一個字條。對方親筆寫說，永遠不要認為兒子為別人帶來不便。他是上帝的祝福，不是負擔。「上帝祝福妳的耐心、愛心、支持與力量，繼續做個女超人。」布瑞爾看了眼淚快掉下來。'}\n",
      "{'title': '獨家解析》4個關鍵時點，看郭台銘總統路4部曲攻略：獨選？大藍？小藍？棄保？', 'url': 'https://udn.com/news/story/12702/4023480', 'class': '要聞', 'date': '09-02 10:10', 'description': '2020總統大選可能出現韓國瑜(左起)、郭台銘、蔡英文三腳督的狀況。圖／本報系資料照片 分享   facebook     鴻海集團創辦人郭台銘投入2020大選的情勢越來越成熟，但將用何種形式投入？他下決策的每一步棋，都牽動參與這場大選棋局者，該如何推敲出各自的下一步棋。未來4個月，郭董想進取總統大位，有攻略4部曲：獨立參選搶中間、大藍天團結式、小藍天結盟式，以及進入大選白熱化最後階段時，能否成為棄保效應最終得利者。第1部曲，獨立參選，此階段的觀察截止日是登記連署的最後期限：9月17日。在國民黨揚言一旦郭台銘參選就開除其黨籍的情況下，郭若選擇獨立參選人身分，等同正式宣告他未來的競選路線，將是非藍、非綠，專攻「第三勢力」的新路線。若想勝選，郭台銘得想盡辦法在藍、綠目前各約3成的穩固基本盤之外，將中間選票極大化。這是過去歷任總統大選中，不曾成功的模式。但因有台北市長柯文哲加持，或許讓郭柯結盟，有一搏致勝的機會。不過，既然過去不曾有人挑戰成功，風險自然相對高。戰國策傳播集團董事長吳春城分析，目前郭台銘支持度高，是因為有部分藍營支持者撐底，但當他選擇脫黨後，「他在國民黨群眾眼中的（參選）正當性就會下降」，這也牽動資源、人脈的變化：例如檯面上支持他的藍營組織、立委，可能因得遵守國民黨「家法」而選邊站或地下化，原先藍營的支持者，也可能因為質疑郭不夠「正統藍」而離開。為了補足這些缺口，郭台銘勢必得更往柯文哲的台灣民眾黨靠攏。但，白色力量共主柯文哲網路人氣高、口才便給，恐怕會讓原本郭營打著「藍天+白雲」的盤算未必能盡如人意，最後甚至落得白雲遮滿藍天的下場，鋒頭盡被柯Ｐ吃盡。若郭不想受制於柯文哲，還有第2部曲的攻略，即打出「大藍天團結式」。這個階段的明朗化會落在10月份。所謂大藍天團結式，就是郭放棄獨立參選，等待目前民調聲望一路下滑的高雄市長韓國瑜能自動退位，「韓下郭上」。這需要一場泛藍山頭大會來協調，觀察時間點是今年10月國民黨全代會召開前夕，端看國民黨內部能否和諧完成換血程序。吳春城認為，若走此程序，泛藍將可換取最大利益：藍軍團結、立委全上，還可能取得總統寶座。只不過，這個如意算盤操之在韓，畢竟，當初被眾星拱月、黃袍加身的韓國瑜能否說退就退？鋼鐵韓粉能否接受？黨內又有誰敢出頭做調和鼎鼐的推手？即便大藍天團結不成，郭董還有第3部曲「小藍天結盟式」可期待。此階段觀察截止期，在總統參選人最後登記日，即11月22日前。此時新登場的關鍵人物，是親民黨主席宋楚瑜。「如果前面都不成功，那就剩下宋楚瑜握有（讓郭台銘）進入總統大選的門票了！」吳春城分析，若郭台銘當不成大藍天路線的舉旗者，仍可與小藍結盟拉出另一條論述路線。不論郭採何種模式參選，都會進入第4部曲，觀察時序在總統大選最火熱的12月。若郭董在「三腳督」(台語，意似三足鼎立)情勢下，能夠力保自己不會「吊車尾」，那過去三腳督時，選民自動棄保的效應就會浮現。只不過，這股效應，郭董能沾得多少好處，與他前面3階段的關鍵抉擇有關。吳春城分析，若郭董與柯陣營結盟，以獨立身分參選，向「白色」靠攏，則泛藍支持者「棄韓保郭」的程度就可能較小。其次，若郭董與小藍結盟，與泛藍支持者維持一定黏著度，則泛藍支持者在最後關頭，為了不讓民進黨勝選，「棄韓投郭」的機會可能就相對高。即便最後關頭，郭台銘落得第3名，只要在適當時機轉而自動棄選，支持韓國瑜，郭董都還能在下台前留下一個漂亮的轉身，不必背負藍營攪局罪人的罵名。綜上所述，郭台銘算盤若撥得精，2020大棋局結帳時，他都能穩賺不賠了。※本文由商業.com授權刊載，未經同意禁止轉載。'}\n",
      "{'title': '她追她不成竟惡整 天天叫20杯珍奶20個便當到公司', 'url': 'https://udn.com/news/story/7321/4023747', 'class': '社會', 'date': '09-02 11:59', 'description': '高雄連姓女子疑對前同事林姓女子有好感，但邀約一起出國遭拒後，竟涉嫌每天叫20杯珍珠奶茶跟20個雞腿便當到對方公司，還傳上百封訊息恐騷擾，林女回撥電話號碼聽到連女聲音，憤而對她提告。高雄地院審理認為，連女傳的簡訊多次提及要公布個資，使林女心生畏懼，依犯恐嚇危害安全罪判5月徒刑，得易科罰金15萬，可上訴。判決指出，連姓女子2014年8月間和林女都任職建設公司，對林女心生好感，2015年2月邀約同遊香港，不料卻遭拒絕，連女轉為不滿，2017年11月起至隔年8月，共傳139封簡訊。林女控訴，兩人原本是建設公司的同事，一起去台中受訓約1個月，之後連女離職轉行當仲介，仍然有聯絡，不過2014年11月時，連女邀約去高雄參觀旅展，「途中她有牽我的手，而且是十指緊扣，我覺得很奇怪，就把手抽開」，之後連女又約去香港玩，林女無法請假，但再隔1周林女與同事去苗栗玩在臉書打卡，就開始有人以電話及信件騷擾。林女說，「半夜電話一直響，接起來就掛掉，公司每天都收到20杯珍珠奶茶跟20個雞腿便當」，且便當都沒付錢害店家很生氣；而林女電話也收到大量騷擾訊息、也常有人打電話騷擾林女及其他同事，某次林女拿同事電話回撥騷擾電話，聽到連女聲音，才得知是連女所做。連女辯稱並沒使用過騷擾電話的門號，不過法官查出，該門號的基地台確實在連女住處附近，認定是連女所做，考量林女表示感到非常害怕、上班都心神不寧、內分泌失調等，依犯恐嚇危害安全罪判刑5月。高雄連姓女子疑似追求前同事林女不成，涉嫌每天叫20杯珍珠奶茶跟20個雞腿便當到對方公司，還打電話、傳訊息騷擾。圖與本案無關。圖／本報資料照 分享   facebook     '}\n",
      "{'title': '麵包王國創辦人豪宅淪為法拍屋 第三拍7508萬有望定拍', 'url': 'https://udn.com/news/story/7321/4024834', 'class': '社會', 'date': '09-02 21:29', 'description': '鄉林陽明。聯合報系資料照片／記者蘇健忠攝影 分享   facebook     屋齡9年的北市士林區豪宅「鄉林陽明」驚傳有法拍屋，明天下午將在士林地方法院民事庭舉行第三拍，拍賣價格從第一拍的1億多元，至第三拍底價7508萬元，豪宅屋主是已離世的五星主廚雷東隆，其繼承人因無力償還債務，豪宅淪為法拍屋。台商獨資企業，安德魯森食品集團創辦人雷東隆，是台灣的五星主廚，熱愛烘焙的他靠著麵包打天下，1996年移居到中國大陸，開拓麵包王國，全盛時期有250家分店、3500名員工。據悉，雷東隆在4年前，把士林區基河路396巷的2戶鄉林陽明豪宅，抵押給中國信託銀行，分別貸款數千萬元，但他在2015年心臟病突然過世，繼承人繼承名下財產，但卻無力清償龐大的利息和債務，今年中國信託銀行申請法院拍賣2戶豪宅。位在6樓2戶打通的豪宅，坪數為164.06坪，第一拍拍賣底價1億1千7百多萬元，第二拍底價9384萬元，均流標。第三拍拍賣底價7508萬元，價格落差4千多萬元，需繳保證金1502萬。明天下午2點半，將在士林地方法院進行第三拍，知情人士分析，因價格自首拍至3拍「價格直直落」，順利定拍機率非常高。安德魯森食品集團已故董事長雷東隆，是知名五星主廚，後來移居大陸，開創250家分店麵包王國。圖／安德魯森提供 分享   facebook     安德魯森集團在台灣門市，消費者門庭若市。照片／安德魯森集團提供 分享   facebook     '}\n",
      "{'title': '兩颱風將接力生成 周三後影響台灣天氣', 'url': 'https://udn.com/news/story/7266/4023372', 'class': '生活', 'date': '09-02 05:02', 'description': '這兩天恐有颱風先後接力生成，並在周三之後影響台灣天氣。中央氣象局表示，今明兩天各地為多雲到晴，但要留意午後雷陣雨，西半部天氣炎熱，桃園以北將出現36度高溫。周三以後太平洋高壓勢力減弱，熱帶系統將影響台灣天氣。中央氣象局表示，今天各地大多為多雲到晴的天氣，僅花東地區及恆春半島有局部短暫的陣雨或雷雨，午後中南部地區及北部、宜蘭山區有局部短暫雷陣雨；溫度方面，西半部及東北部天氣炎熱，高溫約33至35度，其中桃園以北有36度左右高溫出現的機率，花東高溫約32度左右，請注意防曬並多補充水分。明天各地也多為多雲到晴的天氣，西半部高溫悶熱，僅花東地區及恆春半島有局部短暫陣雨或雷雨，午後中南部地區及北部、宜蘭山區留意局部短暫雷陣雨。氣象局提醒，菲律賓東方海面有一低壓系統，未來有機會發展為熱帶性低氣壓甚至成颱，周三隨著太平洋高壓東退，熱帶系統將沿著太平洋高壓西南側往北移動，影響台灣天氣。另外，南海熱帶性低氣壓也有發展為輕度颱風機率，朝海南島方向移動，對台灣天氣較無直接影響。今天各地為多雲到晴，局部地區高溫炎熱。圖／取自中央氣象局網站 分享   facebook     '}\n",
      "{'title': '蔡賴配有譜了？陳菊在大阪首度鬆口', 'url': 'https://udn.com/news/story/12702/4024339', 'class': '要聞', 'date': '09-02 16:15', 'description': '民進黨不少基層盼蔡賴配成型，但始終未見民進黨高層有所動作，台南市長黃偉哲昨天表示他相信最後蔡賴兩邊會有密集而且很實際溝通，至於配不配或其他方式，這個部分他沒有辦法揣測；不過，據自由時報報導，總統府秘書長陳菊前天在日本大阪首度鬆口希望大家促成「蔡賴配」。 \\xa0 \\xa0\\u3000自由時報報導指出，陳菊日前代表蔡英文總統出席日本海外蔡英文後援會成立大會，陳菊在會中致詞策口在場台僑表示，很多海外鄉親都關心賴清德，她和大家一樣，認為優秀人才不要孤單，要支持他和蔡總統一起合作，希望在2020年大選蔡賴合作能夠成功。不過，陳菊昨天轉往東京，她在成立大會致詞時未再提到蔡賴配之事。總統府秘書長陳菊。本報資料照片 分享   facebook     '}\n",
      "{'title': '索羅門本周與中國建交？外交部：索國在檢視整體外交', 'url': 'https://udn.com/news/story/12429/4023482', 'class': '要聞', 'date': '09-02 10:01', 'description': '外交部發言人歐江安表示，有關報載索羅門群島政府將於本週作出是否外交轉向的決定，根據外交部掌握的資訊，索國政府在進行評估時，同時也參考跨黨派小組的報告，以及其他政府部門的專業意見，做整體性的通盤考量；此外，索國政府的相關決策也必需與內閣及國會商議，因此評估小組的報告並非唯一、也非最終的決策參考依據。這是否代表索羅門正在評估與中國大陸建交？歐江安受訪時指出，索國政府是在檢視整體外交。歐江安表示，台索兩國近期互動正常，索國國會議長於八月初率議員團來台參加「亞太國會議員聯合會」（APPU)，蘇嘉瓦瑞(Sogavare)總理於八月中與外交部長吳釗燮在「太平洋島國論壇」(PlF)會晤，兩國外長並簽署互免簽證協定。此外，索國前總理何瑞朗(Rick Hou)與15位議員（含13位部長）曾在媒體公開發表支持台索邦誼聲明，代表索國政壇友我力量深厚。另外，我國青年大使及運動場館工程團隊現也在索京訪問考察中，此均證明台索兩國合作順利溝通無礙。蔡英文總統(左）2017年9月在國家表演藝術中心兩廳院藝文廣場，以軍禮歡迎當時的索羅門群島總理蘇嘉瓦瑞（右）伉儷及來訪官員。本報資料照片 分享   facebook     '}\n",
      "{'title': '唐綺陽星座運勢週報：射手留意職場戀情 獅子當心破財', 'url': 'https://udn.com/news/story/7268/4023380', 'class': '生活', 'date': '09-02 07:17', 'description': '星座專家唐綺陽。 大慕影藝提供 分享   facebook      重要星象：日、水、金、火皆在處女座，四星逆行中，火海對分相，處女星群、冥王三分相 本周太陽、水星、金星、火星皆在處女座，關注健康、細節、完美主義…等相關議題，對於認真專業、自我要求高者，會有斐然的成績出現。處女座備受矚目，應思考下一階段的發揮，討論工作的看法及流程。四星逆行中，容易使人懷舊、反省過往，從過去錯誤中找出最佳的應對方法，重新思考、改進工作的處理流程，將會對企業有好的影響。火、海對分相，有利於藝文活動的發展。處女星群、冥王三分相，是企業自省、審視體質，重新訂定規章的好時機。  處女：把握創新的機會，用新的思維角度去處理天秤：遇到許多貴人，會難以選擇魔羯：掌握工作上的主導性水瓶：工作上有翻案的機會  白羊：別太含蓄或疏忽對方的心情巨蟹：小心失控、避免情緒化，應多溝通天蠍：做自己，展現自我會受到歡迎射手：要留意職場戀情的機會  雙子：重新審視理財狀況，會有新的想法獅子：購物慾旺盛，當心破財  金牛：當心壞習慣與小疏忽，拖累健康戰鬥力雙魚：注意消化系統或宿醉問題周運影片連結：唐綺陽官方專屬頻道 '}\n",
      "{'title': '金鶯球員教練互嗆 不復陳偉殷當家時代高向心力', 'url': 'https://udn.com/news/story/6999/4022989', 'class': '運動', 'date': '09-02 07:00', 'description': '金鶯又輸球了。當然，對這隻去年勝率只有.290，以115敗追平史上敗場第五多、本季目前勝率也只有.333的超級大爛隊來說，輸球根本算不上是什麼新聞。之所以特別提出來，是因為金鶯在被同區「勁敵」洋基狂轟濫炸創紀錄的61發全壘打（平均每場轟出3.2支）後，昨天面對勝率只有.350、幾乎跟他們一樣爛的皇家時，竟又慘遭皇家打者連續三次犧牲短打的「小球戰術」修理而輸球。如今的金鶯，真有如當年率洋基締造五連霸，卻也曾在執教大都會時留下單季120敗不名譽紀錄的傳奇總教頭史丹格（Casey Stengel）所說的：「這隻球隊讓我見識到各種我連想都沒想過的輸球方式。」美國人常說當球隊贏球不止時，不論教練球員彼此之間往往氣氛融洽，無形的化學效應（chemistry）好似完美無缺。反之一旦陷入連敗，人人都忙於從自家球隊中找出「戰犯」，而非扭轉局勢的贏球方法。常敗軍金鶯正是現身說法的最新案例。在上個月短短三週內，金鶯就兩度爆發教練與球員互嗆甚至差點大打出手的休息室風波。先是菜鳥總教練海德（Brandon Hyde）在被洋基以14:2血洗的比賽中不知說了些什麼，觸動全隊最貴卻也最廢的「鋸砲」戴維斯（Chris Davis）「纖細」的神經，激得這位最近兩季打擊率都遠低於190身高的大塊頭暴衝，幸而被隊友及時拉開才免於一場「以下犯上」的鬧劇。緊接著在上週作客華盛頓的比賽中，本季防禦率高達6.30的牛棚老將布萊爾（Richard Bleier）又疑似不滿隊友在他投球時的守備站位，被轟下場後當場跟負責決定站位的三壘教練弗洛瑞斯（Jose David Flores）大小聲起來。金鶯教練團跟球員間的相處明顯是出了問題，在戰績越來越低迷的情況下形成惡性循環。 美聯社 分享   facebook     親眼目睹這兩季悽慘情狀跟這兩樁休息區「完美風暴」的金鶯自家球迷如今應該頗有「眼看他起高樓，眼看他樓塌了」的感觸。就在兩年多前，金鶯還曾在前任總教頭蕭瓦特（Buck Showalter）及明星球員馬恰多（Manny Machado）帶領下挺進季後賽。時隔不到五年的2014年球季，金鶯更是意氣風發地以96勝將洋基跟紅襪都踩在腳下，贏回睽違17年的美聯東區冠軍。以專治爛隊著稱的鐵血教頭蕭瓦特在2011年接下前一季只有66勝的金鶯這個爛攤子，只花短短兩年的時間就將戰績提升到93勝。他跟知名GM杜奎特（Dan Duquette）齊心協力，將金鶯打造成一隻人才濟濟的球隊，並且在五年之內三度進入季後賽。除了馬恰多在他們任內從菜鳥一躍而為MVP等級的球星外，戴維斯在三年內勇奪兩座全壘打王；先發轉終結者的伸卡球大師布里頓（Zack Britton）則以破紀錄的0.54防禦率拿下最多救援。同時間杜奎特找來的許多球員也都在金鶯大放異彩。像是老而彌堅的現役最強DH克魯茲（Nelson Cruz）跟水手棄將川波（Mark Trumbo）在加入金鶯後各自贏得一座全壘打王；去年轉戰紅襪拿下世界大賽最有價值球員的皮爾斯（Steve Pearce）也在金鶯締造生涯最高的.930 OPS及5.9 WAR。金鶯牛棚在前幾年還相當堅強，但現在卻是一堆球迷叫不出名字的球員，難怪團隊防禦率5.77是全大聯盟最差。 美聯社 分享   facebook     至於投手方面，杜奎特最值得一提的得意之作不是別人，正是來自台灣的陳偉殷。簽下陳偉殷對金鶯來說意義十分重大，不僅因為他是金鶯有史以來簽下的的第一位台灣球員，而且陳偉殷也在披上金鶯球衣的四年時間內不斷進步，在2015年迎來他球員生涯巔峰的一年。那一季他的防禦率3.34在美聯高居第七，WAR 2.8也排名第14，十足是金鶯的王牌。持續重用陳偉殷的總教頭蕭瓦特更因為多次公開強調這位子弟兵來自台灣，被許多國內球迷視為真正的「台灣之友」。陳偉殷過去在金鶯4季之中有3季是拿下兩位數以上的勝場，與隊友提爾曼、岡薩雷茲等投手撐住了金鶯的戰績，團隊士氣一直都很不錯，跟洋基和紅襪激烈拚鬥。 歐新社資料照片 分享   facebook     杜奎特與蕭瓦特聯手成功將金鶯打造成一隻能與洋基、紅襪相抗衡的勁旅，許多過去在其他隊不得意的球員像是前述的布萊爾、川波及皮爾斯，都在兩人的帶領及改造下成為這隻強隊的要角。而隊上的諸多明星球員，即便是生性桀傲不遜的前金鶯中外野手瓊斯（Adam Jones），也都給予治軍嚴格的蕭瓦特極高評價。然而人無千日好，花無百日紅，在洋基、紅襪相繼重新振作後，金鶯並未適時培養出未來的接班球員，在原有班底隨著年歲增長而表現衰退或投身自由球員市場後，金鶯立刻陷入青黃不接的窘境。在克魯茲、陳偉殷成為自由球員一一求去後，仍在2016年奮力拿下一張外卡的金鶯其實已是強弩之末，很快地就在隔年敗象畢露，杜奎特及蕭瓦特也才因此在去年球季結束後下台一鞠躬。金鶯在大量好手離去之後，目前正進入漫長的黑暗重建期，不知何時才能見到黎明。 美聯社 分享   facebook     在杜奎特及蕭瓦特離去後，金鶯老闆痛感自家球隊不論在球探、數據分析及球員訓練等各方面都已大幅落後。這才痛定思痛，在去年冬天從近年來重建最為成功的太空人高層找來年僅35歲的年輕新GM艾里亞斯（Mike Elias），企圖打造出另一隻浴火重生的太空人。艾里亞斯最近更大刀闊斧，一口氣砍掉金鶯原有的多位球探主管，企圖引進擁有新觀念的人馬加速重建步伐。然而積重難返的金鶯跟當年幾乎等於從零開始的太空人不同，猶有許多「前朝餘孽」待清。其中最大的包袱不是別人，正是當年因深受老闆喜愛而被獨斷重金簽下，如今讓他出賽反倒對球隊造成傷害的戴維斯。尤其新任GM跟教練講究靠新式訓練、戰術及數據分析取勝，在在都與隊中老將既有想法相扞格，想在短時間內重建成功簡直難如登天。金鶯一壘手戴維斯(中)本季打擊表現跟上季一樣低迷，但脾氣卻越來越火爆，球團方面卻是無可奈何。 美聯社 分享   facebook     在2015年拿下世界大賽冠軍後跟金鶯一樣迅即由盛轉衰的皇家最近傳出大老闆葛雷斯（David Glass）已同意出售球隊，結束長達26年經營的消息。由於金鶯老老闆安傑洛斯（Pete Angelos）年事已高又健康狀況不佳，近年來也不斷有著出售球隊的傳聞，甚至傳出新老闆可能帶金鶯出走巴爾的摩、轉戰納許維爾的小道消息。跟葛雷斯一樣在1993年買下大聯盟球隊的安傑洛斯一生最大遺憾，恐怕就是未能在入主金鶯的有生之年看到這隻擁有百年歷史的球隊重返榮耀拿下另一座冠軍。去年新官上任的GM艾里亞斯及總教練海德未來能否在風雨飄搖之際，再次像當年杜奎特與蕭瓦特一樣成功幫助球隊重建，甚且可能成為金鶯能否繼續立足巴爾的摩的重大關鍵。'}\n",
      "{'title': '違法兼職案處申誡確定 管中閔在臉書留下32字', 'url': 'https://udn.com/news/story/120604/4024275', 'class': '文教', 'date': '09-02 15:47', 'description': '台大校長遴選案延燒500多日，管中閔在時任教育部長葉俊榮「勉予同意」後，於今年1月8日接任台大校長。未料，監察院隨即在一周後（1月15日）通過彈劾案，控管中閔在2012至2015年擔任公職期間，長期匿名替媒體寫社論，屬違法兼職。公懲會今天下午判決管中閔申誡處分確定。管中閔也在臉書表示，「白晝如黑夜」，並引述詩人陳子昂的五言律詩「宴胡楚真禁所」，表示「人生固有命，天道信無言。青蠅一相點，白璧遂成冤。」管中閔也在臉書寫下32字，「白晝如黑夜，讀書見陳子昂詩。人生固有命，天道信無言。青蠅一相點，白璧遂成冤。」 分享   facebook     公懲會今天下午判決管中閔申誡處分確定。報系資料照 分享   facebook     domready(function() {if ( !countDownStatus ) getCountdown();if ( !highChartsStatus ) getHighcharts();});domready(function() {var channelId = 2;var actArea = \"poll_at_story_0_v704\";var actCode = \"v704\";var actTemplate = \"bar2\";var elemDiv = document.createElement(\\'div\\');elemDiv.id = actArea;elemDiv.className =\\'vote_body area\\';var scr = document.getElementById(actArea+\\'_script\\');scr.parentNode.insertBefore(elemDiv, scr);$.getScript(\\'/funcap/actIndex.jsp?actCode=\\' + actCode + \\'&channelId=\\' + channelId , function() {actTemplate = eval(\\'objAct_\\' + actCode + \\'.d1.actTemplate\\');$.ajaxSetup({ cache: true });$.getScript(\\'/func/js/\\' + actTemplate + \\'_min.js?2019082101\\', function() {$.ajaxSetup({ cache: false });piepkg();loadTemplateJs(actTemplate);eval(actTemplate + \\'view(\"\\' + \\'#\\' + actArea + \\'\");\\')})});});'}\n",
      "{'title': 'U18世青賽／比賽5局因雨裁定 中華3：1勝日本', 'url': 'https://udn.com/news/story/12960/4024399', 'class': '運動', 'date': '09-02 20:08', 'description': '羅暐捷在5局下揮出2分打點安打，幫中華隊打下領先。記者葉姵妤／攝影 分享   facebook     日本首局就掌握得點圈機會，靠著保送、盜壘與2出局後的適時安打，先馳得點取得1：0領先。中華隊前2局各有1安，不過都未能得分，第三局掌握住機會，靠著2支安打攻占一、三壘，1出局輪由鄭宗哲打擊，中華隊雙盜壘戰術成功，日本策動夾殺卻發生隱形失誤，不但何恆佑躲過夾殺回到一壘，三壘的王順和趁機跑回追平分，雙方戰成平手。中華隊攻勢再起，日本單局罕見發生2次失誤，1出局後攻佔上二、三壘得點圈；鄭宗哲雖然遭到三振，三棒的羅暐捷把適時打出左外野二壘安打，掃回2分打點助中華隊超前。四棒李灝宇遭故意保送形成一、二壘有人，日本此時換投為西純矢，三振林子豪結束中華隊攻勢，前五局中華隊以3：1領先日本。五局打完現場下起大雨，比賽因雨順延，經等待近一小時後，比賽因雨裁定，中華隊打完五局以3：1擊敗日本。中華隊備戰「台日大戰」。記者葉姵妤／攝影 分享   facebook     在南韓釜山舉行的U18世青賽進入預賽第4天，因機張當地一早下大雨，今天前4場比賽都因雨延至4日休兵日進行，而雨勢下午趨緩，中華隊在台灣時間晚間5點與日本隊的交手，暫定準時開打，將上演王彥程與宮城大彌的「左投對決」。中華隊在預賽前3戰取得2勝1敗，日本隊則是3連勝，想晉級複賽機會都不小，今天正面對決，中華隊推出去年亞青賽「抗日英雄」王彥程先發，總教練周宗志希望，他能藉由這場比賽找回自信。日本隊則非如原先外界預期的推出強投奧川恭伸先發，而是由左投宮城大彌先發，他在昨天對上美國隊之戰，後援1局連飆3K守住勝利。周宗志也預期，日本隊今天也會如前3戰採投手車輪戰方式，還未登板的奧川恭伸也有機會在此戰亮相。儘管日本隊取得3連勝，但首戰對西班牙隊差點輸球，昨天又大勝美國，中華隊今天仍會全力搶勝，周宗志說：「雖然他們選手條件都很好，但大家比穩定性都只是高中生。」中華隊今天打線也做調整，前3戰擔任先發第2棒、中外野手的岳政華，今天被移出先發打序，將在牛棚待命登板，鄭宗哲棒次移至第2棒，昨天單場2安的羅暐捷改打第3棒、守右外野，首戰與對手相撞的林辰勳傷勢無礙，此戰先發蹲捕。大會整理場地，趕著讓比賽準時開打。記者葉姵妤／攝影 分享   facebook     人工草皮球場的一、三壘紅土區因大雨造成泥濘，大會趕著整理場地。記者葉姵妤／攝影 分享   facebook     人工草皮球場的一、三壘紅土區因大雨造成泥濘，大會趕著整理場地。記者葉姵妤／攝影 分享   facebook     '}\n",
      "{'title': '再摘黃台之瓜？謝金河：股市跌近8000點 香港累了', 'url': 'https://udn.com/news/story/7251/4024110', 'class': '股市', 'date': '09-02 14:44', 'description': '香港特首林鄭月娥日前約請一批人，討論籌建對話平台，她說「大家都累了」，問「可否坐下來談一談 」；財信傳媒董事長謝金河表示，香港各項經濟數字下滑，預計8月會進一步下滑，情況嚴重，股市跌掉近8000點，香港真的累了！謝金河指出，這個假日，大家都看到香港民眾的抗爭，香港特首林鄭月娥不斷的邀請香港有影響力的士紳共商對策，但似乎都無解。林鄭最近透過對話平台，刊出「大家都累了，對話找出最好？」語氣懇求，但也很無奈。這兩天香港公布各項數據，七月名牌精品銷售下滑24.4%，藥品化妝品跌16.3%，電器耐久財貨跌17.4%，整體零售業下滑11.4%，這是連續第6個月的下跌。在航空業，七月到港旅客519.7萬人次，減少4.8%，其中短程旅客少6%，其中台灣旅客少11.8%，南韓少20.9%，影響最大。長途旅客少4.4%，其中澳洲少11.8%，法國少6.9%，比較顯著。還有一個值得注意的是，香港出口連9個月衰退，七月出口跌5.7%，其中對美國出口下滑10.3%，全年出口預計下跌逾9%，預計這個情勢在8月會進一步下滑。受到衝擊的香港股市，從最高點跌下來，已經跌了近8000點，這段期間，香港本地財團股都跌得很慘，像李嘉誠的長和集團從108.9跌到64.3港元，恆隆從35.9跌到18.62港元，李兆基的恆基地產從56跌到35.5港元，新鴻基地產從142跌到105港元，可以想見香港本地財團受到了衝擊有多大。香港的抗爭愈來愈充滿火藥味，當川普出面警告解放軍在邊境集結，李嘉誠刊登「黃台之瓜，何堪再摘？」都可以看出香港正處於緊繃狀態，下一代會如何？牽動世局的敏感神經！財信傳媒董事長謝金河。取自臉書 分享   facebook     》自營商進出明細&nbsp\\xa0》外資持股增減排行》即時選股找重點&nbsp\\xa0》漲跌幅即時排行'}\n",
      "{'title': '香港反送中升溫 柯文哲：繼續下去最後一定六四結束', 'url': 'https://udn.com/news/story/120538/4023680', 'class': '兩岸', 'date': '09-02 11:42', 'description': '香港「反送中」持續升溫，警民衝突不斷，台北市長柯文哲今天上午受訪時表示，香港在這樣一直下去，實在是糟糕，留下一個民主自由的台灣，對中國大陸不是壞事，至少可以參考民主化過程；他提到，北京政府應該靜下心來想一想，「若這樣繼續下去，最後一定六四（事件）結束」，若六四事件一下去，中國大陸經濟一定倒退20年。柯文哲今天上午受訪時，被問到香港流血鎮壓，他表示，香港在這樣一直下去，實在是糟糕，留下一個民主自由的台灣，對中國大陸不是壞事，至少可以參考，同樣華人世界，怎走過民主化過程。柯文哲又說，當然台灣今天民主化，有人說立法院丟水球很好笑，但台灣民主化才30年，無法跟瑞士、瑞典那種民主化300年的國家比，但若以時間計算，台灣民主化還算成功，以後將來要寫前總統李登輝歷史貢獻，台灣能夠和平轉民主化，從蔣經國到李登輝都有其貢獻。柯文哲表示，中國大陸處理香港，他是建議參考台灣歷史，還是那句話，不解決民怨，一直怪CIA（美國中央情報局）、台獨跟港獨合作等，但你丟一根火柴，沒有汽油還是燒不起來，還是要誠懇去面對香港人民為何這麼不滿的根本問題。柯文哲指出，北京政府應該靜下心來想一想，「若這樣繼續下去，最後一定六四（事件）結束」，若六四事件一下去，中國大陸經濟一定倒退20年，因為西方國家還找不到理由制裁你，結果自己送上門來，到時美國要求歐美國家表態，在這大帽子之下誰敢不表態，一定是經濟抵制，這才是大陸危機，真的要想一下。香港「反送中」越演越烈，台北市長柯文哲今天上午受訪時表示，香港在這樣一直下去，實在是糟糕，留下一個民主自由的台灣，對中國大陸不是壞事，至少可以參考。記者張世杰／攝影 分享   facebook     '}\n",
      "{'title': '鴻海財務網路四大謠言 懶人包一次破解', 'url': 'https://udn.com/news/story/7240/4023521', 'class': '產經', 'date': '09-02 10:48', 'description': '圖為位於新北市土城區的鴻海集團總部。 報系資料照 分享   facebook     近期鴻海遭遇網路四大謠言攻擊，主要是針對鴻海公司財務狀況提出質疑，而本報記者取得熟知鴻海營運的熱心科技業人士提供破解網路鴻海財務迷思的懶人包，給各位投資人參考如下：A：攤開財報來算，鴻海第一季淨現金2495億以及第二季淨現金2398億，這個數字是把現金定存、理財商品全部變現，並償還銀行借款及公司債之後，還剩下來的現金，還有兩千多億！對於金融業來說，絕對不會希望公司把這些借款以及公司債還掉，鴻海的信用評等A-穩定，對金融業來說，是非常好的貸放目標。甚至還希望鴻海能跟他們借越多越好！對股東來說，他們也會希望公司能利用低利率的有利條件來作靈活的營運，以創造更多的股東權益。A：鴻海負債總額看起來很高，主要是因為公司規模大，所以相對的數字也高，但若仔細看「負債比例」卻是同類型下游電子代工產業中的優等生。我們從公開資訊觀測站中調出資料來看，以今年第一季與第二季為例，鴻海在下游電子代工產業中負債占資產比例都是最低的。 經濟日報提供 分享   facebook     A：檢視財務不能只看單一指標，不能單看負債！財務報表中有「資產負債表」就是要同時看資產與負債這兩項數據！如果以償債能力來評論，最基本的就是看流動資產以及流動負債的對比，也就是流動比例，流動比例越高代表流動資產越高、償債能力越好，第一季鴻海流動比例174%，更遠遠勝於其他電子同業。數字會說話，以證交所提供的資料來看，可以很明顯看出差異：經濟日報提供 分享   facebook     A：由於鴻海是全球佈局，向各國供應商採購生產料件，所以付款對象並非全數為台灣廠商，而只要做生意買東西就會有應付帳款，若是只針對應付帳款的數字做文章，其實並不正確且不公平。因為公司是持續營運的，在結清前一筆應付帳款的同時，隨著新的產能、產品開出就會有新的應付帳款產生，而作為全球第23大也是全台第一大民營企業，鴻海營運規模大，一些數字看起來大也是必然的。》自營商進出明細&nbsp\\xa0》外資持股增減排行》即時選股找重點&nbsp\\xa0》漲跌幅即時排行'}\n",
      "{'title': '又是新莊！4天前少女遭霸凌 今天又出現少年被害', 'url': 'https://udn.com/news/story/7320/4024651', 'class': '社會', 'date': '09-02 19:22', 'description': '新北市新莊區4天前才剛發生14歲少女遭朋友狂甩巴掌集體霸凌事件，未料今天又有1段霸凌影片被貼上臉書社團，員警調查發現同樣發生在新莊區，某國中畢業生被至少三名青少年罰跪，並猛然朝他肚子踹下，接著還連續摑掌，警方已主動介入調查。據了解，日前新莊區發生少女遭霸凌事件後，網路上即出現文章指稱新莊、三重、蘆洲地區常見流氓聚集，很多校園學童也跟著受到影響，導致許多家長為了孩子的教育問題，不願在重新地區買房子。結果今天臉書社團「我是新莊人」和「爆料公社」又先後貼出另1段少年遭霸凌影片。畫面中可見少年穿著滿是同學簽名的學校運動服，被三名青少年圍著罰跪在戶外像是公園的場所，這群青少年對他猛踹、連續摑掌，嗆聲警告：「再讓我聽見你玩弄誰的感情，會死得很難看。」被害少年痛到抱著肚子蹲地，不斷被威脅大聲說出：「對不起！」警方網路巡邏發現影片後主動調查，透過校方證實是某國中應屆畢業生，推測發生時間應在6月畢業典禮前後，已循線聯繫上家長，家長表示不知有此事，且孩子升上高中已經開學，須等到放學返家才能問清事由，但家長並不太願意警察介入。新莊警分局表示，將等被害學生放學後，再嘗試深入了解整起霸凌事件，依法辦理。'}\n",
      "{'title': '「換韓」傳聞不斷 柯文哲：很難、慶幸我不是國民黨', 'url': 'https://udn.com/news/story/12702/4023598', 'class': '要聞', 'date': '09-02 11:09', 'description': '2020總統大選升溫，國民黨總統參選人、高雄市長韓國瑜風波不斷，加上以鴻海集團創辦人郭台銘為首的「郭柯王」結盟聲浪，國民黨陷入分裂窘境，「換韓」傳聞甚囂塵上；對此，台北市長柯文哲今天上午受訪表示，他慶幸自己不是國民黨，不用煩惱這個，並認為現在「換韓」還是很難，但也凸顯國民黨、民進黨初選極其荒謬。柯文哲曾形容「換韓」是慧星撞地球，今天被問到韓國瑜民調下滑，是否可能發生「換韓」？柯文哲表示，他很慶幸自己不是國民黨，不用煩惱這個，這實在是難題，非常慶幸自己不是國民黨。媒體追問，所以現在覺得有可能「換韓」？柯文哲表示「很難啦」，並說當初國民黨初選，韓國瑜是民進黨提名的，因為大家都灌票給韓國瑜，也凸顯兩黨初選極其荒謬。柯文哲接著說，民進黨初選、藍營灌票給現任總統蔡英文，國民黨初選、綠營就大量灌票給韓國瑜，不然怎可能國民黨初選時的小英民調不到20%，台灣人民太調皮。另外，現傳出國民黨有意推出前新北市長朱立倫，促成「韓朱配」，能變「換韓」解藥？柯文哲僅回說，這他不曉得、沒意見，要去問朱立倫。媒體詢問，外傳郭台銘有意找新北市長侯友宜的二哥、高雄醫學大學附設醫院長侯明鋒擔任副手，這組合OK？柯文哲說，沒什麼問題啊，若純粹配合概念，一個霸氣總裁要有一個比較人文、醫療、關懷的人選，不要兩人都硬梆梆，至少這組合形象OK。被問到現在各陣營不停放話，會擔心跟郭的合作不穩固？柯文哲表示，合作有很多條件，大家無私、能夠分出先後次序，但這也是一次考驗，台灣能不能有表現無私態度的組合，若沒有無私態度，就不會成功。媒體也問，負責民進黨選舉操盤的行政院前副院長林錫耀提到，「有錢能使鬼推磨」意指要小心郭董；柯文哲反酸，大家去看民進黨總統大選時，各縣競選總部經費，要不要公布預算表？那才可怕。至於台北市議員陳建銘日前提到，「郭柯王」不需要前立法院長王金平，因為王已無法撼動國民黨地方派系，是否認同該說法？柯表示，其實陳的爸爸也是高雄派系大佬，這些人的發言都在出高招；媒體追問何謂高招？柯未正面回答，僅說「我私底下再跟你聊天」。台北市長柯文哲（中）上午在市府內接受媒體記者聯訪。 記者許正宏／攝影 分享   facebook     台北市長柯文哲今天上午受訪表示，他慶幸自己不是國民黨，不用煩惱這個（換韓）。記者張世杰／攝影 分享   facebook     '}\n",
      "{'title': '網軍不敢黑郭董？韓國瑜：因他有300個律師 好可怕', 'url': 'https://udn.com/news/story/120536/4024096', 'class': '要聞', 'date': '09-02 14:33', 'description': '鴻海創辦人郭台銘與國民黨總統參選人韓國瑜。報系資料照合成 分享   facebook     國民黨總統參選人、高雄市長韓國瑜今在臉書直播暢談「黑韓產業鏈」，他表示，自己一直秉持著愛與包容，不願浪費司法資源到法院提告，但網路爆料他跳樓自殺，他不得不提告，否則台灣還有法治嗎？韓國瑜談到前幾天網路指出他跳樓自殺的消息，他今現身臉書直播，強調自己還活得好好的，韓國瑜表示，1450網軍有幾萬人，靠著抹黑韓國瑜吃飽肚子、發大財甚至出名。幕僚告訴他，「黑韓不要臉，白韓要翻臉」，韓國瑜說，黑韓在媒體上不用負任何責任，但要讓韓國瑜清白的白韓受不了，要翻臉了，韓感嘆，「我們的政治越來越臭，越來越髒，成何體統」。話鋒一轉，韓國瑜提到，為什麼沒人敢黑蔡英文，因為她是總統，而且總統府動不動就提告；而為什麼也沒人敢黑鴻海創辦人郭台銘，「因為他有300個律師，好可怕！」韓國瑜又說，為什麼要黑韓？因為自己像「麻糬」，要他方就方、圓就圓，怎麼打都不會還手，因為他有愛與包容。韓國瑜解釋，自己一直不願意反擊，並不是沒有脾氣，是因為自己內心是善良的。他不願意因為政治事務到法院按鈴控告，是因為台灣的法官和檢察官是全世界壓力最大的，他們身上的案件平均有164件左右。韓說，他們都已經喘不過去，政治人物動不動就因為選舉提告，那不是給他們找麻煩嗎？domready(function() {if ( !countDownStatus ) getCountdown();if ( !highChartsStatus ) getHighcharts();});domready(function() {var channelId = 2;var actArea = \"poll_at_story_0_v703\";var actCode = \"v703\";var actTemplate = \"bar2\";var elemDiv = document.createElement(\\'div\\');elemDiv.id = actArea;elemDiv.className =\\'vote_body area\\';var scr = document.getElementById(actArea+\\'_script\\');scr.parentNode.insertBefore(elemDiv, scr);$.getScript(\\'/funcap/actIndex.jsp?actCode=\\' + actCode + \\'&channelId=\\' + channelId , function() {actTemplate = eval(\\'objAct_\\' + actCode + \\'.d1.actTemplate\\');$.ajaxSetup({ cache: true });$.getScript(\\'/func/js/\\' + actTemplate + \\'_min.js?2019082101\\', function() {$.ajaxSetup({ cache: false });piepkg();loadTemplateJs(actTemplate);eval(actTemplate + \\'view(\"\\' + \\'#\\' + actArea + \\'\");\\')})});});'}\n",
      "{'title': '濱海公路賓士車與機車對撞 騎士身亡乘客受重傷', 'url': 'https://udn.com/news/story/7320/4024740', 'class': '社會', 'date': '09-02 20:24', 'description': '台2線濱海公路新北市瑞芳區一處彎道，今日傍晚發生賓士商旅車與機車對撞車禍，陳姓騎士送醫不治，坐在機車後座的林姓男子昏迷，仍在醫院接受急救。開車的林姓男子酒測值為零，由於雙方都無行車記錄器，車禍現場也無監視器，肇事原因由警方調查中。新北市消防局下午近五點時接獲車禍救援報案電話，消防人員趕到現場時，發現陳姓騎士（19歲）頭部有明顯外傷，已無呼吸、心跳，送往瑞芳礦工醫院急救，傷重不治。同齡的林姓乘客口吐鮮血，陷入昏迷，送往基隆長庚醫院急救。車禍路段為瑞芳金石園附近彎道，陳男騎機車載林男往基隆方向行駛，林姓男子駕駛賓士商旅車往宜蘭方向行駛。陳男機車與商旅車左側車頭撞擊後人車倒地，車上兩人受重傷，機車受損嚴重。商旅車左側車頭受損，開車的林男受到驚嚇，並未受傷。據了解，這起車禍疑商旅車跨越道路中央雙黃線釀禍，但因兩車均無行車紀錄器，肇事原因仍待警方釐清。台2線濱海公路瑞芳路段今日傍晚發生賓士商旅車與機車對撞車禍，陳姓騎士送醫不治，坐在機車後座的林姓男子昏迷，肇事原因由警方調查中。記者邱瑞杰／翻攝 分享   facebook     台2線濱海公路瑞芳路段今日傍晚發生賓士商旅車與機車對撞車禍，陳姓騎士送醫不治，坐在機車後座的林姓男子昏迷，肇事原因由警方調查中。記者邱瑞杰／翻攝 分享   facebook     '}\n",
      "{'title': '學開飛機第一堂課就自己緊急迫降 原因竟是教練昏迷了', 'url': 'https://udn.com/news/story/6809/4023407', 'class': '全球', 'date': '09-02 08:13', 'description': '美聯社報導，想學開飛機的澳洲人席維斯特（Max Sylvester）報名上課，但第一堂課就碰上教練昏迷的意外，他必須自己緊急迫降。席維斯特上周六（31日）呼叫塔台說，他的教練在兩人座賽斯納（Cessna）飛機上降入昏迷不醒：「他靠在我肩頭，我很想撐住他，但他不斷往下滑。」塔台問席維斯特：「知道如何操作飛機嗎？」，他回答：「這是我的第一堂課。」接下來的62分鐘，塔台人員努力引導席維斯特降落，告訴他：「你做得很好。我知道這壓力很大，但你做得很棒，我們會幫你回到地面。」地方媒體報導席維斯特數度飛越跑道，但他最終安全降落在西澳州詹達科特機場。他的妻子和三名幼兒當時都在機場。那名澳洲航空國際飛行學校的教練被緊急送醫，病況嚴重但穩定。兩人座賽斯納（Cessna）飛機示意圖。美聯社 分享   facebook     '}\n",
      "{'title': '古裝藏著大智慧！唐朝宮女這樣解決長裙困擾', 'url': 'https://udn.com/news/story/12674/4023603', 'class': '閱讀', 'date': '09-02 12:05', 'description': '方文山推廣漢服文化不遺餘力，經常能看見他出席漢服文化周重要典禮的身影。（圖／聯合報系新聞資料庫照片） 分享   facebook     閱讀小貼士近年來因古裝劇、宮廷劇熱播，進而引起大眾對於傳統服飾認知與討論，更掀起一股漢服文化的復興運動。臺灣著名詞人，也是周杰倫御用金牌詞人方文山，自2013年開始推行「漢服文化周」，第一屆舉辦在江南六大古鎮之一的西塘古鎮，又被稱為西塘漢服節，推廣至今已堂堂走過六年，徐嬌也是漢服愛好者，經常與方文山一起出席活動推廣，使得中國其地區也有不少同袍、愛好者紛紛自發效仿，共襄盛舉，也鼓吹大家再也不用羨慕日本的和服、韓國的韓服還是外國人的晚禮服，因為我們自己也有不亞於他們的華服。 中國歷時數千年，服飾因歷史、文化、民族、地區、政權、身分等因素不斷演變，穿著場合不同，也會有略有差異。《古裝穿搭研究室》中挑選各朝代的經典款式，展現出中國歷史上紛繁複雜的服飾演化，更要帶您領略華夏傳統服飾的美麗與文化底蘊。文／龔元之韓服？漢服？傻傻分不清楚中國這幾年有不少愛好者努力推動「漢服運動」，從網路上來看，「漢服運動」辦得沸沸揚揚，各地紛紛響應號召，只差沒有揭竿而起。不過我們當天沒有見識到他們努力的成果，認為這些衣服是「漢服」者寥寥無幾——最普遍的認知是「這是朝服吧？」即朝鮮族服裝（臺灣稱為「韓服」，果然這也是有地方差異的）。還有女孩子真以為是韓服外拍，努力搭訕想來張合照，纏了大半天，開口說的卻是日文。唯一一位答對時代的是來自廣東的小姐，她說：「我在想，妳們是不是在拍《貴妃史》？」一路被各種奇怪問題轟炸的友人與我哭笑不得，只得自嘲我倆不過是宮女級別，哪敢妄稱貴妃呀！別笑，這種事情不只在中國才有，過了兩年，我們在臺灣又經歷了一次！這次地點換成士林官邸，角色是兩個昔日宮女和一位同好，服裝的時代往後拉了六百年，是明代的服裝，結果一路上遇見的遊客都在問「這是什麼衣服啊？」日本人問：「這是韓國服裝嗎？」韓國人問：「這是日本服裝嗎？」遇到中國人與臺灣人則問：「這是韓國／日本服裝嗎？」雖然也有一、二個「古裝？」「漢服？」之類的答案，但是總體來說比景山的經驗更慘，居然完全沒有人猜對朝代。電影《長江七號》中的小童星「徐嬌」已亭亭玉立，她樂於推廣漢服文化。穿漢服到日本旅行，反而吸引不少日本人及遊客的目光。（組圖／聯合報系新聞資料庫照片） 分享   facebook     日、韓遊客雖說不曉得這些漂亮衣服是什麼，但認得出「這不是自己國家的衣服」，這樣也就可以了。可是中國人看到中國史上曾有過的服裝樣式，雖然讚美，卻也一樣覺得「這不是我們的衣服」，這巨大的隔閡讓我們三個傳統服飾愛好者面面相覷，一時無語。＊一件衣衫的社會意義書名：《古裝穿搭研究室：超乎你想像的中國服飾史》作者：龔元之出版社：時報文化出版出版時間：2019年6月21日 分享   facebook     udn會員獨享100元購書金，結帳輸入「GIFT8」立刻抵用。（限量200名） 分享   facebook     比較務實的人可能會從實用角度來看問題：畢竟古裝看起來又長又拖沓，如《搗練圖》裡女人的裙子都拖地，這麼不方便的衣服，在快節奏的現代社會當然會被淘汰啦！這種說法也有幾分道理，不管在古畫或影視作品裡，演員都穿著美麗而飄逸的服裝。但事實上，「色彩豔麗、寬大飄逸」的衣服，在古代只有金字塔上層穿得起 ──換句話說，就是供得起兩個以上的丫鬟貼身伺候小姐生活起居的富貴家庭成員，才可能有財力穿好衣服。要知道奴僕比好衣服可便宜多了，一般殷實人家買不起綠綾印花衫子越羅裙與泥金絞纈披帛這等高級衣物替女兒打扮，但是買個小丫頭在廚下燒火作飯倒不困難。能穿得上華麗衣服的人，身邊必然僕從如雲，服裝的寬大、繁複造成的種種不方便，反而成了莊重優雅的襯托，正是以四肢不動之矜貴，來彰顯自身的富貴豪奢。那麼勞動者要怎麼辦呢？《步輦圖》中，環繞在唐太宗身邊執役的宮女們雖然穿著豔麗的間色長裙，但是在腰上綁一綁，使裙子不會拖地礙事。若是民間的勞動者，就是穿著本色或灰暗的短衣，耐髒也方便工作。現在佛道教出家人的日常執役衣仍採用傳統樣式，可知「傳統」中本就包含有勞動工作的一大類，只是被現代人忽略了而已。任何服裝都講究「人、事、時、地、物」，就像現代的各位不會把睡衣穿上喜宴，也不會穿著三件式西裝刷馬桶，不同場合有不同的穿著打扮，這一點不會因為「傳統」與「現代」而有所區別。〈步輦圖〉現存於北京故宮博物院，被稱為中國十大傳世名畫之一。圖中唐朝宮女攔腰紮了帶子，把長裙拉高固定住 以方便行走。（圖／聯合報系新聞資料庫照片） 分享   facebook     ●本文摘自時報文化出版出版之《古裝穿搭研究室：超乎你想像的中國服飾史》，請勿轉載。欲知更多內容請試閱電子書。udn會員獨享100元購書金，結帳輸入「GIFT8」立刻抵用。（限量200名）更多推薦閱讀☞《崩壞國文：長安水邊多魯蛇？唐代文學與它們的作者》一本中學師生補充課內教材、成人國學常識的重磅級神書！☞《魏晉有美男：長得好看，就是了不起的技能！》一本書帶你圍觀魏晉風流人物，還原歷史細節及花美男養成指南！☞《簡明 台灣人四百年史：圖文精華版》史明親自改寫，親筆繪畫，認識台灣史最佳入門。☞《大明後宮有戰事》穿越宮門重重，跟北大歷史學博士走進明宮，疑案謎案一把抓！ 作者簡介龔元之臺灣大學歷史學士、北京大學歷史碩士、北京大學科學史博士。 就讀北大期間因受變換分明的四季美景所誘，愛好出遊賞花，從而引發了對傳統色彩以至傳統服裝的研究和製作興趣 。 現為北京師範大學－香港浸會大學聯合國際學院助理教授。'}\n",
      "{'title': '日職／王柏融打擊直直落 弱化中的火腿麻煩大了', 'url': 'https://udn.com/news/story/8280/4022975', 'class': '運動', 'date': '09-02 07:00', 'description': '歐力士在8月的最後一天以2比1擊敗千葉羅德，取得對戰羅德的2連勝，也把墊底的位子送給了日本火腿隊。歐力士今年從開季之後不久就陷入低迷，墊底的位子從4月26日開始一坐就是4個月之久。這一次的排名互調，除了歐力士本身狀況有起色，關鍵還是出在日本火腿隊本身。尤其是打擊火力，火腿的團隊打擊率0.252在太平洋聯盟排名第三雖然不差，總得分503分卻排名倒數第二，只比歐力士隊稍佳，這與全壘打數、盜壘嚴重的劣勢有很大的關係。歸咎起來，2019年的火腿打線欠缺重砲，機動力也不足，想要在競爭激烈的洋聯戰場脫穎而出，談何容易！？日本火腿隊今年團隊盜壘數46次，只優於樂天的39次，暫居盜壘王的西武獅隊金子侑司已經跑出38盜，他一個人就足以跑贏這兩隊。這部分與拿過盜壘王的西川遙輝、中島卓也本季分別只有19盜、11盜有關，尤其是三屆盜壘王西川遙輝盜壘成功率大幅下降有關（※過去3年平均0.905；今年0.792）。加上後繼接班無人，機動力比起過去幾年弱化不少。火腿隊外野手西川遙輝(右)打擊率、上壘率都維持一定的水準，但盜壘能力卻有些衰退，去年球季44次盜壘成功、僅3次失敗，本季至今只有19次盜壘成功，卻有5次失敗。 美聯社資料照片 分享   facebook     另外團隊全壘打數85支，也與歐力士並列最少。團隊最多的中田翔23轟，超越去年的25轟應該不成問題。大田泰示、渡邊諒分別已經打出生涯新高的18轟、10轟，清宮幸太郎本來就被評估需要時間，沒有太大問題。主要差別除了在於橫尾俊建的成長不如預期，還有就是少掉過去4年總產量131轟的雷雅德（Brandon Laird）。在這樣的情況之下，今年火腿陣中唯一的「洋砲」王柏融，至今只有3支全壘打，球季結束後難逃成為被提出來檢討的項目。尤其雷雅德轉到羅德之後已經打出他每季為自己立下的30轟目標，也幫助羅德擺脫過去幾年長打不足的課題，團隊全壘打數從去年洋聯最少的78轟進步到第三多的144轟，兩人在貢獻度的差別也勢必會被提出來做比較。王柏融身為火腿隊唯一「洋砲」，但打擊率持續下滑，整季至今也僅僅打出3支全壘打，其中在主場只有1轟，讓火腿團隊攻擊火力明顯不足。 聯合報系資料照片 分享   facebook     不過王柏融最大的困境在於，他原本就被視為中距離打者，相信火腿球團對他的期待本來就不是第一年就可以打30支全壘打的打者，不過打擊率0.290以上是合理的期待值。但王柏融在經過7月之後只有0.167打擊率、1支長打（72打數12支安打、4分打點）的嚴重打擊低潮之後，打擊率已經從6月底的0.290降到目前的0.260。要提升自己在NPB第一年的評價，王柏融必須利用球季最後一個月左右的賽程，先想辦法把打擊率提升回來。不僅是王柏融本身，火腿團隊的攻擊力也陷入了大麻煩，原本表現還算穩定的打擊陷入了極度的低潮，單月打擊率降到0.235，得分、長打率都寫下本季的單月最低。加上原本就欠缺的長程砲火以及機動力作掩護，使得他們單月吞下20敗（5勝1和），追平了1974年8月，寫下單月最多敗的不名譽紀錄。'}\n",
      "{'title': '韓國瑜談「換瑜」：假新聞或國民黨腦袋進水', 'url': 'https://udn.com/news/story/120536/4024159', 'class': '要聞', 'date': '09-02 15:09', 'description': '「換瑜」事件越演越烈，昨傳出國民黨主席吳敦義派前立委張顯耀去國台辦溝通換瑜。國民黨總統參選人韓國瑜今親上火線在臉書直播斥責此事是假新聞，更指如果是真的，那國民黨中央黨部大概腦袋進水、已經壞掉了。據上報報導指出，今年8月15日，吳敦義派張顯耀私下拜會郭台銘，指出韓國瑜最後可能選不下去，盼郭台銘當國民黨的「備胎人選」，請他稍安勿躁。另報導中也提及，張顯耀與國台辦主任劉結一見面時，曾帶一份機密民調指出，韓國瑜最後可能會選不下去。韓國瑜說，此消息只有兩種可能，第一，這是個假新聞，大家笑一笑、指責一下，要求各方提出說明就可以了；如果是真的，他是不太相信，畢竟吳敦義歷練幾十年，居然會派一個人到國台辦去溝通換瑜？但如果是真的，「國民黨中央黨部大概腦袋進水了」，「大概腦袋已經壞掉了」韓國瑜說，2020總統大選是台澎金馬2300萬人民投票，國台辦沒有投票權，國民黨怎麼可能派人去溝通？這不是腦袋壞掉了嗎？韓國瑜重申立場，他表示，2020總統大選就是台灣2300萬人民決定台灣的未來，他就是保衛中華民國，愛惜台灣人民，反對台獨。但蔡英文是支持台獨，消滅中華民國，「拜託支持台獨的投蔡英文，我不要這個選票」。韓國瑜說，他要的選票非常清楚，就是熱愛中華民國，反對台獨，維持民主自由，而香港、澳門一國兩制他絕不接受，因為我們有中華民國憲法，在自由民主的制度之下過自己的生活，他希望兩岸和平交流、和平發大財。國民黨總統參選人韓國瑜今親上火線談「換瑜」事件。圖／翻攝韓國瑜臉書 分享   facebook     '}\n",
      "{'title': '胖到癱瘓、公開刺喉 逾5800人連署終止神豬比賽', 'url': 'https://udn.com/news/story/7266/4024502', 'class': '生活', 'date': '09-02 17:48', 'description': '少數民眾仍存在「養神豬」的風俗習慣，但養神豬須強迫灌食、限制居住空間，被抨擊不人道、虐待動物；動保團體多年奔走，盼法規禁止神豬重量比賽，但始終卡在風俗信仰這關。動保團體台灣動物社會研究會8月19日在公共政策網路參與平台發起「終止神豬重量比賽祭祀」，截止今日為止，不到半個月吸引5807人參與，通過附議門檻，農委會須於今年11月2日前給予回應。根據連署內容指出，農曆七月義民祭的神豬祭祀常被誤認為客家文化，但2011年已有上百位客家人發起連署，指出神豬比賽絕非客家傳統文化習俗，包括音樂人林生祥、作家鍾肇政、台大教授李茂生等，都認同以此標榜為客家文化是對客家人的嚴重羞辱，更是客家文化的最大汙名。2016年文化部也公告強調，義民祭為重要民俗，但不包括「神豬重量比賽」。台灣動社說，多數飼養者以強迫灌食方式，讓神豬胖到癱瘓，最後在眾人圍觀下，被以利刃活活割喉宰殺，從飼養到屠宰過程，神豬飽受各種虐待與痛苦。被指為虐待動物的方式，包括增肥限制豬的行動、強迫灌食、五花大綁、公開刺喉放血等。台灣動社說，在神豬重量比賽取消之前，將無期限抗議此一陋俗，「能夠凝聚民心的文化不需要虐待動物」。例如德國馬戲團改用3D全息影像取代真實動物，西班牙鬥牛節改用充氣牛取代真實的鬥牛，俄羅斯今年正式啟動野放程序不再囚禁鯨魚，韓國釜山宣布關閉狗肉市場，讓吃狗肉文化走入歷史。台灣動社說，期盼台灣全面終止神豬飼養祭祀，改用健康、環保、友善等創新的方式，增加神豬比賽的多元性。例如用大規模的麵皮裝飾彩繪取代豬皮彩繪，屠殺神豬改用米豬，也能避免造成民眾情緒不安並帶小孩參加盛典，而可愛的神豬充氣藝術裝置，讓更多民眾有充裕的時間，前往參觀拍照、打卡促進觀光。有業者以強迫灌食方式養大神豬。圖／翻攝自公共政策網路參與平台 分享   facebook     '}\n",
      "{'title': '她想搭訕高挺軍校生 網友驚喊「不要害他被電」', 'url': 'https://udn.com/news/story/10930/4023594', 'class': '要聞', 'date': '09-02 11:33', 'description': '一位軍校學生穿著制服站在月台等車，女網友好奇想搭訕卻被網友勸退。圖擷自臉書社團「爆廢公社公開版」 分享   facebook     許多學校都會要求學生穿著制服，只要一穿上校服就代表校方，尤其是穿上軍服的軍校生，出去就是軍方的門面，因此需要格外注意自己的舉止。昨日一位女網友在網路上貼出一張照片，只見一位高挺的男子穿著軍服站在台鐵月台等車，視線緊盯前方，讓她很好奇並想上前搭訕，但貼文一出後，許多人立刻勸退她，網友們表示「不要害他回軍中被電」。這位女網友昨日在臉書社團「爆廢公社公開版」發文，貼出了一張照片，照片中一位穿著墨綠色軍裝的男子站在台鐵月台旁等車，他戴著軍帽手提包包，眼睛緊盯著前方，在人群中顯得樣貌挺拔，讓原PO忍不住表示「覺得很帥，想搭訕」，而貼文一出後立刻吸引上百位網友留言。許多網友表示穿軍裝的男生很帥氣，叫原PO趕快搭訕，「快去搭訕，不要留下遺憾」、「軍人穿正裝是有點帥，但覺得妳才是會讓人想搭訕的」、「穿軍裝的男人超帥的」、「中規中矩的排隊…帥氣」。但也有人說這位男子身穿的是陸軍專科學校的制服，叫原PO別搭訕他，以免他回部隊被電，「陸專，別玩人家，人家是學生放假要回家，有不好的舉止會被電爆」、「不站好被拍爆料，回去會被幹爆」、「沒保持好形象，等到回學校就飛天了」、「不站好回學校會被學長釘爆」'}\n",
      "{'title': '潛伏一個多月終於出擊 李正皓：郭董瞄準國民黨的七寸', 'url': 'https://udn.com/news/story/12702/4023631', 'class': '要聞', 'date': '09-02 11:21', 'description': '郭台銘昨天至青溪菁英教育研究院專題演講，釋出相關看法，郭台銘認為中華民國面臨轉型與政治內耗嚴重，產業發展也與現況脫鉤的問題。尤其貿易戰爭之際，政府並未好好幫助科技業解決「五缺」與「六缺」問題。國民黨新生代改革團體「草協聯盟」發起人李正皓認為郭台銘是瞄準國民黨的七寸出擊，插旗拔樁的意味再清楚不過 。李正皓在臉書說，歷經一個多月的潛伏，大老虎終於出擊了，而且一擊必中，瞄準的的就是國民黨的七寸。昨天是郭台銘一個多月來首度公開演講，大多數的人都著重在郭台銘的演講內容或是副手人選，但當他看到演講場合是「青溪菁英教育研究院」時，就知道郭台銘這次的出手是經過精密計算的，瞄準的目標就是國民黨組織最堅實的後盾：後備軍人系統。李正皓表示，青溪菁英教育研究院由中華民國青溪協會發起舉辦，而中華民國青溪協會於2000年成立，全國各縣市都有分會，主要成員由退役軍、士官、兵組成，會員約有30萬人，前身為「後備軍人幹部訓練班」，成立至今歷任理事長包含曾永權、徐耀昌、呂學樟、廖國棟⋯等，全是國民黨的重要人物。簡單說，黃復興與青溪就是國民黨動員後備軍人系統的兩隻腳，前者是黨組織，後者是民間組織，缺一不可，每每只要國民黨黨主席選舉，青溪協會都是兵家必爭之地，可以說誰攻下了青溪，誰就能掌握絕對優勢。如今，郭台銘的第一場公開演講就是青溪菁英教育研究院，插旗拔樁的意味再清楚也不過。國民黨草協聯盟發起人李正皓。本報資料照片 分享   facebook     domready(function() {if ( !countDownStatus ) getCountdown();if ( !highChartsStatus ) getHighcharts();});domready(function() {var channelId = 2;var actArea = \"poll_at_story_0_v703\";var actCode = \"v703\";var actTemplate = \"bar2\";var elemDiv = document.createElement(\\'div\\');elemDiv.id = actArea;elemDiv.className =\\'vote_body area\\';var scr = document.getElementById(actArea+\\'_script\\');scr.parentNode.insertBefore(elemDiv, scr);$.getScript(\\'/funcap/actIndex.jsp?actCode=\\' + actCode + \\'&channelId=\\' + channelId , function() {actTemplate = eval(\\'objAct_\\' + actCode + \\'.d1.actTemplate\\');$.ajaxSetup({ cache: true });$.getScript(\\'/func/js/\\' + actTemplate + \\'_min.js?2019082101\\', function() {$.ajaxSetup({ cache: false });piepkg();loadTemplateJs(actTemplate);eval(actTemplate + \\'view(\"\\' + \\'#\\' + actArea + \\'\");\\')})});});'}\n",
      "{'title': '大跌眼鏡！Costco上海開業後 出現民眾排隊退會員卡', 'url': 'https://udn.com/news/story/7332/4024384', 'class': '兩岸', 'date': '09-02 16:40', 'description': '好市多（Costco）於8月27日在上海開幕，開業首日人潮洶湧導致當天下午暫停營業，不過人民出版社主辦的「每日人物」報導，開業5天後也就在8月31日起，Costco開始出現排隊退卡的隊伍人潮。報導指出，Costco剛開幕時，為了吸引顧客打出優惠折扣，成功吸引人潮製造話題，然而開幕日當天吸引許多人的商品被搶購後已暫時缺貨，尤其比零售指導價還低人民幣1元、售價人民幣1498元的飛天茅台已經從架上消失；原本售價人民幣32.9元的2瓶裝冷藏牛奶，也已經調到人民幣53.9元，不再像剛開幕時如此吸引人。此外，有一對年輕夫婦抱怨，原本是因為地方大、東西又好，才會帶小孩一起逛，想不到卻被人潮擠爆，把小孩搞的不停哭鬧，因此決定不會再來，於是在31日選擇辦理退卡，然而連退卡都要排隊，退卡隊伍的人潮甚至多到Costco員工沒時間休息，從上午一直工作到下午2點都還沒吃午飯。Costco實行倉儲會員制，獲利貢獻主要來自於顧客購買的會員年卡，而不是透過商品銷售進銷差獲得利潤，Costco在在大陸推出兩種會籍，分別是年滿18歲以上的金星會員，以及企業會員。解放網、Costco微信公眾號報導，Costco在開幕前夕推出了會員年費立減人民幣100元的活動，也就是在8月26日之前，原價人民幣299元的金星、企業會員主卡，年費僅人民幣199元，但須要到Costco辦卡中心現場辦理；開幕後皆恢復為人民幣299元。由於Costco有90天無理由的退換機制，因此上海店開幕前就不被大陸網友看好，認為規則會被「刁民」玩壞，沒料到幾天後就出現退卡潮，對於以年費為盈利主要來源的Costco來說是個壞消息。好市多（Costco）於8月27日在上海開幕，開業首日人潮洶湧導致當天下午暫停營業。 圖／每日人物 分享   facebook     '}\n",
      "{'title': '影／港警阻急救要救護員「面壁」 傷者2.5小時後才送院', 'url': 'https://udn.com/news/story/120538/4024238', 'class': '兩岸', 'date': '09-02 16:08', 'description': '香港反送中行動警民衝突越演越烈，8月31日許多示威者在警民大混戰中流血受傷，警方被指不但禁止急救員進去救人，甚至要救護員面壁，消防處證實由接報時間起計，前後要花逾2.5小時才將傷者送院。明報報導，警方在多個港鐵站被指阻延甚至拒絕救護員或民間急救員進站治理受傷市民。一名民間急救員當晚11時許在油麻地港鐵站外，於鐵閘外向站內警員哭求讓他進站救助市民被拒。同時間，站內三名民間急救員被警員要求站著面壁。太子站方面，消防處證實由接報時間起共花逾2.5小時才將傷者送院，質疑警方延遲將傷者送院，警方則解釋稱因站外有示威，影響送院安排，但強調延遲時間不長。報導指出，消防處發言人昨稱，處方當晚11時5分接報站內多人受傷，救護車11時17分抵達現場，因閘門已關閉，「現場救護指揮官與警方及港鐵進行協調後，約11時30分進入地鐵站為站內傷者進行初步評估」，即救護員前晚抵達太子站13分鐘後始能進站。其後抵達的救護員，從另一入口進站，初步治理站內7名傷者。發言人續稱，警方評估太子站附近情況不安全，傷者不宜經該站出口離開，故港鐵於昨凌晨1時24分，安排一輛特別列車供救護指揮官和救護員護送傷者前往荔枝角站，再由候命的救護車於凌晨1時42分，將傷者送往明愛醫院和瑪嘉烈醫院治理。即消防處由接報到將傷者送院，前後花逾2.5小時。紅十字會1日發新聞稿，強調「在任何情下，各方應優先考慮受影響人士的醫療需要，所有救援人員及其車輛應受到尊重及保護，任何阻撓人道救援工作的行為並不恰當」。8月31日許多示威者在警民大混戰中流血受傷，警方被指不但禁止急救員進去救人，甚至要救護員面壁。 圖／翻攝Youtube 分享   facebook     '}\n",
      "{'title': '竹科塞車怎麼辦？ 騎黃牌重機通勤人口上揚', 'url': 'https://udn.com/news/story/7324/4023577', 'class': '地方', 'date': '09-02 11:00', 'description': '新竹科學園區每天有10多萬人進出，塞車成了工程師們的日常風景，近年發現越來越多人騎重機通勤，穿梭在快速道路或通往竹科的高架橋上，重機人口正在逐步上揚。大型重機自2002年開放至今，根據統計，全台有10幾萬輛大型重型機車、30萬人領有大型重機駕照，新竹安全駕駛教育中心主任邱三銘觀察，竹科人平均年齡較年輕，加上有較高、較穩定收入，重型機車活動和其他地方相比，似乎更為風行。「節省交通時間！」重機騎士徐先生指出，竹科園區汽車多，上下班總塞車，但通往園區的大門口可走高架橋，加上新竹最東、最西邊的竹東鎮、竹市南寮可走68快速道路往經國橋直通竹科，越來越多的民眾選擇黃牌重機速克達（250cc至550cc）作為通勤交通工具，節省交通時間。邱三銘說，黃牌重機作為通勤代步工具，不只在新竹園區才有，全台六都的高架橋多，民眾常以黃牌重機作為通勤的交通工具，預估重機人口會逐步上揚。有考重機駕照的騎士陳冠宇表示，新竹有許多快速道路，進入竹科走高架橋比較快，機車比汽車更具機動性，騎黃牌機車就像是買個路權，比較方便。黃牌機車通勤方便，卻也面臨路權的爭議，有重機騎士騎在內側車道，卻遭後方車子狂按喇叭逼車，專家提醒，騎乘大型重型機車可行駛快車道及快速公路，應視為小型汽車。警方表示，遇到逼車，重機騎士可以提出檢舉，運將最重可罰2萬4千元，還要吊扣汽車牌照3個月。台灣交通安全協會理事林志學說，黃紅牌路權與行駛規定比照小型汽車，所以應該以汽車的概念來思考。針對黃牌重機逐年成為通勤工具，林志學認為是一種趨勢，目前通勤族最熱門的路線是高速公路，但重機族僅可行駛在平面道路和快速道路，未來若能上高速公路，除了擴散都市的交通網絡外，也能避免一人一汽車，此種空間利用率低的問題，有助於高速公路紓解車流。新竹騎乘重機人口增加，重型機車活動和其他地方相比，似乎更為風行。記者郭政芬／攝影 分享   facebook     越來越多人騎重機通勤，穿梭在快速道路或通往竹科的高架橋上，重機人口正在逐步上揚。記者郭政芬／攝影 分享   facebook     '}\n",
      "{'title': '韓國瑜要約朱立倫談合作？徐巧芯批：小事還要媒體來傳話？', 'url': 'https://udn.com/news/story/12702/4024550', 'class': '要聞', 'date': '09-02 18:13', 'description': '台北市議員徐巧芯。 聯合報系資料照片／記者魏莨伊攝影 分享   facebook     國民黨總統參選人韓國瑜副手人選，備受矚目。新北市前市長朱立倫日前結束訪美行程回台後，國民黨醞釀「韓朱配」的聲量愈來愈高。親韓人士透露，韓、朱兩人一直都有順暢的溝通管道，韓確實打算約朱見面談合作，但是否會搭配選舉，要看兩人談的情況而定。台北市議員徐巧芯今質疑，黨內初選結束快兩個月了，只看到宣傳耳語滿天飛，卻沒有看見整合有什麼實質的進展，這也是目前國民黨選情的最大隱憂。徐巧芯在臉書表示，朱立倫是公認的「氣度哥」，一定會為黨團結，甚至不需要位子，他都會幫忙。因此，如果連「打算約見面」這種小事都還要透過媒體來傳話，這樣真的有助團結？徐巧芯也說，「多做少說，多誠意少宣傳」，促進團結才是勝選的真諦。要打電話直接打，要見面直接約見面，討論如何團結拚大選吧！'}\n",
      "{'title': '公寓底下竟藏120副棺材 居民得知住墓地上後嚇壞', 'url': 'https://udn.com/news/story/6810/4024629', 'class': '全球', 'date': '09-02 20:36', 'description': '美國一處複合式公寓，被爆出建築物底下埋有超過120副的棺材，讓不少住戶得知後都相當震驚。圖擷自Tampa Bay Times Twitter 分享   facebook     如果住的公寓底下埋了120副棺材，你會不會連睡覺時都覺得毛毛的？日前美國一處複合式公寓，被爆出建築物周遭底下埋有超過120副的棺材，讓不少住戶得知後都相當震驚。根據《FOX NEWS》報導，這公寓群位於佛羅里達州坦帕市（Tampa），當時公寓的所有者坦帕灣住房管理局，請來了私人考古公司卡德諾（Cardno）前來探查，他們利用透地雷達在今年6月時，發現土地之下竟有許多「長方形物體」埋在深度約1.2至1.8公尺間，這讓他們懷疑這裡是一塊「墓地」，隨後在當月的30日考古團隊正式宣布，他們所探測到的物體正是棺材。坦帕灣時報6月的一份專題報告提到一個長期被遺忘的墓地的存在，這促使坦帕灣住房管理局委託考古公司搜索其土地。《FOX NEWS》報導中提到，該地在1901年曾是一座為了埋葬種族隔離時期非裔美國人的「錫安公墓（Zion Cemetery）」，之後土地被分割並出售給白種人進行開發，因此這公墓在一世紀以前便消失了。此外，這些棺材還排列成行，是一處東西方向排列整齊的公墓。起初公寓居民們得知他們住在公墓上的消息後都被嚇壞，公寓群的67棟建築中有5棟位在消失的公墓上，而擁有公寓的住房管理局在8月22日的租戶會議上宣布，對於居住在公墓土地上的96人來說，搬遷將在幾週後開始，租戶則對這一宣告表示歡呼，認為這在道德和歷史上都是正確的決定。當地政府打算將公墓的土地改建為一個紀念公園，之後當局還會再確認該地究竟藏有多少遺骸，並提到不會移除在那裡休息的任何屍體。In June, the Times told you the story of Zion cemetery, a burial place for black Tampa residents that vanished nearly a century ago. Today came confirmation of what Times journalists long suspected: Zion has been found. Our full report:https://t.co/ijoyd2t5SO pic.twitter.com/saFsurv5Wm'}\n",
      "{'title': '喝太醉臥躺停車場 埔里男慘遭輾斃', 'url': 'https://udn.com/news/story/7320/4023496', 'class': '社會', 'date': '09-02 10:08', 'description': '南投縣埔里鎮鄒姓男子今凌晨疑醉倒在鎮內某處民營停車場，高姓駕駛開車經過時疑視線不良，未察覺有人躺在地上，便直接輾過， 鄒因此卡在車底，經消防人員救出送醫，急救後仍因傷勢過重宣告不治，目前已交由檢警偵辦相驗。據瞭解，36歲鄒男昨晚與親友喝酒聚會，至今凌晨活動結束，眾人各自返家，未料鄒疑因不勝酒力，離開店家後就醉倒在該餐廳與其他業者共用的特約停車場，當時31歲高男正巧駕車經過，而因停車場內光線昏暗，高疑因視線不良未發現鄒，察覺輾到東西下車一看才知道是人，嚇得他急忙通報警消。而消防隊到場後，利用千斤頂等工具把車撐起將人救出，初檢頭部明顯受創，雖緊急將其送醫，但到院前已無生命跡象，急救後仍因傷重不治；事後經抽血換算呼氣酒測值，鄒男酒測值高達每公升2.2毫克，高男則為0，而詳細肇因和死因，檢警今將進一步相驗並調查釐清。南投縣埔里鎮鄒姓男子疑醉倒在停車場遭輾而卡在車底，消防隊緊急將其救出送醫，但因仍因傷勢過重宣告不治，圖／讀者提供 分享   facebook     '}\n",
      "{'title': '韓朱配有譜？親韓人士：韓國瑜打算找朱立倫談合作', 'url': 'https://udn.com/news/story/120536/4024024', 'class': '要聞', 'date': '09-02 13:53', 'description': '新北市前市長朱立倫語國民黨總統參選人韓國瑜。圖／報系資料照合成 分享   facebook     新北市前市長日前結束訪美行程回台，國民黨總統參選人韓國瑜的副手人選也未有著落，國民黨內現在醞釀「韓朱配」的聲量越來越高。親韓人士透露，韓、朱兩人一直都有順暢的溝通管道，韓國瑜確實有打算約朱立倫見面談合作之事，但是否會搭配選舉，要看兩人談的情況而定。朱立倫辦公室則表示，「不要位置，一定幫忙」。國民黨立委江啟臣競選看板力拱「韓朱配」，此舉獲得不少黨內立委響應，就連台中市長盧秀燕、雲林縣長張麗善也在底下回應支持。江啟臣日前表示，若韓朱能搭配合作，相信對藍營、基層支持者來說一定有振奮效果，不僅符合支持者的期待，也讓國民黨可以真正進入備戰狀態。據悉，韓國瑜在初選公布結果當天見過朱立倫一次後兩人雖未再見面，但朱立倫訪美期間，針對美國對於韓國瑜兩岸、親美立場皆有做說明溝通，而美方從執政黨接收到對於韓國瑜的誤解，朱立倫也有幫忙緩頰，讓美方更認識韓國瑜。朱立倫與美關係良好，此次訪美除了重申親美立場外，也積極替國民黨候選人鋪路。但對於兩人未來是否合作，甚至搭配成「韓朱配」，由於韓還未正式找朱立倫談合作，所以朱立倫也不會鬆口。針對「朱韓配」是否會成形，對此朱立倫辦公室表示，不要位置，一定幫忙。。親韓人士表示，兩人一直都有順暢的溝通管道，之後韓也會約朱見面談合作之事。據了解，韓國瑜對於副手人選有自己的想法，他並非從初選過後就汲汲營營找副手，而是經過一陣子的觀察與考量，先把競選總部組織架構弄好，待競選工作順利上線後，再來做副手的最後定奪。黨內人士分析，韓國瑜開出的副手條件必須具備熟捻財經專業及國際事務，甚至可以成為「有史以來被授權最大的副手」，朱立倫就是符合條件的不二人選，而且這對朱立倫將來想要問鼎總統大位也是非常好的歷練。相對於過去比較虛位的副手，朱立倫的能力能做很多事情，韓的庶民加上朱的專業，兩個人絕對可以發揮1加1大於2的效果。'}\n",
      "{'title': '「換瑜」不必發生但效果已達成 他指國民黨只能做這件事', 'url': 'https://udn.com/news/story/12702/4024232', 'class': '要聞', 'date': '09-02 15:41', 'description': '「換瑜」事件越演越烈，有媒體報導指國民黨主席吳敦義派前立委張顯耀去國台辦溝通換瑜，國民黨總統參選人韓國瑜還親上火線在臉書直播斥責此事是假新聞，更指如果是真的，那國民黨中央黨部大概腦袋進水、已經壞掉了；資深媒體人黃暐瀚表示，換瑜並不會發生，有人刻意炒作打擊韓民調，「換瑜」最後不必發生，但效果已經達成 。還在等換瑜？國民黨會「換瑜」嗎？黃暐瀚直稱「不會」，那為什麼到現在，都還有人在「炒作」換瑜？很簡單，因為這樣的「炒作」，可以打擊韓國瑜的氣勢，影響韓國瑜的民調，「換瑜」最後不必發生，但效果已經達成。黃暐瀚說，就像某男女明星，合拍新戲，開播前總有「緋聞」一樣。緋聞炒得火熱，媒體天天報導，等到下戲，八卦也沒了。但真有「緋聞」？沒有。但「收視率」有了，目的達到了。然而，媒體八卦和演藝圈緋聞，那是茶餘飯後的「談資」。國民黨換瑜，甚至是去北京「面聖」報告換瑜，那可是會直接影響選情，影響國民黨形象的事情。媒體都具名、獨家、頭版頭地報了。國民黨想「扭轉印象」，別無他法，只有直接提告，對簿公堂，問清楚：「消息到底哪裡來的」？才能自清。資深媒體人黃暐瀚。本報資料照片 分享   facebook     '}\n",
      "{'title': 'MLB／三次無安打史上第六人 韋蘭德一直想達陣', 'url': 'https://udn.com/news/story/6999/4023405', 'class': '運動', 'date': '09-02 08:08', 'description': '韋蘭德投出生涯第三次無安打比賽。 美聯社 分享   facebook     比切特（Bo Bichette）敲出三壘滾地，托羅（Abraham Toro）接住傳往一壘刺殺，在投手丘上的韋蘭德（Justin Verlander）興奮地高舉雙手大吼，這感覺對他來說並不陌生，但從不會膩，韋蘭德投出生涯第三次無安打比賽，帶領太空人以2：0擊敗藍鳥。2011年同樣是在藍鳥主場，效力老虎隊的韋蘭德也慶祝著一模一樣的事情，他是第三位對上同支球隊投出無安打比賽的投手，都在同一個球場作客則是第一人，韋蘭德第一次投出無安打比賽則是2007年在老虎隊主場對上釀酒人。本季新高的120球，送出14次三振僅有1次保送，讓韋蘭德成為史上第六位生涯三次投出無安打比賽的球員，前有萊恩（Nolan Ryan）、考法克斯（ Sandy Koufax）、費勒（Bob Feller）、柯可蘭（Larry Corcoran）以及塞揚（Cy Young）。韋蘭德表示：「這意義重大，如果我說我不知道就是說謊，我有兩次非常接近但在第九局砸鍋，有幾次則是在第八局，我完全知道這些歷史紀錄，跨越了一道很大的關卡，對我來說非常特別的一刻。」韋蘭德第一局就對畢吉歐（Cavan Biggio）投出保送，即使接下來連續投出三上三下，第八局甚至連投3K，也與完全比賽無緣，不過更大的問題是，太空人還沒得分。韋蘭德八局投完來到106球，他走向總教練辛區（AJ Hinch）討論球數及策略，這是兩人第一次交談，大家都知道韋蘭德正邁向無安打比賽，但第九局可能是最後一局，幸好太空人火力來得及時，九局上托羅在兩出局後把球敲出左外野大牆，這支兩分砲已足夠。九局下連續解決兩人，面對小自己15歲的比切特，韋蘭德在兩好三壞後，用97哩速球讓他敲成滾地，比切特說：「我想逮到他，最後一打席我把球看得很清楚，我真的覺得有機會敲安打。」韋蘭德表示：「我今天速球狀況很好，很有生命力，滑球有點不穩定，最後一局幾乎都靠速球。」藍鳥全隊唯一擊球初速超過100哩的一球，是麥金尼（Billy McKinney）在五局下敲出的滾地球，被臨時代班一壘的狄亞茲（Aledmys Diaz）攔下，韋蘭德說：「我那球沒投好，幸好打在地上，狄亞茲的運動能力也很好。」'}\n",
      "{'title': '攻第50座百岳 魂斷素密達斷崖', 'url': 'https://udn.com/news/story/7320/4023198', 'class': '社會', 'date': '09-02 00:05', 'description': '素密達山斷崖地勢險峻，部分路段須拉繩攀登，十分危險。 圖／取自雪霸國家公園管理處官網 分享   facebook     六十二歲陳姓男子攀登雪霸國家公園聖稜線，三天前經過素密達山斷崖時，不慎失足摔落二百公尺深山死亡，遺體昨天吊掛下山；素密達斷崖是往聖稜線重要地標，部分路段陡峭須拉繩攀登，容易發生事故，去年十一月同一地點也有登山客遭落石擊中頭部身亡，許多山友形容它「不是好惹的。」根據調查，陳男到大陸經商有成，返台後熱愛爬山，有多年登山經驗；上月廿八日一行十二人從大霸登山口入山，原計以五天時間完成攀爬雪霸國家公園內聖稜線，其間經過加利山、伊澤山、小霸尖山、大霸尖山、雪山北峰、雪山主峰和雪山東峰等；陳男出發前還高興向家人說，這趟行程有多座台灣百岳，他要挑戰自己的第五十座「台灣百岳」，未料發生意外。上月卅日下午四點多消防局獲報，登山隊伍行經素密達山斷崖，陳男攀爬不慎墜谷，因天色已暗，救難人員無法上山；隔天上午九點，又接獲林姓領隊通報，在墜谷處發現陳已明顯死亡。搜救員前天搭直升機上山，昨天清晨五點卅分從雪北山屋出發，徒步四小時抵達陳男墜谷地點，再回報消防局通知國軍直升機將遺體吊掛下山，因地勢險峻，過程中有兩名消防員滑倒和抽筋受傷。曾爬過素密達斷崖的山友說，素密達斷崖是聖稜線最大天險，共有三斷崖壁，腳可踩踏點很少，繩索雖多，但不可過度依賴飽受風吹雨淋的舊繩索，要踩穩踏點，用手臂力量，將身體往上抬，已經在上方的人幫忙拉，確保安全。部分斷崖岩壁很危險，要用繩索綁緊身體再爬垂直岩壁，且採背包與人分離方式小心通過，否則一失足就可能天人永隔。'}\n",
      "{'title': '聯誼同樂橋段太辣？ 資通電軍指揮部一主官遭調職', 'url': 'https://udn.com/news/story/10930/4024636', 'class': '要聞', 'date': '09-02 19:13', 'description': '國防部參謀本部資通電軍指揮部。圖／軍聞社 分享   facebook     國防部參謀本部資通電軍指揮部某單位月前在聯誼同樂時留下錄影，今遭媒體報導形容為「吊帶襪濕身浪蹭同胞」。指揮部今天坦承疏失，表示已將單位隊長調離現職。資通電軍指揮部今天發出新聞稿表示，該單位於8月中旬在宜蘭民宿自費辦理烤肉活動，部分人員為炒熱氣氛出現脫序行為，經查屬實。對於幹部在場，卻未能適時制止，指揮部已檢討相關人員疏責，並將該隊隊長調離現職。指揮部表示，單位於5月22日精神戰力專案教育課程第二日課程後，下午排定電影欣賞團康活動，由輔導長帶隊觀賞，增進部隊向心與士氣，並無飲宴萎靡情事。資通電軍指揮部表示，已責令單位於8月22日由單位高階主官主持召開軍紀檢討會，深刻檢討缺失，務期各級幹部確實引以為戒，以嚴肅軍紀，避免類案再生。'}\n",
      "{'title': '有夠大隻！潮州賽神蝦冠軍「蝦王」長度比男子手臂還長', 'url': 'https://udn.com/news/story/7327/4023386', 'class': '地方', 'date': '09-02 07:41', 'description': '神蝦出爐！屏東縣潮州鎮為擺脫「沒特色」的包袱，認為鎮內泰國蝦養殖戶多，選擇以泰國蝦打造地方特色，要讓民眾想到潮州不再只有燒冷冰。潮州鎮公所1日下午也在潮州運動公園，舉辦第一屆賽神蝦大賽，共吸引20組選手報名比賽。經過激烈競爭，最後公蝦組由在地養殖業者潘絲環以248公克奪冠；而母蝦則由許瑞華以132公克拔得頭籌。獲得第一名的公蝦，伸直長螯直到尾巴的長度，甚至比成年男子的手臂還長，令觀賽民眾看的是驚呼連連。除了視覺震撼壞，另外現場也能大飽口福，好幾公尺的水流蝦，讓民眾現撈泰國蝦，塗抹鹽巴後，直接放上巨大烤爐現烤吃下肚，不禁大呼實在好過癮。而屏東縣養殖蝦占全台產量最大宗，近8成釣蝦場及餐廳所使用的泰國蝦皆來自屏東。潮州鎮長周品全表示，過去潮州被說「最大的特色就是沒特色」，但從今以後，要讓人想到潮州就馬上聯想到泰國蝦。而鎮公所為打造泰國蝦成為「鄉鎮特色」，進而邀集潮州鎮水產養殖協會舉辦第一屆賽神蝦大賽，透過泰國蝦比大，成功創造話題。這回賽神蝦大賽，養殖戶潘絲環以重量248公克，奪下公蝦組冠軍，她表示已經養泰國蝦超過40個年頭，把泰國蝦養的比手臂還長秘訣，就在於養殖的水質以及細心、用心的呵護，另外，也樂見鄉公所透過賽神蝦比賽，以潮州與泰國蝦的緊密連結，創造屬於潮州自己的特色。潮州鎮公所昨天舉辦賽神蝦大賽。記者江國豪／攝影 分享   facebook     獲得第一名的公蝦，長螯伸直到尾巴的長度，比成年男子的手臂還長。記者江國豪／攝影 分享   facebook     獲得第一名的公蝦，長螯伸直到尾巴的長度，比成年男子的手臂還長。記者江國豪／攝影 分享   facebook     最後公蝦組由在地養殖業者潘絲環（左一）以248公克奪冠。記者江國豪／攝影 分享   facebook     '}\n",
      "{'title': '聯合報黑白集／「和理非」到「攬炒」', 'url': 'https://udn.com/news/story/7338/4023308', 'class': '評論', 'date': '09-02 00:05', 'description': '香港八三一示威，警民爆發嚴重衝突。（法新社） 分享   facebook     香港的八三一示威，四處上演火光、槍聲、白煙、水柱，還有濺血的「屍速列車」。港媒形容，這簡直是一場「城市戰爭」。原本標榜「和理非」（和平、理性、非暴力）的反送中示威，經過三個月奮戰，而今就剩下「攬炒」（玉石俱焚）的決心嗎？「和理非」漸漸難以維持，一方面是受到港府近日不斷逮捕示威領袖的刺激，另一方面也是市民不斷抗爭卻得不到回應的憤怒升級。香港政府和市民之間，始終沒有任何對話的機會；香港立法會也因為民意代表性不足，而無法扮演「民意機關」的協調角色，因此只能坐視情況一路惡化。對反送中運動而言，「和理非」原是一個重要的精神支柱，它凝聚了港人最大的共識，也支撐了國際社會的支持。但在頻繁的警民衝突中，有時因鎮壓手段的失當，有時是抗爭手段的過激，有時是不同立場的「假扮者」混入示威群眾趁機製造事端，破壞了和平、非暴力原則。在真相難辨的情況下，不少集會無法獲得核准，許多市民只好保持觀望，街頭就變成「勇武派」領軍主導。這樣的發展，其實正符合港府的期待，因為失控的街頭往往提供了最好的鎮壓藉口。當「和理非」逐漸瘖啞，而「攬炒」呼聲震天價響，香港人也許更要提高警覺。倒不是因為恐懼鎮壓，而是要深思隨之而來的代價。當年六四之後，大陸的自由空氣至少被抽空了十年，那是令人窒息的時日。'}\n",
      "{'title': '離奇！直線道白天無故衝撞分隔島 重機夫妻雙雙不治', 'url': 'https://udn.com/news/story/7320/4024602', 'class': '社會', 'date': '09-02 18:41', 'description': '鬼月剛結束，南投縣發生一起離奇嚴重車禍，來自台中的重機夫妻出遊，竟在台16線集集往水里方向的直線車道上，突然失控撞上分隔島，猛烈的撞擊力道，這對夫妻倆當場噴飛20公尺外，當場失去生命跡象，由經過路民眾趕緊報案，水里消防分隊抵達現場後，分別由警消、志工、役男和熱心民眾幫忙CPR，並由救護車送往醫院急救，直到晚上還是宣告不治死亡。集集警方表示，這對來自台中的林姓夫妻，前天8月31號中午12時許，由57歲的林姓男子騎乘大型川崎重機，載著43歲的老婆周六出遊，由台16線集集往水里方向行駛，卻在15公里附近路段，不明原因失控撞上中央分隔道，由於撞擊力道很大，不但撞倒交通號誌桿子，機車還往前衝到100多公尺外，夫妻倆也當場失去呼吸心跳。集集分局指出，依現場初步研判是車主失控自撞，但站家屬立場，由於無法接受自撞的事實，提出疑義想釐清白天的直路上，怎會無故自撞中央分隔島，針對整起車禍發生的原因，要求警方及檢察官對於事故及肇因，正進一步調查中。台中的重機夫妻出遊，竟在台16線集集往水里方向的直線車道上，突然失控撞上分隔島離奇喪命。圖／民眾提供 分享   facebook     來自台中的林姓夫妻前天駕乘重機出遊，竟在台16線集集路段直線車道離奇出事。圖／林姓夫妻臉書 分享   facebook     台中的重機夫妻出遊，竟在台16線集集往水里方向的直線車道上，突然失控撞上分隔島離奇喪命。圖／民眾提供 分享   facebook     台中的重機夫妻出遊，竟在台16線集集往水里方向的直線車道上，突然失控撞上分隔島離奇喪命。圖／民眾提供 分享   facebook     來自台中的林姓夫妻前天駕乘重機出遊，竟在台16線集集路段直線車道離奇出事。圖／林姓夫妻臉書 分享   facebook     '}\n",
      "{'title': '明晚起颱風外圍環流影響 各地慎防大雨', 'url': 'https://udn.com/news/story/7266/4023629', 'class': '生活', 'date': '09-02 11:19', 'description': '氣象局說，原位於菲律賓東方海面的熱帶性低氣壓，今天上午8時發展為今年第13號颱風（國際命名：LINGLING，中文：玲玲），未來將向北北西轉北移動，有朝台灣東部海面接近之趨勢；預計台灣地區明晚起至周四將受颱風外圍環流影響，注意氣象局發布的最新颱風動態。中央氣象局說，今天至明天白天各地晴朗炎熱，僅恆春半島、東南部及東部地區有局部短暫陣雨，午後中南部地區及北部、東北部山區亦有局部短暫雷陣雨。\\xa0明晚起至周四颱風外圍環流影響，易有局部大雨發生；明晚東南部、東部地區及南部山區有短暫陣雨或雷雨，東北部地區亦有局部短暫陣雨。周三、周四東半部、北部、南部地區及中部山區有短暫陣雨，其他地區為多雲。 \\u3000\\u3000周五至周日低壓帶影響，中南部、東南部及東部地區有短暫陣雨，其他地區為多雲的天氣，午後有局部短暫雷陣雨。今天適逢年度大潮，西南部沿海低窪地區漲潮期間慎防淹水。明天下午起東半部（含綠島、蘭嶼）、南部、基隆北海岸沿海地區及澎湖有長浪發生的機率。輕度颱風玲玲的路徑潛勢預報。圖／取自氣象局網站 分享   facebook     '}\n",
      "{'title': '批江宜樺、謫毛治國 管中閔為媒體撰寫「社論」曝光', 'url': 'https://udn.com/news/story/120604/4024865', 'class': '文教', 'date': '09-02 21:54', 'description': '台大校長管中閔(右)。圖／聯合報系資料照片 分享   facebook     台大校長管中閔擔任公職期間違法兼職，今遭公懲會判申誡，管案和前中央研究院院長翁啟惠申誡再審案，成公懲會新制以來，第一、二件主動開放旁聽的案件，兩案開庭只差兩天。相較於翁不斷拋出證據欲自證清白，管則盼法庭上不要揭露他的「社會活動」，判決資料出爐，外界才知道他「匿名針砭」馬團隊。監察院雖彈劾管，但對於他究竟幫壹週刊執筆過那些社論，管因不接受約詢，疑點一直不清，甚至公懲會7月2日行準備程序時，調查專員詰問壹週刊前社長裴偉第705、707、709期社論是否為管撰寫，管即向合議庭反映「這樣會把當事人的社會活動公開」。公懲會準用行政訴訟法，對案情有重要關係的證人有作證義務，也使得究竟那些社論是出自管之手水落石出。公懲會在判決理由中舉5期為例，其中第667、701、703是討論央行政策，693期議論政府在2014年8月通過調漲基本工資，第709期敘及執政黨選舉大敗。公懲會認為管中閔擔任行政院政務委員兼國發會主委，對各部會國家、經濟、社會各項發展政策有綜合規劃、協調職責，就算有不同意見，也應該在委員會議中討論，不該違反行政倫理。管中閔批評中央銀行「過去一貫打壓任何對貨幣與匯率政策的討論」、「政府對此低通膨現象全不以為意，央行更無任何相應政策，這真是世界上的大笑話。」、「政府若一直對央行的不作為政策毫無所感，台灣的經濟將只能在保三或保二中苦苦掙扎，永無出頭之日了。」。另外對於調漲基本工資一案則說「陳冲離任後，人走茶涼，繼任的江宜樺院長在當時經濟成長仍未達標的情況下，於二○一三年四月調漲了基本工資。此舉推翻了陳冲當初所訂的執行條件，也是政府失信之始。」、「當時尚未就任的勞動部長也立刻表態支持。政府再度破壞自己的承諾...」。2014年12月8日，國民黨在地方公職人員選舉中敗選，江宜樺去職，由副院長毛治國組閣。管中閔這時寫下「由最該一同負責的副院長毛治國組閣；而新的內閣中，較大的變動只有原政務委員鄧振中與原經濟部長杜紫軍對調。這種換頭不換身的改組似乎暗指，政策績效只是院長一人的責任，換了院長一切問題都可迎刃而解。」。前總統陳水扁保外醫治，管中閔認為毛治國宣稱的「人道原則」考量令人吃驚，並指「法務部也立刻仰體上意，善意的建議申請保外就醫的作法」、「從今而後，鬼才會相信政府說的：政治不會干預司法。」；管也批評「換來一位毫無原則的經濟部長。在電費回饋與電價浮動這些極為民粹的政策上，這位部長展現是：沒有專業，只看上意；沒有原則，只會退讓。」。管在社論中警告「彎彎內閣已經上路，大家走路小心。」。domready(function() {if ( !countDownStatus ) getCountdown();if ( !highChartsStatus ) getHighcharts();});domready(function() {var channelId = 2;var actArea = \"poll_at_story_0_v704\";var actCode = \"v704\";var actTemplate = \"bar2\";var elemDiv = document.createElement(\\'div\\');elemDiv.id = actArea;elemDiv.className =\\'vote_body area\\';var scr = document.getElementById(actArea+\\'_script\\');scr.parentNode.insertBefore(elemDiv, scr);$.getScript(\\'/funcap/actIndex.jsp?actCode=\\' + actCode + \\'&channelId=\\' + channelId , function() {actTemplate = eval(\\'objAct_\\' + actCode + \\'.d1.actTemplate\\');$.ajaxSetup({ cache: true });$.getScript(\\'/func/js/\\' + actTemplate + \\'_min.js?2019082101\\', function() {$.ajaxSetup({ cache: false });piepkg();loadTemplateJs(actTemplate);eval(actTemplate + \\'view(\"\\' + \\'#\\' + actArea + \\'\");\\')})});});'}\n",
      "{'title': '來台港生被逮第三例 東吳大學生被控「暴動罪」', 'url': 'https://udn.com/news/story/7331/4024960', 'class': '兩岸', 'date': '09-02 22:32', 'description': '香港政府近日大舉搜捕反送中人士，來台就學的港生也接連發生被逮捕案例。繼東華大學、台藝大之後，今晚再傳出第3名來台就讀東吳大學的港生遭捕。東吳大學學生會今晚在臉書表示，校內一名德文系黎姓港生已被押，呼籲東吳學生站出來，力挺同學爭民主。以下是東吳學生會臉書聲明全文：繼東華、台藝大後，東吳有第三位港生被捕。根據香港電台報導，一名香港留學台灣的學生於上周四「圍堵深水埗警署」的行動中被捕，並被控「暴動罪」。今早被押至九龍城裁判法院應訊。經確認是就讀本校德文系的黎姓港生，目前被下令不可離港、交出旅行證件。學生會權益部已於獲悉消息的第一時間通知本校秘書室，期盼校方與系所能多加關切，適時給予各項協助，堅定捍衛學生安全與受教權，並時刻掌握最新資訊。本會將全力聲援黎姓同學，也期盼所有同學能一同關注事件的發展，等待同學平安歸來。從香港反送中運動開始至今，香港人為了追求民主社會中被視為理所當然的「自由」，因此而付出了高昂的代價。香港人以生命與血淚在街頭陳抗、遊行，抵抗著中共對於香港自由、民主、法治的種種侵奪。然而，隨著反送中運動所導致的衝突不斷加劇，香港政府與北京當局對於香港人民的回應與手段也日漸強硬。八月三十一日當晚，香港速龍小隊甚至進入地鐵站、車廂內，以「無差別攻擊」的手段，毆打手無寸鐵的市民。當今台灣的自由與民主得來不易，是許多前輩犧牲、奮鬥而來。我們應當重視並且珍惜。自由與民主是普世價值，值得我們奮起追尋，也希望教育部及陸委會等相關單位，能積極協助受校方與學生，保障同學的學籍與安全。自六月的「＃我在東吳我反送中」的聲援活動開始，本會便持續關注著香港反送中動態，並堅定支持香港人民追求自由民主的權利。學生會也在這裡誠摯邀請所有東吳大學的同學、師長、行政同仁，一起關注香港、撐香港，直到每一個同學、每一位香港人都平安歸來的那天。圖取自東吳大學學生會臉書 分享   facebook     '}\n",
      "{'title': '樹下苦讀考上第一志願 教育部送上新書桌', 'url': 'https://udn.com/news/story/6898/4023954', 'class': '文教', 'date': '09-02 13:11', 'description': '媒體報導，嘉義縣鹿草鄉一名15歲的黃姓女學生家境困苦，靠著在樹下苦讀考上第一志願嘉義女中，唯一心願是想要張書桌。教育部長潘文忠昨晚表示，他已請教育部同仁購置新書桌，並送往學生家中；嘉義女中也將提供獎學金與免費三餐。潘文忠引述媒體報導內容，指一名嘉義縣黃姓女學生家境困苦，一家人蝸居在7坪大鐵皮屋，但黃同學相當爭氣，靠著每天在樹下苦讀，考上第一志願嘉義女中。她最大心願就是想要一張書桌，讓教科書能有地方可以擺放，未來還要當律師、買個大房子給媽媽住，讓媽媽不要再那麼辛苦。潘文忠昨晚在臉書發文指出，看到新聞令他十分不捨得，黃同學儘管環境不優渥，仍憑著毅力與努力，今年順利進入嘉義女中就讀。潘文忠表示，行政院長蘇貞昌和他知道這則消息後都十分掛心，他立即請人以最快速度購置一張新書桌，並前往孩子家中了解狀況與需求，給予必要協助。除了媒合相關團體與社會資源，學校也將提供獎學金與免費三餐。潘文忠也感謝社會各界湧入的關心協助，他相信這些來自台灣社會的溫暖與愛，一定可以支持孩子更勇敢地繼續前進；他也想告訴黃同學，「你在逆境中仍奮力不懈的精神，真的給我們許多感動與激勵，希望這張書桌與社會給予你的祝福能陪著妳，一步步實現人生的願望！」嘉義縣鹿草鄉一名15歲的黃姓女學生家境困苦，靠著在樹下苦讀考上第一志願嘉義女中，唯一心願是想要張書桌。教育部長潘文忠昨晚表示，得知消息後非常不捨，已購置新書桌，並送往學生家中。圖／取自潘文忠臉書 分享   facebook     '}\n",
      "{'title': '媽祖被韓國瑜「氣到退駕」？黃創夏酸：郭台銘要負責', 'url': 'https://udn.com/news/story/120536/4025411', 'class': '要聞', 'date': '09-03 09:42', 'description': '國民黨總統參選人韓國瑜前天到彰化造勢，首站造訪鹿港天后宮，吸引大批人潮，當韓國瑜準備接受媒體聯訪時，恰巧與媽祖的乩身相遇，但「媽祖突然退駕、乩身當眾昏厥」；事後這名梁姓乩身透露，當時媽祖是看到場面混亂，深怕民眾受傷，才會一怒之下退駕。資深媒體人黃創夏上午在臉書貼文，媽祖「氣到退駕」？一定是「黑韓」啦，竟然是媽祖乀，鴻海集團創辦人郭台銘應該要負責。高雄市長韓國瑜（中）日前造訪彰化，到鹿港天后宮參拜。本報系資料照片 分享   facebook     '}\n",
      "{'title': '30年蛋黃酥店家公告「今年最好吃」 網友驚：能退錢嗎？', 'url': 'https://udn.com/news/story/8864/4023683', 'class': '社會', 'date': '09-03 09:28', 'description': '店家紅布條寫著「做了30年蛋黃酥，就是今年最好吃！」，卻讓網友驚呆問「能退錢嗎？」。圖擷自臉書社團「爆怨公社」 分享   facebook     許多店家為了促銷商品，都會貼出紅布條吸引顧客注意，但若是布條用語寫法用錯，恐怕會鬧出笑話，讓顧客誤會不敢上門。日前有一位網友在網路上貼出一張照片，只見一個店家在門口掛上紅布條，上面寫著「做了30年蛋黃酥，就是今年最好吃！」的字樣，讓這位網友驚呆，直呼「能退錢嗎？」原PO在臉書社團「爆怨公社」發文，貼出了一張照片，照片中一家月餅店家掛上了紅布條，寫著「做了30年蛋黃酥，就是今年最好吃！」、「即日起訂購月餅買24盒送8盒」的字樣，但原PO看到今年最好吃的字樣相當驚訝，並表示「去年買的能退錢嗎？！」貼文一出後，吸引許多網友留言回應，「你還留著的話，我想是能退的」、「去年吃下去肚子的，能退錢嗎。」、「那麼之前29年是在幹什麼？」、「技術當然是一年比一年進步」、「今年~老闆終於學會做蛋黃酥了，感謝30年以來幫忙花錢試吃的顧客」。也有網友說這是店家故意的行銷手法，每年照樣會掛出一樣的布條，「去年說做了29年今年最好吃！」、「他每一年都掛同樣的布條」、「我想，這布條明年還會掛出來滴」、「可能以後每年都掛這條了」'}\n",
      "{'title': '高鐵撿到一卡皮箱裝300萬現金 失主竟是陳明文？', 'url': 'https://udn.com/news/story/6656/4026475', 'class': '要聞', 'date': '09-03 16:49', 'description': '高鐵北上列車今早拾獲一個登機箱，打開經清點後竟然有300萬元現金，對此高鐵追查後發現失主是民進黨立委陳明文，不過陳明文國會辦公室對此不願回應。有消息指出，這個登機箱已被陳明文的兒子陳政廷領回，這筆錢是他要帶去菲律賓創業用，但不小心遺失在車箱上。陳明文的另一位兒子、台北市政府副發言人陳冠廷則表示，他不清楚，要問當事人。高鐵北上列車拾獲一個登機箱，對此高鐵追查後發現失主是民進黨立委陳明文。圖/取自陳明文臉書 分享   facebook     '}\n",
      "{'title': '韓國瑜惹媽祖生氣？民俗專家：不應消費媽祖或任何神明', 'url': 'https://udn.com/news/story/6656/4025628', 'class': '要聞', 'date': '09-03 11:34', 'description': '國民黨總統參選人韓國瑜9月1日到彰化縣參拜8個宮廟的宗教之行，第一站在鹿港天后宮因人潮推擠，造成一名進香團的乩童在韓國瑜一旁昏倒退駕，乩身梁先生事後對媒體表示，是媽祖因人潮過度推擠，無法入廟，又怕有人受傷，才會生氣退駕。研究媽祖民俗的台中教育大學台灣語文系副教授林茂賢表示，在大廟中進香團都是出出入入，神明在進入過程中不要被打擾是基本禮貌，不過宗教和政治原本就應區隔開，媽祖或任何神明都不應被消費。韓國瑜瑜9月1日到鹿港天后宮時，韓粉們大喊「總統好」「韓國瑜凍蒜」場面熱烈，但因現場熱情民眾推擠，也夾雜著「不要擠，危險」的聲音，當韓國瑜與鹿港天后宮主委張偉東、彰化縣議會議長謝典霖、立委柯呈坊等人參拜完，韓國瑜要走出廟外接受聯訪時，剛好有台北的進香團媽祖神像要進來，現場太擁擠，一名乩童梁先生突然昏倒。乩身梁先生事後對媒體說，當時媽祖沒辦法入廟，又有小朋友跌倒，媽祖擔心有人受傷，才會生氣退駕，他才會昏倒，以前也從未碰過媽祖像這樣生氣而退駕，事後又向媽祖請示才把最後儀式完成，也認為韓國瑜陣營讓入廟儀式中斷，是對媽祖大不敬，實應先等媽祖入廟儀式結束後韓再出來。鹿港天后宮主委張偉東表示，9月1日10點原本有二個進香團要到天后宮進香，為了怕和韓國瑜陣營「強碰」，他們還請進香團延後15到20分進來，跟韓國瑜10點參拜時間可以錯開，沒想到韓國瑜提早15分鐘到，拜完又跟廟方及地方人士在會客室茶敘後，正要出去時剛好碰到進香團要進來，在人潮推擠中，他也看到乩童倒在他和韓國瑜一旁，讓他覺得很尷尬，只能說，任何人要來參拜媽祖都很歡迎，希望不要發生不愉快的事。林茂賢說，不同的政治立場會有不同的解讀，所以宗教和政治應區隔，愈到選舉期間，就會出現一些托夢、神蹟等神明的說法，但很多都不見得是神明真正的神諭，所以任何陣營、任何人都不應消費神明，因為「錯誤的神諭」也可能讓神明的神格破產。廟方人員也表示，通常大廟都是假日進香團特別多，進香團的媽祖在入殿時，也都不應被中斷，韓國瑜離開後，甚至還有韓粉打到廟方抱怨，應先讓韓國瑜有空間說話，讓他們也很困擾。國民黨總統參選人韓國瑜9月1日到彰化縣參拜8個宮廟的宗教之行，第一站在鹿港天后宮因人潮推擠，造成一名進香團的乩童在韓國瑜一旁昏倒退駕。記者林宛諭／翻攝 分享   facebook     國民黨總統參選人韓國瑜9月1日到彰化縣參拜8個宮廟的宗教之行，第一站在鹿港天后宮因人潮推擠，造成一名進香團的乩童在韓國瑜一旁昏倒退駕。記者林宛諭／翻攝 分享   facebook     國民黨總統參選人韓國瑜9月1日到彰化縣參拜8個宮廟的宗教之行，第一站在鹿港天后宮因人潮推擠，造成一名進香團的乩童在韓國瑜一旁昏倒退駕。記者林宛諭／翻攝 分享   facebook     '}\n",
      "{'title': '選不選總統還在等什麼？ 他爆郭台銘等的是「這個」', 'url': 'https://udn.com/news/story/12702/4026159', 'class': '要聞', 'date': '09-03 14:56', 'description': '鴻海集團創辦人郭台銘上午拜訪嘉義市副議長蘇澤峰，脫口說「我今天為什麼希望出來，台灣經濟太弱了，停滯20年，鈔票是沒有顏色的，科技是沒有顏色」。被解讀他想選的念頭更堅定了，究竟何時宣布？民進黨立委郭正亮直指郭會拖到9月13日以後，等民調死亡交叉出現。郭台銘發言人蔡沁瑜被媒體問及「郭提及為何希望站出來」，是否意味著宣布參選？蔡說，郭台銘是中華民國最強外掛，心心念念的想著如何為台灣好，剛剛說得很直接，台灣人民的生活和發展，都與選票和顏色沒關係，至於是否宣布參選的時間會在9月17日前。民進黨立委郭正亮，8月30日在平論無雙節目指出，只有韓國瑜病入膏肓，郭台銘才有機會，這是一個現實，郭為何遲遲不見吳敦義？因為死亡交叉不明確，此時去見吳，吳會翻出很多韓有利的證明，兩人見面不會有結論。他認為郭台銘會拖到9月13日以後，拖到死亡交叉越來越明確，才會宣布要不要選，未來這兩個禮拜預定的一些民調會發表，如果七成以上都是死亡交叉，底氣就更足，可以跟吳敦義攤牌，郭參選的正當性才有。主持人平秀琳笑說，「你把哏戳破了耶」，郭正亮說，「這全世界都知道，郭陣營不承認而已。」黃暐瀚今天早上在他的電台節目說，換瑜是不會發生的，可是這個話題有效果，有人放話有人報導，它有糾纏韓國瑜民調的殺傷力。民調會高會低，不用太在意，也不用心慌，重點在9月8日，韓國瑜發「第二支穿雲箭」新北辦造勢，這天是郭台銘會不會在9月17日去領表的最後一個禮拜，當9月8日爆發出像6月1日凱道氣勢甚至超越的話，就是個關鍵，那會影響很多人，包括在放話換瑜的人，或聽到換瑜左右為難的國民黨立委參選人們。鴻海創辦人郭台銘（左）上午到嘉義市拜會嘉義市副議長蘇澤峰（右），雙方就經濟發展進行討論。記者陳柏亨/攝影 分享   facebook     '}\n",
      "{'title': '40元小花瓶漲至300萬 男上網轉賣才知是皇帝裝飾品', 'url': 'https://udn.com/news/story/6810/4025529', 'class': '全球', 'date': '09-03 11:01', 'description': '經過鑑定這只花瓶是乾隆皇帝的御用裝飾品。圖擷自Sworders 推特 分享   facebook     不起眼的小店有時也能挖到寶，英國一名男子到一家慈善商店以1英鎊（約新台幣38元）購買一個黃色的梨形小花瓶，之後將它放到eBay網站上拍賣。沒想到商品一釋出，便有許多人對此表達興趣，這名男子這才知道他買到的是乾隆皇帝的花瓶。英國《每日郵報》報導，這名男子到英國赫特福德郡（Hertfordshire）一間慈善商店以一英鎊的價格買下。隨後他將這個花瓶放到eBay上拍賣，沒想到收到來自四面八方的報價，這才意識到這個花瓶大有來頭。男子於是決定撤下花瓶，交給拍賣公司鑑定。負責公司「Sworders Fine Art Auctioneers」告訴他這只8英吋的花瓶是為清朝皇帝乾隆製作的，上頭有乾隆皇帝的印章和一首題辭。黃色琺瑯材質都象徵這只花瓶相當珍貴，黃色是皇帝使用的顏色，而琺瑯在當時屬舶來品，也是皇室才能擁有的特殊材質。截至8月31日，這只花瓶標價8萬英鎊（約新台幣307萬），拍賣公司Sworders表示，這是一只相當高品質的花瓶，而他們也非常興奮這只花瓶引起許多買家興趣。拍賣會將於11月8日進行，賣家預估最終賣出的價格將大大超過8萬英鎊。This Qianlong famille rose wall vase was bought from a charity shop for just £1, however it is expected to make over £50,000 in our November Asian Art Auction! But why is it so special? Read the full story - https://t.co/w8fPa1puQq #chinese #qianlong #charityshop pic.twitter.com/o83x4OZW3L/center>'}\n",
      "{'title': '高鐵撿到裝300萬登機箱 陳明文兒子：珍奶店南進資金', 'url': 'https://udn.com/news/story/6656/4026673', 'class': '要聞', 'date': '09-03 18:17', 'description': '高鐵北上列車今天早上拾獲一個登機箱，打開經清點後竟然有300萬元現金，高鐵追查後發現失主是民進黨嘉義縣重量級資深立委陳明文； 陳明文妻子廖素惠說，這筆錢是拿給么兒陳政廷的創業資金； 陳政廷說，這筆錢是到菲律賓開珍珠奶茶店的創業資金。廖素惠說，27歲么兒政廷拿錢要採購製作珍珠奶茶設備，與朋友到菲律賓合夥作生意，還好裝錢的登機箱被撿到，失而復得，天下父母心，么兒讓她和丈夫擔心牽掛，她和丈夫對孩子管教態度不同，不贊成拿錢給么兒與朋友出國做生意，擔心么兒受騙。陳政廷說，行李遺失讓大家關心，實在非常抱歉，首先感謝台灣高鐵及警方協助尋回行李箱，但部分媒體對這件事情描述與事實並不相符，「這2年我因緣際會前往菲律賓當地台商工作，在菲律賓這段時間讓我產生了創業的想法，日前父親到菲律賓探視我，在逛街時候，我們感受到台灣珍奶可打進菲律賓市場，我們討論後，爸爸決定讓我投資，支持我在菲律賓開台灣珍珠奶茶店！讓台灣珍奶南進。今天遺失的現金，是這幾天我回台灣時，請爸爸向媽媽拿的，300萬現金是用來付台灣廠商設備、原物料及外幣開戶費用，很感謝台灣高鐵及警方協助取回，最後謝謝大家的關心與指教，希望在我的努力之下，台灣珍奶的新南進能夠更加順利，我希望媽媽能看到我的努力，有天能從反對轉而支持我，以我為傲！」陳明文夫妻生育2男1女，長子陳冠廷現任台北市政府副發言人，與日本籍妻子結婚生子； 老二女兒出國留學 ；小兒子陳政廷大學畢業，後考取研究所，但未完成學業，服完兵役後出社會，計畫與朋友到菲律賓合夥作珍珠奶茶生意，廖素惠為管教么兒政廷煩憂，希望小兒子記取這次教訓。嘉義縣立委陳明文(右)與妻子廖素惠(左)。圖／擷取廖素惠臉書 分享   facebook     '}\n",
      "{'title': '韓國瑜民調落後 徐世榮：夫妻倆「毋甘輸贏」兩頭落空', 'url': 'https://udn.com/news/story/120536/4025358', 'class': '要聞', 'date': '09-03 08:25', 'description': '有媒體民調顯示明年總統大選藍綠對決的情況下，蔡英文總統連任支持度43.7%，大勝國民黨參選人韓國瑜12.7個百分點創新高。政治大學地政系教授徐世榮說，韓國瑜民調落後的主因之一，是他及太太李佳芬都「毋甘（捨不得）輸贏」。徐世榮在臉書發文說，對於韓國瑜民調持續下滑，與對手出現巨大的落差，韓國瑜競選總部發言人何庭歡表示韓市長將持續拚好市政作為競選最好政見。「但是，韓國瑜過去有拼好市政嗎？」徐世榮質疑韓國瑜未來有可能拼好市政嗎，現在把許多時間都放在外縣市拚總統大選，怎麼可能還有心思與精力用來拚好市政。徐說，韓國瑜不可能一方面要當毫無經驗的市長，另一方面要拚總統大選。他說，自己的好友斷言韓國瑜絕不可能選上總統，理由是因為不論是韓國瑜或是李佳芬，「他們都『毋甘（捨不得）輸贏』！」意思是說，他們任何的好處都要，既有的也都捨不得放，根本就沒有破釜沉舟放手一搏的志氣與勇氣，最後的結果應該就是兩頭落空。徐世榮說，看最新公布的蔡英文與韓國瑜民調的巨大差距，覺得好友說的沒錯。國民黨總統參選人韓國瑜（左）與妻子李佳芬向民眾致意。本報資料照片 分享   facebook     '}\n",
      "{'title': '管中閔被申誡只是「前菜」 台大博士生：大餐還在後面', 'url': 'https://udn.com/news/story/120604/4025806', 'class': '文教', 'date': '09-03 12:31', 'description': '針對公懲會昨天對管中閔指控為兼職行為做出申誡處分，去年曾經為管中閔上任，提出過行政救濟與聲請暫時狀態處分的台大博士生王宗偉表示，「事情大概還沒結束」，已經有台大師生要管中閔主動請辭，這支目前尚無實際效果的申誡，「恐怕只是伏筆與前菜，大餐還在後面。」王宗偉表示，公懲會因為是一級一審現已定讞，管中閔頂多只能提再審。他估計，能夠「翻盤」的機率極小，管中閔應該審慎為之，現在好好治理台大就是功德無量。王宗偉說，去年1124地方選舉執政黨大敗，迫使民進黨政府讓管中閔上任。但10月起，我國的大法官有11位將會是蔡英文總統提名，判斷法律合憲違憲與否只需要10票，恐怕都是他們說了算，以後司法系統更掌握在層峰手中。等到明年1月11日內鬥內行的在野黨總統立委雙輸的時候，蔡總統連任成功，就實現三權歸一。王宗偉悲觀地表示，只怕到那時當局還有其他手段要用來整管中閔，台大又要沒校長。台大。本報資料照片 分享   facebook     domready(function() {if ( !countDownStatus ) getCountdown();if ( !highChartsStatus ) getHighcharts();});domready(function() {var channelId = 2;var actArea = \"poll_at_story_0_v704\";var actCode = \"v704\";var actTemplate = \"bar2\";var elemDiv = document.createElement(\\'div\\');elemDiv.id = actArea;elemDiv.className =\\'vote_body area\\';var scr = document.getElementById(actArea+\\'_script\\');scr.parentNode.insertBefore(elemDiv, scr);$.getScript(\\'/funcap/actIndex.jsp?actCode=\\' + actCode + \\'&channelId=\\' + channelId , function() {actTemplate = eval(\\'objAct_\\' + actCode + \\'.d1.actTemplate\\');$.ajaxSetup({ cache: true });$.getScript(\\'/func/js/\\' + actTemplate + \\'_min.js?2019082101\\', function() {$.ajaxSetup({ cache: false });piepkg();loadTemplateJs(actTemplate);eval(actTemplate + \\'view(\"\\' + \\'#\\' + actArea + \\'\");\\')})});});'}\n",
      "{'title': '姓「黃」民眾吃「品田牧場」打88折！穿黃衣、名字有「ㄏㄨㄤˊ」也適用', 'url': 'https://udn.com/news/story/7270/4025613', 'class': '生活', 'date': '09-03 11:27', 'description': '姓「黃」的朋友注意囉！王品旗下的「品田牧場」，自即日起推出優惠活動，只要符合「穿黃衣」、姓「黃」，或是名字中有「ㄏㄨㄤˊ」的任一條件，即可享338～398元套餐2客以上88折的優惠。品田牧場目前在全台北中南共有15間分店，提供多款日式炸豬排相關料理。其中人氣最高的「厚切腰內豬排」，使用腰內肉搭配辣味麵漿、麵包粉製作而成，而「四國味噌里肌豬排」則是讓里肌豬排佐以四國愛媛縣麥味噌佐醬、蘿蔔泥和蔥花一同享用，另外還有可一次品嚐到腰內豬排與草蝦的「海老腰內豬排」等料理。即日起至9月30日的平日期間，品田牧場全台門市推出優惠方案。符合「穿黃衣」、姓「黃」，或是名字中有「ㄏㄨㄤˊ」的任一條件，可享338～398元套餐2客以上88折的優惠（需出示身份證件）。另外民眾在同期間至店內消費，完成店內打卡評論任務，即可獲得會員卡1張，可享95折優惠（下次消費使用）。品田牧場推出優惠活動，用餐可享88折。圖／王品提供 分享   facebook     '}\n",
      "{'title': '台灣為何買M1戰車 柯文哲爆料：AIT說「沒叫她買這個」', 'url': 'https://udn.com/news/story/10930/4026732', 'class': '要聞', 'date': '09-03 18:50', 'description': '美軍M1戰車畫面。圖／截自新浪軍事 分享   facebook     台北市長柯文哲晚間接受《POP大國民》主持人蔡詩萍專訪，被問到柯是政黨主席，對香港反送中的態度？柯文哲說，台灣該準備的還是要準備，柯文哲又說，買F16還有話講，但為何買M1戰車？實在想不通， M1戰車對台灣的橋梁無法負荷，所以買托式飛彈，講得過去，但買M1就想不通，聽了就怪怪的。柯文哲接著說，他是不好意思講，他跟AIT抱怨，「怎麼買那些？」AIT說，「我們又沒有叫她買這個」， 這句話聽起來怪怪的。柯文哲說兩岸一家親，但主持人問柯，香港問題怎麼辦？柯說，大陸要誠實面對問題，若要躲避，就說是CIA 鼓動、港獨台獨合流，但如果不是，沒有民怨，不會鼓動得起來，不會因為一個條文，這不可能，大陸為何會讓香港人民不滿意，要面對現實。至於台灣不想被藍綠綁架在香港議題上，該如何表態？柯認為，平鋪直述就好， 指出問題在哪，要去駡中國？「中國不用你駡」，好壞大家都曉得，駡也沒用，只是對方惱羞成怒，就指出問題就好 。且他會做一件事，不是說香港難民法，這麼難聽，可以用高科技人才移民法。台北市長柯文哲晚間接受《POP大國民》主持人蔡詩萍專訪。圖／取自 《POP大國民》 分享   facebook     '}\n",
      "{'title': '中油不續約了...38座Gogoro換電站9月底前停止服務', 'url': 'https://udn.com/news/story/7241/4026034', 'class': '產經', 'date': '09-03 14:01', 'description': '電動車大廠Gogoro宣布，有38座在中油的電池交換站9月30日合約到期，中油決定不再續約，這些電池交換站將會在9月底之前陸續停止交換服務。圖為2.0電池交換站在斷電後具有維持 48hr營運的特色。記者林鼎智／攝影  分享   facebook     電動車大廠Gogoro宣布，有38座在中油的電池交換站9月30日合約到期，中油決定不再續約，這些電池交換站將會在9月底之前陸續停止交換服務。Gogoro公司表示，在到期之前的三個月期間，公司積極爭取與中油公司續約，表達最大的誠意，不過中油公司以多方考量，最終表示不再續約。Gogoro將盡力增設新的據點，滿足用足的需求。Gogoro公司強調，全台電池交換站已近1,400個站，其中在中油有300個據點，這次38個據點終止服務之後，仍有262個中油據點提供電灣電池交換，Gogoro全年1,500個站點的目標仍然維持不變。Gogoro公司指出，雖然大部分的站點附近都有其他交換站可以提供服務，但為了方便用戶，必須提早告知用戶，因此在官網上公告提供相關資訊。截至目前為止，全台 GoStation® 電池交換站已近 1,400 站，並累積超過 5,000 多萬的電池交換次數。隨著用戶數快速成長以及持續優化服務的前提下， Gogoro Network 一向致力在最佳、最便捷的位置設立電池交換站，並隨時更新 GoStation® 電池交換站位置異動的資訊。官網公告指出，這些電池交換站點皆為 Gogoro Network 初期佈建的先鋒站點，為許多新時代車主開啟智慧電池交換的服務；對於將受影響的用戶，除了可到周遭既有的站點交換電池外，我們也將持續增設新的站點，提供便捷的智慧電池交換服務。Gogoro Network 感謝台灣中油公司長期來的支持，是我們推動 GoStation® 電池交換站遍佈全台的重要夥伴之一，我們在台灣中油公司仍有數百個站點並持續增設新的電池交換站，共同為 Gogoro Network 用戶提供智慧電池交換服務。展望未來，將持續與台灣中油公司及其他夥伴合作，在全台提供不間斷與優質的服務。》自營商進出明細&nbsp\\xa0》外資持股增減排行》即時選股找重點&nbsp\\xa0》漲跌幅即時排行'}\n",
      "{'title': '綠指老共是最可怕敵人？孫大千：蔡英文撿到四把槍', 'url': 'https://udn.com/news/story/6656/4025415', 'class': '要聞', 'date': '09-03 09:44', 'description': '負責操盤蔡英文總統選戰的行政院前副院長林錫耀昨表示，「最可怕的敵人就是對岸老共」，中共絕不樂見民進黨繼續執政，一定想方設法讓民進黨不好過。對此，前立委孫大千表示，蔡英文很明顯的打算打一場用「芒果乾（亡國感）」來騙取選票的選戰。孫大千指出，蔡英文正在熱切期待著撿到下列四把槍。第一把、香港「反送中」運動全面失控，迫使北京政府強力鎮壓；第二把、川普政府在軍事或政治上加碼台灣，挑釁中國大陸，導致北京政府必須做出反應；第三把、北京政府再度挖角台灣的邦交國，緊縮台灣的國際生存空間，造成台灣人民的窒息感；第四把、重演2016年的「周子瑜事件」，利用大陸網友現今高漲的民族主義情緒，刻意製造事端，點燃兩岸網友的戰火。孫大千說，這四把槍都要仰賴北京政府的配合，如果沒有了北京政府，真不知道蔡英文要如何選下去。對民進黨來說，老共真的是「最可怕的敵人」嗎？蔡英文總統。本報資料照片 分享   facebook     '}\n",
      "{'title': 'LINE貼圖新功能！照片、影片都開放使用了', 'url': 'https://udn.com/news/story/11017/4026749', 'class': '數位', 'date': '09-03 20:14', 'description': 'LINE推出iOS9.15.0更新，開放使用貼圖和表情貼來裝飾照片與影片。 圖／取自LINE官方BLOG 分享   facebook     通訊軟體LINE推出iOS9.15.0更新，開放使用貼圖和表情貼來裝飾照片與影片，Android版本將在近期新增這項功能；先前在Android版本新增的「主頁」頁面，也正式在iOS 9.15.0登場。LINE今天在官方部落格發文說明，iOS 9.15.0版本的用戶編輯照片和影片時，可使用已購買的LINE貼圖及LINE表情貼進行裝飾。以照片為例，先在聊天室中點選圖片的圖標，選擇照片，輕觸小縮圖的中間，再開啟編輯頁面，會看到右上角多了一個動來動去的表情，就能選擇貼圖加到照片中，還可以用手指拖曳去移動位置與放大縮小。其他新功能方面，iOS用戶升級到LINE iOS 9.15.0以上版本時，LINE中的「好友」頁面就會更新為「主頁」，包括好友名單在內的共有5種分類資訊入口，讓需要的資訊更好找。此外，LINE iOS 9.15.0也讓用戶可以查看LINE限時動態的觀眾名單；而且可於相簿中直接將照片儲存至Keep。'}\n",
      "{'title': '撿到陳明文登機箱內藏300萬元現金？高鐵低調回應了', 'url': 'https://udn.com/news/story/6656/4026569', 'class': '要聞', 'date': '09-03 17:33', 'description': '高鐵北上列車今早拾獲一個登機箱，打開經清點後竟有300萬元現金，外傳失主是民進黨立委陳明文，但陳明文國會辦公室對此不願回應。至於該登機箱如何遺失，以及是否已被領回，高鐵今天僅低調表示，「旅客遺失物屬個人隱私，高鐵公司無法對外說明」。高鐵表示，對旅客遺失物均以審慎態度處理，高鐵人員拾獲遺失物後，會進行檢視、建檔及入庫作業，若可查詢遺失人的聯絡資料，則會主動聯繫遺失人前來認領；若無法查詢遺失人，即會進行後續建檔與入庫保管等待人員認領。高鐵說，相關遺失物依鐵路法規範保存一年；無人認領的遺失物，如為電子產品類，因涉及「個人資料保護法」問題，委由政府立案之資源回收商進行銷毀，以避免爭端；如為衣物、用品類物品，捐予公益團體辦理義賣活動及轉贈弱勢機構。嘉義縣民進黨重量級資深立委陳明文。資料照片 分享   facebook     '}\n",
      "{'title': '只是被公雞啄了一口！女失血過多身亡 法醫揭關鍵死因', 'url': 'https://udn.com/news/story/6810/4025420', 'class': '全球', 'date': '09-03 11:02', 'description': \"澳洲傳出一起離奇的死亡案件，抓到的兇手並不是人，而是一隻公雞！一名婦人在自家的農舍打算拿取雞蛋，不料過程中突然被公雞啄了一口，竟造成失血過多身亡。法醫專家事後檢驗，只發現了2處撕裂傷，不過該女性有靜脈曲張、糖尿病、高血壓病史，研判可能因此導致血管脆弱造成憾事。一名婦人遭公雞啄傷，意外導致失血過多身亡。圖為示意圖。 歐新社 分享   facebook     根據外媒報導，一名居住在澳洲南部的年長女性，在家中有飼養雞隻，她按照平日習慣到雞舍內撿拾雞蛋，卻意外遭到攻擊。婦人被公雞啄了一口之後血流不止，還當場暈倒。女子被發現時已失血過多，不幸身亡，事後在現場發現一隻公雞喙處沾滿鮮血。阿德萊德大學法醫專家比亞德(Roger Byard)研判，該名婦人有靜脈曲張、高血壓及糖尿病的症狀，因為血管特別脆弱，被公雞攻擊左腿之後才會導致不斷失血身亡。「這個案例讓我們知道老人家多麼脆弱」，比亞德另外指出，貓出現在房子周遭亦會對老人造成跌倒危機，因為貓喜歡摩擦腳踝和腿，坐在人類身後常會意外導致老人被絆倒。比亞德提醒，「體型相對較小的家畜，也可能造成致命危機」，希望能喚起民眾的警覺性。An elderly woman's death after she was attacked by a rooster on her rural South Australian property has sparked a warning for those with varicose veins. #7NEWS https://t.co/mUK2YjqvRF\"}\n",
      "{'title': '郭台銘急徵副手 2熱門人選皆已「見光死」', 'url': 'https://udn.com/news/story/12702/4026192', 'class': '要聞', 'date': '09-03 15:19', 'description': '鴻海創辦人郭台銘將在17日連署申請截止前宣布是否參選，而外界傳言的副手人選皆已見光死。 記者葉信菉／攝影 分享   facebook     鴻海創辦人郭台銘決定獨立參選的跡象越來越明朗，外界也十分關心他的副手人選，近期曾傳出郭台銘有意找新北市長侯友宜的二哥侯明鋒擔任副手，但已遭到婉拒，而另一位外傳人選成大校長蘇慧貞也表示沒有被徵詢，外界的2位熱門人選可能皆已見光死，如今連署聲請截止日即將來臨，尋找副手成為郭辦的當務之急。郭台銘曾表示將在17日連署申請截止前說明是否獨立參選總統，如今期限即將來臨，過去郭曾表態高醫大附設醫院院長侯明鋒是不錯的副手人選，有意找他一起合作，但侯已在昨日出面婉拒，並表示會專注在教學研究上，而另一位熱門人選成大校長蘇慧貞也否認此事，並說無人向她徵詢，她也無心從政。面對熱門的副手人選都已見光死，郭辦也將尋找副手視為參選的當務之急，永齡基金會副執行長蔡沁瑜表示「如果我們要參選的話，9月17日確實是一個期限，我們一定要把這件事（找副手）做好，如果要往參選方向規劃的話，這也是我們的當務之急」。過去郭辦曾提出副手要為本省籍、出生南部或女性的條件，除了已經見光死的名單外，也有2位人士被前新北市長朱立倫視為副手熱門人選，資深媒體人沈春華和國民黨前主席鴻海獨董詹啟賢被朱立倫看好擔任副手，但沈春華先前已在朱立倫的直播中表示「我都不要，這麼多年以來，我真的還是志在媒體。」明確否定外界的傳言。domready(function() {if ( !countDownStatus ) getCountdown();if ( !highChartsStatus ) getHighcharts();});domready(function() {var channelId = 2;var actArea = \"poll_at_story_0_v703\";var actCode = \"v703\";var actTemplate = \"bar2\";var elemDiv = document.createElement(\\'div\\');elemDiv.id = actArea;elemDiv.className =\\'vote_body area\\';var scr = document.getElementById(actArea+\\'_script\\');scr.parentNode.insertBefore(elemDiv, scr);$.getScript(\\'/funcap/actIndex.jsp?actCode=\\' + actCode + \\'&channelId=\\' + channelId , function() {actTemplate = eval(\\'objAct_\\' + actCode + \\'.d1.actTemplate\\');$.ajaxSetup({ cache: true });$.getScript(\\'/func/js/\\' + actTemplate + \\'_min.js?2019082101\\', function() {$.ajaxSetup({ cache: false });piepkg();loadTemplateJs(actTemplate);eval(actTemplate + \\'view(\"\\' + \\'#\\' + actArea + \\'\");\\')})});});'}\n",
      "{'title': '是墨綠？ 柯文哲：我還是綠營的、很討厭外省人', 'url': 'https://udn.com/news/story/6656/4026774', 'class': '要聞', 'date': '09-03 19:19', 'description': '台北市長柯文哲晚間接受《POP大國民》主持人蔡詩萍專訪，談到從政初衷，對於柯文哲曾說自己是墨綠，但到現在和綠營卻愈來愈遠。對此，柯文哲說，「我還是綠營的，底色沒有改變」，柯還說，「我們這種228家族」，就很討厭外省人，家族在言談之間，還是綠底的。柯文哲也說， 但當台北市長後，發現比較容易跳過去，因為當醫生有關係，病人送來，不能問他「你國民黨、還是民進黨」，不能國民黨來的就不打麻藥，不可能嘛，後來當市長，不管是國民黨、民進黨議員，只要他認為講得有道理，就會幫忙做，不會因為黨籍關係，選民服務就去擋，當醫生沒有分藍、綠，當市長沒有分國民黨、民進黨。柯文哲說，後來國民黨議員都說，「哇，你比郝龍斌還好拜託。」柯文哲說自己的底色是綠色？主持人問柯，和蔡英文在台灣價值辯論 ，還有粉絲退粉，現在綠營支持者投向蔡英文，柯文哲說，這種本省228家庭，本來就有意識形態，但他去美國，國務院也問他這個題目，他說，不能說統一就可以貪汙，不是講台獨就可以亂七八糟， 「愛台灣不是你定義的」，「照你的方法」，不照就不是愛台灣， 「Ｋ得你滿頭包」。柯文哲說，他問小英台灣價值為何，為何答不出來什麼？她說維護民主自由？拜託! 誰不是？要台灣主體性，這不是更廢話？在台灣誰不是有主體性，至於台灣要安全？這不是屁話嗎，誰不注重，「講出來都是屁話」。對於民進黨為何操作賣台？柯文哲說，因為不認真做事，仇恨恐懼都用這種方法執政，這是政治動員最有效的方法。台北市長柯文哲晚間接受《POP大國民》主持人蔡詩萍專訪。圖／取自POP大國民。 分享   facebook     '}\n",
      "{'title': '日職／大谷繼續在大聯盟發光 藤浪還在二軍砸人', 'url': 'https://udn.com/news/story/7001/4024643', 'class': '運動', 'date': '09-03 07:00', 'description': '大谷翔平在18年轉戰大聯盟，延續在日職的投打二刀流，該季先發10場，投出4勝2敗3.31防禦率的成績，打擊方面更是優異，打出22轟、61分打點，打擊率也有2成85；今年雖然因傷無法上場投球，但目前仍有2成89打擊率、102安、16轟、54分打點的表現，這兩年在大聯盟刮起了一陣大谷旋風。相對於大谷，同年一起加入日職，當初也與他齊名的藤浪晉太郎，這幾年卻面臨生涯最重大的考驗。大谷翔平本季雖然無法上場投球，但他在打擊上的表現還是可圈可點。 美聯社 分享   facebook     藤浪最近的一次出賽是在8月的最後一天，在二軍面對軟銀先發，投了5局被打出7支安打，另外還送出包括一次觸身球在內的5次保送，丟掉7分；12天前的先發，同樣是投5局，被打8支安打失3分，但也送出4次保送，仍有觸身球；10日的先發則是投完6局，被打8支安打失4分，保送有3次；總計藤浪8月在二軍先發3場，16局的投球被打出23支安打，雖有14次三振，但保送也多達12次。控球是藤浪這幾年在一、二軍間掙扎的主因，他今年只在一軍出賽過一場，先發面對火力威脅性不強的中日，雖然投4又1/3局被打出4支安打，投出3次三振，只丟掉1分，但保送卻多達6次，其中觸身球就有2次，投完這場後馬上就再被下放二軍至今，從二軍這幾場的表現，外加阪神距離前段班只剩2場勝差的情形看來，藤浪本季要重回一軍的機會實在不高，將創下個人生涯單季出賽新低紀錄。其實藤浪在剛進職棒的那幾年，表現可說是與大谷不相上下，13年新人球季就拿下10勝，接下來的14、15年兩個球季也分別有11勝及14勝的成績，16年雖只有7勝，但仍入選明星賽，球季結束後也獲選為WBC日本國家隊。而在這生涯的前4個球季，藤浪的控球並沒有多大的問題，從14到16年的連續3季，K/BB值都在9以上，15年還曾以221次三振奪下央聯三振王。阪神虎在2012第一輪選秀中抽到藤浪晉太郎，他從2015球季之後就開始走下坡，今年多待在二軍，但控球一直沒有改善。 聯合報系資料照片 分享   facebook     17年球季開始，藤浪控球突然走鐘，該年因控球問題在球季中被下放二軍調整，最終只在一軍出賽11場，留下3勝5敗的成績，59局也只投出41次三振，但保送竟多達45次，觸身球就有8次；18年也只出賽13場，成績是5勝3敗，不過防禦率超過5，71局的投球也送出47次的保送，雖然比前一年進步，但控球仍有問題。尤其是對右打者內角的位置，超過150公里的速球常常失控而形成接近打者的危險球，不管在一軍或二軍都曾直接打中打者的頭部，甚至還因此而引發清空板凳的事件。離譜的控球讓藤浪在球迷間嘲弄為殺人野球，對手球隊在面對他先發時，還在打線上刻意減少右打者的數量，以預防球員被觸身球擊中而骨折受傷的情況。藤浪投球不定時失控的狀況直到今年仍持續發生，而且沒有改善的跡象，由於球速還是都能在150公里以上，也沒傳出什麼重大傷勢的消息，看起來身體應無礙，或許原因是在其他方面，不過這麼多年過去，歷經了兩任監督，阪神一、二軍教練團對藤浪的問題還是束手無策，他自己也無法突破困境，一個天生好手可能就因為各方的無作為，而消逝在時間當中了。\\n☆ 歡迎造訪FB粉絲專頁：福耳的原野藝想世界'}\n",
      "{'title': '她買星巴克杯上名字「河馬」 媽媽氣得上門理論', 'url': 'https://udn.com/news/story/6812/4025431', 'class': '全球', 'date': '09-03 10:47', 'description': '娜迪亞上星巴克買咖啡，店員卻將她的名字寫成河馬。圖擷自太陽報 分享   facebook     買過星巴克都知道，店員會在飲料杯身寫下顧客姓名，待飲料做好便能告知顧客不怕拿錯。但在英國一名女子娜迪亞（Nadia Khan）在拿到咖啡時，杯上寫的並不是她的姓名而是河馬，娜迪亞雖不以為意，但她的媽媽卻認為女兒遭到羞辱，氣得到店裡理論。英國《太陽報》2日報導，娜迪亞上周一到倫敦的一家星巴克消費，點了一份餅乾和一杯星冰樂。餐點完成後，娜迪亞拿到飲料，卻發現杯上寫得不是她的名字而是「河馬」（hippo）。但當時娜迪亞只認為店員字很潦草，可能是寫錯而不以為意。不過她的媽媽安德里亞認為娜迪亞被羞辱，氣的到店裡找店員理論。娜迪亞表示，她的媽媽到店裡告訴店員，不論顧客是胖是瘦，都應該尊重顧客，店員的行為非常不專業。目前星巴克已向娜迪亞致歉。星巴克發言人表示，長期以來，星巴克都會在杯子上寫下顧客的姓名來與顧客建立聯繫，這次事件也已直接向顧客道歉。星巴克承諾將密切與店家保持關注，確保未來不再發生相同事件。'}\n",
      "{'title': '雙颱夾擊！玲玲今午恐發海警 晚上雨勢開始增強', 'url': 'https://udn.com/news/story/120716/4025312', 'class': '生活', 'date': '09-03 04:59', 'description': '輕颱玲玲今晚開始為東半部地區及南部山區帶來雨勢。圖／取自中央氣象局網站 分享   facebook     輕颱玲玲昨天生成，今天中午前後不排除發布海上颱風警報。中央氣象局表示，今晚開始台灣天氣將受颱風外圍環流影響，東半部地區及南部山區降雨增加。另外，今天下午開始東半部、北部沿海及離島地區有長浪發生機率，海邊活動須注意安全。氣象局表示，今天各地白天晴朗炎熱，高溫約32至35度，僅花東及恆春半島有局部短暫陣雨，午後中南部地區及北部、東北部山區有局部短暫雷陣雨；晚上開始受到颱風外圍環流影響，東半部地區及南部山區降雨會開始增加。氣象局預測，輕颱玲玲未來將偏北通過台灣東部海面，周三、周四最接近臺灣，各地容易有短暫陣雨，由於路徑仍有不確定性，須留意颱風最新動態。隨著颱風接近，今天下午起東半部、綠島、蘭嶼、南部、基隆北海岸沿海地區及澎湖有長浪發生的機率，前往海邊活動請注意安全。氣象局說，原位於東京灣之熱帶性低氣壓，今天凌晨2時發展為今年第14號颱風（國際命名：KAJIKI，中文：劍魚），未來將轉向東北進入南海，並往華南沿岸接近，暫對台灣無影響，後續有不確定性須密切觀察。'}\n",
      "{'title': '機車族注意！停等區這個位置少停小心被撞', 'url': 'https://udn.com/news/story/7320/4025460', 'class': '社會', 'date': '09-03 10:17', 'description': '機車族注意，停在停等區停錯位置小心被撞。新竹市監理站長朱詩蘅指出，停等區左上角為盲區，容易被轉彎車輛撞上，提醒機車駕駛人留意。新竹市監理站則發現機車停等區左上角為盲區，容易被轉彎車輛撞上，站長朱詩蘅說，新竹市的路幅較狹窄，許多易肇事路口雖畫有轉彎線輔助車輛左轉，但許多車輛左轉時未按轉彎線行駛，左側視線易被A柱遮擋，左轉時又往往只注意右側來車，大型車轉彎又有內輪差，停在停等區的左上角，容易被轉彎車輛撞上或貨車勾到。朱詩蘅身兼竹苗區車輛行車事故鑑定委員會召集人，他說，在停等區被撞肇責明確通常私下合解，但有的機車停在停等區線外被撞有肇責問題，會送到車鑑會，看到受理的案件撞擊情形，也讓他注意到停等區的盲區，監理站的道安路權公園特別為參觀的學生及新考領機車駕照者講解停等區的盲區，建立正確的道安防禦觀念。新竹市監理站發現機車停等區左上角為盲區，容易被轉彎車輛撞上，提醒機車族注意。圖／新竹市監理站提供 分享   facebook     新竹市監理站發現機車停等區左上角為盲區，容易被轉彎車輛撞上，站內道安路權公園特別為新考領機車駕照者解說停等區的盲區，希望建立正確的道安防禦觀念。圖／新竹市監理站提供 分享   facebook     '}\n",
      "{'title': '學測申請八成醫學系不採社會科 北醫大明年擬跟進', 'url': 'https://udn.com/news/story/6925/4026001', 'class': '文教', 'date': '09-03 13:48', 'description': '108學年起大學學測個人申請至多採計4科，台北醫學大學醫學系決議109學年要採計國文而不採社會，最終結果以大學招聯會11月1日公告的簡章為準。醫學系是不少頂尖高中生的第一志願，108學年學測個人申請入學改採5選4科，全台11所醫學系中，9所棄採社會，北醫大、慈濟大學醫學系則棄國文採社會科。慈濟大學表示，系上尚未決定要採哪4科。北醫大醫學系副系主任吳瑞裕表示，系上決定109學年學測個人申請入學採國文、英文、數學、自然4科，不採社會。北醫大強調人文關懷，是醫學系108學年選採社會的原因。系上評估後，認為採計國文也符合學校發展目標，所以決定改採國文、不採社會。但最終結果仍以大學招聯會簡章為準。大學招聯會表示，今年11月1日會釋出紙本與電子版招生簡章，公告各校系使用科目。不過109學年採計英聽的校系已公告。招聯會秘書戴念華說，招聯會尊重各校系選擇採計的科目。僅對今年面臨嚴重超篩的科系提出參考建議，但最後仍由各系做決定。北醫大醫學系決議109年學測個人申請採計國文、英文、數學、自然4科。本報資料照片 分享   facebook     '}\n",
      "{'title': '韓國瑜：國民黨輸恐亡黨 盼退役軍人動員打贏2020', 'url': 'https://udn.com/news/story/120536/4025306', 'class': '要聞', 'date': '09-03 02:53', 'description': '國民黨總統參選人韓國瑜昨晚會見中華民國中央軍事院校校友代表，他在致詞時表示，如果這一戰國民黨輸了，可能會土崩瓦解，甚至亡黨，希望所有中央軍事院校的袍澤們都能全力動員，打一場屬於中華民國，屬於台灣2300萬人民，屬於子子孫孫的漂亮選戰。韓國瑜致詞時表示，2020年的選舉已經不是小我跟小愛，而是中華民國保衛戰，大愛跟大我。雖然站在這個候選人的擂台上，但是小我對他來講一點都不重要，而是要能真正能夠保衛中華民國，保護2300萬的人民，雖然這一代很辛勞、很辛苦的打拚，但能為下一代創造更美好的未來，是這一代的責任。韓國瑜說，如果這一戰民進黨輸了，他仍會迅速變成強大的反對黨；反觀若是國民黨輸掉了，可能會土崩瓦解，樹倒猢猻散，恐有亡黨之嫌。接下來，整個國家的外交處境，兩岸越來越劍拔弩張，「我們怎麼能不害怕？」國民黨總統參選人韓國瑜與中華民國中央軍事院校校友。記者劉宛琳／攝影 分享   facebook     國民黨總統參選人韓國瑜。記者劉學聖／攝影 分享   facebook     '}\n",
      "{'title': '撿到陳明文登機箱300萬現金 他大酸：偉大的父愛奶茶金', 'url': 'https://udn.com/news/story/6656/4026870', 'class': '要聞', 'date': '09-03 20:27', 'description': '高鐵列車今天拾獲一只登機箱，打開清點發現有300萬元現金，追查後發現失主是民進黨立委陳明文。有「雲林網紅菜農」、「大砲菜農」封號的林佳新今天在臉書大酸，看到這則報導，才知道小英總統身邊的人多麼愛台灣，為了標榜和中國大陸不一樣，連一般銀行匯兌都不願使用。才知道大家頂多買珍珠奶茶給小孩喝，陳卻直接幫忙開珍珠奶茶店。才知道小英身邊紅人多麼親力親為。以前人家用行李箱裝現金去送給扁嫂，陳則是親自裝錢去送給兒子，絕不假手他人。林佳新說，2008年陳明文委員被收押後的保釋金是300萬，如今讓世人感受他偉大父愛的珍奶金也是300萬。換句話說，300還真的是陳的Lucky number。林佳新今天在臉書以「感人的父愛」大酸陳明文，林表示，看完這則報導，他才發現自己長期生活在雲林鄉下，真的如同井底之蛙，都不知道外面的世界有多大。原來在菲律賓開家珍奶店需要台幣300萬，比在台灣開店還貴好幾倍。原來台灣已經落後菲律賓了。林佳新說，看完這則報導，也才知道小英總統身邊的人是多麼愛台灣。為了標榜台灣和中國大陸不一樣，不但嘲笑人家微信紅包、支付寶轉帳真的沒什麼，甚至連一般的銀行匯兌都不願意使用。300萬，直接拿現金。陳委員對兒子的愛，都深深隱藏不外露，連銀行都不會知道。林佳新再酸，看完這則報導，才知道小英身邊的紅人是多麼親力親為。以前人家用行李箱裝現金去送給扁嫂，現在陳委員則是親自裝錢去送給兒子，絕不假手他人。今天是93軍人節，我們看到了偉大的「3」的故事。圖／擷取自林佳新臉書 分享   facebook     高鐵北上列車拾獲一個登機箱，對此高鐵追查後發現失主是民進黨立委陳明文。圖/取自陳明文臉書 分享   facebook     '}\n",
      "{'title': '藍營也要郭台銘「識大體」 韓國瑜新北造勢估10萬人', 'url': 'https://udn.com/news/story/12702/4026737', 'class': '要聞', 'date': '09-03 18:52', 'description': '國民黨總統參選人韓國瑜預計8日將在新北辦造勢活動，不過鴻海創辦人郭台銘傳可能脫黨參選，國民黨新北黨部主委李乾龍說，希望郭台銘「識大體」，而周日的造勢活動預計會破10萬人到場支持。李乾龍表示，昨天開會請大家一起來挺韓國瑜，這場活動本來在板橋第一運動場，初估只能有3萬人，但換到疏洪道就能有10萬以上的人到場支持。外界也認為新北造勢活動，是在郭台銘表態前的重要指標，李乾龍說，韓國瑜競選總部本來就決定在8月底9月初辦，但他認為是9月底比較好，不過牽涉到9月底有議會開議不方便，上星期四決定8日就辦。李乾龍也說，希望郭台銘「識大體」為黨來穩住，讓國民黨不要再分裂，到現在為止對郭還是有信心。不過有周刊報導李曾向國民黨主席吳敦義求救，認為新北立委選情受到「韓流」退燒影響，李乾龍表示，被媒體說立委席次坐3望4是一種警訊，但有信心會過半，有坐5望6、坐7望8的信心。李乾龍也說，吳敦義表示會努力來輔選，因為吳之前對郭台銘表達不夠明確，引來很多黨員疑慮，主席這次有明確表態，不會有「換瑜」戲碼，千萬不要「三心兩意，必中敵意」，黨中央一定要一心一意，不管如何要勇敢向前走。國民黨總統參選人韓國瑜預計8日將在新北辦造勢活動，不過鴻海創辦人郭台銘傳可能脫黨參選，國民黨新北黨部主委李乾龍說，希望郭台銘「識大體」，而周日的造勢活動預計會破10萬人到場支持。記者王敏旭／攝影 分享   facebook     '}\n",
      "{'title': '劍魚颱風遭日本判「死刑」只活18小時 明仍帶雨來', 'url': 'https://udn.com/news/story/120716/4027051', 'class': '生活', 'date': '09-03 21:58', 'description': '劍魚颱風生成短短不到一天就減為熱帶性低氣壓。台灣颱風論壇粉絲團今晚發文指出，「晚上最大的消息之一，就是劍魚颱風直接被日本宣告消散」，但即使劍魚被判「死刑」，中央氣象局表示，其大低壓帶仍將導致中南部及花東降雨；玲玲颱風外圍環流，明後天也會為北部、東北部及南部地區帶來明顯雨勢。台灣颱風論壇說，雖然劍魚被判死刑，殘存的大低壓仍會順導引向東北走，將水氣往北帶。明天開始，潮濕偏南風會被帶到台灣西南，與玲玲帶來的偏北風相遇，要留意南北風交會產生的對流降雨；預期中南部、澎湖明天就會逐漸有雨，搭配午後熱對流雨勢更大。台灣颱風論壇提醒，玲玲不會登陸台灣，但北部及東部明後天受外圍環流影響仍有雨勢，但等玲玲北上遠去，雨就會緩和不少了；玲玲結構逐漸鞏固，東強西弱特徵明顯，加上核心小，強烈風雨可望全在海上通過，未來應該會進入快速增強期，估計周末撲向韓國。由於劍魚是今天凌晨2時生成為颱風，晚上8時就減為熱帶性低氣壓，成颱僅18小時。台灣颱風論壇感嘆，「如果是長期看氣象的同好，應該都有感，近年日本氣象廳的水準掉得很兇。」針對外界認為日本氣象廳水準掉得很兇，氣象局解釋，因為過去有些熱帶系統條件外界認為並不足以成颱，但日本氣象廳仍會定義為颱風；台灣氣象局在晚上8時預報作業將劍魚減為熱帶性低氣壓，等於劍魚存活不到24小時，時間確實較短，但過去也不乏相關例子。輕颱劍魚今晚減為熱帶性低氣壓。圖／取自台灣颱風論壇臉書粉絲團 分享   facebook     '}\n",
      "{'title': '急開車門釀禍3年萬餘人受傷 他發明兩段式安全車門獲專利', 'url': 'https://udn.com/news/story/7326/4026551', 'class': '地方', 'date': '09-03 17:28', 'description': '雲林縣虎尾鎮謝姓會計師有感於長久來，經常發生急開車門撞上後方機車的事故，帶來嚴重傷亡，於是埋首研發出兩段式安全車門，透過門扣設計強迫駕駛或乘客開車門時，必須轉身按下門扣開關才能開門，借以轉身順便探看後方來車，以保安全，此發明已獲兩個國家專利，他期待各大廠商善用，以降低急車開門的車禍傷亡。大學主攻機械製造的謝姓會計師，擁有機械設計的養成背景，從警政署一份2012年到2015年的統計，短短3年就發生1萬3千多件急開車門的傷亡事故，造成16525人受傷，其中22人死亡，如此慘重的傷亡，令他震驚，尤其自己也有多次急開車門險些造成意外的經驗。謝說，即便媒體網路經常報導急開車門的事故提醒民眾，但傷亡數據並未因而減少，於是去年他利用會計工作之餘，花了約3個月研發出兩段式安全開啟系統，並獲得台灣及美國的專利，目前德國、大陸及日本專利仍在審核中。即便車子靜止沒電狀態仍可開門，謝姓會計師說，這套設計理念很簡單，且完全是機械式操作，不必靠電力，他只在車門的環釦，加裝一個倒鉤釦，讓車門無法一次就推開，強迫乘客或駕駛，必須向後轉身去拉開關才能完全開門，借用轉身之際，可探看後方來車，簡單說，就是借用多一道開門手續，強迫開門的人查看後方。他說，兩段式安全門只是多個轉身拉開關的動作，開門不會多出兩秒就可確保安全，而從車外開門和現有車子一樣只有一段式很方便，且結構簡單成本低，固障率低，每個車門都能裝，實可推廣為一般汽車的基本配備，因而獲得專利，研發安全車門純為功德，歡迎有意開發的廠商和他聯繫0965736318。除加裝兩段式車門，還可在車身邊加裝警示燈，提醒後方來車或騎士注意前方要開車門。記者蔡維斌／翻攝 分享   facebook     謝會計師說明他發明兩段式安全車門的專利結構，只在車門多設計一道環釦。記者蔡維斌／攝影 分享   facebook     謝會計師說明他發明兩段式安全車門的專利結構，只在車門多設計一道環釦。記者蔡維斌／攝影 分享   facebook     謝會計師是運用舊式車輛的車門加裝一道環釦，讓車門變成兩段式。記者蔡維斌／翻攝 分享   facebook     謝會計師說明他發明兩段式安全車門的專利結構，只在車門多設計一道環釦，再加一個手拉開關即可。記者蔡維斌／攝影 分享   facebook     謝會計師示範兩段式車門的開法，在拉開第一段後，必須轉身拉開第二段開關才可開門，借轉身之便強迫開門的人查探後方來車。記者蔡維斌／翻攝 分享   facebook     謝會計師是運用舊式車輛的車門開關釦原理，讓車門變成兩段式。記者蔡維斌／翻攝 分享   facebook     '}\n",
      "{'title': '雙颱接力影響到周末 吳德榮：劍魚也有整合近台的機率', 'url': 'https://udn.com/news/story/120716/4025327', 'class': '生活', 'date': '09-03 07:37', 'description': '氣象專家吳德榮在「三立準氣象·老大洩天機」專欄說，輕颱玲玲大約從石垣島附近北上，但距離台灣較近、或更遠的機率都存在要密切注意，至於今晨生成的颱風劍魚也有與其西方的低壓重新整合，轉向東北、向台灣靠近的機率，但能維持什麼結構、或只是帶來比較多的水氣，需進一步觀察。吳德榮說，本周北太平洋西部熱帶擾動活躍，除了台灣東南方的玲玲以外，海南島南方另有劍魚颱風；另外兩個熱帶擾動距離台灣很遠，也在發展中。今晚起玲玲颱風外圍環流逐漸接近，北部、東北部及花、東天氣轉變，有局部陣雨。周三、四各地氣溫略降、稍轉涼。若玲玲的路徑更為靠近，影響程度就更大。他說，今各地白天晴時多雲，天氣悶熱；山區午後有局部陣雨或雷雨，中南部部分平地亦有受影響的機率；北部24至36度、中部24至35度、南部23至36度、東部23至35度。周五至下周日（6至8日）劍魚颱風帶來水氣，各地有局部陣雨的機率，西半部午後有局部陣雨或雷雨，亦有較大降雨的機率。中央氣象局表示，今天白天天氣和昨天類似，各地晴朗炎熱，高溫約32至35度，僅東半部及恆春半島有局部短暫陣雨，午後中南部地區及北部山區有局部短暫雷陣雨；晚上開始受到颱風外圍環流影響，東半部及南部地區降雨會開始增加。氣象局指出，玲玲未來將偏北通過台灣東部海面，預計周三、四較接近台灣，各地容易有短暫陣雨，由於路徑仍有不確定性，請留意此颱風的最新動態。除了台灣東南方的「玲玲」以外，海南島南方另有「劍魚」颱風；另外兩個熱帶擾動距離台灣很遠，也在發展中。圖／取自中央氣象局官網 分享   facebook     '}\n",
      "{'title': '不只雙颱夾擊 後面2個熱帶系統有發展機會', 'url': 'https://udn.com/news/story/120716/4025587', 'class': '生活', 'date': '09-03 11:13', 'description': '目前太平洋地區有二個颱風和一個熱帶性低氣壓(T.D.)，包括輕度颱風玲玲（圖中）、輕度颱風劍魚（圖左），及熱低壓（圖右）。圖／取自中央氣象局網站 分享   facebook     臉書粉絲專頁「天氣風險 WeatherRisk」表示，南海的熱帶低壓今天凌晨被命名為今年第14號颱風劍魚，現在正在越南沿海轉向東北行進。西北太平洋上另外還有兩個熱帶系統，都還有進一步發展的機會；熱帶低壓14W位於關島東方海面，對台灣無影響；熱帶擾動94W位於呂宋島西方，和劍魚颱風同在一個大型的低壓帶中，正在互旋、整合，也讓劍魚颱風未來的路徑充滿變數。至於第13號玲玲颱風，「天氣風險 WeatherRisk」表示，氣象局目前的預報路徑仍是在發布海上警報的邊緣。颱風將在明天、周四穿越琉球宮古島、石垣島一帶，強度可能會有很快速的成長；北部、東部受到外圍環流影響，在明天、周四有漸歇性的風雨，中南部午後雷陣雨，另外要特別留意沿海的長浪，避免海邊活動。若颱風路徑稍偏西，最快在今天下午就有機會發布警報。「天氣風險 WeatherRisk」表示，劍魚颱風在颱風向東北轉向之後，各國機構的預報相當分歧，目前仍以沿著中國廣東、福建北上的機會較高，依此路徑就是在周五後為台灣引進西南季風，中南部在本周後期的降雨訊號相當多。但也有部分模式模擬出較為接近台灣的路徑，需要持續觀察。「天氣風險 WeatherRisk」表示，本周台灣各地天氣：今天北部、中部高溫炎熱，東半部短暫陣雨，南部午後雷陣雨。明天玲玲颱風位於台灣東方海面，北部、東部間歇性雨勢，中南部午後雷陣雨。周四玲玲颱風北上，西南風增強，北部、高屏全日有陣雨，其他地區山區午後短暫雨。周五西南風影響，南部全日有陣雨，其他各地午後短暫雨。周末台灣位於西南風環境，仍是中南部容易下雨的天氣，台灣海峽風浪大。'}\n",
      "{'title': '黃之鋒今來台 環時社評痛批他是新生代漢奸', 'url': 'https://udn.com/news/story/120538/4025396', 'class': '兩岸', 'date': '09-03 09:25', 'description': '香港眾志秘書長黃之鋒預計今（3）日下午將拜會民進黨主席卓榮泰等綠營人士，大陸鷹派媒體《環球時報》發表社評痛批黃之鋒是新生代漢奸，稱他毀不了香港，只會自毀人生。文章稱，黃之鋒之流年紀輕輕，屬於漢奸系列的新生代。他們喪心病狂地要拿香港的前途賭他們小集團的利益，組織街頭施暴、堵塞機場、衝擊中央機構、侮辱國旗國徽的暴徒行徑，絲毫未能撼動「一國兩制」的大框架。於是他們像歷史上所有的賣國者一樣，把死抱外部力量大腿當作自己的生路。文章指出，黃之鋒等生活在21世紀的幾個香港小青年，缺在這個時代搞政治的基本視野和悟性。他們在模仿一百多年前的那些「狗腿子」，而時代卻已滄海桑田。挾洋自重曾是中國極度落後時，內部各種力量極為悲哀的競爭方式之一。今天西方的軍艦遠去了，連貿易戰對中國都打不贏了，做現代漢奸顯然油水變薄，風險增加。文章稱，黃之鋒們與美國某些官員和議員的言行遙相呼應，那些漢奸亂港者已經把自己的命運拴在美國褲腰帶上。他們對華盛頓來說，正是是一撥送上門來的炮灰，而美國為與強大的中國博弈，需要很多黃之鋒這樣廉價的炮灰。文末表示，賣國者在中國歷史上幾乎就沒有過好下場的，而要在中國如此強大時作賣國者，這群狂妄之徒很可能就沒搞明白這樣的角色是什麼意思。他們的一生最後一定會輸得連底褲都不剩。香港眾志秘書長黃之鋒。歐新社資料照片 分享   facebook     '}\n",
      "{'title': '黃之鋒今訪台！網友號召機場堵人 嗆綠營勿違反國安法', 'url': 'https://udn.com/news/story/120538/4025378', 'class': '兩岸', 'date': '09-03 09:12', 'description': '香港眾志秘書長黃之鋒今天訪台，下午拜會時代力量黨團後，再赴民進黨中央黨部進行閉門會議，晚間前往台中出席「香港怎麼了，台灣怎麼辦」對談活動。有網友在「李四川後援會」粉專貼文「想去機場堵他的+1」，引發討論，許多人+1表示支持。有網友留言，「警告民進黨、時代力量，勿違反國安法」。國安法第2-1條規定，人民不得為外國、大陸地區、香港、澳門、境外敵對勢力或其派遣之人為下列行為：一、發起、資助、主持、操縱、指揮或發展組織。二、洩漏、交付或傳遞關於公務上應秘密之文書、圖畫、影像、消息、物品或電磁紀錄。三、刺探或收集關於公務上應秘密之文書、圖畫、影像、消息、物品或電磁紀錄。不少網友質疑，「黃之鋒是來當民進黨的助選員」、「大綠小綠唯一目的就是把中華民國搞到滅亡」、「拒絕台灣接受這些故意暴亂的人 跑到台灣來搞亂」、「不要中計！綠營希望營造暴動」、「小心港仔在台灣殺人無法可管」。香港眾志秘書長黃之鋒今天訪台，有網友在「李四川後援會」粉專貼文「想去機場堵他的+1」。圖/取自「李四川後援會」粉專 分享   facebook     香港眾志秘書長黃之鋒今天訪台，引發各界關注。本報系資料照片 分享   facebook     '}\n",
      "{'title': '企業紛紛出走人去樓空 路透曝上海自貿區慘況', 'url': 'https://udn.com/news/story/7333/4026955', 'class': '兩岸', 'date': '09-03 21:17', 'description': '受到美中貿易戰升溫影響，中國的經濟成長速度放緩至30年來新低，再加上北京當局嚴格實施資本管制，如今上海自貿區內，許多辦公室人去樓空，玻璃大門深鎖，裡頭椅子傾倒、桌上空無一物。新華社 分享   facebook     中國2013年成立上海自由貿易區時曾引發熱議，但受到資本管制等一直無法兌現當初承諾，當時進駐的企業紛紛出走，如今區內許多辦公室人去樓空。路透社報導，中國最近擴大上海自由貿易區，於7月宣布成立6個新自貿區。官員宣稱這些舉措不僅能吸引外國投資，還可深化與周遭國家的貿易關係。然而，受到美中貿易戰升溫影響，中國的經濟成長速度放緩至30年來新低，再加上北京當局嚴格實施資本管制，對許多企業而言，自貿區的魅力不如預期。上海自貿區是中國第一個自貿區，2013年9月掛牌成立時，保證實施更自由貨幣流通及更簡便的國際貿易，但自成立以來一直無法兌現當初承諾，迫使越來越多企業撤離佔地28.78平方公里的上海外高橋保稅區。如今上海自貿區內，許多辦公室人去樓空，玻璃大門深鎖，裡頭椅子傾倒、桌上空無一物，曾經門庭若市的美食街，餐館今年一間間關門，徒留使用過的筷子和塑膠包裝散落在地上。2名知情人士透露，在發現中國政府加強資本管制，導致承諾的自貿區好處完全落空後，資產和獲利名列第5大的中國招商銀行已於去年底，解散一個高達10人的自貿區企業業務團隊，把那些員工安排至其他分行工作。此外，多名銀行業者指出，由於資本管制和監管審查讓自貿區的熱門賣點--貨幣自由流動難以實現，自貿區內數百個專門帳戶無人使用。獨立機構東方資本研究（Orient CapitalResearch）總經理柯里爾（Andrew Collier）說：「自貿區減少地方政府徵稅機會，也與北京當局試圖減少資本外逃的努力相牴觸。」他說，「自貿區內有很多相互矛盾的期待，最終無法發揮北京當局希望達到的成效」，同樣的議題也會影響新設的自貿區。上海財經大學教授丁劍平表示，自貿區帳戶的使用者「在進行一次交易前，必須勾選超過40個框框。歷經一切精準審核後，自貿區帳戶已不再便捷」。他又說：「而便捷及自動交易的概念過去是賣點。」'}\n",
      "{'title': '拿裸照逼前女友完成分手砲 蜂蜜水摻FM2一夜硬上3次', 'url': 'https://udn.com/news/story/7317/4025749', 'class': '社會', 'date': '09-03 12:07', 'description': '桃園范姓男子不滿前女友提分手竟拿她裸照要求「分手砲」，約到汽車旅館後還以摻入FM2的蜂蜜水迷昏她性侵，過程並用攝影機偷拍，女子醒來驚見內褲消失驗尿後才驚覺遭迷姦；審理時范辯稱是想和前女友留下美好回憶，竊錄是怕對方仙人跳，法院不採信，依強制性交等3罪判他9年2個月。檢警調查，范男2016年7月15日先是以持有裸照威脅女子，還說百分之70的照片、影片都已備份，傳訊稱「比照辦理完才能結束，我醜話講在前面」等語，逼對方出來見面後，先是在汽車旅館朝硬她上得逞。後來范又把FM2摻入蜂蜜水迷暈女子，當晚9點多陸續再性侵她2次，而且過程中還拿微型攝影機偷拍，直到深夜11點多女子甦醒，雙方在火車站各自離去後，范又傳「改天親自看剛剛你最後一次」、「只有你自己來找我才有獎賞可以看」等語。女子身心俱疲，忍無可忍下載家屬陪同下報警，並在尿液中檢驗處FM2成分，她這才知道遭下藥迷姦。審理時，范說女友提分手，自己就拿對方很在意的照片，要求她和自己做「分手砲」，而且傳這些話不是要威脅，是想要跟女子留下美好的回憶，想要挽回她；警訊時，辯稱是警察要他講有加催情藥，自己才會這樣講，但經勘驗錄影畫面，根本沒有范所稱狀況。女子證稱，范傳訊要她「獻上身體」和他發生性行為，並要求見面後才同意刪掉裸照，並保證不會外流，後來在旅館喝了范給的蜂蜜水之後就睡著了，醒來後發現內衣不在身上，而且當時已經深夜11點多，也很意外已經這麼晚了。另外，根據警方查扣范的微型攝影機畫面，也清楚拍下女子被迷暈後，范趁機朝她性交畫面，范則辯稱說，因為對方答應太快，他怕被仙人跳，所以就帶攝影機去拍攝全程，還說擔心被女子反咬一口，才用這種方式自保。法院審酌，范只因無法接受前女友分手要求，不思理性溝通，已握有私密照脅迫對方違反意願性交，還用欺瞞方式摻入屬於第三級毒品的FM2藥劑，迷昏女子後強制性交，犯罪動機惡劣、令人髮指，期間還竊錄偷拍。法院認為，范除了嚴重戕害女子身心，更對社會治安有負面影響，犯後否認態度不佳，審結依1個強制性交判3年6個月、2個以藥劑強制性交各判7年10個月、7年8個月，3罪合併執行9年2個月徒刑。范男以裸照逼前女友完成分手砲，還下藥迷昏她性侵，過程並用攝影機偷拍，法院痛批他手段令人髮指，判處9年2個月徒刑。示意圖／ingimage 分享   facebook     '}\n",
      "{'title': '朱學恒：韓國瑜的即興表演 對蔡總統而言是自爆', 'url': 'https://udn.com/news/story/120536/4025759', 'class': '要聞', 'date': '09-03 12:09', 'description': '「宅神」朱學恒今在臉書專頁「朱學恒的阿宅萬事通事務所」發文說，他多次建議國民黨的總統參選人韓國瑜在發表議題時最好照稿念，若即興表演，只會讓聽者覺得很可笑，讓尋求連任的蔡英文總統看對手一直自爆，最近很高興。朱學恒說，他跟韓團隊的人很熟，建議過很多次，愛即興表演的韓國瑜在發表國政議題或是任何議題的時候，最好照稿念，不然就「哼哼哼」同意國政顧問團的講話就好。他說，「現在人家不是把你當荒謬藝術大師沈玉琳看，是把你當總統候選人看，你可能自己覺得很好笑，但聽眾覺得你很可笑」。但大家就是不聽，搞得蔡英文最近笑得可高興了，什麼都沒做就看對手一直自爆，就睡到自然醒了。他說，自己是不相信什麼造勢，會讓民調上升。國民黨總統參選人韓國瑜上月底進行第二場國政青年政策直播。本報資料照片 分享   facebook     '}\n",
      "{'title': '參選總統近了？郭台銘大談「我為什麼希望出來」', 'url': 'https://udn.com/news/story/12702/4025717', 'class': '要聞', 'date': '09-03 12:00', 'description': '鴻海集團創辦人郭台銘今天上午拜訪嘉義市副議長蘇澤峰，雖然還未正式宣布參選總統，但郭說，希望打破藍綠，讓經濟發展起來，任何政黨若不能把台灣經濟搞好，就該輪流來做，全世界都一樣，誰經濟做得好就讓誰來做，「我今天為什麼希望出來，台灣經濟太弱了，停滯20年，鈔票是沒有顏色的，科技是沒有顏色」。蘇澤峰今天邀請郭台銘到辦公室茶敘，談及嘉義市及台灣的未來，郭說，台灣發展經濟知易行難，台灣選舉太多，都是在兩黨藍綠惡鬥，民進黨目的希望把國民黨打敗，國民黨目的希望取回政權，都沒有專注在如何建設台灣，造成台灣20年的困境，應該要為台灣人民著想，要想著如何建設台灣。與會的議員凌子楚提及，若郭有機會當總統，希望能夠讓中央地方一條鞭，不要看藍綠，而是要以解決問題為方針。郭台銘說，中央要放權，但大家都在意識型態治國，沒有用經濟治國，法案支持與否看藍綠，但中央政府應該讓地方自主發展。郭台銘發言人蔡沁瑜被媒體問及「郭提及為何希望站出來」，是否意味著宣布參選？蔡說，郭台銘是中華民國最強外掛，心心念念的想著如何為台灣好，剛剛說得很直接，台灣人民的生活和發展，都與選票和顏色沒關係，至於是否宣布參選的時間會在9月17日前。鴻海集團創辦人郭台銘（左）今天拜訪嘉義市副議長蘇澤峰。記者李承穎／攝影 分享   facebook     '}\n",
      "{'title': '壹傳媒連年虧損 黎智英：反送中浪潮成轉機', 'url': 'https://udn.com/news/story/7331/4025397', 'class': '兩岸', 'date': '09-03 09:26', 'description': '香港媒體大亨、壹傳媒創辦人黎智英近期接受彭博商業周刊專訪時說，蘋果日報受打壓虧損多年，最近的香港大規模示威活動恰好是個轉機，幫他推動媒體轉型計畫，截至8月中已有逾百萬付費訂戶。壹傳媒在香港和台灣出版蘋果日報和壹周刊，多年來持續虧損的原因，不僅是因為全球媒體寒冬，還有中國官員下令杯葛廣告生意。壹傳媒早已計畫對讀者收取網上閱覽費用，但這項變動恰逢反送中浪潮，截至8月中，已有超過100萬人支付3港元（約台幣12元）登記訂閱，而9月2日起將正式開始收月費50.4港元（約台幣204元）。71歲的黎智英表示，「我們是自由民主理念的燈塔」。自1997年香港回歸中國以來，他的出版物就毫不諱言地批判中國。8月18日，香港蘋果日報頭版的大標寫著「今日維多利亞公園見」，當天遊行估計有170萬人參加。自6月抗議者開始走上街頭以來，蘋果日報積極派出記者帶著相機到警民衝突的前線，在網上直播催淚彈戰、晚會及和平示威的畫面。根據公司數據，每逢示威日的網站單頁點閱率都翻倍，平均達8000萬人次，因為連倫敦、紐約、雪梨和溫哥華的華人社群都有人登錄，一睹香港正在發生的事。早期訂閱讀者相當踴躍，讓壹傳媒有望能繼續生存。公司表示，超過600萬人登記訂閱後，6月股價在兩周內上漲132%。自6月初示威開始以來，壹傳媒股價上漲59%，而恆生指數則下跌4%。雖然香港有許多人支持民主派，但有十幾家報紙都傾向親中派，甚至是公開支持中國共產黨。香港中文大學新聞與傳播學院前講師、倫敦大學城市學院高級講師Yuen Chan說，「在香港要做親民主的傳媒機構，很難抵檔的住政治壓力，以及在財務上生存下去」。壹傳媒創辦人黎智英近期接受彭博專訪說，近期的香港大規模示威活動，恰好幫他推動媒體轉型計畫。截自彭博商業周刊 分享   facebook     '}\n",
      "{'title': '他連夾6個相同便當 自助餐店員緊張「怕我算錯錢？」', 'url': 'https://udn.com/news/story/8864/4025608', 'class': '社會', 'date': '09-03 12:57', 'description': '自助餐便當的算法可能會讓消費者產生疑慮，而店員也會擔心估價出問題被客人糾正。記者陳雅玲／攝影 分享   facebook     許多人去自助餐夾菜時，難免會對便當價錢的算法感到疑慮，而店員也會擔心估價出問題被客人糾正。日前有一位網友在網路上發文，說自己去自助餐要買6個相同菜色便當，但當他夾到第5個便當時，結帳店員卻緊張地問他：「是對我算錢有問題嗎？」，讓他不禁懷疑是店員心裡有鬼。這位網友昨日在臉書社團「爆怨公社」發文，表示自己去自助餐要買6個便當，原本要叫店員幫忙夾菜，但對方說沒有空要自己夾，於是原PO就一個個夾完拿去櫃檯結帳，但當他夾到第5個便當時，結帳店員卻一臉緊張地說「你為什麼一次只拿一個便當，一直重覆來我這裡結帳？是對我算錢有問題嗎？」，讓原PO當場傻眼並表示自己一隻手拿夾子、一隻手拿便當，沒辦法一次拿6個便當，只好一次拿一個結帳。事後，他也不禁大嘆「自助餐真的很雷」，並說店員緊張兮兮的行徑「莫非是...心裏有鬼」，而貼文一出後許多網友也紛紛回應，「然後你會發現6個價錢都不一樣」、「被這樣講，真的很傻眼」、「本來就是看心情算的 你還一直去」、「他應該只是怕你對他算的價錢有疑問吧」、「怕您考他6個一樣菜色便當各算多少........」'}\n",
      "{'title': '他遠赴喜馬拉雅山學冥想 如今靠它年收入31億元', 'url': 'https://udn.com/news/story/6810/4026042', 'class': '全球', 'date': '09-03 14:05', 'description': '46歲的普迪康比（Andy Puddicombe）當年遠赴喜馬拉雅山學習冥想，如今創立冥想公司，年營業額高達1億美元。圖截自Andy Puddicombe臉書 分享   facebook     英國一名成功的企業家年輕時因在短時間內痛失眾多親友，悲痛之下決定遠赴喜馬拉雅山學習冥想，如今創立冥想公司，年營業額高達1億美元（約台幣31億元）。英國廣播公司（BBC）報導，一系列的悲劇才讓46歲的普迪康比（Andy Puddicombe）從此走上一條完全不同的路。普迪康比22歲那年與一群朋友站在倫敦的酒吧外，突然一名酒駕司機撞了上來，他的兩位朋友當場身亡。幾個月後，他的繼姐在一場自行車事故中喪命，接著前女友也在手術過程中去世。普迪康比在悲痛之下，除了放棄正在攻讀的體育學位，還前往喜馬拉雅山皈依佛教，只為徹底改變生活。普迪康比作為僧侶的十年期間，走遍亞洲各地，並且遵循每日冥想16個小時。他表示，這改變了他的想法，與其關注個人成就，還不如帶給別人更多快樂。普迪康比2005年回國後開始在冥想這塊領域創業，但冥想當時還未引起英國的廣泛關注。他透過指導專業人士如何運用冥想來協助日常生活的疑難雜症，最終才漸漸闖出名堂。如今他和38歲的聯合創始人皮爾森（Richard Pierson）所推出的手機app「Headspace」，在全球已累積超過1600萬下載人次，年營業額更達逾1億美元。其實皮爾森當年也曾求助於普迪康比，因為大學畢業後就投入廣告業，雖在業界的社會地位迅速崛起，但同時也陷入社交焦慮，沒有朋友能替他分擔這些心裡壓力。透過普迪康比的冥想指導，皮爾森受益良多，同時也認為冥想是個極待開發的領域，便攜手和普迪康比於2010年聯合創辦Headspace app。Headspace app主要以聲音導航，引導用戶放鬆身體，並放空腦袋，再一步步進入靜修狀態。'}\n",
      "{'title': '小黃50年最大變革！ 最快九月底免跳表可採事前預告車資', 'url': 'https://udn.com/news/story/7266/4026789', 'class': '生活', 'date': '09-03 19:25', 'description': '國內計程車跳表將有50年來最大變革。交通部長林佳龍拍板「汽車運輸業管理規則」部分修正條文，全台多元化計程車除了目前採跳表計費，將新增「預告車資」，消費者也可透過網路App事前得知實際車資，多元化計程車可無需裝表，明天將報行政院，最快九月底上路。交通部繼昨天擴大計程車汰舊換新後，今天在拍板「汽車運輸業管理規則」部分修正條文，全台多元化計程車將可採用事前預告車資，以不低於計程車核定運價的原則，業者可依據特殊車型、需求等自行擬定計費結構。同時開放計程車跨區過戶、並開放三門車輛。由於交通部今年五月修正Uber條款「汽車運輸業管理規則」103-1條修正草案，歷經4個月的緩衝期後，今年10月8日起將開始執法取締，違規依法可開罰9000元至9萬元罰鍰，交通部一連串動作除因應計程車數位化，是否可吸引Uber留在台灣也引發關注。交通部推動多元計程車3年以來，全台多元化計程車僅約2000輛。雖然根據法規，多元化計程車已可在核定運價範圍內自訂，並可事先預告車資，但只會給予一個範圍，例如從台北仁愛路到三峽為600至800元，最後仍須採跳表計費。交通部表示，現行透過網路App計算車資技術程度及可靠度，已可獲一般大眾接受，消費者預約叫車時，也可知悉預告車資、費率計算方式，若以預告車資作為實際收取車資，消費者可事先決定是否以該車資接收服務，也可避免實際路況計算後，與預估車資誤差衍生的爭議。交通部表示，計費方式除行駛里程外，尊重業者依不同市場定位規畫，參採尖離峰、中途繞路或停等特殊需求、車型、會員回饋等多樣性費率因子，公路主管機關核定計費結構及不低於一般計程車運價之原則，自行擬定費率計算內容，向該管公路主管機關備查。此外，國內部分縣市計程車牌照數量供過於求，有的則不敷使用情形。據統計，目前台北市空車牌為9193張、新北為3363張、高雄3277張，是全台前3名，但雙北計程車早已供過於求，反倒是有需求的桃園只剩310張、台中只剩397張，新竹縣市合計更只剩11個空車牌。為此，為使計程車牌照數量得依人口增減適度調節供需，交通部首度也修正「汽車運輸業管理規則」第91-2條，開放跨區行政過戶。另外，目前計程車應使用四門以上轎式、旅行式或廂式小客車，基於提供計程車營運使用車輛之彈性，放寬計程車車門數限制為三門以上。對此，中華民國計程車客運商業同業公會全國聯合會常務監事梁平良表示，計程車從早期喊價轉為跳表已長達50年，如今多元化計程車不能巡迴攬客、只能採派遣轎車，採網路App事前預告機制，因應數位化可提升計程車服務，他正面看待。不過他也認為，交通部應有檢驗機制，就像計程車跳表有經濟部驗證，乘客聽到跳表生也沒有爭議，未來採預告機制誰來認可、誰來檢驗，也應有建立合格機制。至於開放跨區行政過戶他表示樂觀其成，他說，由於計程車是受管制的，在總量管制不增加之下，現在打破縣市限制、牌照才可流通，桃園缺牌可向台北市買牌，這社計程車都希望能做到的。Uber則回應，樂見交通部肯定科技可以協助提升消費者選擇和交通產業轉型。計程車。記者陳正興／攝影 分享   facebook     '}\n",
      "{'title': '「有魅力的城市」日本東京電視台介紹台南 首播專題報導', 'url': 'https://udn.com/news/story/7326/4025771', 'class': '地方', 'date': '09-03 12:22', 'description': '台南國華街總是湧進不少遊客啖美食。 本報系資料照／記者鄭維真攝影 分享   facebook     日本東京電視台「世界財經衛星」昨晚首度播出台南專題報導，內容涵蓋台南街景、建築、芒果及街問來台的日本觀光客等。在日本旅遊的國人也錄下節目PO上網，獲得許多人分享。台南街景近年來陸續登上日本知名雜誌「BRUTUS」、「POPEYE」、「PEN」的封面，電子媒體也不斷報導，日本東京電視台「世界財經衛星（WBS）」昨晚首度播出台南專題報導，以「台灣現正備受注目！日本人所不知道的台南是? 」為題，報導時間近8分鐘。WBS節目開頭首先點出受日韓貿易戰影響，今年8月起日本觀光客訪韓比例約下降三成，台南成為韓國以外最受矚目的日客旅行地，台南市副市長王時思也領軍出擊，邀請日本觀光客到台南體驗不一樣的台灣。節目中，來台的日本觀光客在街訪中說出對台南感覺，大多是「復古」、「樸實」、「有魅力的城市」；節目還說明台南的地理環境、人口，且以台南市美術館一館及林百貨為例，解釋台南是保有日治風情的城市，更有夜市、芒果、剉冰等景點特色及美食。台南市政府人員今天表示，WBS節目由東京電視台與日本經濟新聞社共同製作，1988年開播，是現今日本民營電視中最長壽也最權威的深夜新聞節目；製作團隊看到「台南紅椅頭觀光俱樂部」的東京活動宣傳後，主動聯繫台南市政府表達採訪意願。採訪團隊8月底走訪台南取材，9月2日前往東京丸之內Good Design Marunouchi舉辦的觀光推介會場專訪王時思，採訪記者還參加台南風錢湯體驗，感受台南放鬆慢活的魅力。'}\n",
      "{'title': '香港情勢關鍵階段 蔡總統：協助台商、在台港人', 'url': 'https://udn.com/news/story/7331/4025075', 'class': '兩岸', 'date': '09-03 00:24', 'description': '香港學生展開罷課行動，在香港中文大學校園進行反送中示威。 （路透） 分享   facebook     香港警民衝突持續升溫，蔡英文總統昨天聽取國安會「香港情勢專案小組」簡報後做出四點指示，蔡總統強調，目前香港情勢已進入關鍵階段，國安及行政部門應緊盯動態變化並評估可能的衝擊影響，做好各項應變準備，尤其應注意金融經濟產業的變化，協助台商及我國在港民眾因應可能的變局。蔡總統也指示，政府支持香港人民爭取民主和自由，在處理台港交流及港人來台等事務時，也都依法處理；一如國際社會，必要時基於人道考量，對於在台港人，也會提供必要的協助，不會坐視。國安會香港情勢發展專案小組，是由國安會秘書長李大維主持，包括陸委會、國防部、法務部、內政部、國安局等首長均出席與會。據了解，此小組從六月初開始運作，昨天是蔡總統第一次到開會現場。香港昨日有多場萬人集會，配合學生在開學日發動罷課、罷工、罷市等三罷活動，向港府施壓。示威者將九月十三日設為死線，要求港府回應五大訴求。示威者昨發起跨行業罷工集會，高舉「香港人退無可退」標語，來自廿九個行業人士擠滿添馬公園，還有十多間公立醫院醫護人員，中午時分在醫院內集會或默站。香港十間大專院校學生在中文大學的百萬大道舉行罷課集會，連中學生也積極響應反送中，他們喊出「沒有未來，何必上課」口號。香港嘉諾撒聖方濟各書院學生二日頭戴防毒面具與頭盔，跪在地上拿著「五大訴求缺一不可」海報向港府表達訴求。 （美聯社） 分享   facebook     蔡總統在會中表示，中華民國台灣堅定支持香港的民主和自由，也希望香港社會能盡速恢復穩定，但這幾天讓人極為憂心的情勢發展，已經引發國際社會的高度關注。蔡總統呼籲北京當局，應該信守對香港高度自治的承諾，切勿以台灣、其他國家對香港民眾的關心，作為指控外力介入的藉口；同時也呼籲港府，避免過度執法與暴力，以積極對話化解與人民之間的對立，讓衝突能夠和平理性化解。蔡總統指示陸委會、教育部全力協助來台就學的港生安心學業，「我們也呼籲港府，理解香港年輕人關心香港前途、追求民主自由的初心，秉持人權法治的原則處理相關個案，讓學生們能繼續在台灣的學業」。國民黨主席吳敦義昨天也發表聲明表示，香港與中華民國完全不同，香港實施一國兩制，中華民國是主權國家，有國旗、國號、國軍、國法，他要請蔡英文不要魚目混珠，把中華民國香港化，非常不道德。'}\n",
      "{'title': '劉世芳點出施政危機 韓國瑜上任三經濟指標衰退', 'url': 'https://udn.com/news/story/120536/4025384', 'class': '要聞', 'date': '09-03 09:15', 'description': '2020大選，鴻海集團創辦人郭台銘是否參選箭在弦上，除郭台銘最近接連砲轟蔡英文要邊緣化韓國瑜，民進黨立委、高雄市前副市長劉世芳今天也在臉書，點出韓國瑜上任後，三大經濟指標嚴重衰退，表示韓國瑜的落跑市長效應顯現。劉也提出六點質疑，批評高雄市政府小內閣不適任、市長不確定性、重大建設公共投資停滯、無厘頭市長施政等危機。劉世芳表示，高雄三大經濟指標嚴重衰退，包括高雄市營利事業銷售額2015至2018，從四兆七百億增加到四兆八千億，四年增加近八千億成長率18%是六都第一，但是2019今年上半年只成長0.29%，2018去年同期成長率還有7%以上。另外促參是衡量政府招商最直接指標，上半年七個月財政部公布高雄只有兩件19.5億元，而且都是去年招商的，但2015-2018年卻是合計超過一千億。至於房市，高雄七月一過，房市就傳哀號聲，五月開始一直衰退，高雄店面買氣是6年來次低、七月房市交易量六都最慘、現在又傳出八月的移轉數是九年來新低。劉世芳說，高雄怎麼了？公務員沒變，政策制度也沒有大變化，高雄依然陽光，高雄人依然熱情。看來只有一個是變的，就是韓國瑜。劉提到，韓國瑜上任四個月選總統，整個市府施政遭到扭曲，這次發現，市政對一個城市經濟竟然產生如此大的影響。劉世芳也提出六點對高雄市政府的質疑，第一，市府小內閣不適任，一直更替找不到人，公務體制戰力似乎嚴重低落，尤其市長選總統，網友喊草包，這種狀況下確實很難找到優秀政務官。第二，所有高雄重大建設計畫停滯，自然影響民間投資與消費停滯。從輕軌、流音、亞洲新灣區等只要是前朝重大建設，現在的市府雖然口頭上不承認。劉也提到，韓國瑜自己製造出來的不確定性，市長選總統，上了市長補選換人；沒選上被罷免又要重選。市長不確定，市民生活也不確定。第四就是公共投資停滯。第五城市形象重挫，觀光變成笑話。最後就是韓國瑜無厘頭施政，不論橋頭科學園區，體感科技，大林蒲遷村、兵工廠遷移、中油舊廠區活化，楠梓工業區飽和等，都是中央地方共同合作的工作。但是有無厘頭的市長，以上一切應該也變無頭緒了。高雄市長、國民黨總統提名人韓國瑜。圖／本報資料照片 分享   facebook     圖／擷取自劉世芳臉書 分享   facebook     '}\n",
      "{'title': '世籃賽／美國男籃冠軍之路 要注意哪些絆腳石？', 'url': 'https://udn.com/news/story/7003/4024658', 'class': '運動', 'date': '09-03 07:00', 'description': '人們總習慣說，「全世界籃球其實都一樣，重視團隊合作，個人基本動作是基礎，籃球就是團隊運動」。但真正的現實：世界籃球其實都不一樣。尤其是NBA籃球和國際籃球，打法、團隊、結構和風格有很大不同。NBA籃球也重視團隊合作+防守，但NBA由於比賽規則、娛樂屬性和職業運動文化，NBA更重視英雄球、一對一單打和球星決勝。國際籃球跟NBA比賽最大不同是：國際籃球比NBA更重視團隊與個人的聯結和戰術執行，國際籃球甚至更重視三分外線投射，那些在NBA只是小配角或角色球員，但回到國家隊往往變成國際賽很難阻擋的「超級巨星」，球隊戰術體系、執行力和團隊，讓他們變成完全不同檔次的球員。國際籃賽重視戰術執行與團隊合作，進攻上對三分球有很大的倚賴，像阿根廷長期以來就是箇中強手。 美聯社 分享   facebook     捷克201公分後衛薩托蘭斯基(華盛頓巫師)，澳洲控球後衛戴拉維多法(密爾瓦基公鹿)，澳洲後衛米爾斯(聖安東尼馬刺)，土耳其前鋒伊利亞索瓦(密爾瓦斯公鹿)都是典型例子。這些NBA球員回到國家隊，戰力加成，比賽統治力加分，像塞爾維亞、希臘、西班牙就被視為美國男籃衛冕2019年籃球世界杯三大主要敵人。塞爾維亞有金塊中鋒約柯奇、國王射手波格丹諾維奇、國王前鋒畢耶利察，76人中鋒馬揚諾維奇，今年籃球世界杯奪冠排名第一，爭冠聲勢勝過美國。希臘由NBA上季MVP公鹿前鋒安戴托昆波領軍，安戴托昆波在國際賽是不是完全無法阻擋，很快就能得到解答。塞爾維亞由金塊隊主將約科奇(左)領軍，陣中還有波格丹諾維奇、馬揚諾維奇等好手，是他們打敗美國隊，也不會讓人感到驚奇。 新華社 分享   facebook     NBA美國男籃爭冠+衛冕最大絆腳石，除了本身比賽態度和專注力之外，美國隊最大絆腳石是：國際賽打法不同於NBA，戰術執行力、比賽打法也跟NBA不一樣，許多在NBA只是角色球員的配角，在國際賽往往如魚得水，可以轟得美國七暈八素。澳洲在熱身賽擊敗美國，就是米爾斯傑作，他砍進30分，其中第四節砍了三個三分球一共得13分。美國首勝勝捷克，捷克後衛薩托蘭斯基能控、會切、擅傳，自己能得分，又有對位優勢，還能為隊友創造機會，在捷克團隊戰術體系中，薩托蘭斯基就像湖人前鋒詹姆斯一樣存在。美國隊派出後衛史馬特、米契爾、布朗輪流伺候薩托蘭斯基，利用身體強度和各種協防減少他的破壞力和得分。捷克後衛薩托蘭斯基(右)在巫師隊時只是沃爾的替補，上季獲得大量先發機會，平均每場不過只有8.9分、5.0助攻，但在昨天的比賽卻讓美國隊相當頭痛。 美聯社 分享   facebook     未來美國面對塞爾維亞、希臘、西班牙，或者是法國、澳洲這種世界杯一級球隊，美國男籃必須要打得更出色、防守更有效率，才能履險過關。美國隊如果只是打出對捷克這樣的攻防水平，惡戰難免。希臘主體在安戴托昆波身上，太過依靠英雄球，以球星為帶動能力，接下來也是希臘必須要克服的挑戰。球星和英雄球都能為球隊加分，但更大關鍵還是在團隊戰力的總體發揮，希臘因為安戴托昆波的存在和出色統治力，一旦球權、戰術過度集中在安戴托昆波身上，希臘同樣會在國際賽遇上困難甚至翻船。希臘隊陣中雖然有NBA年度MVP安戴托昆波(中)，但球隊太倚靠他個人的球技，團隊戰力並不被看好。 美聯社 分享   facebook     澳洲在熱身賽擊敗美國，靠的就是團隊合作+英雄球，同時充分掌握美國隊稍稍鬆懈的那幾波攻防，一擊奏效。除了出色戰術執行力、團隊攻防和英雄球，更需要幾分運氣，才有可能擊敗NBA球員組成的美國男籃。美國男籃總教練波波維奇仍在努力協助美國球員克服打國際賽習慣，建立更好團隊默契和攻防組織，適應國際賽節奏和打法，因為那跟NBA是很大不同的籃球。國際賽進攻節奏和出手非常簡潔、快速，讓人措手不及，球權也不會一直停留在球星身上，這是美國隊在攻防兩端都要馬上解決的打球慣性。美國隊在首戰輕取捷克，但接下來的比賽可能會越來越辛苦，提早適應國際賽的節奏才能擊敗其他強敵。 美聯社 分享   facebook     波波維奇正努力搬開美國男籃衛冕的絆腳石，預賽第二戰對土耳其，美國男籃得分必須破百，勝分必須在25分以上，防守必須要打得接近完美，美國男籃才能宣告：我們準備好了。 '}\n",
      "{'title': '彭啟明：劍魚、玲玲雙颱相互干擾 令人聯想到過去的怪颱', 'url': 'https://udn.com/news/story/120716/4025324', 'class': '生活', 'date': '09-03 07:24', 'description': '原位於東京灣的熱帶性低氣壓已於今天凌晨2時發展為輕度颱風，（國際命名KAJIKI，中文譯名：劍魚），中央氣象局說，未來劍魚將轉向東北進入南海，並往華南沿岸接近，暫對台灣無影響，後續有不確定性須密切觀察。天氣風險管理公司總經理彭啟明說，14號颱風劍魚和13號颱風玲玲在一個大低壓帶內，會有相互干擾拉扯的力量，或是其他力量的左右，未來發展的動態變化較多，目前預測路徑上，呈現被玲玲拉扯往東北方移動趨勢。未來動向有很大不確定性，光是看目前路徑，就想到以前的怪颱，要靠持續監測調整預測。彭啟明在臉書發文指出，玲玲位置相當尷尬，如果以傳統圓圈圈的颱風七級風暴風圈來看，要是偏一些幾十公里往西偏移，會碰觸到海上颱風警戒區域，就可能會發布海上颱風警報。他說，由於玲玲相當接近台灣，東半部海面的風浪將會明顯增強，預期明天開始台灣的天氣就逐步受到這兩個系統所帶動的南海水氣影響，各地水氣增多，也會轉為不穩定有陣雨的天氣，預期將持續到這個周末，各地都容易有雨，山區也更容易有雷陣雨發展。而位於關島附近的熱帶性低氣壓，距離台灣將近有4300公里，也有發展成為第15號颱風的趨勢，從太平洋高壓的位置來看，往日本接近機會較高。氣象局表示，劍魚3日2時的中心位置在在海口西南方500公里之處，向東南緩慢進行，中心附近最大風速每秒18公尺，相當於8級風，瞬間最大陣風每秒25公尺，相當於10級風，7級風暴風半徑80公里。未來在南海打轉之後將朝北北東往福建進行，短時間內對台灣天氣沒有影響。至於輕颱玲玲，氣象局說未來將偏北通過台灣東部海面，預計周三、四較接近台灣，各地容易有短暫陣雨，由於路徑仍有不確定性，請留意此颱風的最新動態。隨著颱風逐漸接近台灣東部海面，氣象局提醒今日下午起東半部（含綠島、蘭嶼）、南部、基隆北海岸沿海地區及澎湖有長浪發生的機率，前往海邊活動請注意安全。今天白天天氣和昨天類似，各地晴朗炎熱，高溫約32至35度，僅東半部及恆春半島有局部短暫陣雨，午後中南部地區及北部山區有局部短暫雷陣雨；晚上開始受到颱風外圍環流影響，東半部及南部地區降雨會開始增加。\\u3000\\u3000隨著颱風逐漸接近台灣東部海面，氣象局提醒今日下午起東半部（含綠島、蘭嶼）、南部、基隆北海岸沿海地區及澎湖有長浪發生的機率，前往海邊活動請注意安全。圖／取自中央氣象局官網 分享   facebook     '}\n"
     ]
    }
   ],
   "source": [
    "for i in range(1,9):\n",
    "    url = \"https://udn.com/news/archive/0/0/2019/09/0\" + str(i)\n",
    "    response = requests.get(url)\n",
    "    soup = BeautifulSoup(response.text , \"lxml\")\n",
    "    url_link = \"https://udn.com\"\n",
    "    result_list = list()\n",
    "    for item in soup.find_all(\"table\")[0].find_all(\"tr\"):\n",
    "        if len(item.find_all(\"td\")) != 0:\n",
    "            result = dict()\n",
    "            result[\"title\"] = item.find_all(\"td\")[1].find(\"a\").getText()\n",
    "            result[\"url\"] = url_link + item.find_all(\"td\")[1].find(\"a\").get(\"href\")\n",
    "            result[\"class\"] = item.find_all(\"td\")[2].getText()\n",
    "            result[\"date\"] = item.find_all(\"td\")[3].getText()\n",
    "            result[\"description\"] = get_detail(result[\"url\"])\n",
    "            print(result)\n",
    "            result_list.append(result)\n"
   ]
  },
  {
   "cell_type": "code",
   "execution_count": null,
   "metadata": {
    "collapsed": true
   },
   "outputs": [],
   "source": []
  },
  {
   "cell_type": "code",
   "execution_count": null,
   "metadata": {
    "collapsed": true
   },
   "outputs": [],
   "source": []
  },
  {
   "cell_type": "code",
   "execution_count": 93,
   "metadata": {
    "collapsed": false
   },
   "outputs": [
    {
     "name": "stdout",
     "output_type": "stream",
     "text": [
      "https://udn.com/news/archive/0/0/2019/09/09/1\n",
      "https://udn.com/news/archive/0/0/2019/09/09/2\n",
      "https://udn.com/news/archive/0/0/2019/09/09/3\n",
      "https://udn.com/news/archive/0/0/2019/09/09/4\n",
      "https://udn.com/news/archive/0/0/2019/09/09/5\n",
      "https://udn.com/news/archive/0/0/2019/09/09/6\n",
      "https://udn.com/news/archive/0/0/2019/09/09/7\n",
      "https://udn.com/news/archive/0/0/2019/09/09/8\n",
      "https://udn.com/news/archive/0/0/2019/09/09/9\n",
      "https://udn.com/news/archive/0/0/2019/09/09/10\n"
     ]
    }
   ],
   "source": [
    "url = \"https://udn.com/news/archive/0/0/2019/09/09\"\n",
    "for i in range(10) :\n",
    "    print(url + \"/\" + str(i+1))\n",
    "    title_soup = get_title(soup)\n",
    "    table = title_soup.find_all(\"table\")[0]\n",
    "    url = \"https://udn.com\"\n",
    "    result_list = list()\n",
    "    for item in table.find_all(\"tr\"):\n",
    "        result = dict()\n",
    "        if len(item.find_all(\"td\")) != 0:\n",
    "            result[\"tile\"] =  item.find_all(\"td\")[1].getText() \n",
    "            result[\"url\"] = url + item.find_all(\"td\")[1].find(\"a\").get(\"href\")\n",
    "            result[\"class\"] = item.find_all(\"td\")[2].getText()\n",
    "            description = get_detail(result[\"url\"])\n",
    "            result[\"description\"] = description\n",
    "            print(result)\n",
    "            result_list.append(result)\n",
    "    "
   ]
  },
  {
   "cell_type": "code",
   "execution_count": null,
   "metadata": {
    "collapsed": true
   },
   "outputs": [],
   "source": [
    "def get_title(url1):\n",
    "    response = requests.get(url1)\n",
    "    soup = BeautifulSoup(response.text, \"lxml\")\n",
    "    return soup"
   ]
  },
  {
   "cell_type": "code",
   "execution_count": 90,
   "metadata": {
    "collapsed": true
   },
   "outputs": [],
   "source": [
    "def get_detail(url):\n",
    "    detail_response = requests.get(url)\n",
    "    soup_detail = BeautifulSoup(detail_response.text, \"lxml\")\n",
    "    content = soup_detail.find_all(\"p\")\n",
    "    desciption = \"\"\n",
    "    for item in content:\n",
    "        desciption = desciption + item.getText()\n",
    "    return desciption"
   ]
  },
  {
   "cell_type": "code",
   "execution_count": 91,
   "metadata": {
    "collapsed": false
   },
   "outputs": [],
   "source": [
    "table = soup.find_all(\"table\")[0]\n",
    "url = \"https://udn.com\"\n",
    "result_list = list()\n",
    "for item in table.find_all(\"tr\"):\n",
    "    result = dict()\n",
    "    if len(item.find_all(\"td\")) != 0:\n",
    "        result[\"tile\"] =  item.find_all(\"td\")[1].getText() \n",
    "        result[\"url\"] = url + item.find_all(\"td\")[1].find(\"a\").get(\"href\")\n",
    "        result[\"class\"] = item.find_all(\"td\")[2].getText()\n",
    "        description = get_detail(result[\"url\"])\n",
    "        result[\"description\"] = description\n",
    "        print(result)\n",
    "        result_list.append(result)"
   ]
  },
  {
   "cell_type": "code",
   "execution_count": 92,
   "metadata": {
    "collapsed": false
   },
   "outputs": [
    {
     "data": {
      "text/plain": [
       "[{},\n",
       " {'tile': '氣象局宣布第13號颱風玲玲生成 明晚起外圍環流影響台灣',\n",
       "  'url': 'https://udn.com/news/story/7266/4023464',\n",
       "  'class': '生活',\n",
       "  'description': '日本氣象廳指菲律賓東方海面的熱帶性低氣壓，已增強為今年第13號颱風「玲玲」。中央氣象局說，預計周三起影響台灣，路徑還要討論，預測分歧度有點大，有靠近台灣也有偏離台灣，但因為接近台灣的機率較高，恐沿著東部海面北上，甚至有機會撲台，預測周三起為東半部及南部帶來雨勢，接連影響後續警報情形，值得關注。氣象局預計10時發布。玲玲颱風路徑潛勢預報。圖／取自氣象局網站 分享   facebook     '},\n",
       " {'tile': '媽媽忙約會11天 小孩吃屎尿困房內活活餓死',\n",
       "  'url': 'https://udn.com/news/story/6812/4023445',\n",
       "  'class': '全球',\n",
       "  'description': '烏克蘭一位年輕媽媽將年幼子女留在房內11天，子女只靠吃屎尿和壁紙過活。圖擷自dailynews 分享   facebook     烏克蘭近期發生一起驚悚命案，一位23歲的年輕媽媽將自己的年幼子女關在房間，並獨自離開11天與男友約會，這位媽媽在離開時用毛巾堵住房門縫隙，企圖活活餓死子女，在這期間子女靠著啃食壁紙和自己的排泄物過活，直到阿嬤來拜訪時才發現他們的處境，但其中一位小男童已活活餓死，另一位女童雖沒餓死，卻有嚴重營養不良的現象。根據英國《每日郵報》報導，事發位在烏克蘭首都基輔，這位年輕媽媽名叫弗拉季拉瓦（Vladislava Trokhimchuk），她與前夫育有1男1女，事發當天她獨留1歲兒子丹尼爾（Danill）和3歲女兒安娜（Anna）在沒有水和食物的房間內，離開前還用毛巾堵住門縫防止他們逃出來，之後弗拉季拉瓦便與她的男友去約會，整整11天沒回到家中查看小孩狀況，在受困期間，丹尼爾和安娜只能靠著吃壁紙和自己的排泄物過活，他們曾試圖啃咬房門製造出坑洞，齒痕也深深地印在牆壁上，但他們仍舊無法逃出。直到他們的阿嬤來拜訪，她帶著玩具和雜物準備探視孫子們，但一進房就看見安娜在床上睡覺，她立刻抱起安娜並嘗試叫醒她，安娜的阿嬤表示「我給了她奶酪和一根香蕉，一切就像是一個可怕的夢......我不明白它是怎麼發生的。」，之後兩位孩童都被送往醫院急救，但丹尼爾已經沒有生命跡象，而安娜則是因為喝了花瓶裡的水逃過一劫，可是仍有營養不良的狀況。事後，法院經調查發現弗拉季拉瓦試圖讓小孩餓肚子，並在社交媒體上貼出圖片，謊稱其中1個或2個小孩身上都有長出危害生命的腫瘤，並試圖募集資金，但考慮到她羈押和被拘留的時間後，法院將讓弗拉季拉瓦在三年內獲得自由，而檢察官發言人對此則表示「我們將立即對判決提出上訴，並以最嚴格的方式對弗拉季拉瓦進行懲罰。」'},\n",
       " {'tile': '買不起新iphone想買舊款機 這時入手價格暴跌30%',\n",
       "  'url': 'https://udn.com/news/story/11477/4023911',\n",
       "  'class': '數位',\n",
       "  'description': '蘋果將在11日舉行年度發表會，許多人都相當關注新款iphone售價與外型。 圖／擷自蘋果官網 分享   facebook     蘋果iphone手機價格年年創新高，許多人想換新機，但看到新iphone的價格總是下不了手，於是轉而購買上一代或更之前的iphone，根據二手交易網站《Decluttr》的二手估價報告指出，當蘋果年度發表會過後，舊款iphone價格會暴跌30%，且前3個月跌幅最大。 蘋果公司宣布將在11日舉行最新一代iphone和相關產品的發表會，許多人都相當關注iphone新機的售價，準備將原本的手機淘汰，但每年iphone新機價格高昂，許多人紛紛轉而入手舊款手機，對此，二手交易網站《Decluttr》針對了iphone、三星、Google等手機做了研究，發現iphone比他款手機更不易折舊，更易保值。研究指出iphone手機在發表會後的第一個月內價格會下降至少40％，且舊款iphone在發表會當天一過價格就會暴跌30%，但在之後的幾個月價格則會趨於穩定，以每月1%的跌幅下探，因此民眾若是想購買舊款iphone，就必須把握發表會後的3個月，在這期間跌幅最大，且如果能夠搭配今年12月的促銷活動，應該能省下更多荷包。根據二手交易網站《Decluttr》的二手估價報告指出，iphone在發表會後的3個月內跌幅最大。圖擷自Decluttr 分享   facebook     另外Decluttr也針對去年機款的價格做估計，像是去年新推出的iPhone XR在過去的11個月中貶值了43％，目前轉售的價格為405美元（約1.27萬台幣），而iPhone XS則是在相同的時間內損失了近一半的價值，目前的轉售價格為512美元（約1.6萬台幣），相較於三星和Google等手機貶值速度較慢。Declutt表示Android手機的折舊速度比Apple設備快很多，三星S10手機在推出幾月內已經貶值了57％，S10 +手機則是已經損失了一半的價值，而Google的Pixel 3XL在發布後的六個月也貶值了58％，這兩家公司的手機都比iphone 失去更多價值。'},\n",
       " {'tile': '上海好市多掀「退卡潮」 人潮爆多員工忙到沒吃飯',\n",
       "  'url': 'https://udn.com/news/story/7332/4024357',\n",
       "  'class': '兩岸',\n",
       "  'description': '上海好市多開幕不到一週爆出「退卡潮」，許多民眾因優惠減少、商品缺貨而辦理退卡。圖擷自新浪網 分享   facebook     上海好市多（Costco）上月27日開幕，當天就吸引上萬人前來購物，並導致商場營業4小時後便宣布關店，但如今開幕不到一個禮拜好市多就爆出「退卡潮」，許多工作人員忙到沒有空吃飯休息，消費者紛紛退卡的主因也曝光，原來是因為人氣商品早已賣光、商品優惠不像開幕。根據「新浪網」報導，上海好市多剛開幕時對許多商品釋出優惠，這也導致消費者瘋狂湧入好市多，出現辦卡熱潮並將熱門銷售產品一掃而空，其中以要價1498元人民幣（約6580元台幣）的飛天茅台酒最受歡迎，不到3天許多人氣商品都被搶到缺貨，而商品價格的優惠也跟著取消，導致一些產品的售價提高，原本售價32.9人民幣（約145元台幣）的2罐冷藏牛奶也漲到53.9人民幣（約236元台幣）。對於人氣商品的漲價與缺貨，許多消費者頓時失去購賣的動力，根據報導指出，31日時許多消費者紛紛到櫃台辦理退卡手續，好市多的出口位置排滿了退卡的排隊人龍，工作人員為了處理這些手續，忙到下午2點多都還沒吃午飯，一位到好市多的阿姨表示「網路上說的那麼好，我過來花兩小時，排隊花一兩小時，一點都不划算」、「來回車費就花了十多塊錢，還不如在家門口的超市買東西」，而一對年輕夫婦也說「來逛Costco是覺得它檔次比較好的，結果擠來擠去，小孩一直哭，成本太高了，下次不會來了。」'},\n",
       " {'tile': '大選前三個月 屏東縣警局長葉明潭驚傳中風',\n",
       "  'url': 'https://udn.com/news/story/7327/4024645',\n",
       "  'class': '地方',\n",
       "  'description': '屏東縣警察局局長葉明潭今天上午在警察局職務宿舍突身體不適，左手左腳麻痺，緊急送醫檢查發現右腦血管栓塞；據了解，葉明潭目前無生命危險，但中風症狀須住院治療，距離總統大選只剩三個多月，對屏東地區的選舉維安恐造成影響。葉明潭是上午9點在屏東市北平路的職務宿舍內感到左手腳發麻，以電話聯繫辦公室警務員協助陪同到衛福部立屏東醫院急診就醫，醫生初步檢查為右腦血管栓塞，暫無生命危險。葉明潭現年61歲，警大46期畢業，去年7月16日從高雄警新興分局長調升屏東縣警局長，從警生涯 深受警政署長陳家欽器重；本月初才配合檢方執行2020總統大選前的緝毒掃黑專案，幾天前又偵破直播主遭打斷手腳案件，工作操勞。據了解，陳家欽已電話聯繫葉明潭關心狀況，葉意識清楚，病情回復尚良好，陳家欽要求葉先請假好好休養，視情況再回工作崗位。屏東縣警局長葉明潭上午傳中風住院，病情尚穩定。圖／警政署提供 分享   facebook     '},\n",
       " {'tile': '有形成三個颱風的可能 彭啟明：一個不排除很接近台灣',\n",
       "  'url': 'https://udn.com/news/story/7266/4023383',\n",
       "  'class': '生活',\n",
       "  'description': '天氣風險管理公司總經理彭啟明說，西太平洋熱鬧起來，共有三個熱帶系統都有可能發展成為颱風。要關注的是在菲律賓呂宋島東邊的熱帶性低氣壓，周三、四開始接近台灣東部海面，如果高壓維持目前強度，也不排除會相當接近台灣。彭啟明在臉書發文說，這一兩天台灣仍維持類似周末時，明顯夏季高溫，午後有局部雷陣雨。由於高壓勢力有減弱趨勢，午後熱對流發展將會增強，會有局部較大雨勢，甚至有很強的雷雨，有冰雹等現象發生，戶外工作者務必要提高警覺，暫停各種活動，能避就避。他表示，周三、四開始會有明顯轉變。西太平洋三個熱帶系統若成颱，被命名順序為玲玲、劍魚及法西，看誰最先到達標準。其中在台灣東南邊的熱帶性低氣壓，持續往西北前進，目前許多預測是通過台灣東方面的機會較高，不過還是要看太平洋高壓強度及和南海上的熱帶性低氣壓或演變成颱風的相互牽引。他說，目前天氣系統還不夠強，有待觀察。但提醒大家由於相當接近台灣，如果變成颱風，訊息或警報發布將會相當的快速，會讓人有措手不及的感覺。彭啟明說，兩個低壓系統接下來會帶動西南風，也就是周四開始，水氣將明顯增多，很容易有明顯雨勢，至少持續到這周末，和這幾天的天氣有些差別。中央氣象局說，今天各地大多為多雲到晴的天氣，僅花東地區及恆春半島有局部短暫的陣雨或雷雨，午後中南部地區及北部、宜蘭山區有局部短暫雷陣雨；溫度方面，西半部及東北部天氣炎熱，高溫約33至35度，其中桃園以北有36度左右高溫出現的機率，花東高溫約32度左右，注意防曬並多補充水分。氣象局指出，南海的熱帶性低氣壓，今天凌晨2時位於恆春鵝鑾鼻西南西方約970公里海面上，有發展為輕度颱風的機率，持續往西朝海南島方向移動，逐漸遠離台灣地區，未來對台灣天氣沒有影響；菲律賓東方海面也有一熱帶性低氣壓，距離恆春鵝鑾鼻東南方約1100公里的海面上，未來有發展為颱風的趨勢，預計周三（４日）之後將影響台灣的天氣，請留意此低壓系統的未來發展動態。天氣專家彭啟明說在台灣東南邊的熱帶性低氣壓，持續往西北前進，目前許多預測是通過台灣東方面的機會較高。圖／取自氣象局網站 分享   facebook     '},\n",
       " {'tile': '國造潛艦戰鬥系統 改由美主導',\n",
       "  'url': 'https://udn.com/news/story/10930/4023190',\n",
       "  'class': '要聞',\n",
       "  'description': '國艦國造未來會有美方加強參與，圖為今年五月潛艦廠房動土，現場展示的未來自製潛艦模型。 圖／聯合報系資料照片 分享   facebook     美國政府批准售台M1A2戰車、F-16C/D Blk70戰機後，對我方自製潛艦計畫（ＩＤＳ），也要加強參與。對此，參與其事的軍政高層官員昨天證實，隨著政治氣氛轉變，美方顧忌減少，對ＩＤＳ計畫的參與程度的確逐步增加，以保證潛艦能如期如質完成。近日業界傳出，先前美國政府允許廠商以「商售」模式（ＤＣＳ）協助潛艦戰鬥系統設計，如今將升格為美國政府居中保證的「軍售」（ＦＭＳ）模式。我軍政高層官員指出，沒有所謂「商售轉軍售」的情況。相較於當年發展ＩＤＦ經國號戰機時，美國通用動力（F-16生產者，現已併入洛克希德馬丁）扮演重要的技術指導角色，這次我方推動ＩＤＳ國造潛艦，缺乏類似的「總顧問」角色。外傳在載台（船身）設計方面，主要助力來自歐洲、日本的專家；至於潛艦「內裝」戰鬥系統，則由中科院負責，並向外尋求技術協力。去年四月，美國政府發給洛克希德馬丁與雷神兩家廠商「行銷核准證」（marketing license），允許他們參與台灣的潛艦建造計畫。先前就已承包現役劍龍級潛艦升級方案的洛馬，被我方選為ＩＤＳ戰鬥系統的主要合作夥伴。上月有消息傳出，洛馬對海軍表示，中科院選擇的一些艦上次系統，許多對於洛馬都屬陌生，是否可能造成系統相互干擾，洛馬無法保證能夠依合約，在二○二四年前完成三套潛艦戰系的交貨。主導本案的海軍司令黃曙光上將考慮後決定，讓洛馬依合約負全責。換言之，ＩＤＳ戰鬥系統的最後決定權，儼然已由中科院改到洛馬負責。對此消息，海軍回應「純屬臆測」，表示潛艦案由主合約商台船進行，中科院擔任戰系整合商，進度正常。是否有報導所提「洛馬意見壓過中科院」情況？軍方未正面回答。昨又有消息傳出，美方對ＩＤＳ技術支援，將由廠商層級的ＤＣＳ商售，轉為美國政府直接介入的ＦＭＳ軍售，預估年底即公告。消息人士說，如果轉成軍售，美國政府參與其間，會賺取作業費用，額度可能達兩成；但這也等於美國政府替國造潛艦的品質掛保證，也代表在戰車與戰機後，三軍對美軍購案都有重大突破。'},\n",
       " {'tile': '月入90k木工師嘆薪資凍漲30年 網驚：10天抵我1個月',\n",
       "  'url': 'https://udn.com/news/story/7269/4023776',\n",
       "  'class': '生活',\n",
       "  'description': '月入90k木工師，在社群PO文大嘆薪資凍漲30年。圖擷自「爆廢公社二館」 分享   facebook     日前政府宣布明年調漲基本工資，時薪將從一小時150元調漲到158元，多數勞工團體覺得調漲太少。一位網友馬上就在臉書po文抱怨自己雖然10天領一次薪水月入90多K，但從30年前就凍漲至今，讓他很感慨，「別人的薪水都漲，而我們卻只停留在原地」。網友看完PO文後驚說「10天是我一個月的薪水啊」。原PO在「爆廢公社二館」PO文表示自己是一名木工師傅，8月連續上工做滿31天，領了9萬多。他一天的工資是3100元，10天領一次，但也是永遠的3100元。他感慨的說，「30年前，木工薪水，也是3100，30年後也是一樣，看著別人薪水一直成長，而他們卻只停留在原地，總是領著微薄薪水，一天過一天」。 網友看完po文後留言吐槽說「電子廠每天工作12小時，中間休息兩小時，實際上只休20分吃個飯，繼續奮鬥到下班。下班還要被叩起來問產線的事情，然後又被嫌到流膿。這樣早班看有沒有實領30K，晚班3.5K有點拚」、「是出來被砲的」、「3100算很高了，南部還有在發2700的」，勸原po要知足。也有網友留言說「覺得羨慕..」、「辛苦了，加油」，更多網友鼓勵原PO「木工以現在的景氣還可以做滿31天，你的功夫一定很棒，不然就是你老闆很會做生意，很多工作可以做」、「去國外吧！美國木工很賺的！」'},\n",
       " {'tile': '郭台銘是備胎？蔡沁瑜：換瑜也不會代表國民黨參選',\n",
       "  'url': 'https://udn.com/news/story/12702/4023673',\n",
       "  'class': '要聞',\n",
       "  'description': '有媒體報導國民黨主席吳敦義派前陸委會副主委張顯耀見鴻海創辦人郭台銘，盼郭當「換瑜」備胎人選，引發關注，國民黨及張顯耀均否認，郭台銘發言人、永齡基金會副執行長蔡沁瑜上午表示，郭台銘若要參選，自始至終都一定獨立參選，「換瑜」是國民黨要傷腦筋的事情，不是郭台銘所能置喙。蔡沁瑜表示，郭台銘若要參選2020總統大選，一定是獨立參選，不會受到任何政黨遊說影響，和國台辦更是一點關係也沒有，郭台銘強調要為國家好、人民好，這是他一直念茲在茲的理念，所以大家才說他是中華民國最強外掛，最好的中華民國派。蔡沁瑜針對換瑜的說法回應表示，郭台銘對這件事情沒有任何期待，即便國民黨有任何變化，郭台銘也不會回到國民黨，代表國民黨參選。另外，新北市長侯友宜二哥侯明鋒稍早婉拒擔任郭台銘副手，蔡沁瑜表示遺憾，但尊重侯院長的決定，現在沒辦法合作，未來也是有機會。蔡沁瑜表示，郭台銘對這件事情沒有任何期待，即便國民黨有任何變化，郭台銘也不會回到國民黨，代表國民黨參選。圖／取自UDNTV畫面 分享   facebook     domready(function() {if ( !countDownStatus ) getCountdown();if ( !highChartsStatus ) getHighcharts();});domready(function() {var channelId = 2;var actArea = \"poll_at_story_0_v703\";var actCode = \"v703\";var actTemplate = \"bar2\";var elemDiv = document.createElement(\\'div\\');elemDiv.id = actArea;elemDiv.className =\\'vote_body area\\';var scr = document.getElementById(actArea+\\'_script\\');scr.parentNode.insertBefore(elemDiv, scr);$.getScript(\\'/funcap/actIndex.jsp?actCode=\\' + actCode + \\'&channelId=\\' + channelId , function() {actTemplate = eval(\\'objAct_\\' + actCode + \\'.d1.actTemplate\\');$.ajaxSetup({ cache: true });$.getScript(\\'/func/js/\\' + actTemplate + \\'_min.js?2019082101\\', function() {$.ajaxSetup({ cache: false });piepkg();loadTemplateJs(actTemplate);eval(actTemplate + \\'view(\"\\' + \\'#\\' + actArea + \\'\");\\')})});});'},\n",
       " {'tile': '影／我們帶你回家！搜救人員下斷崖帶遺體驚險影片曝光',\n",
       "  'url': 'https://udn.com/news/story/7320/4023426',\n",
       "  'class': '社會',\n",
       "  'description': '「我們帶你回家了！」62歲陳姓山友在攀登雪霸國家公園素密達山斷崖的時候，不慎摔落200公尺深的山谷死亡，搜救人員搭直升機到高山，昨天再徒步走到斷崖，走進山谷將遺體拉回山上，期間還不斷有落石，畫面驚險。陳姓山友和登山隊在攀登雪霸國家公園聖陵線的時候，4天前不慎在素密達山斷崖摔落山谷，台中市消防局、苗栗縣消防局、保七總隊和雪霸國家公園管理處等單位搜救人員，昨天利用繩索小心降下200公尺深的山谷，搜救人員綁緊遺體並確保繩索固定，緩慢爬上山谷。山谷地形險峻，能站立的空間有限，搜救人員輪流爬上，站在狹窄的定點，上方人員緩慢拉下方人員，確保遺體和自己的安全，在拉繩過程中，陡峭的山壁不斷的出現落石，畫面驚險，在帶回遺體的途中，搜救人員不斷對遺體喊著：「我們帶你回家了，不要擔心。」陳姓山友跌落200公尺深山谷死亡，搜救人員昨天驚險帶回遺體。圖/台中市消防局提供 分享   facebook     陳姓山友跌落200公尺深山谷死亡，搜救人員昨天驚險帶回遺體。圖/台中市消防局提供 分享   facebook     '},\n",
       " {'tile': '管中閔被控違法兼職案 公懲會判申誡處分',\n",
       "  'url': 'https://udn.com/news/story/120604/4024147',\n",
       "  'class': '文教',\n",
       "  'description': '台大校長管中閔1月8日上任，7日後遭監察院以擔任公職期間替壹週刊寫社論而彈劾，移送公務員懲戒委員會。監院指管違反公務員服務法「禁止兼職」規定，還曲解銓敘部函釋；管強調未「兼職」，指是政治迫害，諷監院不知「官箴」二字怎麼寫。公懲會今申誡。公懲會整理的爭點包括是否應參照銓敘部1987年2月23日(76)台銓華參字第82025號等函釋，公務員在「不妨礙其工作與本職之性質或尊嚴」或「不涉職務之事務」，得「偶一為之」、「非經常、固定」、「賺取薄利」投書媒體賺取稿費。管中閔在上月19日言詞辯論時解釋，自己不是壹週刊編制內的人員，「無薪無職」，既然沒有職位，何來兼職？他稱是受邀撰稿，沒簽契約，而且對方不只邀他，他也沒有投稿義務，壹週刊也沒義務一定要登他的文章，若文章沒被採用也就無稿費。他認為監院的調查不符合比例原則，究竟是基於什麼樣的「重大犯罪」而查他20年的報稅資料，還要所有的單位詳細交代和他的來往過程？監院為何可以在彈劾文間，隱匿對他有利的報告，有濫權之虞。管中閔的防禦策略是斬釘截鐵地說「沒有兼職」，並指沒有事先約定稿費，有時候一整個月也沒領到稿費，而他寫的文章與職務無涉，彈劾文卻隱匿事實。律師俞大衛表示，管案像是「不教而殺」，若依監察院聞所未聞的方式來懲戒，如同打開潘朵拉的盒子，是公務員的莫大災害。監院代理人賴建文數度批管與律師的辯詞「可笑」，指摘管三度不配合監院調查，卻反指監院說不出那些社論是他寫的，本案源自有人告發管在大陸兼職，因時效問題才查近20年的資料，強調監院不會「深文周納」。賴反擊，認為這樣還不算「兼職」才是打開潘朵拉盒，像有些財政部的官員自制，根本不敢書寫教人如何避稅的文章。監察院認為管中閔2012年2月6日至2015年2月3日任職政務人員期間，以匿名方式常態性為壹週刊寫社論，獲取年約65萬元的兼職報酬，違反公務員服務法公務員禁止兼職規定，嚴重損害公務紀律、敗壞官箴。台大校長管中閔（前）任政務官期間為媒體撰寫社論，遭監察院以違法兼職彈劾。圖／聯合報系資料照片 分享   facebook     domready(function() {if ( !countDownStatus ) getCountdown();if ( !highChartsStatus ) getHighcharts();});domready(function() {var channelId = 2;var actArea = \"poll_at_story_0_v704\";var actCode = \"v704\";var actTemplate = \"bar2\";var elemDiv = document.createElement(\\'div\\');elemDiv.id = actArea;elemDiv.className =\\'vote_body area\\';var scr = document.getElementById(actArea+\\'_script\\');scr.parentNode.insertBefore(elemDiv, scr);$.getScript(\\'/funcap/actIndex.jsp?actCode=\\' + actCode + \\'&channelId=\\' + channelId , function() {actTemplate = eval(\\'objAct_\\' + actCode + \\'.d1.actTemplate\\');$.ajaxSetup({ cache: true });$.getScript(\\'/func/js/\\' + actTemplate + \\'_min.js?2019082101\\', function() {$.ajaxSetup({ cache: false });piepkg();loadTemplateJs(actTemplate);eval(actTemplate + \\'view(\"\\' + \\'#\\' + actArea + \\'\");\\')})});});'},\n",
       " {'tile': '海祭美背照網友瘋傳跪求正面 真相大白讓人驚了',\n",
       "  'url': 'https://udn.com/news/story/7323/4023602',\n",
       "  'class': '地方',\n",
       "  'description': '新北市貢寮海洋音樂祭連續3天熱潮昨晚結束，10大樂團爭奪最高榮耀的海洋旗也產生新霸主，每天都有很多辣妹與猛男戲水，比基尼大秀好身材，逐退熱浪。但卻流傳了一張美背照，是一張不辨男女的「上空照」，引發網友議論，並有網友說跪求正面照，今天有網友提供這名美背者的正面照出來了，證實不是女的，是一名長了落鰓鬍的男帥哥，只是個美麗的誤會。有男網友說「崩潰了」，但也有女網友說「帥哥也不錯啊」，一張照各有解讀。海祭主辦單位新北市政府觀旅局在海祭第二天，攝影官拍到一張照片提供給媒體，這張照是一名只著泳褲的人，不知男女，但只看到後面有綁了兩條瓣子，引人遐想，造成多方揣測，網友紛紛求解，希望有人提供正面照。有參加海祭民眾在現場拍照，他有拍到這名美背客，比對泳褲一模一樣，加上身形特徵，證實是同一個人。這名拍到照片的網友說，剛開始也是先看到背面，但是後來有看到正面，其實是一名老外，一名很帥氣的年輕帥哥，滿臉的落鰓鬍 ，很帥氣啦。拍照民眾說，落鰓鬍的男子，因為有綁了兩條小瓣子，當時兩條小瓣子在背後，從後面看才會有點被誤以為是女的，其實是貨真價實的男性，跟他走在一起的，還有一名穿比基尼的女伴，因為是男的，當然只有穿下面的沙灘褲，沒有上面哪一件。網友還表示，不少老外男生也都有綁瓣子，在台灣比較少見。民眾得知真相後有人說「崩潰了，還有啤酒小肚肚」、「真相大白讓人不想接受」、「還是看背影就好」，但也有女網友說「帥哥也不賴」、「美背想像無限大」。一名網友說出原因，他表示，從後面看美背會引人遐想，因為沒有比基尼的上半身那條線，誤以為上空，才會讓人想入非非，其實這名男子就是穿一件沙灘褲而已，網友真的想多了。這張照只著泳褲，上半身沒穿，但有兩條長髮瓣子，是男是女引遐想，網友跪求正面照。圖／新北市政府提供 分享   facebook     今天有網友提供這名美背者的正面照出來了，證實不是女的，是一名長了落鰓鬍的男帥哥，只是個美麗的誤會。圖／讀者提供 分享   facebook     '},\n",
       " {'tile': '禾馨婦產科A健保點數溢領千萬 名醫蘇怡寧繳50萬獲緩起訴',\n",
       "  'url': 'https://udn.com/news/story/7321/4023846',\n",
       "  'class': '社會',\n",
       "  'description': '婦產科名醫蘇怡寧。 聯合報系資料照／記者黃義書攝影 分享   facebook     北市知名連鎖婦產科「禾馨婦產科」讓孕婦自費照高層次超音波，卻向健保署申報健保點數溢領1500萬元，執行長蘇怡寧遭移送詐欺罪、違反個資法。台北地檢署考量蘇坦承犯行且態度良好，給予緩起訴處分，期限1年，須支付公庫50萬元。個資法部分，罪嫌不足，獲不起訴。中央健保署調查，有一名孕婦到「禾馨婦產科」自費照高層次超音波，但櫃檯卻以疾病為由，要求刷健保卡，進而發現禾馨一手向孕婦收取費用，一手卻申報健保點數，簡直是「兩頭賺」。2018年2月間，健保署針對禾馨旗下的懷寧街的婦產科診所和內湖婦幼診所，施以停約1個月處分，並將蘇怡寧移送北檢偵辦。禾馨旗下5家診所，吐回2016年1月到2017年12月間，共1500萬元健保費。事後，另有孕婦認為禾馨違法使用個人就診資料，控告蘇違反個人資料保護法。據了解，蘇怡寧供稱，產婦自費照高層次超音波，而診所申報的健保點數屬於「醫師診療費」。檢方指出，禾馨確實申報健保點數，但禾馨將患者個人資料向上呈報給予健保署審查，是既有作業流程，不能因事後審查未通過而認定醫師濫用個資，此部分不起訴。當時，禾馨集團執行長、名醫蘇怡寧說：「我沒有任何的說法，謝謝，這個還在調查當中，這個我們一直有在申訴，我們有我們的看法。」據悉，經過雙方協商，最後繳回金額低於千萬元。'},\n",
       " {'tile': '三颱接力生成？氣象局說這個最值得留意周三就接近',\n",
       "  'url': 'https://udn.com/news/story/7266/4023422',\n",
       "  'class': '生活',\n",
       "  'description': '恐有三颱接力生成。中央氣象局說，目前在南海及菲律賓東方海面的熱帶性低氣壓，有機在今天白天生成輕颱，預計周三起影響台灣，另在遠洋亦有一低壓可能生成颱風，不過仍要觀察。氣象局預報員李孟軒說，目前在南海及菲律賓東方海面的熱帶性低氣壓，不排除在今天接力生成第13號颱風「玲玲」、第14號颱風「劍魚」，不過南海的不用太在意，生成颱風後會走海南島，然後繼續往東南半島，對台灣無直接影響。至於菲律賓東方海面的熱帶性低氣壓，李孟軒說雖然路徑還要討論，預測分歧度有點大，有靠近台灣也有偏離台灣，但因為接近台灣的機率較高，恐沿著東部海面北上，甚至有機會撲台，預測周三起為東半部及南部帶來雨勢，接連影響後續警報情形，值得關注。對於緊接著可能生成的第三個颱風，李孟軒表示遠洋的確有個低壓，有機會生成熱帶性低氣壓甚至是颱風，不過要五天左右才會明朗。李孟軒說，今、明兩天，花東、恆春半島留意短暫雨，其他地區多雲時晴，不過中部以南及各地山區要注意午後雷陣雨。溫度方面，李孟軒說全台高溫落在33到36度間，花東受到雲量多影響，高溫溫度略低，在32到33度間，其他地區比較熱，桃園以北已發布高溫資訊。李孟軒說，周三起受到低壓帶影響會變天，若菲律賓東方海面生成颱風，在周三接近，周四通過，除了會帶來雨勢，也會讓天氣更加不穩定，屆時除了東半部和南部有雨，颱風接近時雨量甚至會擴展到全台。中央氣象局說，目前太平洋地區有兩個熱帶性低氣壓。圖／中央氣象局提供 分享   facebook     '},\n",
       " {'tile': '柯文哲曾批垃圾不分藍綠 孫大千：你有什麼不一樣？',\n",
       "  'url': 'https://udn.com/news/story/12702/4023756',\n",
       "  'class': '要聞',\n",
       "  'description': '台北市長柯文哲。 記者許正宏／攝影 分享   facebook     「郭柯王」未來走向備受外界關注，台北市長柯文哲日前被問到三人將有何合作，他說，順其自然，找出台灣最需要的答案。對此，韓國瑜北部競選辦公室副執行長孫大千在臉書發文說，政治不是數學，3個1加起來不一定會等於3，搞不好還會小於3。孫大千表示，柯文哲現在如此熱衷的合縱連橫遊戲，這不正是過去他口中不屑一顧的「密室協商」嗎？難道用一句「找出台灣最需要的答案」，就可以混得過去？柯文哲每天緊抱著郭台銘董事長和王金平院長，難道他真的忘記了過去是如何評價郭王的嗎？孫大千質疑，柯文哲除了質問蔡英文的「台灣價值」之外，難道不需要向台灣人民說明一下，他現在拼命結盟拉攏的對象們的「台灣價值」又是什麼？大家的「台灣價值」是否都一致。孫大千批評，柯文哲現在為了壯大「台灣民眾黨」，四處「借將」、「借勢」、「借力」，甚至不惜「借牌」，這和過去他口中嗤之以鼻的「垃圾不分藍綠」又有什麼不一樣？當柯文哲已經大幅偏移了自己投身政治時在理想光譜上的定位之後，今日的柯文哲會不會讓昔日的柯文哲失望呢？'},\n",
       " {'tile': '管中閔申誡處罰影響校長一職？ 公懲會這樣回答',\n",
       "  'url': 'https://udn.com/news/story/120604/4024373',\n",
       "  'class': '文教',\n",
       "  'description': '台大校長管中閔遭監察院以擔任公職期間替壹週刊寫社論而彈劾，移送公務員懲戒委員會；公懲會今天下午3點宣判，判管中閔申誡。公懲會除認為管中閔嚴重損害政府信譽，也違反公務員服務法，因此有懲戒必要，另公懲會指出，記申誡是否會影響管中閔校長職務，此部分並非公懲會的權責。公懲會認為，管中閔自2014年1月15日起擔任行政院政務委員，並兼國家發展委員會主委，是政務人員卻經常、持續性為壹週刊撰寫文章，刊登於雜誌上，除了和本身職務性質相違背外，更有礙職務尊嚴，足以使民眾產生公務員不專心自身政務，公務紀律鬆散的不良觀感，已嚴重損害政府信譽，違反公務員服務法第14條第1項禁止業務的規定，因此有懲戒的必要。公懲會書記官長林玉苹受訪指出，管中閔從2014年1月15日開始在壹週刊投稿，每隔一週就刊登一篇，總共有27期，每一篇稿酬是2萬5000元；另就為何不是撤職處分，林玉苹說，這是合議庭就本案情節做考量後決定的結果。有媒體問及是否會影響校長職務？林玉苹表示，這並非公懲會的權責，另申誡處分對公務員而言是會影響考績。公懲會書記官長林玉苹。記者林孟潔／攝影 分享   facebook     公懲會判管中閔申誡。本報資料照片 分享   facebook     '},\n",
       " {'tile': '周刊爆棄養公公還劈腿 「本土劇惡女」求償千萬及道歉',\n",
       "  'url': 'https://udn.com/news/story/7321/4023783',\n",
       "  'class': '社會',\n",
       "  'description': '女演員陳小菁。圖翻攝自陳小菁臉書 分享   facebook     本土劇女演員陳小菁不滿被周刊王報導她棄養公公還劈腿，向李姓記者、鐘姓爆料者提告。刑事部分，2人被依誹謗罪判拘役50日，得易科罰金可上訴；民事部分，陳小菁求償1000萬元並要求登報道歉，台北地方法院今天開庭，陳的委任律師指出，若記者願意認罪，雙方有和解可能，鐘另涉恐嚇，因此沒有和解意願。陳小菁多次演出三立戲劇「戲說台灣」，有「戲說一姐」的封號，她近期演出三立戲劇「炮仔聲」中的壞女人，知名度大增。李姓記者2016年在周刊王以標題「承接鉅額家產拒付3000生活費」、「三立細說一姐陳曉菁被控棄養公公」等，報導陳小菁和丈夫分家產後棄養公公，另指陳小菁曾是丈夫二哥女友，還介入丈夫與前妻婚姻。陳小菁認為被有心人爆料，且記者未經查證報導不實，一狀告上法院。刑事判決指出，因鐘和陳的丈夫有金錢糾紛，想要施加壓力，才會向周刊記者爆料，但李身為記者有義務查證，卻為衝刺周刊銷售量，只憑鐘的片面陳述就撰寫報導，因此判鐘、李各拘役50日，案件仍在高院審理中。民事部分，陳小菁向鐘、李連帶求償1000萬元並要求登報道歉，台北地院今開庭，陳的律師指出，周刊報導已經嚴重傷害陳小菁的名譽權，但若李願意在刑事部分改口認罪，雙方有和解可能；鐘則另涉恐嚇罪嫌，因此沒有和解可能。'},\n",
       " {'tile': '自閉兒搭機鬧 全機包容',\n",
       "  'url': 'https://udn.com/news/story/6813/4023369',\n",
       "  'class': '全球',\n",
       "  'description': '左圖為布雷森躺在機艙走道，右圖為空姐留字條給布瑞爾打氣。（臉書照片） 分享   facebook     布雷森擋道，空服員不以為忤。（臉書照片） 分享   facebook     近年來聯合航空（UA）老是傳出負面消息，如今總算被一名德州婦人「扳回一城」。她們全家搭機從南加州飛回休士頓途中，有自閉症的四歲兒子鬧情緒全程不安分，包括踢椅子與躺在機艙走道。但機組人員發揮最大耐心照顧他，就連其他旅客也充分包容。婦人感動在心，回家後在臉書發表照片與感謝文，稱頌人間有溫暖。這件事情發生在8月6日，但媒體8月27日才廣泛報導。布瑞爾（Lori Gabriel）家住休士頓郊外絲柏（Cypress ）社區，前往加州度假。當天從聖地牙哥搭聯航飛返休士頓，一行人還包括男友、男友雙親、九歲女兒與兒子布雷森（Braysen）。布瑞爾說，兒子雖有自閉症，但很愛坐飛機，之前都沒出過大問題。然而當天上飛機前，布雷森就顯得坐立不安。他們優先上機，準備起飛時布雷森開始鬧情緒。他解開安全帶，堅持要坐在地上。布瑞爾與男友費九牛二虎之力，把布雷森拉回座位重新綁上安全帶。布瑞爾說，兒子這時拚命反抗，又踢又叫，還打媽媽並抓她頭髮。一名空姐過來警告，小孩不安靜飛機無法起飛。布瑞爾告訴她，兒子有自閉症，請多給她們一點時間。空姐走開後，帶另兩名空姐回來，問布瑞爾有什麼可幫忙的？大夥商量後，空姐允許布雷森在起飛期間坐在媽媽大腿上，由爸爸壓住布雷森。飛機升空後，安全帶燈熄滅。布雷森繼續大叫反抗，布瑞爾只好放他下來。空姐讓布雷森坐在走道，後來更讓他蓋著毛毯躺下。布瑞爾說，當布雷森興奮過度時，機艙地板的震動可安撫他的情緒，他還喜歡故意踢地板去感受震動。結果一不小心踢到隔走道一位婦人的腳，這位婦人表示沒關係，態度非常友好。布瑞爾當時不知道，其實這位婦人也是空姐，當時不在上班，只做旅客，而且她有自閉症的親友。布瑞爾說，布雷森在經濟艙玩夠，居然跑去頭等艙鬧。他在頭等艙玩得不亦樂乎，並猛踢一名男旅客的座椅。布瑞爾向男旅客道歉，他表示完全沒關係。他還向布雷森自我介紹，並與布雷森擊掌。頭等艙其他旅客也對布雷森很「奈斯」，問他叫什麼名字，向他秀手機照片，隨便他坐在哪裡。讓布瑞爾十分感動的是，空服員經常來問布瑞爾需要什麼。當他們推車送餐飲時，會配合布雷森的擋路繞道而行。當布瑞爾一行準備下機時，意外獲得那位便衣空姐擁抱，還塞給她一個字條。對方親筆寫說，永遠不要認為兒子為別人帶來不便。他是上帝的祝福，不是負擔。「上帝祝福妳的耐心、愛心、支持與力量，繼續做個女超人。」布瑞爾看了眼淚快掉下來。'},\n",
       " {'tile': '獨家解析》4個關鍵時點，看郭台銘總統路4部曲攻略：獨選？大藍？小藍？棄保？',\n",
       "  'url': 'https://udn.com/news/story/12702/4023480',\n",
       "  'class': '要聞',\n",
       "  'description': '2020總統大選可能出現韓國瑜(左起)、郭台銘、蔡英文三腳督的狀況。圖／本報系資料照片 分享   facebook     鴻海集團創辦人郭台銘投入2020大選的情勢越來越成熟，但將用何種形式投入？他下決策的每一步棋，都牽動參與這場大選棋局者，該如何推敲出各自的下一步棋。未來4個月，郭董想進取總統大位，有攻略4部曲：獨立參選搶中間、大藍天團結式、小藍天結盟式，以及進入大選白熱化最後階段時，能否成為棄保效應最終得利者。第1部曲，獨立參選，此階段的觀察截止日是登記連署的最後期限：9月17日。在國民黨揚言一旦郭台銘參選就開除其黨籍的情況下，郭若選擇獨立參選人身分，等同正式宣告他未來的競選路線，將是非藍、非綠，專攻「第三勢力」的新路線。若想勝選，郭台銘得想盡辦法在藍、綠目前各約3成的穩固基本盤之外，將中間選票極大化。這是過去歷任總統大選中，不曾成功的模式。但因有台北市長柯文哲加持，或許讓郭柯結盟，有一搏致勝的機會。不過，既然過去不曾有人挑戰成功，風險自然相對高。戰國策傳播集團董事長吳春城分析，目前郭台銘支持度高，是因為有部分藍營支持者撐底，但當他選擇脫黨後，「他在國民黨群眾眼中的（參選）正當性就會下降」，這也牽動資源、人脈的變化：例如檯面上支持他的藍營組織、立委，可能因得遵守國民黨「家法」而選邊站或地下化，原先藍營的支持者，也可能因為質疑郭不夠「正統藍」而離開。為了補足這些缺口，郭台銘勢必得更往柯文哲的台灣民眾黨靠攏。但，白色力量共主柯文哲網路人氣高、口才便給，恐怕會讓原本郭營打著「藍天+白雲」的盤算未必能盡如人意，最後甚至落得白雲遮滿藍天的下場，鋒頭盡被柯Ｐ吃盡。若郭不想受制於柯文哲，還有第2部曲的攻略，即打出「大藍天團結式」。這個階段的明朗化會落在10月份。所謂大藍天團結式，就是郭放棄獨立參選，等待目前民調聲望一路下滑的高雄市長韓國瑜能自動退位，「韓下郭上」。這需要一場泛藍山頭大會來協調，觀察時間點是今年10月國民黨全代會召開前夕，端看國民黨內部能否和諧完成換血程序。吳春城認為，若走此程序，泛藍將可換取最大利益：藍軍團結、立委全上，還可能取得總統寶座。只不過，這個如意算盤操之在韓，畢竟，當初被眾星拱月、黃袍加身的韓國瑜能否說退就退？鋼鐵韓粉能否接受？黨內又有誰敢出頭做調和鼎鼐的推手？即便大藍天團結不成，郭董還有第3部曲「小藍天結盟式」可期待。此階段觀察截止期，在總統參選人最後登記日，即11月22日前。此時新登場的關鍵人物，是親民黨主席宋楚瑜。「如果前面都不成功，那就剩下宋楚瑜握有（讓郭台銘）進入總統大選的門票了！」吳春城分析，若郭台銘當不成大藍天路線的舉旗者，仍可與小藍結盟拉出另一條論述路線。不論郭採何種模式參選，都會進入第4部曲，觀察時序在總統大選最火熱的12月。若郭董在「三腳督」(台語，意似三足鼎立)情勢下，能夠力保自己不會「吊車尾」，那過去三腳督時，選民自動棄保的效應就會浮現。只不過，這股效應，郭董能沾得多少好處，與他前面3階段的關鍵抉擇有關。吳春城分析，若郭董與柯陣營結盟，以獨立身分參選，向「白色」靠攏，則泛藍支持者「棄韓保郭」的程度就可能較小。其次，若郭董與小藍結盟，與泛藍支持者維持一定黏著度，則泛藍支持者在最後關頭，為了不讓民進黨勝選，「棄韓投郭」的機會可能就相對高。即便最後關頭，郭台銘落得第3名，只要在適當時機轉而自動棄選，支持韓國瑜，郭董都還能在下台前留下一個漂亮的轉身，不必背負藍營攪局罪人的罵名。綜上所述，郭台銘算盤若撥得精，2020大棋局結帳時，他都能穩賺不賠了。※本文由商業.com授權刊載，未經同意禁止轉載。'},\n",
       " {'tile': '她追她不成竟惡整 天天叫20杯珍奶20個便當到公司',\n",
       "  'url': 'https://udn.com/news/story/7321/4023747',\n",
       "  'class': '社會',\n",
       "  'description': '高雄連姓女子疑對前同事林姓女子有好感，但邀約一起出國遭拒後，竟涉嫌每天叫20杯珍珠奶茶跟20個雞腿便當到對方公司，還傳上百封訊息恐騷擾，林女回撥電話號碼聽到連女聲音，憤而對她提告。高雄地院審理認為，連女傳的簡訊多次提及要公布個資，使林女心生畏懼，依犯恐嚇危害安全罪判5月徒刑，得易科罰金15萬，可上訴。判決指出，連姓女子2014年8月間和林女都任職建設公司，對林女心生好感，2015年2月邀約同遊香港，不料卻遭拒絕，連女轉為不滿，2017年11月起至隔年8月，共傳139封簡訊。林女控訴，兩人原本是建設公司的同事，一起去台中受訓約1個月，之後連女離職轉行當仲介，仍然有聯絡，不過2014年11月時，連女邀約去高雄參觀旅展，「途中她有牽我的手，而且是十指緊扣，我覺得很奇怪，就把手抽開」，之後連女又約去香港玩，林女無法請假，但再隔1周林女與同事去苗栗玩在臉書打卡，就開始有人以電話及信件騷擾。林女說，「半夜電話一直響，接起來就掛掉，公司每天都收到20杯珍珠奶茶跟20個雞腿便當」，且便當都沒付錢害店家很生氣；而林女電話也收到大量騷擾訊息、也常有人打電話騷擾林女及其他同事，某次林女拿同事電話回撥騷擾電話，聽到連女聲音，才得知是連女所做。連女辯稱並沒使用過騷擾電話的門號，不過法官查出，該門號的基地台確實在連女住處附近，認定是連女所做，考量林女表示感到非常害怕、上班都心神不寧、內分泌失調等，依犯恐嚇危害安全罪判刑5月。高雄連姓女子疑似追求前同事林女不成，涉嫌每天叫20杯珍珠奶茶跟20個雞腿便當到對方公司，還打電話、傳訊息騷擾。圖與本案無關。圖／本報資料照 分享   facebook     '},\n",
       " {'tile': '麵包王國創辦人豪宅淪為法拍屋 第三拍7508萬有望定拍',\n",
       "  'url': 'https://udn.com/news/story/7321/4024834',\n",
       "  'class': '社會',\n",
       "  'description': '鄉林陽明。聯合報系資料照片／記者蘇健忠攝影 分享   facebook     屋齡9年的北市士林區豪宅「鄉林陽明」驚傳有法拍屋，明天下午將在士林地方法院民事庭舉行第三拍，拍賣價格從第一拍的1億多元，至第三拍底價7508萬元，豪宅屋主是已離世的五星主廚雷東隆，其繼承人因無力償還債務，豪宅淪為法拍屋。台商獨資企業，安德魯森食品集團創辦人雷東隆，是台灣的五星主廚，熱愛烘焙的他靠著麵包打天下，1996年移居到中國大陸，開拓麵包王國，全盛時期有250家分店、3500名員工。據悉，雷東隆在4年前，把士林區基河路396巷的2戶鄉林陽明豪宅，抵押給中國信託銀行，分別貸款數千萬元，但他在2015年心臟病突然過世，繼承人繼承名下財產，但卻無力清償龐大的利息和債務，今年中國信託銀行申請法院拍賣2戶豪宅。位在6樓2戶打通的豪宅，坪數為164.06坪，第一拍拍賣底價1億1千7百多萬元，第二拍底價9384萬元，均流標。第三拍拍賣底價7508萬元，價格落差4千多萬元，需繳保證金1502萬。明天下午2點半，將在士林地方法院進行第三拍，知情人士分析，因價格自首拍至3拍「價格直直落」，順利定拍機率非常高。安德魯森食品集團已故董事長雷東隆，是知名五星主廚，後來移居大陸，開創250家分店麵包王國。圖／安德魯森提供 分享   facebook     安德魯森集團在台灣門市，消費者門庭若市。照片／安德魯森集團提供 分享   facebook     '},\n",
       " {'tile': '兩颱風將接力生成 周三後影響台灣天氣',\n",
       "  'url': 'https://udn.com/news/story/7266/4023372',\n",
       "  'class': '生活',\n",
       "  'description': '這兩天恐有颱風先後接力生成，並在周三之後影響台灣天氣。中央氣象局表示，今明兩天各地為多雲到晴，但要留意午後雷陣雨，西半部天氣炎熱，桃園以北將出現36度高溫。周三以後太平洋高壓勢力減弱，熱帶系統將影響台灣天氣。中央氣象局表示，今天各地大多為多雲到晴的天氣，僅花東地區及恆春半島有局部短暫的陣雨或雷雨，午後中南部地區及北部、宜蘭山區有局部短暫雷陣雨；溫度方面，西半部及東北部天氣炎熱，高溫約33至35度，其中桃園以北有36度左右高溫出現的機率，花東高溫約32度左右，請注意防曬並多補充水分。明天各地也多為多雲到晴的天氣，西半部高溫悶熱，僅花東地區及恆春半島有局部短暫陣雨或雷雨，午後中南部地區及北部、宜蘭山區留意局部短暫雷陣雨。氣象局提醒，菲律賓東方海面有一低壓系統，未來有機會發展為熱帶性低氣壓甚至成颱，周三隨著太平洋高壓東退，熱帶系統將沿著太平洋高壓西南側往北移動，影響台灣天氣。另外，南海熱帶性低氣壓也有發展為輕度颱風機率，朝海南島方向移動，對台灣天氣較無直接影響。今天各地為多雲到晴，局部地區高溫炎熱。圖／取自中央氣象局網站 分享   facebook     '},\n",
       " {'tile': '蔡賴配有譜了？陳菊在大阪首度鬆口',\n",
       "  'url': 'https://udn.com/news/story/12702/4024339',\n",
       "  'class': '要聞',\n",
       "  'description': '民進黨不少基層盼蔡賴配成型，但始終未見民進黨高層有所動作，台南市長黃偉哲昨天表示他相信最後蔡賴兩邊會有密集而且很實際溝通，至於配不配或其他方式，這個部分他沒有辦法揣測；不過，據自由時報報導，總統府秘書長陳菊前天在日本大阪首度鬆口希望大家促成「蔡賴配」。 \\xa0 \\xa0\\u3000自由時報報導指出，陳菊日前代表蔡英文總統出席日本海外蔡英文後援會成立大會，陳菊在會中致詞策口在場台僑表示，很多海外鄉親都關心賴清德，她和大家一樣，認為優秀人才不要孤單，要支持他和蔡總統一起合作，希望在2020年大選蔡賴合作能夠成功。不過，陳菊昨天轉往東京，她在成立大會致詞時未再提到蔡賴配之事。總統府秘書長陳菊。本報資料照片 分享   facebook     '},\n",
       " {'tile': '索羅門本周與中國建交？外交部：索國在檢視整體外交',\n",
       "  'url': 'https://udn.com/news/story/12429/4023482',\n",
       "  'class': '要聞',\n",
       "  'description': '外交部發言人歐江安表示，有關報載索羅門群島政府將於本週作出是否外交轉向的決定，根據外交部掌握的資訊，索國政府在進行評估時，同時也參考跨黨派小組的報告，以及其他政府部門的專業意見，做整體性的通盤考量；此外，索國政府的相關決策也必需與內閣及國會商議，因此評估小組的報告並非唯一、也非最終的決策參考依據。這是否代表索羅門正在評估與中國大陸建交？歐江安受訪時指出，索國政府是在檢視整體外交。歐江安表示，台索兩國近期互動正常，索國國會議長於八月初率議員團來台參加「亞太國會議員聯合會」（APPU)，蘇嘉瓦瑞(Sogavare)總理於八月中與外交部長吳釗燮在「太平洋島國論壇」(PlF)會晤，兩國外長並簽署互免簽證協定。此外，索國前總理何瑞朗(Rick Hou)與15位議員（含13位部長）曾在媒體公開發表支持台索邦誼聲明，代表索國政壇友我力量深厚。另外，我國青年大使及運動場館工程團隊現也在索京訪問考察中，此均證明台索兩國合作順利溝通無礙。蔡英文總統(左）2017年9月在國家表演藝術中心兩廳院藝文廣場，以軍禮歡迎當時的索羅門群島總理蘇嘉瓦瑞（右）伉儷及來訪官員。本報資料照片 分享   facebook     '},\n",
       " {'tile': '唐綺陽星座運勢週報：射手留意職場戀情 獅子當心破財',\n",
       "  'url': 'https://udn.com/news/story/7268/4023380',\n",
       "  'class': '生活',\n",
       "  'description': '星座專家唐綺陽。 大慕影藝提供 分享   facebook      重要星象：日、水、金、火皆在處女座，四星逆行中，火海對分相，處女星群、冥王三分相 本周太陽、水星、金星、火星皆在處女座，關注健康、細節、完美主義…等相關議題，對於認真專業、自我要求高者，會有斐然的成績出現。處女座備受矚目，應思考下一階段的發揮，討論工作的看法及流程。四星逆行中，容易使人懷舊、反省過往，從過去錯誤中找出最佳的應對方法，重新思考、改進工作的處理流程，將會對企業有好的影響。火、海對分相，有利於藝文活動的發展。處女星群、冥王三分相，是企業自省、審視體質，重新訂定規章的好時機。  處女：把握創新的機會，用新的思維角度去處理天秤：遇到許多貴人，會難以選擇魔羯：掌握工作上的主導性水瓶：工作上有翻案的機會  白羊：別太含蓄或疏忽對方的心情巨蟹：小心失控、避免情緒化，應多溝通天蠍：做自己，展現自我會受到歡迎射手：要留意職場戀情的機會  雙子：重新審視理財狀況，會有新的想法獅子：購物慾旺盛，當心破財  金牛：當心壞習慣與小疏忽，拖累健康戰鬥力雙魚：注意消化系統或宿醉問題周運影片連結：唐綺陽官方專屬頻道 '},\n",
       " {'tile': '金鶯球員教練互嗆 不復陳偉殷當家時代高向心力',\n",
       "  'url': 'https://udn.com/news/story/6999/4022989',\n",
       "  'class': '運動',\n",
       "  'description': '金鶯又輸球了。當然，對這隻去年勝率只有.290，以115敗追平史上敗場第五多、本季目前勝率也只有.333的超級大爛隊來說，輸球根本算不上是什麼新聞。之所以特別提出來，是因為金鶯在被同區「勁敵」洋基狂轟濫炸創紀錄的61發全壘打（平均每場轟出3.2支）後，昨天面對勝率只有.350、幾乎跟他們一樣爛的皇家時，竟又慘遭皇家打者連續三次犧牲短打的「小球戰術」修理而輸球。如今的金鶯，真有如當年率洋基締造五連霸，卻也曾在執教大都會時留下單季120敗不名譽紀錄的傳奇總教頭史丹格（Casey Stengel）所說的：「這隻球隊讓我見識到各種我連想都沒想過的輸球方式。」美國人常說當球隊贏球不止時，不論教練球員彼此之間往往氣氛融洽，無形的化學效應（chemistry）好似完美無缺。反之一旦陷入連敗，人人都忙於從自家球隊中找出「戰犯」，而非扭轉局勢的贏球方法。常敗軍金鶯正是現身說法的最新案例。在上個月短短三週內，金鶯就兩度爆發教練與球員互嗆甚至差點大打出手的休息室風波。先是菜鳥總教練海德（Brandon Hyde）在被洋基以14:2血洗的比賽中不知說了些什麼，觸動全隊最貴卻也最廢的「鋸砲」戴維斯（Chris Davis）「纖細」的神經，激得這位最近兩季打擊率都遠低於190身高的大塊頭暴衝，幸而被隊友及時拉開才免於一場「以下犯上」的鬧劇。緊接著在上週作客華盛頓的比賽中，本季防禦率高達6.30的牛棚老將布萊爾（Richard Bleier）又疑似不滿隊友在他投球時的守備站位，被轟下場後當場跟負責決定站位的三壘教練弗洛瑞斯（Jose David Flores）大小聲起來。金鶯教練團跟球員間的相處明顯是出了問題，在戰績越來越低迷的情況下形成惡性循環。 美聯社 分享   facebook     親眼目睹這兩季悽慘情狀跟這兩樁休息區「完美風暴」的金鶯自家球迷如今應該頗有「眼看他起高樓，眼看他樓塌了」的感觸。就在兩年多前，金鶯還曾在前任總教頭蕭瓦特（Buck Showalter）及明星球員馬恰多（Manny Machado）帶領下挺進季後賽。時隔不到五年的2014年球季，金鶯更是意氣風發地以96勝將洋基跟紅襪都踩在腳下，贏回睽違17年的美聯東區冠軍。以專治爛隊著稱的鐵血教頭蕭瓦特在2011年接下前一季只有66勝的金鶯這個爛攤子，只花短短兩年的時間就將戰績提升到93勝。他跟知名GM杜奎特（Dan Duquette）齊心協力，將金鶯打造成一隻人才濟濟的球隊，並且在五年之內三度進入季後賽。除了馬恰多在他們任內從菜鳥一躍而為MVP等級的球星外，戴維斯在三年內勇奪兩座全壘打王；先發轉終結者的伸卡球大師布里頓（Zack Britton）則以破紀錄的0.54防禦率拿下最多救援。同時間杜奎特找來的許多球員也都在金鶯大放異彩。像是老而彌堅的現役最強DH克魯茲（Nelson Cruz）跟水手棄將川波（Mark Trumbo）在加入金鶯後各自贏得一座全壘打王；去年轉戰紅襪拿下世界大賽最有價值球員的皮爾斯（Steve Pearce）也在金鶯締造生涯最高的.930 OPS及5.9 WAR。金鶯牛棚在前幾年還相當堅強，但現在卻是一堆球迷叫不出名字的球員，難怪團隊防禦率5.77是全大聯盟最差。 美聯社 分享   facebook     至於投手方面，杜奎特最值得一提的得意之作不是別人，正是來自台灣的陳偉殷。簽下陳偉殷對金鶯來說意義十分重大，不僅因為他是金鶯有史以來簽下的的第一位台灣球員，而且陳偉殷也在披上金鶯球衣的四年時間內不斷進步，在2015年迎來他球員生涯巔峰的一年。那一季他的防禦率3.34在美聯高居第七，WAR 2.8也排名第14，十足是金鶯的王牌。持續重用陳偉殷的總教頭蕭瓦特更因為多次公開強調這位子弟兵來自台灣，被許多國內球迷視為真正的「台灣之友」。陳偉殷過去在金鶯4季之中有3季是拿下兩位數以上的勝場，與隊友提爾曼、岡薩雷茲等投手撐住了金鶯的戰績，團隊士氣一直都很不錯，跟洋基和紅襪激烈拚鬥。 歐新社資料照片 分享   facebook     杜奎特與蕭瓦特聯手成功將金鶯打造成一隻能與洋基、紅襪相抗衡的勁旅，許多過去在其他隊不得意的球員像是前述的布萊爾、川波及皮爾斯，都在兩人的帶領及改造下成為這隻強隊的要角。而隊上的諸多明星球員，即便是生性桀傲不遜的前金鶯中外野手瓊斯（Adam Jones），也都給予治軍嚴格的蕭瓦特極高評價。然而人無千日好，花無百日紅，在洋基、紅襪相繼重新振作後，金鶯並未適時培養出未來的接班球員，在原有班底隨著年歲增長而表現衰退或投身自由球員市場後，金鶯立刻陷入青黃不接的窘境。在克魯茲、陳偉殷成為自由球員一一求去後，仍在2016年奮力拿下一張外卡的金鶯其實已是強弩之末，很快地就在隔年敗象畢露，杜奎特及蕭瓦特也才因此在去年球季結束後下台一鞠躬。金鶯在大量好手離去之後，目前正進入漫長的黑暗重建期，不知何時才能見到黎明。 美聯社 分享   facebook     在杜奎特及蕭瓦特離去後，金鶯老闆痛感自家球隊不論在球探、數據分析及球員訓練等各方面都已大幅落後。這才痛定思痛，在去年冬天從近年來重建最為成功的太空人高層找來年僅35歲的年輕新GM艾里亞斯（Mike Elias），企圖打造出另一隻浴火重生的太空人。艾里亞斯最近更大刀闊斧，一口氣砍掉金鶯原有的多位球探主管，企圖引進擁有新觀念的人馬加速重建步伐。然而積重難返的金鶯跟當年幾乎等於從零開始的太空人不同，猶有許多「前朝餘孽」待清。其中最大的包袱不是別人，正是當年因深受老闆喜愛而被獨斷重金簽下，如今讓他出賽反倒對球隊造成傷害的戴維斯。尤其新任GM跟教練講究靠新式訓練、戰術及數據分析取勝，在在都與隊中老將既有想法相扞格，想在短時間內重建成功簡直難如登天。金鶯一壘手戴維斯(中)本季打擊表現跟上季一樣低迷，但脾氣卻越來越火爆，球團方面卻是無可奈何。 美聯社 分享   facebook     在2015年拿下世界大賽冠軍後跟金鶯一樣迅即由盛轉衰的皇家最近傳出大老闆葛雷斯（David Glass）已同意出售球隊，結束長達26年經營的消息。由於金鶯老老闆安傑洛斯（Pete Angelos）年事已高又健康狀況不佳，近年來也不斷有著出售球隊的傳聞，甚至傳出新老闆可能帶金鶯出走巴爾的摩、轉戰納許維爾的小道消息。跟葛雷斯一樣在1993年買下大聯盟球隊的安傑洛斯一生最大遺憾，恐怕就是未能在入主金鶯的有生之年看到這隻擁有百年歷史的球隊重返榮耀拿下另一座冠軍。去年新官上任的GM艾里亞斯及總教練海德未來能否在風雨飄搖之際，再次像當年杜奎特與蕭瓦特一樣成功幫助球隊重建，甚且可能成為金鶯能否繼續立足巴爾的摩的重大關鍵。'},\n",
       " {'tile': '違法兼職案處申誡確定 管中閔在臉書留下32字',\n",
       "  'url': 'https://udn.com/news/story/120604/4024275',\n",
       "  'class': '文教',\n",
       "  'description': '台大校長遴選案延燒500多日，管中閔在時任教育部長葉俊榮「勉予同意」後，於今年1月8日接任台大校長。未料，監察院隨即在一周後（1月15日）通過彈劾案，控管中閔在2012至2015年擔任公職期間，長期匿名替媒體寫社論，屬違法兼職。公懲會今天下午判決管中閔申誡處分確定。管中閔也在臉書表示，「白晝如黑夜」，並引述詩人陳子昂的五言律詩「宴胡楚真禁所」，表示「人生固有命，天道信無言。青蠅一相點，白璧遂成冤。」管中閔也在臉書寫下32字，「白晝如黑夜，讀書見陳子昂詩。人生固有命，天道信無言。青蠅一相點，白璧遂成冤。」 分享   facebook     公懲會今天下午判決管中閔申誡處分確定。報系資料照 分享   facebook     domready(function() {if ( !countDownStatus ) getCountdown();if ( !highChartsStatus ) getHighcharts();});domready(function() {var channelId = 2;var actArea = \"poll_at_story_0_v704\";var actCode = \"v704\";var actTemplate = \"bar2\";var elemDiv = document.createElement(\\'div\\');elemDiv.id = actArea;elemDiv.className =\\'vote_body area\\';var scr = document.getElementById(actArea+\\'_script\\');scr.parentNode.insertBefore(elemDiv, scr);$.getScript(\\'/funcap/actIndex.jsp?actCode=\\' + actCode + \\'&channelId=\\' + channelId , function() {actTemplate = eval(\\'objAct_\\' + actCode + \\'.d1.actTemplate\\');$.ajaxSetup({ cache: true });$.getScript(\\'/func/js/\\' + actTemplate + \\'_min.js?2019082101\\', function() {$.ajaxSetup({ cache: false });piepkg();loadTemplateJs(actTemplate);eval(actTemplate + \\'view(\"\\' + \\'#\\' + actArea + \\'\");\\')})});});'},\n",
       " {'tile': 'U18世青賽／比賽5局因雨裁定 中華3：1勝日本',\n",
       "  'url': 'https://udn.com/news/story/12960/4024399',\n",
       "  'class': '運動',\n",
       "  'description': '羅暐捷在5局下揮出2分打點安打，幫中華隊打下領先。記者葉姵妤／攝影 分享   facebook     日本首局就掌握得點圈機會，靠著保送、盜壘與2出局後的適時安打，先馳得點取得1：0領先。中華隊前2局各有1安，不過都未能得分，第三局掌握住機會，靠著2支安打攻占一、三壘，1出局輪由鄭宗哲打擊，中華隊雙盜壘戰術成功，日本策動夾殺卻發生隱形失誤，不但何恆佑躲過夾殺回到一壘，三壘的王順和趁機跑回追平分，雙方戰成平手。中華隊攻勢再起，日本單局罕見發生2次失誤，1出局後攻佔上二、三壘得點圈；鄭宗哲雖然遭到三振，三棒的羅暐捷把適時打出左外野二壘安打，掃回2分打點助中華隊超前。四棒李灝宇遭故意保送形成一、二壘有人，日本此時換投為西純矢，三振林子豪結束中華隊攻勢，前五局中華隊以3：1領先日本。五局打完現場下起大雨，比賽因雨順延，經等待近一小時後，比賽因雨裁定，中華隊打完五局以3：1擊敗日本。中華隊備戰「台日大戰」。記者葉姵妤／攝影 分享   facebook     在南韓釜山舉行的U18世青賽進入預賽第4天，因機張當地一早下大雨，今天前4場比賽都因雨延至4日休兵日進行，而雨勢下午趨緩，中華隊在台灣時間晚間5點與日本隊的交手，暫定準時開打，將上演王彥程與宮城大彌的「左投對決」。中華隊在預賽前3戰取得2勝1敗，日本隊則是3連勝，想晉級複賽機會都不小，今天正面對決，中華隊推出去年亞青賽「抗日英雄」王彥程先發，總教練周宗志希望，他能藉由這場比賽找回自信。日本隊則非如原先外界預期的推出強投奧川恭伸先發，而是由左投宮城大彌先發，他在昨天對上美國隊之戰，後援1局連飆3K守住勝利。周宗志也預期，日本隊今天也會如前3戰採投手車輪戰方式，還未登板的奧川恭伸也有機會在此戰亮相。儘管日本隊取得3連勝，但首戰對西班牙隊差點輸球，昨天又大勝美國，中華隊今天仍會全力搶勝，周宗志說：「雖然他們選手條件都很好，但大家比穩定性都只是高中生。」中華隊今天打線也做調整，前3戰擔任先發第2棒、中外野手的岳政華，今天被移出先發打序，將在牛棚待命登板，鄭宗哲棒次移至第2棒，昨天單場2安的羅暐捷改打第3棒、守右外野，首戰與對手相撞的林辰勳傷勢無礙，此戰先發蹲捕。大會整理場地，趕著讓比賽準時開打。記者葉姵妤／攝影 分享   facebook     人工草皮球場的一、三壘紅土區因大雨造成泥濘，大會趕著整理場地。記者葉姵妤／攝影 分享   facebook     人工草皮球場的一、三壘紅土區因大雨造成泥濘，大會趕著整理場地。記者葉姵妤／攝影 分享   facebook     '},\n",
       " {'tile': '再摘黃台之瓜？謝金河：股市跌近8000點 香港累了',\n",
       "  'url': 'https://udn.com/news/story/7251/4024110',\n",
       "  'class': '股市',\n",
       "  'description': '香港特首林鄭月娥日前約請一批人，討論籌建對話平台，她說「大家都累了」，問「可否坐下來談一談 」；財信傳媒董事長謝金河表示，香港各項經濟數字下滑，預計8月會進一步下滑，情況嚴重，股市跌掉近8000點，香港真的累了！謝金河指出，這個假日，大家都看到香港民眾的抗爭，香港特首林鄭月娥不斷的邀請香港有影響力的士紳共商對策，但似乎都無解。林鄭最近透過對話平台，刊出「大家都累了，對話找出最好？」語氣懇求，但也很無奈。這兩天香港公布各項數據，七月名牌精品銷售下滑24.4%，藥品化妝品跌16.3%，電器耐久財貨跌17.4%，整體零售業下滑11.4%，這是連續第6個月的下跌。在航空業，七月到港旅客519.7萬人次，減少4.8%，其中短程旅客少6%，其中台灣旅客少11.8%，南韓少20.9%，影響最大。長途旅客少4.4%，其中澳洲少11.8%，法國少6.9%，比較顯著。還有一個值得注意的是，香港出口連9個月衰退，七月出口跌5.7%，其中對美國出口下滑10.3%，全年出口預計下跌逾9%，預計這個情勢在8月會進一步下滑。受到衝擊的香港股市，從最高點跌下來，已經跌了近8000點，這段期間，香港本地財團股都跌得很慘，像李嘉誠的長和集團從108.9跌到64.3港元，恆隆從35.9跌到18.62港元，李兆基的恆基地產從56跌到35.5港元，新鴻基地產從142跌到105港元，可以想見香港本地財團受到了衝擊有多大。香港的抗爭愈來愈充滿火藥味，當川普出面警告解放軍在邊境集結，李嘉誠刊登「黃台之瓜，何堪再摘？」都可以看出香港正處於緊繃狀態，下一代會如何？牽動世局的敏感神經！財信傳媒董事長謝金河。取自臉書 分享   facebook     》自營商進出明細&nbsp\\xa0》外資持股增減排行》即時選股找重點&nbsp\\xa0》漲跌幅即時排行'},\n",
       " {'tile': '香港反送中升溫 柯文哲：繼續下去最後一定六四結束',\n",
       "  'url': 'https://udn.com/news/story/120538/4023680',\n",
       "  'class': '兩岸',\n",
       "  'description': '香港「反送中」持續升溫，警民衝突不斷，台北市長柯文哲今天上午受訪時表示，香港在這樣一直下去，實在是糟糕，留下一個民主自由的台灣，對中國大陸不是壞事，至少可以參考民主化過程；他提到，北京政府應該靜下心來想一想，「若這樣繼續下去，最後一定六四（事件）結束」，若六四事件一下去，中國大陸經濟一定倒退20年。柯文哲今天上午受訪時，被問到香港流血鎮壓，他表示，香港在這樣一直下去，實在是糟糕，留下一個民主自由的台灣，對中國大陸不是壞事，至少可以參考，同樣華人世界，怎走過民主化過程。柯文哲又說，當然台灣今天民主化，有人說立法院丟水球很好笑，但台灣民主化才30年，無法跟瑞士、瑞典那種民主化300年的國家比，但若以時間計算，台灣民主化還算成功，以後將來要寫前總統李登輝歷史貢獻，台灣能夠和平轉民主化，從蔣經國到李登輝都有其貢獻。柯文哲表示，中國大陸處理香港，他是建議參考台灣歷史，還是那句話，不解決民怨，一直怪CIA（美國中央情報局）、台獨跟港獨合作等，但你丟一根火柴，沒有汽油還是燒不起來，還是要誠懇去面對香港人民為何這麼不滿的根本問題。柯文哲指出，北京政府應該靜下心來想一想，「若這樣繼續下去，最後一定六四（事件）結束」，若六四事件一下去，中國大陸經濟一定倒退20年，因為西方國家還找不到理由制裁你，結果自己送上門來，到時美國要求歐美國家表態，在這大帽子之下誰敢不表態，一定是經濟抵制，這才是大陸危機，真的要想一下。香港「反送中」越演越烈，台北市長柯文哲今天上午受訪時表示，香港在這樣一直下去，實在是糟糕，留下一個民主自由的台灣，對中國大陸不是壞事，至少可以參考。記者張世杰／攝影 分享   facebook     '},\n",
       " {'tile': '鴻海財務網路四大謠言 懶人包一次破解',\n",
       "  'url': 'https://udn.com/news/story/7240/4023521',\n",
       "  'class': '產經',\n",
       "  'description': '圖為位於新北市土城區的鴻海集團總部。 報系資料照 分享   facebook     近期鴻海遭遇網路四大謠言攻擊，主要是針對鴻海公司財務狀況提出質疑，而本報記者取得熟知鴻海營運的熱心科技業人士提供破解網路鴻海財務迷思的懶人包，給各位投資人參考如下：A：攤開財報來算，鴻海第一季淨現金2495億以及第二季淨現金2398億，這個數字是把現金定存、理財商品全部變現，並償還銀行借款及公司債之後，還剩下來的現金，還有兩千多億！對於金融業來說，絕對不會希望公司把這些借款以及公司債還掉，鴻海的信用評等A-穩定，對金融業來說，是非常好的貸放目標。甚至還希望鴻海能跟他們借越多越好！對股東來說，他們也會希望公司能利用低利率的有利條件來作靈活的營運，以創造更多的股東權益。A：鴻海負債總額看起來很高，主要是因為公司規模大，所以相對的數字也高，但若仔細看「負債比例」卻是同類型下游電子代工產業中的優等生。我們從公開資訊觀測站中調出資料來看，以今年第一季與第二季為例，鴻海在下游電子代工產業中負債占資產比例都是最低的。 經濟日報提供 分享   facebook     A：檢視財務不能只看單一指標，不能單看負債！財務報表中有「資產負債表」就是要同時看資產與負債這兩項數據！如果以償債能力來評論，最基本的就是看流動資產以及流動負債的對比，也就是流動比例，流動比例越高代表流動資產越高、償債能力越好，第一季鴻海流動比例174%，更遠遠勝於其他電子同業。數字會說話，以證交所提供的資料來看，可以很明顯看出差異：經濟日報提供 分享   facebook     A：由於鴻海是全球佈局，向各國供應商採購生產料件，所以付款對象並非全數為台灣廠商，而只要做生意買東西就會有應付帳款，若是只針對應付帳款的數字做文章，其實並不正確且不公平。因為公司是持續營運的，在結清前一筆應付帳款的同時，隨著新的產能、產品開出就會有新的應付帳款產生，而作為全球第23大也是全台第一大民營企業，鴻海營運規模大，一些數字看起來大也是必然的。》自營商進出明細&nbsp\\xa0》外資持股增減排行》即時選股找重點&nbsp\\xa0》漲跌幅即時排行'},\n",
       " {'tile': '又是新莊！4天前少女遭霸凌 今天又出現少年被害',\n",
       "  'url': 'https://udn.com/news/story/7320/4024651',\n",
       "  'class': '社會',\n",
       "  'description': '新北市新莊區4天前才剛發生14歲少女遭朋友狂甩巴掌集體霸凌事件，未料今天又有1段霸凌影片被貼上臉書社團，員警調查發現同樣發生在新莊區，某國中畢業生被至少三名青少年罰跪，並猛然朝他肚子踹下，接著還連續摑掌，警方已主動介入調查。據了解，日前新莊區發生少女遭霸凌事件後，網路上即出現文章指稱新莊、三重、蘆洲地區常見流氓聚集，很多校園學童也跟著受到影響，導致許多家長為了孩子的教育問題，不願在重新地區買房子。結果今天臉書社團「我是新莊人」和「爆料公社」又先後貼出另1段少年遭霸凌影片。畫面中可見少年穿著滿是同學簽名的學校運動服，被三名青少年圍著罰跪在戶外像是公園的場所，這群青少年對他猛踹、連續摑掌，嗆聲警告：「再讓我聽見你玩弄誰的感情，會死得很難看。」被害少年痛到抱著肚子蹲地，不斷被威脅大聲說出：「對不起！」警方網路巡邏發現影片後主動調查，透過校方證實是某國中應屆畢業生，推測發生時間應在6月畢業典禮前後，已循線聯繫上家長，家長表示不知有此事，且孩子升上高中已經開學，須等到放學返家才能問清事由，但家長並不太願意警察介入。新莊警分局表示，將等被害學生放學後，再嘗試深入了解整起霸凌事件，依法辦理。'},\n",
       " {'tile': '「換韓」傳聞不斷 柯文哲：很難、慶幸我不是國民黨',\n",
       "  'url': 'https://udn.com/news/story/12702/4023598',\n",
       "  'class': '要聞',\n",
       "  'description': '2020總統大選升溫，國民黨總統參選人、高雄市長韓國瑜風波不斷，加上以鴻海集團創辦人郭台銘為首的「郭柯王」結盟聲浪，國民黨陷入分裂窘境，「換韓」傳聞甚囂塵上；對此，台北市長柯文哲今天上午受訪表示，他慶幸自己不是國民黨，不用煩惱這個，並認為現在「換韓」還是很難，但也凸顯國民黨、民進黨初選極其荒謬。柯文哲曾形容「換韓」是慧星撞地球，今天被問到韓國瑜民調下滑，是否可能發生「換韓」？柯文哲表示，他很慶幸自己不是國民黨，不用煩惱這個，這實在是難題，非常慶幸自己不是國民黨。媒體追問，所以現在覺得有可能「換韓」？柯文哲表示「很難啦」，並說當初國民黨初選，韓國瑜是民進黨提名的，因為大家都灌票給韓國瑜，也凸顯兩黨初選極其荒謬。柯文哲接著說，民進黨初選、藍營灌票給現任總統蔡英文，國民黨初選、綠營就大量灌票給韓國瑜，不然怎可能國民黨初選時的小英民調不到20%，台灣人民太調皮。另外，現傳出國民黨有意推出前新北市長朱立倫，促成「韓朱配」，能變「換韓」解藥？柯文哲僅回說，這他不曉得、沒意見，要去問朱立倫。媒體詢問，外傳郭台銘有意找新北市長侯友宜的二哥、高雄醫學大學附設醫院長侯明鋒擔任副手，這組合OK？柯文哲說，沒什麼問題啊，若純粹配合概念，一個霸氣總裁要有一個比較人文、醫療、關懷的人選，不要兩人都硬梆梆，至少這組合形象OK。被問到現在各陣營不停放話，會擔心跟郭的合作不穩固？柯文哲表示，合作有很多條件，大家無私、能夠分出先後次序，但這也是一次考驗，台灣能不能有表現無私態度的組合，若沒有無私態度，就不會成功。媒體也問，負責民進黨選舉操盤的行政院前副院長林錫耀提到，「有錢能使鬼推磨」意指要小心郭董；柯文哲反酸，大家去看民進黨總統大選時，各縣競選總部經費，要不要公布預算表？那才可怕。至於台北市議員陳建銘日前提到，「郭柯王」不需要前立法院長王金平，因為王已無法撼動國民黨地方派系，是否認同該說法？柯表示，其實陳的爸爸也是高雄派系大佬，這些人的發言都在出高招；媒體追問何謂高招？柯未正面回答，僅說「我私底下再跟你聊天」。台北市長柯文哲（中）上午在市府內接受媒體記者聯訪。 記者許正宏／攝影 分享   facebook     台北市長柯文哲今天上午受訪表示，他慶幸自己不是國民黨，不用煩惱這個（換韓）。記者張世杰／攝影 分享   facebook     '},\n",
       " {'tile': '網軍不敢黑郭董？韓國瑜：因他有300個律師 好可怕',\n",
       "  'url': 'https://udn.com/news/story/120536/4024096',\n",
       "  'class': '要聞',\n",
       "  'description': '鴻海創辦人郭台銘與國民黨總統參選人韓國瑜。報系資料照合成 分享   facebook     國民黨總統參選人、高雄市長韓國瑜今在臉書直播暢談「黑韓產業鏈」，他表示，自己一直秉持著愛與包容，不願浪費司法資源到法院提告，但網路爆料他跳樓自殺，他不得不提告，否則台灣還有法治嗎？韓國瑜談到前幾天網路指出他跳樓自殺的消息，他今現身臉書直播，強調自己還活得好好的，韓國瑜表示，1450網軍有幾萬人，靠著抹黑韓國瑜吃飽肚子、發大財甚至出名。幕僚告訴他，「黑韓不要臉，白韓要翻臉」，韓國瑜說，黑韓在媒體上不用負任何責任，但要讓韓國瑜清白的白韓受不了，要翻臉了，韓感嘆，「我們的政治越來越臭，越來越髒，成何體統」。話鋒一轉，韓國瑜提到，為什麼沒人敢黑蔡英文，因為她是總統，而且總統府動不動就提告；而為什麼也沒人敢黑鴻海創辦人郭台銘，「因為他有300個律師，好可怕！」韓國瑜又說，為什麼要黑韓？因為自己像「麻糬」，要他方就方、圓就圓，怎麼打都不會還手，因為他有愛與包容。韓國瑜解釋，自己一直不願意反擊，並不是沒有脾氣，是因為自己內心是善良的。他不願意因為政治事務到法院按鈴控告，是因為台灣的法官和檢察官是全世界壓力最大的，他們身上的案件平均有164件左右。韓說，他們都已經喘不過去，政治人物動不動就因為選舉提告，那不是給他們找麻煩嗎？domready(function() {if ( !countDownStatus ) getCountdown();if ( !highChartsStatus ) getHighcharts();});domready(function() {var channelId = 2;var actArea = \"poll_at_story_0_v703\";var actCode = \"v703\";var actTemplate = \"bar2\";var elemDiv = document.createElement(\\'div\\');elemDiv.id = actArea;elemDiv.className =\\'vote_body area\\';var scr = document.getElementById(actArea+\\'_script\\');scr.parentNode.insertBefore(elemDiv, scr);$.getScript(\\'/funcap/actIndex.jsp?actCode=\\' + actCode + \\'&channelId=\\' + channelId , function() {actTemplate = eval(\\'objAct_\\' + actCode + \\'.d1.actTemplate\\');$.ajaxSetup({ cache: true });$.getScript(\\'/func/js/\\' + actTemplate + \\'_min.js?2019082101\\', function() {$.ajaxSetup({ cache: false });piepkg();loadTemplateJs(actTemplate);eval(actTemplate + \\'view(\"\\' + \\'#\\' + actArea + \\'\");\\')})});});'},\n",
       " {'tile': '濱海公路賓士車與機車對撞 騎士身亡乘客受重傷',\n",
       "  'url': 'https://udn.com/news/story/7320/4024740',\n",
       "  'class': '社會',\n",
       "  'description': '台2線濱海公路新北市瑞芳區一處彎道，今日傍晚發生賓士商旅車與機車對撞車禍，陳姓騎士送醫不治，坐在機車後座的林姓男子昏迷，仍在醫院接受急救。開車的林姓男子酒測值為零，由於雙方都無行車記錄器，車禍現場也無監視器，肇事原因由警方調查中。新北市消防局下午近五點時接獲車禍救援報案電話，消防人員趕到現場時，發現陳姓騎士（19歲）頭部有明顯外傷，已無呼吸、心跳，送往瑞芳礦工醫院急救，傷重不治。同齡的林姓乘客口吐鮮血，陷入昏迷，送往基隆長庚醫院急救。車禍路段為瑞芳金石園附近彎道，陳男騎機車載林男往基隆方向行駛，林姓男子駕駛賓士商旅車往宜蘭方向行駛。陳男機車與商旅車左側車頭撞擊後人車倒地，車上兩人受重傷，機車受損嚴重。商旅車左側車頭受損，開車的林男受到驚嚇，並未受傷。據了解，這起車禍疑商旅車跨越道路中央雙黃線釀禍，但因兩車均無行車紀錄器，肇事原因仍待警方釐清。台2線濱海公路瑞芳路段今日傍晚發生賓士商旅車與機車對撞車禍，陳姓騎士送醫不治，坐在機車後座的林姓男子昏迷，肇事原因由警方調查中。記者邱瑞杰／翻攝 分享   facebook     台2線濱海公路瑞芳路段今日傍晚發生賓士商旅車與機車對撞車禍，陳姓騎士送醫不治，坐在機車後座的林姓男子昏迷，肇事原因由警方調查中。記者邱瑞杰／翻攝 分享   facebook     '},\n",
       " {'tile': '學開飛機第一堂課就自己緊急迫降 原因竟是教練昏迷了',\n",
       "  'url': 'https://udn.com/news/story/6809/4023407',\n",
       "  'class': '全球',\n",
       "  'description': '美聯社報導，想學開飛機的澳洲人席維斯特（Max Sylvester）報名上課，但第一堂課就碰上教練昏迷的意外，他必須自己緊急迫降。席維斯特上周六（31日）呼叫塔台說，他的教練在兩人座賽斯納（Cessna）飛機上降入昏迷不醒：「他靠在我肩頭，我很想撐住他，但他不斷往下滑。」塔台問席維斯特：「知道如何操作飛機嗎？」，他回答：「這是我的第一堂課。」接下來的62分鐘，塔台人員努力引導席維斯特降落，告訴他：「你做得很好。我知道這壓力很大，但你做得很棒，我們會幫你回到地面。」地方媒體報導席維斯特數度飛越跑道，但他最終安全降落在西澳州詹達科特機場。他的妻子和三名幼兒當時都在機場。那名澳洲航空國際飛行學校的教練被緊急送醫，病況嚴重但穩定。兩人座賽斯納（Cessna）飛機示意圖。美聯社 分享   facebook     '},\n",
       " {'tile': '古裝藏著大智慧！唐朝宮女這樣解決長裙困擾',\n",
       "  'url': 'https://udn.com/news/story/12674/4023603',\n",
       "  'class': '閱讀',\n",
       "  'description': '方文山推廣漢服文化不遺餘力，經常能看見他出席漢服文化周重要典禮的身影。（圖／聯合報系新聞資料庫照片） 分享   facebook     閱讀小貼士近年來因古裝劇、宮廷劇熱播，進而引起大眾對於傳統服飾認知與討論，更掀起一股漢服文化的復興運動。臺灣著名詞人，也是周杰倫御用金牌詞人方文山，自2013年開始推行「漢服文化周」，第一屆舉辦在江南六大古鎮之一的西塘古鎮，又被稱為西塘漢服節，推廣至今已堂堂走過六年，徐嬌也是漢服愛好者，經常與方文山一起出席活動推廣，使得中國其地區也有不少同袍、愛好者紛紛自發效仿，共襄盛舉，也鼓吹大家再也不用羨慕日本的和服、韓國的韓服還是外國人的晚禮服，因為我們自己也有不亞於他們的華服。 中國歷時數千年，服飾因歷史、文化、民族、地區、政權、身分等因素不斷演變，穿著場合不同，也會有略有差異。《古裝穿搭研究室》中挑選各朝代的經典款式，展現出中國歷史上紛繁複雜的服飾演化，更要帶您領略華夏傳統服飾的美麗與文化底蘊。文／龔元之韓服？漢服？傻傻分不清楚中國這幾年有不少愛好者努力推動「漢服運動」，從網路上來看，「漢服運動」辦得沸沸揚揚，各地紛紛響應號召，只差沒有揭竿而起。不過我們當天沒有見識到他們努力的成果，認為這些衣服是「漢服」者寥寥無幾——最普遍的認知是「這是朝服吧？」即朝鮮族服裝（臺灣稱為「韓服」，果然這也是有地方差異的）。還有女孩子真以為是韓服外拍，努力搭訕想來張合照，纏了大半天，開口說的卻是日文。唯一一位答對時代的是來自廣東的小姐，她說：「我在想，妳們是不是在拍《貴妃史》？」一路被各種奇怪問題轟炸的友人與我哭笑不得，只得自嘲我倆不過是宮女級別，哪敢妄稱貴妃呀！別笑，這種事情不只在中國才有，過了兩年，我們在臺灣又經歷了一次！這次地點換成士林官邸，角色是兩個昔日宮女和一位同好，服裝的時代往後拉了六百年，是明代的服裝，結果一路上遇見的遊客都在問「這是什麼衣服啊？」日本人問：「這是韓國服裝嗎？」韓國人問：「這是日本服裝嗎？」遇到中國人與臺灣人則問：「這是韓國／日本服裝嗎？」雖然也有一、二個「古裝？」「漢服？」之類的答案，但是總體來說比景山的經驗更慘，居然完全沒有人猜對朝代。電影《長江七號》中的小童星「徐嬌」已亭亭玉立，她樂於推廣漢服文化。穿漢服到日本旅行，反而吸引不少日本人及遊客的目光。（組圖／聯合報系新聞資料庫照片） 分享   facebook     日、韓遊客雖說不曉得這些漂亮衣服是什麼，但認得出「這不是自己國家的衣服」，這樣也就可以了。可是中國人看到中國史上曾有過的服裝樣式，雖然讚美，卻也一樣覺得「這不是我們的衣服」，這巨大的隔閡讓我們三個傳統服飾愛好者面面相覷，一時無語。＊一件衣衫的社會意義書名：《古裝穿搭研究室：超乎你想像的中國服飾史》作者：龔元之出版社：時報文化出版出版時間：2019年6月21日 分享   facebook     udn會員獨享100元購書金，結帳輸入「GIFT8」立刻抵用。（限量200名） 分享   facebook     比較務實的人可能會從實用角度來看問題：畢竟古裝看起來又長又拖沓，如《搗練圖》裡女人的裙子都拖地，這麼不方便的衣服，在快節奏的現代社會當然會被淘汰啦！這種說法也有幾分道理，不管在古畫或影視作品裡，演員都穿著美麗而飄逸的服裝。但事實上，「色彩豔麗、寬大飄逸」的衣服，在古代只有金字塔上層穿得起 ──換句話說，就是供得起兩個以上的丫鬟貼身伺候小姐生活起居的富貴家庭成員，才可能有財力穿好衣服。要知道奴僕比好衣服可便宜多了，一般殷實人家買不起綠綾印花衫子越羅裙與泥金絞纈披帛這等高級衣物替女兒打扮，但是買個小丫頭在廚下燒火作飯倒不困難。能穿得上華麗衣服的人，身邊必然僕從如雲，服裝的寬大、繁複造成的種種不方便，反而成了莊重優雅的襯托，正是以四肢不動之矜貴，來彰顯自身的富貴豪奢。那麼勞動者要怎麼辦呢？《步輦圖》中，環繞在唐太宗身邊執役的宮女們雖然穿著豔麗的間色長裙，但是在腰上綁一綁，使裙子不會拖地礙事。若是民間的勞動者，就是穿著本色或灰暗的短衣，耐髒也方便工作。現在佛道教出家人的日常執役衣仍採用傳統樣式，可知「傳統」中本就包含有勞動工作的一大類，只是被現代人忽略了而已。任何服裝都講究「人、事、時、地、物」，就像現代的各位不會把睡衣穿上喜宴，也不會穿著三件式西裝刷馬桶，不同場合有不同的穿著打扮，這一點不會因為「傳統」與「現代」而有所區別。〈步輦圖〉現存於北京故宮博物院，被稱為中國十大傳世名畫之一。圖中唐朝宮女攔腰紮了帶子，把長裙拉高固定住 以方便行走。（圖／聯合報系新聞資料庫照片） 分享   facebook     ●本文摘自時報文化出版出版之《古裝穿搭研究室：超乎你想像的中國服飾史》，請勿轉載。欲知更多內容請試閱電子書。udn會員獨享100元購書金，結帳輸入「GIFT8」立刻抵用。（限量200名）更多推薦閱讀☞《崩壞國文：長安水邊多魯蛇？唐代文學與它們的作者》一本中學師生補充課內教材、成人國學常識的重磅級神書！☞《魏晉有美男：長得好看，就是了不起的技能！》一本書帶你圍觀魏晉風流人物，還原歷史細節及花美男養成指南！☞《簡明 台灣人四百年史：圖文精華版》史明親自改寫，親筆繪畫，認識台灣史最佳入門。☞《大明後宮有戰事》穿越宮門重重，跟北大歷史學博士走進明宮，疑案謎案一把抓！ 作者簡介龔元之臺灣大學歷史學士、北京大學歷史碩士、北京大學科學史博士。 就讀北大期間因受變換分明的四季美景所誘，愛好出遊賞花，從而引發了對傳統色彩以至傳統服裝的研究和製作興趣 。 現為北京師範大學－香港浸會大學聯合國際學院助理教授。'},\n",
       " {'tile': '日職／王柏融打擊直直落 弱化中的火腿麻煩大了',\n",
       "  'url': 'https://udn.com/news/story/8280/4022975',\n",
       "  'class': '運動',\n",
       "  'description': '歐力士在8月的最後一天以2比1擊敗千葉羅德，取得對戰羅德的2連勝，也把墊底的位子送給了日本火腿隊。歐力士今年從開季之後不久就陷入低迷，墊底的位子從4月26日開始一坐就是4個月之久。這一次的排名互調，除了歐力士本身狀況有起色，關鍵還是出在日本火腿隊本身。尤其是打擊火力，火腿的團隊打擊率0.252在太平洋聯盟排名第三雖然不差，總得分503分卻排名倒數第二，只比歐力士隊稍佳，這與全壘打數、盜壘嚴重的劣勢有很大的關係。歸咎起來，2019年的火腿打線欠缺重砲，機動力也不足，想要在競爭激烈的洋聯戰場脫穎而出，談何容易！？日本火腿隊今年團隊盜壘數46次，只優於樂天的39次，暫居盜壘王的西武獅隊金子侑司已經跑出38盜，他一個人就足以跑贏這兩隊。這部分與拿過盜壘王的西川遙輝、中島卓也本季分別只有19盜、11盜有關，尤其是三屆盜壘王西川遙輝盜壘成功率大幅下降有關（※過去3年平均0.905；今年0.792）。加上後繼接班無人，機動力比起過去幾年弱化不少。火腿隊外野手西川遙輝(右)打擊率、上壘率都維持一定的水準，但盜壘能力卻有些衰退，去年球季44次盜壘成功、僅3次失敗，本季至今只有19次盜壘成功，卻有5次失敗。 美聯社資料照片 分享   facebook     另外團隊全壘打數85支，也與歐力士並列最少。團隊最多的中田翔23轟，超越去年的25轟應該不成問題。大田泰示、渡邊諒分別已經打出生涯新高的18轟、10轟，清宮幸太郎本來就被評估需要時間，沒有太大問題。主要差別除了在於橫尾俊建的成長不如預期，還有就是少掉過去4年總產量131轟的雷雅德（Brandon Laird）。在這樣的情況之下，今年火腿陣中唯一的「洋砲」王柏融，至今只有3支全壘打，球季結束後難逃成為被提出來檢討的項目。尤其雷雅德轉到羅德之後已經打出他每季為自己立下的30轟目標，也幫助羅德擺脫過去幾年長打不足的課題，團隊全壘打數從去年洋聯最少的78轟進步到第三多的144轟，兩人在貢獻度的差別也勢必會被提出來做比較。王柏融身為火腿隊唯一「洋砲」，但打擊率持續下滑，整季至今也僅僅打出3支全壘打，其中在主場只有1轟，讓火腿團隊攻擊火力明顯不足。 聯合報系資料照片 分享   facebook     不過王柏融最大的困境在於，他原本就被視為中距離打者，相信火腿球團對他的期待本來就不是第一年就可以打30支全壘打的打者，不過打擊率0.290以上是合理的期待值。但王柏融在經過7月之後只有0.167打擊率、1支長打（72打數12支安打、4分打點）的嚴重打擊低潮之後，打擊率已經從6月底的0.290降到目前的0.260。要提升自己在NPB第一年的評價，王柏融必須利用球季最後一個月左右的賽程，先想辦法把打擊率提升回來。不僅是王柏融本身，火腿團隊的攻擊力也陷入了大麻煩，原本表現還算穩定的打擊陷入了極度的低潮，單月打擊率降到0.235，得分、長打率都寫下本季的單月最低。加上原本就欠缺的長程砲火以及機動力作掩護，使得他們單月吞下20敗（5勝1和），追平了1974年8月，寫下單月最多敗的不名譽紀錄。'},\n",
       " {'tile': '韓國瑜談「換瑜」：假新聞或國民黨腦袋進水',\n",
       "  'url': 'https://udn.com/news/story/120536/4024159',\n",
       "  'class': '要聞',\n",
       "  'description': '「換瑜」事件越演越烈，昨傳出國民黨主席吳敦義派前立委張顯耀去國台辦溝通換瑜。國民黨總統參選人韓國瑜今親上火線在臉書直播斥責此事是假新聞，更指如果是真的，那國民黨中央黨部大概腦袋進水、已經壞掉了。據上報報導指出，今年8月15日，吳敦義派張顯耀私下拜會郭台銘，指出韓國瑜最後可能選不下去，盼郭台銘當國民黨的「備胎人選」，請他稍安勿躁。另報導中也提及，張顯耀與國台辦主任劉結一見面時，曾帶一份機密民調指出，韓國瑜最後可能會選不下去。韓國瑜說，此消息只有兩種可能，第一，這是個假新聞，大家笑一笑、指責一下，要求各方提出說明就可以了；如果是真的，他是不太相信，畢竟吳敦義歷練幾十年，居然會派一個人到國台辦去溝通換瑜？但如果是真的，「國民黨中央黨部大概腦袋進水了」，「大概腦袋已經壞掉了」韓國瑜說，2020總統大選是台澎金馬2300萬人民投票，國台辦沒有投票權，國民黨怎麼可能派人去溝通？這不是腦袋壞掉了嗎？韓國瑜重申立場，他表示，2020總統大選就是台灣2300萬人民決定台灣的未來，他就是保衛中華民國，愛惜台灣人民，反對台獨。但蔡英文是支持台獨，消滅中華民國，「拜託支持台獨的投蔡英文，我不要這個選票」。韓國瑜說，他要的選票非常清楚，就是熱愛中華民國，反對台獨，維持民主自由，而香港、澳門一國兩制他絕不接受，因為我們有中華民國憲法，在自由民主的制度之下過自己的生活，他希望兩岸和平交流、和平發大財。國民黨總統參選人韓國瑜今親上火線談「換瑜」事件。圖／翻攝韓國瑜臉書 分享   facebook     '},\n",
       " {'tile': '胖到癱瘓、公開刺喉 逾5800人連署終止神豬比賽',\n",
       "  'url': 'https://udn.com/news/story/7266/4024502',\n",
       "  'class': '生活',\n",
       "  'description': '少數民眾仍存在「養神豬」的風俗習慣，但養神豬須強迫灌食、限制居住空間，被抨擊不人道、虐待動物；動保團體多年奔走，盼法規禁止神豬重量比賽，但始終卡在風俗信仰這關。動保團體台灣動物社會研究會8月19日在公共政策網路參與平台發起「終止神豬重量比賽祭祀」，截止今日為止，不到半個月吸引5807人參與，通過附議門檻，農委會須於今年11月2日前給予回應。根據連署內容指出，農曆七月義民祭的神豬祭祀常被誤認為客家文化，但2011年已有上百位客家人發起連署，指出神豬比賽絕非客家傳統文化習俗，包括音樂人林生祥、作家鍾肇政、台大教授李茂生等，都認同以此標榜為客家文化是對客家人的嚴重羞辱，更是客家文化的最大汙名。2016年文化部也公告強調，義民祭為重要民俗，但不包括「神豬重量比賽」。台灣動社說，多數飼養者以強迫灌食方式，讓神豬胖到癱瘓，最後在眾人圍觀下，被以利刃活活割喉宰殺，從飼養到屠宰過程，神豬飽受各種虐待與痛苦。被指為虐待動物的方式，包括增肥限制豬的行動、強迫灌食、五花大綁、公開刺喉放血等。台灣動社說，在神豬重量比賽取消之前，將無期限抗議此一陋俗，「能夠凝聚民心的文化不需要虐待動物」。例如德國馬戲團改用3D全息影像取代真實動物，西班牙鬥牛節改用充氣牛取代真實的鬥牛，俄羅斯今年正式啟動野放程序不再囚禁鯨魚，韓國釜山宣布關閉狗肉市場，讓吃狗肉文化走入歷史。台灣動社說，期盼台灣全面終止神豬飼養祭祀，改用健康、環保、友善等創新的方式，增加神豬比賽的多元性。例如用大規模的麵皮裝飾彩繪取代豬皮彩繪，屠殺神豬改用米豬，也能避免造成民眾情緒不安並帶小孩參加盛典，而可愛的神豬充氣藝術裝置，讓更多民眾有充裕的時間，前往參觀拍照、打卡促進觀光。有業者以強迫灌食方式養大神豬。圖／翻攝自公共政策網路參與平台 分享   facebook     '},\n",
       " {'tile': '她想搭訕高挺軍校生 網友驚喊「不要害他被電」',\n",
       "  'url': 'https://udn.com/news/story/10930/4023594',\n",
       "  'class': '要聞',\n",
       "  'description': '一位軍校學生穿著制服站在月台等車，女網友好奇想搭訕卻被網友勸退。圖擷自臉書社團「爆廢公社公開版」 分享   facebook     許多學校都會要求學生穿著制服，只要一穿上校服就代表校方，尤其是穿上軍服的軍校生，出去就是軍方的門面，因此需要格外注意自己的舉止。昨日一位女網友在網路上貼出一張照片，只見一位高挺的男子穿著軍服站在台鐵月台等車，視線緊盯前方，讓她很好奇並想上前搭訕，但貼文一出後，許多人立刻勸退她，網友們表示「不要害他回軍中被電」。這位女網友昨日在臉書社團「爆廢公社公開版」發文，貼出了一張照片，照片中一位穿著墨綠色軍裝的男子站在台鐵月台旁等車，他戴著軍帽手提包包，眼睛緊盯著前方，在人群中顯得樣貌挺拔，讓原PO忍不住表示「覺得很帥，想搭訕」，而貼文一出後立刻吸引上百位網友留言。許多網友表示穿軍裝的男生很帥氣，叫原PO趕快搭訕，「快去搭訕，不要留下遺憾」、「軍人穿正裝是有點帥，但覺得妳才是會讓人想搭訕的」、「穿軍裝的男人超帥的」、「中規中矩的排隊…帥氣」。但也有人說這位男子身穿的是陸軍專科學校的制服，叫原PO別搭訕他，以免他回部隊被電，「陸專，別玩人家，人家是學生放假要回家，有不好的舉止會被電爆」、「不站好被拍爆料，回去會被幹爆」、「沒保持好形象，等到回學校就飛天了」、「不站好回學校會被學長釘爆」'},\n",
       " {'tile': '潛伏一個多月終於出擊 李正皓：郭董瞄準國民黨的七寸',\n",
       "  'url': 'https://udn.com/news/story/12702/4023631',\n",
       "  'class': '要聞',\n",
       "  'description': '郭台銘昨天至青溪菁英教育研究院專題演講，釋出相關看法，郭台銘認為中華民國面臨轉型與政治內耗嚴重，產業發展也與現況脫鉤的問題。尤其貿易戰爭之際，政府並未好好幫助科技業解決「五缺」與「六缺」問題。國民黨新生代改革團體「草協聯盟」發起人李正皓認為郭台銘是瞄準國民黨的七寸出擊，插旗拔樁的意味再清楚不過 。李正皓在臉書說，歷經一個多月的潛伏，大老虎終於出擊了，而且一擊必中，瞄準的的就是國民黨的七寸。昨天是郭台銘一個多月來首度公開演講，大多數的人都著重在郭台銘的演講內容或是副手人選，但當他看到演講場合是「青溪菁英教育研究院」時，就知道郭台銘這次的出手是經過精密計算的，瞄準的目標就是國民黨組織最堅實的後盾：後備軍人系統。李正皓表示，青溪菁英教育研究院由中華民國青溪協會發起舉辦，而中華民國青溪協會於2000年成立，全國各縣市都有分會，主要成員由退役軍、士官、兵組成，會員約有30萬人，前身為「後備軍人幹部訓練班」，成立至今歷任理事長包含曾永權、徐耀昌、呂學樟、廖國棟⋯等，全是國民黨的重要人物。簡單說，黃復興與青溪就是國民黨動員後備軍人系統的兩隻腳，前者是黨組織，後者是民間組織，缺一不可，每每只要國民黨黨主席選舉，青溪協會都是兵家必爭之地，可以說誰攻下了青溪，誰就能掌握絕對優勢。如今，郭台銘的第一場公開演講就是青溪菁英教育研究院，插旗拔樁的意味再清楚也不過。國民黨草協聯盟發起人李正皓。本報資料照片 分享   facebook     domready(function() {if ( !countDownStatus ) getCountdown();if ( !highChartsStatus ) getHighcharts();});domready(function() {var channelId = 2;var actArea = \"poll_at_story_0_v703\";var actCode = \"v703\";var actTemplate = \"bar2\";var elemDiv = document.createElement(\\'div\\');elemDiv.id = actArea;elemDiv.className =\\'vote_body area\\';var scr = document.getElementById(actArea+\\'_script\\');scr.parentNode.insertBefore(elemDiv, scr);$.getScript(\\'/funcap/actIndex.jsp?actCode=\\' + actCode + \\'&channelId=\\' + channelId , function() {actTemplate = eval(\\'objAct_\\' + actCode + \\'.d1.actTemplate\\');$.ajaxSetup({ cache: true });$.getScript(\\'/func/js/\\' + actTemplate + \\'_min.js?2019082101\\', function() {$.ajaxSetup({ cache: false });piepkg();loadTemplateJs(actTemplate);eval(actTemplate + \\'view(\"\\' + \\'#\\' + actArea + \\'\");\\')})});});'},\n",
       " {'tile': '大跌眼鏡！Costco上海開業後 出現民眾排隊退會員卡',\n",
       "  'url': 'https://udn.com/news/story/7332/4024384',\n",
       "  'class': '兩岸',\n",
       "  'description': '好市多（Costco）於8月27日在上海開幕，開業首日人潮洶湧導致當天下午暫停營業，不過人民出版社主辦的「每日人物」報導，開業5天後也就在8月31日起，Costco開始出現排隊退卡的隊伍人潮。報導指出，Costco剛開幕時，為了吸引顧客打出優惠折扣，成功吸引人潮製造話題，然而開幕日當天吸引許多人的商品被搶購後已暫時缺貨，尤其比零售指導價還低人民幣1元、售價人民幣1498元的飛天茅台已經從架上消失；原本售價人民幣32.9元的2瓶裝冷藏牛奶，也已經調到人民幣53.9元，不再像剛開幕時如此吸引人。此外，有一對年輕夫婦抱怨，原本是因為地方大、東西又好，才會帶小孩一起逛，想不到卻被人潮擠爆，把小孩搞的不停哭鬧，因此決定不會再來，於是在31日選擇辦理退卡，然而連退卡都要排隊，退卡隊伍的人潮甚至多到Costco員工沒時間休息，從上午一直工作到下午2點都還沒吃午飯。Costco實行倉儲會員制，獲利貢獻主要來自於顧客購買的會員年卡，而不是透過商品銷售進銷差獲得利潤，Costco在在大陸推出兩種會籍，分別是年滿18歲以上的金星會員，以及企業會員。解放網、Costco微信公眾號報導，Costco在開幕前夕推出了會員年費立減人民幣100元的活動，也就是在8月26日之前，原價人民幣299元的金星、企業會員主卡，年費僅人民幣199元，但須要到Costco辦卡中心現場辦理；開幕後皆恢復為人民幣299元。由於Costco有90天無理由的退換機制，因此上海店開幕前就不被大陸網友看好，認為規則會被「刁民」玩壞，沒料到幾天後就出現退卡潮，對於以年費為盈利主要來源的Costco來說是個壞消息。好市多（Costco）於8月27日在上海開幕，開業首日人潮洶湧導致當天下午暫停營業。 圖／每日人物 分享   facebook     '},\n",
       " {'tile': '影／港警阻急救要救護員「面壁」 傷者2.5小時後才送院',\n",
       "  'url': 'https://udn.com/news/story/120538/4024238',\n",
       "  'class': '兩岸',\n",
       "  'description': '香港反送中行動警民衝突越演越烈，8月31日許多示威者在警民大混戰中流血受傷，警方被指不但禁止急救員進去救人，甚至要救護員面壁，消防處證實由接報時間起計，前後要花逾2.5小時才將傷者送院。明報報導，警方在多個港鐵站被指阻延甚至拒絕救護員或民間急救員進站治理受傷市民。一名民間急救員當晚11時許在油麻地港鐵站外，於鐵閘外向站內警員哭求讓他進站救助市民被拒。同時間，站內三名民間急救員被警員要求站著面壁。太子站方面，消防處證實由接報時間起共花逾2.5小時才將傷者送院，質疑警方延遲將傷者送院，警方則解釋稱因站外有示威，影響送院安排，但強調延遲時間不長。報導指出，消防處發言人昨稱，處方當晚11時5分接報站內多人受傷，救護車11時17分抵達現場，因閘門已關閉，「現場救護指揮官與警方及港鐵進行協調後，約11時30分進入地鐵站為站內傷者進行初步評估」，即救護員前晚抵達太子站13分鐘後始能進站。其後抵達的救護員，從另一入口進站，初步治理站內7名傷者。發言人續稱，警方評估太子站附近情況不安全，傷者不宜經該站出口離開，故港鐵於昨凌晨1時24分，安排一輛特別列車供救護指揮官和救護員護送傷者前往荔枝角站，再由候命的救護車於凌晨1時42分，將傷者送往明愛醫院和瑪嘉烈醫院治理。即消防處由接報到將傷者送院，前後花逾2.5小時。紅十字會1日發新聞稿，強調「在任何情下，各方應優先考慮受影響人士的醫療需要，所有救援人員及其車輛應受到尊重及保護，任何阻撓人道救援工作的行為並不恰當」。8月31日許多示威者在警民大混戰中流血受傷，警方被指不但禁止急救員進去救人，甚至要救護員面壁。 圖／翻攝Youtube 分享   facebook     '},\n",
       " {'tile': '竹科塞車怎麼辦？ 騎黃牌重機通勤人口上揚',\n",
       "  'url': 'https://udn.com/news/story/7324/4023577',\n",
       "  'class': '地方',\n",
       "  'description': '新竹科學園區每天有10多萬人進出，塞車成了工程師們的日常風景，近年發現越來越多人騎重機通勤，穿梭在快速道路或通往竹科的高架橋上，重機人口正在逐步上揚。大型重機自2002年開放至今，根據統計，全台有10幾萬輛大型重型機車、30萬人領有大型重機駕照，新竹安全駕駛教育中心主任邱三銘觀察，竹科人平均年齡較年輕，加上有較高、較穩定收入，重型機車活動和其他地方相比，似乎更為風行。「節省交通時間！」重機騎士徐先生指出，竹科園區汽車多，上下班總塞車，但通往園區的大門口可走高架橋，加上新竹最東、最西邊的竹東鎮、竹市南寮可走68快速道路往經國橋直通竹科，越來越多的民眾選擇黃牌重機速克達（250cc至550cc）作為通勤交通工具，節省交通時間。邱三銘說，黃牌重機作為通勤代步工具，不只在新竹園區才有，全台六都的高架橋多，民眾常以黃牌重機作為通勤的交通工具，預估重機人口會逐步上揚。有考重機駕照的騎士陳冠宇表示，新竹有許多快速道路，進入竹科走高架橋比較快，機車比汽車更具機動性，騎黃牌機車就像是買個路權，比較方便。黃牌機車通勤方便，卻也面臨路權的爭議，有重機騎士騎在內側車道，卻遭後方車子狂按喇叭逼車，專家提醒，騎乘大型重型機車可行駛快車道及快速公路，應視為小型汽車。警方表示，遇到逼車，重機騎士可以提出檢舉，運將最重可罰2萬4千元，還要吊扣汽車牌照3個月。台灣交通安全協會理事林志學說，黃紅牌路權與行駛規定比照小型汽車，所以應該以汽車的概念來思考。針對黃牌重機逐年成為通勤工具，林志學認為是一種趨勢，目前通勤族最熱門的路線是高速公路，但重機族僅可行駛在平面道路和快速道路，未來若能上高速公路，除了擴散都市的交通網絡外，也能避免一人一汽車，此種空間利用率低的問題，有助於高速公路紓解車流。新竹騎乘重機人口增加，重型機車活動和其他地方相比，似乎更為風行。記者郭政芬／攝影 分享   facebook     越來越多人騎重機通勤，穿梭在快速道路或通往竹科的高架橋上，重機人口正在逐步上揚。記者郭政芬／攝影 分享   facebook     '},\n",
       " {'tile': '韓國瑜要約朱立倫談合作？徐巧芯批：小事還要媒體來傳話？',\n",
       "  'url': 'https://udn.com/news/story/12702/4024550',\n",
       "  'class': '要聞',\n",
       "  'description': '台北市議員徐巧芯。 聯合報系資料照片／記者魏莨伊攝影 分享   facebook     國民黨總統參選人韓國瑜副手人選，備受矚目。新北市前市長朱立倫日前結束訪美行程回台後，國民黨醞釀「韓朱配」的聲量愈來愈高。親韓人士透露，韓、朱兩人一直都有順暢的溝通管道，韓確實打算約朱見面談合作，但是否會搭配選舉，要看兩人談的情況而定。台北市議員徐巧芯今質疑，黨內初選結束快兩個月了，只看到宣傳耳語滿天飛，卻沒有看見整合有什麼實質的進展，這也是目前國民黨選情的最大隱憂。徐巧芯在臉書表示，朱立倫是公認的「氣度哥」，一定會為黨團結，甚至不需要位子，他都會幫忙。因此，如果連「打算約見面」這種小事都還要透過媒體來傳話，這樣真的有助團結？徐巧芯也說，「多做少說，多誠意少宣傳」，促進團結才是勝選的真諦。要打電話直接打，要見面直接約見面，討論如何團結拚大選吧！'},\n",
       " {'tile': '公寓底下竟藏120副棺材 居民得知住墓地上後嚇壞',\n",
       "  'url': 'https://udn.com/news/story/6810/4024629',\n",
       "  'class': '全球',\n",
       "  'description': '美國一處複合式公寓，被爆出建築物底下埋有超過120副的棺材，讓不少住戶得知後都相當震驚。圖擷自Tampa Bay Times Twitter 分享   facebook     如果住的公寓底下埋了120副棺材，你會不會連睡覺時都覺得毛毛的？日前美國一處複合式公寓，被爆出建築物周遭底下埋有超過120副的棺材，讓不少住戶得知後都相當震驚。根據《FOX NEWS》報導，這公寓群位於佛羅里達州坦帕市（Tampa），當時公寓的所有者坦帕灣住房管理局，請來了私人考古公司卡德諾（Cardno）前來探查，他們利用透地雷達在今年6月時，發現土地之下竟有許多「長方形物體」埋在深度約1.2至1.8公尺間，這讓他們懷疑這裡是一塊「墓地」，隨後在當月的30日考古團隊正式宣布，他們所探測到的物體正是棺材。坦帕灣時報6月的一份專題報告提到一個長期被遺忘的墓地的存在，這促使坦帕灣住房管理局委託考古公司搜索其土地。《FOX NEWS》報導中提到，該地在1901年曾是一座為了埋葬種族隔離時期非裔美國人的「錫安公墓（Zion Cemetery）」，之後土地被分割並出售給白種人進行開發，因此這公墓在一世紀以前便消失了。此外，這些棺材還排列成行，是一處東西方向排列整齊的公墓。起初公寓居民們得知他們住在公墓上的消息後都被嚇壞，公寓群的67棟建築中有5棟位在消失的公墓上，而擁有公寓的住房管理局在8月22日的租戶會議上宣布，對於居住在公墓土地上的96人來說，搬遷將在幾週後開始，租戶則對這一宣告表示歡呼，認為這在道德和歷史上都是正確的決定。當地政府打算將公墓的土地改建為一個紀念公園，之後當局還會再確認該地究竟藏有多少遺骸，並提到不會移除在那裡休息的任何屍體。In June, the Times told you the story of Zion cemetery, a burial place for black Tampa residents that vanished nearly a century ago. Today came confirmation of what Times journalists long suspected: Zion has been found. Our full report:https://t.co/ijoyd2t5SO pic.twitter.com/saFsurv5Wm'},\n",
       " {'tile': '喝太醉臥躺停車場 埔里男慘遭輾斃',\n",
       "  'url': 'https://udn.com/news/story/7320/4023496',\n",
       "  'class': '社會',\n",
       "  'description': '南投縣埔里鎮鄒姓男子今凌晨疑醉倒在鎮內某處民營停車場，高姓駕駛開車經過時疑視線不良，未察覺有人躺在地上，便直接輾過， 鄒因此卡在車底，經消防人員救出送醫，急救後仍因傷勢過重宣告不治，目前已交由檢警偵辦相驗。據瞭解，36歲鄒男昨晚與親友喝酒聚會，至今凌晨活動結束，眾人各自返家，未料鄒疑因不勝酒力，離開店家後就醉倒在該餐廳與其他業者共用的特約停車場，當時31歲高男正巧駕車經過，而因停車場內光線昏暗，高疑因視線不良未發現鄒，察覺輾到東西下車一看才知道是人，嚇得他急忙通報警消。而消防隊到場後，利用千斤頂等工具把車撐起將人救出，初檢頭部明顯受創，雖緊急將其送醫，但到院前已無生命跡象，急救後仍因傷重不治；事後經抽血換算呼氣酒測值，鄒男酒測值高達每公升2.2毫克，高男則為0，而詳細肇因和死因，檢警今將進一步相驗並調查釐清。南投縣埔里鎮鄒姓男子疑醉倒在停車場遭輾而卡在車底，消防隊緊急將其救出送醫，但因仍因傷勢過重宣告不治，圖／讀者提供 分享   facebook     '},\n",
       " {'tile': '韓朱配有譜？親韓人士：韓國瑜打算找朱立倫談合作',\n",
       "  'url': 'https://udn.com/news/story/120536/4024024',\n",
       "  'class': '要聞',\n",
       "  'description': '新北市前市長朱立倫語國民黨總統參選人韓國瑜。圖／報系資料照合成 分享   facebook     新北市前市長日前結束訪美行程回台，國民黨總統參選人韓國瑜的副手人選也未有著落，國民黨內現在醞釀「韓朱配」的聲量越來越高。親韓人士透露，韓、朱兩人一直都有順暢的溝通管道，韓國瑜確實有打算約朱立倫見面談合作之事，但是否會搭配選舉，要看兩人談的情況而定。朱立倫辦公室則表示，「不要位置，一定幫忙」。國民黨立委江啟臣競選看板力拱「韓朱配」，此舉獲得不少黨內立委響應，就連台中市長盧秀燕、雲林縣長張麗善也在底下回應支持。江啟臣日前表示，若韓朱能搭配合作，相信對藍營、基層支持者來說一定有振奮效果，不僅符合支持者的期待，也讓國民黨可以真正進入備戰狀態。據悉，韓國瑜在初選公布結果當天見過朱立倫一次後兩人雖未再見面，但朱立倫訪美期間，針對美國對於韓國瑜兩岸、親美立場皆有做說明溝通，而美方從執政黨接收到對於韓國瑜的誤解，朱立倫也有幫忙緩頰，讓美方更認識韓國瑜。朱立倫與美關係良好，此次訪美除了重申親美立場外，也積極替國民黨候選人鋪路。但對於兩人未來是否合作，甚至搭配成「韓朱配」，由於韓還未正式找朱立倫談合作，所以朱立倫也不會鬆口。針對「朱韓配」是否會成形，對此朱立倫辦公室表示，不要位置，一定幫忙。。親韓人士表示，兩人一直都有順暢的溝通管道，之後韓也會約朱見面談合作之事。據了解，韓國瑜對於副手人選有自己的想法，他並非從初選過後就汲汲營營找副手，而是經過一陣子的觀察與考量，先把競選總部組織架構弄好，待競選工作順利上線後，再來做副手的最後定奪。黨內人士分析，韓國瑜開出的副手條件必須具備熟捻財經專業及國際事務，甚至可以成為「有史以來被授權最大的副手」，朱立倫就是符合條件的不二人選，而且這對朱立倫將來想要問鼎總統大位也是非常好的歷練。相對於過去比較虛位的副手，朱立倫的能力能做很多事情，韓的庶民加上朱的專業，兩個人絕對可以發揮1加1大於2的效果。'},\n",
       " {'tile': '「換瑜」不必發生但效果已達成 他指國民黨只能做這件事',\n",
       "  'url': 'https://udn.com/news/story/12702/4024232',\n",
       "  'class': '要聞',\n",
       "  'description': '「換瑜」事件越演越烈，有媒體報導指國民黨主席吳敦義派前立委張顯耀去國台辦溝通換瑜，國民黨總統參選人韓國瑜還親上火線在臉書直播斥責此事是假新聞，更指如果是真的，那國民黨中央黨部大概腦袋進水、已經壞掉了；資深媒體人黃暐瀚表示，換瑜並不會發生，有人刻意炒作打擊韓民調，「換瑜」最後不必發生，但效果已經達成 。還在等換瑜？國民黨會「換瑜」嗎？黃暐瀚直稱「不會」，那為什麼到現在，都還有人在「炒作」換瑜？很簡單，因為這樣的「炒作」，可以打擊韓國瑜的氣勢，影響韓國瑜的民調，「換瑜」最後不必發生，但效果已經達成。黃暐瀚說，就像某男女明星，合拍新戲，開播前總有「緋聞」一樣。緋聞炒得火熱，媒體天天報導，等到下戲，八卦也沒了。但真有「緋聞」？沒有。但「收視率」有了，目的達到了。然而，媒體八卦和演藝圈緋聞，那是茶餘飯後的「談資」。國民黨換瑜，甚至是去北京「面聖」報告換瑜，那可是會直接影響選情，影響國民黨形象的事情。媒體都具名、獨家、頭版頭地報了。國民黨想「扭轉印象」，別無他法，只有直接提告，對簿公堂，問清楚：「消息到底哪裡來的」？才能自清。資深媒體人黃暐瀚。本報資料照片 分享   facebook     '},\n",
       " {'tile': 'MLB／三次無安打史上第六人 韋蘭德一直想達陣',\n",
       "  'url': 'https://udn.com/news/story/6999/4023405',\n",
       "  'class': '運動',\n",
       "  'description': '韋蘭德投出生涯第三次無安打比賽。 美聯社 分享   facebook     比切特（Bo Bichette）敲出三壘滾地，托羅（Abraham Toro）接住傳往一壘刺殺，在投手丘上的韋蘭德（Justin Verlander）興奮地高舉雙手大吼，這感覺對他來說並不陌生，但從不會膩，韋蘭德投出生涯第三次無安打比賽，帶領太空人以2：0擊敗藍鳥。2011年同樣是在藍鳥主場，效力老虎隊的韋蘭德也慶祝著一模一樣的事情，他是第三位對上同支球隊投出無安打比賽的投手，都在同一個球場作客則是第一人，韋蘭德第一次投出無安打比賽則是2007年在老虎隊主場對上釀酒人。本季新高的120球，送出14次三振僅有1次保送，讓韋蘭德成為史上第六位生涯三次投出無安打比賽的球員，前有萊恩（Nolan Ryan）、考法克斯（ Sandy Koufax）、費勒（Bob Feller）、柯可蘭（Larry Corcoran）以及塞揚（Cy Young）。韋蘭德表示：「這意義重大，如果我說我不知道就是說謊，我有兩次非常接近但在第九局砸鍋，有幾次則是在第八局，我完全知道這些歷史紀錄，跨越了一道很大的關卡，對我來說非常特別的一刻。」韋蘭德第一局就對畢吉歐（Cavan Biggio）投出保送，即使接下來連續投出三上三下，第八局甚至連投3K，也與完全比賽無緣，不過更大的問題是，太空人還沒得分。韋蘭德八局投完來到106球，他走向總教練辛區（AJ Hinch）討論球數及策略，這是兩人第一次交談，大家都知道韋蘭德正邁向無安打比賽，但第九局可能是最後一局，幸好太空人火力來得及時，九局上托羅在兩出局後把球敲出左外野大牆，這支兩分砲已足夠。九局下連續解決兩人，面對小自己15歲的比切特，韋蘭德在兩好三壞後，用97哩速球讓他敲成滾地，比切特說：「我想逮到他，最後一打席我把球看得很清楚，我真的覺得有機會敲安打。」韋蘭德表示：「我今天速球狀況很好，很有生命力，滑球有點不穩定，最後一局幾乎都靠速球。」藍鳥全隊唯一擊球初速超過100哩的一球，是麥金尼（Billy McKinney）在五局下敲出的滾地球，被臨時代班一壘的狄亞茲（Aledmys Diaz）攔下，韋蘭德說：「我那球沒投好，幸好打在地上，狄亞茲的運動能力也很好。」'},\n",
       " {'tile': '攻第50座百岳 魂斷素密達斷崖',\n",
       "  'url': 'https://udn.com/news/story/7320/4023198',\n",
       "  'class': '社會',\n",
       "  'description': '素密達山斷崖地勢險峻，部分路段須拉繩攀登，十分危險。 圖／取自雪霸國家公園管理處官網 分享   facebook     六十二歲陳姓男子攀登雪霸國家公園聖稜線，三天前經過素密達山斷崖時，不慎失足摔落二百公尺深山死亡，遺體昨天吊掛下山；素密達斷崖是往聖稜線重要地標，部分路段陡峭須拉繩攀登，容易發生事故，去年十一月同一地點也有登山客遭落石擊中頭部身亡，許多山友形容它「不是好惹的。」根據調查，陳男到大陸經商有成，返台後熱愛爬山，有多年登山經驗；上月廿八日一行十二人從大霸登山口入山，原計以五天時間完成攀爬雪霸國家公園內聖稜線，其間經過加利山、伊澤山、小霸尖山、大霸尖山、雪山北峰、雪山主峰和雪山東峰等；陳男出發前還高興向家人說，這趟行程有多座台灣百岳，他要挑戰自己的第五十座「台灣百岳」，未料發生意外。上月卅日下午四點多消防局獲報，登山隊伍行經素密達山斷崖，陳男攀爬不慎墜谷，因天色已暗，救難人員無法上山；隔天上午九點，又接獲林姓領隊通報，在墜谷處發現陳已明顯死亡。搜救員前天搭直升機上山，昨天清晨五點卅分從雪北山屋出發，徒步四小時抵達陳男墜谷地點，再回報消防局通知國軍直升機將遺體吊掛下山，因地勢險峻，過程中有兩名消防員滑倒和抽筋受傷。曾爬過素密達斷崖的山友說，素密達斷崖是聖稜線最大天險，共有三斷崖壁，腳可踩踏點很少，繩索雖多，但不可過度依賴飽受風吹雨淋的舊繩索，要踩穩踏點，用手臂力量，將身體往上抬，已經在上方的人幫忙拉，確保安全。部分斷崖岩壁很危險，要用繩索綁緊身體再爬垂直岩壁，且採背包與人分離方式小心通過，否則一失足就可能天人永隔。'},\n",
       " {'tile': '聯誼同樂橋段太辣？ 資通電軍指揮部一主官遭調職',\n",
       "  'url': 'https://udn.com/news/story/10930/4024636',\n",
       "  'class': '要聞',\n",
       "  'description': '國防部參謀本部資通電軍指揮部。圖／軍聞社 分享   facebook     國防部參謀本部資通電軍指揮部某單位月前在聯誼同樂時留下錄影，今遭媒體報導形容為「吊帶襪濕身浪蹭同胞」。指揮部今天坦承疏失，表示已將單位隊長調離現職。資通電軍指揮部今天發出新聞稿表示，該單位於8月中旬在宜蘭民宿自費辦理烤肉活動，部分人員為炒熱氣氛出現脫序行為，經查屬實。對於幹部在場，卻未能適時制止，指揮部已檢討相關人員疏責，並將該隊隊長調離現職。指揮部表示，單位於5月22日精神戰力專案教育課程第二日課程後，下午排定電影欣賞團康活動，由輔導長帶隊觀賞，增進部隊向心與士氣，並無飲宴萎靡情事。資通電軍指揮部表示，已責令單位於8月22日由單位高階主官主持召開軍紀檢討會，深刻檢討缺失，務期各級幹部確實引以為戒，以嚴肅軍紀，避免類案再生。'},\n",
       " {'tile': '有夠大隻！潮州賽神蝦冠軍「蝦王」長度比男子手臂還長',\n",
       "  'url': 'https://udn.com/news/story/7327/4023386',\n",
       "  'class': '地方',\n",
       "  'description': '神蝦出爐！屏東縣潮州鎮為擺脫「沒特色」的包袱，認為鎮內泰國蝦養殖戶多，選擇以泰國蝦打造地方特色，要讓民眾想到潮州不再只有燒冷冰。潮州鎮公所1日下午也在潮州運動公園，舉辦第一屆賽神蝦大賽，共吸引20組選手報名比賽。經過激烈競爭，最後公蝦組由在地養殖業者潘絲環以248公克奪冠；而母蝦則由許瑞華以132公克拔得頭籌。獲得第一名的公蝦，伸直長螯直到尾巴的長度，甚至比成年男子的手臂還長，令觀賽民眾看的是驚呼連連。除了視覺震撼壞，另外現場也能大飽口福，好幾公尺的水流蝦，讓民眾現撈泰國蝦，塗抹鹽巴後，直接放上巨大烤爐現烤吃下肚，不禁大呼實在好過癮。而屏東縣養殖蝦占全台產量最大宗，近8成釣蝦場及餐廳所使用的泰國蝦皆來自屏東。潮州鎮長周品全表示，過去潮州被說「最大的特色就是沒特色」，但從今以後，要讓人想到潮州就馬上聯想到泰國蝦。而鎮公所為打造泰國蝦成為「鄉鎮特色」，進而邀集潮州鎮水產養殖協會舉辦第一屆賽神蝦大賽，透過泰國蝦比大，成功創造話題。這回賽神蝦大賽，養殖戶潘絲環以重量248公克，奪下公蝦組冠軍，她表示已經養泰國蝦超過40個年頭，把泰國蝦養的比手臂還長秘訣，就在於養殖的水質以及細心、用心的呵護，另外，也樂見鄉公所透過賽神蝦比賽，以潮州與泰國蝦的緊密連結，創造屬於潮州自己的特色。潮州鎮公所昨天舉辦賽神蝦大賽。記者江國豪／攝影 分享   facebook     獲得第一名的公蝦，長螯伸直到尾巴的長度，比成年男子的手臂還長。記者江國豪／攝影 分享   facebook     獲得第一名的公蝦，長螯伸直到尾巴的長度，比成年男子的手臂還長。記者江國豪／攝影 分享   facebook     最後公蝦組由在地養殖業者潘絲環（左一）以248公克奪冠。記者江國豪／攝影 分享   facebook     '},\n",
       " {'tile': '聯合報黑白集／「和理非」到「攬炒」',\n",
       "  'url': 'https://udn.com/news/story/7338/4023308',\n",
       "  'class': '評論',\n",
       "  'description': '香港八三一示威，警民爆發嚴重衝突。（法新社） 分享   facebook     香港的八三一示威，四處上演火光、槍聲、白煙、水柱，還有濺血的「屍速列車」。港媒形容，這簡直是一場「城市戰爭」。原本標榜「和理非」（和平、理性、非暴力）的反送中示威，經過三個月奮戰，而今就剩下「攬炒」（玉石俱焚）的決心嗎？「和理非」漸漸難以維持，一方面是受到港府近日不斷逮捕示威領袖的刺激，另一方面也是市民不斷抗爭卻得不到回應的憤怒升級。香港政府和市民之間，始終沒有任何對話的機會；香港立法會也因為民意代表性不足，而無法扮演「民意機關」的協調角色，因此只能坐視情況一路惡化。對反送中運動而言，「和理非」原是一個重要的精神支柱，它凝聚了港人最大的共識，也支撐了國際社會的支持。但在頻繁的警民衝突中，有時因鎮壓手段的失當，有時是抗爭手段的過激，有時是不同立場的「假扮者」混入示威群眾趁機製造事端，破壞了和平、非暴力原則。在真相難辨的情況下，不少集會無法獲得核准，許多市民只好保持觀望，街頭就變成「勇武派」領軍主導。這樣的發展，其實正符合港府的期待，因為失控的街頭往往提供了最好的鎮壓藉口。當「和理非」逐漸瘖啞，而「攬炒」呼聲震天價響，香港人也許更要提高警覺。倒不是因為恐懼鎮壓，而是要深思隨之而來的代價。當年六四之後，大陸的自由空氣至少被抽空了十年，那是令人窒息的時日。'},\n",
       " {'tile': '離奇！直線道白天無故衝撞分隔島 重機夫妻雙雙不治',\n",
       "  'url': 'https://udn.com/news/story/7320/4024602',\n",
       "  'class': '社會',\n",
       "  'description': '鬼月剛結束，南投縣發生一起離奇嚴重車禍，來自台中的重機夫妻出遊，竟在台16線集集往水里方向的直線車道上，突然失控撞上分隔島，猛烈的撞擊力道，這對夫妻倆當場噴飛20公尺外，當場失去生命跡象，由經過路民眾趕緊報案，水里消防分隊抵達現場後，分別由警消、志工、役男和熱心民眾幫忙CPR，並由救護車送往醫院急救，直到晚上還是宣告不治死亡。集集警方表示，這對來自台中的林姓夫妻，前天8月31號中午12時許，由57歲的林姓男子騎乘大型川崎重機，載著43歲的老婆周六出遊，由台16線集集往水里方向行駛，卻在15公里附近路段，不明原因失控撞上中央分隔道，由於撞擊力道很大，不但撞倒交通號誌桿子，機車還往前衝到100多公尺外，夫妻倆也當場失去呼吸心跳。集集分局指出，依現場初步研判是車主失控自撞，但站家屬立場，由於無法接受自撞的事實，提出疑義想釐清白天的直路上，怎會無故自撞中央分隔島，針對整起車禍發生的原因，要求警方及檢察官對於事故及肇因，正進一步調查中。台中的重機夫妻出遊，竟在台16線集集往水里方向的直線車道上，突然失控撞上分隔島離奇喪命。圖／民眾提供 分享   facebook     來自台中的林姓夫妻前天駕乘重機出遊，竟在台16線集集路段直線車道離奇出事。圖／林姓夫妻臉書 分享   facebook     台中的重機夫妻出遊，竟在台16線集集往水里方向的直線車道上，突然失控撞上分隔島離奇喪命。圖／民眾提供 分享   facebook     台中的重機夫妻出遊，竟在台16線集集往水里方向的直線車道上，突然失控撞上分隔島離奇喪命。圖／民眾提供 分享   facebook     來自台中的林姓夫妻前天駕乘重機出遊，竟在台16線集集路段直線車道離奇出事。圖／林姓夫妻臉書 分享   facebook     '},\n",
       " {'tile': '明晚起颱風外圍環流影響 各地慎防大雨',\n",
       "  'url': 'https://udn.com/news/story/7266/4023629',\n",
       "  'class': '生活',\n",
       "  'description': '氣象局說，原位於菲律賓東方海面的熱帶性低氣壓，今天上午8時發展為今年第13號颱風（國際命名：LINGLING，中文：玲玲），未來將向北北西轉北移動，有朝台灣東部海面接近之趨勢；預計台灣地區明晚起至周四將受颱風外圍環流影響，注意氣象局發布的最新颱風動態。中央氣象局說，今天至明天白天各地晴朗炎熱，僅恆春半島、東南部及東部地區有局部短暫陣雨，午後中南部地區及北部、東北部山區亦有局部短暫雷陣雨。\\xa0明晚起至周四颱風外圍環流影響，易有局部大雨發生；明晚東南部、東部地區及南部山區有短暫陣雨或雷雨，東北部地區亦有局部短暫陣雨。周三、周四東半部、北部、南部地區及中部山區有短暫陣雨，其他地區為多雲。 \\u3000\\u3000周五至周日低壓帶影響，中南部、東南部及東部地區有短暫陣雨，其他地區為多雲的天氣，午後有局部短暫雷陣雨。今天適逢年度大潮，西南部沿海低窪地區漲潮期間慎防淹水。明天下午起東半部（含綠島、蘭嶼）、南部、基隆北海岸沿海地區及澎湖有長浪發生的機率。輕度颱風玲玲的路徑潛勢預報。圖／取自氣象局網站 分享   facebook     '},\n",
       " {'tile': '批江宜樺、謫毛治國 管中閔為媒體撰寫「社論」曝光',\n",
       "  'url': 'https://udn.com/news/story/120604/4024865',\n",
       "  'class': '文教',\n",
       "  'description': '台大校長管中閔(右)。圖／聯合報系資料照片 分享   facebook     台大校長管中閔擔任公職期間違法兼職，今遭公懲會判申誡，管案和前中央研究院院長翁啟惠申誡再審案，成公懲會新制以來，第一、二件主動開放旁聽的案件，兩案開庭只差兩天。相較於翁不斷拋出證據欲自證清白，管則盼法庭上不要揭露他的「社會活動」，判決資料出爐，外界才知道他「匿名針砭」馬團隊。監察院雖彈劾管，但對於他究竟幫壹週刊執筆過那些社論，管因不接受約詢，疑點一直不清，甚至公懲會7月2日行準備程序時，調查專員詰問壹週刊前社長裴偉第705、707、709期社論是否為管撰寫，管即向合議庭反映「這樣會把當事人的社會活動公開」。公懲會準用行政訴訟法，對案情有重要關係的證人有作證義務，也使得究竟那些社論是出自管之手水落石出。公懲會在判決理由中舉5期為例，其中第667、701、703是討論央行政策，693期議論政府在2014年8月通過調漲基本工資，第709期敘及執政黨選舉大敗。公懲會認為管中閔擔任行政院政務委員兼國發會主委，對各部會國家、經濟、社會各項發展政策有綜合規劃、協調職責，就算有不同意見，也應該在委員會議中討論，不該違反行政倫理。管中閔批評中央銀行「過去一貫打壓任何對貨幣與匯率政策的討論」、「政府對此低通膨現象全不以為意，央行更無任何相應政策，這真是世界上的大笑話。」、「政府若一直對央行的不作為政策毫無所感，台灣的經濟將只能在保三或保二中苦苦掙扎，永無出頭之日了。」。另外對於調漲基本工資一案則說「陳冲離任後，人走茶涼，繼任的江宜樺院長在當時經濟成長仍未達標的情況下，於二○一三年四月調漲了基本工資。此舉推翻了陳冲當初所訂的執行條件，也是政府失信之始。」、「當時尚未就任的勞動部長也立刻表態支持。政府再度破壞自己的承諾...」。2014年12月8日，國民黨在地方公職人員選舉中敗選，江宜樺去職，由副院長毛治國組閣。管中閔這時寫下「由最該一同負責的副院長毛治國組閣；而新的內閣中，較大的變動只有原政務委員鄧振中與原經濟部長杜紫軍對調。這種換頭不換身的改組似乎暗指，政策績效只是院長一人的責任，換了院長一切問題都可迎刃而解。」。前總統陳水扁保外醫治，管中閔認為毛治國宣稱的「人道原則」考量令人吃驚，並指「法務部也立刻仰體上意，善意的建議申請保外就醫的作法」、「從今而後，鬼才會相信政府說的：政治不會干預司法。」；管也批評「換來一位毫無原則的經濟部長。在電費回饋與電價浮動這些極為民粹的政策上，這位部長展現是：沒有專業，只看上意；沒有原則，只會退讓。」。管在社論中警告「彎彎內閣已經上路，大家走路小心。」。domready(function() {if ( !countDownStatus ) getCountdown();if ( !highChartsStatus ) getHighcharts();});domready(function() {var channelId = 2;var actArea = \"poll_at_story_0_v704\";var actCode = \"v704\";var actTemplate = \"bar2\";var elemDiv = document.createElement(\\'div\\');elemDiv.id = actArea;elemDiv.className =\\'vote_body area\\';var scr = document.getElementById(actArea+\\'_script\\');scr.parentNode.insertBefore(elemDiv, scr);$.getScript(\\'/funcap/actIndex.jsp?actCode=\\' + actCode + \\'&channelId=\\' + channelId , function() {actTemplate = eval(\\'objAct_\\' + actCode + \\'.d1.actTemplate\\');$.ajaxSetup({ cache: true });$.getScript(\\'/func/js/\\' + actTemplate + \\'_min.js?2019082101\\', function() {$.ajaxSetup({ cache: false });piepkg();loadTemplateJs(actTemplate);eval(actTemplate + \\'view(\"\\' + \\'#\\' + actArea + \\'\");\\')})});});'},\n",
       " {'tile': '來台港生被逮第三例 東吳大學生被控「暴動罪」',\n",
       "  'url': 'https://udn.com/news/story/7331/4024960',\n",
       "  'class': '兩岸',\n",
       "  'description': '香港政府近日大舉搜捕反送中人士，來台就學的港生也接連發生被逮捕案例。繼東華大學、台藝大之後，今晚再傳出第3名來台就讀東吳大學的港生遭捕。東吳大學學生會今晚在臉書表示，校內一名德文系黎姓港生已被押，呼籲東吳學生站出來，力挺同學爭民主。以下是東吳學生會臉書聲明全文：繼東華、台藝大後，東吳有第三位港生被捕。根據香港電台報導，一名香港留學台灣的學生於上周四「圍堵深水埗警署」的行動中被捕，並被控「暴動罪」。今早被押至九龍城裁判法院應訊。經確認是就讀本校德文系的黎姓港生，目前被下令不可離港、交出旅行證件。學生會權益部已於獲悉消息的第一時間通知本校秘書室，期盼校方與系所能多加關切，適時給予各項協助，堅定捍衛學生安全與受教權，並時刻掌握最新資訊。本會將全力聲援黎姓同學，也期盼所有同學能一同關注事件的發展，等待同學平安歸來。從香港反送中運動開始至今，香港人為了追求民主社會中被視為理所當然的「自由」，因此而付出了高昂的代價。香港人以生命與血淚在街頭陳抗、遊行，抵抗著中共對於香港自由、民主、法治的種種侵奪。然而，隨著反送中運動所導致的衝突不斷加劇，香港政府與北京當局對於香港人民的回應與手段也日漸強硬。八月三十一日當晚，香港速龍小隊甚至進入地鐵站、車廂內，以「無差別攻擊」的手段，毆打手無寸鐵的市民。當今台灣的自由與民主得來不易，是許多前輩犧牲、奮鬥而來。我們應當重視並且珍惜。自由與民主是普世價值，值得我們奮起追尋，也希望教育部及陸委會等相關單位，能積極協助受校方與學生，保障同學的學籍與安全。自六月的「＃我在東吳我反送中」的聲援活動開始，本會便持續關注著香港反送中動態，並堅定支持香港人民追求自由民主的權利。學生會也在這裡誠摯邀請所有東吳大學的同學、師長、行政同仁，一起關注香港、撐香港，直到每一個同學、每一位香港人都平安歸來的那天。圖取自東吳大學學生會臉書 分享   facebook     '},\n",
       " {'tile': '樹下苦讀考上第一志願 教育部送上新書桌',\n",
       "  'url': 'https://udn.com/news/story/6898/4023954',\n",
       "  'class': '文教',\n",
       "  'description': '媒體報導，嘉義縣鹿草鄉一名15歲的黃姓女學生家境困苦，靠著在樹下苦讀考上第一志願嘉義女中，唯一心願是想要張書桌。教育部長潘文忠昨晚表示，他已請教育部同仁購置新書桌，並送往學生家中；嘉義女中也將提供獎學金與免費三餐。潘文忠引述媒體報導內容，指一名嘉義縣黃姓女學生家境困苦，一家人蝸居在7坪大鐵皮屋，但黃同學相當爭氣，靠著每天在樹下苦讀，考上第一志願嘉義女中。她最大心願就是想要一張書桌，讓教科書能有地方可以擺放，未來還要當律師、買個大房子給媽媽住，讓媽媽不要再那麼辛苦。潘文忠昨晚在臉書發文指出，看到新聞令他十分不捨得，黃同學儘管環境不優渥，仍憑著毅力與努力，今年順利進入嘉義女中就讀。潘文忠表示，行政院長蘇貞昌和他知道這則消息後都十分掛心，他立即請人以最快速度購置一張新書桌，並前往孩子家中了解狀況與需求，給予必要協助。除了媒合相關團體與社會資源，學校也將提供獎學金與免費三餐。潘文忠也感謝社會各界湧入的關心協助，他相信這些來自台灣社會的溫暖與愛，一定可以支持孩子更勇敢地繼續前進；他也想告訴黃同學，「你在逆境中仍奮力不懈的精神，真的給我們許多感動與激勵，希望這張書桌與社會給予你的祝福能陪著妳，一步步實現人生的願望！」嘉義縣鹿草鄉一名15歲的黃姓女學生家境困苦，靠著在樹下苦讀考上第一志願嘉義女中，唯一心願是想要張書桌。教育部長潘文忠昨晚表示，得知消息後非常不捨，已購置新書桌，並送往學生家中。圖／取自潘文忠臉書 分享   facebook     '}]"
      ]
     },
     "execution_count": 92,
     "metadata": {},
     "output_type": "execute_result"
    }
   ],
   "source": [
    "result_list"
   ]
  },
  {
   "cell_type": "code",
   "execution_count": 87,
   "metadata": {
    "collapsed": false
   },
   "outputs": [],
   "source": [
    "def get_detail(url):\n",
    "    detail_response = requests.get(url)\n",
    "    soup_detail = BeautifulSoup(detail_response.text, \"lxml\")\n",
    "    content = soup_detail.find_all(\"p\")\n",
    "    desciption = \"\"\n",
    "    for item in content:\n",
    "        desciption = desciption + item.getText()\n",
    "    return desciption"
   ]
  },
  {
   "cell_type": "code",
   "execution_count": 88,
   "metadata": {
    "collapsed": false
   },
   "outputs": [
    {
     "name": "stdout",
     "output_type": "stream",
     "text": [
      "日本氣象廳指菲律賓東方海面的熱帶性低氣壓，已增強為今年第13號颱風「玲玲」。中央氣象局說，預計周三起影響台灣，路徑還要討論，預測分歧度有點大，有靠近台灣也有偏離台灣，但因為接近台灣的機率較高，恐沿著東部海面北上，甚至有機會撲台，預測周三起為東半部及南部帶來雨勢，接連影響後續警報情形，值得關注。氣象局預計10時發布。玲玲颱風路徑潛勢預報。圖／取自氣象局網站 分享   facebook     \n"
     ]
    }
   ],
   "source": [
    "des = get_detail(\"https://udn.com/news/story/7266/4023464\")\n",
    "print(des)"
   ]
  },
  {
   "cell_type": "markdown",
   "metadata": {},
   "source": [
    "### 淺嘗 BeautifulSoup"
   ]
  },
  {
   "cell_type": "code",
   "execution_count": 3,
   "metadata": {
    "collapsed": false
   },
   "outputs": [
    {
     "name": "stdout",
     "output_type": "stream",
     "text": [
      "<h1>Python 爬蟲實戰</h1>\n",
      "<h1>Python 爬蟲實戰</h1>\n",
      "<h1>Python 爬蟲實戰</h1>\n",
      "<h1>Python 爬蟲實戰</h1>\n",
      "<h1>Python 爬蟲實戰</h1>\n"
     ]
    }
   ],
   "source": [
    "# please insert the codes from slides, you can press shift + enter or ctrl + enter to run this cell\n",
    "# your codes\n",
    "\n",
    "print(soup.find(\"h1\"))\n",
    "print(soup.h1)\n",
    "print(soup.html.h1)\n",
    "print(soup.body.h1)\n",
    "print(soup.html.body.h1)"
   ]
  },
  {
   "cell_type": "markdown",
   "metadata": {},
   "source": [
    "## 範例 02: regular expression\n",
    "regular expression 是在搜尋大量文字時非常好用的工具，可以快速回傳符合您要求的文字\n",
    "\n",
    "例如尋找任何像是電話號碼、E-mail 信箱的文字\n",
    "\n",
    "範例 02 會透過一些簡單的練習帶您了解 regular expression\n",
    "\n",
    "\n",
    "\n",
    "補充資料\n",
    "\n",
    "* [更詳盡的 regular expression 符號解釋](https://atedev.wordpress.com/2007/11/23/%E6%AD%A3%E8%A6%8F%E8%A1%A8%E7%A4%BA%E5%BC%8F-regular-expression/)\n",
    "* [regular expression 線上練習網站](https://regexone.com/)\n",
    "* [常見的 regular expression 寫法](https://www.analyticsvidhya.com/blog/2017/03/extracting-information-from-reports-using-regular-expressons-library-in-python/)\n",
    "* 如果想擷取中文的 regular expression，可用[\\u4e00-\\u9fa5]，會幫你找出所有中文字，其結果如同英文的 [A-Z]"
   ]
  },
  {
   "cell_type": "code",
   "execution_count": null,
   "metadata": {
    "collapsed": true
   },
   "outputs": [],
   "source": [
    "import re\n",
    "\n",
    "\n",
    "#找到jimmy,jimmmy,jimmmmmy\n",
    "test_string = 'find: jimmy, jimmmy, jimmmmmy, skip: jimy'"
   ]
  },
  {
   "cell_type": "markdown",
   "metadata": {},
   "source": [
    "regular expression 的符號意義\n",
    "![BS4](data/reg.png)"
   ]
  },
  {
   "cell_type": "markdown",
   "metadata": {},
   "source": [
    "### 以下的練習您可以使用 python 內建的 re 套件，也可以使用這個[線上regular expression 測試器](https://regex101.com/)，可以看到比較互動式的結果，使用方法只要把 test_string 裡的內容複製到網頁下方的 TEST STRING 空格，然後在網頁上方的空格輸入您的  regular expression，就可以看到匹配的結果，左邊的 FLAVOR 記得選擇 python"
   ]
  },
  {
   "cell_type": "markdown",
   "metadata": {},
   "source": [
    "### 範例 1:  *, +, {} 的用法\n",
    "\\* 代表前面的字元可出現零次以上，而 + 則是代表前面的字元至少要出現一次以上，{m,n} 則是代表前面的字元可出現 m 次 ~ n 次"
   ]
  },
  {
   "cell_type": "code",
   "execution_count": 5,
   "metadata": {
    "collapsed": false
   },
   "outputs": [
    {
     "data": {
      "text/plain": [
       "['skip', 'ssskip', 'skipppppp']"
      ]
     },
     "execution_count": 5,
     "metadata": {},
     "output_type": "execute_result"
    }
   ],
   "source": [
    "import re\n",
    "pattern = \"s+kip+\"\n",
    "test_string = 'find aabc, ac, skip abb, dd , ssskip, skipppppp'\n",
    "re.findall(pattern, test_string)\n",
    "#找出skip, ssskip, skipppppp\n",
    "\n"
   ]
  },
  {
   "cell_type": "markdown",
   "metadata": {},
   "source": [
    "### 練習 2: 找到英數字\n",
    "在 test_string 中找出所有數字"
   ]
  },
  {
   "cell_type": "code",
   "execution_count": 7,
   "metadata": {
    "collapsed": false
   },
   "outputs": [
    {
     "data": {
      "text/plain": [
       "['abc', 'xyz', 'de', 'fineADWD', 'testsDAS']"
      ]
     },
     "execution_count": 7,
     "metadata": {},
     "output_type": "execute_result"
    }
   ],
   "source": [
    "import re\n",
    "\n",
    "# your codes\n",
    "pattern = \"[A-Za-z]+\"\n",
    "test_string = 'abc123xyz, de123fineADWD\"123\", testsDAS = 123'\n",
    "\n",
    "\n",
    "\n",
    "re.findall(pattern, test_string)\n",
    "\n",
    "\n",
    "\n",
    "#範例  找到英文"
   ]
  },
  {
   "cell_type": "markdown",
   "metadata": {},
   "source": [
    "### 範例 3: 找到文字\n",
    "當有指定的文字需要搜尋，可透過 [ ] 搭配 *, + ,{} 進行搜尋"
   ]
  },
  {
   "cell_type": "code",
   "execution_count": 8,
   "metadata": {
    "collapsed": false
   },
   "outputs": [
    {
     "data": {
      "text/plain": [
       "['can', 'man', 'pan']"
      ]
     },
     "execution_count": 8,
     "metadata": {},
     "output_type": "execute_result"
    }
   ],
   "source": [
    "import re\n",
    "\n",
    "pattern = \"[cmp]an\"\n",
    "test_string = 'find: can, man, fan, skip: dan, ran, dsadsfpan'\n",
    "re.findall(pattern, test_string)\n",
    "\n",
    "\n",
    "\n",
    "\n"
   ]
  },
  {
   "cell_type": "code",
   "execution_count": 9,
   "metadata": {
    "collapsed": false
   },
   "outputs": [
    {
     "data": {
      "text/plain": [
       "['jimmy', 'jimmmy', 'jimmmmmy']"
      ]
     },
     "execution_count": 9,
     "metadata": {},
     "output_type": "execute_result"
    }
   ],
   "source": [
    "import re\n",
    "\n",
    "\n",
    "\n",
    "#找到jimmy,jimmmy,jimmmmmy\n",
    "test_string = 'find: jimmy, jimmmy, jimmmmmy, skip: jimy'\n",
    "\n",
    "\n",
    "\n",
    "pattern = \"(jim){2,5}y\"\n",
    "\n",
    "\n",
    "re.findall(pattern, test_string)"
   ]
  },
  {
   "cell_type": "code",
   "execution_count": 10,
   "metadata": {
    "collapsed": false
   },
   "outputs": [
    {
     "data": {
      "text/plain": [
       "['ABi', 'BBc', 'CNn']"
      ]
     },
     "execution_count": 10,
     "metadata": {},
     "output_type": "execute_result"
    }
   ],
   "source": [
    "import re\n",
    "\n",
    "\n",
    "#找到 ABi BBc CNn\n",
    "# your codes\n",
    "test_string = 'find: ABi, BBc, CNn, skip: ai, be, cd'\n",
    "\n",
    "\n",
    "\n",
    "\n",
    "\n",
    "\n",
    "\n",
    "\n",
    "\n",
    "pattern = \"[A-Z]+[a-z]\"\n",
    "re.findall(pattern, test_string)"
   ]
  },
  {
   "cell_type": "markdown",
   "metadata": {},
   "source": [
    "### 範例 4: 跳脫符號\n",
    "當想要搜尋的字元，在 regular expression 已經是保留字的時候，就要使用跳脫符號\n",
    "\n",
    "例如你想要搜尋符合 \"+\" (加號) 這個文字，但是 \"+\" 在 regular expression 是代表出現一次以上的意思\n",
    "\n",
    "這時在 \"+\" 前面加上 \"\\\" (跳脫符號)，這樣做的話 regular expression 就會知道你是要尋找 \"+\" "
   ]
  },
  {
   "cell_type": "code",
   "execution_count": 11,
   "metadata": {
    "collapsed": false
   },
   "outputs": [
    {
     "data": {
      "text/plain": [
       "['591.', 'dot.', 'yes.']"
      ]
     },
     "execution_count": 11,
     "metadata": {},
     "output_type": "execute_result"
    }
   ],
   "source": [
    "import re\n",
    "\n",
    "pattern = \".{3}\\.\"\n",
    "test_string = 'find: 591., dot., yes., skip: non!'\n",
    "re.findall(pattern, test_string)"
   ]
  },
  {
   "cell_type": "code",
   "execution_count": 15,
   "metadata": {
    "collapsed": false
   },
   "outputs": [
    {
     "data": {
      "text/plain": [
       "['A+c', 'B+d', 'C+x']"
      ]
     },
     "execution_count": 15,
     "metadata": {},
     "output_type": "execute_result"
    }
   ],
   "source": [
    "import re\n",
    "\n",
    "# your codes\n",
    "pattern = \"[A-Z]\\+[a-z]\"\n",
    "test_string = 'find: A+c, B+d, C+x'\n",
    "re.findall(pattern, test_string)"
   ]
  },
  {
   "cell_type": "markdown",
   "metadata": {},
   "source": [
    "### 範例 5: 條件式搜尋\n",
    "當希望不同的搜尋條件都能夠符合時，可以使用「|」這個符號，代表左右邊只要任一一個條件符合，就會回傳"
   ]
  },
  {
   "cell_type": "code",
   "execution_count": 16,
   "metadata": {
    "collapsed": false
   },
   "outputs": [
    {
     "data": {
      "text/plain": [
       "['I love cats', 'I love dogs']"
      ]
     },
     "execution_count": 16,
     "metadata": {},
     "output_type": "execute_result"
    }
   ],
   "source": [
    "import re\n",
    "\n",
    "\n",
    "\n",
    "pattern = \"I love cats|I love dogs\"\n",
    "test_string = 'find: I love cats, I love dogs, skip: I love logs, I love cogs'\n",
    "re.findall(pattern, test_string)"
   ]
  },
  {
   "cell_type": "markdown",
   "metadata": {},
   "source": [
    "###  範例 6: Email 搜尋\n",
    "https://github.com/Openbox7681/CrawlerTurtorial"
   ]
  },
  {
   "cell_type": "code",
   "execution_count": 19,
   "metadata": {
    "collapsed": false
   },
   "outputs": [
    {
     "data": {
      "text/plain": [
       "[('afun@iis.sinica.edu.tw', 'edu'), ('jimmy15923@iis.sinica.com.tw', 'com')]"
      ]
     },
     "execution_count": 19,
     "metadata": {},
     "output_type": "execute_result"
    }
   ],
   "source": [
    "import re\n",
    "\n",
    "\n",
    "email_text = \"\"\"\n",
    "Big Data Analytics/ Deep LearningSocial Computing / Computational Social Science / Crowdsourcing\n",
    "Multimediaand Network SystemsQuality of ExperienceInformation SecurityPh.D. candidate at NTU EEchihfan02-27883799#1602Camera CalibrationComputer VisionData\n",
    "Analysiscmchang02-27883799#1671System OptimizationMachine LearningyusraBig data\n",
    "analysiscclin02-27883799#1668Data Analysisrusi02-27883799#1668Government Procurement ActFinancial\n",
    "Managementkatekuen02-27883799#1602AdministrationEvent Planningseanyu02-27883799#1668Data \n",
    "AnalysisPsychology & NeuroscienceMarketingxinchinchenEmbedded Systemkyoyachuan062602-27883799\n",
    "#1601FinTechActuarial ScienceData Analysiskai0604602-27883799#1601Data AnalysisMachine Learningchloe02-27839427Accountingafun02-27883799 afun@iis.sinica.edu.tw\n",
    "#1673Data AnalysisWeb developmentyunhsu198902-27883799#1668MarketingTIGP Ph.D. Fellow at Academia Sinica & NCCUbaowalyMachine LearningData AnalysisSocial Computingchangyc1427883799#1678\n",
    "Data Analysisjimmy1592302-2788379 jimmy15923@iis.sinica.com.tw#1688Data AnalysisjasontangAnalysisMachine Learninguchen02-27883799#1668Deep Learningpjwu02-27883799#1604Computational PhotographyData Analysis\n",
    "\"\"\"\n",
    "\n",
    "\n",
    "re.findall(\"([A-Za-z0-9._]+@[A-Za-z.]+(com|edu)\\.tw)\", email_text)\n",
    "\n",
    "\n",
    "\n",
    "\n",
    "\n",
    "\n"
   ]
  },
  {
   "cell_type": "code",
   "execution_count": null,
   "metadata": {
    "collapsed": true
   },
   "outputs": [],
   "source": [
    "re.findall(\"([A-Za-z0-9._]+@[A-Za-z.]+(com|edu)\\.tw)\", email_text)"
   ]
  }
 ],
 "metadata": {
  "kernelspec": {
   "display_name": "Python 3",
   "language": "python",
   "name": "python3"
  },
  "language_info": {
   "codemirror_mode": {
    "name": "ipython",
    "version": 3
   },
   "file_extension": ".py",
   "mimetype": "text/x-python",
   "name": "python",
   "nbconvert_exporter": "python",
   "pygments_lexer": "ipython3",
   "version": "3.7.4"
  }
 },
 "nbformat": 4,
 "nbformat_minor": 2
}
