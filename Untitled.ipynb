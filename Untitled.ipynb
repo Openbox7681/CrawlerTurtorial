{
 "cells": [
  {
   "cell_type": "code",
   "execution_count": 1,
   "metadata": {
    "collapsed": false
   },
   "outputs": [],
   "source": [
    "tcpObject = {\n",
    "    \"22\": {\n",
    "      \"state\": \"open\",\n",
    "      \"reason\": \"syn-ack\",\n",
    "      \"name\": \"ssh\",\n",
    "      \"product\": \"HP Comware switch sshd\",\n",
    "      \"version\": \"7.1.070\",\n",
    "      \"extrainfo\": \"protocol 2.0\",\n",
    "      \"conf\": \"10\",\n",
    "      \"cpe\": \"cpe:/o:hp:comware:7.1.070\",\n",
    "      \"script\": {\n",
    "        \"ssh-hostkey\": \"\\n  1024 93:29:bd:6c:a9:74:99:24:e8:8b:e4:d8:13:b3:11:d1 (RSA)\"\n",
    "      }\n",
    "    },\n",
    "    \"443\": {\n",
    "      \"state\": \"open\",\n",
    "      \"reason\": \"syn-ack\",\n",
    "      \"name\": \"https\",\n",
    "      \"product\": \"HTTPD\",\n",
    "      \"version\": \"\",\n",
    "      \"extrainfo\": \"\",\n",
    "      \"conf\": \"10\",\n",
    "      \"cpe\": \"\",\n",
    "      \"script\": {\n",
    "        \"fingerprint-strings\": \"\\n  FourOhFourRequest: \\n    HTTP/1.0 404 Not Found\\n    Content-Length: 0\\n    Server: HTTPD\\n    Date: Tue, 25 Feb 2020 02:34:07 GMT\\n    Connection: close\\n    Content-Type: text/html\\n  GetRequest: \\n    HTTP/1.0 301 Moved Permanently\\n    Location: /web/index.html\\n    Content-Length: 0\\n    Server: HTTPD\\n    Date: Tue, 25 Feb 2020 02:34:07 GMT\\n    Connection: close\\n    Content-Type: text/html\\n  HTTPOptions: \\n    HTTP/1.0 200 OK\\n    Allow: GET, HEAD, POST, PUT, DELETE, OPTIONS\\n    Content-Length: 0\\n    Server: HTTPD\\n    Date: Tue, 25 Feb 2020 02:34:07 GMT\\n    Connection: close\\n    Content-Type: text/html\\n  RTSPRequest: \\n    HTTP/1.1 505 HTTP Version not supported\\n    Content-Length: 0\\n    Server: HTTPD\\n    Date: Tue, 25 Feb 2020 02:34:17 GMT\\n    Connection: close\\n    Content-Type: text/html\\n  SIPOptions: \\n    HTTP/1.1 400 Bad Request\\n    Content-Length: 0\\n    Server: HTTPD\\n    Date: Tue, 25 Feb 2020 02:35:20 GMT\\n    Connection: close\\n    Content-Type: text/html\",\n",
    "        \"http-methods\": \"\\n  Potentially risky methods: PUT DELETE\",\n",
    "        \"http-server-header\": \"HTTPD\",\n",
    "        \"http-title\": \"Web managerment Home\\nRequested resource was /web/index.html\",\n",
    "        \"ssl-cert\": \"Subject: commonName=HTTPS-Self-Signed-Certificate-4ebc54de30ca56f0\\nNot valid before: 2013-01-01T00:01:16\\nNot valid after:  2032-12-27T00:01:16\",\n",
    "        \"ssl-date\": \"TLS randomness does not represent time\"\n",
    "      }\n",
    "    }\n",
    "  }"
   ]
  },
  {
   "cell_type": "code",
   "execution_count": 8,
   "metadata": {
    "collapsed": false
   },
   "outputs": [
    {
     "data": {
      "text/plain": [
       "['127.0.0.1', '127.0.0.2']"
      ]
     },
     "execution_count": 8,
     "metadata": {},
     "output_type": "execute_result"
    }
   ],
   "source": [
    "a = [\"127.0.0.1\", \"127.0.0.2\"]\n",
    "b = [\"1.1.1.1\"]\n",
    "a"
   ]
  },
  {
   "cell_type": "code",
   "execution_count": 7,
   "metadata": {
    "collapsed": false
   },
   "outputs": [
    {
     "data": {
      "text/plain": [
       "set()"
      ]
     },
     "execution_count": 7,
     "metadata": {},
     "output_type": "execute_result"
    }
   ],
   "source": [
    "c = set()\n",
    "c(set(a))\n",
    "c"
   ]
  },
  {
   "cell_type": "code",
   "execution_count": 4,
   "metadata": {
    "collapsed": false
   },
   "outputs": [
    {
     "data": {
      "text/plain": [
       "['127.0.0.1', '127.0.0.2', ['1.1.1.1'], ['127.0.0.1', '127.0.0.2']]"
      ]
     },
     "execution_count": 4,
     "metadata": {},
     "output_type": "execute_result"
    }
   ],
   "source": [
    "a"
   ]
  },
  {
   "cell_type": "code",
   "execution_count": 4,
   "metadata": {
    "collapsed": false
   },
   "outputs": [
    {
     "data": {
      "text/plain": [
       "str"
      ]
     },
     "execution_count": 4,
     "metadata": {},
     "output_type": "execute_result"
    }
   ],
   "source": [
    "import json\n",
    "type(json.dumps(tcpObject))"
   ]
  },
  {
   "cell_type": "code",
   "execution_count": 6,
   "metadata": {
    "collapsed": false
   },
   "outputs": [
    {
     "name": "stdout",
     "output_type": "stream",
     "text": [
      "[{'state': 'open', 'reason': 'syn-ack', 'name': 'ssh', 'product': 'HP Comware switch sshd', 'version': '7.1.070', 'extrainfo': 'protocol 2.0', 'conf': '10', 'cpe': 'cpe:/o:hp:comware:7.1.070', 'script': {'ssh-hostkey': '\\n  1024 93:29:bd:6c:a9:74:99:24:e8:8b:e4:d8:13:b3:11:d1 (RSA)'}, 'port': '22'}, {'state': 'open', 'reason': 'syn-ack', 'name': 'https', 'product': 'HTTPD', 'version': '', 'extrainfo': '', 'conf': '10', 'cpe': '', 'script': {'fingerprint-strings': '\\n  FourOhFourRequest: \\n    HTTP/1.0 404 Not Found\\n    Content-Length: 0\\n    Server: HTTPD\\n    Date: Tue, 25 Feb 2020 02:34:07 GMT\\n    Connection: close\\n    Content-Type: text/html\\n  GetRequest: \\n    HTTP/1.0 301 Moved Permanently\\n    Location: /web/index.html\\n    Content-Length: 0\\n    Server: HTTPD\\n    Date: Tue, 25 Feb 2020 02:34:07 GMT\\n    Connection: close\\n    Content-Type: text/html\\n  HTTPOptions: \\n    HTTP/1.0 200 OK\\n    Allow: GET, HEAD, POST, PUT, DELETE, OPTIONS\\n    Content-Length: 0\\n    Server: HTTPD\\n    Date: Tue, 25 Feb 2020 02:34:07 GMT\\n    Connection: close\\n    Content-Type: text/html\\n  RTSPRequest: \\n    HTTP/1.1 505 HTTP Version not supported\\n    Content-Length: 0\\n    Server: HTTPD\\n    Date: Tue, 25 Feb 2020 02:34:17 GMT\\n    Connection: close\\n    Content-Type: text/html\\n  SIPOptions: \\n    HTTP/1.1 400 Bad Request\\n    Content-Length: 0\\n    Server: HTTPD\\n    Date: Tue, 25 Feb 2020 02:35:20 GMT\\n    Connection: close\\n    Content-Type: text/html', 'http-methods': '\\n  Potentially risky methods: PUT DELETE', 'http-server-header': 'HTTPD', 'http-title': 'Web managerment Home\\nRequested resource was /web/index.html', 'ssl-cert': 'Subject: commonName=HTTPS-Self-Signed-Certificate-4ebc54de30ca56f0\\nNot valid before: 2013-01-01T00:01:16\\nNot valid after:  2032-12-27T00:01:16', 'ssl-date': 'TLS randomness does not represent time'}, 'port': '443'}]\n"
     ]
    }
   ],
   "source": [
    "result = list()\n",
    "for tcpData in tcpObject: \n",
    "    tcpInfo = dict()\n",
    "    tcpInfo = tcpObject[tcpData]\n",
    "    tcpInfo[\"port\"] = tcpData\n",
    "    result.append(tcpInfo)\n",
    "print(result)"
   ]
  },
  {
   "cell_type": "code",
   "execution_count": 7,
   "metadata": {
    "collapsed": false
   },
   "outputs": [
    {
     "data": {
      "text/plain": [
       "[{'state': 'open',\n",
       "  'reason': 'syn-ack',\n",
       "  'name': 'ssh',\n",
       "  'product': 'HP Comware switch sshd',\n",
       "  'version': '7.1.070',\n",
       "  'extrainfo': 'protocol 2.0',\n",
       "  'conf': '10',\n",
       "  'cpe': 'cpe:/o:hp:comware:7.1.070',\n",
       "  'script': {'ssh-hostkey': '\\n  1024 93:29:bd:6c:a9:74:99:24:e8:8b:e4:d8:13:b3:11:d1 (RSA)'},\n",
       "  'port': '22'},\n",
       " {'state': 'open',\n",
       "  'reason': 'syn-ack',\n",
       "  'name': 'https',\n",
       "  'product': 'HTTPD',\n",
       "  'version': '',\n",
       "  'extrainfo': '',\n",
       "  'conf': '10',\n",
       "  'cpe': '',\n",
       "  'script': {'fingerprint-strings': '\\n  FourOhFourRequest: \\n    HTTP/1.0 404 Not Found\\n    Content-Length: 0\\n    Server: HTTPD\\n    Date: Tue, 25 Feb 2020 02:34:07 GMT\\n    Connection: close\\n    Content-Type: text/html\\n  GetRequest: \\n    HTTP/1.0 301 Moved Permanently\\n    Location: /web/index.html\\n    Content-Length: 0\\n    Server: HTTPD\\n    Date: Tue, 25 Feb 2020 02:34:07 GMT\\n    Connection: close\\n    Content-Type: text/html\\n  HTTPOptions: \\n    HTTP/1.0 200 OK\\n    Allow: GET, HEAD, POST, PUT, DELETE, OPTIONS\\n    Content-Length: 0\\n    Server: HTTPD\\n    Date: Tue, 25 Feb 2020 02:34:07 GMT\\n    Connection: close\\n    Content-Type: text/html\\n  RTSPRequest: \\n    HTTP/1.1 505 HTTP Version not supported\\n    Content-Length: 0\\n    Server: HTTPD\\n    Date: Tue, 25 Feb 2020 02:34:17 GMT\\n    Connection: close\\n    Content-Type: text/html\\n  SIPOptions: \\n    HTTP/1.1 400 Bad Request\\n    Content-Length: 0\\n    Server: HTTPD\\n    Date: Tue, 25 Feb 2020 02:35:20 GMT\\n    Connection: close\\n    Content-Type: text/html',\n",
       "   'http-methods': '\\n  Potentially risky methods: PUT DELETE',\n",
       "   'http-server-header': 'HTTPD',\n",
       "   'http-title': 'Web managerment Home\\nRequested resource was /web/index.html',\n",
       "   'ssl-cert': 'Subject: commonName=HTTPS-Self-Signed-Certificate-4ebc54de30ca56f0\\nNot valid before: 2013-01-01T00:01:16\\nNot valid after:  2032-12-27T00:01:16',\n",
       "   'ssl-date': 'TLS randomness does not represent time'},\n",
       "  'port': '443'}]"
      ]
     },
     "execution_count": 7,
     "metadata": {},
     "output_type": "execute_result"
    }
   ],
   "source": [
    "result"
   ]
  },
  {
   "cell_type": "code",
   "execution_count": null,
   "metadata": {
    "collapsed": true
   },
   "outputs": [],
   "source": []
  }
 ],
 "metadata": {
  "kernelspec": {
   "display_name": "Python 3",
   "language": "python",
   "name": "python3"
  },
  "language_info": {
   "codemirror_mode": {
    "name": "ipython",
    "version": 3
   },
   "file_extension": ".py",
   "mimetype": "text/x-python",
   "name": "python",
   "nbconvert_exporter": "python",
   "pygments_lexer": "ipython3",
   "version": "3.7.4"
  }
 },
 "nbformat": 4,
 "nbformat_minor": 2
}
