{
 "cells": [
  {
   "cell_type": "code",
   "execution_count": 9,
   "metadata": {
    "collapsed": false
   },
   "outputs": [],
   "source": [
    "#本堂課所用到的工具\n",
    "import requests\n",
    "from bs4 import BeautifulSoup\n",
    "import re\n",
    "import pandas as pd\n"
   ]
  },
  {
   "cell_type": "markdown",
   "metadata": {},
   "source": [
    "\n",
    "## 範例: BeautifulSoup + regular expression\n",
    "\n",
    "透過 BeautifulSoup 加上 regular expression ，能夠輕鬆的找出所有符合您規則的標籤、屬性或是內容。\n",
    "\n",
    "與 regular expression 的 **re.findall()** 不同在於，這邊必須使用 **re.compile**，如此一來 BeautifulSoup 就會知道您要使用 regular expression，並且回傳所有符合條件的標籤、屬性或是內容。"
   ]
  },
  {
   "cell_type": "code",
   "execution_count": 34,
   "metadata": {
    "collapsed": false
   },
   "outputs": [
    {
     "data": {
      "text/plain": [
       "[<td class=\"zzzz\">列3 欄4 (我的屬性 class=\"zzzz\")</td>]"
      ]
     },
     "execution_count": 34,
     "metadata": {},
     "output_type": "execute_result"
    }
   ],
   "source": [
    "import requests\n",
    "from bs4 import BeautifulSoup\n",
    "import re\n",
    "\n",
    "#找出含有td的 tag 且 class 含有4個z的標籤\n",
    "\n",
    "\n",
    "response = requests.get(\"https://jimmy15923.github.io/example_page\")\n",
    "soup = BeautifulSoup(response.text, 'lxml')\n",
    "s = soup.find_all(\"td\", {\"class\":re.compile(\"z{4}\")})\n",
    "s\n",
    "\n"
   ]
  },
  {
   "cell_type": "code",
   "execution_count": 28,
   "metadata": {
    "collapsed": false
   },
   "outputs": [
    {
     "name": "stdout",
     "output_type": "stream",
     "text": [
      "<div class=\"zzz\" id=\"id1\">我是有著屬性 class=\"zzz\" 的標籤內容</div>\n",
      "<td class=\"zzz\"> 列2 欄2 (我的屬性 class=\"zzz\") </td>\n",
      "<li class=\"zz\">我是 li 標籤 (列表)，屬性 class=\"zz\" </li>\n",
      "<td class=\"zzzz\">列3 欄4 (我的屬性 class=\"zzzz\")</td>\n"
     ]
    }
   ],
   "source": [
    "s = soup.find_all(\"\", {\"class\":re.compile(\"z+\")})    # 找出所有屬性為 class 且值包含至少一個 z 以上的標籤\n",
    "for item in s:\n",
    "    print(item)"
   ]
  },
  {
   "cell_type": "code",
   "execution_count": 29,
   "metadata": {
    "collapsed": false
   },
   "outputs": [
    {
     "data": {
      "text/plain": [
       "[<td class=\"zzz\"> 列2 欄2 (我的屬性 class=\"zzz\") </td>,\n",
       " <td class=\"zzzz\">列3 欄4 (我的屬性 class=\"zzzz\")</td>]"
      ]
     },
     "execution_count": 29,
     "metadata": {},
     "output_type": "execute_result"
    }
   ],
   "source": [
    "soup.find_all(\"td\", {\"class\":re.compile(\"z+\")}) #找出所有屬性為 class 且值包含至少一個 z 以上的td標籤"
   ]
  },
  {
   "cell_type": "code",
   "execution_count": 30,
   "metadata": {
    "collapsed": false
   },
   "outputs": [
    {
     "name": "stdout",
     "output_type": "stream",
     "text": [
      "<td class=\"zzz\"> 列2 欄2 (我的屬性 class=\"zzz\") </td>\n",
      "<li class=\"zz\">我是 li 標籤 (列表)，屬性 class=\"zz\" </li>\n",
      "<td class=\"zzzz\">列3 欄4 (我的屬性 class=\"zzzz\")</td>\n"
     ]
    }
   ],
   "source": [
    "tag = [\"li\" , \"td\" ]\n",
    "s = soup.find_all(tag, {\"class\":re.compile(\"z+\")}) #也可以輸入list去查找所想要的標籤\n",
    "for item in s:\n",
    "    print(item)"
   ]
  },
  {
   "cell_type": "code",
   "execution_count": 31,
   "metadata": {
    "collapsed": false
   },
   "outputs": [
    {
     "data": {
      "text/plain": [
       "['網頁名稱-python crawler', 'python_crawler', 'python_crawler']"
      ]
     },
     "execution_count": 31,
     "metadata": {},
     "output_type": "execute_result"
    }
   ],
   "source": [
    "soup.find_all(\"\", text = re.compile(\"crawler\")) # 找出所有 text 內容包含 crawler 文字的標籤"
   ]
  },
  {
   "cell_type": "code",
   "execution_count": 27,
   "metadata": {
    "collapsed": false
   },
   "outputs": [
    {
     "name": "stdout",
     "output_type": "stream",
     "text": [
      "[<td class=\"zzzz\">列3 欄4 (我的屬性 class=\"zzzz\")</td>]\n"
     ]
    }
   ],
   "source": [
    "#找出含有td的 tag 且 class 含有4個z的標籤\n",
    "\n",
    "\n",
    "\n",
    "\n",
    "\n",
    "response = requests.get(\"https://jimmy15923.github.io/example_page\")\n",
    "soup = BeautifulSoup(response.text, 'lxml')\n",
    "\n",
    "\n",
    "\n",
    "tag = [\"td\" ]\n",
    "s = soup.find_all(\"\", {\"class\":re.compile(\"z{4}\")}) \n",
    "print(s)"
   ]
  },
  {
   "cell_type": "code",
   "execution_count": null,
   "metadata": {
    "collapsed": true
   },
   "outputs": [],
   "source": []
  },
  {
   "cell_type": "code",
   "execution_count": null,
   "metadata": {
    "collapsed": true
   },
   "outputs": [],
   "source": []
  },
  {
   "cell_type": "markdown",
   "metadata": {},
   "source": [
    "#### 爬蟲範例：ptt網站爬取流程\n",
    "\n",
    "1.從首頁進入\n",
    "2.設定cookie \n",
    "3.取得此頁所有文章的連結\n",
    "4.對各文章原始碼進行處理\n",
    "\n",
    "https://github.com/Openbox7681/CrawlerTurtorial\n",
    "\n"
   ]
  },
  {
   "cell_type": "code",
   "execution_count": 57,
   "metadata": {
    "collapsed": false
   },
   "outputs": [
    {
     "name": "stdout",
     "output_type": "stream",
     "text": [
      "Re: [新聞] 一周斷兩國沒人下台 國民黨酸：完全執政\n",
      "https://www.ptt.cc/bbs/Gossiping/M.1568966221.A.672.html\n",
      "[問卦] 犯罪後有人揹鍋還自首算正義嗎?\n",
      "https://www.ptt.cc/bbs/Gossiping/M.1568966253.A.28B.html\n",
      "[問卦] 館長現在在想什麼\n",
      "https://www.ptt.cc/bbs/Gossiping/M.1568966314.A.CA0.html\n",
      "[問卦] 現在跟台灣建交\n",
      "https://www.ptt.cc/bbs/Gossiping/M.1568966357.A.17B.html\n",
      "Re: [新聞] 粉專一夜暴增2萬讚！　柯澄清：沒錢買讚\n",
      "https://www.ptt.cc/bbs/Gossiping/M.1568966366.A.49D.html\n",
      "[問卦] 妹妹想去costco該怎摸辦\n",
      "https://www.ptt.cc/bbs/Gossiping/M.1568966396.A.76F.html\n",
      "Re: [問卦] 還有幾國有可能會跟台灣斷交？\n",
      "https://www.ptt.cc/bbs/Gossiping/M.1568966434.A.71B.html\n",
      "Re: [新聞] 勞保基金大賺617億元 仍難逃七年後破產\n",
      "https://www.ptt.cc/bbs/Gossiping/M.1568966460.A.C48.html\n",
      "[問卦] 吉里巴斯要到的C919  是不是沒適航證明\n",
      "https://www.ptt.cc/bbs/Gossiping/M.1568966471.A.79D.html\n",
      "Re: [新聞] 一周斷兩國沒人下台 國民黨酸：完全執政\n",
      "https://www.ptt.cc/bbs/Gossiping/M.1568966510.A.961.html\n",
      "Re: Fw: [請益] 負評滿滿的返校\n",
      "https://www.ptt.cc/bbs/Gossiping/M.1568966618.A.707.html\n",
      "Re: [問卦] 一直斷交心情很差怎麼辦？\n",
      "https://www.ptt.cc/bbs/Gossiping/M.1568966619.A.474.html\n",
      "Re: [新聞] 蔡總統學歷遭疑 柯文哲：乾脆把論文公開\n",
      "https://www.ptt.cc/bbs/Gossiping/M.1568966636.A.E30.html\n",
      "Re: [新聞] 連千毅賣賓士行李箱假貨？台灣賓士回應：\n",
      "https://www.ptt.cc/bbs/Gossiping/M.1568966643.A.1F6.html\n",
      "[問卦] 跟女生jj接吻是什麼感覺???\n",
      "https://www.ptt.cc/bbs/Gossiping/M.1568966644.A.A7F.html\n"
     ]
    }
   ],
   "source": [
    "import requests\n",
    "from bs4 import BeautifulSoup\n",
    "from datetime import timedelta\n",
    "import json\n",
    "\n",
    "#從首頁進入並設定cookie\n",
    "\n",
    "\n",
    "ptt = \"https://www.ptt.cc\"\n",
    "url = 'https://www.ptt.cc/bbs/Gossiping/index.html'\n",
    "s = requests.Session()\n",
    "s.post(ptt + \"/ask/over18\", data={'yes': 'yes'})\n",
    "page = s.get(url).text\n",
    "\n",
    "soup = BeautifulSoup(page, features=\"html.parser\")\n",
    "divs = soup.find_all('div', class_='r-ent')\n",
    "for div in divs:\n",
    "    soup_title = BeautifulSoup(str(div), features=\"html.parser\")\n",
    "    title = soup_title.find_all('div', class_='title')\n",
    "    news_title = title[0].text.strip()\n",
    "    try:\n",
    "        link = title[0].find('a')['href'].strip()\n",
    "    except:\n",
    "        continue\n",
    "    \n",
    "    if '[公告]' in news_title or '[協尋]' in news_title:\n",
    "            continue\n",
    "    print(news_title)\n",
    "    print(ptt + link)\n",
    "\n",
    "    \n",
    "    "
   ]
  },
  {
   "cell_type": "code",
   "execution_count": 59,
   "metadata": {
    "collapsed": true
   },
   "outputs": [],
   "source": [
    "#取得文章標題與連結\n",
    "def get_links_from_index(page):\n",
    "    soup = BeautifulSoup(page, features=\"html.parser\")\n",
    "    divs = soup.find_all('div', class_='r-ent')\n",
    "    linkList = list()\n",
    "    for div in divs:\n",
    "        soup_title = BeautifulSoup(str(div), features=\"html.parser\")\n",
    "        title = soup_title.find_all('div', class_='title')\n",
    "        news_title = title[0].text.strip()\n",
    "        try:\n",
    "            link = title[0].find('a')['href'].strip()\n",
    "        except:\n",
    "            continue\n",
    "        if '[公告]' in news_title or '[協尋]' in news_title:\n",
    "            continue\n",
    "        linkList.append([news_title, link])\n",
    "    # 因為每一個 index.html中的文章，最新的那篇是在最底下，所以做個 reversed\n",
    "    # 這樣最新的文章就會是在 linkList[0]\n",
    "    linkList = list(reversed(linkList))\n",
    "    return linkList\n",
    "    \n"
   ]
  },
  {
   "cell_type": "code",
   "execution_count": 62,
   "metadata": {
    "collapsed": false
   },
   "outputs": [
    {
     "name": "stdout",
     "output_type": "stream",
     "text": [
      "[問卦] 跟女生jj接吻是什麼感覺???\n",
      "https://www.ptt.cc/bbs/Gossiping/M.1568966644.A.A7F.html\n",
      "Re: [新聞] 連千毅賣賓士行李箱假貨？台灣賓士回應：\n",
      "https://www.ptt.cc/bbs/Gossiping/M.1568966643.A.1F6.html\n",
      "Re: [新聞] 蔡總統學歷遭疑 柯文哲：乾脆把論文公開\n",
      "https://www.ptt.cc/bbs/Gossiping/M.1568966636.A.E30.html\n",
      "Re: [問卦] 一直斷交心情很差怎麼辦？\n",
      "https://www.ptt.cc/bbs/Gossiping/M.1568966619.A.474.html\n",
      "Re: Fw: [請益] 負評滿滿的返校\n",
      "https://www.ptt.cc/bbs/Gossiping/M.1568966618.A.707.html\n",
      "Re: [新聞] 一周斷兩國沒人下台 國民黨酸：完全執政\n",
      "https://www.ptt.cc/bbs/Gossiping/M.1568966510.A.961.html\n",
      "[問卦] 吉里巴斯要到的C919  是不是沒適航證明\n",
      "https://www.ptt.cc/bbs/Gossiping/M.1568966471.A.79D.html\n",
      "Re: [新聞] 勞保基金大賺617億元 仍難逃七年後破產\n",
      "https://www.ptt.cc/bbs/Gossiping/M.1568966460.A.C48.html\n",
      "Re: [問卦] 還有幾國有可能會跟台灣斷交？\n",
      "https://www.ptt.cc/bbs/Gossiping/M.1568966434.A.71B.html\n",
      "[問卦] 妹妹想去costco該怎摸辦\n",
      "https://www.ptt.cc/bbs/Gossiping/M.1568966396.A.76F.html\n",
      "Re: [新聞] 粉專一夜暴增2萬讚！　柯澄清：沒錢買讚\n",
      "https://www.ptt.cc/bbs/Gossiping/M.1568966366.A.49D.html\n",
      "[問卦] 現在跟台灣建交\n",
      "https://www.ptt.cc/bbs/Gossiping/M.1568966357.A.17B.html\n",
      "[問卦] 館長現在在想什麼\n",
      "https://www.ptt.cc/bbs/Gossiping/M.1568966314.A.CA0.html\n",
      "[問卦] 犯罪後有人揹鍋還自首算正義嗎?\n",
      "https://www.ptt.cc/bbs/Gossiping/M.1568966253.A.28B.html\n",
      "Re: [新聞] 一周斷兩國沒人下台 國民黨酸：完全執政\n",
      "https://www.ptt.cc/bbs/Gossiping/M.1568966221.A.672.html\n"
     ]
    }
   ],
   "source": [
    "linkList= get_links_from_index(page)\n",
    "for title, link in linkList:\n",
    "    print(title)\n",
    "    print(ptt + link)"
   ]
  },
  {
   "cell_type": "code",
   "execution_count": 103,
   "metadata": {
    "collapsed": false
   },
   "outputs": [
    {
     "data": {
      "text/plain": [
       "'ishdtt598 (無止盡的夢是可以駕著砲Q)'"
      ]
     },
     "execution_count": 103,
     "metadata": {},
     "output_type": "execute_result"
    }
   ],
   "source": [
    "link = \"https://www.ptt.cc/bbs/Gossiping/M.1568182643.A.FE8.html\"\n",
    "\n",
    "s = requests.Session()\n",
    "s.post(ptt + \"/ask/over18\", data={'yes': 'yes'})\n",
    "\n",
    "\n",
    "try:\n",
    "    html = s.get(link).text\n",
    "except Exception as e:\n",
    "    html = s.get(link).text\n",
    "\n",
    "soup = BeautifulSoup(html, features=\"html.parser\")\n",
    "meta = soup.find_all('span', class_=\"article-meta-value\")\n",
    "meta[0].getText()"
   ]
  },
  {
   "cell_type": "code",
   "execution_count": 104,
   "metadata": {
    "collapsed": false
   },
   "outputs": [
    {
     "data": {
      "text/plain": [
       "'Gossiping'"
      ]
     },
     "execution_count": 104,
     "metadata": {},
     "output_type": "execute_result"
    }
   ],
   "source": [
    "meta[1].getText()"
   ]
  },
  {
   "cell_type": "code",
   "execution_count": 105,
   "metadata": {
    "collapsed": false
   },
   "outputs": [
    {
     "data": {
      "text/plain": [
       "'[問卦] 欸欸 終於出桶了'"
      ]
     },
     "execution_count": 105,
     "metadata": {},
     "output_type": "execute_result"
    }
   ],
   "source": [
    "meta[2].getText()"
   ]
  },
  {
   "cell_type": "code",
   "execution_count": 106,
   "metadata": {
    "collapsed": false
   },
   "outputs": [
    {
     "data": {
      "text/plain": [
       "'Wed Sep 11 14:17:21 2019'"
      ]
     },
     "execution_count": 106,
     "metadata": {},
     "output_type": "execute_result"
    }
   ],
   "source": [
    "meta[3].getText()"
   ]
  },
  {
   "cell_type": "code",
   "execution_count": 71,
   "metadata": {
    "collapsed": false
   },
   "outputs": [
    {
     "name": "stdout",
     "output_type": "stream",
     "text": [
      "\n"
     ]
    }
   ],
   "source": [
    "txt = soup.find('div', id=\"main-content\")\n",
    "# print(txt)\n",
    "\n",
    "f2 = soup.find_all('span', class_=\"f2\")\n",
    "cut_link = \"\"\n",
    "for i in f2:\n",
    "    if link in i.text:\n",
    "        cut_link  = i.text\n",
    "        break\n",
    "print(cut_link)"
   ]
  },
  {
   "cell_type": "code",
   "execution_count": 72,
   "metadata": {
    "collapsed": false
   },
   "outputs": [
    {
     "ename": "ValueError",
     "evalue": "empty separator",
     "output_type": "error",
     "traceback": [
      "\u001b[0;31m---------------------------------------------------------------------------\u001b[0m",
      "\u001b[0;31mValueError\u001b[0m                                Traceback (most recent call last)",
      "\u001b[0;32m<ipython-input-72-55ba395e7b96>\u001b[0m in \u001b[0;36m<module>\u001b[0;34m\u001b[0m\n\u001b[1;32m      1\u001b[0m \u001b[0mtxt_next\u001b[0m \u001b[0;34m=\u001b[0m \u001b[0mtxt\u001b[0m\u001b[0;34m.\u001b[0m\u001b[0mtext\u001b[0m\u001b[0;34m.\u001b[0m\u001b[0msplit\u001b[0m\u001b[0;34m(\u001b[0m\u001b[0mmeta\u001b[0m\u001b[0;34m[\u001b[0m\u001b[0;36m3\u001b[0m\u001b[0;34m]\u001b[0m\u001b[0;34m.\u001b[0m\u001b[0mtext\u001b[0m\u001b[0;34m)\u001b[0m\u001b[0;34m\u001b[0m\u001b[0;34m\u001b[0m\u001b[0m\n\u001b[0;32m----> 2\u001b[0;31m \u001b[0mtxt_final\u001b[0m \u001b[0;34m=\u001b[0m \u001b[0mtxt_next\u001b[0m\u001b[0;34m[\u001b[0m\u001b[0;36m1\u001b[0m\u001b[0;34m]\u001b[0m\u001b[0;34m.\u001b[0m\u001b[0msplit\u001b[0m\u001b[0;34m(\u001b[0m\u001b[0mcut_link\u001b[0m\u001b[0;34m)\u001b[0m\u001b[0;34m\u001b[0m\u001b[0;34m\u001b[0m\u001b[0m\n\u001b[0m\u001b[1;32m      3\u001b[0m \u001b[0mcont\u001b[0m \u001b[0;34m=\u001b[0m \u001b[0mtxt_final\u001b[0m\u001b[0;34m[\u001b[0m\u001b[0;36m0\u001b[0m\u001b[0;34m]\u001b[0m\u001b[0;34m\u001b[0m\u001b[0;34m\u001b[0m\u001b[0m\n\u001b[1;32m      4\u001b[0m \u001b[0mcont\u001b[0m\u001b[0;34m\u001b[0m\u001b[0;34m\u001b[0m\u001b[0m\n",
      "\u001b[0;31mValueError\u001b[0m: empty separator"
     ]
    }
   ],
   "source": [
    "txt_next = txt.text.split(meta[3].text)\n",
    "txt_final = txt_next[1].split(cut_link)\n",
    "cont = txt_final[0]\n",
    "cont"
   ]
  },
  {
   "cell_type": "code",
   "execution_count": 73,
   "metadata": {
    "collapsed": true
   },
   "outputs": [],
   "source": [
    "#對個文章原始碼進行處理\n",
    "def get_news_content(link, html):\n",
    "    soup = BeautifulSoup(html, features=\"html.parser\")\n",
    "    meta = soup.find_all('span', class_=\"article-meta-value\")\n",
    "    print(meta)\n",
    "    try:\n",
    "        author = meta[0].text\n",
    "        title = meta[2].text\n",
    "        time = meta[3].text\n",
    "    except:\n",
    "        return None\n",
    "    txt = soup.find('div', id=\"main-content\")\n",
    "    f2 = soup.find_all('span', class_=\"f2\")\n",
    "    cut_link = \"\"\n",
    "    \n",
    "    for i in f2:\n",
    "        if link in i.text:\n",
    "            cut_link = i.text\n",
    "            break\n",
    "            \n",
    "    txt_next = txt.text.split(meta[3].text)\n",
    "    \n",
    "    txt_final = txt_next[1].split(cut_link)\n",
    "    cont = txt_final[0]\n",
    "\n",
    "   \n",
    "    txt_next = txt.text.split(meta[3].text)\n",
    "    try:\n",
    "        news = {\n",
    "            'Title': title,\n",
    "            'URL': link,\n",
    "            'Author': author,\n",
    "            'Description': cont,\n",
    "        }\n",
    "        return news\n",
    "\n",
    "    except Exception as e:\n",
    "        print(e)\n",
    "        return None"
   ]
  },
  {
   "cell_type": "code",
   "execution_count": 74,
   "metadata": {
    "collapsed": false
   },
   "outputs": [
    {
     "name": "stdout",
     "output_type": "stream",
     "text": [
      "['作者BoAstala (最愛寶兒)看板Gossiping標題Re: [新聞] 吉里巴斯開口要「7000萬美元737飛機」\\u3000時間', '\\n※ 引述《sony1256 (黃金海岸一日遊)》之銘言：\\n: 吉里巴斯開口要「7000萬美元737飛機」\\u3000陸拿國產C919殺價\\n: 繼16日索羅門群島後，另一太平洋友邦吉里巴斯20日也與我國斷交。根據涉外人士指出，\\n: 在交涉過程中，吉里巴斯開口要求一架價值約7000萬美元的737客機，而陸方原提出約\\n: 3000萬美元的國產C919客機來殺價。\\n: 在索羅門群島斷交後，吉里巴斯也馬上淪陷，我國安會以及外交部高層早啟動緊急因應，\\n: 美方也派人趕赴吉里巴斯，協助我國大使館人員與該國高層溝通。\\n: 涉外人士透露，在交涉過程中，有一項目為吉里巴斯開口要一架價值高達約7000萬美元的\\n: 737客機；不過，陸方覺得金額太高昂，「殺價」用3000多萬美元的C919來換。\\n: 不過，其實大陸針對我邦交國頻頻出手，國安人士評估，其國家領導人習近平面對香港問\\n: 題無法解決下，同時因應10月1日大陸國慶日，以及同月召開的中共四中全會，因此主導\\n: 預算無上限的「台灣介選計畫」，試圖在外交、軍事和觀光等各方面全面打壓，進一步緩\\n: 解其在黨內遭遇的壓力，而「強挖台灣邦交國」為該計畫中一環。\\n: 原文網址: 幕後／吉里巴斯開口要「7000萬美元737飛機」\\u3000陸拿國產C919殺價 |\\n: ETtoday政治 | ETtoday新聞雲\\n:  https://www.ettoday.net/news/20190920/1539617.htm#ixzz602V3SRIY\\n: 慢走不送\\n\\n其實在那麼多斷交的國家中，有什麼具有高影響力的嗎？\\n\\n每次看到斷交的國家，根本都不知道是在地球的什麼地方\\n\\n國際新聞也沒版面\\n\\n就算是那種娛樂性或突發性新聞，也輪不到這些國家\\n\\n搞不懂台灣在這些邦交國身上得到了什麼\\n\\n然後到底撒了多少錢，有沒有人知道\\n\\n有沒有八卦？\\n\\n\\n--\\n※ 發信站: 批踢踢實業坊(ptt.cc), 來自: 113.210.102.74 (馬來西亞)\\n※ 文章網址: https://www.ptt.cc/bbs/Gossiping/M.1568963099.A.730.html\\n推 abelppa: 斷光以後國民黨執政就沒東西罵了   111.71.0.184 09/20 15:06\\n噓 Barrel: 這樣才能買菸阿 ==  1.169.201.145 09/20 15:06\\n推 qq204: 但台灣總統就是喜歡去那些地方灑錢  218.166.31.29 09/20 15:06\\n推 CharleneTsai: 大概就是9月固定在UN大會出來靠夭 36.231.156.184 09/20 15:07\\n→ CharleneTsai: 說要讓ROC重返聯合國這樣 類似NPC的 36.231.156.184 09/20 15:07\\n→ CharleneTsai: 功能 36.231.156.184 09/20 15:07\\n推 williehsuan: 巴拿馬啊~知不知道這個國家有多重要  59.120.78.234 09/20 15:08\\n→ stvn2567: 蔡初次出訪的巴拿馬被捧得很高 結果也 180.176.99.143 09/20 15:09\\n→ stvn2567: 是她任內頭一個斷的國家 180.176.99.143 09/20 15:09\\n→ TaiwanKimchi: 外交部在努力一點 把價格拉高一點 118.232.142.76 09/20 15:09\\n→ TaiwanKimchi: 再努力一點 把價格拉高一點 撐到總 118.232.142.76 09/20 15:10\\n→ TaiwanKimchi: 統大選前 再和牠們斷交啦 118.232.142.76 09/20 15:11\\n推 vlee: 再小的國家都能上聯合國講台，有投票權180.217.176.120 09/20 15:11\\n推 julia66: 投票權有什麼用？人家有否決權 111.252.216.39 09/20 15:14\\n→ wr: 除非台灣能在聯合國拿到2/3的邦交\\u3000不然沒用  61.216.94.163 09/20 15:24\\n推 knives: 都嘛是為了過境美國的理由順便買菸 114.136.130.28 09/20 15:30\\n推 u8809048: 這些邦交國一點用處也沒有  27.242.190.40 09/20 15:40\\n→ Zayines: 覺青有芒果乾配台灣價值就可以生存了   42.76.102.63 09/20 15:44\\n→ nikewang: 邦交國哦 有些窮到連聯合國會員費都繳不  220.84.56.141 09/20 15:48\\n→ nikewang: 出來 還要台灣出錢代繳  220.84.56.141 09/20 15:48\\n']\n"
     ]
    }
   ],
   "source": [
    "link = \"https://www.ptt.cc/bbs/Gossiping/M.1568963099.A.730.html\"\n",
    "html = s.get(link).text\n",
    "soup = BeautifulSoup(html, features=\"html.parser\")\n",
    "meta = soup.find_all('span', class_=\"article-meta-value\")\n",
    "try:\n",
    "    author = meta[0].text\n",
    "    title = meta[2].text\n",
    "    time = meta[3].text\n",
    "except:\n",
    "    pass\n",
    "txt = soup.find('div', id=\"main-content\")\n",
    "f2 = soup.find_all('span', class_=\"f2\")\n",
    "cut_link = \"\"\n",
    "\n",
    "for i in f2:\n",
    "    if link in i.text:\n",
    "        cut_link = i.text\n",
    "        break\n",
    "\n",
    "txt_next = txt.text.split(meta[3].text)\n",
    "\n",
    "txt_final = txt_next[1].split(cut_link)\n",
    "cont = txt_final[0]\n",
    "\n",
    "\n",
    "txt_next = txt.text.split(meta[3].text)\n",
    "print(txt_next)"
   ]
  },
  {
   "cell_type": "code",
   "execution_count": 76,
   "metadata": {
    "collapsed": false
   },
   "outputs": [
    {
     "name": "stdout",
     "output_type": "stream",
     "text": [
      "[<span class=\"article-meta-value\">macaron5566 (ptt最真道理性的id)</span>, <span class=\"article-meta-value\">Gossiping</span>, <span class=\"article-meta-value\">[問卦] 跟女生jj接吻是什麼感覺???</span>, <span class=\"article-meta-value\">Fri Sep 20 16:04:02 2019</span>]\n",
      "[<span class=\"article-meta-value\">talk5566 (中興大學北川景子)</span>, <span class=\"article-meta-value\">Gossiping</span>, <span class=\"article-meta-value\">Re: [新聞] 連千毅賣賓士行李箱假貨？台灣賓士回應：</span>, <span class=\"article-meta-value\">Fri Sep 20 16:04:01 2019</span>]\n",
      "[<span class=\"article-meta-value\">agonist5566 (agonist5566)</span>, <span class=\"article-meta-value\">Gossiping</span>, <span class=\"article-meta-value\">Re: [新聞] 蔡總統學歷遭疑 柯文哲：乾脆把論文公開</span>, <span class=\"article-meta-value\">Fri Sep 20 16:03:54 2019</span>]\n",
      "[<span class=\"article-meta-value\">newsyho (newsyho)</span>, <span class=\"article-meta-value\">Gossiping</span>, <span class=\"article-meta-value\">Re: [問卦] 一直斷交心情很差怎麼辦？</span>, <span class=\"article-meta-value\">Fri Sep 20 16:03:34 2019</span>]\n",
      "[<span class=\"article-meta-value\">jajujo (尚未通過認證)</span>, <span class=\"article-meta-value\">Gossiping</span>, <span class=\"article-meta-value\">Re: Fw: [請益] 負評滿滿的返校</span>, <span class=\"article-meta-value\">Fri Sep 20 16:03:34 2019</span>]\n",
      "[<span class=\"article-meta-value\">backham5566 (阿維)</span>, <span class=\"article-meta-value\">Gossiping</span>, <span class=\"article-meta-value\">Re: [新聞] 一周斷兩國沒人下台 國民黨酸：完全執政</span>, <span class=\"article-meta-value\">Fri Sep 20 16:01:48 2019</span>]\n",
      "[<span class=\"article-meta-value\">isaluku (山本君)</span>, <span class=\"article-meta-value\">Gossiping</span>, <span class=\"article-meta-value\">[問卦] 吉里巴斯要到的C919  是不是沒適航證明</span>, <span class=\"article-meta-value\">Fri Sep 20 16:01:09 2019</span>]\n",
      "[<span class=\"article-meta-value\">starlights (張繼元張承中都共濟會嗎?)</span>, <span class=\"article-meta-value\">Gossiping</span>, <span class=\"article-meta-value\">Re: [新聞] 勞保基金大賺617億元 仍難逃七年後破產</span>, <span class=\"article-meta-value\">Fri Sep 20 16:00:50 2019</span>]\n",
      "[<span class=\"article-meta-value\">truthmanman (rain)</span>, <span class=\"article-meta-value\">Gossiping</span>, <span class=\"article-meta-value\">Re: [問卦] 還有幾國有可能會跟台灣斷交？</span>, <span class=\"article-meta-value\">Fri Sep 20 16:00:32 2019</span>]\n",
      "[<span class=\"article-meta-value\">cychine (來自非洲大草原)</span>, <span class=\"article-meta-value\">Gossiping</span>, <span class=\"article-meta-value\">[問卦] 妹妹想去costco該怎摸辦</span>, <span class=\"article-meta-value\">Fri Sep 20 15:59:53 2019</span>]\n",
      "[<span class=\"article-meta-value\">isud40401 (含兜露胖齁瑞喇)</span>, <span class=\"article-meta-value\">Gossiping</span>, <span class=\"article-meta-value\">Re: [新聞] 粉專一夜暴增2萬讚！　柯澄清：沒錢買讚</span>, <span class=\"article-meta-value\">Fri Sep 20 15:59:22 2019</span>]\n",
      "[<span class=\"article-meta-value\">kigargoal777 (乞丐狗)</span>, <span class=\"article-meta-value\">Gossiping</span>, <span class=\"article-meta-value\">[問卦] 現在跟台灣建交</span>, <span class=\"article-meta-value\">Fri Sep 20 15:59:13 2019</span>]\n",
      "[<span class=\"article-meta-value\">loveup (赤木)</span>, <span class=\"article-meta-value\">Gossiping</span>, <span class=\"article-meta-value\">[問卦] 館長現在在想什麼</span>, <span class=\"article-meta-value\">Fri Sep 20 15:58:32 2019</span>]\n",
      "[<span class=\"article-meta-value\">PanaS0Nic (騙納索零客)</span>, <span class=\"article-meta-value\">Gossiping</span>, <span class=\"article-meta-value\">[問卦] 犯罪後有人揹鍋還自首算正義嗎?</span>, <span class=\"article-meta-value\">Fri Sep 20 15:57:31 2019</span>]\n",
      "[<span class=\"article-meta-value\">zeldo (再笑一回，百憂解)</span>, <span class=\"article-meta-value\">Gossiping</span>, <span class=\"article-meta-value\">Re: [新聞] 一周斷兩國沒人下台 國民黨酸：完全執政</span>, <span class=\"article-meta-value\">Fri Sep 20 15:56:58 2019</span>]\n"
     ]
    },
    {
     "data": {
      "text/plain": [
       "[{'Title': '[問卦] 跟女生jj接吻是什麼感覺???',\n",
       "  'URL': '/bbs/Gossiping/M.1568966644.A.A7F.html',\n",
       "  'Author': 'macaron5566 (ptt最真道理性的id)',\n",
       "  'Description': '\\n間接接吻就是一個人嘴巴碰過的東西\\n\\n另一個人又用嘴巴碰到\\n\\n不同於直接用嘴巴接觸的直接接吻\\n\\n如果（異男）跟女生間接接吻\\n\\n是什麼感覺???\\n\\n什麼都沒碰到也能興奮嗎???\\n\\n--\\n《優質討論風氣獎勵辦法》\\n即日起，將在每個月1日，\\n對上個月內以推文(1)或回文參與我的文章的討論的人之中\\n抽籤選出一名幸運網友，贈送獎金1000p!!!\\n回復越多得獎機會就越多!!!\\n機會難得敬請好好把握!!!\\n\\n--\\n※ 發信站: 批踢踢實業坊(ptt.cc), 來自: 123.194.157.160 (臺灣)\\n'},\n",
       " {'Title': 'Re: [新聞] 連千毅賣賓士行李箱假貨？台灣賓士回應：',\n",
       "  'URL': '/bbs/Gossiping/M.1568966643.A.1F6.html',\n",
       "  'Author': 'talk5566 (中興大學北川景子)',\n",
       "  'Description': '\\n連千毅\\n\\n出來\\n\\n我跟你說\\n\\n你只要說是國外合法購買 並非盜版\\n\\n國內就是可以賣！！\\n\\n\\n別怕\\n\\n我挺你\\n\\n\\n\\n我的十個大麥克不要酸黃瓜\\n\\n紅茶去冰\\n\\n謝謝你\\n\\n\\n每推30p 發前一百推 重複只有一包\\n\\n--\\n\\n台灣價值=造謠\\n\\n--\\n※ 發信站: 批踢踢實業坊(ptt.cc), 來自: 223.138.220.233 (臺灣)\\n'},\n",
       " {'Title': 'Re: [新聞] 蔡總統學歷遭疑 柯文哲：乾脆把論文公開',\n",
       "  'URL': '/bbs/Gossiping/M.1568966636.A.E30.html',\n",
       "  'Author': 'agonist5566 (agonist5566)',\n",
       "  'Description': '\\n柯文哲被吳x輝彭x正打器捐案，蔡英文出來力挺柯，\\n結果→\\n柯師父：「我怨恨小英，民進黨放狗咬我。」\\n\\n蔡被喜樂島彭x正無腦抹黑學歷(黃國昌還幫忙借場地)\\n結果→\\n柯師父：「蔡英文公布論文啊！」\\n\\n柯師父這種言論，\\n大概只有柯粉吞的下去XDDDDDD\\n\\n-----\\nSent from JPTT on my Asus ASUS_X00DDA.\\n\\n--\\n※ 發信站: 批踢踢實業坊(ptt.cc), 來自: 42.75.248.116 (臺灣)\\n'},\n",
       " {'Title': 'Re: [問卦] 一直斷交心情很差怎麼辦？',\n",
       "  'URL': '/bbs/Gossiping/M.1568966619.A.474.html',\n",
       "  'Author': 'newsyho (newsyho)',\n",
       "  'Description': '\\n不用想太多\\n\\n你只要想到阿拉伯\\n\\n就知道跟政府的網路大軍不用認真\\n\\n閉眼睛就知道螢幕後的臉是誰\\n\\n我想都上過新聞應該大家不陌生\\n\\n所以跟這類沒有理性只是討生活的人認真你就輸了\\n\\n資進黨今天說屎是香的他也嘖嘖稱是\\n\\n-----\\nSent from JPTT on my Asus ASUS_Z016D.\\n\\n--\\n※ 發信站: 批踢踢實業坊(ptt.cc), 來自: 111.71.64.206 (臺灣)\\n'},\n",
       " {'Title': 'Re: Fw: [請益] 負評滿滿的返校',\n",
       "  'URL': '/bbs/Gossiping/M.1568966618.A.707.html',\n",
       "  'Author': 'jajujo (尚未通過認證)',\n",
       "  'Description': '\\n拍白色恐怖要怎麼不挑撥族群喇\\n就好像拍納粹殺猶太人\\n也是挑撥族群ㄇ?\\n那麼 一直提南京大屠殺\\n是不是也在挑撥中國人跟日本人之間的矛盾ㄋ\\nㄏㄏ\\n\\n--\\n※ 發信站: 批踢踢實業坊(ptt.cc), 來自: 183.90.37.23 (新加坡)\\n'},\n",
       " {'Title': 'Re: [新聞] 一周斷兩國沒人下台 國民黨酸：完全執政',\n",
       "  'URL': '/bbs/Gossiping/M.1568966510.A.961.html',\n",
       "  'Author': 'backham5566 (阿維)',\n",
       "  'Description': '\\n就事論事 本來就該有人下台\\n\\n那些廢物高官領高薪\\n\\n斷交卻還在那邊裝受害者\\n\\n蔡政府真的噁心\\n\\n台灣甚麼時期外交不困難\\n\\n用這些當藉口\\n\\n錢撒出去\\n\\n芒果乾賣起來\\n\\n斷交不下台\\n\\n垃圾\\n\\n--\\n※ 發信站: 批踢踢實業坊(ptt.cc), 來自: 101.9.65.43 (臺灣)\\n'},\n",
       " {'Title': '[問卦] 吉里巴斯要到的C919  是不是沒適航證明',\n",
       "  'URL': '/bbs/Gossiping/M.1568966471.A.79D.html',\n",
       "  'Author': 'isaluku (山本君)',\n",
       "  'Description': '\\n我記得他目前好像只有獲得歐洲的適航證明？美國聯邦FAA的好像遲遲都不給？\\n\\n帥呆了，想請教一下，這個東西是不是要回來完全沒有辦法飛往美洲和大洋洲國家？\\n\\n吉里巴斯距離大陸8000公里，距離澳洲2000公里，這個飛機要回來之後....看起來只能飛\\n往歐洲了，是嗎？\\n\\n--\\n※ 發信站: 批踢踢實業坊(ptt.cc), 來自: 115.82.210.106 (臺灣)\\n'},\n",
       " {'Title': 'Re: [新聞] 勞保基金大賺617億元 仍難逃七年後破產',\n",
       "  'URL': '/bbs/Gossiping/M.1568966460.A.C48.html',\n",
       "  'Author': 'starlights (張繼元張承中都共濟會嗎?)',\n",
       "  'Description': '\\n※ 引述《liang691206 (liang691206)》之銘言：\\n: 這\\n: 勞保不管怎麼改\\n: 都會破產吧\\n: 簡單的來說\\n: 先姑且不論景氣好壞\\n: 現在領得人越來越多  就業人口越來越少\\n: 且人的平均壽命也變長了\\n: 收支根本趕不上支出\\n: 怎麼看根本沒救了\\n: 若是提高保費  就業人口就會因公司不想付減少\\n: 另外一個方法  就是延後提領\\n: 但不論怎麼做\\n: 只能延後  破產的命運還是不變\\n\\n\\n 破產了,破產了!!!\\n\\n 女鬼說:馬英九和共濟會訂約定,讓台灣有錢,但是撒旦教橫行~~~\\n\\n 共濟會不爽,也能讓台灣破產呢!!!\\n\\n 台灣這四年來,錢沒有變少嗎???\\n\\n 中美貿易沒有影響嗎???\\n\\n 台灣破產破產了!!!\\n\\n 勞保的錢就變成一半而已..\\n\\n 本來領2萬只能領1萬\\n\\n 玉米,小麥都飆漲!!!物價高到大家都餓肚子!!!\\n\\n 台灣破產了!!!\\n\\n selina,張承中把錢拿到國外去過爽爽~~~~~\\n\\n 破產了!!!誰叫你不讓張承中當選!!!\\n\\n 誰叫你們要讓selina被炸!!!阿扁被關!!!\\n\\n 破產了!!!破產了!!!\\n\\n 大家最後變成哪一國的奴隸呢???\\n\\n 民進黨拿到很多中華民國的錢逃走~~~~~\\n\\n 哪有時間幫你建台灣國呢???\\n\\n\\n\\n\\n\\n\\n\\nps:女鬼又加了一句,陳麗麗和中華民國(還中國)的高官還喇嘛都睡過,\\n   是垂簾聽政的太后\\n\\n   真的嗎?\\n\\n\\n\\n--\\n\\n娜娜是蔣緯國和陳麗麗的私生女干我屁事\\n有必要一直說一直說嗎?\\n從2009年纏住我的這一堆妖魔鬼怪到底什麼時候要離開??\\n\\n--\\n※ 發信站: 批踢踢實業坊(ptt.cc), 來自: 118.150.111.165 (臺灣)\\n'},\n",
       " {'Title': 'Re: [問卦] 還有幾國有可能會跟台灣斷交？',\n",
       "  'URL': '/bbs/Gossiping/M.1568966434.A.71B.html',\n",
       "  'Author': 'truthmanman (rain)',\n",
       "  'Description': '\\n台灣政府就放棄那些有危機的邦交國吧\\n人家也是想過上好日子,\\n如果中國可以提供更好的條件,\\n那就放手給予祝福,\\n省下來的錢可以投入國防,健保,長照或基礎建設\\n這樣對大家都好\\n\\n\\n※ 引述《deann (古美門上身)》之銘言：\\n: 現在台灣僅剩下的邦交國 15個\\n: 瓜地馬拉     人口 17,576,000人 (聯合國沒有發聲 有危機 美國控制中)\\n: 海地         人口 11,244,000人 (佛地魔跟媒體皆傳出有斷交危機)\\n: 宏都拉斯     人口  8,412,400人 (媒體跟外交官有傳出斷交危機)\\n: 巴拉圭       人口  7,025,763人 (2018年傳出會斷交 美國控制中)\\n: 尼加拉瓜     人口  6,283,200人 (聯合國沒有發聲 但年初金援30億)\\n: 史瓦帝尼     人口  1,087,200人 (中國積極挖 去年傳出有危機)\\n: 貝里斯       人口    398,050人 (曾嫌過錢少 但暫時應該安全)\\n: 聖露西亞     人口    165,510人 (曾斷交 靠著香蕉又復交)\\n: https://www.setn.com/News.aspx?NewsID=546057\\n: 聖文森       人口    101,844人 (鐵板國 WHA發聲 總統超挺台)\\n: https://www.cna.com.tw/news/aopl/201808070090.aspx\\n: 馬紹爾       人口     75,684人 (騎牆國 但美國控制中)\\n: https://news.tvbs.com.tw/fun/802147\\n: 聖克里斯多福 人口     53,094人 (鐵板國 珍奶控制中)\\n: https://news.ltn.com.tw/news/politics/breakingnews/2780887\\n: 帛琉         人口     21,516人  (雖陸客大減 美國控制中)\\n: https://www.storm.mg/article/488771\\n: 吐瓦魯       人口     11,147人  (最近報傳總理換人 邦交有危機中)\\n: 諾魯         人口      9,692人  (曾經斷交 又再復交)\\n: 教廷         人口      1,000人  (跟中國糾纏中)\\n: 這樣看起來只要美國控制得好 其實我們 至少可以留下 三聖 跟 馬紹爾及帛琉\\n: 其他幾國就隨緣吧 能省則省 不要花大錢了\\n\\n--\\n※ 發信站: 批踢踢實業坊(ptt.cc), 來自: 211.72.195.139 (臺灣)\\n'},\n",
       " {'Title': '[問卦] 妹妹想去costco該怎摸辦',\n",
       "  'URL': '/bbs/Gossiping/M.1568966396.A.76F.html',\n",
       "  'Author': 'cychine (來自非洲大草原)',\n",
       "  'Description': '\\n各位包莖奈米屌小妹們安安\\n\\n妹妹剛剛跟歐尼醬說想去costco要歐尼醬載他\\n\\n可是歐尼醬不想去\\n\\n請問歐尼將該怎摸辦\\n\\n有這方面der八卦嗎?\\n\\n嘻嘻\\n\\n--\\n[八卦文藝復興運動]\\n今天星期一, 我有妹妹文,\\n今天星期二, 我吃宵夜文\\n今天星期三, 我恨母豬文,\\n今天星期四, 我是城武文\\n今天星期五, 我愛五六文,\\n\\n--\\n※ 發信站: 批踢踢實業坊(ptt.cc), 來自: 122.116.159.242 (臺灣)\\n'},\n",
       " {'Title': 'Re: [新聞] 粉專一夜暴增2萬讚！\\u3000柯澄清：沒錢買讚',\n",
       "  'URL': '/bbs/Gossiping/M.1568966366.A.49D.html',\n",
       "  'Author': 'isud40401 (含兜露胖齁瑞喇)',\n",
       "  'Description': '\\n這個現象還蠻有趣的\\n\\n跟前陣子退讚風潮一樣的概念\\n\\n觀察了5次的總統大選\\n\\n就是會有一個先捧上天再狠狠把你摔死的橋段\\n\\n阿扁時期還沒有很明顯\\n\\n最明顯的就馬英九而且剛當選時都是碰上外太空了\\n\\n遇到選舉馬上媒體各種奚落攻擊！\\n\\n不管民調、臉書都變成實質化的攻擊方式\\n\\n套上一個數字、套上一個趨勢很容易讓人以為是真的\\n\\n其實就是有心人的操作吧了！\\n\\n綠色人士在搞什麼鬼東西大家都知\\n\\n藍的有利也會附和做戲\\n\\n真把人民當猴子是吧！\\n※ 引述《kairiyu (E N O U G H  is  enough)》之銘言：\\n: 1.媒體來源:\\n: TVBS\\n: 2.記者署名\\n: 李品誼 羅士朋\\n: 3.完整新聞標題:\\n: 粉專一夜暴增2萬讚！\\u3000柯澄清：沒錢買讚\\n: 4.完整新聞內文:\\n: 柯文哲的臉書粉專，19日晚間突然報增2萬個按讚數，被質疑花錢買讚數，柯文哲澄清，\\n: 他沒有錢買這些東西，而他的臉書小編柯昱安也發現，帳號竟然都是阿拉伯文的人頭帳號\\n: ，直說這種愚蠢的行為，可以停止了。 198萬多個讚，柯文哲的臉書粉專，19日晚間不但\\n: 停止掉粉，按讚數反而暴風成長，遭疑花錢，買讚數！ 台北市長柯文哲：「這一定沒有\\n: 啦不過我發現，我的臉書已經變成網軍的戰場了，不過我先講，我們是絕對沒有錢買任何\\n: 東西。」 澄清按讚暴增，不是我做的，但柯文哲臉書，原本19號晚間7點52分，有196萬\\n: 5399個讚，一個小時內，上升3120個，九點52分，又增加7200多個讚，三個小時後，突破\\n: 197萬5千多，短短4個小時，1.1萬個讚，一夜就有兩萬個網路大軍點讚。\\n: 柯文哲臉書小編柯昱安：「這些都是阿拉伯，阿拉伯文的那個人頭帳號，不管是誰做這種\\n: 事情，對我們來講都是一種，非常愚蠢的行為。」 台北市長柯文哲：「我有阿拉伯聯軍\\n: 是不是，我們有阿拉伯盟軍了嗎，所以就知道這都假的嘛。」 主動揪出殭屍帳號，柯陣\\n: 營抨擊，有心人反操作，但財經網美直指，柯文哲才說要提名，批踢踢名人Z9選立委，Z9\\n: 是公關公司老闆，難不成是用十萬個讚，換提名。 台北市長柯文哲：「問題是他有錢買\\n: 這個嗎？」\\n: 點讚大兵攻佔粉專，柯文哲或許也希望，自己的滿意度也能異軍突起，根據最新調查，六\\n: 都縣市長滿意度，新北、桃園、台南名列前茅，台北市沒上榜。 台北市長柯文哲：「我\\n: 跟你講我沒有最後一名，就很厲害了不會啦，不過現在一定不會最後一名，現在有人墊底\\n: ，(誰墊底)差一兩個月，那個民調不會差很多。 桃園市長鄭文燦：「我覺得一個市長要\\n: 專注，事情才能做得好。」 六都排名老是後段班，比起粉專讚數，柯文哲只盼市民，給\\n: 他的施政滿意，多一點讚！\\n: 5.完整新聞連結 (或短網址):\\n: https://news.tvbs.com.tw/politics/1203578\\n: 6.備註:\\n\\n-----\\nSent from JPTT on my iPad\\n\\n--\\n※ 發信站: 批踢踢實業坊(ptt.cc), 來自: 122.121.53.167 (臺灣)\\n'},\n",
       " {'Title': '[問卦] 現在跟台灣建交',\n",
       "  'URL': '/bbs/Gossiping/M.1568966357.A.17B.html',\n",
       "  'Author': 'kigargoal777 (乞丐狗)',\n",
       "  'Description': '\\n\\n現在跟台灣建交\\n\\n可以先拿到一筆新臺幣\\n\\n然後等著跟中國建交\\n\\n再賺一筆人民幣\\n\\n484血賺\\n\\n各位覺得呢？\\n\\n\\n-----\\nSent from JPTT on my Sony H8296.\\n\\n--\\n※ 發信站: 批踢踢實業坊(ptt.cc), 來自: 114.137.71.153 (臺灣)\\n'},\n",
       " {'Title': '[問卦] 館長現在在想什麼',\n",
       "  'URL': '/bbs/Gossiping/M.1568966314.A.CA0.html',\n",
       "  'Author': 'loveup (赤木)',\n",
       "  'Description': '\\n某連性直播主  連續上新聞三天\\n\\n好像是太高調才被鬧事\\n\\n但是後面好像又被警方搜到仿冒精品\\n\\n之前不是有開YT澄清嗎  還是熱門前10\\n\\n之後館長為了聲量又找他上節目\\n\\n這波操作我真的看不懂\\n\\n你說心心相惜   我說你是風向仔\\n\\n館長要不要出來負責阿\\n\\n不是說洗心革面D好人嗎\\n\\n怎麼這個水這麼深\\n\\n有沒有人解釋一下\\n\\n還是說軍中巧遇人設也會改變    還我軍中巧遇前的館長阿  QQ\\n\\n--\\n※ 發信站: 批踢踢實業坊(ptt.cc), 來自: 61.216.176.115 (臺灣)\\n'},\n",
       " {'Title': '[問卦] 犯罪後有人揹鍋還自首算正義嗎?',\n",
       "  'URL': '/bbs/Gossiping/M.1568966253.A.28B.html',\n",
       "  'Author': 'PanaS0Nic (騙納索零客)',\n",
       "  'Description': '\\n在隔壁版看到的\\n\\n甲男跟乙女通姦\\n\\n後來乙要甲幫忙\\n\\n殺害乙的老公丙\\n\\n甲覺得乙太惡毒\\n\\n就下手把乙殺害\\n\\n湊巧乙的老公丙\\n\\n丙反被認為真兇\\n\\n眼看丙要被處死\\n\\n甲跳出來說冤枉\\n\\n人其實是我殺的\\n\\n人們就說甲正義\\n\\n皇帝就大赦天下\\n\\n讓甲不用受處罰\\n\\n最後甲丙都沒事\\n\\n真的是可喜可賀\\n\\n是說認真問一下\\n\\n甲這樣算正義嗎\\n\\n這八卦有沒有啊\\n\\n--\\n推 Maninck: 我難過1.169.115.158 11/01 15:30\\n推 lbc740602: 的是110.28.227.46 11/01 15:38\\n推 sense735:    放棄1.171.22.44 11/01 15:41\\n→ lingchuon520: 你1.200.41.184 11/01 15:42\\n→ yamabuta7546: 放棄223.140.134.46 11/01 15:42\\n推 peja456: 愛42.77.33.191 11/01 15:44\\n\\n--\\n※ 發信站: 批踢踢實業坊(ptt.cc), 來自: 115.43.36.79 (臺灣)\\n'},\n",
       " {'Title': 'Re: [新聞] 一周斷兩國沒人下台 國民黨酸：完全執政',\n",
       "  'URL': '/bbs/Gossiping/M.1568966221.A.672.html',\n",
       "  'Author': 'zeldo (再笑一回，百憂解)',\n",
       "  'Description': '\\n這口吻和鄉民的說法真是一致呢。雖然背後的看法不一樣。\\n\\n\\n小弟就是不解，一個對我們有侵略意圖、待自己國民殘暴的的國家在每每以銀彈或利誘惡\\n\\n意挖走邦交國的舉動是什麼些措施可以做？除了發表斷交聲明、撤回相關機構跟解散合作\\n\\n設施，再來就是國際上做抗議的聲明，還有哪些可以做？請鄉民說說。\\n\\n\\nKMT噁爛在想藉此繞回跟支那下跪，就可以勾延殘喘的看支那臉色過活。\\n\\n而鄉民就更低劣，找了一堆似是而非的論點就是想說台灣現在的所作所為都是自找的，活\\n\\n該被支那欺負又沒辦法，用加害人的口吻說自己居住的台灣所面臨的處境。\\n\\n偉哉鄉民。\\n\\n--\\n推 songgood: (づ′・ω・）づ 誰在這個個符號試試                    03/07 09:52\\n推 jennykam: (づ′・ω・）づ                                       03/07 09:52\\n→ web946719: (づ′・ω・）づ                                      03/07 09:53\\n推 johnwu:  (づ′・ω・）づ                                        03/07 09:53\\n\\n--\\n※ 發信站: 批踢踢實業坊(ptt.cc), 來自: 1.171.33.101 (臺灣)\\n'}]"
      ]
     },
     "execution_count": 76,
     "metadata": {},
     "output_type": "execute_result"
    }
   ],
   "source": [
    "#取出標題跟網址\n",
    "linkList= get_links_from_index(page)\n",
    "result_list= list()\n",
    "for title, link in linkList:\n",
    "    s = requests.Session()\n",
    "    s.post(ptt + \"/ask/over18\", data={'yes': 'yes'})\n",
    "    try:\n",
    "        html = s.get(ptt + link).text\n",
    "    except Exception as e:\n",
    "        html = s.get(ptt + link).text\n",
    "    data = get_news_content (link,html)\n",
    "    result_list.append(data)\n",
    "result_list\n"
   ]
  },
  {
   "cell_type": "markdown",
   "metadata": {},
   "source": [
    "Q. 請觀察 [台銀匯率網](http://rate.bot.com.tw/xrt?Lang=zh-TW)，並找出所有幣值對應的匯率"
   ]
  },
  {
   "cell_type": "code",
   "execution_count": 11,
   "metadata": {
    "collapsed": false
   },
   "outputs": [
    {
     "data": {
      "text/plain": [
       "[]"
      ]
     },
     "execution_count": 11,
     "metadata": {},
     "output_type": "execute_result"
    }
   ],
   "source": [
    "#Your code\n",
    "\n",
    "import requests\n",
    "from bs4 import BeautifulSoup\n",
    "import re\n",
    "\n",
    "response = requests.get(\"https://rate.bot.com.tw/xrt?Lang=zh-TW\")\n",
    "soup = BeautifulSoup(response.text, 'lxml' )\n",
    "\n",
    "\n",
    "\n",
    "\n",
    "\n",
    "\n",
    "\n",
    "\n",
    "\n",
    "\n",
    "\n",
    "\n",
    "\n",
    "\n",
    "\n",
    "\n",
    "\n",
    "\n",
    "\n",
    "\n"
   ]
  },
  {
   "cell_type": "code",
   "execution_count": 46,
   "metadata": {
    "collapsed": false
   },
   "outputs": [
    {
     "name": "stdout",
     "output_type": "stream",
     "text": [
      "幣別\n",
      "美金 (USD)\n",
      "現金買入\n",
      "30.54\n",
      "現今賣出\n",
      "31.21\n",
      "即期買入\n",
      "30.89\n",
      "即期賣出\n",
      "30.99\n",
      "幣別\n",
      "港幣 (HKD)\n",
      "現金買入\n",
      "3.793\n",
      "現今賣出\n",
      "3.997\n",
      "即期買入\n",
      "3.919\n",
      "即期賣出\n",
      "3.979\n",
      "幣別\n",
      "英鎊 (GBP)\n",
      "現金買入\n",
      "37.72\n",
      "現今賣出\n",
      "39.84\n",
      "即期買入\n",
      "38.72\n",
      "即期賣出\n",
      "39.14\n",
      "幣別\n",
      "澳幣 (AUD)\n",
      "現金買入\n",
      "20.68\n",
      "現今賣出\n",
      "21.46\n",
      "即期買入\n",
      "20.95\n",
      "即期賣出\n",
      "21.18\n",
      "幣別\n",
      "加拿大幣 (CAD)\n",
      "現金買入\n",
      "22.83\n",
      "現今賣出\n",
      "23.74\n",
      "即期買入\n",
      "23.22\n",
      "即期賣出\n",
      "23.44\n",
      "幣別\n",
      "新加坡幣 (SGD)\n",
      "現金買入\n",
      "21.94\n",
      "現今賣出\n",
      "22.85\n",
      "即期買入\n",
      "22.43\n",
      "即期賣出\n",
      "22.61\n",
      "幣別\n",
      "瑞士法郎 (CHF)\n",
      "現金買入\n",
      "30.39\n",
      "現今賣出\n",
      "31.59\n",
      "即期買入\n",
      "31.05\n",
      "即期賣出\n",
      "31.34\n",
      "幣別\n",
      "日圓 (JPY)\n",
      "現金買入\n",
      "0.2776\n",
      "現今賣出\n",
      "0.2904\n",
      "即期買入\n",
      "0.2849\n",
      "即期賣出\n",
      "0.2889\n",
      "幣別\n",
      "南非幣 (ZAR)\n",
      "現金買入\n",
      "-\n",
      "現今賣出\n",
      "-\n",
      "即期買入\n",
      "2.05\n",
      "即期賣出\n",
      "2.13\n",
      "幣別\n",
      "瑞典幣 (SEK)\n",
      "現金買入\n",
      "2.81\n",
      "現今賣出\n",
      "3.33\n",
      "即期買入\n",
      "3.15\n",
      "即期賣出\n",
      "3.25\n",
      "幣別\n",
      "紐元 (NZD)\n",
      "現金買入\n",
      "19.03\n",
      "現今賣出\n",
      "19.88\n",
      "即期買入\n",
      "19.41\n",
      "即期賣出\n",
      "19.61\n",
      "幣別\n",
      "泰幣 (THB)\n",
      "現金買入\n",
      "0.8916\n",
      "現今賣出\n",
      "1.0796\n",
      "即期買入\n",
      "1.0002\n",
      "即期賣出\n",
      "1.0402\n",
      "幣別\n",
      "菲國比索 (PHP)\n",
      "現金買入\n",
      "0.5212\n",
      "現今賣出\n",
      "0.6542\n",
      "即期買入\n",
      "-\n",
      "即期賣出\n",
      "-\n",
      "幣別\n",
      "印尼幣 (IDR)\n",
      "現金買入\n",
      "0.00188\n",
      "現今賣出\n",
      "0.00258\n",
      "即期買入\n",
      "-\n",
      "即期賣出\n",
      "-\n",
      "幣別\n",
      "歐元 (EUR)\n",
      "現金買入\n",
      "33.39\n",
      "現今賣出\n",
      "34.73\n",
      "即期買入\n",
      "34.01\n",
      "即期賣出\n",
      "34.41\n",
      "幣別\n",
      "韓元 (KRW)\n",
      "現金買入\n",
      "0.02431\n",
      "現今賣出\n",
      "0.02821\n",
      "即期買入\n",
      "-\n",
      "即期賣出\n",
      "-\n",
      "幣別\n",
      "越南盾 (VND)\n",
      "現金買入\n",
      "0.00096\n",
      "現今賣出\n",
      "0.00146\n",
      "即期買入\n",
      "-\n",
      "即期賣出\n",
      "-\n",
      "幣別\n",
      "馬來幣 (MYR)\n",
      "現金買入\n",
      "6.296\n",
      "現今賣出\n",
      "7.94\n",
      "即期買入\n",
      "-\n",
      "即期賣出\n",
      "-\n",
      "幣別\n",
      "人民幣 (CNY)\n",
      "現金買入\n",
      "4.275\n",
      "現今賣出\n",
      "4.437\n",
      "即期買入\n",
      "4.347\n",
      "即期賣出\n",
      "4.397\n"
     ]
    }
   ],
   "source": [
    "#Your code\n",
    "\n",
    "import requests\n",
    "from bs4 import BeautifulSoup\n",
    "import re\n",
    "\n",
    "response = requests.get(\"https://rate.bot.com.tw/xrt?Lang=zh-TW\")\n",
    "soup = BeautifulSoup(response.text, 'lxml' )\n",
    "\n",
    "s = soup.find_all([\"div\",\"td\"],{\"class\": [\"visible-phone print_hide\" , re.compile(\"rate-content.*\")]})\n",
    "\n",
    "\n",
    "for i in range(0,len(s),5):\n",
    "    print(\"幣別\")\n",
    "    print(s[i].text.strip())\n",
    "    print(\"現金買入\")\n",
    "    print(s[i+1].text.strip())\n",
    "    print(\"現今賣出\")\n",
    "    print(s[i+2].text.strip())\n",
    "    print(\"即期買入\")\n",
    "    print(s[i+3].text.strip())\n",
    "    print(\"即期賣出\")\n",
    "    print(s[i+4].text.strip())"
   ]
  },
  {
   "cell_type": "code",
   "execution_count": 37,
   "metadata": {
    "collapsed": false
   },
   "outputs": [
    {
     "ename": "SyntaxError",
     "evalue": "Missing parentheses in call to 'print'. Did you mean print(index)? (<ipython-input-37-030b6630de95>, line 19)",
     "output_type": "error",
     "traceback": [
      "\u001b[0;36m  File \u001b[0;32m\"<ipython-input-37-030b6630de95>\"\u001b[0;36m, line \u001b[0;32m19\u001b[0m\n\u001b[0;31m    print index\u001b[0m\n\u001b[0m              ^\u001b[0m\n\u001b[0;31mSyntaxError\u001b[0m\u001b[0;31m:\u001b[0m Missing parentheses in call to 'print'. Did you mean print(index)?\n"
     ]
    }
   ],
   "source": [
    "import requests\n",
    "from bs4 import BeautifulSoup\n",
    "import re\n",
    "\n",
    "response = requests.get(\"http://rate.bot.com.tw/xrt?Lang=zh-TW\")\n",
    "soup = BeautifulSoup(response.text, 'lxml' )\n",
    "# print(soup)\n",
    "s = soup.find_all([\"div\",\"td\"],class_ = [\"visible-phone print_hide\" , \"rate-content-cash text-right print_hide\"])\n",
    "# # print(s)\n",
    "# for item in s:\n",
    "#     print item\n",
    "for item in s :\n",
    "    print(item.text.strip())\n",
    "\n",
    "\n",
    "result = list()\n",
    "for item in s :\n",
    "    index = item.text.strip()\n",
    "    print index\n",
    "    result.append(index)    \n",
    "for item in result:\n",
    "    print item\n",
    "    "
   ]
  },
  {
   "cell_type": "code",
   "execution_count": null,
   "metadata": {
    "collapsed": true
   },
   "outputs": [],
   "source": []
  }
 ],
 "metadata": {
  "anaconda-cloud": {},
  "kernelspec": {
   "display_name": "Python 3",
   "language": "python",
   "name": "python3"
  },
  "language_info": {
   "codemirror_mode": {
    "name": "ipython",
    "version": 3
   },
   "file_extension": ".py",
   "mimetype": "text/x-python",
   "name": "python",
   "nbconvert_exporter": "python",
   "pygments_lexer": "ipython3",
   "version": "3.7.4"
  }
 },
 "nbformat": 4,
 "nbformat_minor": 1
}
